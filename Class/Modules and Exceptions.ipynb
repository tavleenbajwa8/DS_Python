{
 "cells": [
  {
   "cell_type": "markdown",
   "id": "0c9ca7cf",
   "metadata": {},
   "source": [
    "# Modules"
   ]
  },
  {
   "cell_type": "code",
   "execution_count": 1,
   "id": "0e01cfc5",
   "metadata": {},
   "outputs": [],
   "source": [
    "import math"
   ]
  },
  {
   "cell_type": "code",
   "execution_count": 2,
   "id": "28809ebb",
   "metadata": {},
   "outputs": [
    {
     "data": {
      "text/plain": [
       "2.0"
      ]
     },
     "execution_count": 2,
     "metadata": {},
     "output_type": "execute_result"
    }
   ],
   "source": [
    "math.sqrt(4)"
   ]
  },
  {
   "cell_type": "code",
   "execution_count": 3,
   "id": "c5793c7b",
   "metadata": {},
   "outputs": [],
   "source": [
    "from math import sqrt"
   ]
  },
  {
   "cell_type": "code",
   "execution_count": 4,
   "id": "f9cf8e47",
   "metadata": {},
   "outputs": [
    {
     "data": {
      "text/plain": [
       "2.23606797749979"
      ]
     },
     "execution_count": 4,
     "metadata": {},
     "output_type": "execute_result"
    }
   ],
   "source": [
    "sqrt(5)"
   ]
  },
  {
   "cell_type": "code",
   "execution_count": 5,
   "id": "51c1d3f7",
   "metadata": {},
   "outputs": [],
   "source": [
    "from math import sqrt, pi"
   ]
  },
  {
   "cell_type": "code",
   "execution_count": 6,
   "id": "e6fde483",
   "metadata": {},
   "outputs": [
    {
     "data": {
      "text/plain": [
       "3.141592653589793"
      ]
     },
     "execution_count": 6,
     "metadata": {},
     "output_type": "execute_result"
    }
   ],
   "source": [
    "pi"
   ]
  },
  {
   "cell_type": "code",
   "execution_count": 7,
   "id": "6651a1a2",
   "metadata": {},
   "outputs": [],
   "source": [
    "#To import everything from math module use *\n",
    "\n",
    "from math import *"
   ]
  },
  {
   "cell_type": "code",
   "execution_count": 8,
   "id": "e15ccf2c",
   "metadata": {},
   "outputs": [
    {
     "data": {
      "text/plain": [
       "0.0"
      ]
     },
     "execution_count": 8,
     "metadata": {},
     "output_type": "execute_result"
    }
   ],
   "source": [
    "sin(0)"
   ]
  },
  {
   "cell_type": "code",
   "execution_count": 9,
   "id": "5212115d",
   "metadata": {},
   "outputs": [
    {
     "data": {
      "text/plain": [
       "2.6457513110645907"
      ]
     },
     "execution_count": 9,
     "metadata": {},
     "output_type": "execute_result"
    }
   ],
   "source": [
    "sqrt(7)"
   ]
  },
  {
   "cell_type": "code",
   "execution_count": 10,
   "id": "742b008b",
   "metadata": {},
   "outputs": [
    {
     "data": {
      "text/plain": [
       "3.141592653589793"
      ]
     },
     "execution_count": 10,
     "metadata": {},
     "output_type": "execute_result"
    }
   ],
   "source": [
    "pi"
   ]
  },
  {
   "cell_type": "code",
   "execution_count": 11,
   "id": "bd771617",
   "metadata": {},
   "outputs": [
    {
     "data": {
      "text/plain": [
       "'C:\\\\Users\\\\Lakshya\\\\DS_Python'"
      ]
     },
     "execution_count": 11,
     "metadata": {},
     "output_type": "execute_result"
    }
   ],
   "source": [
    "pwd()"
   ]
  },
  {
   "cell_type": "code",
   "execution_count": 12,
   "id": "050164d3",
   "metadata": {},
   "outputs": [
    {
     "name": "stdout",
     "output_type": "stream",
     "text": [
      "This is my first module ever\n"
     ]
    }
   ],
   "source": [
    "import test"
   ]
  },
  {
   "cell_type": "code",
   "execution_count": 13,
   "id": "ed5a2e47",
   "metadata": {},
   "outputs": [],
   "source": [
    "import test"
   ]
  },
  {
   "cell_type": "code",
   "execution_count": 14,
   "id": "46d0f6df",
   "metadata": {},
   "outputs": [],
   "source": [
    "import test"
   ]
  },
  {
   "cell_type": "code",
   "execution_count": 15,
   "id": "24d448f6",
   "metadata": {},
   "outputs": [],
   "source": [
    "import test"
   ]
  },
  {
   "cell_type": "code",
   "execution_count": 16,
   "id": "e786d930",
   "metadata": {},
   "outputs": [],
   "source": [
    "import imp"
   ]
  },
  {
   "cell_type": "code",
   "execution_count": 17,
   "id": "1dfaaf51",
   "metadata": {},
   "outputs": [
    {
     "name": "stdout",
     "output_type": "stream",
     "text": [
      "This is my first module ever\n"
     ]
    },
    {
     "data": {
      "text/plain": [
       "<module 'test' from 'C:\\\\Users\\\\Lakshya\\\\DS_Python\\\\test.py'>"
      ]
     },
     "execution_count": 17,
     "metadata": {},
     "output_type": "execute_result"
    }
   ],
   "source": [
    "imp.reload(test)"
   ]
  },
  {
   "cell_type": "code",
   "execution_count": 18,
   "id": "933954d8",
   "metadata": {},
   "outputs": [],
   "source": [
    "import addition"
   ]
  },
  {
   "cell_type": "code",
   "execution_count": 19,
   "id": "9f1ba049",
   "metadata": {},
   "outputs": [
    {
     "data": {
      "text/plain": [
       "12"
      ]
     },
     "execution_count": 19,
     "metadata": {},
     "output_type": "execute_result"
    }
   ],
   "source": [
    "addition.addition1(4,8)"
   ]
  },
  {
   "cell_type": "code",
   "execution_count": 20,
   "id": "a2e5c2d7",
   "metadata": {},
   "outputs": [
    {
     "data": {
      "text/plain": [
       "32"
      ]
     },
     "execution_count": 20,
     "metadata": {},
     "output_type": "execute_result"
    }
   ],
   "source": [
    "addition.multiplication(4,8)"
   ]
  },
  {
   "cell_type": "markdown",
   "id": "bf0901ac",
   "metadata": {},
   "source": [
    "#In modular coding we write all the functions in a seperate Text file(.py) and call them in the console as per requirement."
   ]
  },
  {
   "cell_type": "code",
   "execution_count": 21,
   "id": "62b2bf77",
   "metadata": {},
   "outputs": [],
   "source": [
    "import test2"
   ]
  },
  {
   "cell_type": "code",
   "execution_count": 22,
   "id": "ba97fc94",
   "metadata": {},
   "outputs": [
    {
     "data": {
      "text/plain": [
       "'I like only ml course'"
      ]
     },
     "execution_count": 22,
     "metadata": {},
     "output_type": "execute_result"
    }
   ],
   "source": [
    "test2.getmsg()"
   ]
  },
  {
   "cell_type": "code",
   "execution_count": 23,
   "id": "06454aa1",
   "metadata": {},
   "outputs": [],
   "source": [
    "from test2 import getcourse"
   ]
  },
  {
   "cell_type": "code",
   "execution_count": 24,
   "id": "06d6a47d",
   "metadata": {},
   "outputs": [],
   "source": [
    "import os"
   ]
  },
  {
   "cell_type": "code",
   "execution_count": 25,
   "id": "0fe5c0d2",
   "metadata": {},
   "outputs": [
    {
     "ename": "FileExistsError",
     "evalue": "[WinError 183] Cannot create a file when that file already exists: 'test'",
     "output_type": "error",
     "traceback": [
      "\u001b[1;31m---------------------------------------------------------------------------\u001b[0m",
      "\u001b[1;31mFileExistsError\u001b[0m                           Traceback (most recent call last)",
      "\u001b[1;32m<ipython-input-25-90ba2ceae59e>\u001b[0m in \u001b[0;36m<module>\u001b[1;34m\u001b[0m\n\u001b[1;32m----> 1\u001b[1;33m \u001b[0mos\u001b[0m\u001b[1;33m.\u001b[0m\u001b[0mmkdir\u001b[0m\u001b[1;33m(\u001b[0m\u001b[1;34m\"test\"\u001b[0m\u001b[1;33m)\u001b[0m\u001b[1;33m\u001b[0m\u001b[1;33m\u001b[0m\u001b[0m\n\u001b[0m",
      "\u001b[1;31mFileExistsError\u001b[0m: [WinError 183] Cannot create a file when that file already exists: 'test'"
     ]
    }
   ],
   "source": [
    "os.mkdir(\"test\")"
   ]
  },
  {
   "cell_type": "code",
   "execution_count": null,
   "id": "ed838985",
   "metadata": {},
   "outputs": [],
   "source": [
    "pwd()"
   ]
  },
  {
   "cell_type": "code",
   "execution_count": null,
   "id": "9088dfe8",
   "metadata": {},
   "outputs": [],
   "source": [
    "os.chdir(os.getcwd() + \"/\" + \"test\")"
   ]
  },
  {
   "cell_type": "code",
   "execution_count": null,
   "id": "9fc66300",
   "metadata": {},
   "outputs": [],
   "source": [
    "pwd()"
   ]
  },
  {
   "cell_type": "code",
   "execution_count": null,
   "id": "fb1d0710",
   "metadata": {},
   "outputs": [],
   "source": [
    "l = [1,3,4,5,7]\n",
    "def fn22(l):\n",
    "    return(l*2)"
   ]
  },
  {
   "cell_type": "code",
   "execution_count": null,
   "id": "afb8f031",
   "metadata": {},
   "outputs": [],
   "source": [
    "fn22(l)"
   ]
  },
  {
   "cell_type": "code",
   "execution_count": null,
   "id": "e76dd686",
   "metadata": {},
   "outputs": [],
   "source": [
    "l1 = [1,3,4,5,7]\n",
    "a = 5\n",
    "def fn12(l1):\n",
    "    return(l1 + 5)"
   ]
  },
  {
   "cell_type": "code",
   "execution_count": null,
   "id": "cd0f2a4d",
   "metadata": {},
   "outputs": [],
   "source": [
    "fn12(l1)"
   ]
  },
  {
   "cell_type": "markdown",
   "id": "62e90e68",
   "metadata": {},
   "source": [
    "#Exception Handling"
   ]
  },
  {
   "cell_type": "code",
   "execution_count": null,
   "id": "32202fa9",
   "metadata": {},
   "outputs": [],
   "source": [
    "print(\"jehfafke)\n",
    "      \n",
    "      \n",
    "#Syntactical error or Compile time error/issue"
   ]
  },
  {
   "cell_type": "code",
   "execution_count": null,
   "id": "236303f4",
   "metadata": {},
   "outputs": [],
   "source": [
    "def test():\n",
    "    return 5/0"
   ]
  },
  {
   "cell_type": "code",
   "execution_count": null,
   "id": "90ff3bd6",
   "metadata": {},
   "outputs": [],
   "source": [
    "test()\n",
    "\n",
    "\n"
   ]
  },
  {
   "cell_type": "code",
   "execution_count": null,
   "id": "db6ea167",
   "metadata": {},
   "outputs": [],
   "source": [
    "def test(a,b):\n",
    "    return a/b"
   ]
  },
  {
   "cell_type": "code",
   "execution_count": null,
   "id": "f0da3f2d",
   "metadata": {},
   "outputs": [],
   "source": [
    "test(4,7)"
   ]
  },
  {
   "cell_type": "code",
   "execution_count": null,
   "id": "b2aabf34",
   "metadata": {},
   "outputs": [],
   "source": [
    "#Exception handling comes into picture when we do not about the errors that can happen,\n",
    "#have to write it in every function or code."
   ]
  },
  {
   "cell_type": "code",
   "execution_count": null,
   "id": "60f80a92",
   "metadata": {},
   "outputs": [],
   "source": [
    "#We usually hanle the run time exceptions "
   ]
  },
  {
   "cell_type": "code",
   "execution_count": null,
   "id": "f91aca54",
   "metadata": {},
   "outputs": [],
   "source": [
    "a = open(\"test.txt\", 'r')"
   ]
  },
  {
   "cell_type": "code",
   "execution_count": null,
   "id": "a792d288",
   "metadata": {},
   "outputs": [],
   "source": [
    "try:\n",
    "    a = open(\"test.txt\", 'r')\n",
    "except:\n",
    "    pass\n",
    "    "
   ]
  },
  {
   "cell_type": "code",
   "execution_count": null,
   "id": "27088125",
   "metadata": {},
   "outputs": [],
   "source": [
    "try:\n",
    "    a = open(\"test.txt\", 'r')\n",
    "except:\n",
    "    print(\"There is some issue with my code\")"
   ]
  },
  {
   "cell_type": "code",
   "execution_count": null,
   "id": "733e084a",
   "metadata": {},
   "outputs": [],
   "source": [
    "#IOError: Input Output Error\n",
    "\n",
    "try:\n",
    "    a = open(\"test.txt\", 'r')\n",
    "except IOError:\n",
    "    print(\"There is some issue with my code\")"
   ]
  },
  {
   "cell_type": "code",
   "execution_count": null,
   "id": "4556a61a",
   "metadata": {},
   "outputs": [],
   "source": [
    "#This is not an Inputoutput error but an arithmatic error.\n",
    "\n",
    "try:\n",
    "    a = 5/0\n",
    "except IOError:\n",
    "    print(\"There is some issue with my code\")"
   ]
  },
  {
   "cell_type": "code",
   "execution_count": null,
   "id": "a2cfecfd",
   "metadata": {},
   "outputs": [],
   "source": [
    "try:\n",
    "    a = 5/0\n",
    "except ArithmeticError as e:\n",
    "    print(\"There is some issue with my code\", e)\n",
    "else:\n",
    "    print(\"This will execute once without any problem\")"
   ]
  },
  {
   "cell_type": "code",
   "execution_count": null,
   "id": "857a37a0",
   "metadata": {},
   "outputs": [],
   "source": [
    "try:\n",
    "    a = 5/4\n",
    "except ArithmeticError as e:\n",
    "    print(\"There is some issue with my code\", e)\n",
    "else:\n",
    "    print(\"This will execute once without any problem\")"
   ]
  },
  {
   "cell_type": "code",
   "execution_count": null,
   "id": "c6a1e569",
   "metadata": {},
   "outputs": [],
   "source": [
    "try:\n",
    "    a = 5/4\n",
    "except ArithmeticError as e:\n",
    "    print(\"There is some issue with my code\", e)\n",
    "else:\n",
    "    print(\"This will execute once without any problem\")\n",
    "    try:\n",
    "        f = open(\"test.txt\", 'r')\n",
    "    except:\n",
    "        print(\"This is an issue with inter\")\n",
    "        \n",
    "    "
   ]
  },
  {
   "cell_type": "code",
   "execution_count": null,
   "id": "d2bea31a",
   "metadata": {},
   "outputs": [],
   "source": [
    "try:\n",
    "    a = int(input(\"Enter number a: \"))\n",
    "    b = int(input(\"Enter number b: \"))\n",
    "    c = a/b\n",
    "except ArithmeticError as e:\n",
    "    print(\"There is some issue with my code\", e)\n",
    "    f = open(\"test.txt\", 'w+')\n",
    "    f.read()\n",
    "else:\n",
    "    print(\"This will execute once without any problem\")\n",
    "    try:\n",
    "        f = open(\"test.txt\", 'r')\n",
    "    except:\n",
    "        print(\"This is an issue with internal try block\")"
   ]
  },
  {
   "cell_type": "code",
   "execution_count": null,
   "id": "c093c3de",
   "metadata": {},
   "outputs": [],
   "source": [
    "l = [1,2,3,4,5]\n",
    "print(l[100])\n",
    "t = (6,7,8,9,10)\n",
    "print(t)\n",
    "t[0] : \"Penn\""
   ]
  },
  {
   "cell_type": "code",
   "execution_count": null,
   "id": "03209804",
   "metadata": {},
   "outputs": [],
   "source": [
    "try:\n",
    "    l = [1,2,3,4,5]\n",
    "    print(l[100])\n",
    "except:\n",
    "    print(\"There is an issue with my code\")\n",
    "    t = (6,7,8,9,10)\n",
    "    print(t)\n",
    "else:\n",
    "    print(\"There is no issue with my code\")"
   ]
  },
  {
   "cell_type": "code",
   "execution_count": null,
   "id": "37b211e4",
   "metadata": {},
   "outputs": [],
   "source": [
    "try:\n",
    "    l = [1,2,3,4,5]\n",
    "    print(l[100])\n",
    "except:\n",
    "    print(\"There is an issue with my code\")\n",
    "    t = (6,7,8,9,10)\n",
    "    t[0]: \"Penn\"\n",
    "else:\n",
    "    print(\"There is no issue with my code\")\n",
    "    "
   ]
  },
  {
   "cell_type": "code",
   "execution_count": null,
   "id": "e9d83cec",
   "metadata": {},
   "outputs": [],
   "source": [
    "try:\n",
    "    l = [1,2,3,4,5]\n",
    "    print(l[100])\n",
    "except:\n",
    "    print(\"There is an issue with my code\")\n",
    "    t = (6,7,8,9,10)\n",
    "    print(t)\n",
    "    try:\n",
    "        t[0]: \"Penn\"\n",
    "        try:\n",
    "            list(t)\n",
    "            print(t)\n",
    "        except:\n",
    "            pass\n",
    "    except:\n",
    "        pass\n",
    "            \n",
    "else:\n",
    "    print(\"There is no issue with my code\")\n",
    "    "
   ]
  },
  {
   "cell_type": "code",
   "execution_count": null,
   "id": "8fd19e1d",
   "metadata": {},
   "outputs": [],
   "source": [
    "#Try and Finally"
   ]
  },
  {
   "cell_type": "code",
   "execution_count": null,
   "id": "abbcf0ea",
   "metadata": {},
   "outputs": [],
   "source": [
    "try:\n",
    "    f = open(\"test1.txt\", 'r')\n",
    "finally:\n",
    "    print(\"Finally, I will execute in any case\")\n",
    "    l = [1,2,3,5,6]\n",
    "    print(l[0])\n",
    "    \n",
    "    "
   ]
  },
  {
   "cell_type": "code",
   "execution_count": null,
   "id": "d9ccd758",
   "metadata": {},
   "outputs": [],
   "source": [
    "try:\n",
    "    f = open(\"test1.txt\", 'w+')\n",
    "except:\n",
    "    pass\n",
    "else:\n",
    "    print(\"Else will execute if try will execute with suc\")\n",
    "finally:\n",
    "    print(\"Finally, I will execute in any case\")\n",
    "    l = [1,2,3,5,6]\n",
    "    try:\n",
    "        print(l[10])\n",
    "    except:\n",
    "        pass\n",
    "    \n",
    "    "
   ]
  },
  {
   "cell_type": "code",
   "execution_count": null,
   "id": "b3457b01",
   "metadata": {},
   "outputs": [],
   "source": [
    "#Try except else finally in all codes"
   ]
  },
  {
   "cell_type": "code",
   "execution_count": null,
   "id": "34bb65f4",
   "metadata": {},
   "outputs": [],
   "source": [
    "#Can we handle multiple except and else statements in the same indentation?"
   ]
  },
  {
   "cell_type": "code",
   "execution_count": null,
   "id": "bf032a15",
   "metadata": {},
   "outputs": [],
   "source": [
    "def askforint():\n",
    "    while True:\n",
    "        try:\n",
    "            a = int(input(\"Enter the integer value: \"))\n",
    "        except Exception as e:\n",
    "            print(\"There is an error\" , e)\n",
    "        else:\n",
    "            print(\"Correct value is entered\")\n",
    "            break\n",
    "        finally:\n",
    "            print(\"Close this issue\")"
   ]
  },
  {
   "cell_type": "code",
   "execution_count": null,
   "id": "0ebd38d9",
   "metadata": {},
   "outputs": [],
   "source": [
    "askforint()"
   ]
  },
  {
   "cell_type": "code",
   "execution_count": 29,
   "id": "5261ff93",
   "metadata": {},
   "outputs": [],
   "source": [
    "def askforint():\n",
    "    while True:\n",
    "        try:\n",
    "            a = int(input(\"Enter the integer value: \"))\n",
    "            c = 8/a\n",
    "        except FileNotFoundError as e:\n",
    "            print(\"This is my error message\", e)\n",
    "        except IOFError as e:\n",
    "            print(e)\n",
    "        except ValueError as e:\n",
    "            print(e)\n",
    "        except ZeroDivisionError as e:\n",
    "            print(e)\n",
    "        except Exception as e:\n",
    "            print(e)\n",
    "        except ArithmeticError as e:\n",
    "            print(e)\n",
    "        else:\n",
    "            print(\"Correct value is entered\")\n",
    "            break\n",
    "        finally:\n",
    "            print(\"Close this issue\")"
   ]
  },
  {
   "cell_type": "code",
   "execution_count": 31,
   "id": "cfb2a23d",
   "metadata": {},
   "outputs": [
    {
     "name": "stdout",
     "output_type": "stream",
     "text": [
      "Enter the integer value: 0\n",
      "Close this issue\n"
     ]
    },
    {
     "ename": "NameError",
     "evalue": "name 'IOFError' is not defined",
     "output_type": "error",
     "traceback": [
      "\u001b[1;31m---------------------------------------------------------------------------\u001b[0m",
      "\u001b[1;31mZeroDivisionError\u001b[0m                         Traceback (most recent call last)",
      "\u001b[1;32m<ipython-input-29-6ee9fa5508c2>\u001b[0m in \u001b[0;36maskforint\u001b[1;34m()\u001b[0m\n\u001b[0;32m      4\u001b[0m             \u001b[0ma\u001b[0m \u001b[1;33m=\u001b[0m \u001b[0mint\u001b[0m\u001b[1;33m(\u001b[0m\u001b[0minput\u001b[0m\u001b[1;33m(\u001b[0m\u001b[1;34m\"Enter the integer value: \"\u001b[0m\u001b[1;33m)\u001b[0m\u001b[1;33m)\u001b[0m\u001b[1;33m\u001b[0m\u001b[1;33m\u001b[0m\u001b[0m\n\u001b[1;32m----> 5\u001b[1;33m             \u001b[0mc\u001b[0m \u001b[1;33m=\u001b[0m \u001b[1;36m8\u001b[0m\u001b[1;33m/\u001b[0m\u001b[0ma\u001b[0m\u001b[1;33m\u001b[0m\u001b[1;33m\u001b[0m\u001b[0m\n\u001b[0m\u001b[0;32m      6\u001b[0m         \u001b[1;32mexcept\u001b[0m \u001b[0mFileNotFoundError\u001b[0m \u001b[1;32mas\u001b[0m \u001b[0me\u001b[0m\u001b[1;33m:\u001b[0m\u001b[1;33m\u001b[0m\u001b[1;33m\u001b[0m\u001b[0m\n",
      "\u001b[1;31mZeroDivisionError\u001b[0m: division by zero",
      "\nDuring handling of the above exception, another exception occurred:\n",
      "\u001b[1;31mNameError\u001b[0m                                 Traceback (most recent call last)",
      "\u001b[1;32m<ipython-input-31-80c9c030d41a>\u001b[0m in \u001b[0;36m<module>\u001b[1;34m\u001b[0m\n\u001b[1;32m----> 1\u001b[1;33m \u001b[0maskforint\u001b[0m\u001b[1;33m(\u001b[0m\u001b[1;33m)\u001b[0m\u001b[1;33m\u001b[0m\u001b[1;33m\u001b[0m\u001b[0m\n\u001b[0m",
      "\u001b[1;32m<ipython-input-29-6ee9fa5508c2>\u001b[0m in \u001b[0;36maskforint\u001b[1;34m()\u001b[0m\n\u001b[0;32m      6\u001b[0m         \u001b[1;32mexcept\u001b[0m \u001b[0mFileNotFoundError\u001b[0m \u001b[1;32mas\u001b[0m \u001b[0me\u001b[0m\u001b[1;33m:\u001b[0m\u001b[1;33m\u001b[0m\u001b[1;33m\u001b[0m\u001b[0m\n\u001b[0;32m      7\u001b[0m             \u001b[0mprint\u001b[0m\u001b[1;33m(\u001b[0m\u001b[1;34m\"This is my error message\"\u001b[0m\u001b[1;33m,\u001b[0m \u001b[0me\u001b[0m\u001b[1;33m)\u001b[0m\u001b[1;33m\u001b[0m\u001b[1;33m\u001b[0m\u001b[0m\n\u001b[1;32m----> 8\u001b[1;33m         \u001b[1;32mexcept\u001b[0m \u001b[0mIOFError\u001b[0m \u001b[1;32mas\u001b[0m \u001b[0me\u001b[0m\u001b[1;33m:\u001b[0m\u001b[1;33m\u001b[0m\u001b[1;33m\u001b[0m\u001b[0m\n\u001b[0m\u001b[0;32m      9\u001b[0m             \u001b[0mprint\u001b[0m\u001b[1;33m(\u001b[0m\u001b[0me\u001b[0m\u001b[1;33m)\u001b[0m\u001b[1;33m\u001b[0m\u001b[1;33m\u001b[0m\u001b[0m\n\u001b[0;32m     10\u001b[0m         \u001b[1;32mexcept\u001b[0m \u001b[0mValueError\u001b[0m \u001b[1;32mas\u001b[0m \u001b[0me\u001b[0m\u001b[1;33m:\u001b[0m\u001b[1;33m\u001b[0m\u001b[1;33m\u001b[0m\u001b[0m\n",
      "\u001b[1;31mNameError\u001b[0m: name 'IOFError' is not defined"
     ]
    }
   ],
   "source": [
    "askforint()"
   ]
  },
  {
   "cell_type": "code",
   "execution_count": 32,
   "id": "de446fb4",
   "metadata": {},
   "outputs": [],
   "source": [
    "#Raise exceptions: Ceating our own exceptions"
   ]
  },
  {
   "cell_type": "code",
   "execution_count": 38,
   "id": "3a1d4745",
   "metadata": {},
   "outputs": [],
   "source": [
    "def create_your_exception(a):\n",
    "    if a == 6:\n",
    "        raise Exception(a)\n",
    "    else:\n",
    "        print(\"Input is ok\")\n",
    "    return a"
   ]
  },
  {
   "cell_type": "code",
   "execution_count": 39,
   "id": "dc040a20",
   "metadata": {},
   "outputs": [
    {
     "ename": "Exception",
     "evalue": "6",
     "output_type": "error",
     "traceback": [
      "\u001b[1;31m---------------------------------------------------------------------------\u001b[0m",
      "\u001b[1;31mException\u001b[0m                                 Traceback (most recent call last)",
      "\u001b[1;32m<ipython-input-39-646dc0bb2e87>\u001b[0m in \u001b[0;36m<module>\u001b[1;34m\u001b[0m\n\u001b[1;32m----> 1\u001b[1;33m \u001b[0mcreate_your_exception\u001b[0m\u001b[1;33m(\u001b[0m\u001b[1;36m6\u001b[0m\u001b[1;33m)\u001b[0m\u001b[1;33m\u001b[0m\u001b[1;33m\u001b[0m\u001b[0m\n\u001b[0m",
      "\u001b[1;32m<ipython-input-38-bbca8a3e6c15>\u001b[0m in \u001b[0;36mcreate_your_exception\u001b[1;34m(a)\u001b[0m\n\u001b[0;32m      1\u001b[0m \u001b[1;32mdef\u001b[0m \u001b[0mcreate_your_exception\u001b[0m\u001b[1;33m(\u001b[0m\u001b[0ma\u001b[0m\u001b[1;33m)\u001b[0m\u001b[1;33m:\u001b[0m\u001b[1;33m\u001b[0m\u001b[1;33m\u001b[0m\u001b[0m\n\u001b[0;32m      2\u001b[0m     \u001b[1;32mif\u001b[0m \u001b[0ma\u001b[0m \u001b[1;33m==\u001b[0m \u001b[1;36m6\u001b[0m\u001b[1;33m:\u001b[0m\u001b[1;33m\u001b[0m\u001b[1;33m\u001b[0m\u001b[0m\n\u001b[1;32m----> 3\u001b[1;33m         \u001b[1;32mraise\u001b[0m \u001b[0mException\u001b[0m\u001b[1;33m(\u001b[0m\u001b[0ma\u001b[0m\u001b[1;33m)\u001b[0m\u001b[1;33m\u001b[0m\u001b[1;33m\u001b[0m\u001b[0m\n\u001b[0m\u001b[0;32m      4\u001b[0m     \u001b[1;32melse\u001b[0m\u001b[1;33m:\u001b[0m\u001b[1;33m\u001b[0m\u001b[1;33m\u001b[0m\u001b[0m\n\u001b[0;32m      5\u001b[0m         \u001b[0mprint\u001b[0m\u001b[1;33m(\u001b[0m\u001b[1;34m\"Input is ok\"\u001b[0m\u001b[1;33m)\u001b[0m\u001b[1;33m\u001b[0m\u001b[1;33m\u001b[0m\u001b[0m\n",
      "\u001b[1;31mException\u001b[0m: 6"
     ]
    }
   ],
   "source": [
    "create_your_exception(6)"
   ]
  },
  {
   "cell_type": "code",
   "execution_count": 41,
   "id": "301557e5",
   "metadata": {},
   "outputs": [
    {
     "name": "stdout",
     "output_type": "stream",
     "text": [
      "Input is ok\n"
     ]
    }
   ],
   "source": [
    "a = create_your_exception(7)"
   ]
  },
  {
   "cell_type": "code",
   "execution_count": 42,
   "id": "f0cd5c3d",
   "metadata": {},
   "outputs": [
    {
     "data": {
      "text/plain": [
       "7"
      ]
     },
     "execution_count": 42,
     "metadata": {},
     "output_type": "execute_result"
    }
   ],
   "source": [
    "a"
   ]
  },
  {
   "cell_type": "code",
   "execution_count": 43,
   "id": "515a5497",
   "metadata": {},
   "outputs": [
    {
     "ename": "Exception",
     "evalue": "6",
     "output_type": "error",
     "traceback": [
      "\u001b[1;31m---------------------------------------------------------------------------\u001b[0m",
      "\u001b[1;31mException\u001b[0m                                 Traceback (most recent call last)",
      "\u001b[1;32m<ipython-input-43-2c754632afea>\u001b[0m in \u001b[0;36m<module>\u001b[1;34m\u001b[0m\n\u001b[1;32m----> 1\u001b[1;33m \u001b[0ma\u001b[0m \u001b[1;33m=\u001b[0m \u001b[0mcreate_your_exception\u001b[0m\u001b[1;33m(\u001b[0m\u001b[1;36m6\u001b[0m\u001b[1;33m)\u001b[0m\u001b[1;33m\u001b[0m\u001b[1;33m\u001b[0m\u001b[0m\n\u001b[0m",
      "\u001b[1;32m<ipython-input-38-bbca8a3e6c15>\u001b[0m in \u001b[0;36mcreate_your_exception\u001b[1;34m(a)\u001b[0m\n\u001b[0;32m      1\u001b[0m \u001b[1;32mdef\u001b[0m \u001b[0mcreate_your_exception\u001b[0m\u001b[1;33m(\u001b[0m\u001b[0ma\u001b[0m\u001b[1;33m)\u001b[0m\u001b[1;33m:\u001b[0m\u001b[1;33m\u001b[0m\u001b[1;33m\u001b[0m\u001b[0m\n\u001b[0;32m      2\u001b[0m     \u001b[1;32mif\u001b[0m \u001b[0ma\u001b[0m \u001b[1;33m==\u001b[0m \u001b[1;36m6\u001b[0m\u001b[1;33m:\u001b[0m\u001b[1;33m\u001b[0m\u001b[1;33m\u001b[0m\u001b[0m\n\u001b[1;32m----> 3\u001b[1;33m         \u001b[1;32mraise\u001b[0m \u001b[0mException\u001b[0m\u001b[1;33m(\u001b[0m\u001b[0ma\u001b[0m\u001b[1;33m)\u001b[0m\u001b[1;33m\u001b[0m\u001b[1;33m\u001b[0m\u001b[0m\n\u001b[0m\u001b[0;32m      4\u001b[0m     \u001b[1;32melse\u001b[0m\u001b[1;33m:\u001b[0m\u001b[1;33m\u001b[0m\u001b[1;33m\u001b[0m\u001b[0m\n\u001b[0;32m      5\u001b[0m         \u001b[0mprint\u001b[0m\u001b[1;33m(\u001b[0m\u001b[1;34m\"Input is ok\"\u001b[0m\u001b[1;33m)\u001b[0m\u001b[1;33m\u001b[0m\u001b[1;33m\u001b[0m\u001b[0m\n",
      "\u001b[1;31mException\u001b[0m: 6"
     ]
    }
   ],
   "source": [
    "a = create_your_exception(6)"
   ]
  },
  {
   "cell_type": "code",
   "execution_count": 44,
   "id": "3557ed07",
   "metadata": {},
   "outputs": [],
   "source": [
    "#To handle situation even if the input is 6"
   ]
  },
  {
   "cell_type": "code",
   "execution_count": 45,
   "id": "daecaa5d",
   "metadata": {},
   "outputs": [
    {
     "name": "stdout",
     "output_type": "stream",
     "text": [
      "6\n"
     ]
    }
   ],
   "source": [
    "try:\n",
    "    create_your_exception(6)\n",
    "except Exception as e:\n",
    "    print(e)"
   ]
  },
  {
   "cell_type": "code",
   "execution_count": 46,
   "id": "5434b974",
   "metadata": {},
   "outputs": [],
   "source": [
    "def create_your_exception(a):\n",
    "    if a > 6:\n",
    "        raise Exception(\"Error is \" , a)\n",
    "    else:\n",
    "        print(\"Input is ok\")\n",
    "    return a"
   ]
  },
  {
   "cell_type": "code",
   "execution_count": 47,
   "id": "84702551",
   "metadata": {},
   "outputs": [
    {
     "name": "stdout",
     "output_type": "stream",
     "text": [
      "('Error is ', 10)\n"
     ]
    }
   ],
   "source": [
    "try:\n",
    "    create_your_exception(10)\n",
    "except Exception as e:\n",
    "    print(e)"
   ]
  },
  {
   "cell_type": "code",
   "execution_count": null,
   "id": "7ce1cd32",
   "metadata": {},
   "outputs": [],
   "source": [
    " "
   ]
  }
 ],
 "metadata": {
  "kernelspec": {
   "display_name": "Python 3",
   "language": "python",
   "name": "python3"
  },
  "language_info": {
   "codemirror_mode": {
    "name": "ipython",
    "version": 3
   },
   "file_extension": ".py",
   "mimetype": "text/x-python",
   "name": "python",
   "nbconvert_exporter": "python",
   "pygments_lexer": "ipython3",
   "version": "3.8.8"
  }
 },
 "nbformat": 4,
 "nbformat_minor": 5
}
