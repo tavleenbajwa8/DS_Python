{
 "cells": [
  {
   "cell_type": "markdown",
   "id": "20258b65",
   "metadata": {},
   "source": [
    "# String Manipulation"
   ]
  },
  {
   "cell_type": "code",
   "execution_count": 16,
   "id": "8d367d33",
   "metadata": {},
   "outputs": [],
   "source": [
    "#String\n",
    "\n",
    "a = \"Penn\"\n",
    "b = 'Penn' "
   ]
  },
  {
   "cell_type": "code",
   "execution_count": 17,
   "id": "a38d6946",
   "metadata": {},
   "outputs": [
    {
     "data": {
      "text/plain": [
       "'Penn'"
      ]
     },
     "execution_count": 17,
     "metadata": {},
     "output_type": "execute_result"
    }
   ],
   "source": [
    "a"
   ]
  },
  {
   "cell_type": "code",
   "execution_count": 18,
   "id": "120d9cd1",
   "metadata": {},
   "outputs": [
    {
     "data": {
      "text/plain": [
       "'Penn'"
      ]
     },
     "execution_count": 18,
     "metadata": {},
     "output_type": "execute_result"
    }
   ],
   "source": [
    "b"
   ]
  },
  {
   "cell_type": "code",
   "execution_count": 19,
   "id": "568dd026",
   "metadata": {},
   "outputs": [],
   "source": [
    "#String Parsing\n",
    "s = \"I am learning Python String Manipulation\"\n",
    "\n",
    "\n",
    "#In forward direction, indexing start from 0,1,2,3... so on\n",
    "#In reverse direction, indexing start from -1,-2,-3... so on "
   ]
  },
  {
   "cell_type": "code",
   "execution_count": 20,
   "id": "dbec5903",
   "metadata": {},
   "outputs": [
    {
     "data": {
      "text/plain": [
       "'I'"
      ]
     },
     "execution_count": 20,
     "metadata": {},
     "output_type": "execute_result"
    }
   ],
   "source": [
    "s[0]"
   ]
  },
  {
   "cell_type": "code",
   "execution_count": 21,
   "id": "180f38ac",
   "metadata": {},
   "outputs": [
    {
     "data": {
      "text/plain": [
       "'n'"
      ]
     },
     "execution_count": 21,
     "metadata": {},
     "output_type": "execute_result"
    }
   ],
   "source": [
    "s[-1]"
   ]
  },
  {
   "cell_type": "code",
   "execution_count": 22,
   "id": "90852ba9",
   "metadata": {},
   "outputs": [
    {
     "data": {
      "text/plain": [
       "40"
      ]
     },
     "execution_count": 22,
     "metadata": {},
     "output_type": "execute_result"
    }
   ],
   "source": [
    "len(s)"
   ]
  },
  {
   "cell_type": "code",
   "execution_count": 23,
   "id": "61cc474f",
   "metadata": {},
   "outputs": [
    {
     "data": {
      "text/plain": [
       "' learn'"
      ]
     },
     "execution_count": 23,
     "metadata": {},
     "output_type": "execute_result"
    }
   ],
   "source": [
    "s[4:10]"
   ]
  },
  {
   "cell_type": "code",
   "execution_count": 24,
   "id": "721ba6e6",
   "metadata": {},
   "outputs": [
    {
     "data": {
      "text/plain": [
       "'inrael m'"
      ]
     },
     "execution_count": 24,
     "metadata": {},
     "output_type": "execute_result"
    }
   ],
   "source": [
    "s[10:2:-1]"
   ]
  },
  {
   "cell_type": "code",
   "execution_count": 25,
   "id": "a7d4110b",
   "metadata": {},
   "outputs": [
    {
     "data": {
      "text/plain": [
       "'I am learning Python String Manipulation'"
      ]
     },
     "execution_count": 25,
     "metadata": {},
     "output_type": "execute_result"
    }
   ],
   "source": [
    "s"
   ]
  },
  {
   "cell_type": "code",
   "execution_count": 26,
   "id": "5c336810",
   "metadata": {},
   "outputs": [
    {
     "name": "stdout",
     "output_type": "stream",
     "text": [
      "I am learning Python String Manipulation"
     ]
    }
   ],
   "source": [
    "for i in s:\n",
    "    print(i, end = \"\")"
   ]
  },
  {
   "cell_type": "code",
   "execution_count": 27,
   "id": "e63a4f99",
   "metadata": {},
   "outputs": [
    {
     "name": "stdout",
     "output_type": "stream",
     "text": [
      "I am learning Python String Manipulation"
     ]
    }
   ],
   "source": [
    "for i in range(len(s)):\n",
    "    print(s[i], end=\"\")\n",
    "    \n",
    "    #Here s[i] means s of o, s of 1, s of 2 and so on.."
   ]
  },
  {
   "cell_type": "code",
   "execution_count": 28,
   "id": "971c0c3c",
   "metadata": {},
   "outputs": [
    {
     "data": {
      "text/plain": [
       "'noitalupinaM gnirtS nohtyP gninrael ma I'"
      ]
     },
     "execution_count": 28,
     "metadata": {},
     "output_type": "execute_result"
    }
   ],
   "source": [
    "#String in reverse direction: Upper bound and lower bound are not defined,\n",
    "#ss is -1 so by default it will start from backward direction \n",
    "\n",
    "s[::-1]\n",
    "\n"
   ]
  },
  {
   "cell_type": "code",
   "execution_count": 29,
   "id": "21b91660",
   "metadata": {},
   "outputs": [
    {
     "data": {
      "text/plain": [
       "'I am learning Python String Manipulation'"
      ]
     },
     "execution_count": 29,
     "metadata": {},
     "output_type": "execute_result"
    }
   ],
   "source": [
    "s"
   ]
  },
  {
   "cell_type": "code",
   "execution_count": 30,
   "id": "5a6d724b",
   "metadata": {},
   "outputs": [
    {
     "ename": "TypeError",
     "evalue": "'str' object does not support item assignment",
     "output_type": "error",
     "traceback": [
      "\u001b[1;31m---------------------------------------------------------------------------\u001b[0m",
      "\u001b[1;31mTypeError\u001b[0m                                 Traceback (most recent call last)",
      "\u001b[1;32m<ipython-input-30-8effadab0a7e>\u001b[0m in \u001b[0;36m<module>\u001b[1;34m\u001b[0m\n\u001b[0;32m      1\u001b[0m \u001b[1;31m#Suppose I have to change the first letter \"I\" to \"M\"\u001b[0m\u001b[1;33m\u001b[0m\u001b[1;33m\u001b[0m\u001b[1;33m\u001b[0m\u001b[0m\n\u001b[0;32m      2\u001b[0m \u001b[1;33m\u001b[0m\u001b[0m\n\u001b[1;32m----> 3\u001b[1;33m \u001b[0ms\u001b[0m\u001b[1;33m[\u001b[0m\u001b[1;36m0\u001b[0m\u001b[1;33m]\u001b[0m \u001b[1;33m=\u001b[0m \u001b[1;34m\"M\"\u001b[0m\u001b[1;33m\u001b[0m\u001b[1;33m\u001b[0m\u001b[0m\n\u001b[0m",
      "\u001b[1;31mTypeError\u001b[0m: 'str' object does not support item assignment"
     ]
    }
   ],
   "source": [
    "#Suppose I have to change the first letter \"I\" to \"M\"\n",
    "\n",
    "s[0] = \"M\""
   ]
  },
  {
   "cell_type": "code",
   "execution_count": 31,
   "id": "58d00410",
   "metadata": {},
   "outputs": [
    {
     "data": {
      "text/plain": [
       "['Penny', 1234, 'ekhfg']"
      ]
     },
     "execution_count": 31,
     "metadata": {},
     "output_type": "execute_result"
    }
   ],
   "source": [
    "#But list does, example:\n",
    "l = [\"Penn\", 1234, \"ekhfg\"]\n",
    "l[0] = \"Penny\"\n",
    "l"
   ]
  },
  {
   "cell_type": "markdown",
   "id": "935588c5",
   "metadata": {},
   "source": [
    "This shows that string is a IMMUTABLE object, at any location we wont be \n",
    "able to replace the data or one character with other\n",
    "'str' object does not support item assignment\n",
    "But lists are MUTABLE"
   ]
  },
  {
   "cell_type": "code",
   "execution_count": 32,
   "id": "e2728875",
   "metadata": {},
   "outputs": [
    {
     "data": {
      "text/plain": [
       "'penn3'"
      ]
     },
     "execution_count": 32,
     "metadata": {},
     "output_type": "execute_result"
    }
   ],
   "source": [
    "#Typecasting in a string\n",
    "\"penn\" + str(3)"
   ]
  },
  {
   "cell_type": "code",
   "execution_count": 33,
   "id": "3f9d9da7",
   "metadata": {},
   "outputs": [
    {
     "ename": "TypeError",
     "evalue": "can only concatenate str (not \"list\") to str",
     "output_type": "error",
     "traceback": [
      "\u001b[1;31m---------------------------------------------------------------------------\u001b[0m",
      "\u001b[1;31mTypeError\u001b[0m                                 Traceback (most recent call last)",
      "\u001b[1;32m<ipython-input-33-2c9ed32eeffb>\u001b[0m in \u001b[0;36m<module>\u001b[1;34m\u001b[0m\n\u001b[1;32m----> 1\u001b[1;33m \u001b[1;34m\"penn\"\u001b[0m \u001b[1;33m+\u001b[0m \u001b[1;33m[\u001b[0m\u001b[1;34m\"bajwa\"\u001b[0m\u001b[1;33m,\u001b[0m \u001b[1;36m122324\u001b[0m\u001b[1;33m,\u001b[0m \u001b[1;34m\"khew\"\u001b[0m\u001b[1;33m]\u001b[0m\u001b[1;33m\u001b[0m\u001b[1;33m\u001b[0m\u001b[0m\n\u001b[0m",
      "\u001b[1;31mTypeError\u001b[0m: can only concatenate str (not \"list\") to str"
     ]
    }
   ],
   "source": [
    "\"penn\" + [\"bajwa\", 122324, \"khew\"]"
   ]
  },
  {
   "cell_type": "code",
   "execution_count": 34,
   "id": "dcec3380",
   "metadata": {},
   "outputs": [
    {
     "data": {
      "text/plain": [
       "\"penn['bajwa', 122324, 'khe']\""
      ]
     },
     "execution_count": 34,
     "metadata": {},
     "output_type": "execute_result"
    }
   ],
   "source": [
    "\"penn\" + str([\"bajwa\", 122324, \"khe\"])"
   ]
  },
  {
   "cell_type": "code",
   "execution_count": 35,
   "id": "c02745bd",
   "metadata": {},
   "outputs": [
    {
     "data": {
      "text/plain": [
       "'pennpennpennpenn'"
      ]
     },
     "execution_count": 35,
     "metadata": {},
     "output_type": "execute_result"
    }
   ],
   "source": [
    " \"penn\"*4"
   ]
  },
  {
   "cell_type": "code",
   "execution_count": 36,
   "id": "4ae9edc5",
   "metadata": {},
   "outputs": [
    {
     "data": {
      "text/plain": [
       "'I am learning Python String Manipulation'"
      ]
     },
     "execution_count": 36,
     "metadata": {},
     "output_type": "execute_result"
    }
   ],
   "source": [
    "s"
   ]
  },
  {
   "cell_type": "code",
   "execution_count": 37,
   "id": "8ad08bdc",
   "metadata": {},
   "outputs": [
    {
     "data": {
      "text/plain": [
       "9"
      ]
     },
     "execution_count": 37,
     "metadata": {},
     "output_type": "execute_result"
    }
   ],
   "source": [
    "s.find(\"n\")\n",
    "#press shift+tab to know the the documentation/function of that particular method "
   ]
  },
  {
   "cell_type": "code",
   "execution_count": 38,
   "id": "7e70a37b",
   "metadata": {},
   "outputs": [
    {
     "data": {
      "text/plain": [
       "-1"
      ]
     },
     "execution_count": 38,
     "metadata": {},
     "output_type": "execute_result"
    }
   ],
   "source": [
    "s.find(\"AEHFeshf\")\n",
    "\n",
    "#-1 in the output means that this particular string is not available instead of giving an error"
   ]
  },
  {
   "cell_type": "code",
   "execution_count": 39,
   "id": "54646a29",
   "metadata": {},
   "outputs": [
    {
     "data": {
      "text/plain": [
       "2"
      ]
     },
     "execution_count": 39,
     "metadata": {},
     "output_type": "execute_result"
    }
   ],
   "source": [
    "s.find(\"am\")"
   ]
  },
  {
   "cell_type": "code",
   "execution_count": 40,
   "id": "1888ab26",
   "metadata": {},
   "outputs": [],
   "source": [
    "for i in \"learning\":\n",
    "    s.index(i)"
   ]
  },
  {
   "cell_type": "code",
   "execution_count": 41,
   "id": "271ba9bb",
   "metadata": {},
   "outputs": [
    {
     "data": {
      "text/plain": [
       "5"
      ]
     },
     "execution_count": 41,
     "metadata": {},
     "output_type": "execute_result"
    }
   ],
   "source": [
    "s.rindex(\"learning\")"
   ]
  },
  {
   "cell_type": "code",
   "execution_count": 42,
   "id": "bc1253a3",
   "metadata": {},
   "outputs": [
    {
     "data": {
      "text/plain": [
       "'My name is Penn, I am name doing an internship at ineuron'"
      ]
     },
     "execution_count": 42,
     "metadata": {},
     "output_type": "execute_result"
    }
   ],
   "source": [
    "s = \"My name is Penn, I am name doing an internship at ineuron\"\n",
    "#Find all the indices of a substring \"name\" coming after My and before is. \n",
    "s"
   ]
  },
  {
   "cell_type": "code",
   "execution_count": 43,
   "id": "cc601efd",
   "metadata": {},
   "outputs": [
    {
     "name": "stdout",
     "output_type": "stream",
     "text": [
      "3\n",
      "4\n",
      "5\n",
      "6\n"
     ]
    }
   ],
   "source": [
    "#Find all the indices of a first substring \"name\" coming after My and before is. \n",
    "for i in \"name\":\n",
    "    print(s.index(i))"
   ]
  },
  {
   "cell_type": "code",
   "execution_count": 44,
   "id": "8331c8b1",
   "metadata": {},
   "outputs": [
    {
     "name": "stdout",
     "output_type": "stream",
     "text": [
      "3\n",
      "4\n",
      "5\n",
      "6\n"
     ]
    },
    {
     "data": {
      "text/plain": [
       "'First line of code will give us the first index of n in name, that is 3. \\nSecond line of code will give us a range of name from 0 to 3 : 0,1,2,3\\nThird line of code will give the sum of 3 + 0, 3 + 1, 3 + 2, 3 + 3'"
      ]
     },
     "execution_count": 44,
     "metadata": {},
     "output_type": "execute_result"
    }
   ],
   "source": [
    "#other solution\n",
    "a = s.find(\"name\")\n",
    "for i in range(len(\"name\")):\n",
    "    print(a + i)\n",
    "\"\"\"First line of code will give us the first index of n in name, that is 3. \n",
    "Second line of code will give us a range of name from 0 to 3 : 0,1,2,3\n",
    "Third line of code will give the sum of 3 + 0, 3 + 1, 3 + 2, 3 + 3\"\"\""
   ]
  },
  {
   "cell_type": "code",
   "execution_count": 45,
   "id": "720455e8",
   "metadata": {},
   "outputs": [
    {
     "data": {
      "text/plain": [
       "'My name is Penn, I am name doing an internship at ineuron'"
      ]
     },
     "execution_count": 45,
     "metadata": {},
     "output_type": "execute_result"
    }
   ],
   "source": [
    "#count function: Tells the number of time the particular quantity is appearing \n",
    "\"\"\"Return the number of non-overlapping occurrences of substring sub in\n",
    "string S[start:end].  Optional arguments start and end are\n",
    "interpreted as in slice notation.\"\"\"\n",
    "#count function is also case sensative\n",
    "s "
   ]
  },
  {
   "cell_type": "code",
   "execution_count": 46,
   "id": "55ec7761",
   "metadata": {},
   "outputs": [
    {
     "data": {
      "text/plain": [
       "10"
      ]
     },
     "execution_count": 46,
     "metadata": {},
     "output_type": "execute_result"
    }
   ],
   "source": [
    "s.count(\"n\")"
   ]
  },
  {
   "cell_type": "code",
   "execution_count": 47,
   "id": "37b70b66",
   "metadata": {},
   "outputs": [
    {
     "data": {
      "text/plain": [
       "2"
      ]
     },
     "execution_count": 47,
     "metadata": {},
     "output_type": "execute_result"
    }
   ],
   "source": [
    "s.count(\"name\")"
   ]
  },
  {
   "cell_type": "code",
   "execution_count": 48,
   "id": "cb5e2d0d",
   "metadata": {},
   "outputs": [
    {
     "data": {
      "text/plain": [
       "0"
      ]
     },
     "execution_count": 48,
     "metadata": {},
     "output_type": "execute_result"
    }
   ],
   "source": [
    "s.count(\"ajyrgq\")"
   ]
  },
  {
   "cell_type": "code",
   "execution_count": 49,
   "id": "d13e05e2",
   "metadata": {},
   "outputs": [],
   "source": [
    "#count function is also case sensative\n",
    "s = \"My name, is a, good name\"\n",
    "p = \"My name is a good Name\""
   ]
  },
  {
   "cell_type": "code",
   "execution_count": 50,
   "id": "1a275b75",
   "metadata": {},
   "outputs": [
    {
     "data": {
      "text/plain": [
       "2"
      ]
     },
     "execution_count": 50,
     "metadata": {},
     "output_type": "execute_result"
    }
   ],
   "source": [
    "s.count(\"name\")"
   ]
  },
  {
   "cell_type": "code",
   "execution_count": 51,
   "id": "cf7d976a",
   "metadata": {},
   "outputs": [
    {
     "data": {
      "text/plain": [
       "1"
      ]
     },
     "execution_count": 51,
     "metadata": {},
     "output_type": "execute_result"
    }
   ],
   "source": [
    "p.count(\"name\")"
   ]
  },
  {
   "cell_type": "code",
   "execution_count": 52,
   "id": "b9d9be44",
   "metadata": {},
   "outputs": [
    {
     "data": {
      "text/plain": [
       "['My', 'name,', 'is', 'a,', 'good', 'name']"
      ]
     },
     "execution_count": 52,
     "metadata": {},
     "output_type": "execute_result"
    }
   ],
   "source": [
    "#split function: Return a list of the words in the string, using sep as the delimiter string.\n",
    "\n",
    "s.split()"
   ]
  },
  {
   "cell_type": "code",
   "execution_count": 53,
   "id": "40ac46a5",
   "metadata": {},
   "outputs": [
    {
     "data": {
      "text/plain": [
       "['My ', 'me, is a, good ', 'me']"
      ]
     },
     "execution_count": 53,
     "metadata": {},
     "output_type": "execute_result"
    }
   ],
   "source": [
    "s.split(\"na\")"
   ]
  },
  {
   "cell_type": "code",
   "execution_count": 54,
   "id": "88e0c1dc",
   "metadata": {},
   "outputs": [
    {
     "data": {
      "text/plain": [
       "['My name', ' is a', ' good name']"
      ]
     },
     "execution_count": 54,
     "metadata": {},
     "output_type": "execute_result"
    }
   ],
   "source": [
    "s.split(\",\")"
   ]
  },
  {
   "cell_type": "code",
   "execution_count": 55,
   "id": "0a2661ea",
   "metadata": {},
   "outputs": [
    {
     "data": {
      "text/plain": [
       "list"
      ]
     },
     "execution_count": 55,
     "metadata": {},
     "output_type": "execute_result"
    }
   ],
   "source": [
    "type(s.split(\"na\"))"
   ]
  },
  {
   "cell_type": "code",
   "execution_count": 56,
   "id": "257027c5",
   "metadata": {},
   "outputs": [
    {
     "data": {
      "text/plain": [
       "'MY NAME, IS A, GOOD NAME'"
      ]
     },
     "execution_count": 56,
     "metadata": {},
     "output_type": "execute_result"
    }
   ],
   "source": [
    "s.upper()"
   ]
  },
  {
   "cell_type": "code",
   "execution_count": 57,
   "id": "6733a6b1",
   "metadata": {},
   "outputs": [
    {
     "data": {
      "text/plain": [
       "'my name, is a, good name'"
      ]
     },
     "execution_count": 57,
     "metadata": {},
     "output_type": "execute_result"
    }
   ],
   "source": [
    "s.lower()"
   ]
  },
  {
   "cell_type": "code",
   "execution_count": 58,
   "id": "905262a7",
   "metadata": {},
   "outputs": [
    {
     "data": {
      "text/plain": [
       "'my name is penny, I LIVE IN BHIWADI'"
      ]
     },
     "execution_count": 58,
     "metadata": {},
     "output_type": "execute_result"
    }
   ],
   "source": [
    "#swapcase: Convert uppercase characters to lowercase and lowercase characters to uppercase.\n",
    "\n",
    "x = \"MY NAME IS PENNY, i live in bhiwadi\"\n",
    "x.swapcase()\n"
   ]
  },
  {
   "cell_type": "code",
   "execution_count": 59,
   "id": "4420fdc6",
   "metadata": {},
   "outputs": [
    {
     "data": {
      "text/plain": [
       "'M y   n a m e ,   i s   a ,   g o o d   n a m e'"
      ]
     },
     "execution_count": 59,
     "metadata": {},
     "output_type": "execute_result"
    }
   ],
   "source": [
    "\" \".join(s) "
   ]
  },
  {
   "cell_type": "code",
   "execution_count": 60,
   "id": "9c858edb",
   "metadata": {},
   "outputs": [
    {
     "data": {
      "text/plain": [
       "['e',\n",
       " 'm',\n",
       " 'a',\n",
       " 'n',\n",
       " ' ',\n",
       " 'd',\n",
       " 'o',\n",
       " 'o',\n",
       " 'g',\n",
       " ' ',\n",
       " ',',\n",
       " 'a',\n",
       " ' ',\n",
       " 's',\n",
       " 'i',\n",
       " ' ',\n",
       " ',',\n",
       " 'e',\n",
       " 'm',\n",
       " 'a',\n",
       " 'n',\n",
       " ' ',\n",
       " 'y',\n",
       " 'M']"
      ]
     },
     "execution_count": 60,
     "metadata": {},
     "output_type": "execute_result"
    }
   ],
   "source": [
    "list(reversed(s))"
   ]
  },
  {
   "cell_type": "code",
   "execution_count": 61,
   "id": "5d58703f",
   "metadata": {},
   "outputs": [
    {
     "data": {
      "text/plain": [
       "'eman doog ,a si ,eman yM'"
      ]
     },
     "execution_count": 61,
     "metadata": {},
     "output_type": "execute_result"
    }
   ],
   "source": [
    "s[::-1]"
   ]
  },
  {
   "cell_type": "code",
   "execution_count": 62,
   "id": "a18fcb18",
   "metadata": {},
   "outputs": [
    {
     "data": {
      "text/plain": [
       "'      name is penny'"
      ]
     },
     "execution_count": 62,
     "metadata": {},
     "output_type": "execute_result"
    }
   ],
   "source": [
    "#strop method: Return a copy of the string with leading and trailing whitespace removed.\n",
    "\n",
    "s = \"      name is penny\"\n",
    "s"
   ]
  },
  {
   "cell_type": "code",
   "execution_count": 63,
   "id": "d5079337",
   "metadata": {},
   "outputs": [
    {
     "data": {
      "text/plain": [
       "'name is penny'"
      ]
     },
     "execution_count": 63,
     "metadata": {},
     "output_type": "execute_result"
    }
   ],
   "source": [
    "s.strip()"
   ]
  },
  {
   "cell_type": "code",
   "execution_count": 64,
   "id": "d767f59e",
   "metadata": {},
   "outputs": [
    {
     "data": {
      "text/plain": [
       "'na   me'"
      ]
     },
     "execution_count": 64,
     "metadata": {},
     "output_type": "execute_result"
    }
   ],
   "source": [
    "#strip cant remove the white spaces in between \n",
    "\n",
    "s = \"  na   me  \"\n",
    "s.strip()"
   ]
  },
  {
   "cell_type": "code",
   "execution_count": 65,
   "id": "1ae134b9",
   "metadata": {},
   "outputs": [
    {
     "data": {
      "text/plain": [
       "'na   me  '"
      ]
     },
     "execution_count": 65,
     "metadata": {},
     "output_type": "execute_result"
    }
   ],
   "source": [
    "#To strip either on the left hand or right hand side at a time, we use:\n",
    "\n",
    "s.lstrip()"
   ]
  },
  {
   "cell_type": "code",
   "execution_count": 66,
   "id": "b1d86b2f",
   "metadata": {},
   "outputs": [
    {
     "data": {
      "text/plain": [
       "'  na   me'"
      ]
     },
     "execution_count": 66,
     "metadata": {},
     "output_type": "execute_result"
    }
   ],
   "source": [
    "s.rstrip()"
   ]
  },
  {
   "cell_type": "code",
   "execution_count": 67,
   "id": "f84d7638",
   "metadata": {},
   "outputs": [
    {
     "data": {
      "text/plain": [
       "'Greetings from Jenny'"
      ]
     },
     "execution_count": 67,
     "metadata": {},
     "output_type": "execute_result"
    }
   ],
   "source": [
    "#replace method: Return a copy with all occurrences of substring old replaced by new.\n",
    "\n",
    "s = \"Greetings from Penny\"\n",
    "s.replace(\"P\" , \"J\")"
   ]
  },
  {
   "cell_type": "code",
   "execution_count": 68,
   "id": "1b0d60eb",
   "metadata": {},
   "outputs": [
    {
     "data": {
      "text/plain": [
       "'Greetings from Penny'"
      ]
     },
     "execution_count": 68,
     "metadata": {},
     "output_type": "execute_result"
    }
   ],
   "source": [
    "s"
   ]
  },
  {
   "cell_type": "markdown",
   "id": "5282a944",
   "metadata": {},
   "source": [
    "#This shows that there are no changes in the original string. Immutability is not possible inside a string. "
   ]
  },
  {
   "cell_type": "code",
   "execution_count": 69,
   "id": "6b099c4e",
   "metadata": {},
   "outputs": [
    {
     "data": {
      "text/plain": [
       "'Greetings from Penny'"
      ]
     },
     "execution_count": 69,
     "metadata": {},
     "output_type": "execute_result"
    }
   ],
   "source": [
    "s"
   ]
  },
  {
   "cell_type": "code",
   "execution_count": 70,
   "id": "c542564b",
   "metadata": {},
   "outputs": [
    {
     "data": {
      "text/plain": [
       "'bbbbbbbbPennbbbbbbbb'"
      ]
     },
     "execution_count": 70,
     "metadata": {},
     "output_type": "execute_result"
    }
   ],
   "source": [
    "s = \"Penn\"\n",
    "s.center(20, \"b\")"
   ]
  },
  {
   "cell_type": "code",
   "execution_count": 71,
   "id": "8c7ad040",
   "metadata": {},
   "outputs": [
    {
     "data": {
      "text/plain": [
       "'Penn\\tBajwa'"
      ]
     },
     "execution_count": 71,
     "metadata": {},
     "output_type": "execute_result"
    }
   ],
   "source": [
    "s = \"Penn\\tBajwa\"\n",
    "s"
   ]
  },
  {
   "cell_type": "code",
   "execution_count": 72,
   "id": "71957a58",
   "metadata": {},
   "outputs": [
    {
     "data": {
      "text/plain": [
       "'Penn    Bajwa'"
      ]
     },
     "execution_count": 72,
     "metadata": {},
     "output_type": "execute_result"
    }
   ],
   "source": [
    "s.expandtabs()"
   ]
  },
  {
   "cell_type": "code",
   "execution_count": 73,
   "id": "243314fa",
   "metadata": {},
   "outputs": [
    {
     "data": {
      "text/plain": [
       "'We all are a part of Full stack'"
      ]
     },
     "execution_count": 73,
     "metadata": {},
     "output_type": "execute_result"
    }
   ],
   "source": [
    "s = \"We all are a part of Full stack\"\n",
    "s"
   ]
  },
  {
   "cell_type": "code",
   "execution_count": 74,
   "id": "e8310c90",
   "metadata": {},
   "outputs": [
    {
     "data": {
      "text/plain": [
       "'we all are a part of full stack'"
      ]
     },
     "execution_count": 74,
     "metadata": {},
     "output_type": "execute_result"
    }
   ],
   "source": [
    "#Q-1 Normalize the string to lowercase\n",
    "s.lower()"
   ]
  },
  {
   "cell_type": "code",
   "execution_count": 75,
   "id": "1041986e",
   "metadata": {},
   "outputs": [
    {
     "data": {
      "text/plain": [
       "5"
      ]
     },
     "execution_count": 75,
     "metadata": {},
     "output_type": "execute_result"
    }
   ],
   "source": [
    "#Q-2 Find the number of times \"a\" appeared in the string\n",
    "s.count(\"a\")"
   ]
  },
  {
   "cell_type": "code",
   "execution_count": 76,
   "id": "498edc43",
   "metadata": {},
   "outputs": [
    {
     "data": {
      "text/plain": [
       "'We all are a part of Full stack'"
      ]
     },
     "execution_count": 76,
     "metadata": {},
     "output_type": "execute_result"
    }
   ],
   "source": [
    "s"
   ]
  },
  {
   "cell_type": "code",
   "execution_count": 77,
   "id": "05b6b8a9",
   "metadata": {},
   "outputs": [
    {
     "name": "stdout",
     "output_type": "stream",
     "text": [
      "3\n",
      "7\n",
      "11\n",
      "14\n",
      "28\n"
     ]
    }
   ],
   "source": [
    "#Q-3 Find all the location/indices of \"a\" in a string\n",
    "\n",
    "for i in range(len(s)):\n",
    "    if(s[i]==\"a\"):\n",
    "        print(i)\n",
    "    "
   ]
  },
  {
   "cell_type": "code",
   "execution_count": 78,
   "id": "4d04b2a4",
   "metadata": {},
   "outputs": [
    {
     "name": "stdout",
     "output_type": "stream",
     "text": [
      "[3, 7, 11, 14, 28]\n",
      "We all are a part of Full stack\n"
     ]
    }
   ],
   "source": [
    "#Q-3 Other solution\n",
    "l = []\n",
    "for i in range(len(s)):\n",
    "    if s[i]==\"a\":\n",
    "        l.append(i)\n",
    "print(l)\n",
    "print(s)"
   ]
  },
  {
   "cell_type": "code",
   "execution_count": 79,
   "id": "fac934dd",
   "metadata": {},
   "outputs": [
    {
     "name": "stdout",
     "output_type": "stream",
     "text": [
      "[3, 7, 11, 14, 28]\n"
     ]
    }
   ],
   "source": [
    "#Q-3 Other solution\n",
    "print([i for i in range(len(s)) if s[i] == \"a\"])"
   ]
  },
  {
   "cell_type": "code",
   "execution_count": 80,
   "id": "57cf59a2",
   "metadata": {},
   "outputs": [
    {
     "data": {
      "text/plain": [
       "'We iNeuronll iNeuronre iNeuron piNeuronrt of Full stiNeuronck'"
      ]
     },
     "execution_count": 80,
     "metadata": {},
     "output_type": "execute_result"
    }
   ],
   "source": [
    "#Q-4 Replace all the a with iNeuron\n",
    "\n",
    "s.replace(\"a\", \"iNeuron\")"
   ]
  },
  {
   "cell_type": "code",
   "execution_count": 81,
   "id": "17cc5c54",
   "metadata": {},
   "outputs": [
    {
     "data": {
      "text/plain": [
       "['We', 'all', 'are', 'a', 'part', 'of', 'Full', 'stack']"
      ]
     },
     "execution_count": 81,
     "metadata": {},
     "output_type": "execute_result"
    }
   ],
   "source": [
    "#Q-5 Print all the words as a List\n",
    "\n",
    "s.split()"
   ]
  },
  {
   "cell_type": "code",
   "execution_count": 82,
   "id": "60e5c4d5",
   "metadata": {},
   "outputs": [
    {
     "data": {
      "text/plain": [
       "False"
      ]
     },
     "execution_count": 82,
     "metadata": {},
     "output_type": "execute_result"
    }
   ],
   "source": [
    "#All the methods starting from \"is\" returns a boolean value\n",
    "s.isupper()"
   ]
  },
  {
   "cell_type": "code",
   "execution_count": 83,
   "id": "4da19d8a",
   "metadata": {},
   "outputs": [
    {
     "data": {
      "text/plain": [
       "False"
      ]
     },
     "execution_count": 83,
     "metadata": {},
     "output_type": "execute_result"
    }
   ],
   "source": [
    "s.islower()"
   ]
  },
  {
   "cell_type": "code",
   "execution_count": 84,
   "id": "8e743332",
   "metadata": {},
   "outputs": [
    {
     "data": {
      "text/plain": [
       "False"
      ]
     },
     "execution_count": 84,
     "metadata": {},
     "output_type": "execute_result"
    }
   ],
   "source": [
    "s.isspace()"
   ]
  },
  {
   "cell_type": "code",
   "execution_count": 85,
   "id": "9a1414f0",
   "metadata": {},
   "outputs": [
    {
     "data": {
      "text/plain": [
       "True"
      ]
     },
     "execution_count": 85,
     "metadata": {},
     "output_type": "execute_result"
    }
   ],
   "source": [
    "s = \"   \"\n",
    "s.isspace()"
   ]
  },
  {
   "cell_type": "code",
   "execution_count": 86,
   "id": "c1894cb0",
   "metadata": {},
   "outputs": [
    {
     "data": {
      "text/plain": [
       "True"
      ]
     },
     "execution_count": 86,
     "metadata": {},
     "output_type": "execute_result"
    }
   ],
   "source": [
    "s = \"13234235\"\n",
    "s.isdigit()"
   ]
  },
  {
   "cell_type": "code",
   "execution_count": 87,
   "id": "889c0f9c",
   "metadata": {},
   "outputs": [
    {
     "data": {
      "text/plain": [
       "True"
      ]
     },
     "execution_count": 87,
     "metadata": {},
     "output_type": "execute_result"
    }
   ],
   "source": [
    "s = \"My name is Penn\"\n",
    "s.startswith(\"M\")"
   ]
  },
  {
   "cell_type": "code",
   "execution_count": 88,
   "id": "75d11d6b",
   "metadata": {},
   "outputs": [
    {
     "data": {
      "text/plain": [
       "False"
      ]
     },
     "execution_count": 88,
     "metadata": {},
     "output_type": "execute_result"
    }
   ],
   "source": [
    "s.isalnum()"
   ]
  },
  {
   "cell_type": "code",
   "execution_count": 89,
   "id": "f4d526c9",
   "metadata": {},
   "outputs": [
    {
     "data": {
      "text/plain": [
       "True"
      ]
     },
     "execution_count": 89,
     "metadata": {},
     "output_type": "execute_result"
    }
   ],
   "source": [
    "s = \"Penn123\"\n",
    "s.isalnum()"
   ]
  },
  {
   "cell_type": "code",
   "execution_count": 90,
   "id": "07b02f55",
   "metadata": {},
   "outputs": [
    {
     "data": {
      "text/plain": [
       "True"
      ]
     },
     "execution_count": 90,
     "metadata": {},
     "output_type": "execute_result"
    }
   ],
   "source": [
    "s.istitle()"
   ]
  },
  {
   "cell_type": "code",
   "execution_count": 91,
   "id": "752e4cbf",
   "metadata": {},
   "outputs": [
    {
     "data": {
      "text/plain": [
       "26"
      ]
     },
     "execution_count": 91,
     "metadata": {},
     "output_type": "execute_result"
    }
   ],
   "source": [
    "s = \"this is a full stack batch\"\n",
    "#Q-1 Find the length of the string s \n",
    "len(s)"
   ]
  },
  {
   "cell_type": "code",
   "execution_count": 92,
   "id": "82ce9911",
   "metadata": {},
   "outputs": [
    {
     "name": "stdout",
     "output_type": "stream",
     "text": [
      "26\n"
     ]
    }
   ],
   "source": [
    "#Without using the function len\n",
    "count = 0 \n",
    "for i in s:\n",
    "    count = count +1\n",
    "print(count)"
   ]
  },
  {
   "cell_type": "code",
   "execution_count": 93,
   "id": "102ef8d5",
   "metadata": {},
   "outputs": [
    {
     "name": "stdout",
     "output_type": "stream",
     "text": [
      "t\n",
      "h\n",
      "i\n",
      "s\n",
      " \n",
      "i\n",
      "s\n",
      " \n",
      "a\n",
      " \n",
      "f\n",
      "u\n",
      "l\n",
      "l\n",
      " \n",
      "s\n",
      "t\n",
      "a\n",
      "c\n",
      "k\n",
      " \n",
      "b\n",
      "a\n",
      "t\n",
      "c\n",
      "h\n"
     ]
    }
   ],
   "source": [
    "for i in range(len(s)):\n",
    "    print(s[i])"
   ]
  },
  {
   "cell_type": "code",
   "execution_count": 94,
   "id": "791e897b",
   "metadata": {},
   "outputs": [
    {
     "name": "stdout",
     "output_type": "stream",
     "text": [
      "thctab kcats lluf a si sih"
     ]
    }
   ],
   "source": [
    "for i in range(len(s)):\n",
    "    print(s[-i], end=\"\")"
   ]
  },
  {
   "cell_type": "code",
   "execution_count": 95,
   "id": "a5c64783",
   "metadata": {},
   "outputs": [
    {
     "name": "stdout",
     "output_type": "stream",
     "text": [
      "y\n",
      "n\n",
      "n\n",
      "e\n",
      "P\n"
     ]
    }
   ],
   "source": [
    "#Reversing a string without using for loop, reversed method:\n",
    "\n",
    "s = \"Penny\"\n",
    "ch = len(s) - 1 \n",
    "while ch >= 0:\n",
    "    print(s[ch])\n",
    "    ch = ch - 1\n",
    "    "
   ]
  },
  {
   "cell_type": "code",
   "execution_count": 96,
   "id": "c9949743",
   "metadata": {},
   "outputs": [
    {
     "name": "stdout",
     "output_type": "stream",
     "text": [
      "i is a vowel\n",
      "N is not a vowel\n",
      "e is a vowel\n",
      "u is a vowel\n",
      "r is not a vowel\n",
      "o is a vowel\n",
      "n is not a vowel\n"
     ]
    }
   ],
   "source": [
    "name = \"iNeuron\"\n",
    "vowels = \"AaEeIiOoUu\"\n",
    "\n",
    "for i in name:\n",
    "    if i in vowels:\n",
    "        print(\"{} is a vowel\".format(i))\n",
    "    else:\n",
    "        print(\"{} is not a vowel\".format(i))\n",
    "            \n"
   ]
  },
  {
   "cell_type": "code",
   "execution_count": 97,
   "id": "4a1cf8a6",
   "metadata": {},
   "outputs": [
    {
     "data": {
      "text/plain": [
       "'My is not a Penny'"
      ]
     },
     "execution_count": 97,
     "metadata": {},
     "output_type": "execute_result"
    }
   ],
   "source": [
    "\"{} is not a Penny\".format(\"My\")"
   ]
  },
  {
   "cell_type": "code",
   "execution_count": 98,
   "id": "14ed3b31",
   "metadata": {},
   "outputs": [
    {
     "data": {
      "text/plain": [
       "'My is not a Penny'"
      ]
     },
     "execution_count": 98,
     "metadata": {},
     "output_type": "execute_result"
    }
   ],
   "source": [
    "\"{} is {} a Penny\".format(\"My\", \"not\")"
   ]
  },
  {
   "cell_type": "code",
   "execution_count": 99,
   "id": "bb3c41fc",
   "metadata": {},
   "outputs": [
    {
     "data": {
      "text/plain": [
       "'svbkhfv is keifjev a Penny'"
      ]
     },
     "execution_count": 99,
     "metadata": {},
     "output_type": "execute_result"
    }
   ],
   "source": [
    "a = \"svbkhfv\"\n",
    "b = 'keifjev'\n",
    "\n",
    "\"{} is {} a Penny\".format(a, b)"
   ]
  },
  {
   "cell_type": "code",
   "execution_count": 100,
   "id": "6c817ea6",
   "metadata": {},
   "outputs": [
    {
     "name": "stdout",
     "output_type": "stream",
     "text": [
      "Enter the data for which you would like to check the palindrome: \n",
      "Its a Palidrome\n"
     ]
    }
   ],
   "source": [
    "#Pallidrome: A string/data which when traversed in forward or reverse direction, it reads the same.\n",
    "#Eg: Malyalam, Arora, xyx,2002, eye(Read in either direction, it is read the same.)\n",
    "\n",
    "#Q- Write a code to check palindrome in the data\n",
    "\n",
    "s = input(\"Enter the data for which you would like to check the palindrome: \")\n",
    "s1 = s[::-1]\n",
    "if s == s1:\n",
    "    print(\"Its a Palidrome\")\n",
    "else:\n",
    "    print(\"Not a Palindrome\")\n"
   ]
  },
  {
   "cell_type": "markdown",
   "id": "27a7ec7f",
   "metadata": {},
   "source": [
    "# List Manipulation"
   ]
  },
  {
   "cell_type": "code",
   "execution_count": 101,
   "id": "cf4a4744",
   "metadata": {},
   "outputs": [],
   "source": [
    "l = [\"Penn\", 34,56,78, [64,48]]\n"
   ]
  },
  {
   "cell_type": "code",
   "execution_count": 102,
   "id": "5c88922f",
   "metadata": {},
   "outputs": [
    {
     "data": {
      "text/plain": [
       "78"
      ]
     },
     "execution_count": 102,
     "metadata": {},
     "output_type": "execute_result"
    }
   ],
   "source": [
    "l[3]"
   ]
  },
  {
   "cell_type": "code",
   "execution_count": 103,
   "id": "03d40420",
   "metadata": {},
   "outputs": [
    {
     "data": {
      "text/plain": [
       "['Penn', 34, 56]"
      ]
     },
     "execution_count": 103,
     "metadata": {},
     "output_type": "execute_result"
    }
   ],
   "source": [
    "l[0:3]"
   ]
  },
  {
   "cell_type": "code",
   "execution_count": 104,
   "id": "b6816d92",
   "metadata": {},
   "outputs": [
    {
     "data": {
      "text/plain": [
       "[]"
      ]
     },
     "execution_count": 104,
     "metadata": {},
     "output_type": "execute_result"
    }
   ],
   "source": [
    "l[0:3:-1]"
   ]
  },
  {
   "cell_type": "code",
   "execution_count": 105,
   "id": "b5c0f176",
   "metadata": {},
   "outputs": [
    {
     "data": {
      "text/plain": [
       "[78, 56, 34]"
      ]
     },
     "execution_count": 105,
     "metadata": {},
     "output_type": "execute_result"
    }
   ],
   "source": [
    "l[3:0:-1]"
   ]
  },
  {
   "cell_type": "code",
   "execution_count": 106,
   "id": "284681f2",
   "metadata": {},
   "outputs": [
    {
     "data": {
      "text/plain": [
       "[[64, 48], 78, 56, 34, 'Penn']"
      ]
     },
     "execution_count": 106,
     "metadata": {},
     "output_type": "execute_result"
    }
   ],
   "source": [
    "l[::-1]"
   ]
  },
  {
   "cell_type": "code",
   "execution_count": 107,
   "id": "d6367d20",
   "metadata": {},
   "outputs": [
    {
     "data": {
      "text/plain": [
       "['P', 'e', 'n', 'n']"
      ]
     },
     "execution_count": 107,
     "metadata": {},
     "output_type": "execute_result"
    }
   ],
   "source": [
    "s = \"Penn\"\n",
    "s = list(s)\n",
    "s\n"
   ]
  },
  {
   "cell_type": "code",
   "execution_count": 108,
   "id": "62d800d8",
   "metadata": {},
   "outputs": [
    {
     "data": {
      "text/plain": [
       "['Penn', 34, 56, 78, [64, 48], 'P', 'e', 'n', 'n']"
      ]
     },
     "execution_count": 108,
     "metadata": {},
     "output_type": "execute_result"
    }
   ],
   "source": [
    "l + s\n"
   ]
  },
  {
   "cell_type": "code",
   "execution_count": 109,
   "id": "3dee0e19",
   "metadata": {},
   "outputs": [
    {
     "data": {
      "text/plain": [
       "['Penn', 34, 56, 78, [64, 48], 'Penn', 34, 56, 78, [64, 48]]"
      ]
     },
     "execution_count": 109,
     "metadata": {},
     "output_type": "execute_result"
    }
   ],
   "source": [
    "l*2"
   ]
  },
  {
   "cell_type": "code",
   "execution_count": 110,
   "id": "d7f1d85b",
   "metadata": {},
   "outputs": [
    {
     "data": {
      "text/plain": [
       "['Penn', 34, 56, 78, [64, 48]]"
      ]
     },
     "execution_count": 110,
     "metadata": {},
     "output_type": "execute_result"
    }
   ],
   "source": [
    "\n",
    "l"
   ]
  },
  {
   "cell_type": "code",
   "execution_count": 111,
   "id": "e1972ab9",
   "metadata": {},
   "outputs": [
    {
     "data": {
      "text/plain": [
       "5"
      ]
     },
     "execution_count": 111,
     "metadata": {},
     "output_type": "execute_result"
    }
   ],
   "source": [
    "len(l)"
   ]
  },
  {
   "cell_type": "code",
   "execution_count": 112,
   "id": "13f0c24d",
   "metadata": {},
   "outputs": [
    {
     "data": {
      "text/plain": [
       "True"
      ]
     },
     "execution_count": 112,
     "metadata": {},
     "output_type": "execute_result"
    }
   ],
   "source": [
    "\"Penn\" in l"
   ]
  },
  {
   "cell_type": "code",
   "execution_count": 113,
   "id": "b66e8155",
   "metadata": {},
   "outputs": [
    {
     "data": {
      "text/plain": [
       "False"
      ]
     },
     "execution_count": 113,
     "metadata": {},
     "output_type": "execute_result"
    }
   ],
   "source": [
    "\"Laksh\" in l"
   ]
  },
  {
   "cell_type": "code",
   "execution_count": 114,
   "id": "ed61ad34",
   "metadata": {},
   "outputs": [
    {
     "data": {
      "text/plain": [
       "False"
      ]
     },
     "execution_count": 114,
     "metadata": {},
     "output_type": "execute_result"
    }
   ],
   "source": [
    "456 in l"
   ]
  },
  {
   "cell_type": "code",
   "execution_count": 115,
   "id": "05a9bbb0",
   "metadata": {},
   "outputs": [],
   "source": [
    "#list: can hold any type of datatype"
   ]
  },
  {
   "cell_type": "code",
   "execution_count": 116,
   "id": "dff924ea",
   "metadata": {},
   "outputs": [],
   "source": [
    "l = [\"Penn\", 234, 45.6, [456, 78, \"c\"], True]"
   ]
  },
  {
   "cell_type": "code",
   "execution_count": 117,
   "id": "c3f29d70",
   "metadata": {},
   "outputs": [
    {
     "name": "stdout",
     "output_type": "stream",
     "text": [
      "Penn\n",
      "234\n",
      "45.6\n",
      "[456, 78, 'c']\n",
      "True\n"
     ]
    }
   ],
   "source": [
    "for i in l:\n",
    "    print(i)"
   ]
  },
  {
   "cell_type": "code",
   "execution_count": 118,
   "id": "83e803a6",
   "metadata": {},
   "outputs": [
    {
     "data": {
      "text/plain": [
       "'Penn'"
      ]
     },
     "execution_count": 118,
     "metadata": {},
     "output_type": "execute_result"
    }
   ],
   "source": [
    "#Parsing through a list through indexes\n",
    "l[0]"
   ]
  },
  {
   "cell_type": "code",
   "execution_count": 119,
   "id": "ab8af7c6",
   "metadata": {},
   "outputs": [
    {
     "data": {
      "text/plain": [
       "[True, [456, 78, 'c'], 45.6, 234, 'Penn']"
      ]
     },
     "execution_count": 119,
     "metadata": {},
     "output_type": "execute_result"
    }
   ],
   "source": [
    "l[::-1]"
   ]
  },
  {
   "cell_type": "code",
   "execution_count": 120,
   "id": "56c8ba62",
   "metadata": {},
   "outputs": [
    {
     "name": "stdout",
     "output_type": "stream",
     "text": [
      "No its not a list Penn\n",
      "No its not a list 234\n",
      "No its not a list 45.6\n",
      "This is a list [456, 78, 'c']\n",
      "No its not a list True\n"
     ]
    }
   ],
   "source": [
    "for i in l:\n",
    "    if type(i) == list:\n",
    "        print(\"This is a list\", i)\n",
    "    else:\n",
    "        print(\"No its not a list\", i)"
   ]
  },
  {
   "cell_type": "code",
   "execution_count": 121,
   "id": "b8edc7ba",
   "metadata": {},
   "outputs": [
    {
     "data": {
      "text/plain": [
       "['Penn', 234, 45.6, [456, 78, 'c'], True]"
      ]
     },
     "execution_count": 121,
     "metadata": {},
     "output_type": "execute_result"
    }
   ],
   "source": [
    "l"
   ]
  },
  {
   "cell_type": "code",
   "execution_count": 122,
   "id": "bba49a7e",
   "metadata": {},
   "outputs": [],
   "source": [
    "l1 = [\"ineuron\", \"jeygey\", 4736732]\n"
   ]
  },
  {
   "cell_type": "code",
   "execution_count": 123,
   "id": "c61b198a",
   "metadata": {},
   "outputs": [
    {
     "data": {
      "text/plain": [
       "['Penn', 234, 45.6, [456, 78, 'c'], True, 'ineuron', 'jeygey', 4736732]"
      ]
     },
     "execution_count": 123,
     "metadata": {},
     "output_type": "execute_result"
    }
   ],
   "source": [
    "#Appending list\n",
    "l + l1"
   ]
  },
  {
   "cell_type": "code",
   "execution_count": 124,
   "id": "eb770b09",
   "metadata": {},
   "outputs": [
    {
     "data": {
      "text/plain": [
       "True"
      ]
     },
     "execution_count": 124,
     "metadata": {},
     "output_type": "execute_result"
    }
   ],
   "source": [
    "#in is used to find elements in a list\n",
    "\n",
    "True in l"
   ]
  },
  {
   "cell_type": "code",
   "execution_count": 125,
   "id": "9b4c0fea",
   "metadata": {},
   "outputs": [
    {
     "data": {
      "text/plain": [
       "False"
      ]
     },
     "execution_count": 125,
     "metadata": {},
     "output_type": "execute_result"
    }
   ],
   "source": [
    "345 in l"
   ]
  },
  {
   "cell_type": "code",
   "execution_count": 126,
   "id": "c0db8aaf",
   "metadata": {},
   "outputs": [
    {
     "name": "stdout",
     "output_type": "stream",
     "text": [
      "5\n"
     ]
    }
   ],
   "source": [
    "#To extract the biggest element\n",
    "print(max([2,3,4,5]))"
   ]
  },
  {
   "cell_type": "code",
   "execution_count": 127,
   "id": "d1bc1e95",
   "metadata": {},
   "outputs": [
    {
     "ename": "TypeError",
     "evalue": "'>' not supported between instances of 'int' and 'str'",
     "output_type": "error",
     "traceback": [
      "\u001b[1;31m---------------------------------------------------------------------------\u001b[0m",
      "\u001b[1;31mTypeError\u001b[0m                                 Traceback (most recent call last)",
      "\u001b[1;32m<ipython-input-127-d74fc7fc2076>\u001b[0m in \u001b[0;36m<module>\u001b[1;34m\u001b[0m\n\u001b[0;32m      1\u001b[0m \u001b[1;31m#max function will not work good with the combination of str and int\u001b[0m\u001b[1;33m\u001b[0m\u001b[1;33m\u001b[0m\u001b[1;33m\u001b[0m\u001b[0m\n\u001b[1;32m----> 2\u001b[1;33m \u001b[0mmax\u001b[0m\u001b[1;33m(\u001b[0m\u001b[1;33m[\u001b[0m\u001b[1;34m\"akha\"\u001b[0m\u001b[1;33m,\u001b[0m \u001b[1;34m\"kdjfeuoq\"\u001b[0m\u001b[1;33m,\u001b[0m \u001b[1;36m23874\u001b[0m\u001b[1;33m]\u001b[0m\u001b[1;33m)\u001b[0m\u001b[1;33m\u001b[0m\u001b[1;33m\u001b[0m\u001b[0m\n\u001b[0m",
      "\u001b[1;31mTypeError\u001b[0m: '>' not supported between instances of 'int' and 'str'"
     ]
    }
   ],
   "source": [
    "#max function will not work good with the combination of str and int\n",
    "max([\"akha\", \"kdjfeuoq\", 23874])"
   ]
  },
  {
   "cell_type": "code",
   "execution_count": 128,
   "id": "bba5b881",
   "metadata": {},
   "outputs": [
    {
     "data": {
      "text/plain": [
       "'z'"
      ]
     },
     "execution_count": 128,
     "metadata": {},
     "output_type": "execute_result"
    }
   ],
   "source": [
    "max([\"akha\", \"kdjfeuoq\", \"AI\", \"z\"])"
   ]
  },
  {
   "cell_type": "code",
   "execution_count": 129,
   "id": "f0e638e7",
   "metadata": {},
   "outputs": [
    {
     "data": {
      "text/plain": [
       "74"
      ]
     },
     "execution_count": 129,
     "metadata": {},
     "output_type": "execute_result"
    }
   ],
   "source": [
    "min([74, 493, 9584,])"
   ]
  },
  {
   "cell_type": "code",
   "execution_count": 130,
   "id": "b301fb3b",
   "metadata": {},
   "outputs": [
    {
     "data": {
      "text/plain": [
       "'kfh'"
      ]
     },
     "execution_count": 130,
     "metadata": {},
     "output_type": "execute_result"
    }
   ],
   "source": [
    "min([\"kjdhsd\",\"kfh\",\"wqrq\"])"
   ]
  },
  {
   "cell_type": "code",
   "execution_count": 131,
   "id": "3c91e3ba",
   "metadata": {},
   "outputs": [],
   "source": [
    "#Append method: Add data *at the end* of the list, It takes only 1 element at a time.\n",
    "\n",
    "l = [1,2,3,4]\n",
    "l.append(\"hbfdf\")"
   ]
  },
  {
   "cell_type": "code",
   "execution_count": 132,
   "id": "c6de9f0a",
   "metadata": {},
   "outputs": [
    {
     "data": {
      "text/plain": [
       "[1, 2, 3, 4, 'hbfdf']"
      ]
     },
     "execution_count": 132,
     "metadata": {},
     "output_type": "execute_result"
    }
   ],
   "source": [
    "l"
   ]
  },
  {
   "cell_type": "code",
   "execution_count": 133,
   "id": "76a7585d",
   "metadata": {},
   "outputs": [],
   "source": [
    "#But we can append more than 1 element using this method in the form of a list\n",
    "l.append([3,5,6,76])"
   ]
  },
  {
   "cell_type": "code",
   "execution_count": 134,
   "id": "fef89390",
   "metadata": {},
   "outputs": [
    {
     "data": {
      "text/plain": [
       "[1, 2, 3, 4, 'hbfdf', [3, 5, 6, 76]]"
      ]
     },
     "execution_count": 134,
     "metadata": {},
     "output_type": "execute_result"
    }
   ],
   "source": [
    "l"
   ]
  },
  {
   "cell_type": "code",
   "execution_count": 135,
   "id": "4b389747",
   "metadata": {},
   "outputs": [
    {
     "data": {
      "text/plain": [
       "[1, 2, 3, 4, 'hbfdf', [3, 5, 6, 76]]"
      ]
     },
     "execution_count": 135,
     "metadata": {},
     "output_type": "execute_result"
    }
   ],
   "source": [
    "#Insert operation: Append data at any specific indexes.\n",
    "l"
   ]
  },
  {
   "cell_type": "code",
   "execution_count": 136,
   "id": "66162fc1",
   "metadata": {},
   "outputs": [],
   "source": [
    "l.insert(3, \"Penn\")\n",
    "\n",
    "#Insert Penn at 3rd position, and shifts it by 1"
   ]
  },
  {
   "cell_type": "code",
   "execution_count": 137,
   "id": "9a7ec1bc",
   "metadata": {},
   "outputs": [
    {
     "data": {
      "text/plain": [
       "[1, 2, 3, 'Penn', 4, 'hbfdf', [3, 5, 6, 76]]"
      ]
     },
     "execution_count": 137,
     "metadata": {},
     "output_type": "execute_result"
    }
   ],
   "source": [
    "l"
   ]
  },
  {
   "cell_type": "code",
   "execution_count": 138,
   "id": "c63d243a",
   "metadata": {},
   "outputs": [],
   "source": [
    "l.insert(-1, \"test\")"
   ]
  },
  {
   "cell_type": "code",
   "execution_count": 139,
   "id": "b27afc3e",
   "metadata": {},
   "outputs": [
    {
     "data": {
      "text/plain": [
       "[1, 2, 3, 'Penn', 4, 'hbfdf', 'test', [3, 5, 6, 76]]"
      ]
     },
     "execution_count": 139,
     "metadata": {},
     "output_type": "execute_result"
    }
   ],
   "source": [
    "l\n",
    "#It inserts the given element at any position given before the indexes. "
   ]
  },
  {
   "cell_type": "code",
   "execution_count": 140,
   "id": "b9fd3af0",
   "metadata": {},
   "outputs": [],
   "source": [
    "l.insert(-1, \"test2\")"
   ]
  },
  {
   "cell_type": "code",
   "execution_count": 141,
   "id": "da5567e4",
   "metadata": {},
   "outputs": [
    {
     "data": {
      "text/plain": [
       "[1, 2, 3, 'Penn', 4, 'hbfdf', 'test', 'test2', [3, 5, 6, 76]]"
      ]
     },
     "execution_count": 141,
     "metadata": {},
     "output_type": "execute_result"
    }
   ],
   "source": [
    "l"
   ]
  },
  {
   "cell_type": "code",
   "execution_count": 142,
   "id": "72683e21",
   "metadata": {},
   "outputs": [],
   "source": [
    "l.insert(-1, \"test3\")"
   ]
  },
  {
   "cell_type": "code",
   "execution_count": 143,
   "id": "8509891e",
   "metadata": {},
   "outputs": [
    {
     "data": {
      "text/plain": [
       "[1, 2, 3, 'Penn', 4, 'hbfdf', 'test', 'test2', 'test3', [3, 5, 6, 76]]"
      ]
     },
     "execution_count": 143,
     "metadata": {},
     "output_type": "execute_result"
    }
   ],
   "source": [
    "l"
   ]
  },
  {
   "cell_type": "code",
   "execution_count": 144,
   "id": "ea2232db",
   "metadata": {},
   "outputs": [
    {
     "data": {
      "text/plain": [
       "1"
      ]
     },
     "execution_count": 144,
     "metadata": {},
     "output_type": "execute_result"
    }
   ],
   "source": [
    "#count method is used to calcuate how many times an element is repeated.\n",
    "l.count(\"test\")"
   ]
  },
  {
   "cell_type": "code",
   "execution_count": 145,
   "id": "c5fad096",
   "metadata": {},
   "outputs": [],
   "source": [
    "#extend operation:\n",
    "\n",
    "l = [1,2,3,4]\n"
   ]
  },
  {
   "cell_type": "code",
   "execution_count": 146,
   "id": "64cccae8",
   "metadata": {},
   "outputs": [
    {
     "data": {
      "text/plain": [
       "[1, 2, 3, 4, 'Penn']"
      ]
     },
     "execution_count": 146,
     "metadata": {},
     "output_type": "execute_result"
    }
   ],
   "source": [
    "l.append(\"Penn\")\n",
    "l"
   ]
  },
  {
   "cell_type": "code",
   "execution_count": 147,
   "id": "5edcced2",
   "metadata": {},
   "outputs": [],
   "source": [
    "l.append([132,43,445,3])"
   ]
  },
  {
   "cell_type": "code",
   "execution_count": 148,
   "id": "2357e85e",
   "metadata": {},
   "outputs": [
    {
     "data": {
      "text/plain": [
       "[1, 2, 3, 4, 'Penn', [132, 43, 445, 3]]"
      ]
     },
     "execution_count": 148,
     "metadata": {},
     "output_type": "execute_result"
    }
   ],
   "source": [
    "l"
   ]
  },
  {
   "cell_type": "code",
   "execution_count": 149,
   "id": "98258fa6",
   "metadata": {},
   "outputs": [],
   "source": [
    "l.extend(\"test1\")"
   ]
  },
  {
   "cell_type": "code",
   "execution_count": 150,
   "id": "b340dc37",
   "metadata": {},
   "outputs": [
    {
     "data": {
      "text/plain": [
       "[1, 2, 3, 4, 'Penn', [132, 43, 445, 3], 't', 'e', 's', 't', '1']"
      ]
     },
     "execution_count": 150,
     "metadata": {},
     "output_type": "execute_result"
    }
   ],
   "source": [
    "l"
   ]
  },
  {
   "cell_type": "code",
   "execution_count": 151,
   "id": "9bb88f39",
   "metadata": {},
   "outputs": [
    {
     "data": {
      "text/plain": [
       "['t', 'e', 's', 't', '1']"
      ]
     },
     "execution_count": 151,
     "metadata": {},
     "output_type": "execute_result"
    }
   ],
   "source": [
    "s = \"test1\"\n",
    "list(s)"
   ]
  },
  {
   "cell_type": "code",
   "execution_count": 152,
   "id": "abf63042",
   "metadata": {},
   "outputs": [
    {
     "ename": "TypeError",
     "evalue": "'int' object is not iterable",
     "output_type": "error",
     "traceback": [
      "\u001b[1;31m---------------------------------------------------------------------------\u001b[0m",
      "\u001b[1;31mTypeError\u001b[0m                                 Traceback (most recent call last)",
      "\u001b[1;32m<ipython-input-152-d9eeb70b1f51>\u001b[0m in \u001b[0;36m<module>\u001b[1;34m\u001b[0m\n\u001b[1;32m----> 1\u001b[1;33m \u001b[0ml\u001b[0m\u001b[1;33m.\u001b[0m\u001b[0mextend\u001b[0m\u001b[1;33m(\u001b[0m\u001b[1;36m45\u001b[0m\u001b[1;33m)\u001b[0m\u001b[1;33m\u001b[0m\u001b[1;33m\u001b[0m\u001b[0m\n\u001b[0m",
      "\u001b[1;31mTypeError\u001b[0m: 'int' object is not iterable"
     ]
    }
   ],
   "source": [
    "l.extend(45)"
   ]
  },
  {
   "cell_type": "code",
   "execution_count": 153,
   "id": "a0116f69",
   "metadata": {},
   "outputs": [],
   "source": [
    "l.extend([74,5,78])"
   ]
  },
  {
   "cell_type": "code",
   "execution_count": 154,
   "id": "7c736792",
   "metadata": {},
   "outputs": [
    {
     "data": {
      "text/plain": [
       "[1, 2, 3, 4, 'Penn', [132, 43, 445, 3], 't', 'e', 's', 't', '1', 74, 5, 78]"
      ]
     },
     "execution_count": 154,
     "metadata": {},
     "output_type": "execute_result"
    }
   ],
   "source": [
    "l"
   ]
  },
  {
   "cell_type": "markdown",
   "id": "9eaba2bc",
   "metadata": {},
   "source": [
    "#Extend will merge two lists together\n",
    "\n",
    "\n",
    "\"\"\"Append                                  Extend\n",
    " Can take any object                       Will only take the iterable object\n",
    " Any datatype is inserted as it is         Extend will unravel it, unwrap it and merge it inside the e\n",
    " Can give integer inside this              Cant give int, as int is an uniterable object\"\"\""
   ]
  },
  {
   "cell_type": "code",
   "execution_count": 155,
   "id": "5d54aa76",
   "metadata": {},
   "outputs": [
    {
     "data": {
      "text/plain": [
       "2"
      ]
     },
     "execution_count": 155,
     "metadata": {},
     "output_type": "execute_result"
    }
   ],
   "source": [
    "#Index will give you the first occurence of element specified(Eg: It is 3 here)\n",
    "\n",
    "l.index(3)"
   ]
  },
  {
   "cell_type": "code",
   "execution_count": 156,
   "id": "e3e9a77d",
   "metadata": {},
   "outputs": [
    {
     "data": {
      "text/plain": [
       "[1, 2, 3, 4, 'Penn', [132, 43, 445, 3], 't', 'e', 's', 't', '1', 74, 5, 78]"
      ]
     },
     "execution_count": 156,
     "metadata": {},
     "output_type": "execute_result"
    }
   ],
   "source": [
    "l"
   ]
  },
  {
   "cell_type": "code",
   "execution_count": 157,
   "id": "b8cde6e0",
   "metadata": {},
   "outputs": [
    {
     "data": {
      "text/plain": [
       "78"
      ]
     },
     "execution_count": 157,
     "metadata": {},
     "output_type": "execute_result"
    }
   ],
   "source": [
    "#l.pop():Pop out the last item in a list permanently\n",
    "\n",
    "l.pop()"
   ]
  },
  {
   "cell_type": "code",
   "execution_count": 158,
   "id": "fb52fb15",
   "metadata": {},
   "outputs": [
    {
     "data": {
      "text/plain": [
       "[1, 2, 3, 4, 'Penn', [132, 43, 445, 3], 't', 'e', 's', 't', '1', 74, 5]"
      ]
     },
     "execution_count": 158,
     "metadata": {},
     "output_type": "execute_result"
    }
   ],
   "source": [
    "l"
   ]
  },
  {
   "cell_type": "code",
   "execution_count": 159,
   "id": "cca23d1e",
   "metadata": {},
   "outputs": [
    {
     "data": {
      "text/plain": [
       "1"
      ]
     },
     "execution_count": 159,
     "metadata": {},
     "output_type": "execute_result"
    }
   ],
   "source": [
    "l.pop(0)"
   ]
  },
  {
   "cell_type": "code",
   "execution_count": 160,
   "id": "3818911f",
   "metadata": {},
   "outputs": [
    {
     "data": {
      "text/plain": [
       "[2, 3, 4, 'Penn', [132, 43, 445, 3], 't', 'e', 's', 't', '1', 74, 5]"
      ]
     },
     "execution_count": 160,
     "metadata": {},
     "output_type": "execute_result"
    }
   ],
   "source": [
    "l"
   ]
  },
  {
   "cell_type": "code",
   "execution_count": 161,
   "id": "01399f65",
   "metadata": {},
   "outputs": [],
   "source": [
    "l.remove(4)"
   ]
  },
  {
   "cell_type": "code",
   "execution_count": 162,
   "id": "ac1f9015",
   "metadata": {},
   "outputs": [
    {
     "data": {
      "text/plain": [
       "[2, 3, 'Penn', [132, 43, 445, 3], 't', 'e', 's', 't', '1', 74, 5]"
      ]
     },
     "execution_count": 162,
     "metadata": {},
     "output_type": "execute_result"
    }
   ],
   "source": [
    "l"
   ]
  },
  {
   "cell_type": "code",
   "execution_count": 163,
   "id": "ff4bb078",
   "metadata": {},
   "outputs": [],
   "source": [
    "l = [1,2,3,4,4,4,4,4]\n",
    "l.remove(4)"
   ]
  },
  {
   "cell_type": "code",
   "execution_count": 164,
   "id": "504b2269",
   "metadata": {},
   "outputs": [
    {
     "data": {
      "text/plain": [
       "[1, 2, 3, 4, 4, 4, 4]"
      ]
     },
     "execution_count": 164,
     "metadata": {},
     "output_type": "execute_result"
    }
   ],
   "source": [
    "l"
   ]
  },
  {
   "cell_type": "markdown",
   "id": "ad816326",
   "metadata": {},
   "source": [
    "#.remove will only remove the 1st occurence of repeated elements in a list\n",
    "\n",
    "#.pop, remove the data based on indexes and .remove, will remove data matching that we have in the list"
   ]
  },
  {
   "cell_type": "code",
   "execution_count": 165,
   "id": "543582d4",
   "metadata": {},
   "outputs": [],
   "source": [
    "l.reverse()\n",
    "\n",
    "#Permanently reverse the order"
   ]
  },
  {
   "cell_type": "code",
   "execution_count": 166,
   "id": "8618a0f7",
   "metadata": {},
   "outputs": [
    {
     "data": {
      "text/plain": [
       "[4, 4, 4, 4, 3, 2, 1]"
      ]
     },
     "execution_count": 166,
     "metadata": {},
     "output_type": "execute_result"
    }
   ],
   "source": [
    "l"
   ]
  },
  {
   "cell_type": "code",
   "execution_count": 167,
   "id": "f840c7dd",
   "metadata": {},
   "outputs": [],
   "source": [
    "l = [23,324,4,34,34,\"dsfhf\", \"skjfhef\"]"
   ]
  },
  {
   "cell_type": "code",
   "execution_count": 168,
   "id": "a0da8df6",
   "metadata": {},
   "outputs": [
    {
     "ename": "TypeError",
     "evalue": "'<' not supported between instances of 'str' and 'int'",
     "output_type": "error",
     "traceback": [
      "\u001b[1;31m---------------------------------------------------------------------------\u001b[0m",
      "\u001b[1;31mTypeError\u001b[0m                                 Traceback (most recent call last)",
      "\u001b[1;32m<ipython-input-168-fb07ac7c73ab>\u001b[0m in \u001b[0;36m<module>\u001b[1;34m\u001b[0m\n\u001b[1;32m----> 1\u001b[1;33m \u001b[0ml\u001b[0m\u001b[1;33m.\u001b[0m\u001b[0msort\u001b[0m\u001b[1;33m(\u001b[0m\u001b[1;33m)\u001b[0m\u001b[1;33m\u001b[0m\u001b[1;33m\u001b[0m\u001b[0m\n\u001b[0m",
      "\u001b[1;31mTypeError\u001b[0m: '<' not supported between instances of 'str' and 'int'"
     ]
    }
   ],
   "source": [
    "l.sort()"
   ]
  },
  {
   "cell_type": "code",
   "execution_count": 169,
   "id": "c57fa607",
   "metadata": {},
   "outputs": [
    {
     "data": {
      "text/plain": [
       "[23, 324, 4, 34, 34]"
      ]
     },
     "execution_count": 169,
     "metadata": {},
     "output_type": "execute_result"
    }
   ],
   "source": [
    "l = [23,324,4,34,34]\n",
    "l"
   ]
  },
  {
   "cell_type": "code",
   "execution_count": 170,
   "id": "dca3b1e4",
   "metadata": {},
   "outputs": [],
   "source": [
    "l.sort()"
   ]
  },
  {
   "cell_type": "code",
   "execution_count": 171,
   "id": "44e6b648",
   "metadata": {},
   "outputs": [
    {
     "data": {
      "text/plain": [
       "[4, 23, 34, 34, 324]"
      ]
     },
     "execution_count": 171,
     "metadata": {},
     "output_type": "execute_result"
    }
   ],
   "source": [
    " l"
   ]
  },
  {
   "cell_type": "markdown",
   "id": "ea9deccc",
   "metadata": {},
   "source": [
    "QUESTIONS\n",
    "\n",
    "l = [ [ ] [ ] [ ] ]\n",
    "\n",
    "1. Append 2 more lists and 1 more complex number in between the existing list\n",
    "2. If your nested list contains a string then find out its index in the nested list and then print it and remove the string.\n",
    "3. Extract the second element of the nested list\n"
   ]
  },
  {
   "cell_type": "code",
   "execution_count": 172,
   "id": "faab9bf7",
   "metadata": {},
   "outputs": [],
   "source": [
    "l = [[1, 2, \"Penn\"], [\"sdfgsd\", 46 + 6j, 3847], [1,2,3]]\n",
    "l.insert(2, ([45,46,47],[346,137], 45+4j))"
   ]
  },
  {
   "cell_type": "code",
   "execution_count": 173,
   "id": "3402676e",
   "metadata": {},
   "outputs": [
    {
     "data": {
      "text/plain": [
       "[[1, 2, 'Penn'],\n",
       " ['sdfgsd', (46+6j), 3847],\n",
       " ([45, 46, 47], [346, 137], (45+4j)),\n",
       " [1, 2, 3]]"
      ]
     },
     "execution_count": 173,
     "metadata": {},
     "output_type": "execute_result"
    }
   ],
   "source": [
    "l"
   ]
  },
  {
   "cell_type": "code",
   "execution_count": 174,
   "id": "d4ab20a2",
   "metadata": {},
   "outputs": [
    {
     "data": {
      "text/plain": [
       "0"
      ]
     },
     "execution_count": 174,
     "metadata": {},
     "output_type": "execute_result"
    }
   ],
   "source": [
    "l.index([1, 2, 'Penn'])"
   ]
  },
  {
   "cell_type": "code",
   "execution_count": 175,
   "id": "f27ee653",
   "metadata": {},
   "outputs": [
    {
     "data": {
      "text/plain": [
       "'Penn'"
      ]
     },
     "execution_count": 175,
     "metadata": {},
     "output_type": "execute_result"
    }
   ],
   "source": [
    "l[0][2]"
   ]
  },
  {
   "cell_type": "code",
   "execution_count": 176,
   "id": "f57272dc",
   "metadata": {},
   "outputs": [],
   "source": [
    "l = [[1,2,3], [11,23, \"b\", \"b\", \"b\"], [21, \"t\", 23]]"
   ]
  },
  {
   "cell_type": "code",
   "execution_count": 177,
   "id": "c1874058",
   "metadata": {},
   "outputs": [
    {
     "data": {
      "text/plain": [
       "[[1, 2, 3], [11, 23, 'b', 'b', 'b'], [21, 't', 23]]"
      ]
     },
     "execution_count": 177,
     "metadata": {},
     "output_type": "execute_result"
    }
   ],
   "source": [
    "l"
   ]
  },
  {
   "cell_type": "code",
   "execution_count": 178,
   "id": "b10be258",
   "metadata": {},
   "outputs": [
    {
     "name": "stdout",
     "output_type": "stream",
     "text": [
      "The index of b in the nested list is 2\n",
      "The index of b in the nested list is 3\n",
      "The index of b in the nested list is 4\n",
      "The index of t in the nested list is 1\n"
     ]
    }
   ],
   "source": [
    "for i in l:\n",
    "    if type(i) == list:\n",
    "        j=0\n",
    "        while j < len(i):\n",
    "            if type(i[j]) is str:\n",
    "                print(\"The index of {} in the nested list is\".format (i[j]), j)\n",
    "            j = j + 1\n",
    "            \n"
   ]
  },
  {
   "cell_type": "code",
   "execution_count": 179,
   "id": "1092d27b",
   "metadata": {},
   "outputs": [
    {
     "data": {
      "text/plain": [
       "[[1, 2, 3], [11, 23, 'b', 'b', 'b'], [21, 't', 23]]"
      ]
     },
     "execution_count": 179,
     "metadata": {},
     "output_type": "execute_result"
    }
   ],
   "source": [
    "l"
   ]
  },
  {
   "cell_type": "code",
   "execution_count": 180,
   "id": "e5c73b5c",
   "metadata": {},
   "outputs": [
    {
     "name": "stdout",
     "output_type": "stream",
     "text": [
      "The new list is [[1, 2, 3], [11, 23], [21, 23]]\n"
     ]
    }
   ],
   "source": [
    "for i in l:\n",
    "    if type(i) == list:\n",
    "        j = 0\n",
    "        while j < len(i):\n",
    "            if type(i[j]) is str:\n",
    "                i.remove(i[j])\n",
    "                continue\n",
    "            j = j + 1\n",
    "print(\"The new list is\", l)"
   ]
  },
  {
   "cell_type": "code",
   "execution_count": 181,
   "id": "a5b2515c",
   "metadata": {},
   "outputs": [],
   "source": [
    "#Using Count Method"
   ]
  },
  {
   "cell_type": "code",
   "execution_count": 182,
   "id": "91bbced5",
   "metadata": {},
   "outputs": [],
   "source": [
    "#Taking the input from user and trying to make in the form of a list"
   ]
  },
  {
   "cell_type": "code",
   "execution_count": 186,
   "id": "9d24f7f8",
   "metadata": {},
   "outputs": [
    {
     "name": "stdout",
     "output_type": "stream",
     "text": [
      "3\n",
      "4\n",
      "5\n",
      "6\n",
      "7\n",
      "[3, 4, 5, 6, 7]\n"
     ]
    }
   ],
   "source": [
    "l = []\n",
    "for i in range(5):\n",
    "    l.append(int(input()))\n",
    "print(l)"
   ]
  },
  {
   "cell_type": "markdown",
   "id": "1b37f928",
   "metadata": {},
   "source": [
    "# List Comprehension"
   ]
  },
  {
   "cell_type": "code",
   "execution_count": 192,
   "id": "56af49e1",
   "metadata": {},
   "outputs": [],
   "source": [
    "#Suppose we have to append some data inside this list"
   ]
  },
  {
   "cell_type": "code",
   "execution_count": 193,
   "id": "3b1410a9",
   "metadata": {},
   "outputs": [],
   "source": [
    "l = [1,2,3,4,5]"
   ]
  },
  {
   "cell_type": "code",
   "execution_count": 194,
   "id": "e17fe147",
   "metadata": {},
   "outputs": [],
   "source": [
    "l1 = []"
   ]
  },
  {
   "cell_type": "code",
   "execution_count": 195,
   "id": "9143723b",
   "metadata": {},
   "outputs": [],
   "source": [
    "for i in \"Penn\":\n",
    "    l1.append(i)"
   ]
  },
  {
   "cell_type": "code",
   "execution_count": 196,
   "id": "dae1e449",
   "metadata": {},
   "outputs": [
    {
     "data": {
      "text/plain": [
       "['P', 'e', 'n', 'n']"
      ]
     },
     "execution_count": 196,
     "metadata": {},
     "output_type": "execute_result"
    }
   ],
   "source": [
    "l1"
   ]
  },
  {
   "cell_type": "code",
   "execution_count": 197,
   "id": "27905cbd",
   "metadata": {},
   "outputs": [],
   "source": [
    "#Using List comprehension method"
   ]
  },
  {
   "cell_type": "code",
   "execution_count": 198,
   "id": "4c5f91c5",
   "metadata": {},
   "outputs": [
    {
     "data": {
      "text/plain": [
       "['P', 'e', 'n', 'n']"
      ]
     },
     "execution_count": 198,
     "metadata": {},
     "output_type": "execute_result"
    }
   ],
   "source": [
    "[i for i in \"Penn\"]"
   ]
  },
  {
   "cell_type": "code",
   "execution_count": 199,
   "id": "f5bee4ab",
   "metadata": {},
   "outputs": [
    {
     "data": {
      "text/plain": [
       "[['P'], ['e'], ['n'], ['n']]"
      ]
     },
     "execution_count": 199,
     "metadata": {},
     "output_type": "execute_result"
    }
   ],
   "source": [
    "#List of list\n",
    "[[i] for i in \"Penn\"]"
   ]
  },
  {
   "cell_type": "code",
   "execution_count": 200,
   "id": "07b7d0ba",
   "metadata": {},
   "outputs": [],
   "source": [
    "#Appending even numbers"
   ]
  },
  {
   "cell_type": "code",
   "execution_count": 201,
   "id": "eb82647b",
   "metadata": {},
   "outputs": [],
   "source": [
    "#Conventional method"
   ]
  },
  {
   "cell_type": "code",
   "execution_count": 202,
   "id": "a8d106fb",
   "metadata": {},
   "outputs": [],
   "source": [
    "l = []\n",
    "for i in range(10):\n",
    "    if i%2 == 0:\n",
    "        l.append(i)"
   ]
  },
  {
   "cell_type": "code",
   "execution_count": 203,
   "id": "d605068e",
   "metadata": {},
   "outputs": [
    {
     "data": {
      "text/plain": [
       "[0, 2, 4, 6, 8]"
      ]
     },
     "execution_count": 203,
     "metadata": {},
     "output_type": "execute_result"
    }
   ],
   "source": [
    "l"
   ]
  },
  {
   "cell_type": "code",
   "execution_count": 205,
   "id": "7a1e9aaf",
   "metadata": {},
   "outputs": [],
   "source": [
    "#Using list comprehension"
   ]
  },
  {
   "cell_type": "code",
   "execution_count": 206,
   "id": "bb58dce4",
   "metadata": {},
   "outputs": [
    {
     "data": {
      "text/plain": [
       "[0, 2, 4, 6, 8]"
      ]
     },
     "execution_count": 206,
     "metadata": {},
     "output_type": "execute_result"
    }
   ],
   "source": [
    "[i for i in range(10) if i%2 == 0]"
   ]
  },
  {
   "cell_type": "code",
   "execution_count": 207,
   "id": "86c8e7ff",
   "metadata": {},
   "outputs": [],
   "source": [
    "#Other example :\n",
    "l = []\n",
    "for i in range (10):\n",
    "    if i%2 != 0:\n",
    "        l.append(\"odd\")\n",
    "    else:\n",
    "        l.append(\"even\")"
   ]
  },
  {
   "cell_type": "code",
   "execution_count": 208,
   "id": "7ccc0f7d",
   "metadata": {},
   "outputs": [
    {
     "data": {
      "text/plain": [
       "['even', 'odd', 'even', 'odd', 'even', 'odd', 'even', 'odd', 'even', 'odd']"
      ]
     },
     "execution_count": 208,
     "metadata": {},
     "output_type": "execute_result"
    }
   ],
   "source": [
    "l"
   ]
  },
  {
   "cell_type": "code",
   "execution_count": 209,
   "id": "04971c35",
   "metadata": {},
   "outputs": [],
   "source": [
    "#Using LC:"
   ]
  },
  {
   "cell_type": "code",
   "execution_count": 210,
   "id": "0b1c59b8",
   "metadata": {},
   "outputs": [
    {
     "data": {
      "text/plain": [
       "['even', 'odd', 'even', 'odd', 'even', 'odd', 'even', 'odd', 'even', 'odd']"
      ]
     },
     "execution_count": 210,
     "metadata": {},
     "output_type": "execute_result"
    }
   ],
   "source": [
    "[\"odd\" if i%2 != 0 else \"even\" for i in range(10)]"
   ]
  },
  {
   "cell_type": "code",
   "execution_count": 211,
   "id": "1a002237",
   "metadata": {},
   "outputs": [
    {
     "data": {
      "text/plain": [
       "[[0, 1, 2], [0, 1, 2], [0, 1, 2]]"
      ]
     },
     "execution_count": 211,
     "metadata": {},
     "output_type": "execute_result"
    }
   ],
   "source": [
    "#Creating a nested list\n",
    "\n",
    "mat = []\n",
    "for i in range(3):\n",
    "    mat.append([])\n",
    "    for j in range(3):\n",
    "        mat[i].append(j)\n",
    "mat"
   ]
  },
  {
   "cell_type": "code",
   "execution_count": 212,
   "id": "ddbe1c6e",
   "metadata": {},
   "outputs": [
    {
     "data": {
      "text/plain": [
       "[[0, 1, 2], [0, 1, 2], [0, 1, 2]]"
      ]
     },
     "execution_count": 212,
     "metadata": {},
     "output_type": "execute_result"
    }
   ],
   "source": [
    "#Using LC:\n",
    "\n",
    "[[j for j in range (3)] for i in range (3)]"
   ]
  },
  {
   "cell_type": "code",
   "execution_count": 213,
   "id": "19196ab1",
   "metadata": {},
   "outputs": [
    {
     "data": {
      "text/plain": [
       "[0, 6]"
      ]
     },
     "execution_count": 213,
     "metadata": {},
     "output_type": "execute_result"
    }
   ],
   "source": [
    "#Checking for multiple condition\n",
    "[i for i in range(8) if i%2 == 0 if i%3 == 0 ]"
   ]
  },
  {
   "cell_type": "code",
   "execution_count": 214,
   "id": "50d59201",
   "metadata": {},
   "outputs": [],
   "source": [
    "l = []\n",
    "for i in range(8):\n",
    "    if i%2 == 0:\n",
    "        if i%3 == 0:\n",
    "            l.append(i)"
   ]
  },
  {
   "cell_type": "code",
   "execution_count": 215,
   "id": "d04ef043",
   "metadata": {},
   "outputs": [
    {
     "data": {
      "text/plain": [
       "[0, 6]"
      ]
     },
     "execution_count": 215,
     "metadata": {},
     "output_type": "execute_result"
    }
   ],
   "source": [
    "l"
   ]
  },
  {
   "cell_type": "code",
   "execution_count": 216,
   "id": "b876dd83",
   "metadata": {},
   "outputs": [],
   "source": [
    "l = []\n",
    "for i in range(10):\n",
    "    l.append(i)"
   ]
  },
  {
   "cell_type": "code",
   "execution_count": 217,
   "id": "a72ac80f",
   "metadata": {},
   "outputs": [
    {
     "data": {
      "text/plain": [
       "[0, 1, 2, 3, 4, 5, 6, 7, 8, 9]"
      ]
     },
     "execution_count": 217,
     "metadata": {},
     "output_type": "execute_result"
    }
   ],
   "source": [
    "l"
   ]
  },
  {
   "cell_type": "code",
   "execution_count": 218,
   "id": "9f34d080",
   "metadata": {},
   "outputs": [
    {
     "data": {
      "text/plain": [
       "['test', 'yes', 'no', 'test', 'test', 'test', 'test', 'test', 'test', 'test']"
      ]
     },
     "execution_count": 218,
     "metadata": {},
     "output_type": "execute_result"
    }
   ],
   "source": [
    "#Above example using LC:\n",
    "[\"yes\" if i == 1 else \"no\" if i == 2 else \"test\" for i in l]"
   ]
  },
  {
   "cell_type": "code",
   "execution_count": 219,
   "id": "a2f12058",
   "metadata": {},
   "outputs": [
    {
     "data": {
      "text/plain": [
       "[0, 1, 2, 3, 4, 5, 6, 7, 8, 9]"
      ]
     },
     "execution_count": 219,
     "metadata": {},
     "output_type": "execute_result"
    }
   ],
   "source": [
    "l"
   ]
  },
  {
   "cell_type": "code",
   "execution_count": 221,
   "id": "f35f9e75",
   "metadata": {},
   "outputs": [
    {
     "data": {
      "text/plain": [
       "['test', 'yes', 'no', 'test', 'test', 'test', 'test', 'test', 'test', 'test']"
      ]
     },
     "execution_count": 221,
     "metadata": {},
     "output_type": "execute_result"
    }
   ],
   "source": [
    "res = []\n",
    "for i in l:\n",
    "    if i == 1:\n",
    "        res.append(\"yes\")\n",
    "    elif i == 2:\n",
    "        res.append(\"no\")\n",
    "    else:\n",
    "        res.append(\"test\")\n",
    "res"
   ]
  },
  {
   "cell_type": "code",
   "execution_count": null,
   "id": "7c6c78cf",
   "metadata": {},
   "outputs": [],
   "source": []
  }
 ],
 "metadata": {
  "kernelspec": {
   "display_name": "Python 3",
   "language": "python",
   "name": "python3"
  },
  "language_info": {
   "codemirror_mode": {
    "name": "ipython",
    "version": 3
   },
   "file_extension": ".py",
   "mimetype": "text/x-python",
   "name": "python",
   "nbconvert_exporter": "python",
   "pygments_lexer": "ipython3",
   "version": "3.8.8"
  }
 },
 "nbformat": 4,
 "nbformat_minor": 5
}
