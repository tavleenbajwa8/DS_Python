{
 "cells": [
  {
   "cell_type": "markdown",
   "id": "ab01d92b",
   "metadata": {},
   "source": [
    "# Tuple"
   ]
  },
  {
   "cell_type": "code",
   "execution_count": 1,
   "id": "ae086030",
   "metadata": {},
   "outputs": [],
   "source": [
    "#Extension to lists"
   ]
  },
  {
   "cell_type": "code",
   "execution_count": 1,
   "id": "6b15e708",
   "metadata": {},
   "outputs": [],
   "source": [
    "t = ()"
   ]
  },
  {
   "cell_type": "code",
   "execution_count": 2,
   "id": "dd2e7755",
   "metadata": {},
   "outputs": [
    {
     "data": {
      "text/plain": [
       "tuple"
      ]
     },
     "execution_count": 2,
     "metadata": {},
     "output_type": "execute_result"
    }
   ],
   "source": [
    "type(t)"
   ]
  },
  {
   "cell_type": "code",
   "execution_count": 3,
   "id": "3d11144f",
   "metadata": {},
   "outputs": [
    {
     "data": {
      "text/plain": [
       "list"
      ]
     },
     "execution_count": 3,
     "metadata": {},
     "output_type": "execute_result"
    }
   ],
   "source": [
    "l = []\n",
    "type(l)"
   ]
  },
  {
   "cell_type": "code",
   "execution_count": 4,
   "id": "cba30117",
   "metadata": {},
   "outputs": [],
   "source": [
    "t1 = (21, 445, \"sgdh\", 3.45, True)"
   ]
  },
  {
   "cell_type": "code",
   "execution_count": 5,
   "id": "dbec3993",
   "metadata": {},
   "outputs": [],
   "source": [
    "l1 = [21, 445, \"sgdh\", 3.45, True]"
   ]
  },
  {
   "cell_type": "code",
   "execution_count": 6,
   "id": "5f1fe55d",
   "metadata": {},
   "outputs": [
    {
     "data": {
      "text/plain": [
       "21"
      ]
     },
     "execution_count": 6,
     "metadata": {},
     "output_type": "execute_result"
    }
   ],
   "source": [
    "t1[0]"
   ]
  },
  {
   "cell_type": "code",
   "execution_count": 7,
   "id": "f056eb48",
   "metadata": {},
   "outputs": [],
   "source": [
    "#Slicing of tuple data: Same as list"
   ]
  },
  {
   "cell_type": "code",
   "execution_count": 8,
   "id": "38ac54f0",
   "metadata": {},
   "outputs": [
    {
     "data": {
      "text/plain": [
       "(21, 445, 'sgdh', 3.45)"
      ]
     },
     "execution_count": 8,
     "metadata": {},
     "output_type": "execute_result"
    }
   ],
   "source": [
    "t1[0:4]"
   ]
  },
  {
   "cell_type": "code",
   "execution_count": 9,
   "id": "65dca3a5",
   "metadata": {},
   "outputs": [
    {
     "data": {
      "text/plain": [
       "(True, 3.45, 'sgdh', 445, 21)"
      ]
     },
     "execution_count": 9,
     "metadata": {},
     "output_type": "execute_result"
    }
   ],
   "source": [
    "t1[::-1]"
   ]
  },
  {
   "cell_type": "code",
   "execution_count": 10,
   "id": "30967c05",
   "metadata": {},
   "outputs": [
    {
     "data": {
      "text/plain": [
       "True"
      ]
     },
     "execution_count": 10,
     "metadata": {},
     "output_type": "execute_result"
    }
   ],
   "source": [
    "t1[-1]"
   ]
  },
  {
   "cell_type": "code",
   "execution_count": 11,
   "id": "0207ef88",
   "metadata": {},
   "outputs": [],
   "source": [
    "#List is a mutable entity\n",
    "l1[0] = \"Penn\""
   ]
  },
  {
   "cell_type": "code",
   "execution_count": 12,
   "id": "3332883c",
   "metadata": {},
   "outputs": [
    {
     "data": {
      "text/plain": [
       "['Penn', 445, 'sgdh', 3.45, True]"
      ]
     },
     "execution_count": 12,
     "metadata": {},
     "output_type": "execute_result"
    }
   ],
   "source": [
    "l1"
   ]
  },
  {
   "cell_type": "code",
   "execution_count": 13,
   "id": "84489523",
   "metadata": {},
   "outputs": [
    {
     "ename": "TypeError",
     "evalue": "'tuple' object does not support item assignment",
     "output_type": "error",
     "traceback": [
      "\u001b[1;31m---------------------------------------------------------------------------\u001b[0m",
      "\u001b[1;31mTypeError\u001b[0m                                 Traceback (most recent call last)",
      "\u001b[1;32m<ipython-input-13-efe1dccbf4a6>\u001b[0m in \u001b[0;36m<module>\u001b[1;34m\u001b[0m\n\u001b[0;32m      1\u001b[0m \u001b[1;31m#Tuple instead is a immutatble entity:Item reassignment is not possible on the already occupied location\u001b[0m\u001b[1;33m\u001b[0m\u001b[1;33m\u001b[0m\u001b[1;33m\u001b[0m\u001b[0m\n\u001b[0;32m      2\u001b[0m \u001b[1;33m\u001b[0m\u001b[0m\n\u001b[1;32m----> 3\u001b[1;33m \u001b[0mt1\u001b[0m\u001b[1;33m[\u001b[0m\u001b[1;36m0\u001b[0m\u001b[1;33m]\u001b[0m \u001b[1;33m=\u001b[0m \u001b[1;34m\"Penn\"\u001b[0m\u001b[1;33m\u001b[0m\u001b[1;33m\u001b[0m\u001b[0m\n\u001b[0m",
      "\u001b[1;31mTypeError\u001b[0m: 'tuple' object does not support item assignment"
     ]
    }
   ],
   "source": [
    "#Tuple instead is a immutatble entity:Item reassignment is not possible on the already occupied location \n",
    "\n",
    "t1[0] = \"Penn\""
   ]
  },
  {
   "cell_type": "code",
   "execution_count": null,
   "id": "064806d1",
   "metadata": {},
   "outputs": [],
   "source": [
    "t2 = (24,5,6,74654)"
   ]
  },
  {
   "cell_type": "code",
   "execution_count": 14,
   "id": "a98b97d4",
   "metadata": {},
   "outputs": [
    {
     "ename": "NameError",
     "evalue": "name 't2' is not defined",
     "output_type": "error",
     "traceback": [
      "\u001b[1;31m---------------------------------------------------------------------------\u001b[0m",
      "\u001b[1;31mNameError\u001b[0m                                 Traceback (most recent call last)",
      "\u001b[1;32m<ipython-input-14-e691eeb87b65>\u001b[0m in \u001b[0;36m<module>\u001b[1;34m\u001b[0m\n\u001b[0;32m      1\u001b[0m \"\"\"Even though the tuples are  immutable but the append operation is possible because,\n\u001b[0;32m      2\u001b[0m the assignment of t1 is done at a new location\"\"\" \n\u001b[1;32m----> 3\u001b[1;33m \u001b[0mt1\u001b[0m\u001b[1;33m+\u001b[0m\u001b[0mt2\u001b[0m\u001b[1;33m\u001b[0m\u001b[1;33m\u001b[0m\u001b[0m\n\u001b[0m",
      "\u001b[1;31mNameError\u001b[0m: name 't2' is not defined"
     ]
    }
   ],
   "source": [
    "\"\"\"Even though the tuples are  immutable but the append operation is possible because,\n",
    "the assignment of t1 is done at a new location\"\"\" \n",
    "t1+t2"
   ]
  },
  {
   "cell_type": "code",
   "execution_count": 15,
   "id": "41a2ae2d",
   "metadata": {},
   "outputs": [
    {
     "ename": "NameError",
     "evalue": "name 't2' is not defined",
     "output_type": "error",
     "traceback": [
      "\u001b[1;31m---------------------------------------------------------------------------\u001b[0m",
      "\u001b[1;31mNameError\u001b[0m                                 Traceback (most recent call last)",
      "\u001b[1;32m<ipython-input-15-ce869230c7c2>\u001b[0m in \u001b[0;36m<module>\u001b[1;34m\u001b[0m\n\u001b[1;32m----> 1\u001b[1;33m \u001b[1;36m24\u001b[0m \u001b[1;32min\u001b[0m \u001b[0mt2\u001b[0m\u001b[1;33m\u001b[0m\u001b[1;33m\u001b[0m\u001b[0m\n\u001b[0m",
      "\u001b[1;31mNameError\u001b[0m: name 't2' is not defined"
     ]
    }
   ],
   "source": [
    "24 in t2"
   ]
  },
  {
   "cell_type": "code",
   "execution_count": 16,
   "id": "243e706f",
   "metadata": {},
   "outputs": [
    {
     "ename": "NameError",
     "evalue": "name 't2' is not defined",
     "output_type": "error",
     "traceback": [
      "\u001b[1;31m---------------------------------------------------------------------------\u001b[0m",
      "\u001b[1;31mNameError\u001b[0m                                 Traceback (most recent call last)",
      "\u001b[1;32m<ipython-input-16-ba745df19e83>\u001b[0m in \u001b[0;36m<module>\u001b[1;34m\u001b[0m\n\u001b[1;32m----> 1\u001b[1;33m \u001b[1;34m\"tdfshgda\"\u001b[0m \u001b[1;32min\u001b[0m \u001b[0mt2\u001b[0m\u001b[1;33m\u001b[0m\u001b[1;33m\u001b[0m\u001b[0m\n\u001b[0m",
      "\u001b[1;31mNameError\u001b[0m: name 't2' is not defined"
     ]
    }
   ],
   "source": [
    "\"tdfshgda\" in t2"
   ]
  },
  {
   "cell_type": "code",
   "execution_count": 17,
   "id": "00a49255",
   "metadata": {},
   "outputs": [
    {
     "ename": "TypeError",
     "evalue": "'>' not supported between instances of 'str' and 'int'",
     "output_type": "error",
     "traceback": [
      "\u001b[1;31m---------------------------------------------------------------------------\u001b[0m",
      "\u001b[1;31mTypeError\u001b[0m                                 Traceback (most recent call last)",
      "\u001b[1;32m<ipython-input-17-07c1bf72392e>\u001b[0m in \u001b[0;36m<module>\u001b[1;34m\u001b[0m\n\u001b[1;32m----> 1\u001b[1;33m \u001b[0mmax\u001b[0m\u001b[1;33m(\u001b[0m\u001b[0mt1\u001b[0m\u001b[1;33m)\u001b[0m\u001b[1;33m\u001b[0m\u001b[1;33m\u001b[0m\u001b[0m\n\u001b[0m",
      "\u001b[1;31mTypeError\u001b[0m: '>' not supported between instances of 'str' and 'int'"
     ]
    }
   ],
   "source": [
    "max(t1)"
   ]
  },
  {
   "cell_type": "code",
   "execution_count": 18,
   "id": "d757138c",
   "metadata": {},
   "outputs": [],
   "source": [
    "t3 = (23,4543,435,45)"
   ]
  },
  {
   "cell_type": "code",
   "execution_count": 19,
   "id": "aee66672",
   "metadata": {},
   "outputs": [
    {
     "data": {
      "text/plain": [
       "4543"
      ]
     },
     "execution_count": 19,
     "metadata": {},
     "output_type": "execute_result"
    }
   ],
   "source": [
    "max(t3)"
   ]
  },
  {
   "cell_type": "code",
   "execution_count": 20,
   "id": "40175d2b",
   "metadata": {},
   "outputs": [],
   "source": [
    "t4 = (\"djfhge\", \"dkeu\", \"dhf\")"
   ]
  },
  {
   "cell_type": "code",
   "execution_count": 21,
   "id": "c51dd3fb",
   "metadata": {},
   "outputs": [
    {
     "data": {
      "text/plain": [
       "'dkeu'"
      ]
     },
     "execution_count": 21,
     "metadata": {},
     "output_type": "execute_result"
    }
   ],
   "source": [
    "max(t4)"
   ]
  },
  {
   "cell_type": "code",
   "execution_count": 22,
   "id": "ecbbed9f",
   "metadata": {},
   "outputs": [
    {
     "data": {
      "text/plain": [
       "'dhf'"
      ]
     },
     "execution_count": 22,
     "metadata": {},
     "output_type": "execute_result"
    }
   ],
   "source": [
    "min(t4)"
   ]
  },
  {
   "cell_type": "code",
   "execution_count": 23,
   "id": "e4cd992e",
   "metadata": {},
   "outputs": [],
   "source": [
    "t = ()"
   ]
  },
  {
   "cell_type": "code",
   "execution_count": 24,
   "id": "b0a707e9",
   "metadata": {},
   "outputs": [
    {
     "data": {
      "text/plain": [
       "()"
      ]
     },
     "execution_count": 24,
     "metadata": {},
     "output_type": "execute_result"
    }
   ],
   "source": [
    "t"
   ]
  },
  {
   "cell_type": "code",
   "execution_count": 25,
   "id": "1df6a58c",
   "metadata": {},
   "outputs": [],
   "source": [
    "#Insert an element at a specific position in a tuple\n",
    "\n",
    "\n",
    "t1 = (234, 34, \"sudh\", 3.45, 34, 34, True)"
   ]
  },
  {
   "cell_type": "code",
   "execution_count": 26,
   "id": "93a2d42f",
   "metadata": {},
   "outputs": [
    {
     "data": {
      "text/plain": [
       "(234, 34, 'sudh', 3.45, 34, 34, True)"
      ]
     },
     "execution_count": 26,
     "metadata": {},
     "output_type": "execute_result"
    }
   ],
   "source": [
    "t1"
   ]
  },
  {
   "cell_type": "code",
   "execution_count": 27,
   "id": "7e5cdf04",
   "metadata": {},
   "outputs": [],
   "source": [
    "t6 = 56"
   ]
  },
  {
   "cell_type": "code",
   "execution_count": 30,
   "id": "2e5885b6",
   "metadata": {},
   "outputs": [
    {
     "data": {
      "text/plain": [
       "[234, 34, 'sudh', 3.45, 34, 34, True]"
      ]
     },
     "execution_count": 30,
     "metadata": {},
     "output_type": "execute_result"
    }
   ],
   "source": [
    "#1 Conversion of tuple into a list \n",
    "\n",
    "l5 = list(t1)\n",
    "l5"
   ]
  },
  {
   "cell_type": "code",
   "execution_count": 29,
   "id": "b2639706",
   "metadata": {},
   "outputs": [],
   "source": [
    "#2 Insert the elemet at a specified index \n",
    "\n",
    "l5.insert(3, t6)\n"
   ]
  },
  {
   "cell_type": "code",
   "execution_count": 31,
   "id": "d8f7bace",
   "metadata": {},
   "outputs": [
    {
     "data": {
      "text/plain": [
       "[234, 34, 'sudh', 56, 3.45, 34, 34, True]"
      ]
     },
     "execution_count": 31,
     "metadata": {},
     "output_type": "execute_result"
    }
   ],
   "source": [
    "l5"
   ]
  },
  {
   "cell_type": "code",
   "execution_count": 32,
   "id": "24bc82dd",
   "metadata": {},
   "outputs": [],
   "source": [
    "#3 Conversion of list back into a tuple"
   ]
  },
  {
   "cell_type": "code",
   "execution_count": 33,
   "id": "f8761ffe",
   "metadata": {},
   "outputs": [
    {
     "data": {
      "text/plain": [
       "(234, 34, 'sudh', 56, 3.45, 34, 34, True)"
      ]
     },
     "execution_count": 33,
     "metadata": {},
     "output_type": "execute_result"
    }
   ],
   "source": [
    "tuple(l5)"
   ]
  },
  {
   "cell_type": "code",
   "execution_count": 34,
   "id": "ffd94811",
   "metadata": {},
   "outputs": [],
   "source": [
    "t = ((3,4,5,6), (\"chdbsh\", 32.2,32), (832,200,\"hsbc\"), 45, 454, 67, [382,309,30])"
   ]
  },
  {
   "cell_type": "code",
   "execution_count": 35,
   "id": "b1f64293",
   "metadata": {},
   "outputs": [
    {
     "data": {
      "text/plain": [
       "[382, 309, 30]"
      ]
     },
     "execution_count": 35,
     "metadata": {},
     "output_type": "execute_result"
    }
   ],
   "source": [
    "t[6]"
   ]
  },
  {
   "cell_type": "code",
   "execution_count": 36,
   "id": "3eebf5d1",
   "metadata": {},
   "outputs": [
    {
     "data": {
      "text/plain": [
       "309"
      ]
     },
     "execution_count": 36,
     "metadata": {},
     "output_type": "execute_result"
    }
   ],
   "source": [
    "t[6][1]"
   ]
  },
  {
   "cell_type": "code",
   "execution_count": 37,
   "id": "d7a0e7ca",
   "metadata": {},
   "outputs": [
    {
     "data": {
      "text/plain": [
       "[382, 309, 30]"
      ]
     },
     "execution_count": 37,
     "metadata": {},
     "output_type": "execute_result"
    }
   ],
   "source": [
    "t[6][0:4]"
   ]
  },
  {
   "cell_type": "code",
   "execution_count": 18,
   "id": "10f128d0",
   "metadata": {},
   "outputs": [
    {
     "name": "stdout",
     "output_type": "stream",
     "text": [
      "(3, 4, 5, 6)\n",
      "('chdbsh', 32.2, 32)\n",
      "(832, 200, 'hsbc')\n",
      "45\n",
      "454\n",
      "67\n",
      "[382, 309, 30]\n"
     ]
    }
   ],
   "source": [
    "for i in t:\n",
    "    print(i)"
   ]
  },
  {
   "cell_type": "code",
   "execution_count": 21,
   "id": "d69f99b0",
   "metadata": {},
   "outputs": [
    {
     "name": "stdout",
     "output_type": "stream",
     "text": [
      "3\n",
      "chdbsh\n",
      "832\n"
     ]
    }
   ],
   "source": [
    "for i in t:\n",
    "    if type(i) == tuple:\n",
    "        print(i[0])"
   ]
  },
  {
   "cell_type": "code",
   "execution_count": 22,
   "id": "0819a8fd",
   "metadata": {},
   "outputs": [
    {
     "data": {
      "text/plain": [
       "(234, 34, 'sudh', 3.45, 34, 34, True)"
      ]
     },
     "execution_count": 22,
     "metadata": {},
     "output_type": "execute_result"
    }
   ],
   "source": [
    "t1"
   ]
  },
  {
   "cell_type": "code",
   "execution_count": 26,
   "id": "13dbaf81",
   "metadata": {},
   "outputs": [],
   "source": [
    "t2 = (234,32,32)"
   ]
  },
  {
   "cell_type": "code",
   "execution_count": 25,
   "id": "70061c5d",
   "metadata": {},
   "outputs": [
    {
     "data": {
      "text/plain": [
       "(234, 32, 32)"
      ]
     },
     "execution_count": 25,
     "metadata": {},
     "output_type": "execute_result"
    }
   ],
   "source": [
    "t2"
   ]
  },
  {
   "cell_type": "code",
   "execution_count": 29,
   "id": "31578f2a",
   "metadata": {},
   "outputs": [
    {
     "name": "stdout",
     "output_type": "stream",
     "text": [
      "Not same\n"
     ]
    }
   ],
   "source": [
    "if len(t1) == len(t2):\n",
    "    print(\"Its same\")\n",
    "else:\n",
    "    print(\"Not same\")"
   ]
  },
  {
   "cell_type": "code",
   "execution_count": 33,
   "id": "c9a05c07",
   "metadata": {},
   "outputs": [
    {
     "name": "stdout",
     "output_type": "stream",
     "text": [
      "Take a user input: Sudh\n",
      "Yes, your name is available\n"
     ]
    }
   ],
   "source": [
    "t = (234, 34, \"sudh\", 3.45, 34, 34, 34, True, \"Kumar\")\n",
    "\n",
    "i = input(\"Take a user input: \").lower()\n",
    "\n",
    "if i in t:\n",
    "    print(\"Yes, your name is available\")\n",
    "else:\n",
    "    print(\"Your name is not available\")"
   ]
  },
  {
   "cell_type": "code",
   "execution_count": 34,
   "id": "648dca69",
   "metadata": {},
   "outputs": [
    {
     "data": {
      "text/plain": [
       "(234, 34, 'sudh', 3.45, 34, 34, True)"
      ]
     },
     "execution_count": 34,
     "metadata": {},
     "output_type": "execute_result"
    }
   ],
   "source": [
    "t1 "
   ]
  },
  {
   "cell_type": "code",
   "execution_count": 36,
   "id": "976fe988",
   "metadata": {},
   "outputs": [],
   "source": [
    "l1 = [83274.,4,43,553]"
   ]
  },
  {
   "cell_type": "code",
   "execution_count": 37,
   "id": "4ebc63ab",
   "metadata": {},
   "outputs": [
    {
     "data": {
      "text/plain": [
       "[83274.0, 4, 43, 553]"
      ]
     },
     "execution_count": 37,
     "metadata": {},
     "output_type": "execute_result"
    }
   ],
   "source": [
    "l1"
   ]
  },
  {
   "cell_type": "code",
   "execution_count": 38,
   "id": "292b76af",
   "metadata": {},
   "outputs": [],
   "source": [
    "del(t1)"
   ]
  },
  {
   "cell_type": "code",
   "execution_count": 39,
   "id": "9a5eccab",
   "metadata": {},
   "outputs": [
    {
     "ename": "NameError",
     "evalue": "name 't1' is not defined",
     "output_type": "error",
     "traceback": [
      "\u001b[1;31m---------------------------------------------------------------------------\u001b[0m",
      "\u001b[1;31mNameError\u001b[0m                                 Traceback (most recent call last)",
      "\u001b[1;32m<ipython-input-39-5db19043943a>\u001b[0m in \u001b[0;36m<module>\u001b[1;34m\u001b[0m\n\u001b[1;32m----> 1\u001b[1;33m \u001b[0mt1\u001b[0m\u001b[1;33m\u001b[0m\u001b[1;33m\u001b[0m\u001b[0m\n\u001b[0m",
      "\u001b[1;31mNameError\u001b[0m: name 't1' is not defined"
     ]
    }
   ],
   "source": [
    "t1"
   ]
  },
  {
   "cell_type": "code",
   "execution_count": 40,
   "id": "4a858e60",
   "metadata": {},
   "outputs": [],
   "source": [
    "del(l1)"
   ]
  },
  {
   "cell_type": "code",
   "execution_count": 41,
   "id": "9b4c896b",
   "metadata": {},
   "outputs": [
    {
     "ename": "NameError",
     "evalue": "name 'l1' is not defined",
     "output_type": "error",
     "traceback": [
      "\u001b[1;31m---------------------------------------------------------------------------\u001b[0m",
      "\u001b[1;31mNameError\u001b[0m                                 Traceback (most recent call last)",
      "\u001b[1;32m<ipython-input-41-6cf485bc2797>\u001b[0m in \u001b[0;36m<module>\u001b[1;34m\u001b[0m\n\u001b[1;32m----> 1\u001b[1;33m \u001b[0ml1\u001b[0m\u001b[1;33m\u001b[0m\u001b[1;33m\u001b[0m\u001b[0m\n\u001b[0m",
      "\u001b[1;31mNameError\u001b[0m: name 'l1' is not defined"
     ]
    }
   ],
   "source": [
    "l1"
   ]
  },
  {
   "cell_type": "code",
   "execution_count": 1,
   "id": "75cbacbe",
   "metadata": {},
   "outputs": [],
   "source": [
    "l = [323, 87,4094]\n"
   ]
  },
  {
   "cell_type": "code",
   "execution_count": 2,
   "id": "efbc688c",
   "metadata": {},
   "outputs": [],
   "source": [
    "#insert, pop,append, remove options are not available in tuples like lists. Tuples only have count, index method "
   ]
  },
  {
   "cell_type": "markdown",
   "id": "fd5204ed",
   "metadata": {},
   "source": [
    "# Set"
   ]
  },
  {
   "cell_type": "code",
   "execution_count": 3,
   "id": "07c1da7b",
   "metadata": {},
   "outputs": [],
   "source": [
    "x = set()"
   ]
  },
  {
   "cell_type": "code",
   "execution_count": 4,
   "id": "fb11515d",
   "metadata": {},
   "outputs": [
    {
     "data": {
      "text/plain": [
       "set"
      ]
     },
     "execution_count": 4,
     "metadata": {},
     "output_type": "execute_result"
    }
   ],
   "source": [
    "type(x)"
   ]
  },
  {
   "cell_type": "code",
   "execution_count": 18,
   "id": "5bb551ee",
   "metadata": {},
   "outputs": [],
   "source": [
    "l = [2,2,2,4,7,8,8,\"Penn\", \"Bajwa\", 45676, 45, True, True, \"Penn\"]"
   ]
  },
  {
   "cell_type": "code",
   "execution_count": 19,
   "id": "df9907d7",
   "metadata": {},
   "outputs": [],
   "source": [
    "s = set(l)"
   ]
  },
  {
   "cell_type": "code",
   "execution_count": 20,
   "id": "26adf64e",
   "metadata": {},
   "outputs": [
    {
     "data": {
      "text/plain": [
       "{2, 4, 45, 45676, 7, 8, 'Bajwa', 'Penn', True}"
      ]
     },
     "execution_count": 20,
     "metadata": {},
     "output_type": "execute_result"
    }
   ],
   "source": [
    "s"
   ]
  },
  {
   "cell_type": "code",
   "execution_count": 21,
   "id": "a20a3de5",
   "metadata": {},
   "outputs": [],
   "source": [
    "#Set: Is used to generate unique values in a list, eliminating the duplicates. Case sensative . Unordered/Unsorted"
   ]
  },
  {
   "cell_type": "code",
   "execution_count": 22,
   "id": "0f853f50",
   "metadata": {},
   "outputs": [
    {
     "data": {
      "text/plain": [
       "{2, 4, 45, 45676, 7, 8, 'Bajwa', 'Penn', True}"
      ]
     },
     "execution_count": 22,
     "metadata": {},
     "output_type": "execute_result"
    }
   ],
   "source": [
    "s"
   ]
  },
  {
   "cell_type": "code",
   "execution_count": 23,
   "id": "13dfa782",
   "metadata": {},
   "outputs": [
    {
     "name": "stdout",
     "output_type": "stream",
     "text": [
      "Bajwa\n",
      "True\n",
      "2\n",
      "4\n",
      "Penn\n",
      "7\n",
      "8\n",
      "45676\n",
      "45\n"
     ]
    }
   ],
   "source": [
    "for i in s:\n",
    "    print(i)"
   ]
  },
  {
   "cell_type": "code",
   "execution_count": 24,
   "id": "0813ad59",
   "metadata": {},
   "outputs": [
    {
     "data": {
      "text/plain": [
       "False"
      ]
     },
     "execution_count": 24,
     "metadata": {},
     "output_type": "execute_result"
    }
   ],
   "source": [
    "34 in s"
   ]
  },
  {
   "cell_type": "code",
   "execution_count": 25,
   "id": "5fe34ca1",
   "metadata": {},
   "outputs": [
    {
     "data": {
      "text/plain": [
       "True"
      ]
     },
     "execution_count": 25,
     "metadata": {},
     "output_type": "execute_result"
    }
   ],
   "source": [
    "2 in s"
   ]
  },
  {
   "cell_type": "code",
   "execution_count": 26,
   "id": "d74f1d30",
   "metadata": {},
   "outputs": [
    {
     "ename": "TypeError",
     "evalue": "'set' object is not subscriptable",
     "output_type": "error",
     "traceback": [
      "\u001b[1;31m---------------------------------------------------------------------------\u001b[0m",
      "\u001b[1;31mTypeError\u001b[0m                                 Traceback (most recent call last)",
      "\u001b[1;32m<ipython-input-26-1907a35d007f>\u001b[0m in \u001b[0;36m<module>\u001b[1;34m\u001b[0m\n\u001b[0;32m      1\u001b[0m \u001b[1;31m#Indexing operation doesnt work in set\u001b[0m\u001b[1;33m\u001b[0m\u001b[1;33m\u001b[0m\u001b[1;33m\u001b[0m\u001b[0m\n\u001b[1;32m----> 2\u001b[1;33m \u001b[0ms\u001b[0m\u001b[1;33m[\u001b[0m\u001b[1;36m0\u001b[0m\u001b[1;33m]\u001b[0m\u001b[1;33m\u001b[0m\u001b[1;33m\u001b[0m\u001b[0m\n\u001b[0m",
      "\u001b[1;31mTypeError\u001b[0m: 'set' object is not subscriptable"
     ]
    }
   ],
   "source": [
    "#Indexing operation doesnt work in set\n",
    "s[0]"
   ]
  },
  {
   "cell_type": "code",
   "execution_count": 27,
   "id": "a579df2c",
   "metadata": {},
   "outputs": [
    {
     "ename": "TypeError",
     "evalue": "'set' object is not callable",
     "output_type": "error",
     "traceback": [
      "\u001b[1;31m---------------------------------------------------------------------------\u001b[0m",
      "\u001b[1;31mTypeError\u001b[0m                                 Traceback (most recent call last)",
      "\u001b[1;32m<ipython-input-27-5f23e52b4f95>\u001b[0m in \u001b[0;36m<module>\u001b[1;34m\u001b[0m\n\u001b[1;32m----> 1\u001b[1;33m \u001b[0ms\u001b[0m\u001b[1;33m(\u001b[0m\u001b[1;36m0\u001b[0m\u001b[1;33m)\u001b[0m\u001b[1;33m\u001b[0m\u001b[1;33m\u001b[0m\u001b[0m\n\u001b[0m",
      "\u001b[1;31mTypeError\u001b[0m: 'set' object is not callable"
     ]
    }
   ],
   "source": [
    "s(0)"
   ]
  },
  {
   "cell_type": "code",
   "execution_count": 28,
   "id": "f6af6f4b",
   "metadata": {},
   "outputs": [
    {
     "data": {
      "text/plain": [
       "{2, 4, 45, 45676, 7, 8, 'Bajwa', 'Penn', True}"
      ]
     },
     "execution_count": 28,
     "metadata": {},
     "output_type": "execute_result"
    }
   ],
   "source": [
    "#Set gives unsorted/unordered data \n",
    "s"
   ]
  },
  {
   "cell_type": "code",
   "execution_count": 29,
   "id": "9ee2104b",
   "metadata": {},
   "outputs": [],
   "source": [
    "#Functions available inside the set"
   ]
  },
  {
   "cell_type": "code",
   "execution_count": 30,
   "id": "cc6089a3",
   "metadata": {},
   "outputs": [
    {
     "data": {
      "text/plain": [
       "set()"
      ]
     },
     "execution_count": 30,
     "metadata": {},
     "output_type": "execute_result"
    }
   ],
   "source": [
    "s = set()\n",
    "s"
   ]
  },
  {
   "cell_type": "code",
   "execution_count": 31,
   "id": "6d00c082",
   "metadata": {},
   "outputs": [],
   "source": [
    "s.add(45)"
   ]
  },
  {
   "cell_type": "code",
   "execution_count": 32,
   "id": "103daf61",
   "metadata": {},
   "outputs": [],
   "source": [
    "s.add(\"Penn\")"
   ]
  },
  {
   "cell_type": "code",
   "execution_count": 33,
   "id": "0b362beb",
   "metadata": {},
   "outputs": [],
   "source": [
    "s.add(\"Bajwa\")"
   ]
  },
  {
   "cell_type": "code",
   "execution_count": 34,
   "id": "e0338d67",
   "metadata": {},
   "outputs": [],
   "source": [
    "s.add(67)"
   ]
  },
  {
   "cell_type": "code",
   "execution_count": 35,
   "id": "e9963d21",
   "metadata": {},
   "outputs": [
    {
     "data": {
      "text/plain": [
       "{45, 67, 'Bajwa', 'Penn'}"
      ]
     },
     "execution_count": 35,
     "metadata": {},
     "output_type": "execute_result"
    }
   ],
   "source": [
    "s"
   ]
  },
  {
   "cell_type": "code",
   "execution_count": 36,
   "id": "cd0189f2",
   "metadata": {},
   "outputs": [
    {
     "ename": "TypeError",
     "evalue": "unhashable type: 'list'",
     "output_type": "error",
     "traceback": [
      "\u001b[1;31m---------------------------------------------------------------------------\u001b[0m",
      "\u001b[1;31mTypeError\u001b[0m                                 Traceback (most recent call last)",
      "\u001b[1;32m<ipython-input-36-2d7fd3917b8c>\u001b[0m in \u001b[0;36m<module>\u001b[1;34m\u001b[0m\n\u001b[0;32m      1\u001b[0m \u001b[1;31m#Cant add a list inside the set\u001b[0m\u001b[1;33m\u001b[0m\u001b[1;33m\u001b[0m\u001b[1;33m\u001b[0m\u001b[0m\n\u001b[1;32m----> 2\u001b[1;33m \u001b[0ms\u001b[0m\u001b[1;33m.\u001b[0m\u001b[0madd\u001b[0m\u001b[1;33m(\u001b[0m\u001b[1;33m[\u001b[0m\u001b[1;36m2\u001b[0m\u001b[1;33m,\u001b[0m\u001b[1;36m3\u001b[0m\u001b[1;33m,\u001b[0m\u001b[1;36m8\u001b[0m\u001b[1;33m]\u001b[0m\u001b[1;33m)\u001b[0m\u001b[1;33m\u001b[0m\u001b[1;33m\u001b[0m\u001b[0m\n\u001b[0m",
      "\u001b[1;31mTypeError\u001b[0m: unhashable type: 'list'"
     ]
    }
   ],
   "source": [
    "#Cant add a list inside the set \n",
    "s.add([2,3,8])"
   ]
  },
  {
   "cell_type": "code",
   "execution_count": 46,
   "id": "87d76337",
   "metadata": {},
   "outputs": [],
   "source": [
    "l = [1,2,3]"
   ]
  },
  {
   "cell_type": "code",
   "execution_count": 48,
   "id": "6647f5ad",
   "metadata": {},
   "outputs": [
    {
     "data": {
      "text/plain": [
       "{1, 2, 3}"
      ]
     },
     "execution_count": 48,
     "metadata": {},
     "output_type": "execute_result"
    }
   ],
   "source": [
    "s = set(l)\n",
    "s"
   ]
  },
  {
   "cell_type": "code",
   "execution_count": 49,
   "id": "fd297c64",
   "metadata": {},
   "outputs": [],
   "source": [
    "#Dataset needs to be unwrapped for comparison to undergo set operations, Nested list here will give an issue\n",
    "\n",
    "l1 = [2, 2, 2, 4, 7, 8, 8, 'Penn', 'Bajwa', 45676, 45, True, True, 'Penn', [1,2,3]]"
   ]
  },
  {
   "cell_type": "code",
   "execution_count": 50,
   "id": "0c473490",
   "metadata": {},
   "outputs": [
    {
     "ename": "TypeError",
     "evalue": "unhashable type: 'list'",
     "output_type": "error",
     "traceback": [
      "\u001b[1;31m---------------------------------------------------------------------------\u001b[0m",
      "\u001b[1;31mTypeError\u001b[0m                                 Traceback (most recent call last)",
      "\u001b[1;32m<ipython-input-50-84315e4e080d>\u001b[0m in \u001b[0;36m<module>\u001b[1;34m\u001b[0m\n\u001b[1;32m----> 1\u001b[1;33m \u001b[0ms\u001b[0m \u001b[1;33m=\u001b[0m \u001b[0mset\u001b[0m\u001b[1;33m(\u001b[0m\u001b[0ml1\u001b[0m\u001b[1;33m)\u001b[0m\u001b[1;33m\u001b[0m\u001b[1;33m\u001b[0m\u001b[0m\n\u001b[0m",
      "\u001b[1;31mTypeError\u001b[0m: unhashable type: 'list'"
     ]
    }
   ],
   "source": [
    "s = set(l1)"
   ]
  },
  {
   "cell_type": "code",
   "execution_count": 51,
   "id": "9ee69c2b",
   "metadata": {},
   "outputs": [
    {
     "data": {
      "text/plain": [
       "{1, 2, 3}"
      ]
     },
     "execution_count": 51,
     "metadata": {},
     "output_type": "execute_result"
    }
   ],
   "source": [
    "#Set will only add the data which is not available in the dataset. If already present, it wont add, example:\n",
    "\n",
    "s"
   ]
  },
  {
   "cell_type": "code",
   "execution_count": 52,
   "id": "8c73f9c5",
   "metadata": {},
   "outputs": [],
   "source": [
    "s.add(2)"
   ]
  },
  {
   "cell_type": "code",
   "execution_count": 53,
   "id": "08ef1e19",
   "metadata": {},
   "outputs": [
    {
     "data": {
      "text/plain": [
       "{1, 2, 3}"
      ]
     },
     "execution_count": 53,
     "metadata": {},
     "output_type": "execute_result"
    }
   ],
   "source": [
    "#(Didnot add 2 again)\n",
    "s"
   ]
  },
  {
   "cell_type": "code",
   "execution_count": 54,
   "id": "770b76c5",
   "metadata": {},
   "outputs": [],
   "source": [
    "s.add(4)"
   ]
  },
  {
   "cell_type": "code",
   "execution_count": 56,
   "id": "e2303f9b",
   "metadata": {},
   "outputs": [
    {
     "data": {
      "text/plain": [
       "{1, 2, 3, 4}"
      ]
     },
     "execution_count": 56,
     "metadata": {},
     "output_type": "execute_result"
    }
   ],
   "source": [
    "#Did add 4 again\n",
    "s"
   ]
  },
  {
   "cell_type": "code",
   "execution_count": 57,
   "id": "7ab9989f",
   "metadata": {},
   "outputs": [],
   "source": [
    "s.remove(2)"
   ]
  },
  {
   "cell_type": "code",
   "execution_count": 58,
   "id": "695cea95",
   "metadata": {},
   "outputs": [
    {
     "data": {
      "text/plain": [
       "{1, 3, 4}"
      ]
     },
     "execution_count": 58,
     "metadata": {},
     "output_type": "execute_result"
    }
   ],
   "source": [
    "s"
   ]
  },
  {
   "cell_type": "code",
   "execution_count": 59,
   "id": "6073b36d",
   "metadata": {},
   "outputs": [
    {
     "ename": "KeyError",
     "evalue": "45",
     "output_type": "error",
     "traceback": [
      "\u001b[1;31m---------------------------------------------------------------------------\u001b[0m",
      "\u001b[1;31mKeyError\u001b[0m                                  Traceback (most recent call last)",
      "\u001b[1;32m<ipython-input-59-30b5ee21a9a0>\u001b[0m in \u001b[0;36m<module>\u001b[1;34m\u001b[0m\n\u001b[1;32m----> 1\u001b[1;33m \u001b[0ms\u001b[0m\u001b[1;33m.\u001b[0m\u001b[0mremove\u001b[0m\u001b[1;33m(\u001b[0m\u001b[1;36m45\u001b[0m\u001b[1;33m)\u001b[0m\u001b[1;33m\u001b[0m\u001b[1;33m\u001b[0m\u001b[0m\n\u001b[0m",
      "\u001b[1;31mKeyError\u001b[0m: 45"
     ]
    }
   ],
   "source": [
    "s.remove(45)"
   ]
  },
  {
   "cell_type": "code",
   "execution_count": 60,
   "id": "77582611",
   "metadata": {},
   "outputs": [
    {
     "data": {
      "text/plain": [
       "False"
      ]
     },
     "execution_count": 60,
     "metadata": {},
     "output_type": "execute_result"
    }
   ],
   "source": [
    "45 in s"
   ]
  },
  {
   "cell_type": "code",
   "execution_count": 61,
   "id": "c62472e8",
   "metadata": {},
   "outputs": [],
   "source": [
    "#.clear wipes out all the data in a set\n",
    "\n",
    "s.clear()"
   ]
  },
  {
   "cell_type": "code",
   "execution_count": 62,
   "id": "4a6ec5e0",
   "metadata": {},
   "outputs": [
    {
     "data": {
      "text/plain": [
       "set()"
      ]
     },
     "execution_count": 62,
     "metadata": {},
     "output_type": "execute_result"
    }
   ],
   "source": [
    "s"
   ]
  },
  {
   "cell_type": "code",
   "execution_count": 6,
   "id": "8ae80581",
   "metadata": {},
   "outputs": [],
   "source": [
    "l = [1,2,3, \"Penn\"]"
   ]
  },
  {
   "cell_type": "code",
   "execution_count": 7,
   "id": "e5679944",
   "metadata": {},
   "outputs": [],
   "source": [
    "s = set(l4)"
   ]
  },
  {
   "cell_type": "code",
   "execution_count": 8,
   "id": "652a6360",
   "metadata": {},
   "outputs": [
    {
     "data": {
      "text/plain": [
       "{1, 2, 3, 'Penn'}"
      ]
     },
     "execution_count": 8,
     "metadata": {},
     "output_type": "execute_result"
    }
   ],
   "source": [
    "s"
   ]
  },
  {
   "cell_type": "code",
   "execution_count": 9,
   "id": "c30d0976",
   "metadata": {},
   "outputs": [],
   "source": [
    "l2 = [67,\"Bajwa\", 90, True]"
   ]
  },
  {
   "cell_type": "code",
   "execution_count": 10,
   "id": "50156d20",
   "metadata": {},
   "outputs": [],
   "source": [
    "s1 = set(l2)"
   ]
  },
  {
   "cell_type": "code",
   "execution_count": 11,
   "id": "0e3182dd",
   "metadata": {},
   "outputs": [
    {
     "data": {
      "text/plain": [
       "{67, 90, 'Bajwa', True}"
      ]
     },
     "execution_count": 11,
     "metadata": {},
     "output_type": "execute_result"
    }
   ],
   "source": [
    "s1"
   ]
  },
  {
   "cell_type": "code",
   "execution_count": 13,
   "id": "4271aef5",
   "metadata": {},
   "outputs": [
    {
     "ename": "TypeError",
     "evalue": "unsupported operand type(s) for +: 'set' and 'set'",
     "output_type": "error",
     "traceback": [
      "\u001b[1;31m---------------------------------------------------------------------------\u001b[0m",
      "\u001b[1;31mTypeError\u001b[0m                                 Traceback (most recent call last)",
      "\u001b[1;32m<ipython-input-13-1d984124b84f>\u001b[0m in \u001b[0;36m<module>\u001b[1;34m\u001b[0m\n\u001b[0;32m      1\u001b[0m \u001b[1;31m#Operations allowed inside a list and tuple is not allowed inside set\u001b[0m\u001b[1;33m\u001b[0m\u001b[1;33m\u001b[0m\u001b[1;33m\u001b[0m\u001b[0m\n\u001b[0;32m      2\u001b[0m \u001b[1;33m\u001b[0m\u001b[0m\n\u001b[1;32m----> 3\u001b[1;33m \u001b[0ms\u001b[0m \u001b[1;33m+\u001b[0m \u001b[0ms1\u001b[0m\u001b[1;33m\u001b[0m\u001b[1;33m\u001b[0m\u001b[0m\n\u001b[0m",
      "\u001b[1;31mTypeError\u001b[0m: unsupported operand type(s) for +: 'set' and 'set'"
     ]
    }
   ],
   "source": [
    "#Operations allowed inside a list and tuple is not allowed inside set\n",
    "\n",
    "s + s1"
   ]
  },
  {
   "cell_type": "code",
   "execution_count": 14,
   "id": "55d7f55b",
   "metadata": {},
   "outputs": [
    {
     "ename": "TypeError",
     "evalue": "unsupported operand type(s) for *: 'set' and 'int'",
     "output_type": "error",
     "traceback": [
      "\u001b[1;31m---------------------------------------------------------------------------\u001b[0m",
      "\u001b[1;31mTypeError\u001b[0m                                 Traceback (most recent call last)",
      "\u001b[1;32m<ipython-input-14-b2afc011409f>\u001b[0m in \u001b[0;36m<module>\u001b[1;34m\u001b[0m\n\u001b[1;32m----> 1\u001b[1;33m \u001b[0ms\u001b[0m\u001b[1;33m*\u001b[0m\u001b[1;36m3\u001b[0m\u001b[1;33m\u001b[0m\u001b[1;33m\u001b[0m\u001b[0m\n\u001b[0m",
      "\u001b[1;31mTypeError\u001b[0m: unsupported operand type(s) for *: 'set' and 'int'"
     ]
    }
   ],
   "source": [
    "s*3"
   ]
  },
  {
   "cell_type": "code",
   "execution_count": 15,
   "id": "5d6b8022",
   "metadata": {},
   "outputs": [],
   "source": [
    "#Inorder to perform the operand options, one has to convert a set into a list "
   ]
  },
  {
   "cell_type": "code",
   "execution_count": 27,
   "id": "642264c1",
   "metadata": {},
   "outputs": [
    {
     "data": {
      "text/plain": [
       "{1, 2, 3, 'Penn'}"
      ]
     },
     "execution_count": 27,
     "metadata": {},
     "output_type": "execute_result"
    }
   ],
   "source": [
    "s"
   ]
  },
  {
   "cell_type": "code",
   "execution_count": 28,
   "id": "6c37152f",
   "metadata": {},
   "outputs": [
    {
     "data": {
      "text/plain": [
       "[1, 2, 3, 'Penn']"
      ]
     },
     "execution_count": 28,
     "metadata": {},
     "output_type": "execute_result"
    }
   ],
   "source": [
    "l = list(s)\n",
    "l"
   ]
  },
  {
   "cell_type": "code",
   "execution_count": 29,
   "id": "c4341e78",
   "metadata": {},
   "outputs": [],
   "source": [
    "#Now you can perform the append operations"
   ]
  },
  {
   "cell_type": "code",
   "execution_count": 30,
   "id": "10f7ca1c",
   "metadata": {},
   "outputs": [],
   "source": [
    "l.append(\"Bajwa\")"
   ]
  },
  {
   "cell_type": "code",
   "execution_count": 31,
   "id": "14296027",
   "metadata": {},
   "outputs": [],
   "source": [
    "l.append(5)"
   ]
  },
  {
   "cell_type": "code",
   "execution_count": 32,
   "id": "79e95059",
   "metadata": {},
   "outputs": [
    {
     "data": {
      "text/plain": [
       "[1, 2, 3, 'Penn', 'Bajwa', 5]"
      ]
     },
     "execution_count": 32,
     "metadata": {},
     "output_type": "execute_result"
    }
   ],
   "source": [
    "l"
   ]
  },
  {
   "cell_type": "code",
   "execution_count": 33,
   "id": "6dd7e2d0",
   "metadata": {},
   "outputs": [],
   "source": [
    "t4 = tuple(l)"
   ]
  },
  {
   "cell_type": "code",
   "execution_count": 34,
   "id": "cfc33622",
   "metadata": {},
   "outputs": [
    {
     "data": {
      "text/plain": [
       "(1, 2, 3, 'Penn', 'Bajwa', 5)"
      ]
     },
     "execution_count": 34,
     "metadata": {},
     "output_type": "execute_result"
    }
   ],
   "source": [
    "t4"
   ]
  },
  {
   "cell_type": "code",
   "execution_count": 35,
   "id": "04a8f1e9",
   "metadata": {},
   "outputs": [
    {
     "data": {
      "text/plain": [
       "{1, 2, 3, 5, 'Bajwa', 'Penn'}"
      ]
     },
     "execution_count": 35,
     "metadata": {},
     "output_type": "execute_result"
    }
   ],
   "source": [
    "set(t4)"
   ]
  },
  {
   "cell_type": "code",
   "execution_count": 36,
   "id": "7cb3e2f2",
   "metadata": {},
   "outputs": [
    {
     "ename": "TypeError",
     "evalue": "'set' object is not subscriptable",
     "output_type": "error",
     "traceback": [
      "\u001b[1;31m---------------------------------------------------------------------------\u001b[0m",
      "\u001b[1;31mTypeError\u001b[0m                                 Traceback (most recent call last)",
      "\u001b[1;32m<ipython-input-36-c9c96910e542>\u001b[0m in \u001b[0;36m<module>\u001b[1;34m\u001b[0m\n\u001b[1;32m----> 1\u001b[1;33m \u001b[0ms\u001b[0m\u001b[1;33m[\u001b[0m\u001b[1;36m0\u001b[0m\u001b[1;33m]\u001b[0m\u001b[1;33m\u001b[0m\u001b[1;33m\u001b[0m\u001b[0m\n\u001b[0m",
      "\u001b[1;31mTypeError\u001b[0m: 'set' object is not subscriptable"
     ]
    }
   ],
   "source": [
    "#Indexing is not possible in sets \n",
    "s[0]"
   ]
  },
  {
   "cell_type": "markdown",
   "id": "771aed59",
   "metadata": {},
   "source": [
    "# Dictionaries "
   ]
  },
  {
   "cell_type": "code",
   "execution_count": 34,
   "id": "17c94335",
   "metadata": {},
   "outputs": [],
   "source": [
    "x = {}"
   ]
  },
  {
   "cell_type": "code",
   "execution_count": 35,
   "id": "7fd4ec33",
   "metadata": {},
   "outputs": [
    {
     "data": {
      "text/plain": [
       "dict"
      ]
     },
     "execution_count": 35,
     "metadata": {},
     "output_type": "execute_result"
    }
   ],
   "source": [
    "type(x)"
   ]
  },
  {
   "cell_type": "code",
   "execution_count": 36,
   "id": "8d1a6735",
   "metadata": {},
   "outputs": [],
   "source": [
    "x1 = {34,45}"
   ]
  },
  {
   "cell_type": "code",
   "execution_count": 37,
   "id": "9d8a246d",
   "metadata": {},
   "outputs": [
    {
     "data": {
      "text/plain": [
       "set"
      ]
     },
     "execution_count": 37,
     "metadata": {},
     "output_type": "execute_result"
    }
   ],
   "source": [
    "type(x1)"
   ]
  },
  {
   "cell_type": "code",
   "execution_count": 38,
   "id": "8d39f794",
   "metadata": {},
   "outputs": [],
   "source": [
    "#Set and dictionaries both give you a output into curly braces , It depends upon the nature of element being held inside. \n",
    "#Only the way we are going to hold the data in the dict, will change"
   ]
  },
  {
   "cell_type": "code",
   "execution_count": 39,
   "id": "7111b6e1",
   "metadata": {},
   "outputs": [],
   "source": [
    "#Dict holds a data in the form of {Key, Value} pair"
   ]
  },
  {
   "cell_type": "code",
   "execution_count": 40,
   "id": "280134f3",
   "metadata": {},
   "outputs": [],
   "source": [
    "x = {\"name\": 'Penn', 'age': 17 }"
   ]
  },
  {
   "cell_type": "code",
   "execution_count": 41,
   "id": "d49db52a",
   "metadata": {},
   "outputs": [
    {
     "data": {
      "text/plain": [
       "dict"
      ]
     },
     "execution_count": 41,
     "metadata": {},
     "output_type": "execute_result"
    }
   ],
   "source": [
    "type(x)"
   ]
  },
  {
   "cell_type": "code",
   "execution_count": 42,
   "id": "fc85dabe",
   "metadata": {},
   "outputs": [],
   "source": [
    "#Key can be a string,boolean value,Integers\n",
    "\n",
    "x1 = {\"name\": 'Penn', 'age': 17, \"name\": 'Bajwa', 'true': \"shasdh\", 'Key': False, 484:9328 }"
   ]
  },
  {
   "cell_type": "code",
   "execution_count": 43,
   "id": "643fb923",
   "metadata": {},
   "outputs": [
    {
     "data": {
      "text/plain": [
       "{'name': 'Bajwa', 'age': 17, 'true': 'shasdh', 'Key': False, 484: 9328}"
      ]
     },
     "execution_count": 43,
     "metadata": {},
     "output_type": "execute_result"
    }
   ],
   "source": [
    "x1"
   ]
  },
  {
   "cell_type": "code",
   "execution_count": 44,
   "id": "c1c9f2af",
   "metadata": {},
   "outputs": [],
   "source": [
    "#Here we stored data using same key \"name\" twice, but the dict has chosen the second occurence "
   ]
  },
  {
   "cell_type": "code",
   "execution_count": 45,
   "id": "bf10336a",
   "metadata": {},
   "outputs": [],
   "source": [
    "x2 = {\"name\": 'Penn', 'age': 17, \"name\": 'Bajwa', 'true': \"shasdh\", 'Key': False, 484:9328 }"
   ]
  },
  {
   "cell_type": "code",
   "execution_count": 46,
   "id": "f62328d8",
   "metadata": {},
   "outputs": [],
   "source": [
    "#Value as set,list,tuple = Possible"
   ]
  },
  {
   "cell_type": "code",
   "execution_count": 47,
   "id": "56372937",
   "metadata": {},
   "outputs": [],
   "source": [
    "x = {\"name\": [1,2,3,4], 'age': {\"sdsjfh\",12,3}, \"dob\": (\"efe\",\"Ea\", True)}"
   ]
  },
  {
   "cell_type": "code",
   "execution_count": 48,
   "id": "87d54fff",
   "metadata": {},
   "outputs": [
    {
     "data": {
      "text/plain": [
       "{'name': [1, 2, 3, 4], 'age': {12, 3, 'sdsjfh'}, 'dob': ('efe', 'Ea', True)}"
      ]
     },
     "execution_count": 48,
     "metadata": {},
     "output_type": "execute_result"
    }
   ],
   "source": [
    "x"
   ]
  },
  {
   "cell_type": "code",
   "execution_count": 49,
   "id": "5ec17d8c",
   "metadata": {},
   "outputs": [],
   "source": [
    "#Dictionary inside a dictionary"
   ]
  },
  {
   "cell_type": "code",
   "execution_count": 50,
   "id": "12b109d7",
   "metadata": {},
   "outputs": [],
   "source": [
    "x = {\"name\": {\"k1\": [1,2,3,4], \"nam\": \"Penn\"} , 'age': {\"sdsjfh\",12,3}, \"dob\": (\"efe\",\"Ea\", True)}"
   ]
  },
  {
   "cell_type": "code",
   "execution_count": 51,
   "id": "7c5403d8",
   "metadata": {},
   "outputs": [
    {
     "data": {
      "text/plain": [
       "{'name': {'k1': [1, 2, 3, 4], 'nam': 'Penn'},\n",
       " 'age': {12, 3, 'sdsjfh'},\n",
       " 'dob': ('efe', 'Ea', True)}"
      ]
     },
     "execution_count": 51,
     "metadata": {},
     "output_type": "execute_result"
    }
   ],
   "source": [
    "x"
   ]
  },
  {
   "cell_type": "code",
   "execution_count": 52,
   "id": "fc331618",
   "metadata": {},
   "outputs": [],
   "source": [
    "#In key values, special case characters and lists are not allowed"
   ]
  },
  {
   "cell_type": "code",
   "execution_count": 53,
   "id": "0e8da657",
   "metadata": {},
   "outputs": [
    {
     "ename": "TypeError",
     "evalue": "unhashable type: 'list'",
     "output_type": "error",
     "traceback": [
      "\u001b[1;31m---------------------------------------------------------------------------\u001b[0m",
      "\u001b[1;31mTypeError\u001b[0m                                 Traceback (most recent call last)",
      "\u001b[1;32m<ipython-input-53-a919f746004e>\u001b[0m in \u001b[0;36m<module>\u001b[1;34m\u001b[0m\n\u001b[1;32m----> 1\u001b[1;33m \u001b[0mx\u001b[0m \u001b[1;33m=\u001b[0m \u001b[1;33m{\u001b[0m\u001b[1;33m[\u001b[0m\u001b[1;36m1\u001b[0m\u001b[1;33m,\u001b[0m\u001b[1;36m2\u001b[0m\u001b[1;33m,\u001b[0m\u001b[1;36m3\u001b[0m\u001b[1;33m]\u001b[0m\u001b[1;33m:\u001b[0m\u001b[1;34m\"zdjkhz\"\u001b[0m\u001b[1;33m,\u001b[0m \u001b[1;34m\"k1\"\u001b[0m\u001b[1;33m:\u001b[0m \u001b[1;33m[\u001b[0m\u001b[1;36m1\u001b[0m\u001b[1;33m,\u001b[0m\u001b[1;36m2\u001b[0m\u001b[1;33m,\u001b[0m\u001b[1;36m3\u001b[0m\u001b[1;33m,\u001b[0m\u001b[1;36m4\u001b[0m\u001b[1;33m]\u001b[0m\u001b[1;33m,\u001b[0m \u001b[1;34m\"nam\"\u001b[0m\u001b[1;33m:\u001b[0m \u001b[1;34m\"Penn\"\u001b[0m\u001b[1;33m}\u001b[0m\u001b[1;33m\u001b[0m\u001b[1;33m\u001b[0m\u001b[0m\n\u001b[0m",
      "\u001b[1;31mTypeError\u001b[0m: unhashable type: 'list'"
     ]
    }
   ],
   "source": [
    "x = {[1,2,3]:\"zdjkhz\", \"k1\": [1,2,3,4], \"nam\": \"Penn\"} "
   ]
  },
  {
   "cell_type": "code",
   "execution_count": 54,
   "id": "350959c4",
   "metadata": {},
   "outputs": [],
   "source": [
    "#Tuples are allowed as key values "
   ]
  },
  {
   "cell_type": "code",
   "execution_count": 55,
   "id": "f25a2df9",
   "metadata": {},
   "outputs": [
    {
     "data": {
      "text/plain": [
       "{(1, 2, 3): 'afjeh', 'k1': [1, 2, 3, 4], 'nam': 'Penn'}"
      ]
     },
     "execution_count": 55,
     "metadata": {},
     "output_type": "execute_result"
    }
   ],
   "source": [
    "x = {(1,2,3): \"afjeh\", \"k1\": [1,2,3,4], \"nam\": \"Penn\"} \n",
    "x"
   ]
  },
  {
   "cell_type": "code",
   "execution_count": 56,
   "id": "fde0de56",
   "metadata": {},
   "outputs": [
    {
     "data": {
      "text/plain": [
       "{'name': {'k1': [1, 2, 3, 4], 'nam': 'Penn'},\n",
       " 'age': ['sdsjfh', 12, 3],\n",
       " 'dob': ('efe', 'Ea', True)}"
      ]
     },
     "execution_count": 56,
     "metadata": {},
     "output_type": "execute_result"
    }
   ],
   "source": [
    "x2 = {\"name\": {\"k1\": [1,2,3,4], \"nam\": \"Penn\"} , 'age': [\"sdsjfh\",12,3], \"dob\":(\"efe\",\"Ea\", True)}\n",
    "x2"
   ]
  },
  {
   "cell_type": "code",
   "execution_count": 57,
   "id": "be401526",
   "metadata": {},
   "outputs": [],
   "source": [
    "l = [342,43,5,34]"
   ]
  },
  {
   "cell_type": "code",
   "execution_count": 58,
   "id": "9b107a5c",
   "metadata": {},
   "outputs": [
    {
     "data": {
      "text/plain": [
       "5"
      ]
     },
     "execution_count": 58,
     "metadata": {},
     "output_type": "execute_result"
    }
   ],
   "source": [
    "#In a list the index value acts as a key and the corresponding element/data at that position acts as the value.\n",
    "\n",
    "l[2]"
   ]
  },
  {
   "cell_type": "code",
   "execution_count": 59,
   "id": "6e53390d",
   "metadata": {},
   "outputs": [
    {
     "data": {
      "text/plain": [
       "['sdsjfh', 12, 3]"
      ]
     },
     "execution_count": 59,
     "metadata": {},
     "output_type": "execute_result"
    }
   ],
   "source": [
    "#In a dictionatry the key value here acts as a index and the corresponding value acts as the data extrated by providing the key as it is. \n",
    "\n",
    "x2[\"age\"]"
   ]
  },
  {
   "cell_type": "code",
   "execution_count": 60,
   "id": "176a85d1",
   "metadata": {},
   "outputs": [
    {
     "data": {
      "text/plain": [
       "{'k1': [1, 2, 3, 4], 'nam': 'Penn'}"
      ]
     },
     "execution_count": 60,
     "metadata": {},
     "output_type": "execute_result"
    }
   ],
   "source": [
    "#Getting the nested dict by providing the kay name \n",
    "\n",
    "x2[\"name\"]"
   ]
  },
  {
   "cell_type": "code",
   "execution_count": 61,
   "id": "64a51388",
   "metadata": {},
   "outputs": [
    {
     "data": {
      "text/plain": [
       "3"
      ]
     },
     "execution_count": 61,
     "metadata": {},
     "output_type": "execute_result"
    }
   ],
   "source": [
    "x2[\"age\"][2]"
   ]
  },
  {
   "cell_type": "code",
   "execution_count": 62,
   "id": "44b835fc",
   "metadata": {},
   "outputs": [
    {
     "data": {
      "text/plain": [
       "{'name': {'k1': [1, 2, 3, 4], 'nam': 'Penn'},\n",
       " 'age': ['sdsjfh', 12, 3],\n",
       " 'dob': ('efe', 'Ea', True)}"
      ]
     },
     "execution_count": 62,
     "metadata": {},
     "output_type": "execute_result"
    }
   ],
   "source": [
    "x2"
   ]
  },
  {
   "cell_type": "code",
   "execution_count": 63,
   "id": "e92526db",
   "metadata": {
    "scrolled": true
   },
   "outputs": [
    {
     "data": {
      "text/plain": [
       "[1, 2, 3, 4]"
      ]
     },
     "execution_count": 63,
     "metadata": {},
     "output_type": "execute_result"
    }
   ],
   "source": [
    "x2[\"name\"][\"k1\"]"
   ]
  },
  {
   "cell_type": "code",
   "execution_count": 64,
   "id": "abbe96c0",
   "metadata": {},
   "outputs": [
    {
     "data": {
      "text/plain": [
       "4"
      ]
     },
     "execution_count": 64,
     "metadata": {},
     "output_type": "execute_result"
    }
   ],
   "source": [
    "x2[\"name\"][\"k1\"][3]"
   ]
  },
  {
   "cell_type": "code",
   "execution_count": 65,
   "id": "ee95f56b",
   "metadata": {},
   "outputs": [
    {
     "data": {
      "text/plain": [
       "{(1, 2, 3): 'afjeh', 'k1': [1, 2, 3, 4], 'nam': 'Penn'}"
      ]
     },
     "execution_count": 65,
     "metadata": {},
     "output_type": "execute_result"
    }
   ],
   "source": [
    "x"
   ]
  },
  {
   "cell_type": "code",
   "execution_count": 66,
   "id": "044dee5e",
   "metadata": {},
   "outputs": [
    {
     "data": {
      "text/plain": [
       "{'name': {'k1': [1, 2, 3, 4], 'nam': 'Penn'},\n",
       " 'age': ['sdsjfh', 12, 3],\n",
       " 'dob': ('efe', 'Ea', True)}"
      ]
     },
     "execution_count": 66,
     "metadata": {},
     "output_type": "execute_result"
    }
   ],
   "source": [
    "x2"
   ]
  },
  {
   "cell_type": "code",
   "execution_count": 67,
   "id": "576d91a5",
   "metadata": {},
   "outputs": [
    {
     "ename": "TypeError",
     "evalue": "unsupported operand type(s) for +: 'dict' and 'dict'",
     "output_type": "error",
     "traceback": [
      "\u001b[1;31m---------------------------------------------------------------------------\u001b[0m",
      "\u001b[1;31mTypeError\u001b[0m                                 Traceback (most recent call last)",
      "\u001b[1;32m<ipython-input-67-6a6270355ca6>\u001b[0m in \u001b[0;36m<module>\u001b[1;34m\u001b[0m\n\u001b[1;32m----> 1\u001b[1;33m \u001b[0mx\u001b[0m \u001b[1;33m+\u001b[0m \u001b[0mx2\u001b[0m\u001b[1;33m\u001b[0m\u001b[1;33m\u001b[0m\u001b[0m\n\u001b[0m",
      "\u001b[1;31mTypeError\u001b[0m: unsupported operand type(s) for +: 'dict' and 'dict'"
     ]
    }
   ],
   "source": [
    "x + x2"
   ]
  },
  {
   "cell_type": "code",
   "execution_count": 68,
   "id": "8ba99f40",
   "metadata": {},
   "outputs": [
    {
     "ename": "TypeError",
     "evalue": "unsupported operand type(s) for *: 'dict' and 'int'",
     "output_type": "error",
     "traceback": [
      "\u001b[1;31m---------------------------------------------------------------------------\u001b[0m",
      "\u001b[1;31mTypeError\u001b[0m                                 Traceback (most recent call last)",
      "\u001b[1;32m<ipython-input-68-2725550c408e>\u001b[0m in \u001b[0;36m<module>\u001b[1;34m\u001b[0m\n\u001b[1;32m----> 1\u001b[1;33m \u001b[0mx1\u001b[0m\u001b[1;33m*\u001b[0m\u001b[1;36m2\u001b[0m\u001b[1;33m\u001b[0m\u001b[1;33m\u001b[0m\u001b[0m\n\u001b[0m",
      "\u001b[1;31mTypeError\u001b[0m: unsupported operand type(s) for *: 'dict' and 'int'"
     ]
    }
   ],
   "source": [
    "x1*2"
   ]
  },
  {
   "cell_type": "code",
   "execution_count": 43,
   "id": "7a4bb23f",
   "metadata": {},
   "outputs": [],
   "source": [
    "#Assignment operations: Where we replae the value of one element into another: Possible in a dict\n",
    "#Therefore we can say that list is a mutable entity"
   ]
  },
  {
   "cell_type": "code",
   "execution_count": 45,
   "id": "df5e6b74",
   "metadata": {},
   "outputs": [
    {
     "data": {
      "text/plain": [
       "{(1, 2, 3): 'afjeh', 'k1': [1, 2, 3, 4], 'nam': 'Penn'}"
      ]
     },
     "execution_count": 45,
     "metadata": {},
     "output_type": "execute_result"
    }
   ],
   "source": [
    "x"
   ]
  },
  {
   "cell_type": "code",
   "execution_count": 46,
   "id": "5b274849",
   "metadata": {},
   "outputs": [
    {
     "data": {
      "text/plain": [
       "'Penn'"
      ]
     },
     "execution_count": 46,
     "metadata": {},
     "output_type": "execute_result"
    }
   ],
   "source": [
    "x[\"nam\"]"
   ]
  },
  {
   "cell_type": "code",
   "execution_count": 47,
   "id": "be09d270",
   "metadata": {},
   "outputs": [],
   "source": [
    "x[\"nam\"] = \"Bajwa\""
   ]
  },
  {
   "cell_type": "code",
   "execution_count": 48,
   "id": "783fab1f",
   "metadata": {},
   "outputs": [
    {
     "data": {
      "text/plain": [
       "{(1, 2, 3): 'afjeh', 'k1': [1, 2, 3, 4], 'nam': 'Bajwa'}"
      ]
     },
     "execution_count": 48,
     "metadata": {},
     "output_type": "execute_result"
    }
   ],
   "source": [
    "x"
   ]
  },
  {
   "cell_type": "code",
   "execution_count": 49,
   "id": "0150bf00",
   "metadata": {},
   "outputs": [
    {
     "data": {
      "text/plain": [
       "{(1, 2, 3): 'afjeh', 'k1': [1, 2, 3, 4], 'nam': 'Bajwa'}"
      ]
     },
     "execution_count": 49,
     "metadata": {},
     "output_type": "execute_result"
    }
   ],
   "source": [
    "x"
   ]
  },
  {
   "cell_type": "code",
   "execution_count": 50,
   "id": "7dd2452c",
   "metadata": {},
   "outputs": [],
   "source": [
    "x[\"k1\"] = 456"
   ]
  },
  {
   "cell_type": "code",
   "execution_count": 51,
   "id": "48dc064f",
   "metadata": {},
   "outputs": [
    {
     "data": {
      "text/plain": [
       "{(1, 2, 3): 'afjeh', 'k1': 456, 'nam': 'Bajwa'}"
      ]
     },
     "execution_count": 51,
     "metadata": {},
     "output_type": "execute_result"
    }
   ],
   "source": [
    "x"
   ]
  },
  {
   "cell_type": "code",
   "execution_count": 52,
   "id": "0ecfbe01",
   "metadata": {},
   "outputs": [],
   "source": [
    "x[\"k1\"] -= 10"
   ]
  },
  {
   "cell_type": "code",
   "execution_count": 53,
   "id": "bf7fb5c7",
   "metadata": {},
   "outputs": [
    {
     "data": {
      "text/plain": [
       "{(1, 2, 3): 'afjeh', 'k1': 446, 'nam': 'Bajwa'}"
      ]
     },
     "execution_count": 53,
     "metadata": {},
     "output_type": "execute_result"
    }
   ],
   "source": [
    "x"
   ]
  },
  {
   "cell_type": "code",
   "execution_count": 54,
   "id": "386a9e7e",
   "metadata": {},
   "outputs": [],
   "source": [
    " #Functions in a dict: Press tab after writing x. "
   ]
  },
  {
   "cell_type": "code",
   "execution_count": 55,
   "id": "45f8a4d2",
   "metadata": {},
   "outputs": [
    {
     "data": {
      "text/plain": [
       "dict_keys([(1, 2, 3), 'k1', 'nam'])"
      ]
     },
     "execution_count": 55,
     "metadata": {},
     "output_type": "execute_result"
    }
   ],
   "source": [
    "x.keys()"
   ]
  },
  {
   "cell_type": "code",
   "execution_count": 56,
   "id": "08d18917",
   "metadata": {},
   "outputs": [
    {
     "data": {
      "text/plain": [
       "True"
      ]
     },
     "execution_count": 56,
     "metadata": {},
     "output_type": "execute_result"
    }
   ],
   "source": [
    "\"nam\" in x.keys()"
   ]
  },
  {
   "cell_type": "code",
   "execution_count": 58,
   "id": "bca61652",
   "metadata": {},
   "outputs": [
    {
     "data": {
      "text/plain": [
       "False"
      ]
     },
     "execution_count": 58,
     "metadata": {},
     "output_type": "execute_result"
    }
   ],
   "source": [
    "\"kjyegf\" in x.keys()"
   ]
  },
  {
   "cell_type": "code",
   "execution_count": 59,
   "id": "4d4184b1",
   "metadata": {},
   "outputs": [
    {
     "data": {
      "text/plain": [
       "dict_keys([(1, 2, 3), 'k1', 'nam'])"
      ]
     },
     "execution_count": 59,
     "metadata": {},
     "output_type": "execute_result"
    }
   ],
   "source": [
    "x.keys()"
   ]
  },
  {
   "cell_type": "code",
   "execution_count": 60,
   "id": "52fdd1d9",
   "metadata": {},
   "outputs": [
    {
     "name": "stdout",
     "output_type": "stream",
     "text": [
      "(1, 2, 3)\n",
      "k1\n",
      "nam\n"
     ]
    }
   ],
   "source": [
    "#To get Keys of a dict\n",
    "\n",
    "for i in x:\n",
    "    print(i)"
   ]
  },
  {
   "cell_type": "code",
   "execution_count": 61,
   "id": "079a708e",
   "metadata": {},
   "outputs": [
    {
     "name": "stdout",
     "output_type": "stream",
     "text": [
      "afjeh\n",
      "446\n",
      "Bajwa\n"
     ]
    }
   ],
   "source": [
    "#To get values of a dict\n",
    "\n",
    "for i in x.keys():\n",
    "    print(x[i])"
   ]
  },
  {
   "cell_type": "code",
   "execution_count": 63,
   "id": "9f7cea1b",
   "metadata": {},
   "outputs": [
    {
     "data": {
      "text/plain": [
       "{'name': {'k1': [1, 2, 3, 4], 'nam': 'Penn'},\n",
       " 'age': ['sdsjfh', 12, 3],\n",
       " 'dob': ('efe', 'Ea', True)}"
      ]
     },
     "execution_count": 63,
     "metadata": {},
     "output_type": "execute_result"
    }
   ],
   "source": [
    "x2"
   ]
  },
  {
   "cell_type": "code",
   "execution_count": 64,
   "id": "f07b7d73",
   "metadata": {},
   "outputs": [
    {
     "data": {
      "text/plain": [
       "dict_keys(['name', 'age', 'dob'])"
      ]
     },
     "execution_count": 64,
     "metadata": {},
     "output_type": "execute_result"
    }
   ],
   "source": [
    "x2.keys()"
   ]
  },
  {
   "cell_type": "code",
   "execution_count": 65,
   "id": "08ef63a8",
   "metadata": {},
   "outputs": [
    {
     "name": "stdout",
     "output_type": "stream",
     "text": [
      "<class 'str'>\n",
      "<class 'int'>\n",
      "<class 'str'>\n"
     ]
    }
   ],
   "source": [
    "\n",
    "for i in x.keys():\n",
    "    print(type(x[i]))"
   ]
  },
  {
   "cell_type": "code",
   "execution_count": 66,
   "id": "cd37b6e8",
   "metadata": {},
   "outputs": [
    {
     "data": {
      "text/plain": [
       "dict_items([((1, 2, 3), 'afjeh'), ('k1', 446), ('nam', 'Bajwa')])"
      ]
     },
     "execution_count": 66,
     "metadata": {},
     "output_type": "execute_result"
    }
   ],
   "source": [
    "#Return dict element in a list of tuples\n",
    "\n",
    "x.items()"
   ]
  },
  {
   "cell_type": "code",
   "execution_count": 68,
   "id": "b442d41b",
   "metadata": {},
   "outputs": [
    {
     "name": "stdout",
     "output_type": "stream",
     "text": [
      "name\n",
      "age\n",
      "dob\n"
     ]
    }
   ],
   "source": [
    "#Printing all keys out of the above tuples:\n",
    "\n",
    "for i in x2.items():\n",
    "    print(i[0])"
   ]
  },
  {
   "cell_type": "code",
   "execution_count": 69,
   "id": "58f7adc8",
   "metadata": {},
   "outputs": [],
   "source": [
    "x5 = {(34,54,65): \"fjzhs\"}"
   ]
  },
  {
   "cell_type": "code",
   "execution_count": 70,
   "id": "8fcc7247",
   "metadata": {},
   "outputs": [
    {
     "data": {
      "text/plain": [
       "'fjzhs'"
      ]
     },
     "execution_count": 70,
     "metadata": {},
     "output_type": "execute_result"
    }
   ],
   "source": [
    "x5[(34,54,65)]"
   ]
  },
  {
   "cell_type": "code",
   "execution_count": 71,
   "id": "3afca6fe",
   "metadata": {},
   "outputs": [
    {
     "data": {
      "text/plain": [
       "{(1, 2, 3): 'afjeh', 'k1': 446, 'nam': 'Bajwa'}"
      ]
     },
     "execution_count": 71,
     "metadata": {},
     "output_type": "execute_result"
    }
   ],
   "source": [
    "x"
   ]
  },
  {
   "cell_type": "code",
   "execution_count": 72,
   "id": "18a0909c",
   "metadata": {},
   "outputs": [
    {
     "data": {
      "text/plain": [
       "3"
      ]
     },
     "execution_count": 72,
     "metadata": {},
     "output_type": "execute_result"
    }
   ],
   "source": [
    "#len tells the number of key:value pairs\n",
    "len(x)"
   ]
  },
  {
   "cell_type": "code",
   "execution_count": 69,
   "id": "b563d32f",
   "metadata": {},
   "outputs": [],
   "source": [
    "#Q: Extract 554 from dict\n",
    "\n",
    "e = {56: {56,67,554}}"
   ]
  },
  {
   "cell_type": "code",
   "execution_count": 70,
   "id": "1aa55e15",
   "metadata": {},
   "outputs": [
    {
     "data": {
      "text/plain": [
       "{56, 67, 554}"
      ]
     },
     "execution_count": 70,
     "metadata": {},
     "output_type": "execute_result"
    }
   ],
   "source": [
    "e[56]"
   ]
  },
  {
   "cell_type": "code",
   "execution_count": 77,
   "id": "76042553",
   "metadata": {},
   "outputs": [
    {
     "data": {
      "text/plain": [
       "554"
      ]
     },
     "execution_count": 77,
     "metadata": {},
     "output_type": "execute_result"
    }
   ],
   "source": [
    "l = list(e[56])[1]\n",
    "l"
   ]
  },
  {
   "cell_type": "markdown",
   "id": "58ee9334",
   "metadata": {},
   "source": [
    "Q: Take input as a paragraph by using input function \n",
    "\n",
    "    1. Convert all of this input into list\n",
    "    2. Remove all the duplicate element from your list\n",
    "    3. Use above distinct element as a key for dictionary and assign your name as a value of all the key for dictionary\n",
    "    4. Print tuple of all the values\n",
    "    5. Try to print list of all key"
   ]
  },
  {
   "cell_type": "code",
   "execution_count": 4,
   "id": "c8b05e44",
   "metadata": {},
   "outputs": [
    {
     "name": "stdout",
     "output_type": "stream",
     "text": [
      "Enter the Paragraph: In word processing and desktop publishing, a hard return or paragraph break indicates a new paragraph, to be distinguished from the soft return at the end of a line internal to a paragraph. This distinction allows word wrap to automatically re-flow text as it is edited, without losing paragraph breaks. The software may apply vertical white space or indenting at paragraph breaks, depending on the selected style.  How such documents are actually stored depends on the file format. For example, HTML uses the <p> tag as a paragraph container. In plaintext files, there are two common formats. The pre-formatted text will have a newline at the end of every physical line, and two newlines at the end of a paragraph, creating a blank line. An alternative is to only put newlines at the end of each paragraph, and leave word wrapping up to the application that displays or processes the text.\n"
     ]
    }
   ],
   "source": [
    "x = input(\"Enter the Paragraph: \")"
   ]
  },
  {
   "cell_type": "code",
   "execution_count": 5,
   "id": "6641771c",
   "metadata": {},
   "outputs": [
    {
     "data": {
      "text/plain": [
       "['In',\n",
       " 'word',\n",
       " 'processing',\n",
       " 'and',\n",
       " 'desktop',\n",
       " 'publishing,',\n",
       " 'a',\n",
       " 'hard',\n",
       " 'return',\n",
       " 'or',\n",
       " 'paragraph',\n",
       " 'break',\n",
       " 'indicates',\n",
       " 'a',\n",
       " 'new',\n",
       " 'paragraph,',\n",
       " 'to',\n",
       " 'be',\n",
       " 'distinguished',\n",
       " 'from',\n",
       " 'the',\n",
       " 'soft',\n",
       " 'return',\n",
       " 'at',\n",
       " 'the',\n",
       " 'end',\n",
       " 'of',\n",
       " 'a',\n",
       " 'line',\n",
       " 'internal',\n",
       " 'to',\n",
       " 'a',\n",
       " 'paragraph.',\n",
       " 'This',\n",
       " 'distinction',\n",
       " 'allows',\n",
       " 'word',\n",
       " 'wrap',\n",
       " 'to',\n",
       " 'automatically',\n",
       " 're-flow',\n",
       " 'text',\n",
       " 'as',\n",
       " 'it',\n",
       " 'is',\n",
       " 'edited,',\n",
       " 'without',\n",
       " 'losing',\n",
       " 'paragraph',\n",
       " 'breaks.',\n",
       " 'The',\n",
       " 'software',\n",
       " 'may',\n",
       " 'apply',\n",
       " 'vertical',\n",
       " 'white',\n",
       " 'space',\n",
       " 'or',\n",
       " 'indenting',\n",
       " 'at',\n",
       " 'paragraph',\n",
       " 'breaks,',\n",
       " 'depending',\n",
       " 'on',\n",
       " 'the',\n",
       " 'selected',\n",
       " 'style.',\n",
       " '',\n",
       " 'How',\n",
       " 'such',\n",
       " 'documents',\n",
       " 'are',\n",
       " 'actually',\n",
       " 'stored',\n",
       " 'depends',\n",
       " 'on',\n",
       " 'the',\n",
       " 'file',\n",
       " 'format.',\n",
       " 'For',\n",
       " 'example,',\n",
       " 'HTML',\n",
       " 'uses',\n",
       " 'the',\n",
       " '<p>',\n",
       " 'tag',\n",
       " 'as',\n",
       " 'a',\n",
       " 'paragraph',\n",
       " 'container.',\n",
       " 'In',\n",
       " 'plaintext',\n",
       " 'files,',\n",
       " 'there',\n",
       " 'are',\n",
       " 'two',\n",
       " 'common',\n",
       " 'formats.',\n",
       " 'The',\n",
       " 'pre-formatted',\n",
       " 'text',\n",
       " 'will',\n",
       " 'have',\n",
       " 'a',\n",
       " 'newline',\n",
       " 'at',\n",
       " 'the',\n",
       " 'end',\n",
       " 'of',\n",
       " 'every',\n",
       " 'physical',\n",
       " 'line,',\n",
       " 'and',\n",
       " 'two',\n",
       " 'newlines',\n",
       " 'at',\n",
       " 'the',\n",
       " 'end',\n",
       " 'of',\n",
       " 'a',\n",
       " 'paragraph,',\n",
       " 'creating',\n",
       " 'a',\n",
       " 'blank',\n",
       " 'line.',\n",
       " 'An',\n",
       " 'alternative',\n",
       " 'is',\n",
       " 'to',\n",
       " 'only',\n",
       " 'put',\n",
       " 'newlines',\n",
       " 'at',\n",
       " 'the',\n",
       " 'end',\n",
       " 'of',\n",
       " 'each',\n",
       " 'paragraph,',\n",
       " 'and',\n",
       " 'leave',\n",
       " 'word',\n",
       " 'wrapping',\n",
       " 'up',\n",
       " 'to',\n",
       " 'the',\n",
       " 'application',\n",
       " 'that',\n",
       " 'displays',\n",
       " 'or',\n",
       " 'processes',\n",
       " 'the',\n",
       " 'text.']"
      ]
     },
     "execution_count": 5,
     "metadata": {},
     "output_type": "execute_result"
    }
   ],
   "source": [
    "#For splitting data into list of words:\n",
    "\n",
    "l = x.split(\" \")\n",
    "l"
   ]
  },
  {
   "cell_type": "code",
   "execution_count": 9,
   "id": "866b5be6",
   "metadata": {},
   "outputs": [],
   "source": [
    "s = set(l)"
   ]
  },
  {
   "cell_type": "code",
   "execution_count": 10,
   "id": "1f192146",
   "metadata": {},
   "outputs": [
    {
     "data": {
      "text/plain": [
       "{'',\n",
       " '<p>',\n",
       " 'An',\n",
       " 'For',\n",
       " 'HTML',\n",
       " 'How',\n",
       " 'In',\n",
       " 'The',\n",
       " 'This',\n",
       " 'a',\n",
       " 'actually',\n",
       " 'allows',\n",
       " 'alternative',\n",
       " 'and',\n",
       " 'application',\n",
       " 'apply',\n",
       " 'are',\n",
       " 'as',\n",
       " 'at',\n",
       " 'automatically',\n",
       " 'be',\n",
       " 'blank',\n",
       " 'break',\n",
       " 'breaks,',\n",
       " 'breaks.',\n",
       " 'common',\n",
       " 'container.',\n",
       " 'creating',\n",
       " 'depending',\n",
       " 'depends',\n",
       " 'desktop',\n",
       " 'displays',\n",
       " 'distinction',\n",
       " 'distinguished',\n",
       " 'documents',\n",
       " 'each',\n",
       " 'edited,',\n",
       " 'end',\n",
       " 'every',\n",
       " 'example,',\n",
       " 'file',\n",
       " 'files,',\n",
       " 'format.',\n",
       " 'formats.',\n",
       " 'from',\n",
       " 'hard',\n",
       " 'have',\n",
       " 'indenting',\n",
       " 'indicates',\n",
       " 'internal',\n",
       " 'is',\n",
       " 'it',\n",
       " 'leave',\n",
       " 'line',\n",
       " 'line,',\n",
       " 'line.',\n",
       " 'losing',\n",
       " 'may',\n",
       " 'new',\n",
       " 'newline',\n",
       " 'newlines',\n",
       " 'of',\n",
       " 'on',\n",
       " 'only',\n",
       " 'or',\n",
       " 'paragraph',\n",
       " 'paragraph,',\n",
       " 'paragraph.',\n",
       " 'physical',\n",
       " 'plaintext',\n",
       " 'pre-formatted',\n",
       " 'processes',\n",
       " 'processing',\n",
       " 'publishing,',\n",
       " 'put',\n",
       " 're-flow',\n",
       " 'return',\n",
       " 'selected',\n",
       " 'soft',\n",
       " 'software',\n",
       " 'space',\n",
       " 'stored',\n",
       " 'style.',\n",
       " 'such',\n",
       " 'tag',\n",
       " 'text',\n",
       " 'text.',\n",
       " 'that',\n",
       " 'the',\n",
       " 'there',\n",
       " 'to',\n",
       " 'two',\n",
       " 'up',\n",
       " 'uses',\n",
       " 'vertical',\n",
       " 'white',\n",
       " 'will',\n",
       " 'without',\n",
       " 'word',\n",
       " 'wrap',\n",
       " 'wrapping'}"
      ]
     },
     "execution_count": 10,
     "metadata": {},
     "output_type": "execute_result"
    }
   ],
   "source": [
    "s"
   ]
  },
  {
   "cell_type": "code",
   "execution_count": 12,
   "id": "7255a7ca",
   "metadata": {},
   "outputs": [],
   "source": [
    "d = dict.fromkeys(s, \"Penn\")"
   ]
  },
  {
   "cell_type": "code",
   "execution_count": 13,
   "id": "46daba9b",
   "metadata": {},
   "outputs": [
    {
     "data": {
      "text/plain": [
       "{'': 'Penn',\n",
       " 'such': 'Penn',\n",
       " 'In': 'Penn',\n",
       " 'break': 'Penn',\n",
       " 'software': 'Penn',\n",
       " 'text': 'Penn',\n",
       " 'The': 'Penn',\n",
       " 'breaks.': 'Penn',\n",
       " 'there': 'Penn',\n",
       " 'leave': 'Penn',\n",
       " 'vertical': 'Penn',\n",
       " 'have': 'Penn',\n",
       " 'the': 'Penn',\n",
       " 'paragraph': 'Penn',\n",
       " 'processing': 'Penn',\n",
       " 're-flow': 'Penn',\n",
       " 'paragraph,': 'Penn',\n",
       " 'as': 'Penn',\n",
       " 'white': 'Penn',\n",
       " 'two': 'Penn',\n",
       " 'every': 'Penn',\n",
       " 'example,': 'Penn',\n",
       " 'selected': 'Penn',\n",
       " 'new': 'Penn',\n",
       " 'An': 'Penn',\n",
       " 'soft': 'Penn',\n",
       " 'publishing,': 'Penn',\n",
       " 'will': 'Penn',\n",
       " 'depends': 'Penn',\n",
       " 'desktop': 'Penn',\n",
       " 'is': 'Penn',\n",
       " 'files,': 'Penn',\n",
       " 'losing': 'Penn',\n",
       " 'may': 'Penn',\n",
       " 'line': 'Penn',\n",
       " 'style.': 'Penn',\n",
       " 'of': 'Penn',\n",
       " 'common': 'Penn',\n",
       " 'uses': 'Penn',\n",
       " 'allows': 'Penn',\n",
       " 'up': 'Penn',\n",
       " 'apply': 'Penn',\n",
       " 'at': 'Penn',\n",
       " 'without': 'Penn',\n",
       " 'This': 'Penn',\n",
       " 'internal': 'Penn',\n",
       " 'be': 'Penn',\n",
       " 'plaintext': 'Penn',\n",
       " 'it': 'Penn',\n",
       " 'formats.': 'Penn',\n",
       " 'pre-formatted': 'Penn',\n",
       " 'to': 'Penn',\n",
       " 'line.': 'Penn',\n",
       " 'distinguished': 'Penn',\n",
       " 'indenting': 'Penn',\n",
       " 'indicates': 'Penn',\n",
       " 'distinction': 'Penn',\n",
       " 'paragraph.': 'Penn',\n",
       " 'only': 'Penn',\n",
       " 'on': 'Penn',\n",
       " 'or': 'Penn',\n",
       " 'put': 'Penn',\n",
       " '<p>': 'Penn',\n",
       " 'newline': 'Penn',\n",
       " 'and': 'Penn',\n",
       " 'physical': 'Penn',\n",
       " 'actually': 'Penn',\n",
       " 'stored': 'Penn',\n",
       " 'wrap': 'Penn',\n",
       " 'depending': 'Penn',\n",
       " 'that': 'Penn',\n",
       " 'end': 'Penn',\n",
       " 'breaks,': 'Penn',\n",
       " 'blank': 'Penn',\n",
       " 'line,': 'Penn',\n",
       " 'application': 'Penn',\n",
       " 'from': 'Penn',\n",
       " 'space': 'Penn',\n",
       " 'edited,': 'Penn',\n",
       " 'return': 'Penn',\n",
       " 'file': 'Penn',\n",
       " 'alternative': 'Penn',\n",
       " 'automatically': 'Penn',\n",
       " 'newlines': 'Penn',\n",
       " 'For': 'Penn',\n",
       " 'creating': 'Penn',\n",
       " 'tag': 'Penn',\n",
       " 'word': 'Penn',\n",
       " 'documents': 'Penn',\n",
       " 'each': 'Penn',\n",
       " 'a': 'Penn',\n",
       " 'HTML': 'Penn',\n",
       " 'container.': 'Penn',\n",
       " 'How': 'Penn',\n",
       " 'displays': 'Penn',\n",
       " 'text.': 'Penn',\n",
       " 'hard': 'Penn',\n",
       " 'wrapping': 'Penn',\n",
       " 'format.': 'Penn',\n",
       " 'processes': 'Penn',\n",
       " 'are': 'Penn'}"
      ]
     },
     "execution_count": 13,
     "metadata": {},
     "output_type": "execute_result"
    }
   ],
   "source": [
    "d"
   ]
  },
  {
   "cell_type": "code",
   "execution_count": 14,
   "id": "d6e56bc7",
   "metadata": {},
   "outputs": [],
   "source": [
    "t = d.items()"
   ]
  },
  {
   "cell_type": "code",
   "execution_count": 15,
   "id": "7521dc86",
   "metadata": {},
   "outputs": [
    {
     "data": {
      "text/plain": [
       "dict_items([('', 'Penn'), ('such', 'Penn'), ('In', 'Penn'), ('break', 'Penn'), ('software', 'Penn'), ('text', 'Penn'), ('The', 'Penn'), ('breaks.', 'Penn'), ('there', 'Penn'), ('leave', 'Penn'), ('vertical', 'Penn'), ('have', 'Penn'), ('the', 'Penn'), ('paragraph', 'Penn'), ('processing', 'Penn'), ('re-flow', 'Penn'), ('paragraph,', 'Penn'), ('as', 'Penn'), ('white', 'Penn'), ('two', 'Penn'), ('every', 'Penn'), ('example,', 'Penn'), ('selected', 'Penn'), ('new', 'Penn'), ('An', 'Penn'), ('soft', 'Penn'), ('publishing,', 'Penn'), ('will', 'Penn'), ('depends', 'Penn'), ('desktop', 'Penn'), ('is', 'Penn'), ('files,', 'Penn'), ('losing', 'Penn'), ('may', 'Penn'), ('line', 'Penn'), ('style.', 'Penn'), ('of', 'Penn'), ('common', 'Penn'), ('uses', 'Penn'), ('allows', 'Penn'), ('up', 'Penn'), ('apply', 'Penn'), ('at', 'Penn'), ('without', 'Penn'), ('This', 'Penn'), ('internal', 'Penn'), ('be', 'Penn'), ('plaintext', 'Penn'), ('it', 'Penn'), ('formats.', 'Penn'), ('pre-formatted', 'Penn'), ('to', 'Penn'), ('line.', 'Penn'), ('distinguished', 'Penn'), ('indenting', 'Penn'), ('indicates', 'Penn'), ('distinction', 'Penn'), ('paragraph.', 'Penn'), ('only', 'Penn'), ('on', 'Penn'), ('or', 'Penn'), ('put', 'Penn'), ('<p>', 'Penn'), ('newline', 'Penn'), ('and', 'Penn'), ('physical', 'Penn'), ('actually', 'Penn'), ('stored', 'Penn'), ('wrap', 'Penn'), ('depending', 'Penn'), ('that', 'Penn'), ('end', 'Penn'), ('breaks,', 'Penn'), ('blank', 'Penn'), ('line,', 'Penn'), ('application', 'Penn'), ('from', 'Penn'), ('space', 'Penn'), ('edited,', 'Penn'), ('return', 'Penn'), ('file', 'Penn'), ('alternative', 'Penn'), ('automatically', 'Penn'), ('newlines', 'Penn'), ('For', 'Penn'), ('creating', 'Penn'), ('tag', 'Penn'), ('word', 'Penn'), ('documents', 'Penn'), ('each', 'Penn'), ('a', 'Penn'), ('HTML', 'Penn'), ('container.', 'Penn'), ('How', 'Penn'), ('displays', 'Penn'), ('text.', 'Penn'), ('hard', 'Penn'), ('wrapping', 'Penn'), ('format.', 'Penn'), ('processes', 'Penn'), ('are', 'Penn')])"
      ]
     },
     "execution_count": 15,
     "metadata": {},
     "output_type": "execute_result"
    }
   ],
   "source": [
    "t"
   ]
  },
  {
   "cell_type": "code",
   "execution_count": 16,
   "id": "382114e8",
   "metadata": {},
   "outputs": [],
   "source": [
    "l2 = d.keys()"
   ]
  },
  {
   "cell_type": "code",
   "execution_count": 17,
   "id": "7374a986",
   "metadata": {},
   "outputs": [
    {
     "data": {
      "text/plain": [
       "dict_keys(['', 'such', 'In', 'break', 'software', 'text', 'The', 'breaks.', 'there', 'leave', 'vertical', 'have', 'the', 'paragraph', 'processing', 're-flow', 'paragraph,', 'as', 'white', 'two', 'every', 'example,', 'selected', 'new', 'An', 'soft', 'publishing,', 'will', 'depends', 'desktop', 'is', 'files,', 'losing', 'may', 'line', 'style.', 'of', 'common', 'uses', 'allows', 'up', 'apply', 'at', 'without', 'This', 'internal', 'be', 'plaintext', 'it', 'formats.', 'pre-formatted', 'to', 'line.', 'distinguished', 'indenting', 'indicates', 'distinction', 'paragraph.', 'only', 'on', 'or', 'put', '<p>', 'newline', 'and', 'physical', 'actually', 'stored', 'wrap', 'depending', 'that', 'end', 'breaks,', 'blank', 'line,', 'application', 'from', 'space', 'edited,', 'return', 'file', 'alternative', 'automatically', 'newlines', 'For', 'creating', 'tag', 'word', 'documents', 'each', 'a', 'HTML', 'container.', 'How', 'displays', 'text.', 'hard', 'wrapping', 'format.', 'processes', 'are'])"
      ]
     },
     "execution_count": 17,
     "metadata": {},
     "output_type": "execute_result"
    }
   ],
   "source": [
    "l2"
   ]
  },
  {
   "cell_type": "code",
   "execution_count": 18,
   "id": "c850a721",
   "metadata": {},
   "outputs": [],
   "source": [
    "#Another way"
   ]
  },
  {
   "cell_type": "code",
   "execution_count": 19,
   "id": "08c1aa2b",
   "metadata": {},
   "outputs": [],
   "source": [
    "lst = x.split(\" \")"
   ]
  },
  {
   "cell_type": "code",
   "execution_count": 20,
   "id": "d0411796",
   "metadata": {},
   "outputs": [],
   "source": [
    "st = set(lst)"
   ]
  },
  {
   "cell_type": "code",
   "execution_count": 21,
   "id": "7d1f89e1",
   "metadata": {},
   "outputs": [
    {
     "data": {
      "text/plain": [
       "{'': 'Penn',\n",
       " 'such': 'Penn',\n",
       " 'In': 'Penn',\n",
       " 'break': 'Penn',\n",
       " 'software': 'Penn',\n",
       " 'text': 'Penn',\n",
       " 'The': 'Penn',\n",
       " 'breaks.': 'Penn',\n",
       " 'there': 'Penn',\n",
       " 'leave': 'Penn',\n",
       " 'vertical': 'Penn',\n",
       " 'have': 'Penn',\n",
       " 'the': 'Penn',\n",
       " 'paragraph': 'Penn',\n",
       " 'processing': 'Penn',\n",
       " 're-flow': 'Penn',\n",
       " 'paragraph,': 'Penn',\n",
       " 'as': 'Penn',\n",
       " 'white': 'Penn',\n",
       " 'two': 'Penn',\n",
       " 'every': 'Penn',\n",
       " 'example,': 'Penn',\n",
       " 'selected': 'Penn',\n",
       " 'new': 'Penn',\n",
       " 'An': 'Penn',\n",
       " 'soft': 'Penn',\n",
       " 'publishing,': 'Penn',\n",
       " 'will': 'Penn',\n",
       " 'depends': 'Penn',\n",
       " 'desktop': 'Penn',\n",
       " 'is': 'Penn',\n",
       " 'files,': 'Penn',\n",
       " 'losing': 'Penn',\n",
       " 'may': 'Penn',\n",
       " 'line': 'Penn',\n",
       " 'style.': 'Penn',\n",
       " 'of': 'Penn',\n",
       " 'common': 'Penn',\n",
       " 'uses': 'Penn',\n",
       " 'allows': 'Penn',\n",
       " 'up': 'Penn',\n",
       " 'apply': 'Penn',\n",
       " 'at': 'Penn',\n",
       " 'without': 'Penn',\n",
       " 'This': 'Penn',\n",
       " 'internal': 'Penn',\n",
       " 'be': 'Penn',\n",
       " 'plaintext': 'Penn',\n",
       " 'it': 'Penn',\n",
       " 'formats.': 'Penn',\n",
       " 'pre-formatted': 'Penn',\n",
       " 'to': 'Penn',\n",
       " 'line.': 'Penn',\n",
       " 'distinguished': 'Penn',\n",
       " 'indenting': 'Penn',\n",
       " 'indicates': 'Penn',\n",
       " 'distinction': 'Penn',\n",
       " 'paragraph.': 'Penn',\n",
       " 'only': 'Penn',\n",
       " 'on': 'Penn',\n",
       " 'or': 'Penn',\n",
       " 'put': 'Penn',\n",
       " '<p>': 'Penn',\n",
       " 'newline': 'Penn',\n",
       " 'and': 'Penn',\n",
       " 'physical': 'Penn',\n",
       " 'actually': 'Penn',\n",
       " 'stored': 'Penn',\n",
       " 'wrap': 'Penn',\n",
       " 'depending': 'Penn',\n",
       " 'that': 'Penn',\n",
       " 'end': 'Penn',\n",
       " 'breaks,': 'Penn',\n",
       " 'blank': 'Penn',\n",
       " 'line,': 'Penn',\n",
       " 'application': 'Penn',\n",
       " 'from': 'Penn',\n",
       " 'space': 'Penn',\n",
       " 'edited,': 'Penn',\n",
       " 'return': 'Penn',\n",
       " 'file': 'Penn',\n",
       " 'alternative': 'Penn',\n",
       " 'automatically': 'Penn',\n",
       " 'newlines': 'Penn',\n",
       " 'For': 'Penn',\n",
       " 'creating': 'Penn',\n",
       " 'tag': 'Penn',\n",
       " 'word': 'Penn',\n",
       " 'documents': 'Penn',\n",
       " 'each': 'Penn',\n",
       " 'a': 'Penn',\n",
       " 'HTML': 'Penn',\n",
       " 'container.': 'Penn',\n",
       " 'How': 'Penn',\n",
       " 'displays': 'Penn',\n",
       " 'text.': 'Penn',\n",
       " 'hard': 'Penn',\n",
       " 'wrapping': 'Penn',\n",
       " 'format.': 'Penn',\n",
       " 'processes': 'Penn',\n",
       " 'are': 'Penn'}"
      ]
     },
     "execution_count": 21,
     "metadata": {},
     "output_type": "execute_result"
    }
   ],
   "source": [
    "my_dict = {}\n",
    "for i in st:\n",
    "    my_dict[i] = \"Penn\"\n",
    "my_dict"
   ]
  },
  {
   "cell_type": "code",
   "execution_count": 23,
   "id": "6384c738",
   "metadata": {},
   "outputs": [
    {
     "name": "stdout",
     "output_type": "stream",
     "text": [
      "('Penn', 'Penn', 'Penn', 'Penn', 'Penn', 'Penn', 'Penn', 'Penn', 'Penn', 'Penn', 'Penn', 'Penn', 'Penn', 'Penn', 'Penn', 'Penn', 'Penn', 'Penn', 'Penn', 'Penn', 'Penn', 'Penn', 'Penn', 'Penn', 'Penn', 'Penn', 'Penn', 'Penn', 'Penn', 'Penn', 'Penn', 'Penn', 'Penn', 'Penn', 'Penn', 'Penn', 'Penn', 'Penn', 'Penn', 'Penn', 'Penn', 'Penn', 'Penn', 'Penn', 'Penn', 'Penn', 'Penn', 'Penn', 'Penn', 'Penn', 'Penn', 'Penn', 'Penn', 'Penn', 'Penn', 'Penn', 'Penn', 'Penn', 'Penn', 'Penn', 'Penn', 'Penn', 'Penn', 'Penn', 'Penn', 'Penn', 'Penn', 'Penn', 'Penn', 'Penn', 'Penn', 'Penn', 'Penn', 'Penn', 'Penn', 'Penn', 'Penn', 'Penn', 'Penn', 'Penn', 'Penn', 'Penn', 'Penn', 'Penn', 'Penn', 'Penn', 'Penn', 'Penn', 'Penn', 'Penn', 'Penn', 'Penn', 'Penn', 'Penn', 'Penn', 'Penn', 'Penn', 'Penn', 'Penn', 'Penn', 'Penn')\n"
     ]
    }
   ],
   "source": [
    "tup_list = []\n",
    "for i in my_dict.keys():\n",
    "    tup_list.append(my_dict[i])\n",
    "print(tuple(tup_list))"
   ]
  },
  {
   "cell_type": "code",
   "execution_count": 1,
   "id": "2b994b8d",
   "metadata": {},
   "outputs": [],
   "source": [
    "d = {\"company\": \"ineuron\", \"course\": \"full stack data science course\", \"year\":2021}"
   ]
  },
  {
   "cell_type": "code",
   "execution_count": 3,
   "id": "c69c7332",
   "metadata": {},
   "outputs": [
    {
     "name": "stdout",
     "output_type": "stream",
     "text": [
      "Print a key: company and Value wise:  ineuron\n",
      "Print a key: course and Value wise:  full stack data science course\n",
      "Print a key: year and Value wise:  2021\n"
     ]
    }
   ],
   "source": [
    "for i in d:\n",
    "    print(\"Print a key:\", i , \"and Value wise:\", d[i])"
   ]
  },
  {
   "cell_type": "code",
   "execution_count": 6,
   "id": "9192a00f",
   "metadata": {},
   "outputs": [
    {
     "data": {
      "text/plain": [
       "True"
      ]
     },
     "execution_count": 6,
     "metadata": {},
     "output_type": "execute_result"
    }
   ],
   "source": [
    "\"course\" in d"
   ]
  },
  {
   "cell_type": "code",
   "execution_count": 7,
   "id": "b709c65c",
   "metadata": {},
   "outputs": [],
   "source": [
    "for i in d:\n",
    "    if i == \"year\":\n",
    "        if d[i] > 2021:\n",
    "            print(\"year is fine\")\n",
    "        else:\n",
    "            d[i] = 2022"
   ]
  },
  {
   "cell_type": "code",
   "execution_count": 8,
   "id": "22d361d0",
   "metadata": {},
   "outputs": [
    {
     "data": {
      "text/plain": [
       "{'company': 'ineuron',\n",
       " 'course': 'full stack data science course',\n",
       " 'year': 2022}"
      ]
     },
     "execution_count": 8,
     "metadata": {},
     "output_type": "execute_result"
    }
   ],
   "source": [
    "d"
   ]
  },
  {
   "cell_type": "code",
   "execution_count": 9,
   "id": "efb86e76",
   "metadata": {},
   "outputs": [],
   "source": [
    "#Dictionary Comprehension"
   ]
  },
  {
   "cell_type": "code",
   "execution_count": 10,
   "id": "c66938b6",
   "metadata": {},
   "outputs": [],
   "source": [
    "#Q: Create a dictionary where the key is a number and value is square of key "
   ]
  },
  {
   "cell_type": "code",
   "execution_count": 11,
   "id": "65089aa2",
   "metadata": {},
   "outputs": [],
   "source": [
    "#Normal:\n",
    "\n",
    "my_dict = {}\n",
    "\n",
    "for i in range(10):\n",
    "    my_dict[i] = i*i\n",
    "    "
   ]
  },
  {
   "cell_type": "code",
   "execution_count": 12,
   "id": "cb799430",
   "metadata": {},
   "outputs": [
    {
     "data": {
      "text/plain": [
       "{0: 0, 1: 1, 2: 4, 3: 9, 4: 16, 5: 25, 6: 36, 7: 49, 8: 64, 9: 81}"
      ]
     },
     "execution_count": 12,
     "metadata": {},
     "output_type": "execute_result"
    }
   ],
   "source": [
    "my_dict"
   ]
  },
  {
   "cell_type": "code",
   "execution_count": 14,
   "id": "99c92b76",
   "metadata": {},
   "outputs": [
    {
     "data": {
      "text/plain": [
       "{0: 0, 1: 1, 2: 4, 3: 9, 4: 16, 5: 25, 6: 36, 7: 49, 8: 64, 9: 81}"
      ]
     },
     "execution_count": 14,
     "metadata": {},
     "output_type": "execute_result"
    }
   ],
   "source": [
    "#Using LC:\n",
    "\n",
    "{i:i*i for i in range(10)}"
   ]
  },
  {
   "cell_type": "code",
   "execution_count": 15,
   "id": "0aaba92c",
   "metadata": {},
   "outputs": [
    {
     "data": {
      "text/plain": [
       "{0: 0, 2: 4, 4: 16, 6: 36, 8: 64}"
      ]
     },
     "execution_count": 15,
     "metadata": {},
     "output_type": "execute_result"
    }
   ],
   "source": [
    "{i:i*i for i in range(0,10,2)}"
   ]
  },
  {
   "cell_type": "code",
   "execution_count": null,
   "id": "ee48f598",
   "metadata": {},
   "outputs": [],
   "source": []
  },
  {
   "cell_type": "code",
   "execution_count": 5,
   "id": "be48e14b",
   "metadata": {},
   "outputs": [],
   "source": [
    "x1 = {\"name\": 'Penn', 'age': 17, \"name\": 'Bajwa', 'true': \"shasdh\", 'Key': False, 484:9328 }\n",
    "x1[\"Penn\"] = \"Pagal\""
   ]
  },
  {
   "cell_type": "code",
   "execution_count": 44,
   "id": "08d62322",
   "metadata": {},
   "outputs": [],
   "source": [
    "for i in x1:\n",
    "    if i == \"age\":\n",
    "        if x1[i] < 17:\n",
    "            x1[i] = 18"
   ]
  },
  {
   "cell_type": "code",
   "execution_count": 45,
   "id": "23c1e763",
   "metadata": {},
   "outputs": [
    {
     "data": {
      "text/plain": [
       "{'name': 'Bajwa',\n",
       " 'age': 17,\n",
       " 'true': 'shasdh',\n",
       " 'Key': False,\n",
       " 484: 9328,\n",
       " 'Penn': 'Pagal'}"
      ]
     },
     "execution_count": 45,
     "metadata": {},
     "output_type": "execute_result"
    }
   ],
   "source": [
    "x1"
   ]
  },
  {
   "cell_type": "code",
   "execution_count": null,
   "id": "40d6ef53",
   "metadata": {},
   "outputs": [],
   "source": []
  },
  {
   "cell_type": "code",
   "execution_count": 13,
   "id": "a08c195f",
   "metadata": {},
   "outputs": [
    {
     "name": "stdout",
     "output_type": "stream",
     "text": [
      "name Bajwa <class 'str'> <class 'str'>\n",
      "age 17 <class 'str'> <class 'int'>\n",
      "true shasdh <class 'str'> <class 'str'>\n",
      "Key False <class 'str'> <class 'bool'>\n",
      "484 9328 <class 'int'> <class 'int'>\n",
      "Penn Pagal <class 'str'> <class 'str'>\n"
     ]
    }
   ],
   "source": [
    "for i in x1.keys():\n",
    "    print(i, x1[i], type(i), type(x1[i]))"
   ]
  },
  {
   "cell_type": "code",
   "execution_count": 14,
   "id": "027e8dfa",
   "metadata": {},
   "outputs": [
    {
     "data": {
      "text/plain": [
       "dict_items([('name', 'Bajwa'), ('age', 17), ('true', 'shasdh'), ('Key', False), (484, 9328), ('Penn', 'Pagal')])"
      ]
     },
     "execution_count": 14,
     "metadata": {},
     "output_type": "execute_result"
    }
   ],
   "source": [
    "x1.items()"
   ]
  },
  {
   "cell_type": "code",
   "execution_count": 29,
   "id": "f952b91b",
   "metadata": {},
   "outputs": [],
   "source": [
    "e = {56: {34,33333333333,333,33}}"
   ]
  },
  {
   "cell_type": "code",
   "execution_count": 30,
   "id": "fd220c69",
   "metadata": {},
   "outputs": [
    {
     "data": {
      "text/plain": [
       "{33, 34, 333, 33333333333}"
      ]
     },
     "execution_count": 30,
     "metadata": {},
     "output_type": "execute_result"
    }
   ],
   "source": [
    "e[56]"
   ]
  },
  {
   "cell_type": "code",
   "execution_count": 33,
   "id": "e770f46a",
   "metadata": {},
   "outputs": [],
   "source": [
    "l = list(e[56])[0]"
   ]
  },
  {
   "cell_type": "code",
   "execution_count": 34,
   "id": "07a3a0ef",
   "metadata": {},
   "outputs": [
    {
     "data": {
      "text/plain": [
       "33"
      ]
     },
     "execution_count": 34,
     "metadata": {},
     "output_type": "execute_result"
    }
   ],
   "source": [
    "l"
   ]
  },
  {
   "cell_type": "code",
   "execution_count": 43,
   "id": "72b069b5",
   "metadata": {},
   "outputs": [
    {
     "data": {
      "text/plain": [
       "dict_items([('I', [3, 4, 5]), ('love', [3, 4, 5]), ('this', [3, 4, 5])])"
      ]
     },
     "execution_count": 43,
     "metadata": {},
     "output_type": "execute_result"
    }
   ],
   "source": [
    "l = [\"I\", \"love\", \"this\"]\n",
    "v = [3,4,5]\n",
    "t = dict.fromkeys(l,v)\n",
    "t.items()\n",
    "#t.keys()\n",
    "#t.values()"
   ]
  },
  {
   "cell_type": "code",
   "execution_count": null,
   "id": "d024f8b0",
   "metadata": {},
   "outputs": [],
   "source": []
  }
 ],
 "metadata": {
  "kernelspec": {
   "display_name": "Python 3",
   "language": "python",
   "name": "python3"
  },
  "language_info": {
   "codemirror_mode": {
    "name": "ipython",
    "version": 3
   },
   "file_extension": ".py",
   "mimetype": "text/x-python",
   "name": "python",
   "nbconvert_exporter": "python",
   "pygments_lexer": "ipython3",
   "version": "3.8.8"
  }
 },
 "nbformat": 4,
 "nbformat_minor": 5
}
