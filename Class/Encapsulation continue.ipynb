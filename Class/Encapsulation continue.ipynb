{
 "cells": [
  {
   "cell_type": "code",
   "execution_count": null,
   "id": "b4a902ad",
   "metadata": {},
   "outputs": [],
   "source": [
    "#Encapsulation Example1"
   ]
  },
  {
   "cell_type": "code",
   "execution_count": 3,
   "id": "eead2aae",
   "metadata": {},
   "outputs": [
    {
     "name": "stdout",
     "output_type": "stream",
     "text": [
      "Tyres:  \n",
      " \tBranch: Perielli\n",
      " \tBelted Bias: True\n",
      " \tOptimal pressure: 2.0\n",
      "English: \n",
      " \tFuel Type: Diesel\n",
      " \tNoise Level: 3\n",
      "Body: \n",
      " \tSize: Medium toyota\n"
     ]
    }
   ],
   "source": [
    "class Tyres:\n",
    "    def __init__(self, branch, belted_bias, opt_pressure):\n",
    "        self.branch = branch\n",
    "        self.belted_bias = belted_bias\n",
    "        self.opt_pressure = opt_pressure\n",
    "        \n",
    "    def __str__(self):\n",
    "        return (\"Tyres:  \\n \\tBranch: \" + self.branch +\n",
    "                '\\n \\tBelted Bias: ' + str(self.belted_bias) +\n",
    "                '\\n \\tOptimal pressure: ' + str(self.opt_pressure)) \n",
    "    \n",
    "class Engine:\n",
    "    def __init__(self, fuel_type, noise_level):\n",
    "        self.fuel_type = fuel_type\n",
    "        self.noise_level = noise_level\n",
    "        \n",
    "    def __str__(self):\n",
    "        return ('English: \\n \\tFuel Type: ' + self.fuel_type +\n",
    "               '\\n \\tNoise Level: ' + str(self.noise_level))\n",
    "    \n",
    "class Body:\n",
    "    def __init__(self,size):\n",
    "        self.size = size\n",
    "        \n",
    "    def __str__(self):\n",
    "        return \"Body: \\n \\tSize: \" + self.size\n",
    "    \n",
    "class Car:\n",
    "    def __init__(self,name, tyres, engine, body):\n",
    "        self.name = name\n",
    "        self.tyres = tyres\n",
    "        self.engine = engine\n",
    "        self.body = body\n",
    "        \n",
    "    def __str__(self):\n",
    "        return str(self.tyres) + '\\n' + str(self.engine) + '\\n' + str(self.body) + ' ' + str(self.name)\n",
    "    \n",
    "t = Tyres('Perielli', True, 2.0)\n",
    "e = Engine('Diesel', 3)\n",
    "b = Body('Medium')\n",
    "c = Car('toyota', t, e, b)\n",
    "print(c)\n",
    "                "
   ]
  },
  {
   "cell_type": "code",
   "execution_count": 4,
   "id": "22bea866",
   "metadata": {},
   "outputs": [],
   "source": [
    " #Inheritance"
   ]
  },
  {
   "cell_type": "code",
   "execution_count": 5,
   "id": "d69e6ca8",
   "metadata": {},
   "outputs": [],
   "source": [
    "class parent:\n",
    "    a = 10\n",
    "    b = 40\n",
    "    \n",
    "    def __init__(self, parent_a, parent_b):\n",
    "        self.parent_a = parent_a\n",
    "        self.parent_b = parent_b\n",
    "        \n",
    "class child(parent):\n",
    "    def __init__(self, *args):\n",
    "        super(child, self).__init__(*args)"
   ]
  },
  {
   "cell_type": "code",
   "execution_count": 6,
   "id": "5985fb94",
   "metadata": {},
   "outputs": [],
   "source": [
    "#Encapsulation Example:2"
   ]
  },
  {
   "cell_type": "code",
   "execution_count": 10,
   "id": "abe92d3b",
   "metadata": {},
   "outputs": [
    {
     "name": "stdout",
     "output_type": "stream",
     "text": [
      "Pepper is a Cockerspaniel breed dog, born in the year 2009.\n"
     ]
    }
   ],
   "source": [
    "class Dog:\n",
    "    def __init__(self, name, year_of_birth, breed):\n",
    "        self._name = name\n",
    "        self._year_of_birth = year_of_birth\n",
    "        self._breed = breed\n",
    "        \n",
    "    def __str__(self):\n",
    "        return '%s is a %s breed dog, born in the year %d.' % (self._name, self._breed, self._year_of_birth)\n",
    "    \n",
    "pepper = Dog(\"Pepper\", 2009, 'Cockerspaniel')\n",
    "print(pepper)"
   ]
  },
  {
   "cell_type": "code",
   "execution_count": null,
   "id": "6cf7c5f0",
   "metadata": {},
   "outputs": [],
   "source": []
  }
 ],
 "metadata": {
  "kernelspec": {
   "display_name": "Python 3",
   "language": "python",
   "name": "python3"
  },
  "language_info": {
   "codemirror_mode": {
    "name": "ipython",
    "version": 3
   },
   "file_extension": ".py",
   "mimetype": "text/x-python",
   "name": "python",
   "nbconvert_exporter": "python",
   "pygments_lexer": "ipython3",
   "version": "3.8.8"
  }
 },
 "nbformat": 4,
 "nbformat_minor": 5
}
