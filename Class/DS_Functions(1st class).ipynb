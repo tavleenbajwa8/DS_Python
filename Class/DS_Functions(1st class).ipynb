{
 "cells": [
  {
   "cell_type": "markdown",
   "id": "5c6decbc",
   "metadata": {},
   "source": [
    "# Functions"
   ]
  },
  {
   "cell_type": "code",
   "execution_count": 1,
   "id": "d1b1ccef",
   "metadata": {},
   "outputs": [],
   "source": [
    "#Modular code that increases reusability, readablity, convert complete set of code into modules"
   ]
  },
  {
   "cell_type": "code",
   "execution_count": 2,
   "id": "e4bfb1c1",
   "metadata": {},
   "outputs": [
    {
     "data": {
      "text/plain": [
       "3"
      ]
     },
     "execution_count": 2,
     "metadata": {},
     "output_type": "execute_result"
    }
   ],
   "source": [
    "a = 1\n",
    "b = 2\n",
    "a + b "
   ]
  },
  {
   "cell_type": "code",
   "execution_count": 4,
   "id": "330965ee",
   "metadata": {},
   "outputs": [],
   "source": [
    "#When you dont want to provode the body of the function\n",
    "\n",
    "def test(x,y):\n",
    "    pass"
   ]
  },
  {
   "cell_type": "code",
   "execution_count": 5,
   "id": "9b01799a",
   "metadata": {},
   "outputs": [],
   "source": [
    "def test(x,y):\n",
    "    print(x+y)"
   ]
  },
  {
   "cell_type": "code",
   "execution_count": 6,
   "id": "3e3b01d2",
   "metadata": {},
   "outputs": [
    {
     "name": "stdout",
     "output_type": "stream",
     "text": [
      "91\n"
     ]
    }
   ],
   "source": [
    "#Calling a function \n",
    "\n",
    "test(35,56)"
   ]
  },
  {
   "cell_type": "code",
   "execution_count": 8,
   "id": "665af55c",
   "metadata": {},
   "outputs": [
    {
     "name": "stdout",
     "output_type": "stream",
     "text": [
      "jhgfahf\n"
     ]
    }
   ],
   "source": [
    "test(\"jhgf\",\"ahf\")"
   ]
  },
  {
   "cell_type": "code",
   "execution_count": 11,
   "id": "f9dcdd65",
   "metadata": {},
   "outputs": [],
   "source": [
    "def test1(b,m):\n",
    "    return(b*m)"
   ]
  },
  {
   "cell_type": "code",
   "execution_count": 12,
   "id": "fb2c2a33",
   "metadata": {},
   "outputs": [
    {
     "data": {
      "text/plain": [
       "37993340192"
      ]
     },
     "execution_count": 12,
     "metadata": {},
     "output_type": "execute_result"
    }
   ],
   "source": [
    "test1(44839,847328)"
   ]
  },
  {
   "cell_type": "code",
   "execution_count": 2,
   "id": "f7e58978",
   "metadata": {},
   "outputs": [],
   "source": [
    "#Using print statement: If we add another datatype, we get an error\n",
    "\n",
    "def test(x,y):\n",
    "    print(x+y)"
   ]
  },
  {
   "cell_type": "code",
   "execution_count": 3,
   "id": "e32407ad",
   "metadata": {},
   "outputs": [
    {
     "name": "stdout",
     "output_type": "stream",
     "text": [
      "90\n"
     ]
    },
    {
     "ename": "TypeError",
     "evalue": "unsupported operand type(s) for +: 'NoneType' and 'int'",
     "output_type": "error",
     "traceback": [
      "\u001b[1;31m---------------------------------------------------------------------------\u001b[0m",
      "\u001b[1;31mTypeError\u001b[0m                                 Traceback (most recent call last)",
      "\u001b[1;32m<ipython-input-3-71cd87e28916>\u001b[0m in \u001b[0;36m<module>\u001b[1;34m\u001b[0m\n\u001b[1;32m----> 1\u001b[1;33m \u001b[0mtest\u001b[0m\u001b[1;33m(\u001b[0m\u001b[1;36m34\u001b[0m\u001b[1;33m,\u001b[0m\u001b[1;36m56\u001b[0m\u001b[1;33m)\u001b[0m \u001b[1;33m+\u001b[0m \u001b[1;36m6\u001b[0m\u001b[1;33m\u001b[0m\u001b[1;33m\u001b[0m\u001b[0m\n\u001b[0m",
      "\u001b[1;31mTypeError\u001b[0m: unsupported operand type(s) for +: 'NoneType' and 'int'"
     ]
    }
   ],
   "source": [
    "test(34,56) + 6"
   ]
  },
  {
   "cell_type": "code",
   "execution_count": 8,
   "id": "af988eff",
   "metadata": {},
   "outputs": [
    {
     "name": "stdout",
     "output_type": "stream",
     "text": [
      "90\n"
     ]
    },
    {
     "data": {
      "text/plain": [
       "NoneType"
      ]
     },
     "execution_count": 8,
     "metadata": {},
     "output_type": "execute_result"
    }
   ],
   "source": [
    "#The type of data is \"Nonetype\" when we use print statement: Means data will not have any datatype\n",
    "\n",
    "type(test(34,56))"
   ]
  },
  {
   "cell_type": "code",
   "execution_count": 10,
   "id": "a8689124",
   "metadata": {},
   "outputs": [],
   "source": [
    "#Also we cant store and print it further."
   ]
  },
  {
   "cell_type": "code",
   "execution_count": 13,
   "id": "ecd4f137",
   "metadata": {},
   "outputs": [
    {
     "name": "stdout",
     "output_type": "stream",
     "text": [
      "90\n"
     ]
    }
   ],
   "source": [
    "b = test(34,56)"
   ]
  },
  {
   "cell_type": "code",
   "execution_count": 14,
   "id": "e3b236bf",
   "metadata": {},
   "outputs": [],
   "source": [
    "#Cant print b \n",
    "\n",
    "b"
   ]
  },
  {
   "cell_type": "code",
   "execution_count": 5,
   "id": "6af4721f",
   "metadata": {},
   "outputs": [],
   "source": [
    "#Using return statement: No such error\n",
    "\n",
    "def test1(b,m):\n",
    "    return(b*m)"
   ]
  },
  {
   "cell_type": "code",
   "execution_count": 6,
   "id": "4db8ee5c",
   "metadata": {},
   "outputs": [
    {
     "data": {
      "text/plain": [
       "1910"
      ]
     },
     "execution_count": 6,
     "metadata": {},
     "output_type": "execute_result"
    }
   ],
   "source": [
    "test1(34,56) + 6"
   ]
  },
  {
   "cell_type": "code",
   "execution_count": 9,
   "id": "bb03cba2",
   "metadata": {},
   "outputs": [
    {
     "data": {
      "text/plain": [
       "int"
      ]
     },
     "execution_count": 9,
     "metadata": {},
     "output_type": "execute_result"
    }
   ],
   "source": [
    "type(test1(34,56))"
   ]
  },
  {
   "cell_type": "code",
   "execution_count": 15,
   "id": "22e0c8a0",
   "metadata": {},
   "outputs": [],
   "source": [
    "#We can store and print it further"
   ]
  },
  {
   "cell_type": "code",
   "execution_count": 16,
   "id": "2251e55c",
   "metadata": {},
   "outputs": [],
   "source": [
    "a = test1(34,56)"
   ]
  },
  {
   "cell_type": "code",
   "execution_count": 17,
   "id": "3f72a0e4",
   "metadata": {},
   "outputs": [
    {
     "data": {
      "text/plain": [
       "1904"
      ]
     },
     "execution_count": 17,
     "metadata": {},
     "output_type": "execute_result"
    }
   ],
   "source": [
    "a"
   ]
  },
  {
   "cell_type": "code",
   "execution_count": null,
   "id": "2bba6143",
   "metadata": {},
   "outputs": [],
   "source": [
    "#Return will give the exact datatype, this operation is going to give to you,\n",
    "#so we can perform any type of primitive operations in top of those returns and can store it."
   ]
  },
  {
   "cell_type": "code",
   "execution_count": null,
   "id": "a7567bfb",
   "metadata": {},
   "outputs": [],
   "source": [
    "#So we are supposed to use return statement while doing such functions."
   ]
  },
  {
   "cell_type": "code",
   "execution_count": 20,
   "id": "d495bb3e",
   "metadata": {},
   "outputs": [],
   "source": [
    "def type2(t,n,m):\n",
    "    return t + n"
   ]
  },
  {
   "cell_type": "code",
   "execution_count": 21,
   "id": "1ffce116",
   "metadata": {},
   "outputs": [
    {
     "ename": "TypeError",
     "evalue": "type2() missing 1 required positional argument: 'm'",
     "output_type": "error",
     "traceback": [
      "\u001b[1;31m---------------------------------------------------------------------------\u001b[0m",
      "\u001b[1;31mTypeError\u001b[0m                                 Traceback (most recent call last)",
      "\u001b[1;32m<ipython-input-21-5cad7299e130>\u001b[0m in \u001b[0;36m<module>\u001b[1;34m\u001b[0m\n\u001b[1;32m----> 1\u001b[1;33m \u001b[0mtype2\u001b[0m\u001b[1;33m(\u001b[0m\u001b[1;36m2\u001b[0m\u001b[1;33m,\u001b[0m\u001b[1;36m3\u001b[0m\u001b[1;33m)\u001b[0m\u001b[1;33m\u001b[0m\u001b[1;33m\u001b[0m\u001b[0m\n\u001b[0m",
      "\u001b[1;31mTypeError\u001b[0m: type2() missing 1 required positional argument: 'm'"
     ]
    }
   ],
   "source": [
    "type2(2,3)"
   ]
  },
  {
   "cell_type": "code",
   "execution_count": 22,
   "id": "6d639d6f",
   "metadata": {},
   "outputs": [
    {
     "data": {
      "text/plain": [
       "5"
      ]
     },
     "execution_count": 22,
     "metadata": {},
     "output_type": "execute_result"
    }
   ],
   "source": [
    "type2(2,3,0)"
   ]
  },
  {
   "cell_type": "code",
   "execution_count": 23,
   "id": "75c02f4b",
   "metadata": {},
   "outputs": [],
   "source": [
    "#Returning multiple values out of data: In the form of tuples\n",
    "\n",
    "def test3(n,m):\n",
    "    return n*10 , m*3, m+n"
   ]
  },
  {
   "cell_type": "code",
   "execution_count": 24,
   "id": "12755060",
   "metadata": {},
   "outputs": [
    {
     "data": {
      "text/plain": [
       "(40, 15, 9)"
      ]
     },
     "execution_count": 24,
     "metadata": {},
     "output_type": "execute_result"
    }
   ],
   "source": [
    "test3(4,5)"
   ]
  },
  {
   "cell_type": "code",
   "execution_count": 25,
   "id": "864f1c21",
   "metadata": {},
   "outputs": [],
   "source": [
    "c,x,v = test3(4,5)"
   ]
  },
  {
   "cell_type": "code",
   "execution_count": 26,
   "id": "97c708fe",
   "metadata": {},
   "outputs": [
    {
     "data": {
      "text/plain": [
       "40"
      ]
     },
     "execution_count": 26,
     "metadata": {},
     "output_type": "execute_result"
    }
   ],
   "source": [
    "c"
   ]
  },
  {
   "cell_type": "code",
   "execution_count": 27,
   "id": "8552fd8d",
   "metadata": {},
   "outputs": [
    {
     "data": {
      "text/plain": [
       "9"
      ]
     },
     "execution_count": 27,
     "metadata": {},
     "output_type": "execute_result"
    }
   ],
   "source": [
    "v"
   ]
  },
  {
   "cell_type": "code",
   "execution_count": 29,
   "id": "8855c4f5",
   "metadata": {},
   "outputs": [
    {
     "data": {
      "text/plain": [
       "15"
      ]
     },
     "execution_count": 29,
     "metadata": {},
     "output_type": "execute_result"
    }
   ],
   "source": [
    "x"
   ]
  },
  {
   "cell_type": "code",
   "execution_count": 30,
   "id": "7029190c",
   "metadata": {},
   "outputs": [],
   "source": [
    "#When you are not interested in the third return: we will use _ (place holder) in place of variable name to avoid error."
   ]
  },
  {
   "cell_type": "code",
   "execution_count": 31,
   "id": "a9bff7d4",
   "metadata": {},
   "outputs": [],
   "source": [
    "c,x,_ = test3(4,5)"
   ]
  },
  {
   "cell_type": "code",
   "execution_count": 32,
   "id": "a322f11e",
   "metadata": {},
   "outputs": [
    {
     "data": {
      "text/plain": [
       "40"
      ]
     },
     "execution_count": 32,
     "metadata": {},
     "output_type": "execute_result"
    }
   ],
   "source": [
    "c"
   ]
  },
  {
   "cell_type": "code",
   "execution_count": 33,
   "id": "e8844d99",
   "metadata": {},
   "outputs": [
    {
     "data": {
      "text/plain": [
       "15"
      ]
     },
     "execution_count": 33,
     "metadata": {},
     "output_type": "execute_result"
    }
   ],
   "source": [
    "x"
   ]
  },
  {
   "cell_type": "code",
   "execution_count": 34,
   "id": "b8f759a7",
   "metadata": {},
   "outputs": [
    {
     "data": {
      "text/plain": [
       "9"
      ]
     },
     "execution_count": 34,
     "metadata": {},
     "output_type": "execute_result"
    }
   ],
   "source": [
    "_"
   ]
  },
  {
   "cell_type": "code",
   "execution_count": 35,
   "id": "14787bfa",
   "metadata": {},
   "outputs": [],
   "source": [
    "c,_,_ = test3(4,5)"
   ]
  },
  {
   "cell_type": "code",
   "execution_count": 36,
   "id": "65730fc5",
   "metadata": {},
   "outputs": [
    {
     "data": {
      "text/plain": [
       "40"
      ]
     },
     "execution_count": 36,
     "metadata": {},
     "output_type": "execute_result"
    }
   ],
   "source": [
    "c"
   ]
  },
  {
   "cell_type": "code",
   "execution_count": 37,
   "id": "07e420c6",
   "metadata": {},
   "outputs": [
    {
     "data": {
      "text/plain": [
       "9"
      ]
     },
     "execution_count": 37,
     "metadata": {},
     "output_type": "execute_result"
    }
   ],
   "source": [
    "_"
   ]
  },
  {
   "cell_type": "code",
   "execution_count": 38,
   "id": "fbca61f3",
   "metadata": {},
   "outputs": [
    {
     "data": {
      "text/plain": [
       "9"
      ]
     },
     "execution_count": 38,
     "metadata": {},
     "output_type": "execute_result"
    }
   ],
   "source": [
    "_"
   ]
  },
  {
   "cell_type": "code",
   "execution_count": 40,
   "id": "c79d266c",
   "metadata": {},
   "outputs": [],
   "source": [
    "def test8(n):\n",
    "    return n*2"
   ]
  },
  {
   "cell_type": "code",
   "execution_count": 41,
   "id": "32758059",
   "metadata": {},
   "outputs": [
    {
     "data": {
      "text/plain": [
       "[3, 4, 54, 45, 3, 4, 54, 45]"
      ]
     },
     "execution_count": 41,
     "metadata": {},
     "output_type": "execute_result"
    }
   ],
   "source": [
    "test8([3,4,54,45])"
   ]
  },
  {
   "cell_type": "code",
   "execution_count": 42,
   "id": "7644e797",
   "metadata": {},
   "outputs": [
    {
     "data": {
      "text/plain": [
       "1492"
      ]
     },
     "execution_count": 42,
     "metadata": {},
     "output_type": "execute_result"
    }
   ],
   "source": [
    "test8(746)"
   ]
  },
  {
   "cell_type": "code",
   "execution_count": 43,
   "id": "b2493856",
   "metadata": {},
   "outputs": [],
   "source": [
    "def test9(n):\n",
    "    return n, n*7"
   ]
  },
  {
   "cell_type": "code",
   "execution_count": 46,
   "id": "54e4ab25",
   "metadata": {},
   "outputs": [
    {
     "data": {
      "text/plain": [
       "(67, 469)"
      ]
     },
     "execution_count": 46,
     "metadata": {},
     "output_type": "execute_result"
    }
   ],
   "source": [
    "test9(67)"
   ]
  },
  {
   "cell_type": "code",
   "execution_count": 54,
   "id": "f5f70901",
   "metadata": {},
   "outputs": [],
   "source": [
    "#We are expoecting two values in return, which we will get in the form of tuples \n",
    "\n",
    "b = test9([1,2,3])"
   ]
  },
  {
   "cell_type": "code",
   "execution_count": 55,
   "id": "ad52941b",
   "metadata": {},
   "outputs": [
    {
     "data": {
      "text/plain": [
       "([1, 2, 3], [1, 2, 3, 1, 2, 3, 1, 2, 3, 1, 2, 3, 1, 2, 3, 1, 2, 3, 1, 2, 3])"
      ]
     },
     "execution_count": 55,
     "metadata": {},
     "output_type": "execute_result"
    }
   ],
   "source": [
    "b"
   ]
  },
  {
   "cell_type": "code",
   "execution_count": 51,
   "id": "8c2a1080",
   "metadata": {},
   "outputs": [],
   "source": [
    "#Slicing and indexing operations inside tuple"
   ]
  },
  {
   "cell_type": "code",
   "execution_count": 52,
   "id": "91827d79",
   "metadata": {},
   "outputs": [
    {
     "data": {
      "text/plain": [
       "[1, 2, 3]"
      ]
     },
     "execution_count": 52,
     "metadata": {},
     "output_type": "execute_result"
    }
   ],
   "source": [
    "b[0]"
   ]
  },
  {
   "cell_type": "code",
   "execution_count": 53,
   "id": "9c6e0657",
   "metadata": {},
   "outputs": [
    {
     "data": {
      "text/plain": [
       "[1, 2, 3, 1, 2, 3, 1, 2, 3, 1, 2, 3, 1, 2, 3, 1, 2, 3, 1, 2, 3]"
      ]
     },
     "execution_count": 53,
     "metadata": {},
     "output_type": "execute_result"
    }
   ],
   "source": [
    "b[1]"
   ]
  },
  {
   "cell_type": "code",
   "execution_count": 60,
   "id": "99eabbf6",
   "metadata": {},
   "outputs": [],
   "source": [
    "def test10(n,m=50 ):\n",
    "    return n + m "
   ]
  },
  {
   "cell_type": "code",
   "execution_count": 61,
   "id": "b20d9780",
   "metadata": {},
   "outputs": [
    {
     "data": {
      "text/plain": [
       "110"
      ]
     },
     "execution_count": 61,
     "metadata": {},
     "output_type": "execute_result"
    }
   ],
   "source": [
    "test10(60)"
   ]
  },
  {
   "cell_type": "code",
   "execution_count": 64,
   "id": "df33cd39",
   "metadata": {},
   "outputs": [
    {
     "data": {
      "text/plain": [
       "70"
      ]
     },
     "execution_count": 64,
     "metadata": {},
     "output_type": "execute_result"
    }
   ],
   "source": [
    "#By default it will take m as 50 but if we provide 2 variables then its value changes.\n",
    "#Means that we can overwrite the default value in runtime. \n",
    "test10(30,40)"
   ]
  },
  {
   "cell_type": "code",
   "execution_count": 66,
   "id": "eae5bab0",
   "metadata": {},
   "outputs": [],
   "source": [
    "def boolx(x = True, y = False):\n",
    "    return x + y"
   ]
  },
  {
   "cell_type": "code",
   "execution_count": 67,
   "id": "b00f3032",
   "metadata": {},
   "outputs": [
    {
     "data": {
      "text/plain": [
       "1"
      ]
     },
     "execution_count": 67,
     "metadata": {},
     "output_type": "execute_result"
    }
   ],
   "source": [
    "boolx()"
   ]
  },
  {
   "cell_type": "code",
   "execution_count": 69,
   "id": "c817557c",
   "metadata": {},
   "outputs": [
    {
     "data": {
      "text/plain": [
       "1"
      ]
     },
     "execution_count": 69,
     "metadata": {},
     "output_type": "execute_result"
    }
   ],
   "source": [
    "boolx(True)"
   ]
  },
  {
   "cell_type": "code",
   "execution_count": 70,
   "id": "41af1399",
   "metadata": {},
   "outputs": [
    {
     "data": {
      "text/plain": [
       "0"
      ]
     },
     "execution_count": 70,
     "metadata": {},
     "output_type": "execute_result"
    }
   ],
   "source": [
    "boolx(False)"
   ]
  },
  {
   "cell_type": "code",
   "execution_count": 71,
   "id": "1a15f823",
   "metadata": {},
   "outputs": [
    {
     "data": {
      "text/plain": [
       "8"
      ]
     },
     "execution_count": 71,
     "metadata": {},
     "output_type": "execute_result"
    }
   ],
   "source": [
    "boolx(False, 8)"
   ]
  },
  {
   "cell_type": "code",
   "execution_count": 72,
   "id": "bd7a4e69",
   "metadata": {},
   "outputs": [],
   "source": [
    "def travel(bike = True, car = False):\n",
    "    plan_travel = bike or car \n",
    "    return bike, car, plan_travel"
   ]
  },
  {
   "cell_type": "code",
   "execution_count": 73,
   "id": "c117860b",
   "metadata": {},
   "outputs": [
    {
     "data": {
      "text/plain": [
       "(True, False, True)"
      ]
     },
     "execution_count": 73,
     "metadata": {},
     "output_type": "execute_result"
    }
   ],
   "source": [
    "travel()"
   ]
  },
  {
   "cell_type": "code",
   "execution_count": 74,
   "id": "44434337",
   "metadata": {},
   "outputs": [],
   "source": [
    "#Three output because of \"or\" operation. "
   ]
  },
  {
   "cell_type": "code",
   "execution_count": 75,
   "id": "cf0681e1",
   "metadata": {},
   "outputs": [
    {
     "data": {
      "text/plain": [
       "(True, True, True)"
      ]
     },
     "execution_count": 75,
     "metadata": {},
     "output_type": "execute_result"
    }
   ],
   "source": [
    "travel(car = True)"
   ]
  },
  {
   "cell_type": "code",
   "execution_count": 76,
   "id": "e5852bf4",
   "metadata": {},
   "outputs": [
    {
     "data": {
      "text/plain": [
       "((True, True, True), True, (True, True, True))"
      ]
     },
     "execution_count": 76,
     "metadata": {},
     "output_type": "execute_result"
    }
   ],
   "source": [
    "travel(_, True)"
   ]
  },
  {
   "cell_type": "code",
   "execution_count": 77,
   "id": "d7b927b6",
   "metadata": {},
   "outputs": [
    {
     "data": {
      "text/plain": [
       "((True, True, True), True, (True, True, True))"
      ]
     },
     "execution_count": 77,
     "metadata": {},
     "output_type": "execute_result"
    }
   ],
   "source": [
    "_"
   ]
  },
  {
   "cell_type": "code",
   "execution_count": 78,
   "id": "669da044",
   "metadata": {},
   "outputs": [],
   "source": [
    "#When you want your function to consume multiple datasets: asterisk argument"
   ]
  },
  {
   "cell_type": "code",
   "execution_count": 82,
   "id": "10f72165",
   "metadata": {},
   "outputs": [],
   "source": [
    "def test11(*args):\n",
    "    return args"
   ]
  },
  {
   "cell_type": "code",
   "execution_count": 83,
   "id": "65791c30",
   "metadata": {},
   "outputs": [
    {
     "data": {
      "text/plain": [
       "('Penny', 'Bajwa', 34, [3244, 324, 32])"
      ]
     },
     "execution_count": 83,
     "metadata": {},
     "output_type": "execute_result"
    }
   ],
   "source": [
    "test11(\"Penny\", \"Bajwa\", 34, [3244,324,32])"
   ]
  },
  {
   "cell_type": "code",
   "execution_count": 84,
   "id": "6028d14a",
   "metadata": {},
   "outputs": [],
   "source": [
    "#Task: Create a function which will take multiple no of lists and return a single list"
   ]
  },
  {
   "cell_type": "code",
   "execution_count": 85,
   "id": "7039f7a2",
   "metadata": {},
   "outputs": [],
   "source": [
    "def concatenate(*lists):\n",
    "    new_list = []\n",
    "    for i in lists:\n",
    "        new_list.append(i)\n",
    "    return new_list"
   ]
  },
  {
   "cell_type": "code",
   "execution_count": 86,
   "id": "8e0fe191",
   "metadata": {},
   "outputs": [
    {
     "data": {
      "text/plain": [
       "[[45, 34, 56], ['askhf', 'akfh', True], [1, 2, False]]"
      ]
     },
     "execution_count": 86,
     "metadata": {},
     "output_type": "execute_result"
    }
   ],
   "source": [
    "concatenate([45,34,56],[\"askhf\",\"akfh\", True], [1,2,False])"
   ]
  },
  {
   "cell_type": "code",
   "execution_count": 90,
   "id": "e25689fd",
   "metadata": {},
   "outputs": [],
   "source": [
    "def concatenated(*lists):\n",
    "    new_list = []\n",
    "    for i in lists:\n",
    "        new_list.extend(i)\n",
    "    return new_list"
   ]
  },
  {
   "cell_type": "code",
   "execution_count": 91,
   "id": "d9b4d58d",
   "metadata": {},
   "outputs": [
    {
     "data": {
      "text/plain": [
       "[45, 34, 56, 'askhf', 'akfh', True, 1, 2, False]"
      ]
     },
     "execution_count": 91,
     "metadata": {},
     "output_type": "execute_result"
    }
   ],
   "source": [
    "concatenated([45,34,56],[\"askhf\",\"akfh\", True], [1,2,False])"
   ]
  },
  {
   "cell_type": "code",
   "execution_count": 96,
   "id": "4348a863",
   "metadata": {},
   "outputs": [],
   "source": [
    "def concatenat(*lists):\n",
    "    l = []\n",
    "    for i in lists:\n",
    "        l = l + i\n",
    "    return l"
   ]
  },
  {
   "cell_type": "code",
   "execution_count": 97,
   "id": "6601876f",
   "metadata": {},
   "outputs": [
    {
     "data": {
      "text/plain": [
       "[45, 34, 56, 'askhf', 'akfh', True, 1, 2, False]"
      ]
     },
     "execution_count": 97,
     "metadata": {},
     "output_type": "execute_result"
    }
   ],
   "source": [
    "concatenat([45,34,56],[\"askhf\",\"akfh\", True], [1,2,False])"
   ]
  },
  {
   "cell_type": "code",
   "execution_count": 94,
   "id": "a87fd997",
   "metadata": {},
   "outputs": [],
   "source": [
    "#Other method"
   ]
  },
  {
   "cell_type": "code",
   "execution_count": 87,
   "id": "aa152cb2",
   "metadata": {},
   "outputs": [],
   "source": [
    "def join_lists(*lists):\n",
    "    return sum(lists, [])"
   ]
  },
  {
   "cell_type": "code",
   "execution_count": 88,
   "id": "49502d4a",
   "metadata": {},
   "outputs": [
    {
     "data": {
      "text/plain": [
       "[754, 34535, 325, True]"
      ]
     },
     "execution_count": 88,
     "metadata": {},
     "output_type": "execute_result"
    }
   ],
   "source": [
    "join_lists([754,34535], [325,True])"
   ]
  },
  {
   "cell_type": "code",
   "execution_count": 98,
   "id": "8799745a",
   "metadata": {},
   "outputs": [],
   "source": [
    "#Other method"
   ]
  },
  {
   "cell_type": "code",
   "execution_count": 101,
   "id": "83b772e7",
   "metadata": {},
   "outputs": [],
   "source": [
    "def test14(*args):\n",
    "    return [i for i in args]"
   ]
  },
  {
   "cell_type": "code",
   "execution_count": 102,
   "id": "823ddd43",
   "metadata": {},
   "outputs": [
    {
     "data": {
      "text/plain": [
       "[[45, 34, 56], ['askhf', 'akfh', True], [1, 2, False]]"
      ]
     },
     "execution_count": 102,
     "metadata": {},
     "output_type": "execute_result"
    }
   ],
   "source": [
    "test14([45,34,56],[\"askhf\",\"akfh\", True], [1,2,False])"
   ]
  },
  {
   "cell_type": "code",
   "execution_count": 103,
   "id": "058e0966",
   "metadata": {},
   "outputs": [],
   "source": [
    "#Restricting functions using if else (conditional) statements"
   ]
  },
  {
   "cell_type": "code",
   "execution_count": 104,
   "id": "7f278de6",
   "metadata": {},
   "outputs": [],
   "source": [
    "def concatenated(*lists):\n",
    "    new_list = []\n",
    "    for i in lists:\n",
    "        if type(i) == list:\n",
    "            new_list.extend(i)\n",
    "    return new_list"
   ]
  },
  {
   "cell_type": "code",
   "execution_count": 106,
   "id": "e853a94b",
   "metadata": {},
   "outputs": [
    {
     "data": {
      "text/plain": [
       "[1, 2, 3, 4]"
      ]
     },
     "execution_count": 106,
     "metadata": {},
     "output_type": "execute_result"
    }
   ],
   "source": [
    "#It will only return the list, not the string or int mentioned by user\n",
    "\n",
    "concatenated(\"eyqwefg\", 2435, [1,2,3,4])"
   ]
  },
  {
   "cell_type": "code",
   "execution_count": 107,
   "id": "cb52aeb5",
   "metadata": {},
   "outputs": [],
   "source": [
    "def test16(**kwargs):\n",
    "    return kwargs"
   ]
  },
  {
   "cell_type": "code",
   "execution_count": 108,
   "id": "2d1cab8c",
   "metadata": {},
   "outputs": [
    {
     "ename": "TypeError",
     "evalue": "test16() takes 0 positional arguments but 3 were given",
     "output_type": "error",
     "traceback": [
      "\u001b[1;31m---------------------------------------------------------------------------\u001b[0m",
      "\u001b[1;31mTypeError\u001b[0m                                 Traceback (most recent call last)",
      "\u001b[1;32m<ipython-input-108-ccee663fa567>\u001b[0m in \u001b[0;36m<module>\u001b[1;34m\u001b[0m\n\u001b[1;32m----> 1\u001b[1;33m \u001b[0mtest16\u001b[0m\u001b[1;33m(\u001b[0m\u001b[1;36m45\u001b[0m\u001b[1;33m,\u001b[0m\u001b[1;36m78\u001b[0m\u001b[1;33m,\u001b[0m\u001b[1;36m9\u001b[0m\u001b[1;33m)\u001b[0m\u001b[1;33m\u001b[0m\u001b[1;33m\u001b[0m\u001b[0m\n\u001b[0m",
      "\u001b[1;31mTypeError\u001b[0m: test16() takes 0 positional arguments but 3 were given"
     ]
    }
   ],
   "source": [
    "test16(45,78,9)"
   ]
  },
  {
   "cell_type": "code",
   "execution_count": 109,
   "id": "6e623aa5",
   "metadata": {},
   "outputs": [],
   "source": [
    "def test16(**kwargs):\n",
    "    return kwargs"
   ]
  },
  {
   "cell_type": "code",
   "execution_count": 110,
   "id": "5945e3b7",
   "metadata": {},
   "outputs": [
    {
     "ename": "TypeError",
     "evalue": "test16() takes 0 positional arguments but 4 were given",
     "output_type": "error",
     "traceback": [
      "\u001b[1;31m---------------------------------------------------------------------------\u001b[0m",
      "\u001b[1;31mTypeError\u001b[0m                                 Traceback (most recent call last)",
      "\u001b[1;32m<ipython-input-110-99f527e3775a>\u001b[0m in \u001b[0;36m<module>\u001b[1;34m\u001b[0m\n\u001b[1;32m----> 1\u001b[1;33m \u001b[0mtest16\u001b[0m\u001b[1;33m(\u001b[0m\u001b[1;36m21\u001b[0m\u001b[1;33m,\u001b[0m\u001b[1;36m3\u001b[0m\u001b[1;33m,\u001b[0m\u001b[1;36m4\u001b[0m\u001b[1;33m,\u001b[0m\u001b[1;36m4\u001b[0m\u001b[1;33m)\u001b[0m\u001b[1;33m\u001b[0m\u001b[1;33m\u001b[0m\u001b[0m\n\u001b[0m",
      "\u001b[1;31mTypeError\u001b[0m: test16() takes 0 positional arguments but 4 were given"
     ]
    }
   ],
   "source": [
    "test16(21,3,4,4)"
   ]
  },
  {
   "cell_type": "code",
   "execution_count": 112,
   "id": "0dc7b37c",
   "metadata": {},
   "outputs": [
    {
     "data": {
      "text/plain": [
       "{'a': 12, 'b': 5, 'c': [52, 34, 35], 'd': True}"
      ]
     },
     "execution_count": 112,
     "metadata": {},
     "output_type": "execute_result"
    }
   ],
   "source": [
    "#Kwargs take up data only in the form of Key:Value pairs whereas args can take up in any form \n",
    "\n",
    "test16(a = 12, b = 5, c = [52,34,35], d = True)"
   ]
  },
  {
   "cell_type": "code",
   "execution_count": 115,
   "id": "94dfc112",
   "metadata": {},
   "outputs": [],
   "source": [
    "def test17(*args):\n",
    "    return args"
   ]
  },
  {
   "cell_type": "code",
   "execution_count": 117,
   "id": "e9e84abc",
   "metadata": {},
   "outputs": [
    {
     "data": {
      "text/plain": [
       "('adFB', 844, 324, 342, ['aDJADFk', 2428342], False)"
      ]
     },
     "execution_count": 117,
     "metadata": {},
     "output_type": "execute_result"
    }
   ],
   "source": [
    "test17(\"adFB\", 844,324,342, [\"aDJADFk\", 2428342], False)"
   ]
  },
  {
   "cell_type": "markdown",
   "id": "012c5abc",
   "metadata": {},
   "source": [
    "#Q-1 Create a function in which:\n",
    "1. To take any number of mixed data and try to create a list of separate data based on datatype and return multiple result\n",
    "2. Which will be able to use *args and **kwargs and it will be able to do list value concatenation and return a list"
   ]
  },
  {
   "cell_type": "code",
   "execution_count": 6,
   "id": "5d51a23a",
   "metadata": {},
   "outputs": [],
   "source": [
    "def concatenated(*args):\n",
    "    new_list = []\n",
    "    in_list = []\n",
    "    st_list = []\n",
    "    b_list = []\n",
    "    t_list = []\n",
    "    d_list = []\n",
    "    f_list = []\n",
    "    for i in args:\n",
    "        if type(i) == list:\n",
    "            new_list.append(i)\n",
    "        if type(i) == int:\n",
    "            in_list.append(i)\n",
    "        if type(i) == str:\n",
    "            st_list.append(i)\n",
    "        if type(i) == bool:\n",
    "            b_list.append(i)\n",
    "        if type(i) == tuple:\n",
    "            t_list.append(i)\n",
    "        if type(i) == dict:\n",
    "            d_list.append(i)\n",
    "        if type(i) == float:\n",
    "            f_list.append(i)\n",
    "    return new_list, in_list, st_list, b_list, t_list, d_list, f_list\n"
   ]
  },
  {
   "cell_type": "code",
   "execution_count": 7,
   "id": "bfb7919e",
   "metadata": {},
   "outputs": [
    {
     "data": {
      "text/plain": [
       "([[1, 3, 4], [87459, 34, 67]],\n",
       " [123, 740, 57],\n",
       " ['aeffe', 'euro3ri', 'jdghw'],\n",
       " [True, False, False],\n",
       " [(45, 35), (78903, 45)],\n",
       " [{'Penn': 'Bajwa', 'Age': 24}],\n",
       " [7.66, 4.0, 0.78])"
      ]
     },
     "execution_count": 7,
     "metadata": {},
     "output_type": "execute_result"
    }
   ],
   "source": [
    "concatenated(True, False, \"aeffe\", \"euro3ri\", 123, 7.66, 4.0, \"jdghw\", [1,3,4], 4 + 5j, False, [87459,34,67], 740, 57, (45,35), (78903, 45), 0.78, {\"Penn\": \"Bajwa\", \"Age\": 24})"
   ]
  },
  {
   "cell_type": "code",
   "execution_count": 12,
   "id": "fbda5a82",
   "metadata": {},
   "outputs": [],
   "source": [
    "#Other/Better way:\n"
   ]
  },
  {
   "cell_type": "code",
   "execution_count": 15,
   "id": "c8ad25c8",
   "metadata": {},
   "outputs": [],
   "source": [
    "def func1(*args):\n",
    "    dt = {}\n",
    "    for i in args:\n",
    "        if type(i) in dt:\n",
    "            dt[type(i)].append(i)\n",
    "        else:\n",
    "            dt[type(i)] = [i]\n",
    "    return dt"
   ]
  },
  {
   "cell_type": "code",
   "execution_count": 16,
   "id": "97fb1fd7",
   "metadata": {},
   "outputs": [
    {
     "data": {
      "text/plain": [
       "{int: [1, 2, 3],\n",
       " list: [[2, 3, 4]],\n",
       " str: ['jg', 'jaf'],\n",
       " float: [8.9, 9.6],\n",
       " complex: [(4+7j)]}"
      ]
     },
     "execution_count": 16,
     "metadata": {},
     "output_type": "execute_result"
    }
   ],
   "source": [
    "func1(1,2,3,[2,3,4],\"jg\", \"jaf\", 8.9, 9.6, 4 + 7j)"
   ]
  },
  {
   "cell_type": "code",
   "execution_count": null,
   "id": "d6c5cbd0",
   "metadata": {},
   "outputs": [],
   "source": []
  },
  {
   "cell_type": "code",
   "execution_count": 11,
   "id": "e0cb00ce",
   "metadata": {},
   "outputs": [],
   "source": [
    "def concat(*args, **kwargs):\n",
    "    l = [i for i in args]\n",
    "    d = [i[1] for i in kwargs.items() if type(i[1]) == list]\n",
    "    return l, d"
   ]
  },
  {
   "cell_type": "code",
   "execution_count": 12,
   "id": "ee1ddf82",
   "metadata": {},
   "outputs": [
    {
     "data": {
      "text/plain": [
       "([[2, 3, 4, 5], [5, 6, 7, 8], 50, 60, 72, 47], [[45, 2, 4, 5]])"
      ]
     },
     "execution_count": 12,
     "metadata": {},
     "output_type": "execute_result"
    }
   ],
   "source": [
    "concat([2,3,4,5], [5,6,7,8], 50,60,72,47, a = 5, b = \"eajgf\", c = [45,2,4,5])"
   ]
  },
  {
   "cell_type": "code",
   "execution_count": 4,
   "id": "4e1d2c96",
   "metadata": {},
   "outputs": [],
   "source": [
    "def test18(**kwargs):\n",
    "    return kwargs"
   ]
  },
  {
   "cell_type": "code",
   "execution_count": 5,
   "id": "a6bf7ad6",
   "metadata": {},
   "outputs": [
    {
     "data": {
      "text/plain": [
       "{'a': 6, 'b': 8, 'c': 'hgdld', 'h': [1, 2, 3, 4], 'd': ['Penn', 'Bajwa', 2435]}"
      ]
     },
     "execution_count": 5,
     "metadata": {},
     "output_type": "execute_result"
    }
   ],
   "source": [
    "test18(a = 6, b = 8, c = \"hgdld\", h = [1,2,3,4], d = [\"Penn\", \"Bajwa\", 2435])"
   ]
  },
  {
   "cell_type": "code",
   "execution_count": 6,
   "id": "1fe128ee",
   "metadata": {},
   "outputs": [],
   "source": [
    "#Inorder to extract only \"Bajwa\" from the dictionary in above output:\n"
   ]
  },
  {
   "cell_type": "code",
   "execution_count": 10,
   "id": "36a17421",
   "metadata": {},
   "outputs": [],
   "source": [
    "def test19(**kwargs):\n",
    "    for i in kwargs.items():\n",
    "        if type(i[1]) == list:\n",
    "            if \"Bajwa\" in i[1]:\n",
    "                print(\"I am able to find your name in input data\")\n",
    "                print(i[1])\n",
    "    return kwargs"
   ]
  },
  {
   "cell_type": "code",
   "execution_count": 11,
   "id": "1c4e0b85",
   "metadata": {},
   "outputs": [
    {
     "name": "stdout",
     "output_type": "stream",
     "text": [
      "I am able to find your name in input data\n",
      "['Penn', 'Bajwa', 2435]\n"
     ]
    },
    {
     "data": {
      "text/plain": [
       "{'a': 6, 'b': 8, 'c': 'hgdld', 'h': [1, 2, 3, 4], 'd': ['Penn', 'Bajwa', 2435]}"
      ]
     },
     "execution_count": 11,
     "metadata": {},
     "output_type": "execute_result"
    }
   ],
   "source": [
    "test19(a = 6, b = 8, c = \"hgdld\", h = [1,2,3,4], d = [\"Penn\", \"Bajwa\", 2435])"
   ]
  },
  {
   "cell_type": "code",
   "execution_count": null,
   "id": "4f75460d",
   "metadata": {},
   "outputs": [],
   "source": []
  }
 ],
 "metadata": {
  "kernelspec": {
   "display_name": "Python 3",
   "language": "python",
   "name": "python3"
  },
  "language_info": {
   "codemirror_mode": {
    "name": "ipython",
    "version": 3
   },
   "file_extension": ".py",
   "mimetype": "text/x-python",
   "name": "python",
   "nbconvert_exporter": "python",
   "pygments_lexer": "ipython3",
   "version": "3.8.8"
  }
 },
 "nbformat": 4,
 "nbformat_minor": 5
}
