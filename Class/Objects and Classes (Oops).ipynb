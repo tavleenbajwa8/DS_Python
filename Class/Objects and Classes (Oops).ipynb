{
 "cells": [
  {
   "cell_type": "markdown",
   "id": "c5fce986",
   "metadata": {},
   "source": [
    "Objects are variables of particular class\n",
    "Class is a classification of real world entity\n",
    "Objects is variables of a class by which we are able to do the real time representation of data or an entity"
   ]
  },
  {
   "cell_type": "code",
   "execution_count": 1,
   "id": "d73f03ad",
   "metadata": {},
   "outputs": [
    {
     "ename": "SyntaxError",
     "evalue": "unexpected EOF while parsing (<ipython-input-1-02ef5be3782f>, line 2)",
     "output_type": "error",
     "traceback": [
      "\u001b[1;36m  File \u001b[1;32m\"<ipython-input-1-02ef5be3782f>\"\u001b[1;36m, line \u001b[1;32m2\u001b[0m\n\u001b[1;33m    \u001b[0m\n\u001b[1;37m    ^\u001b[0m\n\u001b[1;31mSyntaxError\u001b[0m\u001b[1;31m:\u001b[0m unexpected EOF while parsing\n"
     ]
    }
   ],
   "source": [
    "class car:\n",
    "    "
   ]
  },
  {
   "cell_type": "code",
   "execution_count": null,
   "id": "537e2c0f",
   "metadata": {},
   "outputs": [],
   "source": [
    "class car:\n",
    "    pass"
   ]
  },
  {
   "cell_type": "code",
   "execution_count": null,
   "id": "5d4325a1",
   "metadata": {},
   "outputs": [],
   "source": [
    "audiq7 = car()"
   ]
  },
  {
   "cell_type": "code",
   "execution_count": null,
   "id": "c0d18600",
   "metadata": {},
   "outputs": [],
   "source": [
    "audiq7"
   ]
  },
  {
   "cell_type": "code",
   "execution_count": null,
   "id": "c4a19422",
   "metadata": {},
   "outputs": [],
   "source": [
    "# classvariable.newvariable (Here the class is car, classvariable is audiq7 and newvariables are cv.milage, cv.year etc)\n",
    "\n",
    "audiq7.milage = 4893\n",
    "audiq7.year = 2018\n",
    "audiq7.make = \"New Delhi\"\n",
    "audiq7.model = \"A9\"\n"
   ]
  },
  {
   "cell_type": "code",
   "execution_count": null,
   "id": "fac2c8d5",
   "metadata": {},
   "outputs": [],
   "source": [
    "#Suppose inorder to extract any data Eg: Milage, make etc"
   ]
  },
  {
   "cell_type": "code",
   "execution_count": null,
   "id": "ff779f04",
   "metadata": {},
   "outputs": [],
   "source": [
    "audiq7.milage"
   ]
  },
  {
   "cell_type": "code",
   "execution_count": null,
   "id": "1124b1f6",
   "metadata": {},
   "outputs": [],
   "source": [
    "nano = car()"
   ]
  },
  {
   "cell_type": "code",
   "execution_count": null,
   "id": "b08e50e0",
   "metadata": {},
   "outputs": [],
   "source": [
    "nano.milage = 20\n",
    "nano.year = 2020\n",
    "nano.make = \"Pune\"\n",
    "nano.model = \"4C\"\n",
    "nano.engineno = 69847834"
   ]
  },
  {
   "cell_type": "code",
   "execution_count": null,
   "id": "cbe73f88",
   "metadata": {},
   "outputs": [],
   "source": [
    "print(nano.engineno, nano.model)"
   ]
  },
  {
   "cell_type": "markdown",
   "id": "f2ae0f74",
   "metadata": {},
   "source": [
    "1. __init__ function is provider of data to the classes\n",
    "2. self here is a pointer to itself\n",
    "3. milage, year etc are the arguments containing data\n",
    "4. self.milage,self.year etc are class variables\n"
   ]
  },
  {
   "cell_type": "code",
   "execution_count": null,
   "id": "3d0eaea3",
   "metadata": {},
   "outputs": [],
   "source": [
    "class car:\n",
    "    def __init__(self, milage, year, make, model):\n",
    "        self.milage = milage\n",
    "        self.year = year\n",
    "        self.make = make\n",
    "        self.model = model"
   ]
  },
  {
   "cell_type": "code",
   "execution_count": null,
   "id": "498e6224",
   "metadata": {},
   "outputs": [],
   "source": [
    "nano1 = car(20,2020, \"ksgh\", \"jzryg\")\n",
    "audiq71 = car(40,2021, \"kfhg\", \"jrkhgyg\")"
   ]
  },
  {
   "cell_type": "code",
   "execution_count": 2,
   "id": "1e7549d3",
   "metadata": {},
   "outputs": [
    {
     "ename": "NameError",
     "evalue": "name 'nano1' is not defined",
     "output_type": "error",
     "traceback": [
      "\u001b[1;31m---------------------------------------------------------------------------\u001b[0m",
      "\u001b[1;31mNameError\u001b[0m                                 Traceback (most recent call last)",
      "\u001b[1;32m<ipython-input-2-07b43ee5a77d>\u001b[0m in \u001b[0;36m<module>\u001b[1;34m\u001b[0m\n\u001b[1;32m----> 1\u001b[1;33m \u001b[0mnano1\u001b[0m\u001b[1;33m.\u001b[0m\u001b[0mmilage\u001b[0m\u001b[1;33m\u001b[0m\u001b[1;33m\u001b[0m\u001b[0m\n\u001b[0m",
      "\u001b[1;31mNameError\u001b[0m: name 'nano1' is not defined"
     ]
    }
   ],
   "source": [
    "nano1.milage"
   ]
  },
  {
   "cell_type": "code",
   "execution_count": null,
   "id": "47a8c79d",
   "metadata": {},
   "outputs": [],
   "source": [
    "nano1 = car(20,2020, \"ksgh\", \"jzryg\")\n",
    "audiq71 = car(40,2021, \"kfhg\", \"jrkhgyg\")\n",
    "nano2 = car(20,2020, \"ksgh\", \"jzryg\")\n",
    "audiq72 = car(40,2021, \"kfhg\", \"jrkhgyg\")\n",
    "nano3 = car(20,2020, \"ksgh\", \"jzryg\")\n",
    "audiq73 = car(40,2021, \"kfhg\", \"jrkhgyg\")\n",
    "nano4 = car(20,2020, \"ksgh\", \"jzryg\")\n",
    "audiq74 = car(40,2021, \"kfhg\", \"jrkhgyg\")\n",
    "nano5 = car(20,2020, \"ksgh\", \"jzryg\")\n",
    "audiq75 = car(40,2021, \"kfhg\", \"jrkhgyg\")\n",
    "nano6 = car(20,2020, \"ksgh\", \"jzryg\")\n",
    "audiq76 = car(40,2021, \"kfhg\", \"jrkhgyg\")"
   ]
  },
  {
   "cell_type": "code",
   "execution_count": null,
   "id": "fadbeef0",
   "metadata": {},
   "outputs": [],
   "source": [
    "class car:\n",
    "    def __init__(self, milage, year, make, model):\n",
    "        self.milage = milage\n",
    "        self.year = year\n",
    "        self.make = make\n",
    "        self.model = model\n",
    "        \n",
    "    def age(b,current_year):\n",
    "        return current_year - b.year\n",
    "    \n",
    "    def milage1(self):\n",
    "        #print(\"milage of car: \", self.milage)\n",
    "        return self.milage\n",
    "    def __str__(c):\n",
    "        return \"This is my car class created\""
   ]
  },
  {
   "cell_type": "code",
   "execution_count": null,
   "id": "c31f36dd",
   "metadata": {},
   "outputs": [],
   "source": [
    "nano67 = car(73,2020,3458,\"jdfdh\")"
   ]
  },
  {
   "cell_type": "code",
   "execution_count": null,
   "id": "9217aab6",
   "metadata": {},
   "outputs": [],
   "source": [
    "nano67.milage1()"
   ]
  },
  {
   "cell_type": "code",
   "execution_count": null,
   "id": "aa06b347",
   "metadata": {},
   "outputs": [],
   "source": [
    "nano67\n",
    "\n",
    "#Will print default object value/address"
   ]
  },
  {
   "cell_type": "code",
   "execution_count": null,
   "id": "16846d65",
   "metadata": {},
   "outputs": [],
   "source": [
    "#After using inbuilt __str__ function \n",
    "\n",
    "print(nano67)"
   ]
  },
  {
   "cell_type": "code",
   "execution_count": null,
   "id": "3c25a3b3",
   "metadata": {},
   "outputs": [],
   "source": []
  },
  {
   "cell_type": "code",
   "execution_count": null,
   "id": "de09c907",
   "metadata": {},
   "outputs": [],
   "source": [
    "class student:\n",
    "    \n",
    "    def __init__(self, name, rollno, joining_date, current_topic):\n",
    "        self.name = name\n",
    "        self.rollno = rollno\n",
    "        self.joining_date = joining_date\n",
    "        self.current_topic = current_topic\n",
    "        \n",
    "    def name_parsing(self):\n",
    "        if type(self.name) == list:\n",
    "            for i in self.name:\n",
    "                print(\"Name of student\" , i)\n",
    "        else:\n",
    "            print(\"Provided name is not in the form of list\")\n",
    "        \n",
    "        \n",
    "    def crt_topic(self):\n",
    "        print(\"Current topic discussed in class is \", self.current_topic)\n",
    "    \n",
    "    def str_rollno(self):\n",
    "        \n",
    "        try:\n",
    "        \n",
    "            if type(self.rollno) == str:\n",
    "                print(\"Do nothing\")\n",
    "            else:\n",
    "                return str(self.rollno)\n",
    "        \n",
    "        except Exception as e:\n",
    "            print(\"This is my error message\", e)\n",
    "            \n",
    "    def duration(self,current_date):\n",
    "        print(\"Duration of the student in my class is \", current_date - self.joining_date)\n",
    "    \n",
    "    def __str__(self):\n",
    "        return (\"This is student class where they try to input their own data and they can also fetch it.\")"
   ]
  },
  {
   "cell_type": "code",
   "execution_count": null,
   "id": "aa96a299",
   "metadata": {},
   "outputs": [],
   "source": [
    " srini = student(\"srini\", 27 , 2021 , 'Oops')"
   ]
  },
  {
   "cell_type": "code",
   "execution_count": null,
   "id": "6eb5c415",
   "metadata": {},
   "outputs": [],
   "source": [
    "srini.duration(2021)"
   ]
  },
  {
   "cell_type": "code",
   "execution_count": null,
   "id": "37005d6b",
   "metadata": {},
   "outputs": [],
   "source": [
    "srini.str_rollno()"
   ]
  },
  {
   "cell_type": "code",
   "execution_count": null,
   "id": "ef0671f4",
   "metadata": {},
   "outputs": [],
   "source": [
    "print(srini)"
   ]
  },
  {
   "cell_type": "code",
   "execution_count": null,
   "id": "6a66ff47",
   "metadata": {},
   "outputs": [],
   "source": [
    "srini.name_parsing()"
   ]
  },
  {
   "cell_type": "markdown",
   "id": "29e60082",
   "metadata": {},
   "source": [
    "# Task"
   ]
  },
  {
   "cell_type": "code",
   "execution_count": 13,
   "id": "25340411",
   "metadata": {},
   "outputs": [],
   "source": [
    "class data:\n",
    "    \n",
    "    def __init__(self, file_name, file_type, date, size):\n",
    "        self.file_name = file_name\n",
    "        self.file_type = file_type\n",
    "        self.date = date\n",
    "        self.size = size\n",
    "        \n",
    "    def file_open(self):\n",
    "        try:\n",
    "            f = open(self.file_name, 'w')\n",
    "            f.write(\"This is a text file\")\n",
    "            f.close()\n",
    "        except Exception as e:\n",
    "            print(\"An error has occured\", e)\n",
    "    \n",
    "    def file_read(self):\n",
    "        try:\n",
    "            f = open(self.file_name, 'r')\n",
    "            print(f.read())\n",
    "            f.close()\n",
    "        except Exception as e:\n",
    "            print(\"An error has occured\", e)\n",
    "        \n",
    "    def file_append(self):\n",
    "        try:\n",
    "            f = open(self.file_name, 'a')\n",
    "            f.write(\"Appending data to the file\")\n",
    "            f.close()\n",
    "        except Exception as e:\n",
    "            print(\"An error has occured\", e)\n",
    "        \n",
    "        \n",
    "        \n",
    "        "
   ]
  },
  {
   "cell_type": "code",
   "execution_count": 14,
   "id": "19916321",
   "metadata": {},
   "outputs": [],
   "source": [
    "file1 = data(['file1','file2','file3','file4'], \"write\", 2020, 56)"
   ]
  },
  {
   "cell_type": "code",
   "execution_count": 15,
   "id": "9c415357",
   "metadata": {},
   "outputs": [
    {
     "name": "stdout",
     "output_type": "stream",
     "text": [
      "This is a text file\n"
     ]
    }
   ],
   "source": [
    "file1.file_open()\n",
    "file1.file_read()\n",
    "file1.file_append()"
   ]
  },
  {
   "cell_type": "code",
   "execution_count": 17,
   "id": "f662cbd9",
   "metadata": {},
   "outputs": [],
   "source": [
    "import logging as lg\n",
    "lg.basicConfig(filename= 'OOPS.log', level=lg.ERROR)\n",
    "class Data:\n",
    "    def __init__(self, fileName, fileType, Data, Size):\n",
    "        self.fileName = fileName\n",
    "        self.fileType = fileType\n",
    "        self.Data = Data\n",
    "        self.Size = Size\n",
    "        \n",
    "    def file_open(self):\n",
    "        try:\n",
    "            with open(self.fileName+self.fileType, 'w') as f:\n",
    "                f.write(\"This is my test file\")\n",
    "                f.close()\n",
    "        except Exception as e:\n",
    "            self.logging(e)\n",
    "            \n",
    "    def file_read(self):\n",
    "        try:\n",
    "            with open(self.fileName+self.fileType, 'r') as f:\n",
    "                f.read()\n",
    "        except FileNotFoundError as e:\n",
    "            self.logging(e)\n",
    "        except Exception as e:\n",
    "            self.logging(e)\n",
    "            \n",
    "    def file_append(self, data):\n",
    "        try:\n",
    "            with open(self.fileName+self.FileType, 'a') as f:\n",
    "                f.write(data)\n",
    "        except Exception as e:\n",
    "            self.logging(e)\n",
    "            \n",
    "    def logging(self, log):\n",
    "        lg.error(log)\n",
    "        \n",
    "d = Data('d', 4387,9569,340)\n",
    "d.file_open()\n",
    "d.file_read()\n",
    "d.file_append('Ilove coding')\n",
    "\n",
    "    \n",
    "    \n",
    "    \n",
    "        "
   ]
  },
  {
   "cell_type": "code",
   "execution_count": null,
   "id": "4a7e73eb",
   "metadata": {},
   "outputs": [],
   "source": []
  }
 ],
 "metadata": {
  "kernelspec": {
   "display_name": "Python 3",
   "language": "python",
   "name": "python3"
  },
  "language_info": {
   "codemirror_mode": {
    "name": "ipython",
    "version": 3
   },
   "file_extension": ".py",
   "mimetype": "text/x-python",
   "name": "python",
   "nbconvert_exporter": "python",
   "pygments_lexer": "ipython3",
   "version": "3.8.8"
  }
 },
 "nbformat": 4,
 "nbformat_minor": 5
}
