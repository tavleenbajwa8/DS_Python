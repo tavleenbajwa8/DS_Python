{
 "cells": [
  {
   "cell_type": "markdown",
   "id": "0f747a62",
   "metadata": {},
   "source": [
    "#Abstraction: Public(No underscore), Protected(Single underscore), Private(Double Underscore)\n",
    "\n",
    "#Private var: Cannot access it directly outside of the class."
   ]
  },
  {
   "cell_type": "code",
   "execution_count": 1,
   "id": "f6c20a0f",
   "metadata": {},
   "outputs": [],
   "source": [
    "class test:\n",
    "    def __init__(self, a, b, c, d):\n",
    "        self.__a = a\n",
    "        self.b = b\n",
    "        self.c = c\n",
    "        self.d = d\n",
    "        \n",
    "    def test_custom(self, v):\n",
    "        return v - self.__a\n",
    "    \n",
    "    def __str__(self):\n",
    "        return \"This is my test code for abstraction\""
   ]
  },
  {
   "cell_type": "code",
   "execution_count": 2,
   "id": "57f44dd3",
   "metadata": {},
   "outputs": [],
   "source": [
    "o = test(4,5,6,7)"
   ]
  },
  {
   "cell_type": "code",
   "execution_count": 3,
   "id": "fa043d0b",
   "metadata": {},
   "outputs": [
    {
     "data": {
      "text/plain": [
       "0"
      ]
     },
     "execution_count": 3,
     "metadata": {},
     "output_type": "execute_result"
    }
   ],
   "source": [
    "o.test_custom(4)"
   ]
  },
  {
   "cell_type": "code",
   "execution_count": 4,
   "id": "35502fad",
   "metadata": {},
   "outputs": [
    {
     "name": "stdout",
     "output_type": "stream",
     "text": [
      "This is my test code for abstraction\n"
     ]
    }
   ],
   "source": [
    "print(o)"
   ]
  },
  {
   "cell_type": "code",
   "execution_count": 5,
   "id": "4fecf07d",
   "metadata": {},
   "outputs": [
    {
     "ename": "AttributeError",
     "evalue": "'test' object has no attribute '__a'",
     "output_type": "error",
     "traceback": [
      "\u001b[1;31m---------------------------------------------------------------------------\u001b[0m",
      "\u001b[1;31mAttributeError\u001b[0m                            Traceback (most recent call last)",
      "\u001b[1;32m<ipython-input-5-1e42657c998a>\u001b[0m in \u001b[0;36m<module>\u001b[1;34m\u001b[0m\n\u001b[1;32m----> 1\u001b[1;33m \u001b[0mo\u001b[0m\u001b[1;33m.\u001b[0m\u001b[0m__a\u001b[0m\u001b[1;33m\u001b[0m\u001b[1;33m\u001b[0m\u001b[0m\n\u001b[0m",
      "\u001b[1;31mAttributeError\u001b[0m: 'test' object has no attribute '__a'"
     ]
    }
   ],
   "source": [
    "o.__a"
   ]
  },
  {
   "cell_type": "code",
   "execution_count": null,
   "id": "6c1e0984",
   "metadata": {},
   "outputs": [],
   "source": [
    "#Way to call a Private variable"
   ]
  },
  {
   "cell_type": "code",
   "execution_count": null,
   "id": "ab748fbf",
   "metadata": {},
   "outputs": [],
   "source": [
    "o._test__a"
   ]
  },
  {
   "cell_type": "code",
   "execution_count": null,
   "id": "cf37ecbe",
   "metadata": {},
   "outputs": [],
   "source": [
    "#Inheritance: Allows you to inherit a property from a child class to parent class.\n",
    "#test1 is child class and we are here inheriting parent class test into child class test1"
   ]
  },
  {
   "cell_type": "code",
   "execution_count": null,
   "id": "a6624633",
   "metadata": {},
   "outputs": [],
   "source": [
    "class test1(test):\n",
    "    def __init__(self, j, *args):\n",
    "        super(test1,self).__init__(*args)\n",
    "        self.j = j\n",
    "        \n",
    "m = test1(4,5,6,7,8)\n",
    "m.b"
   ]
  },
  {
   "cell_type": "code",
   "execution_count": null,
   "id": "44b739bb",
   "metadata": {},
   "outputs": [],
   "source": [
    "m.test_custom(8)"
   ]
  },
  {
   "cell_type": "code",
   "execution_count": null,
   "id": "99214f80",
   "metadata": {},
   "outputs": [],
   "source": [
    "m.j"
   ]
  },
  {
   "cell_type": "code",
   "execution_count": null,
   "id": "5e2e4ea3",
   "metadata": {},
   "outputs": [],
   "source": [
    "m.c"
   ]
  },
  {
   "cell_type": "code",
   "execution_count": null,
   "id": "bfafa9c8",
   "metadata": {},
   "outputs": [],
   "source": [
    "m.d"
   ]
  },
  {
   "cell_type": "code",
   "execution_count": null,
   "id": "cab3bdec",
   "metadata": {},
   "outputs": [],
   "source": [
    "m._test__a"
   ]
  },
  {
   "cell_type": "code",
   "execution_count": null,
   "id": "47d6cc58",
   "metadata": {},
   "outputs": [],
   "source": [
    "class test2:\n",
    "    def __init__(self, a, b, c, d):\n",
    "        self.a = a\n",
    "        self.b = b\n",
    "        self.c = c\n",
    "        self.d = d\n",
    "        \n",
    "    def func_1(self,v):\n",
    "        return v + self.b\n",
    "        "
   ]
  },
  {
   "cell_type": "code",
   "execution_count": null,
   "id": "b6bde55c",
   "metadata": {},
   "outputs": [],
   "source": [
    "o = test2(2,3,4,5)"
   ]
  },
  {
   "cell_type": "code",
   "execution_count": null,
   "id": "6c63c037",
   "metadata": {},
   "outputs": [],
   "source": [
    "o.func_1(6)"
   ]
  },
  {
   "cell_type": "code",
   "execution_count": null,
   "id": "bb252aba",
   "metadata": {},
   "outputs": [],
   "source": [
    "class test3:\n",
    "    def __init__(self, e, f, g, h):\n",
    "        self.e = e\n",
    "        self.f = f\n",
    "        self.g = g\n",
    "        self.h = h\n",
    "        \n",
    "    def func_1(self,v):\n",
    "        return v - self.f\n",
    "        "
   ]
  },
  {
   "cell_type": "code",
   "execution_count": null,
   "id": "c7bdb0a5",
   "metadata": {},
   "outputs": [],
   "source": [
    "q = test3(6,7,8,9)"
   ]
  },
  {
   "cell_type": "code",
   "execution_count": null,
   "id": "4d2ca074",
   "metadata": {},
   "outputs": [],
   "source": [
    "q.func_1(7)"
   ]
  },
  {
   "cell_type": "code",
   "execution_count": null,
   "id": "f2b29d61",
   "metadata": {},
   "outputs": [],
   "source": [
    "class test4(test2, test3):\n",
    "    def __init__(self, j , *args):\n",
    "        super(test4, self).__init__(*args)\n",
    "        self.j = j\n",
    "        \n",
    "m = test4(9,1,6,7,8)\n",
    "m.j"
   ]
  },
  {
   "cell_type": "code",
   "execution_count": null,
   "id": "15f00314",
   "metadata": {},
   "outputs": [],
   "source": [
    "m.func_1(1)"
   ]
  },
  {
   "cell_type": "markdown",
   "id": "0ea97f9d",
   "metadata": {},
   "source": [
    "Task:\n",
    "''''Create two parent classes with different functions and same name(Eg: a), followed by \n",
    "inherting them into a third child class containing function a from both the classes.''' "
   ]
  },
  {
   "cell_type": "code",
   "execution_count": null,
   "id": "5cd8d297",
   "metadata": {},
   "outputs": [],
   "source": [
    "#Workaround"
   ]
  },
  {
   "cell_type": "code",
   "execution_count": null,
   "id": "1372f434",
   "metadata": {},
   "outputs": [],
   "source": [
    "class test10:\n",
    "    def a(self):\n",
    "        print(\"test10 class\")\n",
    "        \n",
    "class test11:\n",
    "    def a(self):\n",
    "        print(\"test11 class\")\n",
    "        \n",
    "class test12(test10, test11):\n",
    "    t1 = test10()\n",
    "    t1.a()\n",
    "    t2 = test11()\n",
    "    t2.a()\n",
    "    print(\"test12 class\")\n",
    "    \n",
    "t3 = test12()\n",
    "t3.a()"
   ]
  },
  {
   "cell_type": "code",
   "execution_count": null,
   "id": "db65b76a",
   "metadata": {},
   "outputs": [],
   "source": [
    "#Right method"
   ]
  },
  {
   "cell_type": "code",
   "execution_count": null,
   "id": "5c700162",
   "metadata": {},
   "outputs": [],
   "source": [
    "class test:\n",
    "    def a(self):\n",
    "        print('Function from class test')\n",
    "class test1:\n",
    "    def a(self):\n",
    "        print('Function from class test1')\n",
    "\n",
    "class test2(test, test1):\n",
    "    def a(self):\n",
    "        test.a(self)\n",
    "        test1.a(self)\n",
    "        \n",
    "t = test2()\n",
    "t.a()\n",
    "    "
   ]
  },
  {
   "cell_type": "code",
   "execution_count": null,
   "id": "1b075254",
   "metadata": {},
   "outputs": [],
   "source": [
    "#Example sets"
   ]
  },
  {
   "cell_type": "code",
   "execution_count": null,
   "id": "fa551802",
   "metadata": {},
   "outputs": [],
   "source": [
    "class Ineuron:\n",
    "    company_website = 'https://ineuron.ai/'\n",
    "    name = 'INeuron'\n",
    "    \n",
    "    def contact_details(self):\n",
    "        print('Contact us at: ', self.company_website)\n",
    "    \n",
    "    \n",
    "class Datascience(Ineuron):\n",
    "    def __init__(self):\n",
    "        self.yearofest = 2018\n",
    "        \n",
    "    def est_details(self):\n",
    "        print('{0} Company was established in {1}'. format(self.name, self.yearofest))\n",
    "\n",
    "ds = Datascience()\n",
    "ds.est_details()\n",
    "        \n",
    "        "
   ]
  },
  {
   "cell_type": "code",
   "execution_count": null,
   "id": "f6e2d488",
   "metadata": {},
   "outputs": [],
   "source": [
    "class OS:\n",
    "    multi_task = True\n",
    "    os.name = 'Windows OS'\n",
    "    \n",
    "class windows(OS, Ineuron):\n",
    "    def __init__(self):\n",
    "        if self.multi_task is True:\n",
    "            print('Multi-task')\n",
    "        print('Name: {}'.format(self.name))\n",
    "        \n",
    "windows = windows()"
   ]
  },
  {
   "cell_type": "markdown",
   "id": "df1aa500",
   "metadata": {},
   "source": [
    "#Encapsulation"
   ]
  },
  {
   "cell_type": "code",
   "execution_count": 6,
   "id": "7e754cb2",
   "metadata": {},
   "outputs": [],
   "source": [
    "class test:\n",
    "    def __init__(self,a,b,c):\n",
    "        self.a = a\n",
    "        self.b = b\n",
    "        self.c = c\n",
    "    def __str__(self):\n",
    "        return 'This is the return from my test class'\n",
    "    \n",
    "class test1:\n",
    "    def __init__(self,a,b,c):\n",
    "        self.a = a\n",
    "        self.b = b\n",
    "        self.c = c\n",
    "    def __str__(self):\n",
    "        return 'This is the return from my test1 class'\n",
    "    \n",
    "class test2:\n",
    "    def __init__(self,a,b,c):\n",
    "        self.a = a\n",
    "        self.b = b\n",
    "        self.c = c\n",
    "    def __str__(self):\n",
    "        return 'This is the return from my test2 class'\n",
    "    \n",
    "class final:\n",
    "    def __init__(self,x,y,z):\n",
    "        self.x = x\n",
    "        self.y = y\n",
    "        self.z = z\n",
    "        \n",
    "    def __str__(self):\n",
    "        return str(self.x) + ' ' + str(self.y) + ' ' + str(self.z)\n",
    "        "
   ]
  },
  {
   "cell_type": "code",
   "execution_count": 9,
   "id": "a23dfdcf",
   "metadata": {},
   "outputs": [],
   "source": [
    "t = test(1,2,3)\n",
    "t1 = test1(4,5,6)\n",
    "t2 = test2(7,8,9)\n",
    "f = final(t,t1,t2)"
   ]
  },
  {
   "cell_type": "code",
   "execution_count": 10,
   "id": "abc02f83",
   "metadata": {},
   "outputs": [
    {
     "name": "stdout",
     "output_type": "stream",
     "text": [
      "This is the return from my test class This is the return from my test1 class This is the return from my test2 class\n"
     ]
    }
   ],
   "source": [
    "print(f)"
   ]
  },
  {
   "cell_type": "code",
   "execution_count": null,
   "id": "12dbbf40",
   "metadata": {},
   "outputs": [],
   "source": []
  }
 ],
 "metadata": {
  "kernelspec": {
   "display_name": "Python 3",
   "language": "python",
   "name": "python3"
  },
  "language_info": {
   "codemirror_mode": {
    "name": "ipython",
    "version": 3
   },
   "file_extension": ".py",
   "mimetype": "text/x-python",
   "name": "python",
   "nbconvert_exporter": "python",
   "pygments_lexer": "ipython3",
   "version": "3.8.8"
  }
 },
 "nbformat": 4,
 "nbformat_minor": 5
}
