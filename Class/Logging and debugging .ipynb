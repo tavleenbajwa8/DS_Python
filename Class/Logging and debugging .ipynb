{
 "cells": [
  {
   "cell_type": "markdown",
   "id": "57f2c0db",
   "metadata": {},
   "source": [
    "# Logging"
   ]
  },
  {
   "cell_type": "markdown",
   "id": "f192eb8a",
   "metadata": {},
   "source": [
    "\"\"\"logging is a way of keeping a log generated from a computer program. A log file usually has a set of records of events \n",
    "that occur in your code ( for example, a python code ) or an operating system. These events or messages are written to a \n",
    "log file, a message, or an event can also be a communication between different users.\"\"\"\n",
    "\n",
    "\"\"\"Whatever code we write, we have to apply logging + We have to conver that code into modular programming. \n",
    "\n",
    "To identify were is the problem in the code\n",
    "\n",
    "Whatever activity done is captured and used to log it in some databases, file systems, or in some cloud solution.\n",
    "\n",
    "Logging eah and every instances is a part of standard coding practice.\n",
    "\n",
    "By looking into the logging we can identify what is the problem and where is the problem occuring by\n",
    "capturing alomost every instances.\n",
    "\n",
    "For creating a BI dashboard \"\"\""
   ]
  },
  {
   "cell_type": "markdown",
   "id": "c4fe6f7a",
   "metadata": {},
   "source": [
    "\"\"\"Different kinds of information can be logged in \n",
    "1. Debug: Detailed information of each and every information we are trying to log in\n",
    "2. Info: Information of the software we are trying to show to the user\n",
    "3. Warning: Regarding some installation, we have to give that to user or some update, regarding a library\n",
    "4. Error: \n",
    "5. Critical:\n",
    "\"\"\""
   ]
  },
  {
   "cell_type": "code",
   "execution_count": 1,
   "id": "e4cc50c6",
   "metadata": {},
   "outputs": [],
   "source": [
    "#Importing Logging module\n",
    "\n",
    "import logging as lg"
   ]
  },
  {
   "cell_type": "code",
   "execution_count": 2,
   "id": "b6482668",
   "metadata": {},
   "outputs": [],
   "source": [
    "import os"
   ]
  },
  {
   "cell_type": "code",
   "execution_count": 3,
   "id": "9a9239e1",
   "metadata": {},
   "outputs": [
    {
     "ename": "FileExistsError",
     "evalue": "[WinError 183] Cannot create a file when that file already exists: 'logging'",
     "output_type": "error",
     "traceback": [
      "\u001b[1;31m---------------------------------------------------------------------------\u001b[0m",
      "\u001b[1;31mFileExistsError\u001b[0m                           Traceback (most recent call last)",
      "\u001b[1;32m<ipython-input-3-9cfa7fb3f788>\u001b[0m in \u001b[0;36m<module>\u001b[1;34m\u001b[0m\n\u001b[1;32m----> 1\u001b[1;33m \u001b[0mos\u001b[0m\u001b[1;33m.\u001b[0m\u001b[0mmkdir\u001b[0m\u001b[1;33m(\u001b[0m\u001b[1;34m\"logging\"\u001b[0m\u001b[1;33m)\u001b[0m\u001b[1;33m\u001b[0m\u001b[1;33m\u001b[0m\u001b[0m\n\u001b[0m",
      "\u001b[1;31mFileExistsError\u001b[0m: [WinError 183] Cannot create a file when that file already exists: 'logging'"
     ]
    }
   ],
   "source": [
    "os.mkdir(\"logging\")"
   ]
  },
  {
   "cell_type": "code",
   "execution_count": null,
   "id": "9f68f682",
   "metadata": {},
   "outputs": [],
   "source": [
    "os.chdir(os.getcwd() + \"/\" + \"logging\")"
   ]
  },
  {
   "cell_type": "code",
   "execution_count": null,
   "id": "ae05e57c",
   "metadata": {},
   "outputs": [],
   "source": [
    "pwd()"
   ]
  },
  {
   "cell_type": "code",
   "execution_count": null,
   "id": "496460d6",
   "metadata": {},
   "outputs": [],
   "source": [
    "lg.basicConfig(filename = \"C:\\\\Users\\\\Lakshya\\\\DS_Python\\\\logging\\\\test.log\", level = lg.INFO, format = '%(asctime)s %(message)s')"
   ]
  },
  {
   "cell_type": "code",
   "execution_count": null,
   "id": "3078e899",
   "metadata": {},
   "outputs": [],
   "source": [
    "lg.info(\"I am going to start my program\")"
   ]
  },
  {
   "cell_type": "code",
   "execution_count": null,
   "id": "f255c3f1",
   "metadata": {},
   "outputs": [],
   "source": [
    "lg.warning(\"This is the first warning of my program so modify it\")"
   ]
  },
  {
   "cell_type": "code",
   "execution_count": null,
   "id": "79d01fd5",
   "metadata": {},
   "outputs": [],
   "source": [
    "lg.error(\"This message is for error\")"
   ]
  },
  {
   "cell_type": "code",
   "execution_count": null,
   "id": "615d31b1",
   "metadata": {},
   "outputs": [],
   "source": [
    "\"jkjefjew\" + 85723450"
   ]
  },
  {
   "cell_type": "code",
   "execution_count": null,
   "id": "293dae40",
   "metadata": {},
   "outputs": [],
   "source": [
    "def test(a,b):\n",
    "    div = a/b\n",
    "    return div"
   ]
  },
  {
   "cell_type": "code",
   "execution_count": null,
   "id": "d61fe500",
   "metadata": {},
   "outputs": [],
   "source": [
    "test(4,0)"
   ]
  },
  {
   "cell_type": "code",
   "execution_count": null,
   "id": "022a2120",
   "metadata": {},
   "outputs": [],
   "source": [
    "#We will get an error because infinity doesnt exist in Python core package, it only exist in Python numpy\n",
    "\n",
    "#Therefore to log an error automatically to the code, we will do:\n"
   ]
  },
  {
   "cell_type": "code",
   "execution_count": null,
   "id": "557c7044",
   "metadata": {},
   "outputs": [],
   "source": [
    "def test(a,b):\n",
    "    \n",
    "    try :\n",
    "        lg.info(str(a),str(b))\n",
    "        div = a/b\n",
    "        return div\n",
    "    except Exception as e :\n",
    "        print(\"You can check your log for more info if your code will fail\")\n",
    "        lg.error(\"error has occured\")\n",
    "        lg.exception(str(e))"
   ]
  },
  {
   "cell_type": "code",
   "execution_count": null,
   "id": "e5283b0e",
   "metadata": {},
   "outputs": [],
   "source": [
    "test(4,0)"
   ]
  },
  {
   "cell_type": "code",
   "execution_count": null,
   "id": "90d2ddde",
   "metadata": {},
   "outputs": [],
   "source": [
    "import logging\n",
    "logging.basicConfig(filename= \"C:\\\\Users\\\\Lakshya\\\\DS_Python\\\\logging\\\\test1.log\", level = logging.INFO)\n",
    "def test1(a,b):\n",
    "    logging.info(\"This is a start function\")\n",
    "    return a+b\n"
   ]
  },
  {
   "cell_type": "code",
   "execution_count": null,
   "id": "73296e3f",
   "metadata": {},
   "outputs": [],
   "source": [
    "test(5,6)"
   ]
  },
  {
   "cell_type": "code",
   "execution_count": null,
   "id": "99710d70",
   "metadata": {},
   "outputs": [],
   "source": [
    "logging.shutdown()"
   ]
  },
  {
   "cell_type": "code",
   "execution_count": null,
   "id": "15dddbf2",
   "metadata": {},
   "outputs": [],
   "source": [
    "logging.debug(\"This is for debugging\")\n",
    "logging.info(\"This is info log\")\n",
    "logging.warning(\"This is my warning log\")\n",
    "logging.error(\"This is my error log\")\n",
    "logging.exception(\"This is my exception log\")\n",
    "logging.critical(\"This is my critical log\")\n"
   ]
  },
  {
   "cell_type": "markdown",
   "id": "ada00669",
   "metadata": {},
   "source": [
    "Task:\n",
    "\n",
    "1. Create a logger in your code\n",
    "2. Create one function which can take any number of input as an argument and it will be able to return sum of it\n",
    "3. Capture user input in log\n",
    "4. Give user instruction in log file \n",
    "5. Give a log file from python code and show all login info in a console"
   ]
  },
  {
   "cell_type": "code",
   "execution_count": null,
   "id": "ced98bb8",
   "metadata": {},
   "outputs": [],
   "source": [
    "def my_sum(*args):\n",
    "    total = 0\n",
    "    for val in args:\n",
    "        total += val\n",
    "    return total"
   ]
  },
  {
   "cell_type": "code",
   "execution_count": null,
   "id": "ff9ac87c",
   "metadata": {},
   "outputs": [],
   "source": [
    "my_sum(3,4,6,67,67,67)"
   ]
  },
  {
   "cell_type": "code",
   "execution_count": null,
   "id": "22652865",
   "metadata": {},
   "outputs": [],
   "source": [
    "pwd()"
   ]
  },
  {
   "cell_type": "code",
   "execution_count": null,
   "id": "fec1d1a6",
   "metadata": {},
   "outputs": [],
   "source": [
    "import logging as lg\n",
    "lg.basicConfig(filename= \"C:\\\\Users\\\\Lakshya\\\\DS_Python\\\\logging\\\\test.log\", level = logging.INFO)\n",
    "def my_sum(*args):\n",
    "    total = 0\n",
    "    for val in args:\n",
    "        total += val\n",
    "    return total\n",
    "\n",
    "l = []\n",
    "l.append(int(input(\"Insert the number you want to add: \")))\n",
    "\n",
    "ask = \"yes\"\n",
    "\n",
    "while ask == \"yes\":\n",
    "    ask = input(\"Do you want to add another number: \")\n",
    "    l.append(int(input(\"Insert the number you want to add: \")))\n",
    "else:\n",
    "    answer = my_sum(l)\n",
    "    print(answer)\n"
   ]
  },
  {
   "cell_type": "code",
   "execution_count": null,
   "id": "d833896a",
   "metadata": {},
   "outputs": [],
   "source": [
    "def my_sum(*args):\n",
    "    total = 0\n",
    "    for val in args:\n",
    "        total += val\n",
    "    return total\n",
    "\n",
    "l = []\n",
    "l.append(int(input(\"Insert the number you want to add: \")))\n",
    "\n",
    "ask = \"yes\"\n",
    "\n",
    "while ask == \"yes\":\n",
    "    l.append(int(input(\"Insert the number you want to add: \")))\n",
    "    ask = input(\"Do you want to add another number: \")\n",
    "else:\n",
    "    answer = my_sum(l)\n",
    "    print(answer)"
   ]
  },
  {
   "cell_type": "code",
   "execution_count": null,
   "id": "8f913a2a",
   "metadata": {},
   "outputs": [],
   "source": [
    "my_sum(33,5,5,5)"
   ]
  },
  {
   "cell_type": "code",
   "execution_count": null,
   "id": "e9e4fe4f",
   "metadata": {},
   "outputs": [],
   "source": [
    "import logging as lg\n",
    "import os \n",
    "os.mkdir(\"Tavleen\")\n",
    "os.chdir(os.getcwd() + \"/\" + \"Tavleen\")\n",
    "\n"
   ]
  },
  {
   "cell_type": "code",
   "execution_count": null,
   "id": "a6ca490c",
   "metadata": {},
   "outputs": [],
   "source": [
    "pwd()"
   ]
  },
  {
   "cell_type": "code",
   "execution_count": null,
   "id": "1cde1ffc",
   "metadata": {},
   "outputs": [],
   "source": [
    "lg.basicConfig(filename = \"C:\\\\Users\\\\Lakshya\\\\DS_Python\\\\Tavleen\\\\TV.log\", level = lg.INFO)\n",
    "def addition(*args):\n",
    "    \n",
    "    lg.info(\"This is my addition function\")\n",
    "    sum1 = 0\n",
    "    for i in args:\n",
    "        lg.info(str(i))\n",
    "        sum1 = sum1 + i \n",
    "    return sum1\n",
    "\n",
    "addition(1,2,3,4)\n",
    "f = open(\"C:\\\\Users\\\\Lakshya\\\\DS_Python\\\\Tavleen\\\\TV.log\", \"r\")\n",
    "print (f.read())"
   ]
  },
  {
   "cell_type": "code",
   "execution_count": null,
   "id": "7a850e4e",
   "metadata": {},
   "outputs": [],
   "source": [
    "#Other way"
   ]
  },
  {
   "cell_type": "code",
   "execution_count": 1,
   "id": "5eb959ac",
   "metadata": {},
   "outputs": [
    {
     "name": "stdout",
     "output_type": "stream",
     "text": [
      "INFO:root:Inside sum function\n",
      "INFO:root:User inputs (2, 4, 5, 6, 7, 7, 7)\n",
      "INFO:root:Inside sum function\n",
      "INFO:root:User inputs (2, 4, 5, 6, 7, 7, 7)\n",
      "INFO:root:Inside sum function\n",
      "INFO:root:User inputs (2, 4, 5, 6, 7, 7, 7)\n",
      "INFO:root:Inside sum function\n",
      "INFO:root:User inputs (2, 4, 5, 6, 7, 7, 7)\n",
      "2021-11-15 17:53:42,340 - Inside sum function\n",
      "2021-11-15 17:53:42,340 - User inputs (2, 4, 5, 6, 7, 7, 7)\n",
      "2021-11-21 08:03:43,234 - Inside sum function\n",
      "2021-11-21 08:03:43,234 - User inputs (2, 4, 5, 6, 7, 7, 7)\n",
      "\n"
     ]
    }
   ],
   "source": [
    "import logging as lg\n",
    "import os\n",
    "lg.basicConfig(filename = \"C:\\\\Users\\\\Lakshya\\\\DS_Python\\\\Tavleen\\\\Penny.log\", level = lg.INFO, format= '%(asctime)s - %(message)s')\n",
    "\n",
    "def log_sum(*args):\n",
    "    lg.info(\"Inside sum function\")\n",
    "    lg.info(\"User inputs \" + str(args))\n",
    "    return sum(args)\n",
    "\n",
    "log_sum(2,4,5,6,7,7,7)\n",
    "\n",
    "#print log file data\n",
    "if(os.path.exists(\"C:\\\\Users\\\\Lakshya\\\\DS_Python\\\\Tavleen\\\\Penny.log\")):\n",
    "    f = open(\"C:\\\\Users\\\\Lakshya\\\\DS_Python\\\\Tavleen\\\\Penny.log\", \"r\")\n",
    "    print(f.read())"
   ]
  },
  {
   "cell_type": "code",
   "execution_count": null,
   "id": "21ae0387",
   "metadata": {},
   "outputs": [],
   "source": [
    "#Other way"
   ]
  },
  {
   "cell_type": "code",
   "execution_count": null,
   "id": "935702ec",
   "metadata": {},
   "outputs": [],
   "source": [
    "import logging as lg\n",
    "lg.basicConfig(filename = \"C:\\\\Users\\\\Lakshya\\\\DS_Python\\\\Tavleen\\\\Penn.log\", level = lg.INFO, format= '%(asctime)s - %(message)s')\n",
    "def summing():\n",
    "    lg.info(\"This is start of my program\")\n",
    "    s = list(map(int, input().split()))\n",
    "    lg.info(\"User has entered: \" + str(s))\n",
    "    lg.warning(\"Check log before making corrections\")\n",
    "    return sum(s)\n",
    "\n",
    "summing()"
   ]
  },
  {
   "cell_type": "code",
   "execution_count": 5,
   "id": "cfbc0b65",
   "metadata": {},
   "outputs": [
    {
     "name": "stderr",
     "output_type": "stream",
     "text": [
      "root - 2021-11-15 23:02:35,661 - INFO - main log\n",
      "root - 2021-11-15 23:02:35,661 - INFO - main log\n",
      "user1 - 2021-11-15 23:02:35,663 - INFO - This info for logger 1\n",
      "user1 - 2021-11-15 23:02:35,663 - INFO - This info for logger 1\n",
      "user2 - 2021-11-15 23:02:35,665 - INFO - This is info for logger 2\n",
      "user2 - 2021-11-15 23:02:35,665 - INFO - This is info for logger 2\n"
     ]
    }
   ],
   "source": [
    "import logging as lg\n",
    "lg.basicConfig(filename = \"C:\\\\Users\\\\Lakshya\\\\DS_Python\\\\Tavleen\\\\Console.log\", level = lg.INFO, format= ' %(name)s - %(asctime)s - %(levelname)s - %(message)s')\n",
    "\n",
    "#Create handlers\n",
    "console_log = lg.StreamHandler()\n",
    "console_log.setLevel(lg.DEBUG)\n",
    "format = lg.Formatter('%(name)s - %(asctime)s - %(levelname)s - %(message)s')\n",
    "console_log.setFormatter(format)\n",
    "\n",
    "#Create a custom logger\n",
    "lg.getLogger('').addHandler(console_log)\n",
    "lg.info('main log')\n",
    "logger1 = lg.getLogger(\"user1\")\n",
    "logger2 = lg.getLogger(\"user2\")\n",
    "logger3 = lg.getLogger(\"user3\")\n",
    "logger4 = lg.getLogger(\"user4\")\n",
    "logger1.info(\"This info for logger 1\")\n",
    "logger2.debug(\"This is a debug for logger 2\")\n",
    "logger2.info(\"This is info for logger 2\")\n",
    "\n"
   ]
  },
  {
   "cell_type": "code",
   "execution_count": null,
   "id": "8f52337b",
   "metadata": {},
   "outputs": [],
   "source": [
    "console_log = lg.StreamHandler()\n",
    "console_log.setLevel(lg.INFO)"
   ]
  },
  {
   "cell_type": "code",
   "execution_count": null,
   "id": "93b1c601",
   "metadata": {},
   "outputs": [],
   "source": [
    "format= '%(asctime)s %(levelname)s %(message)s'"
   ]
  },
  {
   "cell_type": "code",
   "execution_count": null,
   "id": "ab096f12",
   "metadata": {},
   "outputs": [],
   "source": [
    "console_log.setFormatter(format)"
   ]
  },
  {
   "cell_type": "code",
   "execution_count": null,
   "id": "3f548acc",
   "metadata": {},
   "outputs": [],
   "source": [
    "#To add different kinds of handlers"
   ]
  },
  {
   "cell_type": "code",
   "execution_count": null,
   "id": "19bb6c1c",
   "metadata": {},
   "outputs": [],
   "source": [
    "lg.getLogger('').addHandler(console_log)"
   ]
  },
  {
   "cell_type": "code",
   "execution_count": null,
   "id": "dd651756",
   "metadata": {},
   "outputs": [],
   "source": [
    "lg.info(\"This is my first test code for log\")"
   ]
  },
  {
   "cell_type": "code",
   "execution_count": null,
   "id": "d1d62c0d",
   "metadata": {},
   "outputs": [],
   "source": [
    "logger1 = lg.getLogger(\"user1\")\n",
    "logger2 = lg.getLogger(\"user2\")\n",
    "logger3 = lg.getLogger(\"user3\")\n",
    "logger4 = lg.getLogger(\"user4\")"
   ]
  },
  {
   "cell_type": "code",
   "execution_count": null,
   "id": "0a64c151",
   "metadata": {},
   "outputs": [],
   "source": [
    "logger1.info(\"This info for logger 1\")\n",
    "logger2.debug(\"This is a debug for logger 2\")\n",
    "logger2.info(\"This is info for logger 2\")"
   ]
  },
  {
   "cell_type": "code",
   "execution_count": 6,
   "id": "d803f67b",
   "metadata": {},
   "outputs": [
    {
     "ename": "ModuleNotFoundError",
     "evalue": "No module named 'ipdb'",
     "output_type": "error",
     "traceback": [
      "\u001b[1;31m---------------------------------------------------------------------------\u001b[0m",
      "\u001b[1;31mModuleNotFoundError\u001b[0m                       Traceback (most recent call last)",
      "\u001b[1;32m<ipython-input-6-5aecdc9391ac>\u001b[0m in \u001b[0;36m<module>\u001b[1;34m\u001b[0m\n\u001b[1;32m----> 1\u001b[1;33m \u001b[1;32mimport\u001b[0m \u001b[0mipdb\u001b[0m\u001b[1;33m\u001b[0m\u001b[1;33m\u001b[0m\u001b[0m\n\u001b[0m",
      "\u001b[1;31mModuleNotFoundError\u001b[0m: No module named 'ipdb'"
     ]
    }
   ],
   "source": [
    "import ipdb"
   ]
  },
  {
   "cell_type": "markdown",
   "id": "d528e6d6",
   "metadata": {},
   "source": [
    "Command line(Console based) debugger"
   ]
  },
  {
   "cell_type": "code",
   "execution_count": 7,
   "id": "09867272",
   "metadata": {},
   "outputs": [
    {
     "name": "stdout",
     "output_type": "stream",
     "text": [
      "Collecting ipdb\n",
      "  Downloading ipdb-0.13.9.tar.gz (16 kB)\n",
      "Requirement already satisfied: setuptools in c:\\users\\lakshya\\anaconda3\\lib\\site-packages (from ipdb) (52.0.0.post20210125)\n",
      "Requirement already satisfied: ipython>=7.17.0 in c:\\users\\lakshya\\anaconda3\\lib\\site-packages (from ipdb) (7.22.0)\n",
      "Requirement already satisfied: toml>=0.10.2 in c:\\users\\lakshya\\anaconda3\\lib\\site-packages (from ipdb) (0.10.2)\n",
      "Requirement already satisfied: decorator in c:\\users\\lakshya\\anaconda3\\lib\\site-packages (from ipdb) (5.0.6)\n",
      "Requirement already satisfied: pygments in c:\\users\\lakshya\\anaconda3\\lib\\site-packages (from ipython>=7.17.0->ipdb) (2.8.1)\n",
      "Requirement already satisfied: colorama in c:\\users\\lakshya\\anaconda3\\lib\\site-packages (from ipython>=7.17.0->ipdb) (0.4.4)\n",
      "Requirement already satisfied: prompt-toolkit!=3.0.0,!=3.0.1,<3.1.0,>=2.0.0 in c:\\users\\lakshya\\anaconda3\\lib\\site-packages (from ipython>=7.17.0->ipdb) (3.0.17)\n",
      "Requirement already satisfied: backcall in c:\\users\\lakshya\\anaconda3\\lib\\site-packages (from ipython>=7.17.0->ipdb) (0.2.0)\n",
      "Requirement already satisfied: jedi>=0.16 in c:\\users\\lakshya\\anaconda3\\lib\\site-packages (from ipython>=7.17.0->ipdb) (0.17.2)\n",
      "Requirement already satisfied: pickleshare in c:\\users\\lakshya\\anaconda3\\lib\\site-packages (from ipython>=7.17.0->ipdb) (0.7.5)\n",
      "Requirement already satisfied: traitlets>=4.2 in c:\\users\\lakshya\\anaconda3\\lib\\site-packages (from ipython>=7.17.0->ipdb) (5.0.5)\n",
      "Requirement already satisfied: parso<0.8.0,>=0.7.0 in c:\\users\\lakshya\\anaconda3\\lib\\site-packages (from jedi>=0.16->ipython>=7.17.0->ipdb) (0.7.0)\n",
      "Requirement already satisfied: wcwidth in c:\\users\\lakshya\\anaconda3\\lib\\site-packages (from prompt-toolkit!=3.0.0,!=3.0.1,<3.1.0,>=2.0.0->ipython>=7.17.0->ipdb) (0.2.5)\n",
      "Requirement already satisfied: ipython-genutils in c:\\users\\lakshya\\anaconda3\\lib\\site-packages (from traitlets>=4.2->ipython>=7.17.0->ipdb) (0.2.0)\n",
      "Building wheels for collected packages: ipdb\n",
      "  Building wheel for ipdb (setup.py): started\n",
      "  Building wheel for ipdb (setup.py): finished with status 'done'\n",
      "  Created wheel for ipdb: filename=ipdb-0.13.9-py3-none-any.whl size=11619 sha256=b7708a140ed6f3e0bc75e3dad171025f5bb73c4a10679c6cbd3bdd7e501b7634\n",
      "  Stored in directory: c:\\users\\lakshya\\appdata\\local\\pip\\cache\\wheels\\d8\\51\\8c\\3dceedacfd0f743f3736b3840d08b6746b6259deea98207ba4\n",
      "Successfully built ipdb\n",
      "Installing collected packages: ipdb\n",
      "Successfully installed ipdb-0.13.9\n"
     ]
    }
   ],
   "source": [
    "!pip install ipdb"
   ]
  },
  {
   "cell_type": "code",
   "execution_count": 2,
   "id": "474536c4",
   "metadata": {},
   "outputs": [],
   "source": [
    "import ipdb"
   ]
  },
  {
   "cell_type": "code",
   "execution_count": 3,
   "id": "b1f39b8f",
   "metadata": {},
   "outputs": [],
   "source": [
    "def testdebug():\n",
    "    ipdb.set_trace()\n",
    "    l = []\n",
    "    for i in range(10):\n",
    "        l.append(i)\n",
    "        print(\"This is a test function for debug\")\n",
    "    return l"
   ]
  },
  {
   "cell_type": "code",
   "execution_count": null,
   "id": "b22815db",
   "metadata": {},
   "outputs": [
    {
     "name": "stdout",
     "output_type": "stream",
     "text": [
      "> \u001b[1;32m<ipython-input-10-77f259aecf6c>\u001b[0m(3)\u001b[0;36mtestdebug\u001b[1;34m()\u001b[0m\n",
      "\u001b[1;32m      2 \u001b[1;33m    \u001b[0mipdb\u001b[0m\u001b[1;33m.\u001b[0m\u001b[0mset_trace\u001b[0m\u001b[1;33m(\u001b[0m\u001b[1;33m)\u001b[0m\u001b[1;33m\u001b[0m\u001b[1;33m\u001b[0m\u001b[0m\n",
      "\u001b[0m\u001b[1;32m----> 3 \u001b[1;33m    \u001b[0ml\u001b[0m \u001b[1;33m=\u001b[0m \u001b[1;33m[\u001b[0m\u001b[1;33m]\u001b[0m\u001b[1;33m\u001b[0m\u001b[1;33m\u001b[0m\u001b[0m\n",
      "\u001b[0m\u001b[1;32m      4 \u001b[1;33m    \u001b[1;32mfor\u001b[0m \u001b[0mi\u001b[0m \u001b[1;32min\u001b[0m \u001b[0mrange\u001b[0m\u001b[1;33m(\u001b[0m\u001b[1;36m10\u001b[0m\u001b[1;33m)\u001b[0m\u001b[1;33m:\u001b[0m\u001b[1;33m\u001b[0m\u001b[1;33m\u001b[0m\u001b[0m\n",
      "\u001b[0m\n",
      "ipdb> h\n",
      "\n",
      "Documented commands (type help <topic>):\n",
      "========================================\n",
      "EOF    cl         debug    ignore    n       pp       run          unalias  \n",
      "a      clear      disable  interact  next    psource  rv           undisplay\n",
      "alias  commands   display  j         p       q        s            unt      \n",
      "args   condition  down     jump      pdef    quit     skip_hidden  until    \n",
      "b      cont       enable   l         pdoc    r        source       up       \n",
      "break  context    exit     list      pfile   restart  step         w        \n",
      "bt     continue   h        ll        pinfo   return   tbreak       whatis   \n",
      "c      d          help     longlist  pinfo2  retval   u            where    \n",
      "\n",
      "Miscellaneous help topics:\n",
      "==========================\n",
      "exec  pdb\n",
      "\n",
      "ipdb> h\n",
      "\n",
      "Documented commands (type help <topic>):\n",
      "========================================\n",
      "EOF    cl         debug    ignore    n       pp       run          unalias  \n",
      "a      clear      disable  interact  next    psource  rv           undisplay\n",
      "alias  commands   display  j         p       q        s            unt      \n",
      "args   condition  down     jump      pdef    quit     skip_hidden  until    \n",
      "b      cont       enable   l         pdoc    r        source       up       \n",
      "break  context    exit     list      pfile   restart  step         w        \n",
      "bt     continue   h        ll        pinfo   return   tbreak       whatis   \n",
      "c      d          help     longlist  pinfo2  retval   u            where    \n",
      "\n",
      "Miscellaneous help topics:\n",
      "==========================\n",
      "exec  pdb\n",
      "\n",
      "ipdb> next\n",
      "> \u001b[1;32m<ipython-input-10-77f259aecf6c>\u001b[0m(4)\u001b[0;36mtestdebug\u001b[1;34m()\u001b[0m\n",
      "\u001b[1;32m      3 \u001b[1;33m    \u001b[0ml\u001b[0m \u001b[1;33m=\u001b[0m \u001b[1;33m[\u001b[0m\u001b[1;33m]\u001b[0m\u001b[1;33m\u001b[0m\u001b[1;33m\u001b[0m\u001b[0m\n",
      "\u001b[0m\u001b[1;32m----> 4 \u001b[1;33m    \u001b[1;32mfor\u001b[0m \u001b[0mi\u001b[0m \u001b[1;32min\u001b[0m \u001b[0mrange\u001b[0m\u001b[1;33m(\u001b[0m\u001b[1;36m10\u001b[0m\u001b[1;33m)\u001b[0m\u001b[1;33m:\u001b[0m\u001b[1;33m\u001b[0m\u001b[1;33m\u001b[0m\u001b[0m\n",
      "\u001b[0m\u001b[1;32m      5 \u001b[1;33m        \u001b[0ml\u001b[0m\u001b[1;33m.\u001b[0m\u001b[0mappend\u001b[0m\u001b[1;33m(\u001b[0m\u001b[0mi\u001b[0m\u001b[1;33m)\u001b[0m\u001b[1;33m\u001b[0m\u001b[1;33m\u001b[0m\u001b[0m\n",
      "\u001b[0m\n",
      "ipdb> next\n",
      "> \u001b[1;32m<ipython-input-10-77f259aecf6c>\u001b[0m(5)\u001b[0;36mtestdebug\u001b[1;34m()\u001b[0m\n",
      "\u001b[1;32m      4 \u001b[1;33m    \u001b[1;32mfor\u001b[0m \u001b[0mi\u001b[0m \u001b[1;32min\u001b[0m \u001b[0mrange\u001b[0m\u001b[1;33m(\u001b[0m\u001b[1;36m10\u001b[0m\u001b[1;33m)\u001b[0m\u001b[1;33m:\u001b[0m\u001b[1;33m\u001b[0m\u001b[1;33m\u001b[0m\u001b[0m\n",
      "\u001b[0m\u001b[1;32m----> 5 \u001b[1;33m        \u001b[0ml\u001b[0m\u001b[1;33m.\u001b[0m\u001b[0mappend\u001b[0m\u001b[1;33m(\u001b[0m\u001b[0mi\u001b[0m\u001b[1;33m)\u001b[0m\u001b[1;33m\u001b[0m\u001b[1;33m\u001b[0m\u001b[0m\n",
      "\u001b[0m\u001b[1;32m      6 \u001b[1;33m        \u001b[0mprint\u001b[0m\u001b[1;33m(\u001b[0m\u001b[1;34m\"This is a test function for debug\"\u001b[0m\u001b[1;33m)\u001b[0m\u001b[1;33m\u001b[0m\u001b[1;33m\u001b[0m\u001b[0m\n",
      "\u001b[0m\n",
      "ipdb> next\n",
      "> \u001b[1;32m<ipython-input-10-77f259aecf6c>\u001b[0m(6)\u001b[0;36mtestdebug\u001b[1;34m()\u001b[0m\n",
      "\u001b[1;32m      5 \u001b[1;33m        \u001b[0ml\u001b[0m\u001b[1;33m.\u001b[0m\u001b[0mappend\u001b[0m\u001b[1;33m(\u001b[0m\u001b[0mi\u001b[0m\u001b[1;33m)\u001b[0m\u001b[1;33m\u001b[0m\u001b[1;33m\u001b[0m\u001b[0m\n",
      "\u001b[0m\u001b[1;32m----> 6 \u001b[1;33m        \u001b[0mprint\u001b[0m\u001b[1;33m(\u001b[0m\u001b[1;34m\"This is a test function for debug\"\u001b[0m\u001b[1;33m)\u001b[0m\u001b[1;33m\u001b[0m\u001b[1;33m\u001b[0m\u001b[0m\n",
      "\u001b[0m\u001b[1;32m      7 \u001b[1;33m    \u001b[1;32mreturn\u001b[0m \u001b[0ml\u001b[0m\u001b[1;33m\u001b[0m\u001b[1;33m\u001b[0m\u001b[0m\n",
      "\u001b[0m\n",
      "ipdb> next\n",
      "This is a test function for debug\n",
      "> \u001b[1;32m<ipython-input-10-77f259aecf6c>\u001b[0m(4)\u001b[0;36mtestdebug\u001b[1;34m()\u001b[0m\n",
      "\u001b[1;32m      3 \u001b[1;33m    \u001b[0ml\u001b[0m \u001b[1;33m=\u001b[0m \u001b[1;33m[\u001b[0m\u001b[1;33m]\u001b[0m\u001b[1;33m\u001b[0m\u001b[1;33m\u001b[0m\u001b[0m\n",
      "\u001b[0m\u001b[1;32m----> 4 \u001b[1;33m    \u001b[1;32mfor\u001b[0m \u001b[0mi\u001b[0m \u001b[1;32min\u001b[0m \u001b[0mrange\u001b[0m\u001b[1;33m(\u001b[0m\u001b[1;36m10\u001b[0m\u001b[1;33m)\u001b[0m\u001b[1;33m:\u001b[0m\u001b[1;33m\u001b[0m\u001b[1;33m\u001b[0m\u001b[0m\n",
      "\u001b[0m\u001b[1;32m      5 \u001b[1;33m        \u001b[0ml\u001b[0m\u001b[1;33m.\u001b[0m\u001b[0mappend\u001b[0m\u001b[1;33m(\u001b[0m\u001b[0mi\u001b[0m\u001b[1;33m)\u001b[0m\u001b[1;33m\u001b[0m\u001b[1;33m\u001b[0m\u001b[0m\n",
      "\u001b[0m\n",
      "ipdb> next\n",
      "> \u001b[1;32m<ipython-input-10-77f259aecf6c>\u001b[0m(5)\u001b[0;36mtestdebug\u001b[1;34m()\u001b[0m\n",
      "\u001b[1;32m      4 \u001b[1;33m    \u001b[1;32mfor\u001b[0m \u001b[0mi\u001b[0m \u001b[1;32min\u001b[0m \u001b[0mrange\u001b[0m\u001b[1;33m(\u001b[0m\u001b[1;36m10\u001b[0m\u001b[1;33m)\u001b[0m\u001b[1;33m:\u001b[0m\u001b[1;33m\u001b[0m\u001b[1;33m\u001b[0m\u001b[0m\n",
      "\u001b[0m\u001b[1;32m----> 5 \u001b[1;33m        \u001b[0ml\u001b[0m\u001b[1;33m.\u001b[0m\u001b[0mappend\u001b[0m\u001b[1;33m(\u001b[0m\u001b[0mi\u001b[0m\u001b[1;33m)\u001b[0m\u001b[1;33m\u001b[0m\u001b[1;33m\u001b[0m\u001b[0m\n",
      "\u001b[0m\u001b[1;32m      6 \u001b[1;33m        \u001b[0mprint\u001b[0m\u001b[1;33m(\u001b[0m\u001b[1;34m\"This is a test function for debug\"\u001b[0m\u001b[1;33m)\u001b[0m\u001b[1;33m\u001b[0m\u001b[1;33m\u001b[0m\u001b[0m\n",
      "\u001b[0m\n",
      "ipdb> next\n",
      "> \u001b[1;32m<ipython-input-10-77f259aecf6c>\u001b[0m(6)\u001b[0;36mtestdebug\u001b[1;34m()\u001b[0m\n",
      "\u001b[1;32m      5 \u001b[1;33m        \u001b[0ml\u001b[0m\u001b[1;33m.\u001b[0m\u001b[0mappend\u001b[0m\u001b[1;33m(\u001b[0m\u001b[0mi\u001b[0m\u001b[1;33m)\u001b[0m\u001b[1;33m\u001b[0m\u001b[1;33m\u001b[0m\u001b[0m\n",
      "\u001b[0m\u001b[1;32m----> 6 \u001b[1;33m        \u001b[0mprint\u001b[0m\u001b[1;33m(\u001b[0m\u001b[1;34m\"This is a test function for debug\"\u001b[0m\u001b[1;33m)\u001b[0m\u001b[1;33m\u001b[0m\u001b[1;33m\u001b[0m\u001b[0m\n",
      "\u001b[0m\u001b[1;32m      7 \u001b[1;33m    \u001b[1;32mreturn\u001b[0m \u001b[0ml\u001b[0m\u001b[1;33m\u001b[0m\u001b[1;33m\u001b[0m\u001b[0m\n",
      "\u001b[0m\n",
      "ipdb> next\n",
      "This is a test function for debug\n",
      "> \u001b[1;32m<ipython-input-10-77f259aecf6c>\u001b[0m(4)\u001b[0;36mtestdebug\u001b[1;34m()\u001b[0m\n",
      "\u001b[1;32m      3 \u001b[1;33m    \u001b[0ml\u001b[0m \u001b[1;33m=\u001b[0m \u001b[1;33m[\u001b[0m\u001b[1;33m]\u001b[0m\u001b[1;33m\u001b[0m\u001b[1;33m\u001b[0m\u001b[0m\n",
      "\u001b[0m\u001b[1;32m----> 4 \u001b[1;33m    \u001b[1;32mfor\u001b[0m \u001b[0mi\u001b[0m \u001b[1;32min\u001b[0m \u001b[0mrange\u001b[0m\u001b[1;33m(\u001b[0m\u001b[1;36m10\u001b[0m\u001b[1;33m)\u001b[0m\u001b[1;33m:\u001b[0m\u001b[1;33m\u001b[0m\u001b[1;33m\u001b[0m\u001b[0m\n",
      "\u001b[0m\u001b[1;32m      5 \u001b[1;33m        \u001b[0ml\u001b[0m\u001b[1;33m.\u001b[0m\u001b[0mappend\u001b[0m\u001b[1;33m(\u001b[0m\u001b[0mi\u001b[0m\u001b[1;33m)\u001b[0m\u001b[1;33m\u001b[0m\u001b[1;33m\u001b[0m\u001b[0m\n",
      "\u001b[0m\n",
      "ipdb> i\n",
      "1\n",
      "ipdb> next\n",
      "> \u001b[1;32m<ipython-input-10-77f259aecf6c>\u001b[0m(5)\u001b[0;36mtestdebug\u001b[1;34m()\u001b[0m\n",
      "\u001b[1;32m      4 \u001b[1;33m    \u001b[1;32mfor\u001b[0m \u001b[0mi\u001b[0m \u001b[1;32min\u001b[0m \u001b[0mrange\u001b[0m\u001b[1;33m(\u001b[0m\u001b[1;36m10\u001b[0m\u001b[1;33m)\u001b[0m\u001b[1;33m:\u001b[0m\u001b[1;33m\u001b[0m\u001b[1;33m\u001b[0m\u001b[0m\n",
      "\u001b[0m\u001b[1;32m----> 5 \u001b[1;33m        \u001b[0ml\u001b[0m\u001b[1;33m.\u001b[0m\u001b[0mappend\u001b[0m\u001b[1;33m(\u001b[0m\u001b[0mi\u001b[0m\u001b[1;33m)\u001b[0m\u001b[1;33m\u001b[0m\u001b[1;33m\u001b[0m\u001b[0m\n",
      "\u001b[0m\u001b[1;32m      6 \u001b[1;33m        \u001b[0mprint\u001b[0m\u001b[1;33m(\u001b[0m\u001b[1;34m\"This is a test function for debug\"\u001b[0m\u001b[1;33m)\u001b[0m\u001b[1;33m\u001b[0m\u001b[1;33m\u001b[0m\u001b[0m\n",
      "\u001b[0m\n",
      "ipdb> next\n",
      "> \u001b[1;32m<ipython-input-10-77f259aecf6c>\u001b[0m(6)\u001b[0;36mtestdebug\u001b[1;34m()\u001b[0m\n",
      "\u001b[1;32m      5 \u001b[1;33m        \u001b[0ml\u001b[0m\u001b[1;33m.\u001b[0m\u001b[0mappend\u001b[0m\u001b[1;33m(\u001b[0m\u001b[0mi\u001b[0m\u001b[1;33m)\u001b[0m\u001b[1;33m\u001b[0m\u001b[1;33m\u001b[0m\u001b[0m\n",
      "\u001b[0m\u001b[1;32m----> 6 \u001b[1;33m        \u001b[0mprint\u001b[0m\u001b[1;33m(\u001b[0m\u001b[1;34m\"This is a test function for debug\"\u001b[0m\u001b[1;33m)\u001b[0m\u001b[1;33m\u001b[0m\u001b[1;33m\u001b[0m\u001b[0m\n",
      "\u001b[0m\u001b[1;32m      7 \u001b[1;33m    \u001b[1;32mreturn\u001b[0m \u001b[0ml\u001b[0m\u001b[1;33m\u001b[0m\u001b[1;33m\u001b[0m\u001b[0m\n",
      "\u001b[0m\n",
      "ipdb> next\n",
      "This is a test function for debug\n",
      "> \u001b[1;32m<ipython-input-10-77f259aecf6c>\u001b[0m(4)\u001b[0;36mtestdebug\u001b[1;34m()\u001b[0m\n",
      "\u001b[1;32m      3 \u001b[1;33m    \u001b[0ml\u001b[0m \u001b[1;33m=\u001b[0m \u001b[1;33m[\u001b[0m\u001b[1;33m]\u001b[0m\u001b[1;33m\u001b[0m\u001b[1;33m\u001b[0m\u001b[0m\n",
      "\u001b[0m\u001b[1;32m----> 4 \u001b[1;33m    \u001b[1;32mfor\u001b[0m \u001b[0mi\u001b[0m \u001b[1;32min\u001b[0m \u001b[0mrange\u001b[0m\u001b[1;33m(\u001b[0m\u001b[1;36m10\u001b[0m\u001b[1;33m)\u001b[0m\u001b[1;33m:\u001b[0m\u001b[1;33m\u001b[0m\u001b[1;33m\u001b[0m\u001b[0m\n",
      "\u001b[0m\u001b[1;32m      5 \u001b[1;33m        \u001b[0ml\u001b[0m\u001b[1;33m.\u001b[0m\u001b[0mappend\u001b[0m\u001b[1;33m(\u001b[0m\u001b[0mi\u001b[0m\u001b[1;33m)\u001b[0m\u001b[1;33m\u001b[0m\u001b[1;33m\u001b[0m\u001b[0m\n",
      "\u001b[0m\n",
      "ipdb> next\n",
      "> \u001b[1;32m<ipython-input-10-77f259aecf6c>\u001b[0m(5)\u001b[0;36mtestdebug\u001b[1;34m()\u001b[0m\n",
      "\u001b[1;32m      4 \u001b[1;33m    \u001b[1;32mfor\u001b[0m \u001b[0mi\u001b[0m \u001b[1;32min\u001b[0m \u001b[0mrange\u001b[0m\u001b[1;33m(\u001b[0m\u001b[1;36m10\u001b[0m\u001b[1;33m)\u001b[0m\u001b[1;33m:\u001b[0m\u001b[1;33m\u001b[0m\u001b[1;33m\u001b[0m\u001b[0m\n",
      "\u001b[0m\u001b[1;32m----> 5 \u001b[1;33m        \u001b[0ml\u001b[0m\u001b[1;33m.\u001b[0m\u001b[0mappend\u001b[0m\u001b[1;33m(\u001b[0m\u001b[0mi\u001b[0m\u001b[1;33m)\u001b[0m\u001b[1;33m\u001b[0m\u001b[1;33m\u001b[0m\u001b[0m\n",
      "\u001b[0m\u001b[1;32m      6 \u001b[1;33m        \u001b[0mprint\u001b[0m\u001b[1;33m(\u001b[0m\u001b[1;34m\"This is a test function for debug\"\u001b[0m\u001b[1;33m)\u001b[0m\u001b[1;33m\u001b[0m\u001b[1;33m\u001b[0m\u001b[0m\n",
      "\u001b[0m\n",
      "ipdb> next\n",
      "> \u001b[1;32m<ipython-input-10-77f259aecf6c>\u001b[0m(6)\u001b[0;36mtestdebug\u001b[1;34m()\u001b[0m\n",
      "\u001b[1;32m      5 \u001b[1;33m        \u001b[0ml\u001b[0m\u001b[1;33m.\u001b[0m\u001b[0mappend\u001b[0m\u001b[1;33m(\u001b[0m\u001b[0mi\u001b[0m\u001b[1;33m)\u001b[0m\u001b[1;33m\u001b[0m\u001b[1;33m\u001b[0m\u001b[0m\n",
      "\u001b[0m\u001b[1;32m----> 6 \u001b[1;33m        \u001b[0mprint\u001b[0m\u001b[1;33m(\u001b[0m\u001b[1;34m\"This is a test function for debug\"\u001b[0m\u001b[1;33m)\u001b[0m\u001b[1;33m\u001b[0m\u001b[1;33m\u001b[0m\u001b[0m\n",
      "\u001b[0m\u001b[1;32m      7 \u001b[1;33m    \u001b[1;32mreturn\u001b[0m \u001b[0ml\u001b[0m\u001b[1;33m\u001b[0m\u001b[1;33m\u001b[0m\u001b[0m\n",
      "\u001b[0m\n",
      "ipdb> next\n",
      "This is a test function for debug\n",
      "> \u001b[1;32m<ipython-input-10-77f259aecf6c>\u001b[0m(4)\u001b[0;36mtestdebug\u001b[1;34m()\u001b[0m\n",
      "\u001b[1;32m      3 \u001b[1;33m    \u001b[0ml\u001b[0m \u001b[1;33m=\u001b[0m \u001b[1;33m[\u001b[0m\u001b[1;33m]\u001b[0m\u001b[1;33m\u001b[0m\u001b[1;33m\u001b[0m\u001b[0m\n",
      "\u001b[0m\u001b[1;32m----> 4 \u001b[1;33m    \u001b[1;32mfor\u001b[0m \u001b[0mi\u001b[0m \u001b[1;32min\u001b[0m \u001b[0mrange\u001b[0m\u001b[1;33m(\u001b[0m\u001b[1;36m10\u001b[0m\u001b[1;33m)\u001b[0m\u001b[1;33m:\u001b[0m\u001b[1;33m\u001b[0m\u001b[1;33m\u001b[0m\u001b[0m\n",
      "\u001b[0m\u001b[1;32m      5 \u001b[1;33m        \u001b[0ml\u001b[0m\u001b[1;33m.\u001b[0m\u001b[0mappend\u001b[0m\u001b[1;33m(\u001b[0m\u001b[0mi\u001b[0m\u001b[1;33m)\u001b[0m\u001b[1;33m\u001b[0m\u001b[1;33m\u001b[0m\u001b[0m\n",
      "\u001b[0m\n"
     ]
    },
    {
     "name": "stdout",
     "output_type": "stream",
     "text": [
      "ipdb> i\n",
      "3\n"
     ]
    }
   ],
   "source": [
    "testdebug()"
   ]
  },
  {
   "cell_type": "code",
   "execution_count": null,
   "id": "2176a258",
   "metadata": {},
   "outputs": [
    {
     "name": "stdout",
     "output_type": "stream",
     "text": [
      "> \u001b[1;32m<ipython-input-3-77f259aecf6c>\u001b[0m(3)\u001b[0;36mtestdebug\u001b[1;34m()\u001b[0m\n",
      "\u001b[1;32m      2 \u001b[1;33m    \u001b[0mipdb\u001b[0m\u001b[1;33m.\u001b[0m\u001b[0mset_trace\u001b[0m\u001b[1;33m(\u001b[0m\u001b[1;33m)\u001b[0m\u001b[1;33m\u001b[0m\u001b[1;33m\u001b[0m\u001b[0m\n",
      "\u001b[0m\u001b[1;32m----> 3 \u001b[1;33m    \u001b[0ml\u001b[0m \u001b[1;33m=\u001b[0m \u001b[1;33m[\u001b[0m\u001b[1;33m]\u001b[0m\u001b[1;33m\u001b[0m\u001b[1;33m\u001b[0m\u001b[0m\n",
      "\u001b[0m\u001b[1;32m      4 \u001b[1;33m    \u001b[1;32mfor\u001b[0m \u001b[0mi\u001b[0m \u001b[1;32min\u001b[0m \u001b[0mrange\u001b[0m\u001b[1;33m(\u001b[0m\u001b[1;36m10\u001b[0m\u001b[1;33m)\u001b[0m\u001b[1;33m:\u001b[0m\u001b[1;33m\u001b[0m\u001b[1;33m\u001b[0m\u001b[0m\n",
      "\u001b[0m\n",
      "ipdb> help jump\n",
      "j(ump) lineno\n",
      "        Set the next line that will be executed.  Only available in\n",
      "        the bottom-most frame.  This lets you jump back and execute\n",
      "        code again, or jump forward to skip code that you don't want\n",
      "        to run.\n",
      "\n",
      "        It should be noted that not all jumps are allowed -- for\n",
      "        instance it is not possible to jump into the middle of a\n",
      "        for loop or out of a finally clause.\n",
      "ipdb> help d\n",
      "d(own) [count]\n",
      "        Move the current frame count (default one) levels down in the\n",
      "        stack trace (to a newer frame).\n",
      "\n",
      "        Will skip hidden frames.\n",
      "ipdb> d\n",
      "*** Newest frame\n",
      "ipdb> d\n",
      "*** Newest frame\n",
      "ipdb> d\n",
      "*** Newest frame\n",
      "ipdb> d\n",
      "*** Newest frame\n",
      "ipdb> d\n",
      "*** Newest frame\n",
      "ipdb> d\n",
      "*** Newest frame\n",
      "ipdb> d\n",
      "*** Newest frame\n",
      "ipdb> d\n",
      "*** Newest frame\n",
      "ipdb> up\n",
      "> \u001b[1;32m<ipython-input-4-102f76f7444a>\u001b[0m(1)\u001b[0;36m<module>\u001b[1;34m()\u001b[0m\n",
      "\u001b[1;32m----> 1 \u001b[1;33m\u001b[0mtestdebug\u001b[0m\u001b[1;33m(\u001b[0m\u001b[1;33m)\u001b[0m\u001b[1;33m\u001b[0m\u001b[1;33m\u001b[0m\u001b[0m\n",
      "\u001b[0m\n",
      "ipdb> next\n",
      "This is a test function for debug\n",
      "This is a test function for debug\n",
      "This is a test function for debug\n",
      "This is a test function for debug\n",
      "This is a test function for debug\n",
      "This is a test function for debug\n",
      "This is a test function for debug\n",
      "This is a test function for debug\n",
      "This is a test function for debug\n",
      "This is a test function for debug\n"
     ]
    },
    {
     "data": {
      "text/plain": [
       "[0, 1, 2, 3, 4, 5, 6, 7, 8, 9]"
      ]
     },
     "execution_count": 4,
     "metadata": {},
     "output_type": "execute_result"
    },
    {
     "name": "stdout",
     "output_type": "stream",
     "text": [
      "--Return--\n",
      "None\n",
      "> \u001b[1;32m<ipython-input-4-102f76f7444a>\u001b[0m(1)\u001b[0;36m<module>\u001b[1;34m()\u001b[0m\n",
      "\u001b[1;32m----> 1 \u001b[1;33m\u001b[0mtestdebug\u001b[0m\u001b[1;33m(\u001b[0m\u001b[1;33m)\u001b[0m\u001b[1;33m\u001b[0m\u001b[1;33m\u001b[0m\u001b[0m\n",
      "\u001b[0m\n",
      "ipdb> next\n",
      "\u001b[1;31m    [... skipped 1 hidden frame]\u001b[0m\n",
      "\n",
      "\u001b[1;31m    [... skipped 1 hidden frame]\u001b[0m\n",
      "\n",
      "\u001b[1;31m    [... skipped 1 hidden frame]\u001b[0m\n",
      "\n",
      "\u001b[1;31m    [... skipped 1 hidden frame]\u001b[0m\n",
      "\n",
      "> \u001b[1;32mc:\\users\\lakshya\\anaconda3\\lib\\site-packages\\ipython\\core\\interactiveshell.py\u001b[0m(3349)\u001b[0;36mrun_ast_nodes\u001b[1;34m()\u001b[0m\n",
      "\u001b[1;32m   3348 \u001b[1;33m\u001b[1;33m\u001b[0m\u001b[0m\n",
      "\u001b[0m\u001b[1;32m-> 3349 \u001b[1;33m                \u001b[1;32mfor\u001b[0m \u001b[0mnode\u001b[0m\u001b[1;33m,\u001b[0m\u001b[0mmode\u001b[0m \u001b[1;32min\u001b[0m \u001b[0mto_run\u001b[0m\u001b[1;33m:\u001b[0m\u001b[1;33m\u001b[0m\u001b[1;33m\u001b[0m\u001b[0m\n",
      "\u001b[0m\u001b[1;32m   3350 \u001b[1;33m                    \u001b[1;32mif\u001b[0m \u001b[0mmode\u001b[0m \u001b[1;33m==\u001b[0m \u001b[1;34m'exec'\u001b[0m\u001b[1;33m:\u001b[0m\u001b[1;33m\u001b[0m\u001b[1;33m\u001b[0m\u001b[0m\n",
      "\u001b[0m\n",
      "ipdb> next\n",
      "> \u001b[1;32mc:\\users\\lakshya\\anaconda3\\lib\\site-packages\\ipython\\core\\interactiveshell.py\u001b[0m(3361)\u001b[0;36mrun_ast_nodes\u001b[1;34m()\u001b[0m\n",
      "\u001b[1;32m   3360 \u001b[1;33m            \u001b[1;31m# Flush softspace\u001b[0m\u001b[1;33m\u001b[0m\u001b[1;33m\u001b[0m\u001b[1;33m\u001b[0m\u001b[0m\n",
      "\u001b[0m\u001b[1;32m-> 3361 \u001b[1;33m            \u001b[1;32mif\u001b[0m \u001b[0msoftspace\u001b[0m\u001b[1;33m(\u001b[0m\u001b[0msys\u001b[0m\u001b[1;33m.\u001b[0m\u001b[0mstdout\u001b[0m\u001b[1;33m,\u001b[0m \u001b[1;36m0\u001b[0m\u001b[1;33m)\u001b[0m\u001b[1;33m:\u001b[0m\u001b[1;33m\u001b[0m\u001b[1;33m\u001b[0m\u001b[0m\n",
      "\u001b[0m\u001b[1;32m   3362 \u001b[1;33m                \u001b[0mprint\u001b[0m\u001b[1;33m(\u001b[0m\u001b[1;33m)\u001b[0m\u001b[1;33m\u001b[0m\u001b[1;33m\u001b[0m\u001b[0m\n",
      "\u001b[0m\n"
     ]
    }
   ],
   "source": [
    "testdebug()"
   ]
  },
  {
   "cell_type": "markdown",
   "id": "ca91798b",
   "metadata": {},
   "source": [
    "Visual debugger: Not that great for Jupyter notebook"
   ]
  },
  {
   "cell_type": "code",
   "execution_count": null,
   "id": "28d03435",
   "metadata": {},
   "outputs": [],
   "source": [
    "Challenge:\n",
    " "
   ]
  }
 ],
 "metadata": {
  "kernelspec": {
   "display_name": "Python 3",
   "language": "python",
   "name": "python3"
  },
  "language_info": {
   "codemirror_mode": {
    "name": "ipython",
    "version": 3
   },
   "file_extension": ".py",
   "mimetype": "text/x-python",
   "name": "python",
   "nbconvert_exporter": "python",
   "pygments_lexer": "ipython3",
   "version": "3.8.8"
  }
 },
 "nbformat": 4,
 "nbformat_minor": 5
}
