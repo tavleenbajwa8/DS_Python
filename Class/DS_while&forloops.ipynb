{
 "cells": [
  {
   "cell_type": "code",
   "execution_count": 1,
   "id": "39dae0cf",
   "metadata": {},
   "outputs": [
    {
     "name": "stdout",
     "output_type": "stream",
     "text": [
      "This is a valid statement\n"
     ]
    }
   ],
   "source": [
    "#and condition\n",
    "a = 10\n",
    "b = 20\n",
    "if a == 10 and b == 20:\n",
    "    print(\"This is a valid statement\")\n",
    "    \n",
    "\"\"\"In case of \"and\" operator, both the conditions should be true inorder to get inside the body of \"if\" statement \n",
    "to print the statement\"\"\""
   ]
  },
  {
   "cell_type": "code",
   "execution_count": 3,
   "id": "0a941768",
   "metadata": {},
   "outputs": [
    {
     "data": {
      "text/plain": [
       "True"
      ]
     },
     "execution_count": 3,
     "metadata": {},
     "output_type": "execute_result"
    }
   ],
   "source": [
    "a == 10 and b == 20"
   ]
  },
  {
   "cell_type": "code",
   "execution_count": 4,
   "id": "968e8fe5",
   "metadata": {},
   "outputs": [],
   "source": [
    "a = 10\n",
    "b = 20\n",
    "if a == 10 and b > 20:\n",
    "    print(\"This is a valid statement\")"
   ]
  },
  {
   "cell_type": "code",
   "execution_count": 5,
   "id": "57e1568b",
   "metadata": {},
   "outputs": [
    {
     "data": {
      "text/plain": [
       "False"
      ]
     },
     "execution_count": 5,
     "metadata": {},
     "output_type": "execute_result"
    }
   ],
   "source": [
    "a == 10 and b > 20"
   ]
  },
  {
   "cell_type": "markdown",
   "id": "1a6bcf3d",
   "metadata": {},
   "source": [
    "a = 10\n",
    "b = 20\n",
    "if a == 10 and b > 20:\n",
    "    print(\"This is a valid statement\")\n",
    "else:\n",
    "    print(\"Invalid condition\")"
   ]
  },
  {
   "cell_type": "code",
   "execution_count": 12,
   "id": "e2966b2b",
   "metadata": {},
   "outputs": [
    {
     "name": "stdout",
     "output_type": "stream",
     "text": [
      "This condition is valid inside elif\n"
     ]
    }
   ],
   "source": [
    "a = 10\n",
    "b = 20\n",
    "if a == 10 and b > 20:\n",
    "    print(\"This is a valid statement\")\n",
    "elif a == 10 and b <= 20:\n",
    "    print(\"This condition is valid inside elif\")\n",
    "else:\n",
    "    print(\"Invalid condition\")"
   ]
  },
  {
   "cell_type": "code",
   "execution_count": 13,
   "id": "f6d6fd74",
   "metadata": {},
   "outputs": [
    {
     "name": "stdout",
     "output_type": "stream",
     "text": [
      "This is a valid statement\n"
     ]
    }
   ],
   "source": [
    "#or condition\n",
    "a = 10\n",
    "b = 20\n",
    "if a == 10 or b > 20:\n",
    "    print(\"This is a valid statement\")\n",
    "elif a == 10 and b <= 20:\n",
    "    print(\"This condition is valid inside elif\")\n",
    "else:\n",
    "    print(\"Invalid condition\")\n",
    "    \n",
    "\"\"\"in this case only one condition has to be true inorder to get inside the body of if statement\"\"\"\n"
   ]
  },
  {
   "cell_type": "markdown",
   "id": "2c7617ed",
   "metadata": {},
   "source": [
    "task:\n",
    "    \n",
    "take an input from your keyboard as your first name and last name and then try to validate and write multiple condition by yourself"
   ]
  },
  {
   "cell_type": "code",
   "execution_count": 18,
   "id": "c15738fd",
   "metadata": {},
   "outputs": [
    {
     "name": "stdout",
     "output_type": "stream",
     "text": [
      "Write number a: 45\n",
      "Write number b: 96\n",
      "Heavy bases\n"
     ]
    }
   ],
   "source": [
    "a = int(input(\"Write number a: \"))\n",
    "b = int(input(\"Write number b: \"))\n",
    "\n",
    "if a < 10 and b < 20:\n",
    "    print(\"Light bases\")\n",
    "elif a <= 20 or b < 30:\n",
    "    print(\"Moderately heavy\")\n",
    "elif a < 50 and b < 100:\n",
    "    print (\"Heavy bases\")\n",
    "else:\n",
    "    print(\"Heavy heavy bases\")"
   ]
  },
  {
   "cell_type": "code",
   "execution_count": 2,
   "id": "4b9472c0",
   "metadata": {},
   "outputs": [
    {
     "name": "stdout",
     "output_type": "stream",
     "text": [
      "speed\n",
      "speed\n",
      "speed\n",
      "speed\n",
      "speed\n",
      "speed\n",
      "speed\n",
      "speed\n",
      "speed\n",
      "speed\n"
     ]
    }
   ],
   "source": [
    "#whileloop\n",
    "initial_speed = 0\n",
    "final_speed = 100\n",
    "count = 0\n",
    "while initial_speed < final_speed:\n",
    "    print(\"speed\")\n",
    "    count = count + 1\n",
    "    if count == 10:\n",
    "        break"
   ]
  },
  {
   "cell_type": "code",
   "execution_count": 3,
   "id": "44ef871d",
   "metadata": {},
   "outputs": [
    {
     "name": "stdout",
     "output_type": "stream",
     "text": [
      "1\n",
      "2\n",
      "3\n",
      "4\n"
     ]
    }
   ],
   "source": [
    "i = 1\n",
    "j = 5\n",
    "while i < j:\n",
    "    print(i)\n",
    "    i = i + 1\n",
    "    "
   ]
  },
  {
   "cell_type": "code",
   "execution_count": 4,
   "id": "efb593da",
   "metadata": {},
   "outputs": [
    {
     "name": "stdout",
     "output_type": "stream",
     "text": [
      "1\n",
      "2\n",
      "3\n",
      "4\n",
      "No 10 rs notes are available\n"
     ]
    }
   ],
   "source": [
    "notes = 5\n",
    "i = 1\n",
    "while i < notes:\n",
    "    print(i)\n",
    "    i += 1 \n",
    "else:\n",
    "    print(\"No 10 rs notes are available\")\n",
    "#i += 1 is same as i = i+1\n"
   ]
  },
  {
   "cell_type": "code",
   "execution_count": 5,
   "id": "ddab2a62",
   "metadata": {},
   "outputs": [
    {
     "name": "stdout",
     "output_type": "stream",
     "text": [
      "1\n",
      "2\n",
      "3\n",
      "4\n"
     ]
    }
   ],
   "source": [
    "notes = 5\n",
    "i = 1\n",
    "while i < notes:\n",
    "    print(i)\n",
    "    i += 1 \n",
    "else:\n",
    "    while i < 2:\n",
    "        print(i)\n",
    "        i = i + 1\n",
    "        print(\"No 10 rs notes are available\")"
   ]
  },
  {
   "cell_type": "code",
   "execution_count": 6,
   "id": "ccac3ff5",
   "metadata": {},
   "outputs": [
    {
     "name": "stdout",
     "output_type": "stream",
     "text": [
      "1\n",
      "2\n",
      "3\n",
      "4\n",
      "1\n",
      "No 10 rs notes are available\n"
     ]
    }
   ],
   "source": [
    "notes = 5\n",
    "i = 1\n",
    "j = 1\n",
    "while i < notes:\n",
    "    print(i)\n",
    "    i += 1 \n",
    "else:\n",
    "    while j < 2:\n",
    "        print(j)\n",
    "        j = j + 1\n",
    "        print(\"No 10 rs notes are available\")"
   ]
  },
  {
   "cell_type": "code",
   "execution_count": 1,
   "id": "b1da71f7",
   "metadata": {},
   "outputs": [],
   "source": [
    "s = \"Penny\""
   ]
  },
  {
   "cell_type": "code",
   "execution_count": 2,
   "id": "d7841f3c",
   "metadata": {},
   "outputs": [
    {
     "data": {
      "text/plain": [
       "'e'"
      ]
     },
     "execution_count": 2,
     "metadata": {},
     "output_type": "execute_result"
    }
   ],
   "source": [
    "#Indexing to extract data (Eg: Extract e in Penny)\n",
    "s[1]"
   ]
  },
  {
   "cell_type": "code",
   "execution_count": 3,
   "id": "47402e2d",
   "metadata": {},
   "outputs": [
    {
     "data": {
      "text/plain": [
       "'n'"
      ]
     },
     "execution_count": 3,
     "metadata": {},
     "output_type": "execute_result"
    }
   ],
   "source": [
    "s[3]"
   ]
  },
  {
   "cell_type": "markdown",
   "id": "94610fec",
   "metadata": {},
   "source": [
    "#The count starts from 0 to 1, 2, 3 and so on. The space also occupies indices(1 space equals 1 index)"
   ]
  },
  {
   "cell_type": "code",
   "execution_count": 4,
   "id": "cd522883",
   "metadata": {},
   "outputs": [
    {
     "data": {
      "text/plain": [
       "'My name is Penny'"
      ]
     },
     "execution_count": 4,
     "metadata": {},
     "output_type": "execute_result"
    }
   ],
   "source": [
    "s = \"My name is Penny\"\n",
    "s"
   ]
  },
  {
   "cell_type": "code",
   "execution_count": 10,
   "id": "5bb518a6",
   "metadata": {},
   "outputs": [
    {
     "data": {
      "text/plain": [
       "'name is'"
      ]
     },
     "execution_count": 10,
     "metadata": {},
     "output_type": "execute_result"
    }
   ],
   "source": [
    "#To extract data from n of name to s of is\n",
    "s[3]\n",
    "s[3:10]\n",
    "#[starting point:end point] \n"
   ]
  },
  {
   "cell_type": "code",
   "execution_count": 9,
   "id": "4a1e8fb8",
   "metadata": {},
   "outputs": [
    {
     "data": {
      "text/plain": [
       "'name is '"
      ]
     },
     "execution_count": 9,
     "metadata": {},
     "output_type": "execute_result"
    }
   ],
   "source": [
    "#[starting point:end point+1] it excludes the end point data, therefore we have to provide an extra index\n",
    "s[3:11]"
   ]
  },
  {
   "cell_type": "code",
   "execution_count": 11,
   "id": "260bdea1",
   "metadata": {},
   "outputs": [
    {
     "data": {
      "text/plain": [
       "'name is '"
      ]
     },
     "execution_count": 11,
     "metadata": {},
     "output_type": "execute_result"
    }
   ],
   "source": [
    "#including the 3rd value, which means the \"Step size\", by default step size = 1\n",
    "#If step size \n",
    "s[3:11:1]"
   ]
  },
  {
   "cell_type": "code",
   "execution_count": 12,
   "id": "134a2326",
   "metadata": {},
   "outputs": [
    {
     "data": {
      "text/plain": [
       "'nm s'"
      ]
     },
     "execution_count": 12,
     "metadata": {},
     "output_type": "execute_result"
    }
   ],
   "source": [
    "s[3:11:2]\n",
    "#3rd index, 3+2=5th index, 5+2=7th index..so on\n"
   ]
  },
  {
   "cell_type": "code",
   "execution_count": 13,
   "id": "3ce10aee",
   "metadata": {},
   "outputs": [
    {
     "data": {
      "text/plain": [
       "''"
      ]
     },
     "execution_count": 13,
     "metadata": {},
     "output_type": "execute_result"
    }
   ],
   "source": [
    "#Reversal operation indexing\n",
    "s[10:3]"
   ]
  },
  {
   "cell_type": "code",
   "execution_count": 14,
   "id": "1af2bbca",
   "metadata": {},
   "outputs": [
    {
     "data": {
      "text/plain": [
       "' si eman'"
      ]
     },
     "execution_count": 14,
     "metadata": {},
     "output_type": "execute_result"
    }
   ],
   "source": [
    "s[10:2:-1]"
   ]
  },
  {
   "cell_type": "code",
   "execution_count": 15,
   "id": "62796f6d",
   "metadata": {},
   "outputs": [
    {
     "data": {
      "text/plain": [
       "' iea'"
      ]
     },
     "execution_count": 15,
     "metadata": {},
     "output_type": "execute_result"
    }
   ],
   "source": [
    "s[10:2:-2]"
   ]
  },
  {
   "cell_type": "code",
   "execution_count": 16,
   "id": "626655d7",
   "metadata": {},
   "outputs": [
    {
     "data": {
      "text/plain": [
       "'ynneP si eman yM'"
      ]
     },
     "execution_count": 16,
     "metadata": {},
     "output_type": "execute_result"
    }
   ],
   "source": [
    "#Reversal of complete string\n",
    "s[::-1]"
   ]
  },
  {
   "cell_type": "code",
   "execution_count": 17,
   "id": "84d515ca",
   "metadata": {},
   "outputs": [
    {
     "data": {
      "text/plain": [
       "' name is'"
      ]
     },
     "execution_count": 17,
     "metadata": {},
     "output_type": "execute_result"
    }
   ],
   "source": [
    "s[2:-6]"
   ]
  },
  {
   "cell_type": "code",
   "execution_count": 5,
   "id": "cd9b0fa7",
   "metadata": {},
   "outputs": [
    {
     "name": "stdout",
     "output_type": "stream",
     "text": [
      "['y', 'y', 'y', 'y', 'y']\n"
     ]
    }
   ],
   "source": [
    "l = []\n",
    "s = \"Penny\"\n",
    "for i in s:\n",
    "    l.append(s[-1])\n",
    "print(l)"
   ]
  },
  {
   "cell_type": "code",
   "execution_count": 18,
   "id": "c0c91962",
   "metadata": {},
   "outputs": [
    {
     "data": {
      "text/plain": [
       "'y'"
      ]
     },
     "execution_count": 18,
     "metadata": {},
     "output_type": "execute_result"
    }
   ],
   "source": [
    "#In forward direction indices will be 0,1,2,3 so on and in reverse direction indices will start from -1,-2,-3,-4 so on\n",
    "s = \"Penny\"\n",
    "s[-1]"
   ]
  },
  {
   "cell_type": "code",
   "execution_count": 19,
   "id": "b2dcb745",
   "metadata": {},
   "outputs": [
    {
     "data": {
      "text/plain": [
       "'n'"
      ]
     },
     "execution_count": 19,
     "metadata": {},
     "output_type": "execute_result"
    }
   ],
   "source": [
    "s[-2]"
   ]
  },
  {
   "cell_type": "code",
   "execution_count": 20,
   "id": "e6a296cc",
   "metadata": {},
   "outputs": [
    {
     "data": {
      "text/plain": [
       "'P'"
      ]
     },
     "execution_count": 20,
     "metadata": {},
     "output_type": "execute_result"
    }
   ],
   "source": [
    "s[-5]"
   ]
  },
  {
   "cell_type": "code",
   "execution_count": 1,
   "id": "2c5ba377",
   "metadata": {},
   "outputs": [
    {
     "name": "stdout",
     "output_type": "stream",
     "text": [
      "M\n",
      "y\n",
      " \n",
      "n\n",
      "a\n",
      "m\n",
      "e\n",
      " \n",
      "i\n",
      "s\n",
      " \n",
      "P\n",
      "e\n",
      "n\n",
      "n\n",
      "y\n"
     ]
    }
   ],
   "source": [
    "s = \"My name is Penny\"\n",
    "for i in s:\n",
    "    print(i)\n",
    "    \n",
    "# i is the local variable\n",
    "#While loop keeps on doing some sort of task and do not stop until the condition is met\n",
    "#for loop will keep on iterating through the dataset until its not going to exhaust it, can write variety of tasks For "
   ]
  },
  {
   "cell_type": "code",
   "execution_count": 5,
   "id": "f139214e",
   "metadata": {},
   "outputs": [
    {
     "name": "stdout",
     "output_type": "stream",
     "text": [
      "M\n",
      "y\n",
      " \n",
      "n\n",
      "a\n",
      "m\n",
      "I got e as a string\n",
      "e\n",
      " \n",
      "i\n",
      "s\n",
      " \n",
      "P\n",
      "I got e as a string\n",
      "e\n",
      "n\n",
      "n\n",
      "y\n"
     ]
    }
   ],
   "source": [
    "s = \"My name is Penny\"\n",
    "for i in s:\n",
    "    if i == \"e\":\n",
    "        print(\"I got e as a string\")\n",
    "    print(i)\n",
    "    "
   ]
  },
  {
   "cell_type": "code",
   "execution_count": 6,
   "id": "ddb4a0f1",
   "metadata": {},
   "outputs": [
    {
     "data": {
      "text/plain": [
       "'My name is Penny'"
      ]
     },
     "execution_count": 6,
     "metadata": {},
     "output_type": "execute_result"
    }
   ],
   "source": [
    "s"
   ]
  },
  {
   "cell_type": "code",
   "execution_count": 7,
   "id": "35ab197e",
   "metadata": {
    "collapsed": true
   },
   "outputs": [
    {
     "name": "stdout",
     "output_type": "stream",
     "text": [
      "M\n",
      "y\n",
      " \n",
      "n\n",
      "a\n",
      "m\n",
      "e\n",
      " \n",
      "i\n",
      "s\n",
      " \n",
      "P\n",
      "e\n",
      "n\n",
      "n\n",
      "y\n",
      "This is a else condition\n"
     ]
    }
   ],
   "source": [
    "for i in s:\n",
    "    print(i)\n",
    "else:\n",
    "    print(\"This is a else condition\")"
   ]
  },
  {
   "cell_type": "code",
   "execution_count": 8,
   "id": "8216c51c",
   "metadata": {},
   "outputs": [
    {
     "name": "stdout",
     "output_type": "stream",
     "text": [
      "M\n",
      "y\n",
      " \n",
      "n\n",
      "a\n",
      "m\n",
      "e\n",
      " \n",
      "i\n",
      "s\n",
      " \n",
      "P\n",
      "e\n",
      "n\n",
      "n\n",
      "y\n",
      "Last character was y\n",
      "This is a else condition\n"
     ]
    }
   ],
   "source": [
    "for i in s:\n",
    "    print(i)\n",
    "else:\n",
    "    if i == \"y\":\n",
    "        print(\"Last character was y\")\n",
    "    print(\"This is a else condition\")"
   ]
  },
  {
   "cell_type": "code",
   "execution_count": 10,
   "id": "7d333623",
   "metadata": {},
   "outputs": [
    {
     "name": "stdout",
     "output_type": "stream",
     "text": [
      "M\n",
      "y\n",
      " \n"
     ]
    }
   ],
   "source": [
    "for i in s:\n",
    "    if i == \"n\":\n",
    "        break\n",
    "    print(i)\n",
    "      \n",
    "else:\n",
    "    if i == \"y\":\n",
    "        print(\"Last character was y\")\n",
    "    print(\"This is a else condition\")"
   ]
  },
  {
   "cell_type": "code",
   "execution_count": 13,
   "id": "597a30f8",
   "metadata": {},
   "outputs": [
    {
     "name": "stdout",
     "output_type": "stream",
     "text": [
      "M\n",
      "y\n",
      " \n",
      "a\n",
      "m\n",
      "e\n",
      " \n",
      "i\n",
      "s\n",
      " \n",
      "P\n",
      "e\n",
      "y\n",
      "Last character was y\n",
      "This is a else condition\n"
     ]
    }
   ],
   "source": [
    "for i in s:\n",
    "    if i == \"n\":\n",
    "        continue\n",
    "    print(i)\n",
    "      \n",
    "else:\n",
    "    if i == \"y\":\n",
    "        print(\"Last character was y\")\n",
    "    print(\"This is a else condition\")\n",
    "    \n",
    "\"\"\"continue means whatever you have written after\n",
    "continue statement (in the continue statement body will get executed, \n",
    "here after continue nothing is there therefore it will skip \"n\", \n",
    "the print(i) statement is out of the body)\"\"\""
   ]
  },
  {
   "cell_type": "code",
   "execution_count": 9,
   "id": "5abcce0b",
   "metadata": {},
   "outputs": [],
   "source": [
    "s = \"ineuron\"\n",
    "ss = \"\"\n",
    "for i in range(len(s)):\n",
    "    if s[i] == \"n\":\n",
    "        continue\n",
    "    else:\n",
    "        ss = ss + s[i]"
   ]
  },
  {
   "cell_type": "code",
   "execution_count": 10,
   "id": "689211bf",
   "metadata": {},
   "outputs": [
    {
     "data": {
      "text/plain": [
       "'ieuro'"
      ]
     },
     "execution_count": 10,
     "metadata": {},
     "output_type": "execute_result"
    }
   ],
   "source": [
    "ss"
   ]
  },
  {
   "cell_type": "code",
   "execution_count": 3,
   "id": "3f49ffbb",
   "metadata": {},
   "outputs": [
    {
     "data": {
      "text/plain": [
       "7"
      ]
     },
     "execution_count": 3,
     "metadata": {},
     "output_type": "execute_result"
    }
   ],
   "source": [
    "#len() tells the length of total data\n",
    "len(s)"
   ]
  },
  {
   "cell_type": "code",
   "execution_count": 11,
   "id": "4d53abe5",
   "metadata": {},
   "outputs": [],
   "source": [
    "#range(7) = [0,1,2,3,4,5,6]"
   ]
  },
  {
   "cell_type": "code",
   "execution_count": 12,
   "id": "6064f8a8",
   "metadata": {},
   "outputs": [
    {
     "name": "stdout",
     "output_type": "stream",
     "text": [
      "+ \r\n",
      "+ + \r\n",
      "+ + + \r\n",
      "+ + + + \r\n",
      "+ + + + + \r\n",
      "+ + + + + + \r\n",
      "+ + + + + + + \r\n"
     ]
    }
   ],
   "source": [
    "#nested for loop\n",
    "n = 7\n",
    "for i in range(0, n):\n",
    "    for j in range(0, i +1):\n",
    "        print(\"+ \", end = \"\")\n",
    "    print(\"\\r\")"
   ]
  },
  {
   "cell_type": "code",
   "execution_count": 20,
   "id": "fe3bbf13",
   "metadata": {},
   "outputs": [
    {
     "name": "stdout",
     "output_type": "stream",
     "text": [
      "*************\r\n",
      " ***********\r\n",
      "  *********\r\n",
      "   *******\r\n",
      "    *****\r\n",
      "     ***\r\n",
      "      *\r\n"
     ]
    }
   ],
   "source": [
    "n = 7\n",
    "for i in range(n,0,-1):\n",
    "    for j in range(n-i):\n",
    "        print(\" \", end = \"\")\n",
    "        \n",
    "    for j in range(2*i-1):\n",
    "        print(\"*\", end = \"\")\n",
    "    print(\"\\r\")"
   ]
  },
  {
   "cell_type": "code",
   "execution_count": 1,
   "id": "942db293",
   "metadata": {},
   "outputs": [
    {
     "name": "stdout",
     "output_type": "stream",
     "text": [
      "        * \n",
      "       * * \n",
      "      * * * \n",
      "     * * * * \n",
      "    * * * * * \n",
      "   * * * * * * \n",
      "  * * * * * * * \n",
      " * * * * * * * * \n",
      "* * * * * * * * * \n"
     ]
    }
   ],
   "source": [
    "n = 9\n",
    "i = 0\n",
    "while i < n:\n",
    "    print(\" \"*(n-i-1) + \"* \"*(i+1))\n",
    "    i += 1\n",
    "\n",
    "\n"
   ]
  },
  {
   "cell_type": "code",
   "execution_count": 2,
   "id": "8807ae33",
   "metadata": {},
   "outputs": [
    {
     "name": "stdout",
     "output_type": "stream",
     "text": [
      "4\n",
      "5\n",
      "6\n",
      "7\n"
     ]
    }
   ],
   "source": [
    "#range function: Generates a data in between a range from the start point till the end point but excluding the end point\n",
    "#Example:\n",
    "for i in range(4, 8, 1):\n",
    "    print(i) \n"
   ]
  },
  {
   "cell_type": "code",
   "execution_count": 5,
   "id": "42343bb4",
   "metadata": {},
   "outputs": [
    {
     "name": "stdout",
     "output_type": "stream",
     "text": [
      "8\n",
      "7\n",
      "6\n",
      "5\n"
     ]
    }
   ],
   "source": [
    "for i in range(8,4, -1):\n",
    "    print(i) "
   ]
  },
  {
   "cell_type": "code",
   "execution_count": 13,
   "id": "83e90739",
   "metadata": {},
   "outputs": [
    {
     "name": "stdout",
     "output_type": "stream",
     "text": [
      "P\n",
      "e\n",
      "n\n",
      "n\n",
      "y\n",
      "\n",
      "Penny\n",
      "  P  e  n  n  y  \n",
      "***P***e***n***n***y***"
     ]
    }
   ],
   "source": [
    "#end function is used to print things on same line in continuity, \n",
    "#Example:\n",
    "\n",
    "#Different lines\n",
    "string = \"Penny\"\n",
    "for i in string:\n",
    "    print(i)\n",
    "    \n",
    "\n",
    "#Same line\n",
    "#the character in the end function insert it within the characters\n",
    "\n",
    "string = \"\\nPenny\"\n",
    "for i in string:\n",
    "    print(i, end = \"\")\n",
    "    \n",
    "string = \"\\nPenny\"\n",
    "for i in string:\n",
    "    print(i, end = \"  \")\n",
    "    \n",
    "string = \"\\nPenny\"\n",
    "for i in string:\n",
    "    print(i, end = \"***\")"
   ]
  },
  {
   "cell_type": "code",
   "execution_count": null,
   "id": "6fed2389",
   "metadata": {},
   "outputs": [],
   "source": []
  }
 ],
 "metadata": {
  "kernelspec": {
   "display_name": "Python 3",
   "language": "python",
   "name": "python3"
  },
  "language_info": {
   "codemirror_mode": {
    "name": "ipython",
    "version": 3
   },
   "file_extension": ".py",
   "mimetype": "text/x-python",
   "name": "python",
   "nbconvert_exporter": "python",
   "pygments_lexer": "ipython3",
   "version": "3.8.8"
  }
 },
 "nbformat": 4,
 "nbformat_minor": 5
}
