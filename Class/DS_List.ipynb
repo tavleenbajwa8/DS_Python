{
 "cells": [
  {
   "cell_type": "code",
   "execution_count": null,
   "id": "b914ef4e",
   "metadata": {},
   "outputs": [],
   "source": [
    "\"\"\"No such datatype as array is present in Python, alternative of array is a \n",
    "list datatype which can hold homogenous and heterogenous datatype for me\"\"\"\n",
    "l = list()"
   ]
  },
  {
   "cell_type": "code",
   "execution_count": 1,
   "id": "4b30383e",
   "metadata": {},
   "outputs": [],
   "source": [
    "#Two ways of storing data using multiple variables\n",
    "name = \"Penn\"\n",
    "phno = 123434536\n",
    "addr = \"Cosmos\"\n",
    "\n",
    "name, phno, addr = \"Penn\", 123434536, \"Cosmos\"\n"
   ]
  },
  {
   "cell_type": "code",
   "execution_count": 10,
   "id": "002472cf",
   "metadata": {},
   "outputs": [
    {
     "data": {
      "text/plain": [
       "['Penn', 123434536, 'Cosmos', True, (45+8j), [3, 4, 'Hello']]"
      ]
     },
     "execution_count": 10,
     "metadata": {},
     "output_type": "execute_result"
    }
   ],
   "source": [
    "#Now if we want to hold our data in a \"single variable\", we will opt for a \"list\" datastructure\n",
    "#to hold heterogenous data like bool value, string, int, complex number, list inside a list(everything is allowed)\n",
    "\n",
    "l = [\"Penn\", 123434536, \"Cosmos\", True, 45+8j, [3, 4, \"Hello\"]]\n",
    "l"
   ]
  },
  {
   "cell_type": "code",
   "execution_count": 11,
   "id": "7f1e64c6",
   "metadata": {},
   "outputs": [
    {
     "name": "stdout",
     "output_type": "stream",
     "text": [
      "<class 'str'>\n",
      "<class 'int'>\n",
      "<class 'str'>\n",
      "<class 'bool'>\n",
      "<class 'complex'>\n",
      "<class 'list'>\n"
     ]
    }
   ],
   "source": [
    "for i in l:\n",
    "    print(type(i))"
   ]
  },
  {
   "cell_type": "code",
   "execution_count": 24,
   "id": "8f1ce8a0",
   "metadata": {},
   "outputs": [
    {
     "name": "stdout",
     "output_type": "stream",
     "text": [
      "7\n"
     ]
    }
   ],
   "source": [
    "#Data Parsing: Data parsing is the process of taking data in one format and transforming it to another format\n",
    "\n",
    "for i in l:\n",
    "    if type(i) == list:\n",
    "        n = 0\n",
    "        for j in i:\n",
    "            if type(j) == int:\n",
    "                n = n + j\n",
    "        print(n)\n",
    "                \n",
    "        "
   ]
  },
  {
   "cell_type": "markdown",
   "id": "24217346",
   "metadata": {},
   "source": [
    "Whatever we can do in String, Range, List approximately same in the traversal of data (Indexing operations)\n",
    "\n",
    "Traversing a Data Structure means to visit the element stored in it. This can be done with any type of DS"
   ]
  },
  {
   "cell_type": "code",
   "execution_count": 26,
   "id": "0777c068",
   "metadata": {},
   "outputs": [
    {
     "data": {
      "text/plain": [
       "['Penn', 123434536, 'Cosmos', True, (45+8j)]"
      ]
     },
     "execution_count": 26,
     "metadata": {},
     "output_type": "execute_result"
    }
   ],
   "source": [
    "#Slicing function in list\n",
    "l[0:5]"
   ]
  },
  {
   "cell_type": "code",
   "execution_count": 29,
   "id": "fb8febe8",
   "metadata": {},
   "outputs": [
    {
     "data": {
      "text/plain": [
       "[]"
      ]
     },
     "execution_count": 29,
     "metadata": {},
     "output_type": "execute_result"
    }
   ],
   "source": [
    "l\n",
    "l[8:3:1]"
   ]
  },
  {
   "cell_type": "code",
   "execution_count": 31,
   "id": "f8fe4759",
   "metadata": {},
   "outputs": [
    {
     "data": {
      "text/plain": [
       "[[3, 4, 'Hello'], (45+8j)]"
      ]
     },
     "execution_count": 31,
     "metadata": {},
     "output_type": "execute_result"
    }
   ],
   "source": [
    "l[8:3:-1]"
   ]
  },
  {
   "cell_type": "code",
   "execution_count": 3,
   "id": "e73bb83f",
   "metadata": {},
   "outputs": [
    {
     "data": {
      "text/plain": [
       "'Penn'"
      ]
     },
     "execution_count": 3,
     "metadata": {},
     "output_type": "execute_result"
    }
   ],
   "source": [
    "#List indexing will also start from 0 to so on..\n",
    "\n",
    "l[0]"
   ]
  },
  {
   "cell_type": "code",
   "execution_count": 4,
   "id": "10daaea2",
   "metadata": {},
   "outputs": [
    {
     "data": {
      "text/plain": [
       "123434536"
      ]
     },
     "execution_count": 4,
     "metadata": {},
     "output_type": "execute_result"
    }
   ],
   "source": [
    "l[1]"
   ]
  },
  {
   "cell_type": "code",
   "execution_count": 5,
   "id": "81dc80ba",
   "metadata": {},
   "outputs": [
    {
     "data": {
      "text/plain": [
       "'Cosmos'"
      ]
     },
     "execution_count": 5,
     "metadata": {},
     "output_type": "execute_result"
    }
   ],
   "source": [
    "l[2]"
   ]
  },
  {
   "cell_type": "code",
   "execution_count": 6,
   "id": "38dc1bd6",
   "metadata": {},
   "outputs": [
    {
     "data": {
      "text/plain": [
       "list"
      ]
     },
     "execution_count": 6,
     "metadata": {},
     "output_type": "execute_result"
    }
   ],
   "source": [
    "type(l)"
   ]
  },
  {
   "cell_type": "code",
   "execution_count": 7,
   "id": "e83b7bbc",
   "metadata": {},
   "outputs": [
    {
     "data": {
      "text/plain": [
       "[]"
      ]
     },
     "execution_count": 7,
     "metadata": {},
     "output_type": "execute_result"
    }
   ],
   "source": [
    "#Square brackets mainly correspond to a list \n",
    "#Blank list\n",
    "l1 = []\n",
    "l1"
   ]
  },
  {
   "cell_type": "code",
   "execution_count": 8,
   "id": "4bb6f5b8",
   "metadata": {},
   "outputs": [
    {
     "data": {
      "text/plain": [
       "list"
      ]
     },
     "execution_count": 8,
     "metadata": {},
     "output_type": "execute_result"
    }
   ],
   "source": [
    "type(l1)"
   ]
  },
  {
   "cell_type": "code",
   "execution_count": 9,
   "id": "fed8de0e",
   "metadata": {},
   "outputs": [
    {
     "data": {
      "text/plain": [
       "[]"
      ]
     },
     "execution_count": 9,
     "metadata": {},
     "output_type": "execute_result"
    }
   ],
   "source": [
    "l2 = list()\n",
    "l2"
   ]
  },
  {
   "cell_type": "code",
   "execution_count": 37,
   "id": "d26786f4",
   "metadata": {},
   "outputs": [
    {
     "name": "stdout",
     "output_type": "stream",
     "text": [
      "4\n",
      "5\n",
      "6\n",
      "7\n",
      "8\n",
      "9\n"
     ]
    }
   ],
   "source": [
    "for i in range(4,10):\n",
    "    print(i)\n",
    "    "
   ]
  },
  {
   "cell_type": "code",
   "execution_count": 36,
   "id": "6fab3751",
   "metadata": {},
   "outputs": [
    {
     "data": {
      "text/plain": [
       "[0, 1, 2, 3, 4, 5, 6, 7, 8, 9]"
      ]
     },
     "execution_count": 36,
     "metadata": {},
     "output_type": "execute_result"
    }
   ],
   "source": [
    "#Similarly if we want to extract data in the form of list, then we can do it in the following way:\n",
    "\n",
    "list(range(10))"
   ]
  },
  {
   "cell_type": "code",
   "execution_count": 38,
   "id": "1935bbea",
   "metadata": {},
   "outputs": [
    {
     "data": {
      "text/plain": [
       "[4]"
      ]
     },
     "execution_count": 38,
     "metadata": {},
     "output_type": "execute_result"
    }
   ],
   "source": [
    "l = [1,2,3,4]\n",
    "l[4:2:-1]"
   ]
  },
  {
   "cell_type": "code",
   "execution_count": 47,
   "id": "eb22dcee",
   "metadata": {},
   "outputs": [
    {
     "data": {
      "text/plain": [
       "[4]"
      ]
     },
     "execution_count": 47,
     "metadata": {},
     "output_type": "execute_result"
    }
   ],
   "source": [
    "#Here 50 or any number larger will be considered as the last index and the corresponding number after\":\" will be the \n",
    "#index number in the list we read in increasing order \n",
    "\n",
    "l[50:2:-1]"
   ]
  },
  {
   "cell_type": "code",
   "execution_count": null,
   "id": "52bab42d",
   "metadata": {},
   "outputs": [],
   "source": []
  }
 ],
 "metadata": {
  "kernelspec": {
   "display_name": "Python 3",
   "language": "python",
   "name": "python3"
  },
  "language_info": {
   "codemirror_mode": {
    "name": "ipython",
    "version": 3
   },
   "file_extension": ".py",
   "mimetype": "text/x-python",
   "name": "python",
   "nbconvert_exporter": "python",
   "pygments_lexer": "ipython3",
   "version": "3.8.8"
  }
 },
 "nbformat": 4,
 "nbformat_minor": 5
}
