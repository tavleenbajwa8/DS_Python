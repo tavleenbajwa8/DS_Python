{
 "cells": [
  {
   "cell_type": "markdown",
   "id": "f9faf771",
   "metadata": {},
   "source": [
    "You have to write a fun which will take string and return a len of \n",
    "it without using a inbuilt fun len"
   ]
  },
  {
   "cell_type": "code",
   "execution_count": 30,
   "id": "88b7a100",
   "metadata": {},
   "outputs": [],
   "source": [
    "def strlen(s):\n",
    "    if s == \"\": return 0\n",
    "    return s.rindex(s[-1]) + 1"
   ]
  },
  {
   "cell_type": "code",
   "execution_count": 31,
   "id": "d46d7447",
   "metadata": {},
   "outputs": [
    {
     "data": {
      "text/plain": [
       "5"
      ]
     },
     "execution_count": 31,
     "metadata": {},
     "output_type": "execute_result"
    }
   ],
   "source": [
    "strlen(\"hdshb\")"
   ]
  },
  {
   "cell_type": "code",
   "execution_count": 32,
   "id": "6f906bb6",
   "metadata": {},
   "outputs": [],
   "source": [
    "def string_length(s):    \n",
    "    if s == '': return 0\n",
    "    return 1 + string_length(s[1:])"
   ]
  },
  {
   "cell_type": "code",
   "execution_count": 33,
   "id": "e9e0fd31",
   "metadata": {},
   "outputs": [
    {
     "data": {
      "text/plain": [
       "7"
      ]
     },
     "execution_count": 33,
     "metadata": {},
     "output_type": "execute_result"
    }
   ],
   "source": [
    "string_length(\"cdsbhcd\")"
   ]
  },
  {
   "cell_type": "markdown",
   "id": "eb32496f",
   "metadata": {},
   "source": [
    " write a fun which will be able to print an index of all premitive element which you will pass "
   ]
  },
  {
   "cell_type": "code",
   "execution_count": 86,
   "id": "a1ef4aac",
   "metadata": {},
   "outputs": [],
   "source": [
    "l = [1,2,3]\n",
    "def ind(x):\n",
    "    for x in l:\n",
    "        print(l.index(x))"
   ]
  },
  {
   "cell_type": "code",
   "execution_count": 87,
   "id": "40fd6582",
   "metadata": {},
   "outputs": [
    {
     "name": "stdout",
     "output_type": "stream",
     "text": [
      "0\n",
      "1\n",
      "2\n"
     ]
    }
   ],
   "source": [
    "ind(2)"
   ]
  },
  {
   "cell_type": "code",
   "execution_count": 72,
   "id": "3267684c",
   "metadata": {},
   "outputs": [],
   "source": [
    "def giveindexx(l):\n",
    "    if type(l) == list:\n",
    "        for i in l:\n",
    "            print(l.index(i), \"is the index of \", i)"
   ]
  },
  {
   "cell_type": "code",
   "execution_count": 74,
   "id": "38310857",
   "metadata": {},
   "outputs": [
    {
     "name": "stdout",
     "output_type": "stream",
     "text": [
      "0 is the index of  23\n",
      "1 is the index of  4\n",
      "2 is the index of  5\n"
     ]
    }
   ],
   "source": [
    "giveindexx([23,4,5])"
   ]
  },
  {
   "cell_type": "markdown",
   "id": "e1c70987",
   "metadata": {},
   "source": [
    "Write a fun which will take input as a dict and give me out as a list of all the values \n",
    "even in case of 2 level nesting it should work . "
   ]
  },
  {
   "cell_type": "code",
   "execution_count": 15,
   "id": "f423753c",
   "metadata": {},
   "outputs": [
    {
     "data": {
      "text/plain": [
       "['Penn', 'key2']"
      ]
     },
     "execution_count": 15,
     "metadata": {},
     "output_type": "execute_result"
    }
   ],
   "source": [
    "def listconverterr(d):\n",
    "    if type(d) == dict:\n",
    "        return list(d)\n",
    "\n",
    "listconverterr({\"Penn\": {\"key1\": \"dfgshj\"}, \n",
    "              \"key2\": 1233})\n"
   ]
  },
  {
   "cell_type": "markdown",
   "id": "324312da",
   "metadata": {},
   "source": [
    "write a fun which will take another function as an input and return me an output "
   ]
  },
  {
   "cell_type": "code",
   "execution_count": 14,
   "id": "df2654ee",
   "metadata": {},
   "outputs": [
    {
     "data": {
      "text/plain": [
       "11"
      ]
     },
     "execution_count": 14,
     "metadata": {},
     "output_type": "execute_result"
    }
   ],
   "source": [
    "def tester(x,y):\n",
    "    return x + y\n",
    "def tester2(c,v):\n",
    "    return c + v\n",
    "\n",
    "tester2(tester(2,4), 5)"
   ]
  },
  {
   "cell_type": "markdown",
   "id": "8b9288a4",
   "metadata": {},
   "source": [
    "write a function whihc will take multiple list as a input and give me concatnation of all the element as \n",
    "and output "
   ]
  },
  {
   "cell_type": "code",
   "execution_count": 40,
   "id": "1bd23646",
   "metadata": {},
   "outputs": [],
   "source": [
    "def listerr(*args):\n",
    "    lis = []\n",
    "    for arg in args:\n",
    "        lis += arg\n",
    "    return lis"
   ]
  },
  {
   "cell_type": "code",
   "execution_count": 41,
   "id": "84df37bd",
   "metadata": {},
   "outputs": [
    {
     "data": {
      "text/plain": [
       "[1, 2, 3, 4, 2, 3, 4]"
      ]
     },
     "execution_count": 41,
     "metadata": {},
     "output_type": "execute_result"
    }
   ],
   "source": [
    "listerr([1,2,3,4],[2,3,4])"
   ]
  },
  {
   "cell_type": "markdown",
   "id": "f0bc01de",
   "metadata": {},
   "source": [
    "write a function which will be able to take a list as an input return an index of each element \n",
    "like a inbuilt index function but even if we have repetative element it should return index "
   ]
  },
  {
   "cell_type": "code",
   "execution_count": 89,
   "id": "fc115746",
   "metadata": {},
   "outputs": [
    {
     "name": "stdout",
     "output_type": "stream",
     "text": [
      "0 2\n",
      "1 3\n",
      "2 4\n",
      "3 5\n",
      "4 12\n",
      "5 12\n",
      "6 12\n",
      "7 sudh\n",
      "8 (6+7j)\n",
      "9 [1, 2, 3, 'kshb']\n"
     ]
    }
   ],
   "source": [
    "def listindex(l1):\n",
    "    if type(l1) == list:\n",
    "        for i,j in enumerate(l1):\n",
    "            print(i,j)\n",
    "listindex([2,3,4,5,12,12,12 ,\"sudh\", 6+7j, [1,2,3, \"kshb\"]])"
   ]
  },
  {
   "cell_type": "markdown",
   "id": "4fab23d7",
   "metadata": {},
   "source": [
    "Write a function which will whould return list of all the file name from a directory ."
   ]
  },
  {
   "cell_type": "code",
   "execution_count": 99,
   "id": "e7c54e32",
   "metadata": {},
   "outputs": [
    {
     "data": {
      "text/plain": [
       "['.ipynb_checkpoints',\n",
       " '19.2.MySQL-checkpoint.ipynb',\n",
       " '19.2.MySQL.7z',\n",
       " 'Abstraction, Inheritance, Encapsulation.ipynb',\n",
       " 'addition.py',\n",
       " 'Assignments',\n",
       " 'DS_FunctionClass2.ipynb',\n",
       " 'DS_Functions(1st class).ipynb',\n",
       " 'DS_List.ipynb',\n",
       " 'DS_PythonBasics.ipynb',\n",
       " 'DS_String_and_list_manipulation.ipynb',\n",
       " 'DS_Tuple_Set_Dictionaries.ipynb',\n",
       " 'DS_while&forloops.ipynb',\n",
       " 'Encapsulation continue.ipynb',\n",
       " 'file1',\n",
       " 'Function and files.ipynb',\n",
       " 'Function in pyton  (1).ipynb',\n",
       " 'Functions_Generator_3.ipynb',\n",
       " 'glass.data',\n",
       " 'html_data0.csv',\n",
       " 'html_data1.csv',\n",
       " 'html_data2.csv',\n",
       " 'html_data3.csv',\n",
       " 'html_data4.csv',\n",
       " 'html_data5.csv',\n",
       " 'json_dump.csv',\n",
       " 'Live class',\n",
       " 'Logging',\n",
       " 'Logging and debugging .ipynb',\n",
       " 'Modules and Exceptions.ipynb',\n",
       " 'MongoDB.ipynb',\n",
       " 'MongoDB_files',\n",
       " 'mydata.csv',\n",
       " 'MySQL-Python.ipynb',\n",
       " 'Mysql_files',\n",
       " 'my_pickle',\n",
       " 'Objects and Classes (Oops).ipynb',\n",
       " 'OOPS.log',\n",
       " 'Pandas Part-1.ipynb',\n",
       " 'Pandas Part-2.ipynb',\n",
       " 'players_data.csv',\n",
       " 'practice',\n",
       " 'Python_BasicAssignments',\n",
       " 'Ques_exception',\n",
       " 'student.csv',\n",
       " 'student1.csv',\n",
       " 'Tavleen',\n",
       " 'test',\n",
       " 'test.csv',\n",
       " 'test.h5',\n",
       " 'test.py',\n",
       " 'test1.txt',\n",
       " 'test2.py',\n",
       " 'Untitled.ipynb',\n",
       " 'Untitled1.ipynb',\n",
       " '__pycache__']"
      ]
     },
     "execution_count": 99,
     "metadata": {},
     "output_type": "execute_result"
    }
   ],
   "source": [
    "import os\n",
    "def listoffiles(path):\n",
    "    return os.listdir(path)\n",
    "\n",
    "listoffiles(\"C:\\\\Users\\\\Lakshya\\\\DS_Python\")"
   ]
  },
  {
   "cell_type": "markdown",
   "id": "37fb933f",
   "metadata": {},
   "source": [
    "write a function which will be able to show your system configuration "
   ]
  },
  {
   "cell_type": "code",
   "execution_count": 100,
   "id": "39d8be35",
   "metadata": {},
   "outputs": [
    {
     "data": {
      "text/plain": [
       "{'platform': 'Windows',\n",
       " 'platform-release': '10',\n",
       " 'platform-version': '10.0.19041',\n",
       " 'architecture': 'AMD64',\n",
       " 'hostname': 'LakshyaOmen',\n",
       " 'ip-address': '192.168.21.114',\n",
       " 'mac-address': 'c8:21:58:7d:9c:1c',\n",
       " 'processor': 'Intel64 Family 6 Model 158 Stepping 9, GenuineIntel',\n",
       " 'ram': '16 GB'}"
      ]
     },
     "execution_count": 100,
     "metadata": {},
     "output_type": "execute_result"
    }
   ],
   "source": [
    "import platform,socket,re,uuid,json,psutil,logging\n",
    "\n",
    "def getSystemInfo():\n",
    "    try:\n",
    "        info={}\n",
    "        info['platform']=platform.system()\n",
    "        info['platform-release']=platform.release()\n",
    "        info['platform-version']=platform.version()\n",
    "        info['architecture']=platform.machine()\n",
    "        info['hostname']=socket.gethostname()\n",
    "        info['ip-address']=socket.gethostbyname(socket.gethostname())\n",
    "        info['mac-address']=':'.join(re.findall('..', '%012x' % uuid.getnode()))\n",
    "        info['processor']=platform.processor()\n",
    "        info['ram']=str(round(psutil.virtual_memory().total / (1024.0 **3)))+\" GB\"\n",
    "        return json.dumps(info)\n",
    "    except Exception as e:\n",
    "        logging.exception(e)\n",
    "\n",
    "json.loads(getSystemInfo())"
   ]
  },
  {
   "cell_type": "markdown",
   "id": "0a3e8ed1",
   "metadata": {},
   "source": [
    " write a function which will be able to show date and time  ."
   ]
  },
  {
   "cell_type": "code",
   "execution_count": 107,
   "id": "de80b211",
   "metadata": {},
   "outputs": [
    {
     "data": {
      "text/plain": [
       "datetime.datetime(2022, 1, 8, 3, 4, 49, 888269)"
      ]
     },
     "execution_count": 107,
     "metadata": {},
     "output_type": "execute_result"
    }
   ],
   "source": [
    "import datetime\n",
    "def currentDT():\n",
    "    return datetime.datetime.now()\n",
    "\n",
    "currentDT()"
   ]
  },
  {
   "cell_type": "markdown",
   "id": "592173bd",
   "metadata": {},
   "source": [
    "write a function whihc will be able to read a image file and show it to you ."
   ]
  },
  {
   "cell_type": "code",
   "execution_count": null,
   "id": "a8bc8215",
   "metadata": {},
   "outputs": [],
   "source": [
    "C:\\Users\\Lakshya\\Downloads"
   ]
  },
  {
   "cell_type": "code",
   "execution_count": 12,
   "id": "3ae51d57",
   "metadata": {},
   "outputs": [],
   "source": [
    "import os\n",
    "def readimag(path):\n",
    "    f = open(\"path\", 'rb')\n",
    "    return f.readlines()"
   ]
  },
  {
   "cell_type": "code",
   "execution_count": 13,
   "id": "0ba53527",
   "metadata": {},
   "outputs": [
    {
     "ename": "SyntaxError",
     "evalue": "(unicode error) 'unicodeescape' codec can't decode bytes in position 2-3: truncated \\UXXXXXXXX escape (<ipython-input-13-d04d90b41a65>, line 1)",
     "output_type": "error",
     "traceback": [
      "\u001b[1;36m  File \u001b[1;32m\"<ipython-input-13-d04d90b41a65>\"\u001b[1;36m, line \u001b[1;32m1\u001b[0m\n\u001b[1;33m    readimag(\"C:\\Users\\Lakshya\\Downloads\\imag.jpg\")\u001b[0m\n\u001b[1;37m             ^\u001b[0m\n\u001b[1;31mSyntaxError\u001b[0m\u001b[1;31m:\u001b[0m (unicode error) 'unicodeescape' codec can't decode bytes in position 2-3: truncated \\UXXXXXXXX escape\n"
     ]
    }
   ],
   "source": [
    "readimag(\"C:\\Users\\Lakshya\\Downloads\\imag.jpg\")"
   ]
  },
  {
   "cell_type": "code",
   "execution_count": 11,
   "id": "288b445d",
   "metadata": {},
   "outputs": [
    {
     "ename": "SyntaxError",
     "evalue": "(unicode error) 'unicodeescape' codec can't decode bytes in position 2-3: truncated \\UXXXXXXXX escape (<ipython-input-11-9bad7671ec54>, line 1)",
     "output_type": "error",
     "traceback": [
      "\u001b[1;36m  File \u001b[1;32m\"<ipython-input-11-9bad7671ec54>\"\u001b[1;36m, line \u001b[1;32m1\u001b[0m\n\u001b[1;33m    f = open(\"C:\\Users\\Lakshya\\Downloads\\photo.jpg\", 'rb')\u001b[0m\n\u001b[1;37m             ^\u001b[0m\n\u001b[1;31mSyntaxError\u001b[0m\u001b[1;31m:\u001b[0m (unicode error) 'unicodeescape' codec can't decode bytes in position 2-3: truncated \\UXXXXXXXX escape\n"
     ]
    }
   ],
   "source": [
    "f = open(\"C:\\Users\\Lakshya\\Downloads\\photo.jpg\", 'rb')\n",
    "print(f.readlines())"
   ]
  },
  {
   "cell_type": "code",
   "execution_count": null,
   "id": "ee039c28",
   "metadata": {},
   "outputs": [],
   "source": []
  }
 ],
 "metadata": {
  "kernelspec": {
   "display_name": "Python 3",
   "language": "python",
   "name": "python3"
  },
  "language_info": {
   "codemirror_mode": {
    "name": "ipython",
    "version": 3
   },
   "file_extension": ".py",
   "mimetype": "text/x-python",
   "name": "python",
   "nbconvert_exporter": "python",
   "pygments_lexer": "ipython3",
   "version": "3.8.8"
  }
 },
 "nbformat": 4,
 "nbformat_minor": 5
}
