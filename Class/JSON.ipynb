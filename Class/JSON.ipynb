{
 "cells": [
  {
   "cell_type": "code",
   "execution_count": 1,
   "id": "e0cc2b9d",
   "metadata": {},
   "outputs": [],
   "source": [
    "# dumps() vs dump()"
   ]
  },
  {
   "cell_type": "code",
   "execution_count": 2,
   "id": "72d7a2c1",
   "metadata": {},
   "outputs": [
    {
     "data": {
      "text/plain": [
       "'{\\n    \"active\": true,\\n    \"age\": 78,\\n    \"balance\": 345.8,\\n    \"friends\": [\\n        \"Jane\",\\n        \"John\"\\n    ],\\n    \"name\": \"Foo Bar\",\\n    \"other_names\": [\\n        \"Doe\",\\n        \"Joe\"\\n    ],\\n    \"spouse\": null\\n}'"
      ]
     },
     "execution_count": 2,
     "metadata": {},
     "output_type": "execute_result"
    }
   ],
   "source": [
    "# dumps(): Serialize an python object to JSON formatted string\n",
    "\n",
    "import json\n",
    "json.dumps({                            #json.dumps({dict})\n",
    "    \"name\": \"Foo Bar\",\n",
    "    \"age\": 78,\n",
    "    \"friends\": [\"Jane\",\"John\"],\n",
    "    \"balance\": 345.80,\n",
    "    \"other_names\":(\"Doe\",\"Joe\"),\n",
    "    \"active\":True,\n",
    "    \"spouse\":None\n",
    "}, sort_keys=True, indent=4)"
   ]
  },
  {
   "cell_type": "code",
   "execution_count": 5,
   "id": "455cb00b",
   "metadata": {},
   "outputs": [
    {
     "name": "stdout",
     "output_type": "stream",
     "text": [
      "('{\\n'\n",
      " '    \"name\": \"Foo Bar\",\\n'\n",
      " '    \"age\": 78,\\n'\n",
      " '    \"friends\": [\\n'\n",
      " '        \"Jane\",\\n'\n",
      " '        \"John\"\\n'\n",
      " '    ],\\n'\n",
      " '    \"balance\": 345.8,\\n'\n",
      " '    \"other_names\": [\\n'\n",
      " '        \"Doe\",\\n'\n",
      " '        \"Joe\"\\n'\n",
      " '    ],\\n'\n",
      " '    \"active\": true,\\n'\n",
      " '    \"spouse\": null\\n'\n",
      " '}')\n"
     ]
    }
   ],
   "source": [
    "import json\n",
    "from pprint import pprint\n",
    "data = json.dumps({                            #json.dumps({dict})\n",
    "    \"name\": \"Foo Bar\",\n",
    "    \"age\": 78,\n",
    "    \"friends\": [\"Jane\",\"John\"],\n",
    "    \"balance\": 345.80,\n",
    "    \"other_names\":(\"Doe\",\"Joe\"),\n",
    "    \"active\":True,\n",
    "    \"spouse\":None\n",
    "},indent=4)\n",
    "\n",
    "pprint(data)"
   ]
  },
  {
   "cell_type": "code",
   "execution_count": 6,
   "id": "29539dcb",
   "metadata": {},
   "outputs": [],
   "source": [
    "# dump(): Serialize an python object(dict) to JSON formatted string + Supports writing to a file\n",
    "\n",
    "\n",
    "\n",
    "import json\n",
    "with open('user.json','w') as file:\n",
    "     json.dump({\n",
    "        \"name\": \"Foo Bar\",\n",
    "        \"age\": 78,\n",
    "        \"friends\": [\"Jane\",\"John\"],\n",
    "        \"balance\": 345.80,\n",
    "        \"other_names\":(\"Doe\",\"Joe\"),\n",
    "        \"active\":True,\n",
    "        \"spouse\":None\n",
    "    }, file, sort_keys=True, indent=4)"
   ]
  },
  {
   "cell_type": "code",
   "execution_count": 7,
   "id": "a135e975",
   "metadata": {},
   "outputs": [],
   "source": [
    "#Deserializing Simple Built in types\n",
    "\n",
    "#loads()  vs load()"
   ]
  },
  {
   "cell_type": "code",
   "execution_count": 11,
   "id": "fc9410c4",
   "metadata": {},
   "outputs": [
    {
     "data": {
      "text/plain": [
       "{'active': True,\n",
       " 'age': 78,\n",
       " 'balance': 345.8,\n",
       " 'friends': ['Jane', 'John'],\n",
       " 'name': 'Foo Bar',\n",
       " 'other_names': ['Doe', 'Joe'],\n",
       " 'spouse': None}"
      ]
     },
     "execution_count": 11,
     "metadata": {},
     "output_type": "execute_result"
    }
   ],
   "source": [
    "#loads(): To deserialize a JSON document to a Python object\n",
    "\n",
    "import json\n",
    "json.loads('{ \"active\": true, \"age\": 78, \"balance\": 345.8, \"friends\": [\"Jane\",\"John\"], \"name\": \"Foo Bar\", \"other_names\": [\"Doe\",\"Joe\"],\"spouse\":null}')"
   ]
  },
  {
   "cell_type": "code",
   "execution_count": 12,
   "id": "2afbb46c",
   "metadata": {},
   "outputs": [
    {
     "name": "stdout",
     "output_type": "stream",
     "text": [
      "{'active': True, 'age': 78, 'balance': 345.8, 'friends': ['Jane', 'John'], 'name': 'Foo Bar', 'other_names': ['Doe', 'Joe'], 'spouse': None}\n"
     ]
    }
   ],
   "source": [
    "#load():  To deserialize a JSON formatted stream (which supports reading from a file ) to a Python object\n",
    "\n",
    "with open('user.json', 'r') as file:\n",
    "        user_data = json.load(file)\n",
    "print(user_data)\n"
   ]
  },
  {
   "cell_type": "code",
   "execution_count": null,
   "id": "c8291ec9",
   "metadata": {},
   "outputs": [],
   "source": []
  }
 ],
 "metadata": {
  "kernelspec": {
   "display_name": "Python 3",
   "language": "python",
   "name": "python3"
  },
  "language_info": {
   "codemirror_mode": {
    "name": "ipython",
    "version": 3
   },
   "file_extension": ".py",
   "mimetype": "text/x-python",
   "name": "python",
   "nbconvert_exporter": "python",
   "pygments_lexer": "ipython3",
   "version": "3.8.8"
  }
 },
 "nbformat": 4,
 "nbformat_minor": 5
}
