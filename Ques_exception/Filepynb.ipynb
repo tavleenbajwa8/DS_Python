{
 "cells": [
  {
   "cell_type": "code",
   "execution_count": 7,
   "id": "67fdad75",
   "metadata": {},
   "outputs": [],
   "source": [
    "import Module1"
   ]
  },
  {
   "cell_type": "code",
   "execution_count": 8,
   "id": "6540ff48",
   "metadata": {},
   "outputs": [],
   "source": [
    "from Module1 import evennums"
   ]
  },
  {
   "cell_type": "code",
   "execution_count": 9,
   "id": "877ce606",
   "metadata": {},
   "outputs": [
    {
     "data": {
      "text/plain": [
       "'C:\\\\Users\\\\Lakshya\\\\DS_Python\\\\Ques_exception'"
      ]
     },
     "execution_count": 9,
     "metadata": {},
     "output_type": "execute_result"
    }
   ],
   "source": [
    "pwd()"
   ]
  },
  {
   "cell_type": "code",
   "execution_count": 10,
   "id": "9e253bef",
   "metadata": {},
   "outputs": [
    {
     "name": "stdout",
     "output_type": "stream",
     "text": [
      "2\n",
      "4\n",
      "6\n",
      "8\n",
      "10\n",
      "12\n",
      "14\n",
      "16\n",
      "18\n",
      "20\n",
      "22\n",
      "24\n",
      "26\n",
      "28\n",
      "30\n",
      "32\n",
      "34\n",
      "36\n",
      "38\n",
      "40\n",
      "42\n",
      "44\n",
      "46\n"
     ]
    }
   ],
   "source": [
    "evennums(46)"
   ]
  },
  {
   "cell_type": "code",
   "execution_count": null,
   "id": "d79d15d8",
   "metadata": {},
   "outputs": [],
   "source": [
    "import logging as lg\n",
    "import os\n",
    "lg.basicConfig(filename = \"C:\\\\Users\\\\Lakshya\\\\DS_Python\\\\Ques_exception\\\\Logdetails\", level = lg.INFO, format= '%(asctime)s - %(message)s')\n",
    "\n",
    "def evennums(a):\n",
    "    if a != a/2:\n",
    "        raise Exception(\"Error is \", a)\n",
    "        lg.info(\"Error is: \", a)\n",
    "    else:\n",
    "        print(\"Input is ok\")\n",
    "    try:\n",
    "        \n",
    "    lg.info(\"This is Even numbers extraction function\")\n",
    "    lg.info(\"User inputs \" + str(a))\n",
    "    for i in range(0, a, 2):\n",
    "        print(i + 2)\n",
    "        \n",
    "if(os.path.exists(\"C:\\\\Users\\\\Lakshya\\\\DS_Python\\\\Ques_exception\\\\Logdetails\")):\n",
    "    f = open(\"C:\\\\Users\\\\Lakshya\\\\DS_Python\\\\Ques_exception\\\\Logdetails\", \"r\")\n",
    "    print(f.read())"
   ]
  }
 ],
 "metadata": {
  "kernelspec": {
   "display_name": "Python 3",
   "language": "python",
   "name": "python3"
  },
  "language_info": {
   "codemirror_mode": {
    "name": "ipython",
    "version": 3
   },
   "file_extension": ".py",
   "mimetype": "text/x-python",
   "name": "python",
   "nbconvert_exporter": "python",
   "pygments_lexer": "ipython3",
   "version": "3.8.8"
  }
 },
 "nbformat": 4,
 "nbformat_minor": 5
}
