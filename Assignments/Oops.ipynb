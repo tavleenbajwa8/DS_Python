{
 "cells": [
  {
   "cell_type": "code",
   "execution_count": 1,
   "id": "63228869",
   "metadata": {},
   "outputs": [],
   "source": [
    "#OOP: TO SOLVE A PROGRAMMING PROBLEM BY CREATING OBJECTS AND ORGANIZING CODE BETTER."
   ]
  },
  {
   "cell_type": "code",
   "execution_count": 11,
   "id": "c49bc889",
   "metadata": {},
   "outputs": [
    {
     "name": "stdout",
     "output_type": "stream",
     "text": [
      "Alex jj\n"
     ]
    }
   ],
   "source": [
    "#Class is a blueprint of an object\n",
    "\n",
    "def fun():\n",
    "    print(\"FUNCTION\")\n",
    "\n",
    "class Cat:\n",
    "    name = \"\"\n",
    "    age = \"\"\n",
    "    \n",
    "    def fun():\n",
    "        print(\"Method\")  #same func inside class becomes a method\n",
    "    \n",
    "obj1 = Cat()\n",
    "obj2 = Cat()\n",
    "obj1.name = \"Alex\"\n",
    "obj2.name = \"jj\"\n",
    "print(obj1.name, obj2.name)"
   ]
  },
  {
   "cell_type": "code",
   "execution_count": 5,
   "id": "9dc44826",
   "metadata": {},
   "outputs": [
    {
     "data": {
      "text/plain": [
       "__main__.Cat"
      ]
     },
     "execution_count": 5,
     "metadata": {},
     "output_type": "execute_result"
    }
   ],
   "source": [
    "Cat"
   ]
  },
  {
   "cell_type": "code",
   "execution_count": 6,
   "id": "53989fc3",
   "metadata": {},
   "outputs": [],
   "source": [
    "#__main__.Cat: Current script name"
   ]
  },
  {
   "cell_type": "code",
   "execution_count": 7,
   "id": "5c8444c2",
   "metadata": {},
   "outputs": [],
   "source": [
    "def fun_1():\n",
    "    print(\"fun_1\")"
   ]
  },
  {
   "cell_type": "code",
   "execution_count": null,
   "id": "42f4ef49",
   "metadata": {},
   "outputs": [],
   "source": []
  }
 ],
 "metadata": {
  "kernelspec": {
   "display_name": "Python 3",
   "language": "python",
   "name": "python3"
  },
  "language_info": {
   "codemirror_mode": {
    "name": "ipython",
    "version": 3
   },
   "file_extension": ".py",
   "mimetype": "text/x-python",
   "name": "python",
   "nbconvert_exporter": "python",
   "pygments_lexer": "ipython3",
   "version": "3.8.8"
  }
 },
 "nbformat": 4,
 "nbformat_minor": 5
}
