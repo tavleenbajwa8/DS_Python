{
 "cells": [
  {
   "cell_type": "markdown",
   "id": "093a481e",
   "metadata": {},
   "source": [
    "Write a program to index a sequence\n",
    "Consider k can be changed by the user. Should print the final index as output. You can take the sequence used in class as the input sequence"
   ]
  },
  {
   "cell_type": "code",
   "execution_count": 8,
   "id": "a60f1a3f",
   "metadata": {},
   "outputs": [
    {
     "name": "stdout",
     "output_type": "stream",
     "text": [
      "Enter kmer number: 5\n",
      "('CGTGC', [0, 4]) ('GCGTG', [3]) ('GTGCG', [1]) ('GTGCT', [5]) ('TGCGT', [2]) ('TGCTT', [6]) "
     ]
    }
   ],
   "source": [
    "#Solution 1\n",
    "\n",
    "def kmer_index(a):\n",
    "    m = []  #List to append kmers\n",
    "    n = 0\n",
    "    k = []  #List to append the index\n",
    "    seq = \"CGTGCGTGCTT\"\n",
    "    for i in range(0, len(seq)):\n",
    "        kmer = seq[i:i+a]\n",
    "        if len(kmer) == a:\n",
    "            m.append(kmer)\n",
    "            k.append(n)\n",
    "            n += 1\n",
    "            t = list(zip(k,m))    #Zipping both the lists together \n",
    "            t.sort()\n",
    "    d = {}                        #Defining a new dictionary \n",
    "    for x in t:\n",
    "        d.setdefault(x[1],[]).append(x[0])   #Using setdefault function to add more than 1 index of matching kmers\n",
    "    for i in sorted(d) :                     #Sortig the kmers alphabetically \n",
    "        print ((i, d[i]), end =\" \")\n",
    "\n",
    "kmer_index(int(input(\"Enter kmer number: \")))"
   ]
  },
  {
   "cell_type": "code",
   "execution_count": null,
   "id": "457fd300",
   "metadata": {},
   "outputs": [],
   "source": [
    "#Raw code: Partial solution (Can only print the mers with more than 1 index)"
   ]
  },
  {
   "cell_type": "code",
   "execution_count": 3,
   "id": "b9b54352",
   "metadata": {},
   "outputs": [
    {
     "name": "stdout",
     "output_type": "stream",
     "text": [
      "Enter kmer number: 3\n",
      "[[[0, 'CGT'], 4], [[1, 'GTG'], 5], [[2, 'TGC'], 6]]\n"
     ]
    }
   ],
   "source": [
    "def kmer_indexx(a):\n",
    "    T = \"CGTGCGTGCTT\"\n",
    "    P = \"GTG\"\n",
    "    l = []\n",
    "    for i in range(len(T)):\n",
    "        if T[i+a:]:\n",
    "            kmers = (T[i:i+a])\n",
    "            l.append(kmers)\n",
    "\n",
    "    new_list = enumerate(l)\n",
    "    x = list(new_list)\n",
    "\n",
    "\n",
    "    new = []\n",
    "    for i in x:\n",
    "        new.append(list(i))\n",
    "\n",
    "    final = []\n",
    "    for i in range(len(new)):\n",
    "        for j in range(i+1, len(new)):\n",
    "            if new[i][1] == new[j][1]:\n",
    "                x = [new[i], new[j][0]]\n",
    "                final.append(x)\n",
    "    print(final, end=\"\\n\")\n",
    "kmer_indexx(int(input(\"Enter kmer number: \")))"
   ]
  },
  {
   "cell_type": "code",
   "execution_count": null,
   "id": "283034e5",
   "metadata": {},
   "outputs": [],
   "source": []
  },
  {
   "cell_type": "code",
   "execution_count": null,
   "id": "8bb91d67",
   "metadata": {},
   "outputs": [],
   "source": []
  }
 ],
 "metadata": {
  "kernelspec": {
   "display_name": "Python 3",
   "language": "python",
   "name": "python3"
  },
  "language_info": {
   "codemirror_mode": {
    "name": "ipython",
    "version": 3
   },
   "file_extension": ".py",
   "mimetype": "text/x-python",
   "name": "python",
   "nbconvert_exporter": "python",
   "pygments_lexer": "ipython3",
   "version": "3.8.8"
  }
 },
 "nbformat": 4,
 "nbformat_minor": 5
}
