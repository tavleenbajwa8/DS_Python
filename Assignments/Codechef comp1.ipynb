{
 "cells": [
  {
   "cell_type": "code",
   "execution_count": 1,
   "id": "439697e7",
   "metadata": {},
   "outputs": [
    {
     "name": "stdout",
     "output_type": "stream",
     "text": [
      "4\n",
      "1 2 3\n",
      "2\n",
      "10 12 13\n",
      "1\n",
      "23 1 22\n",
      "0\n",
      "23 1 63\n",
      "2\n"
     ]
    }
   ],
   "source": [
    "c\n",
    "    x, y, z = map(int,input().split())\n",
    "    if z < x:\n",
    "        print(\"0\")\n",
    "    elif z >= x + y:\n",
    "        print(\"2\")\n",
    "    else:\n",
    "        print(\"1\")\n",
    "        "
   ]
  },
  {
   "cell_type": "code",
   "execution_count": 3,
   "id": "bbe5c065",
   "metadata": {},
   "outputs": [
    {
     "name": "stdout",
     "output_type": "stream",
     "text": [
      "4\n",
      "10 10\n",
      "0\n",
      "10 17\n",
      "1\n",
      "10 18\n",
      "1\n",
      "10 19\n",
      "2\n"
     ]
    }
   ],
   "source": [
    "for i in range(int(input())):\n",
    "    x, y = map(int,input().split())\n",
    "    count = 0\n",
    "    if x == y:\n",
    "        print(count)\n",
    "    elif x<y and y-x > 8:\n",
    "        match = (y-x)/8\n",
    "        if type(match) == float:\n",
    "            print(((y-x)//8) +1)\n",
    "        else:\n",
    "            print((y-x)//8) \n",
    "    else:\n",
    "        print(\"1\")\n",
    "  \n"
   ]
  },
  {
   "cell_type": "code",
   "execution_count": null,
   "id": "6a753dfc",
   "metadata": {},
   "outputs": [
    {
     "name": "stdout",
     "output_type": "stream",
     "text": [
      "4\n",
      "10 10\n"
     ]
    }
   ],
   "source": [
    "for i in range(int(input())):\n",
    "    x, y = map(int,input().split())\n",
    "    match_count = 0\n",
    "    if x < y:\n",
    "        z = x + 8\n",
    "        if z <= 18:\n",
    "            print(match_count + 1)\n",
    "            \n",
    "        elif z > 18:\n",
    "            p = (y-x)//8\n",
    "            print(match_count + (p+1))\n",
    "        else:\n",
    "            print(match_count)\n",
    "            "
   ]
  },
  {
   "cell_type": "code",
   "execution_count": null,
   "id": "42156928",
   "metadata": {},
   "outputs": [
    {
     "name": "stdout",
     "output_type": "stream",
     "text": [
      "4\n",
      "3\n",
      "START38 LTIME108 START38\n",
      "0\n",
      "0\n",
      "0\n"
     ]
    }
   ],
   "source": [
    "for i in range(int(input())):\n",
    "    x = int(input())\n",
    "    y = map(str,input().split())\n",
    "    flist = 0\n",
    "    llist = 0\n",
    "    for j in y:\n",
    "        if j.startswith(\"START38\"):\n",
    "            flist + 1\n",
    "        print(flist)\n",
    "        \n",
    "        "
   ]
  },
  {
   "cell_type": "code",
   "execution_count": 1,
   "id": "91da25cb",
   "metadata": {},
   "outputs": [
    {
     "name": "stdout",
     "output_type": "stream",
     "text": [
      "4\n",
      "3\n",
      "START38 LTIME108 START38\n",
      "2 1\n",
      "4\n",
      "LTIME108 LTIME108 LTIME108 START38 \n",
      "1 3\n",
      "LTIME108 LTIME108\n"
     ]
    },
    {
     "ename": "ValueError",
     "evalue": "invalid literal for int() with base 10: 'LTIME108 LTIME108'",
     "output_type": "error",
     "traceback": [
      "\u001b[1;31m---------------------------------------------------------------------------\u001b[0m",
      "\u001b[1;31mValueError\u001b[0m                                Traceback (most recent call last)",
      "\u001b[1;32m<ipython-input-1-e4960266d738>\u001b[0m in \u001b[0;36m<module>\u001b[1;34m\u001b[0m\n\u001b[0;32m      1\u001b[0m \u001b[1;32mfor\u001b[0m \u001b[0mi\u001b[0m \u001b[1;32min\u001b[0m \u001b[0mrange\u001b[0m\u001b[1;33m(\u001b[0m\u001b[0mint\u001b[0m\u001b[1;33m(\u001b[0m\u001b[0minput\u001b[0m\u001b[1;33m(\u001b[0m\u001b[1;33m)\u001b[0m\u001b[1;33m)\u001b[0m\u001b[1;33m)\u001b[0m\u001b[1;33m:\u001b[0m\u001b[1;33m\u001b[0m\u001b[1;33m\u001b[0m\u001b[0m\n\u001b[1;32m----> 2\u001b[1;33m     \u001b[0mx\u001b[0m \u001b[1;33m=\u001b[0m \u001b[0mint\u001b[0m\u001b[1;33m(\u001b[0m\u001b[0minput\u001b[0m\u001b[1;33m(\u001b[0m\u001b[1;33m)\u001b[0m\u001b[1;33m)\u001b[0m\u001b[1;33m\u001b[0m\u001b[1;33m\u001b[0m\u001b[0m\n\u001b[0m\u001b[0;32m      3\u001b[0m     \u001b[0my\u001b[0m \u001b[1;33m=\u001b[0m \u001b[0mmap\u001b[0m\u001b[1;33m(\u001b[0m\u001b[0mstr\u001b[0m\u001b[1;33m,\u001b[0m\u001b[0minput\u001b[0m\u001b[1;33m(\u001b[0m\u001b[1;33m)\u001b[0m\u001b[1;33m.\u001b[0m\u001b[0msplit\u001b[0m\u001b[1;33m(\u001b[0m\u001b[1;33m)\u001b[0m\u001b[1;33m)\u001b[0m\u001b[1;33m\u001b[0m\u001b[1;33m\u001b[0m\u001b[0m\n\u001b[0;32m      4\u001b[0m     \u001b[0mflist\u001b[0m \u001b[1;33m=\u001b[0m \u001b[1;33m[\u001b[0m\u001b[1;33m]\u001b[0m\u001b[1;33m\u001b[0m\u001b[1;33m\u001b[0m\u001b[0m\n\u001b[0;32m      5\u001b[0m     \u001b[0mllist\u001b[0m \u001b[1;33m=\u001b[0m \u001b[1;33m[\u001b[0m\u001b[1;33m]\u001b[0m\u001b[1;33m\u001b[0m\u001b[1;33m\u001b[0m\u001b[0m\n",
      "\u001b[1;31mValueError\u001b[0m: invalid literal for int() with base 10: 'LTIME108 LTIME108'"
     ]
    }
   ],
   "source": [
    "for i in range(int(input())):\n",
    "    x = int(input())\n",
    "    y = map(str,input().split())\n",
    "    flist = []\n",
    "    llist = []\n",
    "    for j in y:\n",
    "        if j.startswith(\"S\"):\n",
    "            flist.append(j)\n",
    "        else:\n",
    "            llist.append(j)\n",
    "   \n",
    "\n",
    "    print(len(flist), len(llist))\n",
    "\n",
    "    \n",
    "            "
   ]
  },
  {
   "cell_type": "code",
   "execution_count": null,
   "id": "ec029783",
   "metadata": {},
   "outputs": [],
   "source": []
  },
  {
   "cell_type": "code",
   "execution_count": null,
   "id": "c114ac5f",
   "metadata": {},
   "outputs": [],
   "source": [
    "for i in range(int(input())):\n",
    "    x, y = map(int,input().split())\n",
    "    while x < y:\n",
    "        "
   ]
  },
  {
   "cell_type": "code",
   "execution_count": 1,
   "id": "824a95a8",
   "metadata": {},
   "outputs": [
    {
     "name": "stdout",
     "output_type": "stream",
     "text": [
      "4\n",
      "10 20\n",
      "1360\n",
      "8 40\n",
      "1292\n",
      "15 15\n",
      "1380\n",
      "20 10\n",
      "1400\n"
     ]
    }
   ],
   "source": [
    "for i in range(int(input())):\n",
    "    a, b = map(int,input().split())\n",
    "    p1 = 500 - a*2\n",
    "    p2 = 1000 - (a+b)*4\n",
    "    ab = p1 + p2\n",
    "    p3 = 1000 - b*4\n",
    "    p4 = 500 - (a+b)*2\n",
    "    ba = p3 + p4\n",
    "    if ab > ba:\n",
    "        print(ab)\n",
    "    else:\n",
    "        print(ba)\n",
    "    "
   ]
  },
  {
   "cell_type": "code",
   "execution_count": 2,
   "id": "eea81e25",
   "metadata": {},
   "outputs": [
    {
     "name": "stdout",
     "output_type": "stream",
     "text": [
      "4\n",
      "1\n",
      "5\n",
      "1\n",
      "2\n",
      "1 1\n",
      "1\n",
      "3\n",
      "1 2 3\n",
      "3\n",
      "4\n",
      "2 1 2 2\n",
      "3\n"
     ]
    }
   ],
   "source": [
    "for j in range(int(input())):\n",
    "    n = int(input())\n",
    "    a = list(map(int,input().split()))\n",
    "    c1 = a\n",
    "    if n == 1:\n",
    "        print(n)\n",
    "    else:\n",
    "        for i in range((len(a) - 1)):\n",
    "            if a[i] == a[i+1]:\n",
    "                c1.remove(a[i])\n",
    "        print(len(c1))\n",
    "        "
   ]
  },
  {
   "cell_type": "code",
   "execution_count": null,
   "id": "cf7472da",
   "metadata": {},
   "outputs": [
    {
     "name": "stdout",
     "output_type": "stream",
     "text": [
      "4\n",
      "1\n",
      "5\n",
      "2\n",
      "1 1\n",
      "1\n",
      "3\n",
      "1 2 3\n",
      "3\n",
      "3\n"
     ]
    }
   ],
   "source": [
    "for j in range(int(input())):\n",
    "    n = int(input())\n",
    "    a = list(map(int,input().split()))\n",
    "    for i in range((len(a) - 1)):\n",
    "        if a[i] == a[i+1]:\n",
    "            a.remove(a[i])\n",
    "            print(len(a))\n",
    "        else:\n",
    "            print(n)"
   ]
  },
  {
   "cell_type": "code",
   "execution_count": 1,
   "id": "31dd0ade",
   "metadata": {},
   "outputs": [
    {
     "name": "stdout",
     "output_type": "stream",
     "text": [
      "4\n",
      "1\n",
      "5\n",
      "1\n",
      "2\n",
      "1 1\n",
      "1\n",
      "3\n",
      "1 2 3\n",
      "3\n",
      "4\n",
      "2 1 2 2\n",
      "3\n"
     ]
    }
   ],
   "source": [
    "for j in range(int(input())):\n",
    "    n = int(input())\n",
    "    a = list(map(int,input().split()))\n",
    "    count = 1\n",
    "    for i in range(len(a)-1):\n",
    "        if a[i] != a[i+1]:\n",
    "            count+=1\n",
    "    print(count)"
   ]
  },
  {
   "cell_type": "code",
   "execution_count": null,
   "id": "6987ae03",
   "metadata": {},
   "outputs": [],
   "source": [
    "for j in range(int(input())):\n",
    "    n = int(input())\n",
    "    a = map(int,input().split())\n",
    "    l = [a]\n",
    "    c1 = a\n",
    "    for i in range((len(l) - 1)):\n",
    "        if l[i] == l[i+1]:\n",
    "            c1.remove(l[i])\n",
    "    print(len(c1))\n",
    "\n",
    "    \n",
    "        "
   ]
  },
  {
   "cell_type": "code",
   "execution_count": 25,
   "id": "e0431526",
   "metadata": {},
   "outputs": [
    {
     "data": {
      "text/plain": [
       "3"
      ]
     },
     "execution_count": 25,
     "metadata": {},
     "output_type": "execute_result"
    }
   ],
   "source": [
    "l = []\n",
    "l1 = [2,1,2,2]\n",
    "c1 = l1\n",
    "for i in range((len(l1) - 1)):\n",
    "    if l1[i] == l1[i+1]:\n",
    "        c1.remove(l1[i])\n",
    "    else:\n",
    "        l.append(i)\n",
    "len(c1)"
   ]
  },
  {
   "cell_type": "code",
   "execution_count": 8,
   "id": "5a3b2942",
   "metadata": {},
   "outputs": [
    {
     "data": {
      "text/plain": [
       "[2, 1, 2, 2]"
      ]
     },
     "execution_count": 8,
     "metadata": {},
     "output_type": "execute_result"
    }
   ],
   "source": [
    "l1"
   ]
  },
  {
   "cell_type": "markdown",
   "id": "7208a859",
   "metadata": {},
   "source": [
    "## y = 19\n",
    "x = 10\n",
    "(y-x)/8"
   ]
  },
  {
   "cell_type": "code",
   "execution_count": 9,
   "id": "c4389c99",
   "metadata": {},
   "outputs": [
    {
     "name": "stdout",
     "output_type": "stream",
     "text": [
      "1000 300 700\n"
     ]
    },
    {
     "ename": "ValueError",
     "evalue": "invalid literal for int() with base 10: '1000 300 700'",
     "output_type": "error",
     "traceback": [
      "\u001b[1;31m---------------------------------------------------------------------------\u001b[0m",
      "\u001b[1;31mValueError\u001b[0m                                Traceback (most recent call last)",
      "\u001b[1;32m<ipython-input-9-e10f9026b554>\u001b[0m in \u001b[0;36m<module>\u001b[1;34m\u001b[0m\n\u001b[1;32m----> 1\u001b[1;33m \u001b[1;32mfor\u001b[0m \u001b[0mi\u001b[0m \u001b[1;32min\u001b[0m \u001b[0mrange\u001b[0m\u001b[1;33m(\u001b[0m\u001b[0mint\u001b[0m\u001b[1;33m(\u001b[0m\u001b[0minput\u001b[0m\u001b[1;33m(\u001b[0m\u001b[1;33m)\u001b[0m\u001b[1;33m)\u001b[0m\u001b[1;33m)\u001b[0m\u001b[1;33m:\u001b[0m\u001b[1;33m\u001b[0m\u001b[1;33m\u001b[0m\u001b[0m\n\u001b[0m\u001b[0;32m      2\u001b[0m     \u001b[0mN\u001b[0m\u001b[1;33m,\u001b[0m \u001b[0mA\u001b[0m\u001b[1;33m,\u001b[0m \u001b[0mB\u001b[0m \u001b[1;33m=\u001b[0m \u001b[0mmap\u001b[0m\u001b[1;33m(\u001b[0m\u001b[0mint\u001b[0m\u001b[1;33m,\u001b[0m\u001b[0minput\u001b[0m\u001b[1;33m(\u001b[0m\u001b[1;33m)\u001b[0m\u001b[1;33m.\u001b[0m\u001b[0msplit\u001b[0m\u001b[1;33m(\u001b[0m\u001b[1;33m)\u001b[0m\u001b[1;33m)\u001b[0m\u001b[1;33m\u001b[0m\u001b[1;33m\u001b[0m\u001b[0m\n\u001b[0;32m      3\u001b[0m     \u001b[0mx\u001b[0m \u001b[1;33m=\u001b[0m \u001b[0mN\u001b[0m\u001b[1;33m-\u001b[0m\u001b[0mA\u001b[0m\u001b[1;33m\u001b[0m\u001b[1;33m\u001b[0m\u001b[0m\n\u001b[0;32m      4\u001b[0m     \u001b[0mprint\u001b[0m\u001b[1;33m(\u001b[0m\u001b[0mx\u001b[0m\u001b[1;33m,\u001b[0m \u001b[1;33m(\u001b[0m\u001b[0mx\u001b[0m\u001b[1;33m-\u001b[0m\u001b[0mB\u001b[0m\u001b[1;33m)\u001b[0m\u001b[1;33m)\u001b[0m\u001b[1;33m\u001b[0m\u001b[1;33m\u001b[0m\u001b[0m\n",
      "\u001b[1;31mValueError\u001b[0m: invalid literal for int() with base 10: '1000 300 700'"
     ]
    }
   ],
   "source": [
    "for i in range(int(input())):\n",
    "    N, A, B = map(int,input().split())\n",
    "    x = N-A\n",
    "    print(x, (x-B))\n"
   ]
  },
  {
   "cell_type": "code",
   "execution_count": null,
   "id": "7f7c667a",
   "metadata": {},
   "outputs": [],
   "source": []
  },
  {
   "cell_type": "code",
   "execution_count": null,
   "id": "1d38b16a",
   "metadata": {},
   "outputs": [],
   "source": [
    "4\n",
    "1 2 3\n",
    "10 12 13\n",
    "23 1 22\n",
    "23 1 63\n",
    "Sample Output 1 \n",
    "2\n",
    "1\n",
    "0\n",
    "2"
   ]
  },
  {
   "cell_type": "code",
   "execution_count": null,
   "id": "8d66e70c",
   "metadata": {},
   "outputs": [],
   "source": []
  },
  {
   "cell_type": "code",
   "execution_count": null,
   "id": "9fcf551b",
   "metadata": {},
   "outputs": [
    {
     "name": "stdout",
     "output_type": "stream",
     "text": [
      "4\n",
      "10 100\n",
      "Disposable\n"
     ]
    }
   ],
   "source": [
    "t = int(input())\n",
    "while t > 0:\n",
    "    x , y = input().split()\n",
    "    a = x*100\n",
    "    b = y*10\n",
    "    if a == b:\n",
    "        print(\"Cloth\")\n",
    "    elif a > b:\n",
    "        print(\"Disposable\")\n",
    "    else:\n",
    "        print(\"Cloth\")\n",
    "    t = t - 1"
   ]
  },
  {
   "cell_type": "code",
   "execution_count": 1,
   "id": "29aec971",
   "metadata": {},
   "outputs": [
    {
     "ename": "SyntaxError",
     "evalue": "invalid syntax (<ipython-input-1-8923e83778e3>, line 1)",
     "output_type": "error",
     "traceback": [
      "\u001b[1;36m  File \u001b[1;32m\"<ipython-input-1-8923e83778e3>\"\u001b[1;36m, line \u001b[1;32m1\u001b[0m\n\u001b[1;33m    10 100\u001b[0m\n\u001b[1;37m       ^\u001b[0m\n\u001b[1;31mSyntaxError\u001b[0m\u001b[1;31m:\u001b[0m invalid syntax\n"
     ]
    }
   ],
   "source": [
    "10 100\n",
    "9 100\n",
    "88 99\n",
    "1 11\n",
    "Sample Output 1 \n",
    "Cloth\n",
    "Disposable\n",
    "Cloth\n",
    "Disposable"
   ]
  },
  {
   "cell_type": "code",
   "execution_count": null,
   "id": "9ae64eac",
   "metadata": {},
   "outputs": [
    {
     "name": "stdout",
     "output_type": "stream",
     "text": [
      "4\n",
      "10 100\n",
      "Disposable\n"
     ]
    }
   ],
   "source": [
    "t = int(input())\n",
    "while t > 0:\n",
    "    x , y = input().split()\n",
    "    a = x*100\n",
    "    b = y*10\n",
    "    if a == b:\n",
    "        print(\"Cloth\")\n",
    "    elif a > b:\n",
    "        \n",
    "        print(\"Disposable\")\n",
    "    else:\n",
    "        print(\"Cloth\")\n",
    "    t = t - 1"
   ]
  },
  {
   "cell_type": "code",
   "execution_count": null,
   "id": "ea051254",
   "metadata": {},
   "outputs": [
    {
     "name": "stdout",
     "output_type": "stream",
     "text": [
      "4\n",
      "10 100\n",
      "Cloth\n",
      "9 100\n",
      "Cloth\n"
     ]
    }
   ],
   "source": [
    "t = int(input())\n",
    "while t > 0:\n",
    "    x , y = input().split()\n",
    "    a = x*100\n",
    "    b = y*10\n",
    "    if a > b or a == b:\n",
    "        print(\"Cloth\")\n",
    "    elif a < b:\n",
    "        print(\"Disposable\")\n",
    "    t = t - 1"
   ]
  },
  {
   "cell_type": "code",
   "execution_count": 1,
   "id": "a625c678",
   "metadata": {},
   "outputs": [
    {
     "name": "stdout",
     "output_type": "stream",
     "text": [
      "4\n",
      "10 100\n",
      "Cloth\n",
      "9 100\n",
      "Disposable\n",
      "88 99\n",
      "Cloth\n",
      "1 11\n",
      "Disposable\n"
     ]
    }
   ],
   "source": [
    "for i in range(int(input())):\n",
    "    x , y = map(int,input().split())\n",
    "\n",
    "    x = x*100\n",
    "    y = y*10\n",
    "    if x == y:\n",
    "        print(\"Cloth\")\n",
    "    elif x < y:\n",
    "        print(\"Disposable\")\n",
    "    else:\n",
    "        print(\"Cloth\")"
   ]
  },
  {
   "cell_type": "code",
   "execution_count": 4,
   "id": "eda78523",
   "metadata": {},
   "outputs": [
    {
     "name": "stdout",
     "output_type": "stream",
     "text": [
      "4\n",
      "2\n",
      "0.0\n",
      "3\n",
      "3.0\n",
      "4\n",
      "6.0\n",
      "9\n",
      "21.0\n"
     ]
    }
   ],
   "source": [
    "for i in range(int(input())):\n",
    "    n = int(input())\n",
    "    \n",
    "    a = 3*(n-1)\n",
    "    b = a/(n-1)\n",
    "    print(a-b)"
   ]
  },
  {
   "cell_type": "code",
   "execution_count": 5,
   "id": "30da0e51",
   "metadata": {},
   "outputs": [
    {
     "ename": "SyntaxError",
     "evalue": "invalid syntax (<ipython-input-5-6fc7b2febf78>, line 6)",
     "output_type": "error",
     "traceback": [
      "\u001b[1;36m  File \u001b[1;32m\"<ipython-input-5-6fc7b2febf78>\"\u001b[1;36m, line \u001b[1;32m6\u001b[0m\n\u001b[1;33m    Sample Output 1\u001b[0m\n\u001b[1;37m           ^\u001b[0m\n\u001b[1;31mSyntaxError\u001b[0m\u001b[1;31m:\u001b[0m invalid syntax\n"
     ]
    }
   ],
   "source": [
    "4\n",
    "2\n",
    "3\n",
    "4\n",
    "9\n",
    "Sample Output 1 \n",
    "3\n",
    "3\n",
    "6\n",
    "12"
   ]
  },
  {
   "cell_type": "code",
   "execution_count": 5,
   "id": "7e021ae7",
   "metadata": {},
   "outputs": [
    {
     "name": "stdout",
     "output_type": "stream",
     "text": [
      "4\n",
      "2\n",
      "3\n",
      "3\n",
      "3\n",
      "4\n",
      "6\n",
      "9\n",
      "12\n"
     ]
    }
   ],
   "source": [
    "for i in range(int(input())):\n",
    "    n = int(input())\n",
    "    n1 = n-1\n",
    "    if n == 2:\n",
    "        a = n1*3\n",
    "        b = 0\n",
    "        print(a-b)\n",
    "    elif n > 2 and n%2 == 0:\n",
    "        a = 3*n1\n",
    "        b = ((n1-1)//2)*3\n",
    "        print(a-b)\n",
    "    else:\n",
    "        a = 3*n1\n",
    "        b = (n1//2)*3\n",
    "        print(a-b)\n",
    "   "
   ]
  },
  {
   "cell_type": "code",
   "execution_count": 4,
   "id": "12ade9b2",
   "metadata": {},
   "outputs": [
    {
     "data": {
      "text/plain": [
       "1"
      ]
     },
     "execution_count": 4,
     "metadata": {},
     "output_type": "execute_result"
    }
   ],
   "source": [
    "3//2"
   ]
  },
  {
   "cell_type": "code",
   "execution_count": 1,
   "id": "bc6e1500",
   "metadata": {},
   "outputs": [
    {
     "name": "stdout",
     "output_type": "stream",
     "text": [
      "4\n",
      "15 20\n",
      "No\n",
      "50 48\n",
      "Yes\n",
      "32 32\n",
      "Yes\n",
      "38 39\n",
      "No\n"
     ]
    }
   ],
   "source": [
    "for i in range(int(input())):\n",
    "    x, h = map(int,input().split())\n",
    "    if x >= h:\n",
    "        print(\"Yes\")\n",
    "    else:\n",
    "        print(\"No\")"
   ]
  },
  {
   "cell_type": "code",
   "execution_count": 2,
   "id": "9bbd4ce6",
   "metadata": {},
   "outputs": [
    {
     "ename": "SyntaxError",
     "evalue": "invalid syntax (<ipython-input-2-da97488124ab>, line 1)",
     "output_type": "error",
     "traceback": [
      "\u001b[1;36m  File \u001b[1;32m\"<ipython-input-2-da97488124ab>\"\u001b[1;36m, line \u001b[1;32m1\u001b[0m\n\u001b[1;33m    15 20\u001b[0m\n\u001b[1;37m       ^\u001b[0m\n\u001b[1;31mSyntaxError\u001b[0m\u001b[1;31m:\u001b[0m invalid syntax\n"
     ]
    }
   ],
   "source": [
    "15 20\n",
    "50 48\n",
    "32 32\n",
    "38 39\n",
    "Sample Output 1 \n",
    "NO\n",
    "YES\n",
    "YES\n",
    "NO"
   ]
  },
  {
   "cell_type": "code",
   "execution_count": 2,
   "id": "35fe3f4c",
   "metadata": {},
   "outputs": [
    {
     "name": "stdout",
     "output_type": "stream",
     "text": [
      "4\n",
      "2 5 11\n",
      "3\n",
      "4 10 20\n",
      "2\n",
      "1 1 1 \n",
      "0\n",
      "6 40 90\n",
      "8\n"
     ]
    }
   ],
   "source": [
    "for i in range(int(input())):\n",
    "    x, y, z = map(int,input().split())\n",
    "    n = (z - y)//x \n",
    "    if x + y <= z:\n",
    "        print(n)\n",
    "    else:\n",
    "        print(\"0\")"
   ]
  },
  {
   "cell_type": "code",
   "execution_count": 3,
   "id": "0080460f",
   "metadata": {},
   "outputs": [
    {
     "ename": "SyntaxError",
     "evalue": "invalid syntax (<ipython-input-3-681bcdb142dc>, line 2)",
     "output_type": "error",
     "traceback": [
      "\u001b[1;36m  File \u001b[1;32m\"<ipython-input-3-681bcdb142dc>\"\u001b[1;36m, line \u001b[1;32m2\u001b[0m\n\u001b[1;33m    2 5 11\u001b[0m\n\u001b[1;37m      ^\u001b[0m\n\u001b[1;31mSyntaxError\u001b[0m\u001b[1;31m:\u001b[0m invalid syntax\n"
     ]
    }
   ],
   "source": [
    "4\n",
    "2 5 11\n",
    "4 10 20\n",
    "1 1 1\n",
    "6 40 90\n",
    "Sample Output 1 \n",
    "3\n",
    "2\n",
    "0\n",
    "8"
   ]
  },
  {
   "cell_type": "code",
   "execution_count": null,
   "id": "56a5013a",
   "metadata": {},
   "outputs": [],
   "source": [
    "def mangoes(x, y, z):\n",
    "    for i in range(int(input())):\n",
    "        n = (z - y)//x \n",
    "        if x + y <= z:\n",
    "            print(n)\n",
    "        else:\n",
    "            print(\"0\")\n",
    "        \n",
    "x, y, z = map(int,input().split())"
   ]
  },
  {
   "cell_type": "code",
   "execution_count": null,
   "id": "add30b27",
   "metadata": {},
   "outputs": [
    {
     "name": "stdout",
     "output_type": "stream",
     "text": [
      "4\n",
      "5\n",
      "4 4 4 2 1\n",
      "4\n",
      "7\n",
      "7\n"
     ]
    }
   ],
   "source": [
    "from collections import Counter\n",
    "counter = 0\n",
    "for i in range(int(input())):\n",
    "    n = int(input())\n",
    "    for j in range(n):\n",
    "        a = map(int,input().split())\n",
    "        counter = 0\n",
    "        num = list(a)[0]\n",
    "        for x in list(a):\n",
    "            freq = list(a).count(x)\n",
    "            if(freq> counter):\n",
    "                num = x\n",
    "            print(num)"
   ]
  },
  {
   "cell_type": "code",
   "execution_count": null,
   "id": "1ab4b680",
   "metadata": {},
   "outputs": [],
   "source": [
    " counter = 0\n",
    "    num = List[0]\n",
    "     \n",
    "    for i in List:\n",
    "        curr_frequency = List.count(i)\n",
    "        if(curr_frequency> counter):\n",
    "            counter = curr_frequency\n",
    "            num = i\n",
    " \n",
    "    return num\n",
    " \n",
    "List = [2, 1, 2, 2, 1, 3]\n",
    "print(most_frequent(List"
   ]
  },
  {
   "cell_type": "code",
   "execution_count": null,
   "id": "c9ad877d",
   "metadata": {},
   "outputs": [],
   "source": [
    "4\n",
    "5\n",
    "4 4 4 2 1\n",
    "7\n",
    "1 2 3 4 5 6 6\n",
    "6\n",
    "2 2 3 3 10 8\n",
    "4\n",
    "7 7 8 8\n",
    "Sample Output 1 \n",
    "4\n",
    "6\n",
    "CONFUSED\n",
    "CONFUSED"
   ]
  },
  {
   "cell_type": "code",
   "execution_count": 1,
   "id": "55c84ad0",
   "metadata": {},
   "outputs": [
    {
     "name": "stdout",
     "output_type": "stream",
     "text": [
      "5\n"
     ]
    }
   ],
   "source": [
    "counter = 0\n",
    "l = [2,2,4,1,1]\n",
    "a = len(l)\n",
    "for i in range(a):\n",
    "    while l[i]  0:\n",
    "        l[i] -= 1\n",
    "        print(l)\n",
    "    counter += 1\n",
    "    \n",
    "if counter > a:\n",
    "    print(a)\n",
    "else:\n",
    "    print(counter)\n"
   ]
  },
  {
   "cell_type": "code",
   "execution_count": 2,
   "id": "c8c36085",
   "metadata": {},
   "outputs": [
    {
     "data": {
      "text/plain": [
       "[2, 2, 4, 1, 1]"
      ]
     },
     "execution_count": 2,
     "metadata": {},
     "output_type": "execute_result"
    }
   ],
   "source": [
    "l"
   ]
  },
  {
   "cell_type": "code",
   "execution_count": 26,
   "id": "662b2faa",
   "metadata": {},
   "outputs": [
    {
     "name": "stdout",
     "output_type": "stream",
     "text": [
      "4\n",
      "5 4 \n",
      "2 2 4 1 1\n"
     ]
    },
    {
     "ename": "TypeError",
     "evalue": "'>' not supported between instances of 'map' and 'int'",
     "output_type": "error",
     "traceback": [
      "\u001b[1;31m---------------------------------------------------------------------------\u001b[0m",
      "\u001b[1;31mTypeError\u001b[0m                                 Traceback (most recent call last)",
      "\u001b[1;32m<ipython-input-26-a4e538c6bcc7>\u001b[0m in \u001b[0;36m<module>\u001b[1;34m\u001b[0m\n\u001b[0;32m      9\u001b[0m         \u001b[0marray\u001b[0m \u001b[1;33m=\u001b[0m \u001b[0mnumpy\u001b[0m\u001b[1;33m.\u001b[0m\u001b[0marray\u001b[0m\u001b[1;33m(\u001b[0m\u001b[1;33m[\u001b[0m\u001b[0mh\u001b[0m\u001b[1;33m]\u001b[0m\u001b[1;33m)\u001b[0m\u001b[1;33m\u001b[0m\u001b[1;33m\u001b[0m\u001b[0m\n\u001b[0;32m     10\u001b[0m         \u001b[1;32mfor\u001b[0m \u001b[0mi\u001b[0m \u001b[1;32min\u001b[0m \u001b[0mrange\u001b[0m\u001b[1;33m(\u001b[0m\u001b[0mlen\u001b[0m\u001b[1;33m(\u001b[0m\u001b[0marray\u001b[0m\u001b[1;33m)\u001b[0m\u001b[1;33m)\u001b[0m\u001b[1;33m:\u001b[0m\u001b[1;33m\u001b[0m\u001b[1;33m\u001b[0m\u001b[0m\n\u001b[1;32m---> 11\u001b[1;33m             \u001b[1;32mif\u001b[0m \u001b[1;33m(\u001b[0m\u001b[0marray\u001b[0m\u001b[1;33m[\u001b[0m\u001b[0mi\u001b[0m\u001b[1;33m]\u001b[0m \u001b[1;33m>\u001b[0m \u001b[1;36m0\u001b[0m\u001b[1;33m)\u001b[0m\u001b[1;33m:\u001b[0m\u001b[1;33m\u001b[0m\u001b[1;33m\u001b[0m\u001b[0m\n\u001b[0m\u001b[0;32m     12\u001b[0m                 \u001b[0ml\u001b[0m\u001b[1;33m.\u001b[0m\u001b[0mappend\u001b[0m\u001b[1;33m(\u001b[0m\u001b[0marray\u001b[0m\u001b[1;33m[\u001b[0m\u001b[0mi\u001b[0m\u001b[1;33m]\u001b[0m\u001b[1;33m)\u001b[0m\u001b[1;33m\u001b[0m\u001b[1;33m\u001b[0m\u001b[0m\n\u001b[0;32m     13\u001b[0m         \u001b[0ml\u001b[0m\u001b[1;33m.\u001b[0m\u001b[0msort\u001b[0m\u001b[1;33m(\u001b[0m\u001b[1;33m)\u001b[0m\u001b[1;33m\u001b[0m\u001b[1;33m\u001b[0m\u001b[0m\n",
      "\u001b[1;31mTypeError\u001b[0m: '>' not supported between instances of 'map' and 'int'"
     ]
    }
   ],
   "source": [
    "import numpy\n",
    "for i in range(int(input())):\n",
    "    n, x = map(int,input().split())\n",
    "    for j in range(n):\n",
    "        h = map(int,input().split())\n",
    "        l = []\n",
    "        z = []\n",
    "        counter = 0\n",
    "        array = numpy.array([h])\n",
    "        for i in range(len(array)):\n",
    "            if (array[i] > 0):\n",
    "                l.append(array[i])\n",
    "        l.sort()\n",
    "        while (len(l) > 1):\n",
    "            counter =+ 1\n",
    "            p = l[len(l) - 1]\n",
    "            l.pop()\n",
    "            q = l[len(l)-1]\n",
    "            l.pop()\n",
    "            if (p - q > 0):\n",
    "                l.append(p)\n",
    "            l.sort()\n",
    "            z.append(counter)\n",
    "    if len(n) > len(z):\n",
    "        print(len(z))\n",
    "    else:\n",
    "        print(len(n))   \n",
    "        \n",
    "        \n",
    "        "
   ]
  },
  {
   "cell_type": "code",
   "execution_count": 2,
   "id": "bd20d7fd",
   "metadata": {},
   "outputs": [
    {
     "name": "stdout",
     "output_type": "stream",
     "text": [
      "[1, 1, 3, 0, 0]\n",
      "[0, 0, 2, -1, -1]\n",
      "[-1, -1, 1, -2, -2]\n",
      "[-2, -2, 0, -3, -3]\n"
     ]
    }
   ],
   "source": [
    "counter = 0\n",
    "l = [2,2,4,1,1]\n",
    "a = len(l)\n",
    "for i in l:\n",
    "    while l[i] > 0:\n",
    "        l = [i - 1 for i in l]\n",
    "        print(l)\n",
    "    counter += 1\n",
    "    "
   ]
  },
  {
   "cell_type": "code",
   "execution_count": 21,
   "id": "02669f3f",
   "metadata": {},
   "outputs": [
    {
     "name": "stdout",
     "output_type": "stream",
     "text": [
      "4\n"
     ]
    }
   ],
   "source": [
    "import numpy\n",
    "\n",
    "\n",
    "l = []\n",
    "z = []\n",
    "counter = 0\n",
    "array = numpy.array([2,3,4,1,1])\n",
    "for i in range(len(array)):\n",
    "    if (array[i] > 0):\n",
    "        l.append(array[i])\n",
    "l.sort()\n",
    "while (len(l) > 1):\n",
    "    counter =+ 1\n",
    "    p = l[len(l) - 1]\n",
    "    l.pop()\n",
    "    q = l[len(l)-1]\n",
    "    l.pop()\n",
    "    if (p - q > 0):\n",
    "        l.append(p)\n",
    "    l.sort()\n",
    "    z.append(counter)\n",
    "print(len(z))"
   ]
  },
  {
   "cell_type": "code",
   "execution_count": null,
   "id": "e42c611d",
   "metadata": {},
   "outputs": [
    {
     "name": "stdout",
     "output_type": "stream",
     "text": [
      "4 \n",
      "5 4\n",
      "2 2 4 1 1\n",
      "4\n",
      "3 5\n",
      "5 4 5\n",
      "1\n",
      "4 4\n",
      "4 4 4 4\n",
      "2\n"
     ]
    }
   ],
   "source": [
    "for k in range(int(input())):\n",
    "    n, x = map(int,input().split())\n",
    "    h = map(int,input().split())\n",
    "    l = []\n",
    "    z = []\n",
    "    counter = 0\n",
    "    array = list(h)\n",
    "    for i in range(len(array)):\n",
    "        if (array[i] > 0):\n",
    "            l.append(array[i])\n",
    "    l.sort()\n",
    "    while (len(l) > 1):\n",
    "        counter =+ 1\n",
    "        p = l[len(l) - 1]\n",
    "        l.pop()\n",
    "        q = l[len(l)-1]\n",
    "        l.pop()\n",
    "        if (p - q > 0):\n",
    "            l.append(p)\n",
    "        l.sort()\n",
    "        z.append(counter)\n",
    "    if len(z) < n:\n",
    "        print(len(z))\n",
    "    else:\n",
    "        print(n)\n",
    "        #print(len(z))\n",
    "        "
   ]
  },
  {
   "cell_type": "code",
   "execution_count": null,
   "id": "aeca0a4f",
   "metadata": {},
   "outputs": [],
   "source": [
    "for d in range(int(input())): #test cases\n",
    "    list1=[]# empty list\n",
    "    n=int(input()) # list lenght\n",
    "    abc=[int(x) for x in input().split()] # list in a row\n",
    "    list1.append(abc[0]) # appending\n",
    "    for num in range(1,len(abc)):\n",
    "        if list1[-1]!=abc[num]: #fliering\n",
    "            list1.append(abc[num])\n",
    "    print(len(list1)) # final product"
   ]
  },
  {
   "cell_type": "code",
   "execution_count": 2,
   "id": "7f2c0157",
   "metadata": {},
   "outputs": [
    {
     "ename": "SyntaxError",
     "evalue": "unexpected EOF while parsing (<ipython-input-2-7a081c1dc95a>, line 5)",
     "output_type": "error",
     "traceback": [
      "\u001b[1;36m  File \u001b[1;32m\"<ipython-input-2-7a081c1dc95a>\"\u001b[1;36m, line \u001b[1;32m5\u001b[0m\n\u001b[1;33m    \u001b[0m\n\u001b[1;37m    ^\u001b[0m\n\u001b[1;31mSyntaxError\u001b[0m\u001b[1;31m:\u001b[0m unexpected EOF while parsing\n"
     ]
    }
   ],
   "source": [
    "x = list(aeiou)\n",
    "vowels = [a,e,i,o,u]\n",
    "for i in x:\n",
    "    if x[i] != vowels[i]:\n",
    "        "
   ]
  },
  {
   "cell_type": "code",
   "execution_count": 15,
   "id": "ce1c29b8",
   "metadata": {},
   "outputs": [
    {
     "name": "stdout",
     "output_type": "stream",
     "text": [
      "a\n",
      "e\n",
      "i\n",
      "o\n",
      "u\n"
     ]
    }
   ],
   "source": [
    "x = {1:\"a\", 2:\"e\", 3:\"i\", 4: \"o\", 5: \"u\"}\n",
    "for i in x:\n",
    "    print(x[i])"
   ]
  },
  {
   "cell_type": "code",
   "execution_count": 18,
   "id": "445104e2",
   "metadata": {},
   "outputs": [
    {
     "data": {
      "text/plain": [
       "['a', 'b', 'c', 'd', 'e']"
      ]
     },
     "execution_count": 18,
     "metadata": {},
     "output_type": "execute_result"
    }
   ],
   "source": [
    "x = {1:\"a\", 2:\"e\", 3:\"i\", 4: \"o\", 5: \"u\"}\n",
    "inp = list(\"abcde\")\n",
    "for i in inp:\n",
    "    for j in x:\n",
    "        if inp[i] != x[i]:\n",
    "            "
   ]
  },
  {
   "cell_type": "code",
   "execution_count": null,
   "id": "f7fff0ff",
   "metadata": {},
   "outputs": [
    {
     "name": "stdout",
     "output_type": "stream",
     "text": [
      "4\n",
      "8\n",
      "hsjshboo\n",
      "1\n"
     ]
    }
   ],
   "source": [
    "for t in range(int(input())):\n",
    "    N = int(input())\n",
    "    inp = input()\n",
    "    count = 1\n",
    "    mod = 10**9 + 7\n",
    "    for i in inp:\n",
    "        if i in \"cglr\":\n",
    "            count = count*2%mod\n",
    "    print(count)"
   ]
  },
  {
   "cell_type": "code",
   "execution_count": null,
   "id": "0b3dfeae",
   "metadata": {},
   "outputs": [],
   "source": [
    "#Closest vowel\n",
    "\n",
    "for t in range(int(input())):\n",
    "    N = int(input())\n",
    "    S = input()\n",
    "    count = 1\n",
    "    mod = 10**9 + 7\n",
    "    for i in S:\n",
    "        if i in \"cglr\":\n",
    "            count = ((count*2)%mod)\n",
    "    print(count)"
   ]
  },
  {
   "cell_type": "code",
   "execution_count": 1,
   "id": "9bc6ed44",
   "metadata": {},
   "outputs": [
    {
     "name": "stdout",
     "output_type": "stream",
     "text": [
      "2\n",
      "8 4\n",
      "1 2 0\n",
      "1 3 1\n",
      "1 6 1\n",
      "3 4 0\n",
      "3 5 1\n",
      "4 7 1\n",
      "4 8 1\n",
      "1\n",
      "6 3\n",
      "1 2 0\n",
      "1 3 0\n",
      "2 4 0\n",
      "2 5 1\n",
      "3 6 1\n",
      "-1\n"
     ]
    }
   ],
   "source": [
    "for t in range(int(input())):\n",
    "    n, k = map(int,input().split())\n",
    "    count = 1\n",
    "    for i in range(n-1):\n",
    "        u, v, x = list(map(int,input().split()))\n",
    "        if x == 0:\n",
    "            count+=1\n",
    "    if count < k:\n",
    "        print(1)\n",
    "    else:\n",
    "        print(-1)\n",
    "            \n",
    "\n"
   ]
  },
  {
   "cell_type": "code",
   "execution_count": null,
   "id": "612af07b",
   "metadata": {},
   "outputs": [],
   "source": [
    "for _ in range(int(input())):\n",
    "    name = list(int(input()))\n",
    "    score = list(int(input()))\n",
    "    l = []"
   ]
  },
  {
   "cell_type": "code",
   "execution_count": null,
   "id": "1bc63d3a",
   "metadata": {},
   "outputs": [],
   "source": [
    "for i in range(int(input())):\n",
    "    x = map(int,input().split())\n",
    "    if x <= 1600:\n",
    "        print(\"Yes\")\n",
    "    else:\n",
    "        print(\"No\")"
   ]
  },
  {
   "cell_type": "code",
   "execution_count": 6,
   "id": "a3c89005",
   "metadata": {},
   "outputs": [
    {
     "name": "stdout",
     "output_type": "stream",
     "text": [
      "1\n",
      "4\n"
     ]
    },
    {
     "ename": "ValueError",
     "evalue": "not enough values to unpack (expected 2, got 1)",
     "output_type": "error",
     "traceback": [
      "\u001b[1;31m---------------------------------------------------------------------------\u001b[0m",
      "\u001b[1;31mValueError\u001b[0m                                Traceback (most recent call last)",
      "\u001b[1;32m<ipython-input-6-caa7b51b551c>\u001b[0m in \u001b[0;36m<module>\u001b[1;34m\u001b[0m\n\u001b[0;32m      1\u001b[0m \u001b[1;32mimport\u001b[0m \u001b[0mnumpy\u001b[0m \u001b[1;32mas\u001b[0m \u001b[0mnp\u001b[0m\u001b[1;33m\u001b[0m\u001b[1;33m\u001b[0m\u001b[0m\n\u001b[0;32m      2\u001b[0m \u001b[1;32mfor\u001b[0m \u001b[0mi\u001b[0m \u001b[1;32min\u001b[0m \u001b[0mrange\u001b[0m\u001b[1;33m(\u001b[0m\u001b[0mint\u001b[0m\u001b[1;33m(\u001b[0m\u001b[0minput\u001b[0m\u001b[1;33m(\u001b[0m\u001b[1;33m)\u001b[0m\u001b[1;33m)\u001b[0m\u001b[1;33m)\u001b[0m\u001b[1;33m:\u001b[0m\u001b[1;33m\u001b[0m\u001b[1;33m\u001b[0m\u001b[0m\n\u001b[1;32m----> 3\u001b[1;33m     \u001b[0mn\u001b[0m\u001b[1;33m,\u001b[0m \u001b[0mk\u001b[0m \u001b[1;33m=\u001b[0m \u001b[0mmap\u001b[0m\u001b[1;33m(\u001b[0m\u001b[0mint\u001b[0m\u001b[1;33m,\u001b[0m\u001b[0minput\u001b[0m\u001b[1;33m(\u001b[0m\u001b[1;33m)\u001b[0m\u001b[1;33m.\u001b[0m\u001b[0msplit\u001b[0m\u001b[1;33m(\u001b[0m\u001b[1;33m)\u001b[0m\u001b[1;33m)\u001b[0m\u001b[1;33m\u001b[0m\u001b[1;33m\u001b[0m\u001b[0m\n\u001b[0m\u001b[0;32m      4\u001b[0m     \u001b[0ml2\u001b[0m \u001b[1;33m=\u001b[0m \u001b[1;33m[\u001b[0m\u001b[1;33m]\u001b[0m\u001b[1;33m\u001b[0m\u001b[1;33m\u001b[0m\u001b[0m\n\u001b[0;32m      5\u001b[0m     \u001b[1;32mfor\u001b[0m \u001b[0mval\u001b[0m \u001b[1;32min\u001b[0m \u001b[0mrange\u001b[0m\u001b[1;33m(\u001b[0m\u001b[1;36m1\u001b[0m\u001b[1;33m,\u001b[0m\u001b[0mn\u001b[0m\u001b[1;33m+\u001b[0m\u001b[1;36m1\u001b[0m\u001b[1;33m)\u001b[0m\u001b[1;33m:\u001b[0m\u001b[1;33m\u001b[0m\u001b[1;33m\u001b[0m\u001b[0m\n",
      "\u001b[1;31mValueError\u001b[0m: not enough values to unpack (expected 2, got 1)"
     ]
    }
   ],
   "source": [
    "import numpy as np\n",
    "for i in range(int(input())):\n",
    "    n, k = map(int,input().split())\n",
    "    l2 = []\n",
    "    for val in range(1,n+1):\n",
    "        l2.append(val)\n",
    "    matrix = []\n",
    "    l2 = l3\n",
    "    for i in range(len(l2)):\n",
    "        matrix.append([l2[i], l3[i]])\n",
    "print(matrix)"
   ]
  },
  {
   "cell_type": "code",
   "execution_count": 7,
   "id": "00ae896f",
   "metadata": {},
   "outputs": [],
   "source": [
    "matrix = []\n",
    "l2 = l3\n",
    "for i in range(len(l2)):\n",
    "    matrix.append([l2[i], l3[i]])"
   ]
  },
  {
   "cell_type": "code",
   "execution_count": 9,
   "id": "7471d832",
   "metadata": {},
   "outputs": [
    {
     "name": "stdout",
     "output_type": "stream",
     "text": [
      "1\n",
      "4 0\n",
      "[[1 2 3 4]\n",
      " [1 2 3 4]]\n"
     ]
    }
   ],
   "source": [
    "import numpy as np\n",
    "for i in range(int(input())):\n",
    "    n, k = map(int,input().split())\n",
    "    l2 = []\n",
    "    l3 = []\n",
    "    for val in range(1,n+1):\n",
    "        l2.append(val)\n",
    "        l3.append(val)\n",
    "    matrix = np.row_stack((l2, l3))\n",
    "print(matrix)\n",
    "\n"
   ]
  },
  {
   "cell_type": "code",
   "execution_count": 14,
   "id": "4c47ab95",
   "metadata": {},
   "outputs": [
    {
     "name": "stdout",
     "output_type": "stream",
     "text": [
      "2\n",
      "The created matrix of 2 * 2: \n",
      "[1, 2]\n",
      "[3, 4]\n"
     ]
    }
   ],
   "source": [
    "n = int(input())\n",
    "matrix = [list(range(1 + n * i, 1 + n * (i + 1))) for i in range(n)]\n",
    "print(\"The created matrix of {} * {}: \".format(n,n))\n",
    "for m in matrix:\n",
    "    print(m)\n",
    "    \n"
   ]
  },
  {
   "cell_type": "code",
   "execution_count": null,
   "id": "eeb55157",
   "metadata": {},
   "outputs": [
    {
     "name": "stdout",
     "output_type": "stream",
     "text": [
      "3\n",
      "7 9\n",
      "Yes\n",
      "6 6\n",
      "No\n"
     ]
    }
   ],
   "source": [
    "for i in range(int(input())):\n",
    "    x, y = map(int,input().split())\n",
    "    if y > x:\n",
    "        print(\"Yes\")\n",
    "    else:\n",
    "        print(\"No\")"
   ]
  },
  {
   "cell_type": "code",
   "execution_count": 2,
   "id": "d5a618ae",
   "metadata": {},
   "outputs": [
    {
     "name": "stdout",
     "output_type": "stream",
     "text": [
      "4\n",
      "10 10 10\n",
      "15\n",
      "3 1 8\n",
      "3\n",
      "8 1 3\n",
      "16\n",
      "4 4 1000\n",
      "0\n"
     ]
    }
   ],
   "source": [
    "for i in range(int(input())):\n",
    "    x, y, z = map(int,input().split())\n",
    "    x = 5*x\n",
    "    y = 10*y\n",
    "    f = x+y\n",
    "    n = f//z\n",
    "    if z <= f:\n",
    "        print(n)\n",
    "    else:\n",
    "        print(\"0\")"
   ]
  },
  {
   "cell_type": "code",
   "execution_count": 3,
   "id": "f826af6d",
   "metadata": {},
   "outputs": [
    {
     "ename": "SyntaxError",
     "evalue": "invalid syntax (<ipython-input-3-2792076c046a>, line 2)",
     "output_type": "error",
     "traceback": [
      "\u001b[1;36m  File \u001b[1;32m\"<ipython-input-3-2792076c046a>\"\u001b[1;36m, line \u001b[1;32m2\u001b[0m\n\u001b[1;33m    10 10 10\u001b[0m\n\u001b[1;37m       ^\u001b[0m\n\u001b[1;31mSyntaxError\u001b[0m\u001b[1;31m:\u001b[0m invalid syntax\n"
     ]
    }
   ],
   "source": [
    "4\n",
    "10 10 10\n",
    "3 1 8\n",
    "8 1 3\n",
    "4 4 1000"
   ]
  },
  {
   "cell_type": "code",
   "execution_count": 4,
   "id": "3bd78b8c",
   "metadata": {},
   "outputs": [
    {
     "name": "stdout",
     "output_type": "stream",
     "text": [
      "4\n",
      "5 10 2 12\n",
      "P\n",
      "10 30 15 15\n",
      "Q\n",
      "20 8 4 20\n",
      "P\n",
      "6 6 6 6\n",
      "TIE\n"
     ]
    }
   ],
   "source": [
    "for i in range(int(input())):\n",
    "    pa, pb, qa, qb = map(int,input().split())\n",
    "    if pb < qb:\n",
    "        print(\"P\")\n",
    "    elif pb > qb:\n",
    "        print(\"Q\")\n",
    "    else:\n",
    "        print(\"TIE\")\n",
    "    "
   ]
  },
  {
   "cell_type": "code",
   "execution_count": null,
   "id": "b7a7fa19",
   "metadata": {},
   "outputs": [],
   "source": [
    "4\n",
    "5 10 2 12\n",
    "10 30 15 15\n",
    "20 8 4 20\n",
    "6 6 6 6\n",
    "Sample Output 1 \n",
    "P\n",
    "Q\n",
    "TIE\n",
    "TIE"
   ]
  }
 ],
 "metadata": {
  "kernelspec": {
   "display_name": "Python 3",
   "language": "python",
   "name": "python3"
  },
  "language_info": {
   "codemirror_mode": {
    "name": "ipython",
    "version": 3
   },
   "file_extension": ".py",
   "mimetype": "text/x-python",
   "name": "python",
   "nbconvert_exporter": "python",
   "pygments_lexer": "ipython3",
   "version": "3.8.8"
  }
 },
 "nbformat": 4,
 "nbformat_minor": 5
}
