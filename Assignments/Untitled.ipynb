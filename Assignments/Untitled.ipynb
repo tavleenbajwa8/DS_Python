{
 "cells": [
  {
   "cell_type": "code",
   "execution_count": null,
   "id": "9476e05a",
   "metadata": {},
   "outputs": [],
   "source": [
    "def is_leap(year):\n",
    "    leap = False\n",
    "    \n",
    "    if year%400 == 0:\n",
    "        leap = True\n",
    "    \n",
    "    elif year%100 == 0:\n",
    "        leap = False\n",
    "    \n",
    "    elif year%4 == 0:\n",
    "        leap = True\n",
    "    \n",
    "    \n",
    "    return leap"
   ]
  },
  {
   "cell_type": "code",
   "execution_count": null,
   "id": "560f0fc1",
   "metadata": {},
   "outputs": [],
   "source": [
    "is_leap(1900)"
   ]
  },
  {
   "cell_type": "code",
   "execution_count": null,
   "id": "7cb0f984",
   "metadata": {},
   "outputs": [],
   "source": [
    "n = 5\n",
    "for i in range(1,n+1):\n",
    "    print(i,end=\"\")"
   ]
  },
  {
   "cell_type": "code",
   "execution_count": null,
   "id": "46a95d65",
   "metadata": {},
   "outputs": [],
   "source": [
    "n = int(input())\n",
    "arr = map(int,input().split())\n",
    "for i in arr:\n",
    "    if i < arr(max):\n",
    "        print(i)"
   ]
  },
  {
   "cell_type": "code",
   "execution_count": null,
   "id": "40312410",
   "metadata": {},
   "outputs": [],
   "source": [
    "n = int(input())\n",
    "arr = map(int,input().split())"
   ]
  },
  {
   "cell_type": "code",
   "execution_count": null,
   "id": "3904d4b2",
   "metadata": {},
   "outputs": [],
   "source": [
    "l = [12, 56, 77, 6]\n",
    "l.sort()\n",
    "l"
   ]
  },
  {
   "cell_type": "code",
   "execution_count": null,
   "id": "a29a3232",
   "metadata": {},
   "outputs": [],
   "source": [
    "for i in l:\n",
    "    return list[list.index()]"
   ]
  },
  {
   "cell_type": "code",
   "execution_count": null,
   "id": "559fad26",
   "metadata": {},
   "outputs": [],
   "source": [
    "if __name__ == '__main__':\n",
    "    x = int(raw_input())\n",
    "    y = int(raw_input())\n",
    "    z = int(raw_input())\n",
    "    n = int(raw_input())\n",
    "    \n",
    "l = []\n",
    "for i in range(0, x + 1):\n",
    "    for j in range(0, y + 1):\n",
    "        for k in range(0, z + 1):\n",
    "            if i + j + k != n:\n",
    "                l.append([i, j, k])\n",
    "print(l)\n",
    "                "
   ]
  },
  {
   "cell_type": "code",
   "execution_count": null,
   "id": "7be098ee",
   "metadata": {},
   "outputs": [],
   "source": [
    "l = [2,3,4,5,6,6]"
   ]
  },
  {
   "cell_type": "code",
   "execution_count": null,
   "id": "15dd30b7",
   "metadata": {},
   "outputs": [],
   "source": [
    "l.index[1]"
   ]
  },
  {
   "cell_type": "code",
   "execution_count": null,
   "id": "dd7c1290",
   "metadata": {},
   "outputs": [],
   "source": [
    "\n",
    "arr = [2,3,4,5,6,6]\n",
    "indices = [v for i,v in enumerate(arr) if v != max(arr)]\n",
    "print(max(indices))"
   ]
  },
  {
   "cell_type": "code",
   "execution_count": null,
   "id": "8bac9547",
   "metadata": {},
   "outputs": [],
   "source": [
    "x = [2,3,4,5,5,6,7,7]"
   ]
  },
  {
   "cell_type": "code",
   "execution_count": null,
   "id": "9404062a",
   "metadata": {},
   "outputs": [],
   "source": [
    "l = []\n",
    "for i in x:\n",
    "    if i != max(x):\n",
    "        l.append(i)\n",
    "print(max(l))"
   ]
  },
  {
   "cell_type": "code",
   "execution_count": null,
   "id": "78b8c349",
   "metadata": {},
   "outputs": [],
   "source": [
    "arr = [2,3,4,5,6,6]\n",
    "l = [for i in arr if i != max(arr)]"
   ]
  },
  {
   "cell_type": "code",
   "execution_count": null,
   "id": "f27ee898",
   "metadata": {},
   "outputs": [],
   "source": [
    "if v != max(arr):\n",
    "    for i,v in enumerate(arr):\n",
    "        print(v)"
   ]
  },
  {
   "cell_type": "code",
   "execution_count": null,
   "id": "4ee69c1f",
   "metadata": {},
   "outputs": [],
   "source": [
    "arr"
   ]
  },
  {
   "cell_type": "code",
   "execution_count": null,
   "id": "6a052c36",
   "metadata": {},
   "outputs": [],
   "source": [
    "records = [[\"Harry\", 5], [\"Berry\", 37.21], [\"Tina\", 37.21], [\"Akriti\", 41]]\n",
    "l1 = []\n",
    "for i in records:\n",
    "    l1.append(i[1])\n",
    "l1 = set(l1)\n",
    "l1 = sorted(l1)\n",
    "print(l1)\n",
    "\n",
    "l = []\n",
    "second_lowest = l1[1]\n",
    "for i in records:\n",
    "    if i[1] == second_lowest:\n",
    "        l.append(i[0])\n",
    "print(l)\n",
    "        "
   ]
  },
  {
   "cell_type": "code",
   "execution_count": null,
   "id": "80ccc9c5",
   "metadata": {},
   "outputs": [],
   "source": [
    "l1[2]"
   ]
  },
  {
   "cell_type": "code",
   "execution_count": null,
   "id": "3861b0db",
   "metadata": {},
   "outputs": [],
   "source": [
    "for i in l:\n",
    "    if i[1] == :\n",
    "        print(i)"
   ]
  },
  {
   "cell_type": "code",
   "execution_count": null,
   "id": "1c3da7f2",
   "metadata": {},
   "outputs": [],
   "source": [
    "sorted(records)"
   ]
  },
  {
   "cell_type": "code",
   "execution_count": null,
   "id": "e6924b7d",
   "metadata": {},
   "outputs": [],
   "source": []
  },
  {
   "cell_type": "code",
   "execution_count": null,
   "id": "7fd94a9b",
   "metadata": {},
   "outputs": [],
   "source": [
    " if i[1] == min(l):\n",
    "        print(i[0])"
   ]
  },
  {
   "cell_type": "code",
   "execution_count": null,
   "id": "43374f37",
   "metadata": {},
   "outputs": [],
   "source": []
  },
  {
   "cell_type": "code",
   "execution_count": null,
   "id": "694fc27d",
   "metadata": {},
   "outputs": [],
   "source": [
    "records = [[\"benn\", 30], [\"penn\", 20], [\"kenn\", 10]]"
   ]
  },
  {
   "cell_type": "code",
   "execution_count": null,
   "id": "20953d26",
   "metadata": {},
   "outputs": [],
   "source": [
    "for i in records:\n",
    "    print(i[1])"
   ]
  },
  {
   "cell_type": "code",
   "execution_count": null,
   "id": "9c61c70c",
   "metadata": {},
   "outputs": [],
   "source": [
    "arr = set(arr)"
   ]
  },
  {
   "cell_type": "code",
   "execution_count": null,
   "id": "5b55dbb2",
   "metadata": {},
   "outputs": [],
   "source": [
    "arr"
   ]
  },
  {
   "cell_type": "code",
   "execution_count": null,
   "id": "49507327",
   "metadata": {},
   "outputs": [],
   "source": [
    "arr = list(arr)"
   ]
  },
  {
   "cell_type": "code",
   "execution_count": null,
   "id": "d70babd1",
   "metadata": {},
   "outputs": [],
   "source": [
    "arr[-2]"
   ]
  },
  {
   "cell_type": "code",
   "execution_count": null,
   "id": "ba107e1f",
   "metadata": {},
   "outputs": [],
   "source": [
    "n = int(input())\n",
    "student_marks = {}\n",
    "for _ in range(n):\n",
    "    line = input().split()\n",
    "    name, scores = line[0], line[1:]\n",
    "    scores = map(float, scores)\n",
    "    student_marks[name] = scores\n",
    "query_name = input()\n",
    "\n",
    "for i in student_marks.keys():\n",
    "        if i == query_name:\n",
    "            counter = 0\n",
    "            for j in i:\n",
    "                counter = counter + j\n",
    "            print(counter)"
   ]
  },
  {
   "cell_type": "code",
   "execution_count": null,
   "id": "535b4d2d",
   "metadata": {},
   "outputs": [],
   "source": [
    "n = int(input())\n",
    "student_marks = {}\n",
    "for _ in range(n):\n",
    "    line = input().split()\n",
    "    name, scores = line[0], line[1:]\n",
    "    scores = map(float, scores)\n",
    "    student_marks[name] = scores\n",
    "query_name = input()"
   ]
  },
  {
   "cell_type": "code",
   "execution_count": null,
   "id": "35538e6a",
   "metadata": {},
   "outputs": [],
   "source": [
    "student_marks"
   ]
  },
  {
   "cell_type": "code",
   "execution_count": null,
   "id": "109c8ea7",
   "metadata": {},
   "outputs": [],
   "source": [
    "l = []\n",
    "for i in student_marks.keys():\n",
    "    if i == query_name:\n",
    "        l.append(student_marks[i])\n",
    "        counter = 0\n",
    "for j in l:\n",
    "    if type(j) == int:\n",
    "        counter = counter + j\n",
    "print(counter/len(l))\n",
    "        \n",
    "        \n",
    "            \n"
   ]
  },
  {
   "cell_type": "code",
   "execution_count": null,
   "id": "53c3808b",
   "metadata": {},
   "outputs": [],
   "source": [
    "l"
   ]
  },
  {
   "cell_type": "code",
   "execution_count": null,
   "id": "19787fd6",
   "metadata": {},
   "outputs": [],
   "source": [
    "counter = 0\n",
    "for j in l:\n",
    "    if type(j) == int:\n",
    "        counter = counter + j\n",
    "    print(counter/len(l))"
   ]
  },
  {
   "cell_type": "code",
   "execution_count": null,
   "id": "cdb9d104",
   "metadata": {},
   "outputs": [],
   "source": [
    "counter"
   ]
  },
  {
   "cell_type": "code",
   "execution_count": 6,
   "id": "feba0ced",
   "metadata": {},
   "outputs": [
    {
     "name": "stdout",
     "output_type": "stream",
     "text": [
      "4\n",
      "s\n",
      "-25.001\n",
      "m\n",
      "-25.0001\n",
      "min\n",
      "-25.000\n",
      "r\n",
      "-25.0\n",
      "[-25.0001, -25.0, -25.0]\n",
      "min\n",
      "r\n"
     ]
    }
   ],
   "source": [
    "records = [[input(), float(input())] for _ in range(int(input()))]\n",
    "new = []\n",
    "l = []\n",
    "for i in records:\n",
    "    new.append(i[1])\n",
    "    new.sort()\n",
    "#l.pop(0)\n",
    "for k in new:\n",
    "    if k != min(new):\n",
    "        l.append(k)\n",
    "print(l)\n",
    "\n",
    "l2 = []\n",
    "for j in l:\n",
    "    if l[0] > 0:\n",
    "        if j == l[0]:\n",
    "            l2.append(j)\n",
    "    else:\n",
    "        if j == l[-1]:\n",
    "            l2.append(j)\n",
    "\n",
    "l2 = set(l2)\n",
    "\n",
    "l3 = []\n",
    "for num in l2:\n",
    "    for num1 in records:\n",
    "        if num == num1[1]:\n",
    "            l3.append(num1[0]) \n",
    "l3.sort()\n",
    "\n",
    "\n",
    "for i in l3:\n",
    "    print(i)\n",
    "\n"
   ]
  },
  {
   "cell_type": "code",
   "execution_count": 7,
   "id": "1cae56d7",
   "metadata": {},
   "outputs": [
    {
     "name": "stdout",
     "output_type": "stream",
     "text": [
      "5\n",
      "Harry\n",
      "37.21\n",
      "Berry \n",
      "37.21\n",
      "Tina\n",
      "37.2\n",
      "A\n",
      "41\n",
      "H\n",
      "39\n",
      "[37.2, 37.21, 37.21, 39.0, 41.0]\n"
     ]
    }
   ],
   "source": [
    "records = [[input(), float(input())] for _ in range(int(input()))]\n",
    "l = []\n",
    "for i in records:\n",
    "    l.append(i[1])\n",
    "    l.sort()\n",
    "#l.pop(0)\n",
    "print(l)"
   ]
  },
  {
   "cell_type": "code",
   "execution_count": 9,
   "id": "e492fc58",
   "metadata": {},
   "outputs": [
    {
     "name": "stdout",
     "output_type": "stream",
     "text": [
      "5\n",
      "H\n",
      "20\n",
      "b\n",
      "20\n",
      "v\n",
      "19\n",
      "k\n",
      "19\n",
      "vi\n",
      "21\n"
     ]
    },
    {
     "ename": "TypeError",
     "evalue": "integer argument expected, got float",
     "output_type": "error",
     "traceback": [
      "\u001b[1;31m---------------------------------------------------------------------------\u001b[0m",
      "\u001b[1;31mTypeError\u001b[0m                                 Traceback (most recent call last)",
      "\u001b[1;32m<ipython-input-9-309df91932b9>\u001b[0m in \u001b[0;36m<module>\u001b[1;34m\u001b[0m\n\u001b[0;32m      6\u001b[0m \u001b[1;32mfor\u001b[0m \u001b[0mi\u001b[0m \u001b[1;32min\u001b[0m \u001b[0ml\u001b[0m\u001b[1;33m:\u001b[0m\u001b[1;33m\u001b[0m\u001b[1;33m\u001b[0m\u001b[0m\n\u001b[0;32m      7\u001b[0m     \u001b[1;32mif\u001b[0m \u001b[0mi\u001b[0m \u001b[1;33m==\u001b[0m \u001b[0mmin\u001b[0m\u001b[1;33m(\u001b[0m\u001b[0ml\u001b[0m\u001b[1;33m)\u001b[0m\u001b[1;33m:\u001b[0m\u001b[1;33m\u001b[0m\u001b[1;33m\u001b[0m\u001b[0m\n\u001b[1;32m----> 8\u001b[1;33m         \u001b[0ml\u001b[0m\u001b[1;33m.\u001b[0m\u001b[0mpop\u001b[0m\u001b[1;33m(\u001b[0m\u001b[0mi\u001b[0m\u001b[1;33m)\u001b[0m\u001b[1;33m\u001b[0m\u001b[1;33m\u001b[0m\u001b[0m\n\u001b[0m\u001b[0;32m      9\u001b[0m \u001b[1;33m\u001b[0m\u001b[0m\n\u001b[0;32m     10\u001b[0m \u001b[1;31m#l.pop(0)\u001b[0m\u001b[1;33m\u001b[0m\u001b[1;33m\u001b[0m\u001b[1;33m\u001b[0m\u001b[0m\n",
      "\u001b[1;31mTypeError\u001b[0m: integer argument expected, got float"
     ]
    }
   ],
   "source": [
    "records = [[input(), float(input())] for _ in range(int(input()))]\n",
    "l = []\n",
    "for i in records:\n",
    "    l.append(i[1])\n",
    "    l.sort()\n",
    "for i in l:\n",
    "    if i == min(l):\n",
    "        l.pop(i)\n",
    "\n",
    "#l.pop(0)\n",
    "print(l)"
   ]
  },
  {
   "cell_type": "code",
   "execution_count": 12,
   "id": "a0dac6ea",
   "metadata": {},
   "outputs": [
    {
     "name": "stdout",
     "output_type": "stream",
     "text": [
      "[37.21, 37.21, 39.0, 41.0]\n"
     ]
    }
   ],
   "source": [
    "new = []\n",
    "x = [37.2,37.2, 37.21, 37.21, 39.0, 41.0]\n",
    "min(x)\n",
    "for i in x:\n",
    "    if i != min(x):\n",
    "        new.append(i)\n",
    "print(new)"
   ]
  },
  {
   "cell_type": "code",
   "execution_count": 6,
   "id": "20ae3bdb",
   "metadata": {},
   "outputs": [
    {
     "name": "stdout",
     "output_type": "stream",
     "text": [
      "[37.21, 37.21]\n"
     ]
    }
   ],
   "source": [
    "l = [37.21, 37.21, 39.0, 41.0]\n",
    "l2 = []\n",
    "for j in l:\n",
    "    if l[0] > 0:\n",
    "        if j == l[0]:\n",
    "            l2.append(j)\n",
    "    else:\n",
    "        if j == l[-1]:\n",
    "            l2.append(j)\n",
    "print(l2)"
   ]
  },
  {
   "cell_type": "code",
   "execution_count": null,
   "id": "beadf568",
   "metadata": {},
   "outputs": [],
   "source": [
    "records = [[input(), float(input())] for _ in range(int(input()))]\n",
    "l = []\n",
    "for i in records:\n",
    "    l.append(i[1])\n",
    "    l.sort()\n",
    "l.pop(0)\n",
    "print(l)"
   ]
  },
  {
   "cell_type": "code",
   "execution_count": 11,
   "id": "f586035f",
   "metadata": {},
   "outputs": [
    {
     "ename": "NameError",
     "evalue": "name 'raw_input' is not defined",
     "output_type": "error",
     "traceback": [
      "\u001b[1;31m---------------------------------------------------------------------------\u001b[0m",
      "\u001b[1;31mNameError\u001b[0m                                 Traceback (most recent call last)",
      "\u001b[1;32m<ipython-input-11-e770c038b69a>\u001b[0m in \u001b[0;36m<module>\u001b[1;34m\u001b[0m\n\u001b[1;32m----> 1\u001b[1;33m \u001b[0mrecords\u001b[0m \u001b[1;33m=\u001b[0m \u001b[1;33m[\u001b[0m\u001b[1;33m[\u001b[0m\u001b[0mraw_input\u001b[0m\u001b[1;33m(\u001b[0m\u001b[1;33m)\u001b[0m\u001b[1;33m,\u001b[0m \u001b[0mfloat\u001b[0m\u001b[1;33m(\u001b[0m\u001b[0mraw_input\u001b[0m\u001b[1;33m(\u001b[0m\u001b[1;33m)\u001b[0m\u001b[1;33m)\u001b[0m\u001b[1;33m]\u001b[0m \u001b[1;32mfor\u001b[0m \u001b[0m_\u001b[0m \u001b[1;32min\u001b[0m \u001b[0mrange\u001b[0m\u001b[1;33m(\u001b[0m\u001b[0mint\u001b[0m\u001b[1;33m(\u001b[0m\u001b[0mraw_input\u001b[0m\u001b[1;33m(\u001b[0m\u001b[1;33m)\u001b[0m\u001b[1;33m)\u001b[0m\u001b[1;33m)\u001b[0m\u001b[1;33m]\u001b[0m\u001b[1;33m\u001b[0m\u001b[1;33m\u001b[0m\u001b[0m\n\u001b[0m\u001b[0;32m      2\u001b[0m \u001b[0mnew\u001b[0m \u001b[1;33m=\u001b[0m \u001b[1;33m[\u001b[0m\u001b[1;33m]\u001b[0m\u001b[1;33m\u001b[0m\u001b[1;33m\u001b[0m\u001b[0m\n\u001b[0;32m      3\u001b[0m \u001b[0ml\u001b[0m \u001b[1;33m=\u001b[0m \u001b[1;33m[\u001b[0m\u001b[1;33m]\u001b[0m\u001b[1;33m\u001b[0m\u001b[1;33m\u001b[0m\u001b[0m\n\u001b[0;32m      4\u001b[0m \u001b[1;32mfor\u001b[0m \u001b[0mi\u001b[0m \u001b[1;32min\u001b[0m \u001b[0mrecords\u001b[0m\u001b[1;33m:\u001b[0m\u001b[1;33m\u001b[0m\u001b[1;33m\u001b[0m\u001b[0m\n\u001b[0;32m      5\u001b[0m     \u001b[0mnew\u001b[0m\u001b[1;33m.\u001b[0m\u001b[0mappend\u001b[0m\u001b[1;33m(\u001b[0m\u001b[0mi\u001b[0m\u001b[1;33m[\u001b[0m\u001b[1;36m1\u001b[0m\u001b[1;33m]\u001b[0m\u001b[1;33m)\u001b[0m\u001b[1;33m\u001b[0m\u001b[1;33m\u001b[0m\u001b[0m\n",
      "\u001b[1;31mNameError\u001b[0m: name 'raw_input' is not defined"
     ]
    }
   ],
   "source": [
    "records = [[raw_input(), float(raw_input())] for _ in range(int(raw_input()))]\n",
    "new = []\n",
    "l = []\n",
    "for i in records:\n",
    "    new.append(i[1])\n",
    "    new.sort()\n",
    "print(new)\n",
    "for k in new:\n",
    "    if k != min(new):\n",
    "        l.append(k)\n",
    "print(l)\n",
    "\n",
    "second_lowest = 0\n",
    "for j in l:\n",
    "    if j == min(l):\n",
    "        second_lowest = j\n",
    "        \n",
    "c\n",
    "for x in records:\n",
    "    if second_lowest == x[1]:\n",
    "        final.append(x[0])\n",
    "print(final)\n"
   ]
  },
  {
   "cell_type": "code",
   "execution_count": 5,
   "id": "04a88521",
   "metadata": {},
   "outputs": [
    {
     "data": {
      "text/plain": [
       "True"
      ]
     },
     "execution_count": 5,
     "metadata": {},
     "output_type": "execute_result"
    }
   ],
   "source": [
    "-25.0001 > -25.001"
   ]
  },
  {
   "cell_type": "code",
   "execution_count": null,
   "id": "0ce51007",
   "metadata": {},
   "outputs": [],
   "source": []
  }
 ],
 "metadata": {
  "kernelspec": {
   "display_name": "Python 3",
   "language": "python",
   "name": "python3"
  },
  "language_info": {
   "codemirror_mode": {
    "name": "ipython",
    "version": 3
   },
   "file_extension": ".py",
   "mimetype": "text/x-python",
   "name": "python",
   "nbconvert_exporter": "python",
   "pygments_lexer": "ipython3",
   "version": "3.8.8"
  }
 },
 "nbformat": 4,
 "nbformat_minor": 5
}
