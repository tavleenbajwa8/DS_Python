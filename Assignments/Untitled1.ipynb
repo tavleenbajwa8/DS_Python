{
 "cells": [
  {
   "cell_type": "code",
   "execution_count": null,
   "id": "df4c830d",
   "metadata": {},
   "outputs": [],
   "source": [
    "while type(input()) != int:\n"
   ]
  },
  {
   "cell_type": "code",
   "execution_count": null,
   "id": "8137ad5c",
   "metadata": {},
   "outputs": [],
   "source": [
    "try:\n",
    "    while True:\n",
    "        if type(input()) != int:\n",
    "            "
   ]
  },
  {
   "cell_type": "code",
   "execution_count": null,
   "id": "aa17cc2c",
   "metadata": {},
   "outputs": [],
   "source": [
    "inp = input()\n",
    "while type(inp) != int:\n",
    "    inp = input()"
   ]
  },
  {
   "cell_type": "code",
   "execution_count": null,
   "id": "d7a17763",
   "metadata": {},
   "outputs": [],
   "source": [
    "flag = True\n",
    "while flag:\n",
    "    try:\n",
    "        inp = int(input())\n",
    "        if type(inp) == int:\n",
    "            flag = False\n",
    "    except Exception as e:\n",
    "        print(e)"
   ]
  },
  {
   "cell_type": "code",
   "execution_count": null,
   "id": "81c159c1",
   "metadata": {},
   "outputs": [],
   "source": [
    "required_number = int(input())\n",
    "\n",
    "while True:\n",
    "    number = input()\n",
    "    if number == required_number:\n",
    "        print (\"GOT IT\")\n",
    "        break\n",
    "    else:\n",
    "        print (\"Wrong number try again\")"
   ]
  },
  {
   "cell_type": "code",
   "execution_count": null,
   "id": "bee82e24",
   "metadata": {},
   "outputs": [],
   "source": [
    "s = set(\"Hacker\")\n",
    "print(s.symmetric_difference(\"Rank\"))"
   ]
  },
  {
   "cell_type": "code",
   "execution_count": null,
   "id": "bfff4400",
   "metadata": {},
   "outputs": [],
   "source": [
    "print(s.symmetric_difference(set(['R', 'a', 'n', 'k'])))"
   ]
  },
  {
   "cell_type": "code",
   "execution_count": null,
   "id": "30ab63cc",
   "metadata": {},
   "outputs": [],
   "source": [
    "englist_news = int(raw_input())\n",
    "roll_no = list(map(int,raw_input().split()))\n",
    "french_news = int(raw_input())\n",
    "roll_no2 = list((map(int,raw_input().split())))\n",
    "eng = set(roll_no)\n",
    "print(len(eng.symmetric_difference(set(roll_no2))))"
   ]
  },
  {
   "cell_type": "code",
   "execution_count": null,
   "id": "a8a1b4ae",
   "metadata": {},
   "outputs": [],
   "source": [
    "a_no = int(input())\n",
    "a = set(map(int,input().split()))\n",
    "n_no = int(input())\n",
    "\n",
    "intersection = map(str,input().split())\n",
    "a1_inter = set(map(int,input().split()))\n",
    "a.intersection_update(a1_inter)\n",
    "\n",
    "update = map(str,input().split())\n",
    "a1_update = set(map(int,input().split()))\n",
    "a.update(a1_update)\n",
    "\n",
    "symm_diff = map(str,input().split())\n",
    "a1_symm_diff = set(map(int,input().split()))\n",
    "a.symmetric_difference_update(a1_symm_diff)\n",
    "\n",
    "diff_update = map(str,input().split())\n",
    "a1_diff_update = set(map(int,input().split()))\n",
    "a.difference_update(a1_diff_update)\n",
    "\n",
    "print(sum(a))\n",
    "\n"
   ]
  },
  {
   "cell_type": "code",
   "execution_count": 2,
   "id": "b6908b8a",
   "metadata": {},
   "outputs": [
    {
     "name": "stdout",
     "output_type": "stream",
     "text": [
      "1\n",
      "insert  5\n",
      "[]\n",
      "['5']\n"
     ]
    }
   ],
   "source": [
    "N = int(input())\n",
    "for i in range(N):\n",
    "    l = []\n",
    "    x = list(input().split())\n",
    "    for k in x:\n",
    "        if x[0] == \"insert\":\n",
    "            x.pop(0)\n",
    "    else: \n",
    "        if type(k) == int:\n",
    "            l.append(k)\n",
    "    print(l)\n",
    "    print(x)\n",
    "        \n",
    "    "
   ]
  },
  {
   "cell_type": "markdown",
   "id": "f724ecd0",
   "metadata": {},
   "source": [
    "## "
   ]
  },
  {
   "cell_type": "code",
   "execution_count": null,
   "id": "2de480dc",
   "metadata": {},
   "outputs": [],
   "source": [
    "N = int(input())\n",
    "l = []\n",
    "x = list(map(input().split()))\n",
    "print(x)"
   ]
  },
  {
   "cell_type": "code",
   "execution_count": 9,
   "id": "41a2ef60",
   "metadata": {},
   "outputs": [
    {
     "name": "stdout",
     "output_type": "stream",
     "text": [
      "insert 0 5\n",
      "[]\n",
      "[]\n",
      "[]\n"
     ]
    }
   ],
   "source": [
    "\n",
    "x = list(input().split())\n",
    "l = []\n",
    "if x[0] == \"insert\":\n",
    "    for i in x:\n",
    "        if type(i) == int:\n",
    "            l.append(i)\n",
    "        print(l)"
   ]
  },
  {
   "cell_type": "code",
   "execution_count": 8,
   "id": "c9df8828",
   "metadata": {},
   "outputs": [
    {
     "name": "stdout",
     "output_type": "stream",
     "text": [
      "12\n",
      "insert 0 5\n",
      "insert 1 10\n",
      "insert 0 6\n",
      "print\n",
      "remove 6\n",
      "append 9\n",
      "append 1\n",
      "sort\n",
      "print\n",
      "pop\n",
      "reverse\n",
      "print\n",
      "[6, 5, 10]\n",
      "[1, 5, 9, 10]\n",
      "[9, 5, 1]\n"
     ]
    }
   ],
   "source": [
    "N = int(input())\n",
    "command=[]\n",
    "for i in range(N):\n",
    "    command.append(input().split())\n",
    "\n",
    "result=[]\n",
    "for i in range(N):\n",
    "    if command[i][0]=='insert':\n",
    "        result.insert(int(command[i][1]),int(command[i][2]))\n",
    "    elif command[i][0]=='print':\n",
    "        print(result)\n",
    "    elif command[i][0]=='remove':\n",
    "        result.remove(int(command[i][1]))\n",
    "    elif command[i][0]=='append':\n",
    "        result.append(int(command[i][1]))\n",
    "    elif command[i][0]=='pop':\n",
    "        result.pop()\n",
    "    elif command[i][0]=='sort':\n",
    "        result.sort()\n",
    "    elif command[i][0]=='reverse':\n",
    "        result.reverse()"
   ]
  },
  {
   "cell_type": "code",
   "execution_count": 13,
   "id": "403a62bc",
   "metadata": {},
   "outputs": [
    {
     "name": "stdout",
     "output_type": "stream",
     "text": [
      "This is my name\n"
     ]
    },
    {
     "data": {
      "text/plain": [
       "'This-is-my-name'"
      ]
     },
     "execution_count": 13,
     "metadata": {},
     "output_type": "execute_result"
    }
   ],
   "source": [
    "def split_and_join(line):\n",
    "    line = line.split(\" \")\n",
    "    line = \"-\".join(line)\n",
    "    return line\n",
    "split_and_join(str(input()))"
   ]
  },
  {
   "cell_type": "code",
   "execution_count": 14,
   "id": "6b8fd16b",
   "metadata": {},
   "outputs": [
    {
     "ename": "SyntaxError",
     "evalue": "invalid syntax (<ipython-input-14-30fe40e61629>, line 1)",
     "output_type": "error",
     "traceback": [
      "\u001b[1;36m  File \u001b[1;32m\"<ipython-input-14-30fe40e61629>\"\u001b[1;36m, line \u001b[1;32m1\u001b[0m\n\u001b[1;33m    append 9\u001b[0m\n\u001b[1;37m           ^\u001b[0m\n\u001b[1;31mSyntaxError\u001b[0m\u001b[1;31m:\u001b[0m invalid syntax\n"
     ]
    }
   ],
   "source": [
    "append 9\n",
    "append 1\n",
    "sort\n",
    "print\n",
    "pop\n",
    "reverse\n",
    "print"
   ]
  },
  {
   "cell_type": "code",
   "execution_count": 23,
   "id": "812c323c",
   "metadata": {},
   "outputs": [
    {
     "name": "stdout",
     "output_type": "stream",
     "text": [
      "Roos ty\n",
      "tyler\n",
      "Hello  Roos ty tyler ! You just delved into python.\n"
     ]
    }
   ],
   "source": [
    "def print_full_name(first, last):\n",
    "    print(\"Hello\",first,last,\"! You just delved into python.\") \n",
    "print_full_name(str(input()), str(input()))\n"
   ]
  },
  {
   "cell_type": "code",
   "execution_count": 26,
   "id": "33adfb62",
   "metadata": {},
   "outputs": [
    {
     "name": "stdout",
     "output_type": "stream",
     "text": [
      "Ross\n",
      "Tyler\n"
     ]
    },
    {
     "data": {
      "text/plain": [
       "'HelloRossTyler! You just delved into python '"
      ]
     },
     "execution_count": 26,
     "metadata": {},
     "output_type": "execute_result"
    }
   ],
   "source": [
    "def print_full_name(first, last):\n",
    "    return \"Hello \"+first+last+\"! You just delved into python\" \n",
    "print_full_name(str(input()), str(input()))\n"
   ]
  },
  {
   "cell_type": "code",
   "execution_count": 2,
   "id": "cd386650",
   "metadata": {},
   "outputs": [
    {
     "name": "stdout",
     "output_type": "stream",
     "text": [
      "Ross \n",
      "tYLER\n",
      "Hello Ross  tYLER! You just delved into python.\n"
     ]
    }
   ],
   "source": [
    "def print_full_name(first,last):\n",
    "    print(\"Hello {0}{1}! You just delved into python.\".format(first, last))\n",
    "if __name__ == '__main__':\n",
    "    first_name = input()\n",
    "    last_name = input()\n",
    "    print_full_name(first_name, last_name)"
   ]
  },
  {
   "cell_type": "code",
   "execution_count": 1,
   "id": "754a8fc3",
   "metadata": {},
   "outputs": [
    {
     "ename": "SyntaxError",
     "evalue": "Missing parentheses in call to 'print'. Did you mean print(string)? (<ipython-input-1-35130b5e6751>, line 5)",
     "output_type": "error",
     "traceback": [
      "\u001b[1;36m  File \u001b[1;32m\"<ipython-input-1-35130b5e6751>\"\u001b[1;36m, line \u001b[1;32m5\u001b[0m\n\u001b[1;33m    print string\u001b[0m\n\u001b[1;37m          ^\u001b[0m\n\u001b[1;31mSyntaxError\u001b[0m\u001b[1;31m:\u001b[0m Missing parentheses in call to 'print'. Did you mean print(string)?\n"
     ]
    }
   ],
   "source": [
    "string = \"abracadabra\"\n",
    ">>> l = list(string)\n",
    ">>> l[5] = 'k'\n",
    ">>> string = ''.join(l)\n",
    ">>> print string\n",
    "abrackdabra"
   ]
  },
  {
   "cell_type": "code",
   "execution_count": 2,
   "id": "e2f980d7",
   "metadata": {},
   "outputs": [
    {
     "ename": "IndexError",
     "evalue": "string index out of range",
     "output_type": "error",
     "traceback": [
      "\u001b[1;31m---------------------------------------------------------------------------\u001b[0m",
      "\u001b[1;31mIndexError\u001b[0m                                Traceback (most recent call last)",
      "\u001b[1;32m<ipython-input-2-136294239abb>\u001b[0m in \u001b[0;36m<module>\u001b[1;34m\u001b[0m\n\u001b[0;32m      5\u001b[0m \u001b[1;31m#Shift table for s\u001b[0m\u001b[1;33m\u001b[0m\u001b[1;33m\u001b[0m\u001b[1;33m\u001b[0m\u001b[0m\n\u001b[0;32m      6\u001b[0m \u001b[1;32mfor\u001b[0m \u001b[0mi\u001b[0m \u001b[1;32min\u001b[0m \u001b[0ms\u001b[0m\u001b[1;33m[\u001b[0m\u001b[1;33m:\u001b[0m\u001b[1;33m:\u001b[0m\u001b[1;33m-\u001b[0m\u001b[1;36m1\u001b[0m\u001b[1;33m]\u001b[0m\u001b[1;33m:\u001b[0m\u001b[1;33m\u001b[0m\u001b[1;33m\u001b[0m\u001b[0m\n\u001b[1;32m----> 7\u001b[1;33m     \u001b[0mi\u001b[0m\u001b[1;33m[\u001b[0m\u001b[1;36m2\u001b[0m\u001b[1;33m]\u001b[0m\u001b[1;33m\u001b[0m\u001b[1;33m\u001b[0m\u001b[0m\n\u001b[0m",
      "\u001b[1;31mIndexError\u001b[0m: string index out of range"
     ]
    }
   ],
   "source": [
    "import re\n",
    "s = \"ABCDCDC\"\n",
    "ss = \"CDC\"\n",
    "\n",
    "#Shift table for s\n",
    "for i in s[::-1]:\n",
    "    i[2] "
   ]
  },
  {
   "cell_type": "code",
   "execution_count": 7,
   "id": "65635a95",
   "metadata": {},
   "outputs": [],
   "source": [
    "def BuildShiftTable(pattern):\n",
    "     m = len(pattern)\n",
    "     alphabet = [i for i in string.ascii_lowercase]\n",
    "     print(alphabet)\n",
    "     for i in alphabet:\n",
    "         table[i] = alphabet[i]\n",
    "     for j in m - 2:\n",
    "         table[pattern[j]] = m-1-j\n",
    "     return table"
   ]
  },
  {
   "cell_type": "code",
   "execution_count": 8,
   "id": "d1b1a45d",
   "metadata": {},
   "outputs": [
    {
     "ename": "NameError",
     "evalue": "name 'string' is not defined",
     "output_type": "error",
     "traceback": [
      "\u001b[1;31m---------------------------------------------------------------------------\u001b[0m",
      "\u001b[1;31mNameError\u001b[0m                                 Traceback (most recent call last)",
      "\u001b[1;32m<ipython-input-8-99d12b181806>\u001b[0m in \u001b[0;36m<module>\u001b[1;34m\u001b[0m\n\u001b[1;32m----> 1\u001b[1;33m \u001b[0mBuildShiftTable\u001b[0m\u001b[1;33m(\u001b[0m\u001b[1;34m\"ABCDCDC\"\u001b[0m\u001b[1;33m)\u001b[0m\u001b[1;33m\u001b[0m\u001b[1;33m\u001b[0m\u001b[0m\n\u001b[0m",
      "\u001b[1;32m<ipython-input-7-8314f3d5e8af>\u001b[0m in \u001b[0;36mBuildShiftTable\u001b[1;34m(pattern)\u001b[0m\n\u001b[0;32m      1\u001b[0m \u001b[1;32mdef\u001b[0m \u001b[0mBuildShiftTable\u001b[0m\u001b[1;33m(\u001b[0m\u001b[0mpattern\u001b[0m\u001b[1;33m)\u001b[0m\u001b[1;33m:\u001b[0m\u001b[1;33m\u001b[0m\u001b[1;33m\u001b[0m\u001b[0m\n\u001b[0;32m      2\u001b[0m      \u001b[0mm\u001b[0m \u001b[1;33m=\u001b[0m \u001b[0mlen\u001b[0m\u001b[1;33m(\u001b[0m\u001b[0mpattern\u001b[0m\u001b[1;33m)\u001b[0m\u001b[1;33m\u001b[0m\u001b[1;33m\u001b[0m\u001b[0m\n\u001b[1;32m----> 3\u001b[1;33m      \u001b[0malphabet\u001b[0m \u001b[1;33m=\u001b[0m \u001b[1;33m[\u001b[0m\u001b[0mi\u001b[0m \u001b[1;32mfor\u001b[0m \u001b[0mi\u001b[0m \u001b[1;32min\u001b[0m \u001b[0mstring\u001b[0m\u001b[1;33m.\u001b[0m\u001b[0mascii_lowercase\u001b[0m\u001b[1;33m]\u001b[0m\u001b[1;33m\u001b[0m\u001b[1;33m\u001b[0m\u001b[0m\n\u001b[0m\u001b[0;32m      4\u001b[0m      \u001b[0mprint\u001b[0m\u001b[1;33m(\u001b[0m\u001b[0malphabet\u001b[0m\u001b[1;33m)\u001b[0m\u001b[1;33m\u001b[0m\u001b[1;33m\u001b[0m\u001b[0m\n\u001b[0;32m      5\u001b[0m      \u001b[1;32mfor\u001b[0m \u001b[0mi\u001b[0m \u001b[1;32min\u001b[0m \u001b[0malphabet\u001b[0m\u001b[1;33m:\u001b[0m\u001b[1;33m\u001b[0m\u001b[1;33m\u001b[0m\u001b[0m\n",
      "\u001b[1;31mNameError\u001b[0m: name 'string' is not defined"
     ]
    }
   ],
   "source": [
    "BuildShiftTable(\"ABCDCDC\")"
   ]
  },
  {
   "cell_type": "code",
   "execution_count": 2,
   "id": "2ae80791",
   "metadata": {},
   "outputs": [
    {
     "name": "stdout",
     "output_type": "stream",
     "text": [
      "jdsgfkjdfdsf\n",
      "jdsgfkjdfdsf\n"
     ]
    }
   ],
   "source": [
    "a = print(input())"
   ]
  },
  {
   "cell_type": "code",
   "execution_count": 6,
   "id": "4664fb99",
   "metadata": {},
   "outputs": [
    {
     "name": "stdout",
     "output_type": "stream",
     "text": [
      "hACKERrANKCOM PRESENTS pYTHONIST \n"
     ]
    }
   ],
   "source": [
    "s = 'HackerRank.com presents \"Pythonist 2\".'\n",
    "newstring = ''\n",
    "for i in s:\n",
    "    if i.isupper():\n",
    "        newstring+= i.lower()\n",
    "    elif i.islower():\n",
    "        newstring+= i.upper()\n",
    "    elif i.isspace():\n",
    "        newstring+= i\n",
    "        \n",
    "print(newstring)"
   ]
  },
  {
   "cell_type": "code",
   "execution_count": 7,
   "id": "1c3b13eb",
   "metadata": {},
   "outputs": [
    {
     "ename": "IndentationError",
     "evalue": "expected an indented block (<ipython-input-7-92cc3be1f45f>, line 5)",
     "output_type": "error",
     "traceback": [
      "\u001b[1;36m  File \u001b[1;32m\"<ipython-input-7-92cc3be1f45f>\"\u001b[1;36m, line \u001b[1;32m5\u001b[0m\n\u001b[1;33m    newstring+= i.lower()\u001b[0m\n\u001b[1;37m    ^\u001b[0m\n\u001b[1;31mIndentationError\u001b[0m\u001b[1;31m:\u001b[0m expected an indented block\n"
     ]
    }
   ],
   "source": [
    "def swap_case(s):\n",
    "    newstring = ''\n",
    "    for i in s:\n",
    "        if i.isupper():\n",
    "        newstring+= i.lower()\n",
    "        elif i.islower():\n",
    "            newstring+= i.upper()\n",
    "        elif i.isspace():\n",
    "            newstring+= i\n",
    "        else:\n",
    "            newstring+=i\n",
    "    return newstring\n",
    "\n",
    "        "
   ]
  },
  {
   "cell_type": "code",
   "execution_count": 22,
   "id": "103bd7e3",
   "metadata": {},
   "outputs": [],
   "source": [
    "import re\n",
    "s = \"ABCDCDC\"\n",
    "ss = \"CDC\"\n",
    "m = re.search(ss,s) "
   ]
  },
  {
   "cell_type": "code",
   "execution_count": 6,
   "id": "e3267b9b",
   "metadata": {},
   "outputs": [
    {
     "name": "stdout",
     "output_type": "stream",
     "text": [
      "5\n",
      "2 1 3 5 4\n",
      "2\n",
      "4 6\n"
     ]
    }
   ],
   "source": [
    "size = int(input())\n",
    "x = list(map(int,input().split()))\n",
    "y = sorted(x)\n",
    "count = 0\n",
    "for i in x:\n",
    "    for j in y:\n",
    "        if i == j+1:\n",
    "            count+=1\n",
    "            #if (i+1) != (j+1):\n",
    "                #count+=1\n",
    "print(count//2)\n",
    "print(i,j+1)\n",
    "        "
   ]
  },
  {
   "cell_type": "code",
   "execution_count": 4,
   "id": "b2da26a8",
   "metadata": {},
   "outputs": [
    {
     "name": "stdout",
     "output_type": "stream",
     "text": [
      "2 1 3 5 4\n",
      "2\n"
     ]
    },
    {
     "data": {
      "text/plain": [
       "[(2, 1), (1, 2), (3, 3), (5, 4), (4, 5)]"
      ]
     },
     "execution_count": 4,
     "metadata": {},
     "output_type": "execute_result"
    }
   ],
   "source": [
    "x = list(map(int,input().split()))\n",
    "y = sorted(x)\n",
    "count = 0\n",
    "length = [i != j for i, j in zip(x, y)]\n",
    "for k in length:\n",
    "    if k == True:\n",
    "        count+=1\n",
    "print(count//2)\n",
    "zipped = list(zip(x,y))\n",
    "zipped\n",
    "        "
   ]
  },
  {
   "cell_type": "code",
   "execution_count": 3,
   "id": "515188fd",
   "metadata": {},
   "outputs": [
    {
     "data": {
      "text/plain": [
       "[1, 2, 3, 4, 5]"
      ]
     },
     "execution_count": 3,
     "metadata": {},
     "output_type": "execute_result"
    }
   ],
   "source": [
    "y"
   ]
  },
  {
   "cell_type": "code",
   "execution_count": 16,
   "id": "160f1c3e",
   "metadata": {},
   "outputs": [
    {
     "data": {
      "text/plain": [
       "[[2, 1], [1, 2], [3, 3], [5, 4], [4, 5]]"
      ]
     },
     "execution_count": 16,
     "metadata": {},
     "output_type": "execute_result"
    }
   ],
   "source": [
    "l = []\n",
    "for d in zipped:\n",
    "    l.append(list(iter(d)))\n",
    "l\n",
    "\n",
    "        "
   ]
  },
  {
   "cell_type": "code",
   "execution_count": 21,
   "id": "360cc480",
   "metadata": {},
   "outputs": [
    {
     "ename": "TypeError",
     "evalue": "can only concatenate list (not \"int\") to list",
     "output_type": "error",
     "traceback": [
      "\u001b[1;31m---------------------------------------------------------------------------\u001b[0m",
      "\u001b[1;31mTypeError\u001b[0m                                 Traceback (most recent call last)",
      "\u001b[1;32m<ipython-input-21-0076dc4d83ae>\u001b[0m in \u001b[0;36m<module>\u001b[1;34m\u001b[0m\n\u001b[0;32m      1\u001b[0m \u001b[1;32mfor\u001b[0m \u001b[0mh\u001b[0m \u001b[1;32min\u001b[0m \u001b[0ml\u001b[0m\u001b[1;33m:\u001b[0m\u001b[1;33m\u001b[0m\u001b[1;33m\u001b[0m\u001b[0m\n\u001b[1;32m----> 2\u001b[1;33m     \u001b[1;32mif\u001b[0m \u001b[0mh\u001b[0m \u001b[1;33m!=\u001b[0m \u001b[0mh\u001b[0m\u001b[1;33m+\u001b[0m\u001b[1;36m1\u001b[0m\u001b[1;33m:\u001b[0m\u001b[1;33m\u001b[0m\u001b[1;33m\u001b[0m\u001b[0m\n\u001b[0m\u001b[0;32m      3\u001b[0m         \u001b[0mprint\u001b[0m\u001b[1;33m(\u001b[0m\u001b[0mh\u001b[0m\u001b[1;33m+\u001b[0m\u001b[1;36m1\u001b[0m\u001b[1;33m)\u001b[0m\u001b[1;33m\u001b[0m\u001b[1;33m\u001b[0m\u001b[0m\n",
      "\u001b[1;31mTypeError\u001b[0m: can only concatenate list (not \"int\") to list"
     ]
    }
   ],
   "source": [
    "for h in l:\n",
    "    if h != h+1:\n",
    "        print(h+1)"
   ]
  },
  {
   "cell_type": "code",
   "execution_count": 1,
   "id": "0c1e891b",
   "metadata": {},
   "outputs": [
    {
     "name": "stdout",
     "output_type": "stream",
     "text": [
      "\r\n",
      "\r\n",
      "\r\n",
      "\r\n",
      "\r\n"
     ]
    }
   ],
   "source": [
    "n = 5\n",
    "for i in range(0,n):\n",
    "    for j in range(n + i, 0):\n",
    "        print(\"*\", end = \"\")\n",
    "    print(\"\\r\")\n",
    "        "
   ]
  },
  {
   "cell_type": "code",
   "execution_count": 10,
   "id": "090a176a",
   "metadata": {},
   "outputs": [
    {
     "name": "stdout",
     "output_type": "stream",
     "text": [
      "        * * * * * * \r\n",
      "         * * * * * \r\n",
      "          * * * * \r\n",
      "           * * * \r\n",
      "            * * \r\n",
      "             * \r\n"
     ]
    }
   ],
   "source": [
    "def pattern(n):\n",
    "    k = 2*n - 2\n",
    "    for i in range(n,-1,-1):\n",
    "        for j in range(k,0,-1):\n",
    "            print(end = \" \")\n",
    "        k = k + 1\n",
    "        for j in range(0, i+1):\n",
    "             print(\"*\", end = \" \")\n",
    "        print(\"\\r\")\n",
    "pattern(5)"
   ]
  },
  {
   "cell_type": "code",
   "execution_count": 5,
   "id": "9188e38d",
   "metadata": {
    "collapsed": true
   },
   "outputs": [
    {
     "name": "stdout",
     "output_type": "stream",
     "text": [
      "5 5 5 5 5 5 5 5 \r\n",
      "5 5 5 5 5 5 5 5 \r\n",
      "5 5 5 5 5 5 5 5 \r\n",
      "5 5 5 5 5 5 5 5 \r\n",
      "5 5 5 5 5 5 5 5 \r\n",
      "5 5 5 5 5 5 5 5 \r\n"
     ]
    }
   ],
   "source": [
    "k = 2*n - 2\n",
    "for i in range(n,-1,-1):\n",
    "    for j in range(k,0,-1):\n",
    "        print(\"5\", end = \" \")\n",
    "    "
   ]
  },
  {
   "cell_type": "code",
   "execution_count": 19,
   "id": "3b37fab5",
   "metadata": {},
   "outputs": [
    {
     "name": "stdout",
     "output_type": "stream",
     "text": [
      "\r\n",
      "                  \n",
      "* \r\n",
      "              \n",
      "* * \r\n",
      "          \n",
      "* * * \r\n",
      "      \n",
      "* * * * \r\n",
      "  \n"
     ]
    }
   ],
   "source": [
    "n = 5\n",
    "for i in range(n, 0, -1):\n",
    "    for j in range(n-i):\n",
    "        print(\"*\", end=' ')\n",
    "    print(\"\\r\")\n",
    "    for j in range(2*i - 1):\n",
    "        print(\" \", end= ' ')\n",
    "    print()"
   ]
  },
  {
   "cell_type": "code",
   "execution_count": 20,
   "id": "0ef7a528",
   "metadata": {},
   "outputs": [
    {
     "name": "stdout",
     "output_type": "stream",
     "text": [
      "* * * * * * * *       \r\n",
      "* * * * * * * * *      \r\n",
      "* * * * * * * * * *     \r\n",
      "* * * * * * * * * * *    \r\n",
      "* * * * * * * * * * * *   \r\n",
      "* * * * * * * * * * * * *  \r\n"
     ]
    }
   ],
   "source": [
    "def pattern(n):\n",
    "    k = 2*n - 2\n",
    "    for i in range(n,-1,-1):\n",
    "        for j in range(k,0,-1):\n",
    "            print(\"*\", end = \" \")\n",
    "        k = k + 1\n",
    "        for j in range(0, i+1):\n",
    "             print(end = \" \")\n",
    "        print(\"\\r\")\n",
    "pattern(5)"
   ]
  },
  {
   "cell_type": "code",
   "execution_count": 21,
   "id": "2a752159",
   "metadata": {},
   "outputs": [],
   "source": [
    "n = 5\n",
    "while n < 0:\n",
    "    while i in range(n, 0, -1):\n",
    "        print(\"*\", end=' ')\n",
    "    "
   ]
  },
  {
   "cell_type": "code",
   "execution_count": 29,
   "id": "9398137c",
   "metadata": {},
   "outputs": [
    {
     "name": "stdout",
     "output_type": "stream",
     "text": [
      "        \r\n",
      "* * * * * * \n",
      "         \r\n",
      "* * * * * \n",
      "          \r\n",
      "* * * * \n",
      "           \r\n",
      "* * * \n",
      "            \r\n",
      "* * \n",
      "             \r\n",
      "* \n"
     ]
    }
   ],
   "source": [
    "num = 5\n",
    "m = 2*num - 2\n",
    "for i in range(num, -1, -1):\n",
    "    for j in range(m, 0, -1):\n",
    "        print(\" \", end = \"\")\n",
    "    print(\"\\r\")\n",
    "    m = m+1\n",
    "    \n",
    "    for j in range(0, i+1):\n",
    "        print(\"*\", end=' ')\n",
    "    print(\"\")"
   ]
  },
  {
   "cell_type": "code",
   "execution_count": 5,
   "id": "12f3ee79",
   "metadata": {},
   "outputs": [
    {
     "name": "stdout",
     "output_type": "stream",
     "text": [
      "A\n",
      "B\n",
      "C\n",
      "D\n",
      "C\n",
      "D\n",
      "C\n"
     ]
    }
   ],
   "source": [
    "a = \"ABCDCDC\"\n",
    "s = \"CDC\"\n",
    "for i in range(0, len(a)):\n",
    "    for j in s:\n",
    "        if a[i] == s:\n",
    "        print()\n",
    "    "
   ]
  },
  {
   "cell_type": "code",
   "execution_count": 8,
   "id": "d7d794f5",
   "metadata": {},
   "outputs": [
    {
     "ename": "NameError",
     "evalue": "name 'j' is not defined",
     "output_type": "error",
     "traceback": [
      "\u001b[1;31m---------------------------------------------------------------------------\u001b[0m",
      "\u001b[1;31mNameError\u001b[0m                                 Traceback (most recent call last)",
      "\u001b[1;32m<ipython-input-8-5aae132e73b3>\u001b[0m in \u001b[0;36m<module>\u001b[1;34m\u001b[0m\n\u001b[0;32m      8\u001b[0m         \u001b[1;32mif\u001b[0m \u001b[1;33m(\u001b[0m\u001b[0mT\u001b[0m\u001b[1;33m[\u001b[0m\u001b[0mi\u001b[0m \u001b[1;33m+\u001b[0m \u001b[0mj\u001b[0m\u001b[1;33m]\u001b[0m \u001b[1;33m!=\u001b[0m \u001b[0mP\u001b[0m\u001b[1;33m[\u001b[0m\u001b[0mj\u001b[0m\u001b[1;33m]\u001b[0m\u001b[1;33m)\u001b[0m\u001b[1;33m:\u001b[0m\u001b[1;33m\u001b[0m\u001b[1;33m\u001b[0m\u001b[0m\n\u001b[0;32m      9\u001b[0m             \u001b[1;32mbreak\u001b[0m\u001b[1;33m\u001b[0m\u001b[1;33m\u001b[0m\u001b[0m\n\u001b[1;32m---> 10\u001b[1;33m     \u001b[1;32mif\u001b[0m \u001b[1;33m(\u001b[0m\u001b[0mj\u001b[0m \u001b[1;33m==\u001b[0m \u001b[0mX\u001b[0m \u001b[1;33m-\u001b[0m \u001b[1;36m1\u001b[0m\u001b[1;33m)\u001b[0m\u001b[1;33m:\u001b[0m\u001b[1;33m\u001b[0m\u001b[1;33m\u001b[0m\u001b[0m\n\u001b[0m\u001b[0;32m     11\u001b[0m         \u001b[0mprint\u001b[0m\u001b[1;33m(\u001b[0m\u001b[0mi\u001b[0m\u001b[1;33m)\u001b[0m\u001b[1;33m\u001b[0m\u001b[1;33m\u001b[0m\u001b[0m\n\u001b[0;32m     12\u001b[0m \u001b[1;33m\u001b[0m\u001b[0m\n",
      "\u001b[1;31mNameError\u001b[0m: name 'j' is not defined"
     ]
    }
   ],
   "source": [
    "T = \"ABCDCDC\"\n",
    "P = \"CDC\"\n",
    "X = len(P)\n",
    "Y = len(T)\n",
    "for i in range(0, (Y - X + 1)):\n",
    "    J = 0\n",
    "    for j in range(0, X-Y):\n",
    "        if (T[i + j] != P[j]):\n",
    "            break\n",
    "    if (j == X - 1):\n",
    "        print(i)\n",
    "            "
   ]
  },
  {
   "cell_type": "code",
   "execution_count": 9,
   "id": "f87d48ff",
   "metadata": {},
   "outputs": [
    {
     "name": "stdout",
     "output_type": "stream",
     "text": [
      "Pattern found at index  2\n",
      "Pattern found at index  4\n"
     ]
    }
   ],
   "source": [
    "def search(pat, txt):\n",
    "    M = len(pat)\n",
    "    N = len(txt)\n",
    " \n",
    "    # A loop to slide pat[] one by one */\n",
    "    for i in range(N - M + 1):\n",
    "        j = 0\n",
    "         \n",
    "        # For current index i, check\n",
    "        # for pattern match */\n",
    "        while(j < M):\n",
    "            if (txt[i + j] != pat[j]):\n",
    "                break\n",
    "            j += 1\n",
    " \n",
    "        if (j == M):\n",
    "            print(\"Pattern found at index \", i)\n",
    " \n",
    "# Driver Code\n",
    "if __name__ == '__main__':\n",
    "    txt = \"ABCDCDC\"\n",
    "    pat = \"CDC\"\n",
    "    search(pat, txt)\n",
    " "
   ]
  },
  {
   "cell_type": "code",
   "execution_count": 34,
   "id": "9e51bf09",
   "metadata": {},
   "outputs": [
    {
     "name": "stdout",
     "output_type": "stream",
     "text": [
      "ABCDCDC\n",
      "CDC\n",
      "2\n"
     ]
    }
   ],
   "source": [
    "def count_substring(string, sub_string):\n",
    "    m = len(sub_string)\n",
    "    n = len(string)\n",
    "    count = 0 \n",
    "    for i in range(n - m + 1):\n",
    "        j = 0\n",
    "        \n",
    "        while j < m:\n",
    "            if (string[i + j] != sub_string[j]):\n",
    "                break \n",
    "            j += 1\n",
    "         \n",
    "        if (j == m):\n",
    "            count += 1 \n",
    "    print(count)\n",
    "        \n",
    "\n",
    "if __name__ == '__main__':\n",
    "    string = raw_input().strip()\n",
    "    sub_string = raw_input().strip()\n",
    "    \n",
    "    count = count_substring(string, sub_string)\n"
   ]
  },
  {
   "cell_type": "code",
   "execution_count": 57,
   "id": "b2c5e639",
   "metadata": {},
   "outputs": [],
   "source": [
    "s = \"qA2\"\n",
    "flag = False\n",
    "for i in range(len(s)):\n",
    "    if i == s.isalnum():\n",
    "        continue\n",
    "flag = True\n",
    "    \n",
    "    "
   ]
  },
  {
   "cell_type": "code",
   "execution_count": 46,
   "id": "23be866e",
   "metadata": {},
   "outputs": [
    {
     "name": "stdout",
     "output_type": "stream",
     "text": [
      "True\n",
      "False\n"
     ]
    }
   ],
   "source": [
    "s = \"qA2\"\n",
    "for i in range(len(s)):\n",
    "    if i == s.isalnum():\n",
    "        print(\"True\")\n",
    "else:\n",
    "    print(\"False\")"
   ]
  },
  {
   "cell_type": "code",
   "execution_count": 47,
   "id": "f4b3f633",
   "metadata": {},
   "outputs": [],
   "source": [
    "s = \"qA2\"\n",
    "flag = False\n",
    "for i in range(len(s)):\n",
    "    if s.isalnum():\n",
    "        flag = True \n",
    "        \n"
   ]
  },
  {
   "cell_type": "code",
   "execution_count": 53,
   "id": "4ad84ac2",
   "metadata": {},
   "outputs": [
    {
     "name": "stdout",
     "output_type": "stream",
     "text": [
      "True\n",
      "False\n",
      "True\n",
      "False\n",
      "False\n"
     ]
    }
   ],
   "source": [
    "s = \"123\"\n",
    "print(s.isalnum())\n",
    "print(s.isalpha())\n",
    "print(s.isdigit())\n",
    "print(s.islower())\n",
    "print(s.isupper())"
   ]
  },
  {
   "cell_type": "code",
   "execution_count": 54,
   "id": "b7c34769",
   "metadata": {},
   "outputs": [
    {
     "name": "stdout",
     "output_type": "stream",
     "text": [
      "qA2\n",
      "True\n",
      "False\n",
      "False\n",
      "False\n",
      "False\n"
     ]
    }
   ],
   "source": [
    "s = input()\n",
    "print(s.isalnum())\n",
    "print(s.isalpha())\n",
    "print(s.isdigit())\n",
    "print(s.islower())\n",
    "print(s.isupper())"
   ]
  },
  {
   "cell_type": "code",
   "execution_count": 60,
   "id": "3059b80f",
   "metadata": {},
   "outputs": [
    {
     "name": "stdout",
     "output_type": "stream",
     "text": [
      "True\n",
      "True\n",
      "True\n"
     ]
    }
   ],
   "source": [
    "s = \"qA2\"\n",
    "    if s.isalnum():\n",
    "        print(\"True\")\n",
    "    else:\n",
    "        print(\"False\")"
   ]
  },
  {
   "cell_type": "code",
   "execution_count": 2,
   "id": "1ee8d5b5",
   "metadata": {},
   "outputs": [
    {
     "name": "stdout",
     "output_type": "stream",
     "text": [
      "HackerRank----------\n"
     ]
    }
   ],
   "source": [
    "width = 20\n",
    "print('HackerRank'.ljust(width,'-'))"
   ]
  },
  {
   "cell_type": "code",
   "execution_count": 2,
   "id": "4047cee7",
   "metadata": {},
   "outputs": [],
   "source": [
    "l = []\n",
    "def average(arr):\n",
    "    for i in arr:\n",
    "        lis.append(i)\n",
    "    arr1 = set(lis)\n",
    "    s = sum(arr1)\n",
    "    l = len(arr1)\n",
    "\n",
    "    return s/l\n",
    "\n",
    "    n = int(input())\n",
    "    arr = map(int, input().split())\n",
    "    result = average(arr)"
   ]
  },
  {
   "cell_type": "code",
   "execution_count": 14,
   "id": "4b051fa6",
   "metadata": {},
   "outputs": [
    {
     "ename": "TypeError",
     "evalue": "expected str, bytes or os.PathLike object, not list",
     "output_type": "error",
     "traceback": [
      "\u001b[1;31m---------------------------------------------------------------------------\u001b[0m",
      "\u001b[1;31mTypeError\u001b[0m                                 Traceback (most recent call last)",
      "\u001b[1;32m<ipython-input-14-6033624293f4>\u001b[0m in \u001b[0;36m<module>\u001b[1;34m\u001b[0m\n\u001b[0;32m     25\u001b[0m \u001b[1;33m\u001b[0m\u001b[0m\n\u001b[0;32m     26\u001b[0m \u001b[0mfile1\u001b[0m \u001b[1;33m=\u001b[0m \u001b[0mdata\u001b[0m\u001b[1;33m(\u001b[0m\u001b[1;33m[\u001b[0m\u001b[1;34m'file4'\u001b[0m\u001b[1;33m,\u001b[0m \u001b[1;34m'file2'\u001b[0m\u001b[1;33m,\u001b[0m \u001b[1;34m'file3'\u001b[0m\u001b[1;33m]\u001b[0m\u001b[1;33m,\u001b[0m \u001b[1;34m'txt'\u001b[0m\u001b[1;33m,\u001b[0m \u001b[1;34m\"22/5\"\u001b[0m\u001b[1;33m,\u001b[0m \u001b[1;34m\"45mb\"\u001b[0m\u001b[1;33m)\u001b[0m\u001b[1;33m\u001b[0m\u001b[1;33m\u001b[0m\u001b[0m\n\u001b[1;32m---> 27\u001b[1;33m \u001b[0mfile1\u001b[0m\u001b[1;33m.\u001b[0m\u001b[0mfile_open\u001b[0m\u001b[1;33m(\u001b[0m\u001b[1;33m)\u001b[0m\u001b[1;33m\u001b[0m\u001b[1;33m\u001b[0m\u001b[0m\n\u001b[0m\u001b[0;32m     28\u001b[0m \u001b[0mfile1\u001b[0m\u001b[1;33m.\u001b[0m\u001b[0mfile_read\u001b[0m\u001b[1;33m(\u001b[0m\u001b[1;33m)\u001b[0m\u001b[1;33m\u001b[0m\u001b[1;33m\u001b[0m\u001b[0m\n\u001b[0;32m     29\u001b[0m \u001b[0mfile1\u001b[0m\u001b[1;33m.\u001b[0m\u001b[0mfile_append\u001b[0m\u001b[1;33m(\u001b[0m\u001b[1;33m)\u001b[0m\u001b[1;33m\u001b[0m\u001b[1;33m\u001b[0m\u001b[0m\n",
      "\u001b[1;32m<ipython-input-14-6033624293f4>\u001b[0m in \u001b[0;36mfile_open\u001b[1;34m(self)\u001b[0m\n\u001b[0;32m      9\u001b[0m \u001b[1;33m\u001b[0m\u001b[0m\n\u001b[0;32m     10\u001b[0m     \u001b[1;32mdef\u001b[0m \u001b[0mfile_open\u001b[0m\u001b[1;33m(\u001b[0m\u001b[0mself\u001b[0m\u001b[1;33m)\u001b[0m\u001b[1;33m:\u001b[0m\u001b[1;33m\u001b[0m\u001b[1;33m\u001b[0m\u001b[0m\n\u001b[1;32m---> 11\u001b[1;33m         \u001b[0mf\u001b[0m \u001b[1;33m=\u001b[0m \u001b[0mopen\u001b[0m\u001b[1;33m(\u001b[0m\u001b[0mself\u001b[0m\u001b[1;33m.\u001b[0m\u001b[0mfile_name\u001b[0m\u001b[1;33m,\u001b[0m \u001b[1;34m'w'\u001b[0m\u001b[1;33m)\u001b[0m\u001b[1;33m\u001b[0m\u001b[1;33m\u001b[0m\u001b[0m\n\u001b[0m\u001b[0;32m     12\u001b[0m         \u001b[0mf\u001b[0m\u001b[1;33m.\u001b[0m\u001b[0mwrite\u001b[0m\u001b[1;33m(\u001b[0m\u001b[1;34m\"This is a new line\"\u001b[0m\u001b[1;33m)\u001b[0m\u001b[1;33m\u001b[0m\u001b[1;33m\u001b[0m\u001b[0m\n\u001b[0;32m     13\u001b[0m         \u001b[0mf\u001b[0m\u001b[1;33m.\u001b[0m\u001b[0mclose\u001b[0m\u001b[1;33m(\u001b[0m\u001b[1;33m)\u001b[0m\u001b[1;33m\u001b[0m\u001b[1;33m\u001b[0m\u001b[0m\n",
      "\u001b[1;31mTypeError\u001b[0m: expected str, bytes or os.PathLike object, not list"
     ]
    }
   ],
   "source": [
    "class data:\n",
    "    \n",
    "    def __init__(self, file_name, file_type, date, size):\n",
    "        \n",
    "        self.file_name = file_name\n",
    "        self.file_type = file_type\n",
    "        self.date = date\n",
    "        self.size = size\n",
    "        \n",
    "    def file_open(self):\n",
    "        f = open(self.file_name, 'w')\n",
    "        f.write(\"This is a new line\")\n",
    "        f.close()\n",
    "        \n",
    "    def file_read(self):\n",
    "        f = open(self.file_name, 'r')\n",
    "        print(f.read())\n",
    "        f.close()\n",
    "    \n",
    "    def file_append(self):\n",
    "        f = open(self.file_name, 'a')\n",
    "        f.write(\"Appended line is here\")\n",
    "        f.close()\n",
    "        \n",
    "    \n",
    "file1 = data(['file4', 'file2', 'file3'], 'txt', \"22/5\", \"45mb\")\n",
    "file1.file_open()\n",
    "file1.file_read()\n",
    "file1.file_append()\n",
    "    \n",
    "    #def file_read(self):\n",
    "        #self.file_read = open(self.file_read, \"r\")\n",
    "        \n",
    "        \n",
    "            \n",
    "            \n",
    "        \n",
    "        "
   ]
  },
  {
   "cell_type": "code",
   "execution_count": 10,
   "id": "6224b3bc",
   "metadata": {},
   "outputs": [],
   "source": [
    "dad = data([\"daddy.txt\", \".txt\", 21, 56)\n",
    "dad.file_open(\"dad.txt\")"
   ]
  },
  {
   "cell_type": "code",
   "execution_count": null,
   "id": "6635bc04",
   "metadata": {},
   "outputs": [],
   "source": []
  },
  {
   "cell_type": "code",
   "execution_count": 4,
   "id": "d033fad6",
   "metadata": {},
   "outputs": [
    {
     "ename": "SyntaxError",
     "evalue": "invalid syntax (<ipython-input-4-1a7333ecaac1>, line 1)",
     "output_type": "error",
     "traceback": [
      "\u001b[1;36m  File \u001b[1;32m\"<ipython-input-4-1a7333ecaac1>\"\u001b[1;36m, line \u001b[1;32m1\u001b[0m\n\u001b[1;33m    average([161 182 161 154 176 170 167 171 170 174])\u001b[0m\n\u001b[1;37m                 ^\u001b[0m\n\u001b[1;31mSyntaxError\u001b[0m\u001b[1;31m:\u001b[0m invalid syntax\n"
     ]
    }
   ],
   "source": [
    "average([161 182 161 154 176 170 167 171 170 174])"
   ]
  },
  {
   "cell_type": "code",
   "execution_count": 15,
   "id": "0a226de3",
   "metadata": {},
   "outputs": [
    {
     "ename": "TypeError",
     "evalue": "expected str, bytes or os.PathLike object, not list",
     "output_type": "error",
     "traceback": [
      "\u001b[1;31m---------------------------------------------------------------------------\u001b[0m",
      "\u001b[1;31mTypeError\u001b[0m                                 Traceback (most recent call last)",
      "\u001b[1;32m<ipython-input-15-9f4ff8cc7b2f>\u001b[0m in \u001b[0;36m<module>\u001b[1;34m\u001b[0m\n\u001b[0;32m     25\u001b[0m \u001b[1;33m\u001b[0m\u001b[0m\n\u001b[0;32m     26\u001b[0m \u001b[0mfile1\u001b[0m \u001b[1;33m=\u001b[0m \u001b[0mdata\u001b[0m\u001b[1;33m(\u001b[0m\u001b[1;33m[\u001b[0m\u001b[1;34m'file4'\u001b[0m\u001b[1;33m,\u001b[0m \u001b[1;34m'file2'\u001b[0m\u001b[1;33m,\u001b[0m \u001b[1;34m'file3'\u001b[0m\u001b[1;33m]\u001b[0m\u001b[1;33m,\u001b[0m \u001b[1;34m'txt'\u001b[0m\u001b[1;33m,\u001b[0m \u001b[1;34m\"22/5\"\u001b[0m\u001b[1;33m,\u001b[0m \u001b[1;34m\"45mb\"\u001b[0m\u001b[1;33m)\u001b[0m\u001b[1;33m\u001b[0m\u001b[1;33m\u001b[0m\u001b[0m\n\u001b[1;32m---> 27\u001b[1;33m \u001b[0mfile1\u001b[0m\u001b[1;33m.\u001b[0m\u001b[0mfile_open\u001b[0m\u001b[1;33m(\u001b[0m\u001b[1;33m)\u001b[0m\u001b[1;33m\u001b[0m\u001b[1;33m\u001b[0m\u001b[0m\n\u001b[0m\u001b[0;32m     28\u001b[0m \u001b[0mfile1\u001b[0m\u001b[1;33m.\u001b[0m\u001b[0mfile_read\u001b[0m\u001b[1;33m(\u001b[0m\u001b[1;33m)\u001b[0m\u001b[1;33m\u001b[0m\u001b[1;33m\u001b[0m\u001b[0m\n\u001b[0;32m     29\u001b[0m \u001b[0mfile1\u001b[0m\u001b[1;33m.\u001b[0m\u001b[0mfile_append\u001b[0m\u001b[1;33m(\u001b[0m\u001b[1;33m)\u001b[0m\u001b[1;33m\u001b[0m\u001b[1;33m\u001b[0m\u001b[0m\n",
      "\u001b[1;32m<ipython-input-15-9f4ff8cc7b2f>\u001b[0m in \u001b[0;36mfile_open\u001b[1;34m(self)\u001b[0m\n\u001b[0;32m      9\u001b[0m \u001b[1;33m\u001b[0m\u001b[0m\n\u001b[0;32m     10\u001b[0m     \u001b[1;32mdef\u001b[0m \u001b[0mfile_open\u001b[0m\u001b[1;33m(\u001b[0m\u001b[0mself\u001b[0m\u001b[1;33m)\u001b[0m\u001b[1;33m:\u001b[0m\u001b[1;33m\u001b[0m\u001b[1;33m\u001b[0m\u001b[0m\n\u001b[1;32m---> 11\u001b[1;33m         \u001b[0mf\u001b[0m \u001b[1;33m=\u001b[0m \u001b[0mopen\u001b[0m\u001b[1;33m(\u001b[0m\u001b[0mself\u001b[0m\u001b[1;33m.\u001b[0m\u001b[0mfile_name\u001b[0m\u001b[1;33m,\u001b[0m \u001b[1;34m'w'\u001b[0m\u001b[1;33m)\u001b[0m\u001b[1;33m\u001b[0m\u001b[1;33m\u001b[0m\u001b[0m\n\u001b[0m\u001b[0;32m     12\u001b[0m         \u001b[0mf\u001b[0m\u001b[1;33m.\u001b[0m\u001b[0mwrite\u001b[0m\u001b[1;33m(\u001b[0m\u001b[1;34m\"This is a new line\"\u001b[0m\u001b[1;33m)\u001b[0m\u001b[1;33m\u001b[0m\u001b[1;33m\u001b[0m\u001b[0m\n\u001b[0;32m     13\u001b[0m         \u001b[0mf\u001b[0m\u001b[1;33m.\u001b[0m\u001b[0mclose\u001b[0m\u001b[1;33m(\u001b[0m\u001b[1;33m)\u001b[0m\u001b[1;33m\u001b[0m\u001b[1;33m\u001b[0m\u001b[0m\n",
      "\u001b[1;31mTypeError\u001b[0m: expected str, bytes or os.PathLike object, not list"
     ]
    }
   ],
   "source": [
    "class data:\n",
    "    \n",
    "    def __init__(self, file_name, file_type, date, size):\n",
    "        \n",
    "        self.file_name = file_name\n",
    "        self.file_type = file_type\n",
    "        self.date = date\n",
    "        self.size = size\n",
    "        \n",
    "    def file_open(self):\n",
    "        f = open(self.file_name, 'w')\n",
    "        f.write(\"This is a new line\")\n",
    "        f.close()\n",
    "        \n",
    "    def file_read(self):\n",
    "        f = open(self.file_name, 'r')\n",
    "        print(f.read())\n",
    "        f.close()\n",
    "    \n",
    "    def file_append(self):\n",
    "        f = open(self.file_name, 'a')\n",
    "        f.write(\"Appended line is here\")\n",
    "        f.close()\n",
    "        \n",
    "    \n",
    "file1 = data(['file4', 'file2', 'file3'], 'txt', \"22/5\", \"45mb\")\n",
    "file1.file_open()\n",
    "file1.file_read()\n",
    "file1.file_append()"
   ]
  },
  {
   "cell_type": "code",
   "execution_count": null,
   "id": "5c609ff9",
   "metadata": {},
   "outputs": [],
   "source": [
    "Pasted pseudo-code below.\n",
    "add necessary methods for performing CSV operations. I have also made a short note under each method for understanding\n",
    "\n",
    "import json\n",
    "\n",
    "class Csvread:\n",
    "path\n",
    "data = []\n",
    "def __init__(self,path):\n",
    "\"\"\"\n",
    "Constructor\n",
    "\"\"\"\n",
    "self.path = path\n",
    "self.readfile()\n",
    "\n",
    "def save_to_json():\n",
    "json.dumps()\n",
    "\n",
    "def addItem(self,data):\n",
    "\"\"\"\n",
    "Should get dictionary from argument\n",
    "append to DAta\n",
    "\"\"\"\n",
    "self.data.append(data)\n",
    "\n",
    "def delete():\n",
    "\"\"\"\n",
    "Should delete selected Item from data\n",
    "Allow the user to selected index to delete\n",
    "\"\"\"\n",
    "\n",
    "def serach(term):\n",
    "\"\"\"\n",
    "Should be to search values of each row against the given param\n",
    "loop over the data. where each item is a dictionary. if any values of dictionary contians the quert `term`\n",
    "show as hit\n",
    "\n",
    "\n",
    "\"\"\"\n",
    "\n",
    "\n",
    "def readfile(self):\n",
    "\"\"\"\n",
    "\"\"\"\n",
    "with open(path) as f:\n",
    "# self.data = f.read()\n",
    "for line in f:\n",
    "self.data.append(line)\n",
    "\n",
    "#example for creating object and calling methods\n",
    "csvFile = Csvread(\"path_to_file\")\n",
    "csvFile.addItem({})\n",
    "csvFile.save_to_json()"
   ]
  },
  {
   "cell_type": "code",
   "execution_count": null,
   "id": "81c00e31",
   "metadata": {},
   "outputs": [],
   "source": []
  },
  {
   "cell_type": "code",
   "execution_count": 20,
   "id": "0508fecf",
   "metadata": {},
   "outputs": [
    {
     "name": "stdout",
     "output_type": "stream",
     "text": [
      "10\n",
      "161 182 161 154 176 170 167 171 170 174\n",
      "169.375\n"
     ]
    }
   ],
   "source": [
    "def average(arr):\n",
    "    x = set(arr)\n",
    "    arr_len = len(x)\n",
    "    arr_sum = sum(x)\n",
    "    return arr_sum/arr_len\n",
    "\n",
    "\n",
    "n = int(input())\n",
    "arr = map(int, input().split())\n",
    "result = average(arr)\n",
    "print(result)"
   ]
  },
  {
   "cell_type": "code",
   "execution_count": 33,
   "id": "0e613f7c",
   "metadata": {},
   "outputs": [
    {
     "name": "stdout",
     "output_type": "stream",
     "text": [
      "4\n",
      "2 4 5 6\n",
      "4\n",
      "2 4 11 12\n",
      "{11, 12, 5, 6}\n",
      "{11, 12, 5, 6}\n"
     ]
    }
   ],
   "source": [
    "na = int(input())\n",
    "a = list(map(int, input().split()))\n",
    "myset_a = set(a)\n",
    "nb = int(input())\n",
    "b = list(map(int, input().split()))\n",
    "myset_b = set(b)\n",
    "\n",
    "x = myset_a.difference(myset_b)\n",
    "y = myset_b.difference(myset_a)\n",
    "\n",
    "\n",
    "x.update(y)\n",
    "print(x)\n"
   ]
  },
  {
   "cell_type": "code",
   "execution_count": 41,
   "id": "e6d4010f",
   "metadata": {},
   "outputs": [
    {
     "name": "stdout",
     "output_type": "stream",
     "text": [
      "2\n",
      "8 -10\n",
      "3\n",
      "5 6 7\n",
      "7\n",
      "5\n",
      "-10\n",
      "6\n",
      "8\n"
     ]
    }
   ],
   "source": [
    "na = int(input())\n",
    "a = list(map(int, input().split()))\n",
    "a1 = sorted(a)\n",
    "myset_a = set(a1)\n",
    "\n",
    "nb = int(input())\n",
    "b = list(map(int, input().split()))\n",
    "b1 = sorted(b)\n",
    "myset_b = set(b1)\n",
    "\n",
    "x = myset_a.difference(myset_b)\n",
    "y = myset_b.difference(myset_a)\n",
    "\n",
    "\n",
    "x.update(y)\n",
    "\n",
    "new = list(x)\n",
    "\n",
    "for i in new:\n",
    "    print(i)\n"
   ]
  },
  {
   "cell_type": "code",
   "execution_count": 40,
   "id": "38aec371",
   "metadata": {},
   "outputs": [
    {
     "name": "stdout",
     "output_type": "stream",
     "text": [
      "8 -10\n",
      "[8, -10, -10]\n",
      "[-10, -10, 8]\n"
     ]
    }
   ],
   "source": [
    "b = list(map(int, input().split()))\n",
    "l1 = []\n",
    "for i in b:\n",
    "    if i < 0:\n",
    "        l1.append(i)\n",
    "    l1.append(i)\n",
    "print(l1)\n",
    "myset_b = sorted(l1)\n",
    "print(myset_b)"
   ]
  },
  {
   "cell_type": "code",
   "execution_count": 58,
   "id": "46207e3b",
   "metadata": {},
   "outputs": [
    {
     "name": "stdout",
     "output_type": "stream",
     "text": [
      "3\n",
      "1 0\n",
      "Error Code: integer division or modulo by zero\n",
      "1 $\n",
      "Error Code: invalid literal for int() with base 10: '$'\n",
      "3 1\n",
      "3\n"
     ]
    }
   ],
   "source": [
    "n = int(input())\n",
    "for _ in range(n):\n",
    "    try:\n",
    "        a = list(map(int, input().split()))\n",
    "        print(a[0]//a[1])\n",
    "    except ZeroDivisionError as e:\n",
    "        print(\"Error Code:\",e)\n",
    "    except ValueError as e:\n",
    "        print(\"Error Code:\",e)\n",
    "#except Exception as e:\n",
    "    #print(e)\n",
    "                "
   ]
  },
  {
   "cell_type": "code",
   "execution_count": null,
   "id": "b68f034c",
   "metadata": {},
   "outputs": [],
   "source": [
    "def exceptor(n,a):\n",
    "    n = int(input())\n",
    "    for _ in range(n):\n",
    "        try:\n",
    "            a = list(map(int, input().split()))\n",
    "            return a[0]//a[1]\n",
    "        except ZeroDivisionError as e:\n",
    "            return \"Error Code:\",e\n",
    "        except ValueError as e:\n",
    "            return \"Error Code:\",e"
   ]
  },
  {
   "cell_type": "code",
   "execution_count": null,
   "id": "8eac48ae",
   "metadata": {},
   "outputs": [],
   "source": []
  },
  {
   "cell_type": "code",
   "execution_count": null,
   "id": "67d0c367",
   "metadata": {},
   "outputs": [],
   "source": [
    "s = \"qA2\"\n",
    "for i in s:\n",
    "    if s is alnum():\n",
    "        print(\"True\")"
   ]
  },
  {
   "cell_type": "code",
   "execution_count": 5,
   "id": "287e70ed",
   "metadata": {},
   "outputs": [
    {
     "name": "stdout",
     "output_type": "stream",
     "text": [
      "True\n",
      "True\n",
      "True\n",
      "True\n",
      "True\n"
     ]
    }
   ],
   "source": [
    "str = \"qA2\"\n",
    "print(any(c.isalnum()  for c in str))\n",
    "print(any(c.isalpha() for c in str))\n",
    "print(any(c.isdigit() for c in str))\n",
    "print(any(c.islower() for c in str))\n",
    "print(any(c.isupper() for c in str))"
   ]
  },
  {
   "cell_type": "code",
   "execution_count": 4,
   "id": "7a311aaf",
   "metadata": {},
   "outputs": [
    {
     "name": "stdout",
     "output_type": "stream",
     "text": [
      "True\n",
      "True\n",
      "True\n",
      "True\n",
      "True\n"
     ]
    }
   ],
   "source": [
    "s = input()\n",
    "print(any([char.isalnum() for char in s]))\n",
    "print(any([char.isalpha() for char in s]))\n",
    "print(any([char.isdigit() for char in s]))\n",
    "print(any([char.islower() for char in s]))\n",
    "print(any([char.isupper() for char in s]))"
   ]
  },
  {
   "cell_type": "code",
   "execution_count": 23,
   "id": "44126307",
   "metadata": {},
   "outputs": [],
   "source": [
    "if s.isalpha():\n",
    "    print(any(\"True\"))\n",
    "\n",
    "        \n"
   ]
  },
  {
   "cell_type": "code",
   "execution_count": null,
   "id": "b09c4674",
   "metadata": {},
   "outputs": [],
   "source": []
  }
 ],
 "metadata": {
  "kernelspec": {
   "display_name": "Python 3",
   "language": "python",
   "name": "python3"
  },
  "language_info": {
   "codemirror_mode": {
    "name": "ipython",
    "version": 3
   },
   "file_extension": ".py",
   "mimetype": "text/x-python",
   "name": "python",
   "nbconvert_exporter": "python",
   "pygments_lexer": "ipython3",
   "version": "3.8.8"
  }
 },
 "nbformat": 4,
 "nbformat_minor": 5
}
