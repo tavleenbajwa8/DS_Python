{
 "cells": [
  {
   "cell_type": "markdown",
   "id": "1864a55f",
   "metadata": {},
   "source": [
    "Get total number of reads from the user. A read is basically(a string) short sequence of nucleotide for example, 'ATTGCCTTC'. then ask user to\n",
    "give bases for each read, If user entered 10 a total get 10 sequence separtely. Show user which is the longest read and show total number of\n",
    "'A','T','G','C' across all reads"
   ]
  },
  {
   "cell_type": "code",
   "execution_count": 1,
   "id": "fa53ab10",
   "metadata": {},
   "outputs": [
    {
     "name": "stdout",
     "output_type": "stream",
     "text": [
      "Enter reads: agcgtag aggac ggg\n"
     ]
    },
    {
     "ename": "ValueError",
     "evalue": "invalid literal for int() with base 10: 'AGCGTAG'",
     "output_type": "error",
     "traceback": [
      "\u001b[1;31m---------------------------------------------------------------------------\u001b[0m",
      "\u001b[1;31mValueError\u001b[0m                                Traceback (most recent call last)",
      "\u001b[1;32m<ipython-input-1-858bab646f32>\u001b[0m in \u001b[0;36m<module>\u001b[1;34m\u001b[0m\n\u001b[0;32m      7\u001b[0m \u001b[0mccount\u001b[0m \u001b[1;33m=\u001b[0m \u001b[1;36m0\u001b[0m\u001b[1;33m\u001b[0m\u001b[1;33m\u001b[0m\u001b[0m\n\u001b[0;32m      8\u001b[0m \u001b[0mtcount\u001b[0m \u001b[1;33m=\u001b[0m \u001b[1;36m0\u001b[0m\u001b[1;33m\u001b[0m\u001b[1;33m\u001b[0m\u001b[0m\n\u001b[1;32m----> 9\u001b[1;33m \u001b[1;32mfor\u001b[0m \u001b[0mind\u001b[0m\u001b[1;33m,\u001b[0m\u001b[0mi\u001b[0m \u001b[1;32min\u001b[0m \u001b[0menumerate\u001b[0m\u001b[1;33m(\u001b[0m\u001b[0mreads\u001b[0m\u001b[1;33m)\u001b[0m\u001b[1;33m:\u001b[0m\u001b[1;33m\u001b[0m\u001b[1;33m\u001b[0m\u001b[0m\n\u001b[0m\u001b[0;32m     10\u001b[0m     \u001b[1;32mfor\u001b[0m \u001b[0mj\u001b[0m \u001b[1;32min\u001b[0m \u001b[0mi\u001b[0m\u001b[1;33m:\u001b[0m\u001b[1;33m\u001b[0m\u001b[1;33m\u001b[0m\u001b[0m\n\u001b[0;32m     11\u001b[0m         \u001b[1;32mif\u001b[0m \u001b[0mj\u001b[0m \u001b[1;33m==\u001b[0m \u001b[1;34m\"A\"\u001b[0m\u001b[1;33m:\u001b[0m\u001b[1;33m\u001b[0m\u001b[1;33m\u001b[0m\u001b[0m\n",
      "\u001b[1;31mValueError\u001b[0m: invalid literal for int() with base 10: 'AGCGTAG'"
     ]
    }
   ],
   "source": [
    "reads = map(str,list(map(str,input(\"Enter reads: \").upper().split())))\n",
    "longest_read = 0\n",
    "longest_seq = \"\"\n",
    "longest_ind = 0\n",
    "acount = 0\n",
    "gcount = 0\n",
    "ccount = 0\n",
    "tcount = 0\n",
    "for ind,i in enumerate(reads):\n",
    "    for j in i:\n",
    "        if j == \"A\":\n",
    "            acount+=1\n",
    "        elif j == \"G\":\n",
    "            gcount+=1\n",
    "        elif j == \"T\":\n",
    "            tcount+=1\n",
    "        elif j == \"C\":\n",
    "            ccount+=1\n",
    "        else:\n",
    "            pass\n",
    "    #print(i,len(i),len(i) > longest_read)\n",
    "    if len(i) > longest_read:\n",
    "        longest_read = len(i)\n",
    "        longest_seq = i\n",
    "        longest_ind = ind\n",
    "print(\"The longest sequence is: \", longest_seq)\n",
    "# for read in reads:\n",
    "#     if longest_read == len(read):\n",
    "#         print(\"Longest read(s) is: \",read)\n",
    "\n",
    "print(\"Total no. of A:\", acount, \", G:\",gcount, \", C:\",ccount, \",T:\", tcount)"
   ]
  },
  {
   "cell_type": "code",
   "execution_count": null,
   "id": "a634068b",
   "metadata": {},
   "outputs": [],
   "source": []
  }
 ],
 "metadata": {
  "kernelspec": {
   "display_name": "Python 3",
   "language": "python",
   "name": "python3"
  },
  "language_info": {
   "codemirror_mode": {
    "name": "ipython",
    "version": 3
   },
   "file_extension": ".py",
   "mimetype": "text/x-python",
   "name": "python",
   "nbconvert_exporter": "python",
   "pygments_lexer": "ipython3",
   "version": "3.8.8"
  }
 },
 "nbformat": 4,
 "nbformat_minor": 5
}
