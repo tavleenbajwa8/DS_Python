{
 "cells": [
  {
   "cell_type": "code",
   "execution_count": 1,
   "id": "3d111e34",
   "metadata": {},
   "outputs": [],
   "source": [
    "import re\n",
    "f = open(r\"example.fasta\", \"r\")"
   ]
  },
  {
   "cell_type": "code",
   "execution_count": 104,
   "id": "0bcc2874",
   "metadata": {},
   "outputs": [
    {
     "name": "stdout",
     "output_type": "stream",
     "text": [
      "['', 'MDTSENAASAAEQQPTQQIDQLTVPNAPDGGSSAPAPSTSPNSISPSNPTGTPAPGASAQTPNPNAAGASASGSANYKLMCTLEGHTKSISSAKFSPCGKYLGTSSADKTVKIWNMDHMICERTLTGHKLGVNDIAWSSDSRCVVSASDDKTLKIFEIVTSRMTKTLKGHNNYVFCCNFNPQSSLVVSGSFDESVRIWDVKTGMCIKTLPAHSDPVSAVSFNRDGSLIASGSYDGLVRIWDTANGQCIKTLVDDENPPVAFVKFSPNGKYILASNLDSTLKLWDFSKGKTLKQYTGHENSKYCIFANFSVTGGKWIISGSEDCKIYIWNLQTREIVQCLEGHTQPVLASDCHPVQNIIASGALEPDNKIHIWRSDV', 'MATEEKKPETEAARAQPTPSSSATQSKPTPVKPNYALKFTLAGHTKAVSSVKFSPNGEWLASSSADKLIKIWGAYDGKFEKTISGHKLGISDVAWSSDSNLLVSASDDKTLKIWDVSSGKCLKTLKGHSNYVFCCNFNPQSNLIVSGSFDESVRIWDVKTGKCLKTLPAHSDPVSAVHFNRDGSLIVSSSYDGLCRIWDTASGQCLKTLIDDDNPPVSFVKFSPNGKYILAATLDNTLKLWDYSKGKCLKTYTGHKNEKYCIFANFSVTGGKWIVSGSEDNLVYIWNLQTKEIVQKLQGHTDVVISTACHPTENIIASAALENDKTIKLWKSDC', 'MATEEKKPETEAARAQPTPSSSATQSKPTPVKPNYALKFTLAGHTKAVSSVKFSPNGEWLASSSADKLIKIWGAYDGKFEKTISGHKLGISDVAWSSDSNLLVSASDDKTLKIWDVSSGKCLKTLKGHSNYVFCCNFNPQSNLIVSGSFDESVRIWDVKTGKCLKTLPAHSDPVSAVHFNRDGSLIVSSSYDGLCRIWDTASGQCLKTLIDDDNPPVSFVKFSPNGKYILAATLDNTLKLWDYSKGKCLKTYTGHKNEKYCIFANFSVTGGKWIVSGSEDNLVYIWNLQTKEIVQKLQGHTDVVISTACHPTENIIASAALENDKTIKLWKSDC', 'MATEEKKPETEAARAQPTPSSSATQSKPTPVKPNYALKFTLAGHTKAVSSVKFSPNGEWLASSSADKLIKIWGAYDGKFEKTISGHKLGISDVAWSSDSNLLVSASDDKTLKIWDVSSGKCLKTLKGHSNYVFCCNFNPQSNLIVSGSFDESVRIWDVKTGKCLKTLPAHSDPVSAVHFNRDGSLIVSSSYDGLCRIWDTASGQCLKTLIDDDNPPVSFVKFSPNGKYILAATLDNTLKLWDYSKGKCLKTYTGHKNEKYCIFANFSVTGGKWIVSGSEDNLVYIWNLQTKEIVQKLQGHTDVVISTACHPTENIIASAALENDKTIKLWKSDC', 'MAEEIPATASFTPYVHSQTLTSHNRAVSSVKFSSDGRLLASASADKTIRTYTINTINDPIAEPVQEFTGHENGISDVAFSSDARFIVSASDDKTLKLWDVETGSLIKTLIGHTNYAFCVNFNPQSNMIVSGSFDETVRIWDVTTGKCLKVLPAHSDPVTAVDFNRDGSLIVSSSYDGLCRIWDSGTGHCVKTLIDDENPPVSFVRFSPNGKFILVGTLDNTLRLWNISSAKFLKTYTGHVNAQYCISSAFSVTNGKRIVSGSEDNCVHMWELNSKKLLQKLEGHTETVMNVACHPTENLIASGSLDKTVRIWTQKKE', 'MATGEKKPETEAARAQPTPSSSATQSKPTPVKPNYALKFTLAGHTKAVSSVKFSPNGEWLASSSADKLIKIWGAYDGKFEKTISGHKLGISDVAWSSDSNLLVSASDDKTLKIWDVSSGKCLKTLKGHSNYVFCCNFNPQSNLIVSGSFDESVRIWDVKTGKCLKTLPAHSDPVSAVHFNRDGSLIVSSSYDGLCRIWDTASGQCLKTLIDDDNPPVSFVKFSPNGKYILAATLDNTLKLWDYSKGKCLKTYTGHKNEKYCIFANFSVTGGKWIVSGSEDNLVYIWNLQTKEIVQKLQGHTDVVISTACHPTENIIASAALENDKTIKLWKSDC', 'MATEEKKPETEAARAQPTPSSSATQSKPTPVKPNYALKFTLAGHTKAVSSVKFSPNGEWLASSSADKLIKIWGAYDGKFEKTISGHKLGISDVAWSSDSNLLVSASDDKTLKIWDVSSGKCLKTLKGHSNYVFCCNFNPQSNLIVSGSFDESVRIWDVKTGKCLKTLPAHSDPVSAVHFNRDGSLIVSSSYDGLCRIWDTASGQCLKTLIDDDNPPVSFVKFSPNGKYILAATLDNTLKLWDYSKGKCLKTYTGHKNEKYCIFANFSVTGGKWIVSGSEDNLVYIWNLQTKEIVQKLQGHTDVVISTACHPTENIIASAALENDKTIKLWKSDC', 'MATEEKKPETEAARAQPTPSSSATQSKPTPVKPNYALKFTLAGHTKAVSSVKFSPNGEWLASSSADKLIKIWGAYDGKFEKTISGHKLGISDVAWSSDSNLLVSASDDKTLKIWDVSSGKCLKTLKGHSNYVFCCNFNPQSNLIVSGSFDESVRIWDVKTGKCLKTLPAHSDPVSAVHFNRDGSLIVSSSYDGLCRIWDTASGQCLKTLIDDDNPPVSFVKFSPNGKYILAATLDNTLKLWDYSKGKWIVSGSEDNLVYIWNLQTKEIVQKLQGHTGELGSCGRVLLAHAAGFWKDTDRQCVCRLFCLFFLGPLVAWGLLPGWERLLSGLSELPAGRARWCL', 'MATEEKKPETEAARAQPTPSSSATQSKPTPVKPNYALKFTLAGHTKAVSSVKFSPNGEWLASSSADKLIKIWGAYDGKFEKTISGHKLGISDVAWSSDSNLLVSASDDKTLKIWDVSSGKCLKTLKGHSNYVFCCNFNPQSNLIVSGSFDESVRIWDVKTGKCLKTLPAHSDPVSAVHFNRDGSLIVSSSYDGLCRIWDTASGQCLKTLIDDDNPPVSFVKFSPNGKYILAATLDNTLKLWDYSKGKCLKTYTGHKNEKYCIFANFSVTGGKWIVSGSEDNLVYIWNLQTKEIVQKLQGHTDVVISTACHPTENIIASAALENDKTIKLWKSDC']\n"
     ]
    }
   ],
   "source": [
    "import sys\n",
    "fasta = []\n",
    "test = []\n",
    "with open(\"example.fasta\") as file_one:\n",
    "    for line in file_one:\n",
    "        line = line.strip()\n",
    "        if not line:\n",
    "           continue\n",
    "        if line.startswith(\">\"):\n",
    "            active_sequence_name = line[1:]\n",
    "            if active_sequence_name not in fasta:\n",
    "                test.append(''.join(fasta))\n",
    "                fasta = []\n",
    "            continue\n",
    "        sequence = line\n",
    "        fasta.append(sequence)\n",
    "#del(test[0])\n",
    "print(test)"
   ]
  },
  {
   "cell_type": "code",
   "execution_count": 105,
   "id": "23f7d30b",
   "metadata": {},
   "outputs": [
    {
     "name": "stdout",
     "output_type": "stream",
     "text": [
      "[('The patterns are', ['GHKLGISDVAWSSDSNLLVSASDDKTLKIWD', 'GHSNYVFCCNFNPQSNLIVSGSFDESVRIWD']), ('No. of repeats: ', 2), ('Index range', [(84, 115), (126, 157)])]\n",
      "([('The patterns are', ['GHNNYVFCCNFNPQSSLVVSGSFDESVRIWD']), ('No. of repeats: ', 2), ('Index range', [(168, 199)])], ['|Q17963|'])\n",
      "([('The patterns are', ['GHKLGISDVAWSSDSNLLVSASDDKTLKIWD', 'GHSNYVFCCNFNPQSNLIVSGSFDESVRIWD']), ('No. of repeats: ', 2), ('Index range', [(84, 115), (126, 157)])], ['|Q498M4|'])\n",
      "([('The patterns are', ['GHKLGISDVAWSSDSNLLVSASDDKTLKIWD', 'GHSNYVFCCNFNPQSNLIVSGSFDESVRIWD']), ('No. of repeats: ', 2), ('Index range', [(84, 115), (126, 157)])], ['|P61965|'])\n",
      "([('The patterns are', ['GHKLGISDVAWSSDSNLLVSASDDKTLKIWD', 'GHSNYVFCCNFNPQSNLIVSGSFDESVRIWD']), ('No. of repeats: ', 2), ('Index range', [(84, 115), (126, 157)])], ['|P61964|'])\n",
      "([('The patterns are', ['GHENGISDVAFSSDARFIVSASDDKTLKLWD', 'GHTNYAFCVNFNPQSNMIVSGSFDETVRIWD']), ('No. of repeats: ', 2), ('Index range', [(68, 99), (110, 141)])], ['|Q9M2Z2|'])\n",
      "([('The patterns are', ['GHKLGISDVAWSSDSNLLVSASDDKTLKIWD', 'GHSNYVFCCNFNPQSNLIVSGSFDESVRIWD']), ('No. of repeats: ', 2), ('Index range', [(84, 115), (126, 157)])], ['|Q2KIG2|'])\n",
      "([('The patterns are', ['GHKLGISDVAWSSDSNLLVSASDDKTLKIWD', 'GHSNYVFCCNFNPQSNLIVSGSFDESVRIWD']), ('No. of repeats: ', 2), ('Index range', [(84, 115), (126, 157)])], ['|M3W4J8|'])\n",
      "([('The patterns are', ['GHKLGISDVAWSSDSNLLVSASDDKTLKIWD', 'GHSNYVFCCNFNPQSNLIVSGSFDESVRIWD']), ('No. of repeats: ', 2), ('Index range', [(84, 115), (126, 157)])], ['|A0A3Q2HKU6|'])\n",
      "([('The patterns are', ['GHKLGISDVAWSSDSNLLVSASDDKTLKIWD', 'GHSNYVFCCNFNPQSNLIVSGSFDESVRIWD']), ('No. of repeats: ', 2), ('Index range', [(84, 115), (126, 157)])], ['|G3N3E5|'])\n"
     ]
    }
   ],
   "source": [
    "pattern = 'GH[A-Z]{0,35}WD'\n",
    "\n",
    "seq_lis = []\n",
    "for i in range(1,len(test)):\n",
    "    text = test[i]\n",
    "    x = re.findall(pattern, text)\n",
    "    x = \"The patterns are\", x\n",
    "    z = \"No. of repeats: \", len(x)\n",
    "    y = \"Index range\", [(m.start(0), m.end(0)) for m in re.finditer(pattern, text)]\n",
    "    lis1 = [x, z, y]\n",
    "    seq_lis.append(lis1)\n",
    "print(lis1)\n",
    "    \n",
    "with open(\"example.fasta\") as f:\n",
    "    with open(\"out.txt\", \"w\") as f1:\n",
    "        for line in f:\n",
    "            f1.write(line)\n",
    "fi = open(r\"out.txt\")\n",
    "lis = list(fi)\n",
    "#lis\n",
    "\n",
    "ids = []\n",
    "pattern2 = []\n",
    "for i in lis:\n",
    "    pattern2.append(i)\n",
    "#print(pattern2)\n",
    "\n",
    "for i in pattern2:\n",
    "    if i.startswith(\">\"):\n",
    "        ids.append(i)\n",
    "\n",
    "pattern2 = \"\\|.*\\|\"\n",
    "idlis = []\n",
    "for i in ids:\n",
    "    x = list(re.findall(pattern2,i ))\n",
    "    idlis.append(x)\n",
    "#print(idlis)\n",
    "    \n",
    "a_zip = zip(seq_lis, idlis)\n",
    "news = list(a_zip)\n",
    "\n",
    "#print(news)\n",
    "\n",
    "for new in news:\n",
    "    print(new)\n",
    "    \n"
   ]
  },
  {
   "cell_type": "code",
   "execution_count": 106,
   "id": "06fece5b",
   "metadata": {},
   "outputs": [
    {
     "name": "stdout",
     "output_type": "stream",
     "text": [
      "<re.Match object; span=(168, 199), match='GHNNYVFCCNFNPQSSLVVSGSFDESVRIWD'> 168 199\n",
      "<re.Match object; span=(84, 115), match='GHKLGISDVAWSSDSNLLVSASDDKTLKIWD'> 84 115\n",
      "<re.Match object; span=(126, 157), match='GHSNYVFCCNFNPQSNLIVSGSFDESVRIWD'> 126 157\n",
      "<re.Match object; span=(84, 115), match='GHKLGISDVAWSSDSNLLVSASDDKTLKIWD'> 84 115\n",
      "<re.Match object; span=(126, 157), match='GHSNYVFCCNFNPQSNLIVSGSFDESVRIWD'> 126 157\n",
      "<re.Match object; span=(84, 115), match='GHKLGISDVAWSSDSNLLVSASDDKTLKIWD'> 84 115\n",
      "<re.Match object; span=(126, 157), match='GHSNYVFCCNFNPQSNLIVSGSFDESVRIWD'> 126 157\n",
      "<re.Match object; span=(68, 99), match='GHENGISDVAFSSDARFIVSASDDKTLKLWD'> 68 99\n",
      "<re.Match object; span=(110, 141), match='GHTNYAFCVNFNPQSNMIVSGSFDETVRIWD'> 110 141\n",
      "<re.Match object; span=(84, 115), match='GHKLGISDVAWSSDSNLLVSASDDKTLKIWD'> 84 115\n",
      "<re.Match object; span=(126, 157), match='GHSNYVFCCNFNPQSNLIVSGSFDESVRIWD'> 126 157\n",
      "<re.Match object; span=(84, 115), match='GHKLGISDVAWSSDSNLLVSASDDKTLKIWD'> 84 115\n",
      "<re.Match object; span=(126, 157), match='GHSNYVFCCNFNPQSNLIVSGSFDESVRIWD'> 126 157\n",
      "<re.Match object; span=(84, 115), match='GHKLGISDVAWSSDSNLLVSASDDKTLKIWD'> 84 115\n",
      "<re.Match object; span=(126, 157), match='GHSNYVFCCNFNPQSNLIVSGSFDESVRIWD'> 126 157\n",
      "<re.Match object; span=(84, 115), match='GHKLGISDVAWSSDSNLLVSASDDKTLKIWD'> 84 115\n",
      "<re.Match object; span=(126, 157), match='GHSNYVFCCNFNPQSNLIVSGSFDESVRIWD'> 126 157\n"
     ]
    }
   ],
   "source": [
    "pattern = 'GH[A-Z]{0,35}WD'\n",
    "\n",
    "for i in range(1,len(test)):\n",
    "    text = test[i]\n",
    "    result = re.finditer(pattern, text)\n",
    "    for m in result:\n",
    "        print(m,m.start(0), m.end(0))\n",
    "        \n"
   ]
  },
  {
   "cell_type": "code",
   "execution_count": 36,
   "id": "edcabdfc",
   "metadata": {},
   "outputs": [],
   "source": [
    "f = open(r\"example.fasta\", \"r\")"
   ]
  },
  {
   "cell_type": "code",
   "execution_count": 73,
   "id": "8ed231f0",
   "metadata": {},
   "outputs": [
    {
     "name": "stdout",
     "output_type": "stream",
     "text": [
      "['|Q17963|']\n",
      "['|Q498M4|']\n",
      "['|P61965|']\n",
      "['|P61964|']\n",
      "['|Q9M2Z2|']\n",
      "['|Q2KIG2|']\n",
      "['|M3W4J8|']\n",
      "['|A0A3Q2HKU6|']\n",
      "['|G3N3E5|']\n",
      "['|Q23256|']\n"
     ]
    }
   ],
   "source": [
    "with open(\"example.fasta\") as f:\n",
    "    with open(\"out.txt\", \"w\") as f1:\n",
    "        for line in f:\n",
    "            f1.write(line)\n",
    "fi = open(r\"out.txt\")\n",
    "lis = list(fi)\n",
    "#lis\n",
    "\n",
    "ids = []\n",
    "pattern2 = []\n",
    "for i in lis:\n",
    "    pattern2.append(i)\n",
    "#print(pattern2)\n",
    "\n",
    "for i in pattern2:\n",
    "    if i.startswith(\">\"):\n",
    "        ids.append(i)\n",
    "\n",
    "pattern2 = \"\\|.*\\|\"\n",
    "for i in ids:\n",
    "    x = re.findall(pattern2,i )\n",
    "    print(list(x))"
   ]
  },
  {
   "cell_type": "code",
   "execution_count": 58,
   "id": "2d9e6a18",
   "metadata": {},
   "outputs": [
    {
     "data": {
      "text/plain": [
       "['>sp|Q17963|WDR51_CAEEL WD repeat-containing protein wdr-5.1 OS=Caenorhabditis elegans OX=6239 GN=wdr-5.1 PE=1 SV=1\\n',\n",
       " '>sp|Q498M4|WDR5_RAT WD repeat-containing protein 5 OS=Rattus norvegicus OX=10116 GN=Wdr5 PE=1 SV=1\\n',\n",
       " '>sp|P61965|WDR5_MOUSE WD repeat-containing protein 5 OS=Mus musculus OX=10090 GN=Wdr5 PE=1 SV=1\\n',\n",
       " '>sp|P61964|WDR5_HUMAN WD repeat-containing protein 5 OS=Homo sapiens OX=9606 GN=WDR5 PE=1 SV=1\\n',\n",
       " '>sp|Q9M2Z2|WDR5A_ARATH COMPASS-like H3K4 histone methylase component WDR5A OS=Arabidopsis thaliana OX=3702 GN=WDR5A PE=1 SV=1\\n',\n",
       " '>sp|Q2KIG2|WDR5_BOVIN WD repeat-containing protein 5 OS=Bos taurus OX=9913 GN=WDR5 PE=2 SV=1\\n',\n",
       " '>tr|M3W4J8|M3W4J8_FELCA WD repeat domain 5 OS=Felis catus OX=9685 GN=WDR5 PE=4 SV=1\\n',\n",
       " '>tr|A0A3Q2HKU6|A0A3Q2HKU6_HORSE WD repeat domain 5 OS=Equus caballus OX=9796 GN=WDR5 PE=4 SV=2\\n',\n",
       " '>tr|G3N3E5|G3N3E5_BOVIN WD repeat-containing protein 5 OS=Bos taurus OX=9913 GN=WDR5 PE=4 SV=2\\n',\n",
       " '>sp|Q23256|WDR53_CAEEL WD repeat-containing protein wdr-5.3 OS=Caenorhabditis elegans OX=6239 GN=wdr-5.3 PE=3 SV=1\\n']"
      ]
     },
     "execution_count": 58,
     "metadata": {},
     "output_type": "execute_result"
    }
   ],
   "source": [
    "ids"
   ]
  },
  {
   "cell_type": "code",
   "execution_count": 71,
   "id": "1b0166f6",
   "metadata": {},
   "outputs": [
    {
     "name": "stdout",
     "output_type": "stream",
     "text": [
      "['|Q17963|']\n",
      "['|Q498M4|']\n",
      "['|P61965|']\n",
      "['|P61964|']\n",
      "['|Q9M2Z2|']\n",
      "['|Q2KIG2|']\n",
      "['|M3W4J8|']\n",
      "['|A0A3Q2HKU6|']\n",
      "['|G3N3E5|']\n",
      "['|Q23256|']\n"
     ]
    }
   ],
   "source": [
    "pattern = \"\\|.*\\|\"\n",
    "for i in ids:\n",
    "    x = re.findall(pattern,i )\n",
    "    print(list(x))\n",
    "    \n",
    "    "
   ]
  },
  {
   "cell_type": "code",
   "execution_count": null,
   "id": "e91a915c",
   "metadata": {},
   "outputs": [],
   "source": []
  },
  {
   "cell_type": "code",
   "execution_count": 32,
   "id": "dd98db77",
   "metadata": {},
   "outputs": [
    {
     "name": "stdout",
     "output_type": "stream",
     "text": [
      "['', 'MDTSENAASAAEQQPTQQIDQLTVPNAPDGGSSAPAPSTSPNSISPSNPTGTPAPGASAQTPNPNAAGASASGSANYKLMCTLEGHTKSISSAKFSPCGKYLGTSSADKTVKIWNMDHMICERTLTGHKLGVNDIAWSSDSRCVVSASDDKTLKIFEIVTSRMTKTLKGHNNYVFCCNFNPQSSLVVSGSFDESVRIWDVKTGMCIKTLPAHSDPVSAVSFNRDGSLIASGSYDGLVRIWDTANGQCIKTLVDDENPPVAFVKFSPNGKYILASNLDSTLKLWDFSKGKTLKQYTGHENSKYCIFANFSVTGGKWIISGSEDCKIYIWNLQTREIVQCLEGHTQPVLASDCHPVQNIIASGALEPDNKIHIWRSDV', 'MATEEKKPETEAARAQPTPSSSATQSKPTPVKPNYALKFTLAGHTKAVSSVKFSPNGEWLASSSADKLIKIWGAYDGKFEKTISGHKLGISDVAWSSDSNLLVSASDDKTLKIWDVSSGKCLKTLKGHSNYVFCCNFNPQSNLIVSGSFDESVRIWDVKTGKCLKTLPAHSDPVSAVHFNRDGSLIVSSSYDGLCRIWDTASGQCLKTLIDDDNPPVSFVKFSPNGKYILAATLDNTLKLWDYSKGKCLKTYTGHKNEKYCIFANFSVTGGKWIVSGSEDNLVYIWNLQTKEIVQKLQGHTDVVISTACHPTENIIASAALENDKTIKLWKSDC', 'MATEEKKPETEAARAQPTPSSSATQSKPTPVKPNYALKFTLAGHTKAVSSVKFSPNGEWLASSSADKLIKIWGAYDGKFEKTISGHKLGISDVAWSSDSNLLVSASDDKTLKIWDVSSGKCLKTLKGHSNYVFCCNFNPQSNLIVSGSFDESVRIWDVKTGKCLKTLPAHSDPVSAVHFNRDGSLIVSSSYDGLCRIWDTASGQCLKTLIDDDNPPVSFVKFSPNGKYILAATLDNTLKLWDYSKGKCLKTYTGHKNEKYCIFANFSVTGGKWIVSGSEDNLVYIWNLQTKEIVQKLQGHTDVVISTACHPTENIIASAALENDKTIKLWKSDC', 'MATEEKKPETEAARAQPTPSSSATQSKPTPVKPNYALKFTLAGHTKAVSSVKFSPNGEWLASSSADKLIKIWGAYDGKFEKTISGHKLGISDVAWSSDSNLLVSASDDKTLKIWDVSSGKCLKTLKGHSNYVFCCNFNPQSNLIVSGSFDESVRIWDVKTGKCLKTLPAHSDPVSAVHFNRDGSLIVSSSYDGLCRIWDTASGQCLKTLIDDDNPPVSFVKFSPNGKYILAATLDNTLKLWDYSKGKCLKTYTGHKNEKYCIFANFSVTGGKWIVSGSEDNLVYIWNLQTKEIVQKLQGHTDVVISTACHPTENIIASAALENDKTIKLWKSDC', 'MAEEIPATASFTPYVHSQTLTSHNRAVSSVKFSSDGRLLASASADKTIRTYTINTINDPIAEPVQEFTGHENGISDVAFSSDARFIVSASDDKTLKLWDVETGSLIKTLIGHTNYAFCVNFNPQSNMIVSGSFDETVRIWDVTTGKCLKVLPAHSDPVTAVDFNRDGSLIVSSSYDGLCRIWDSGTGHCVKTLIDDENPPVSFVRFSPNGKFILVGTLDNTLRLWNISSAKFLKTYTGHVNAQYCISSAFSVTNGKRIVSGSEDNCVHMWELNSKKLLQKLEGHTETVMNVACHPTENLIASGSLDKTVRIWTQKKE', 'MATGEKKPETEAARAQPTPSSSATQSKPTPVKPNYALKFTLAGHTKAVSSVKFSPNGEWLASSSADKLIKIWGAYDGKFEKTISGHKLGISDVAWSSDSNLLVSASDDKTLKIWDVSSGKCLKTLKGHSNYVFCCNFNPQSNLIVSGSFDESVRIWDVKTGKCLKTLPAHSDPVSAVHFNRDGSLIVSSSYDGLCRIWDTASGQCLKTLIDDDNPPVSFVKFSPNGKYILAATLDNTLKLWDYSKGKCLKTYTGHKNEKYCIFANFSVTGGKWIVSGSEDNLVYIWNLQTKEIVQKLQGHTDVVISTACHPTENIIASAALENDKTIKLWKSDC', 'MATEEKKPETEAARAQPTPSSSATQSKPTPVKPNYALKFTLAGHTKAVSSVKFSPNGEWLASSSADKLIKIWGAYDGKFEKTISGHKLGISDVAWSSDSNLLVSASDDKTLKIWDVSSGKCLKTLKGHSNYVFCCNFNPQSNLIVSGSFDESVRIWDVKTGKCLKTLPAHSDPVSAVHFNRDGSLIVSSSYDGLCRIWDTASGQCLKTLIDDDNPPVSFVKFSPNGKYILAATLDNTLKLWDYSKGKCLKTYTGHKNEKYCIFANFSVTGGKWIVSGSEDNLVYIWNLQTKEIVQKLQGHTDVVISTACHPTENIIASAALENDKTIKLWKSDC', 'MATEEKKPETEAARAQPTPSSSATQSKPTPVKPNYALKFTLAGHTKAVSSVKFSPNGEWLASSSADKLIKIWGAYDGKFEKTISGHKLGISDVAWSSDSNLLVSASDDKTLKIWDVSSGKCLKTLKGHSNYVFCCNFNPQSNLIVSGSFDESVRIWDVKTGKCLKTLPAHSDPVSAVHFNRDGSLIVSSSYDGLCRIWDTASGQCLKTLIDDDNPPVSFVKFSPNGKYILAATLDNTLKLWDYSKGKWIVSGSEDNLVYIWNLQTKEIVQKLQGHTGELGSCGRVLLAHAAGFWKDTDRQCVCRLFCLFFLGPLVAWGLLPGWERLLSGLSELPAGRARWCL', 'MATEEKKPETEAARAQPTPSSSATQSKPTPVKPNYALKFTLAGHTKAVSSVKFSPNGEWLASSSADKLIKIWGAYDGKFEKTISGHKLGISDVAWSSDSNLLVSASDDKTLKIWDVSSGKCLKTLKGHSNYVFCCNFNPQSNLIVSGSFDESVRIWDVKTGKCLKTLPAHSDPVSAVHFNRDGSLIVSSSYDGLCRIWDTASGQCLKTLIDDDNPPVSFVKFSPNGKYILAATLDNTLKLWDYSKGKCLKTYTGHKNEKYCIFANFSVTGGKWIVSGSEDNLVYIWNLQTKEIVQKLQGHTDVVISTACHPTENIIASAALENDKTIKLWKSDC']\n"
     ]
    }
   ],
   "source": [
    "import sys\n",
    "fasta = []\n",
    "test = []\n",
    "with open(\"example.fasta\") as file_one:\n",
    "    for line in file_one:\n",
    "        line = line.strip()\n",
    "        if not line:\n",
    "           continue\n",
    "        if line.startswith(\">\"):\n",
    "            active_sequence_name = line[1:]\n",
    "            if active_sequence_name not in fasta:\n",
    "                test.append(''.join(fasta))\n",
    "                fasta = []\n",
    "            continue\n",
    "        sequence = line\n",
    "        fasta.append(sequence)\n",
    "print(test)"
   ]
  },
  {
   "cell_type": "code",
   "execution_count": null,
   "id": "c5f3aa33",
   "metadata": {},
   "outputs": [],
   "source": []
  }
 ],
 "metadata": {
  "kernelspec": {
   "display_name": "Python 3",
   "language": "python",
   "name": "python3"
  },
  "language_info": {
   "codemirror_mode": {
    "name": "ipython",
    "version": 3
   },
   "file_extension": ".py",
   "mimetype": "text/x-python",
   "name": "python",
   "nbconvert_exporter": "python",
   "pygments_lexer": "ipython3",
   "version": "3.8.8"
  }
 },
 "nbformat": 4,
 "nbformat_minor": 5
}
