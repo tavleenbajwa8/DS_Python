{
 "cells": [
  {
   "cell_type": "markdown",
   "id": "5636e986",
   "metadata": {},
   "source": [
    "def read_file(path) -> file || [],{}\n",
    "\n",
    "def transform(file) -> []\n",
    "\n",
    "def write_file(path,[]) -> None || '' || true\n",
    "\n",
    "Use functions stated above (or more) to reorganize csv_to_dict script\n",
    "\n",
    "use json module to convert data structure (dictionary) to write to a file\n",
    "\n",
    "json validator: https://jsonlint.com/\n",
    "\n",
    "Note: if facing issue with input file you can take any csv file from the following URL for more simpler, cleaner CSV input\n",
    "\n",
    "https://people.sc.fsu.edu/~jburkardt/data/csv/csv.html"
   ]
  },
  {
   "cell_type": "code",
   "execution_count": 1,
   "id": "4fb669d6",
   "metadata": {},
   "outputs": [],
   "source": [
    "import json\n",
    "import csv\n",
    "\n",
    "def csv_to_json(csv_path, json_path):\n",
    "\n",
    "    with open(csv_path, 'r') as f:\n",
    "        reader = csv.reader(f)\n",
    "        next(reader)\n",
    "        data = {\"addresses\": []}\n",
    "        for row in reader:\n",
    "             data[\"addresses\"].append({\"firstname\":\n",
    "             row[0], \"lastname\": row[1], \"Building\": row[2], \"Town\": row[3], \"City\": row[4], \"Pin\": row[5]})\n",
    "\n",
    "    with open(json_path, \"w\") as f:\n",
    "        json.dump(data, f, indent=4)\n",
    "\n",
    "\n",
    "csv_path = r'C:\\Users\\Lakshya\\Downloads\\addresses.csv'\n",
    "json_path = 'addresses3.json'\n",
    "csv_to_json(csv_path,json_path)"
   ]
  }
 ],
 "metadata": {
  "kernelspec": {
   "display_name": "Python 3",
   "language": "python",
   "name": "python3"
  },
  "language_info": {
   "codemirror_mode": {
    "name": "ipython",
    "version": 3
   },
   "file_extension": ".py",
   "mimetype": "text/x-python",
   "name": "python",
   "nbconvert_exporter": "python",
   "pygments_lexer": "ipython3",
   "version": "3.8.8"
  }
 },
 "nbformat": 4,
 "nbformat_minor": 5
}
