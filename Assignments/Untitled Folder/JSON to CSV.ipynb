{
 "cells": [
  {
   "cell_type": "code",
   "execution_count": 5,
   "id": "df78d599",
   "metadata": {},
   "outputs": [
    {
     "name": "stdout",
     "output_type": "stream",
     "text": [
      "{'colors': [{'color': 'black', 'category': 'hue', 'type': 'primary', 'code': {'rgba': [255, 255, 255, 1], 'hex': '#000'}}, {'color': 'white', 'category': 'value', 'code': {'rgba': [0, 0, 0, 1], 'hex': '#FFF'}}, {'color': 'red', 'category': 'hue', 'type': 'primary', 'code': {'rgba': [255, 0, 0, 1], 'hex': '#FF0'}}, {'color': 'blue', 'category': 'hue', 'type': 'primary', 'code': {'rgba': [0, 0, 255, 1], 'hex': '#00F'}}, {'color': 'yellow', 'category': 'hue', 'type': 'primary', 'code': {'rgba': [255, 255, 0, 1], 'hex': '#FF0'}}, {'color': 'green', 'category': 'hue', 'type': 'secondary', 'code': {'rgba': [0, 255, 0, 1], 'hex': '#0F0'}}]}\n"
     ]
    }
   ],
   "source": [
    "import json\n",
    "import csv\n",
    "with open(r\"main.json\") as f:\n",
    "    data = json.load(f)\n",
    "print(data)"
   ]
  },
  {
   "cell_type": "code",
   "execution_count": 7,
   "id": "e0e93f95",
   "metadata": {},
   "outputs": [
    {
     "data": {
      "text/plain": [
       "dict"
      ]
     },
     "execution_count": 7,
     "metadata": {},
     "output_type": "execute_result"
    }
   ],
   "source": [
    "type(data)"
   ]
  },
  {
   "cell_type": "code",
   "execution_count": 70,
   "id": "4f02b3de",
   "metadata": {},
   "outputs": [
    {
     "name": "stdout",
     "output_type": "stream",
     "text": [
      "[{'color': 'red', 'category': 'hue', 'type': 'primary', 'code': {'rgba': [255, 255, 255, 1], 'hex': '#000'}}, {'color': 'red', 'category': 'gue', 'code': {'rgba': [0, 0, 0, 1], 'hex': '#FFF'}}, {'color': 'red', 'category': 'hue', 'type': 'primary', 'code': {'rgba': [255, 0, 0, 1], 'hex': '#FF0'}}, {'color': 'red', 'category': 'hue', 'type': 'primary', 'code': {'rgba': [0, 0, 255, 1], 'hex': '#00F'}}, {'color': 'red', 'category': 'hue', 'type': 'primary', 'code': {'rgba': [255, 255, 0, 1], 'hex': '#FF0'}}, {'color': 'red', 'category': 'hue', 'type': 'secondary', 'code': {'rgba': [0, 255, 0, 1], 'hex': '#0F0'}}]\n"
     ]
    }
   ],
   "source": [
    "for i in data:\n",
    "    l = data[i]\n",
    "    l[1]['category'] = \"gue\"\n",
    "print(l)\n",
    "    \n",
    "#print(data.values())"
   ]
  },
  {
   "cell_type": "code",
   "execution_count": 72,
   "id": "acfe0d07",
   "metadata": {},
   "outputs": [],
   "source": [
    "for i in data:\n",
    "    data[i] = l"
   ]
  },
  {
   "cell_type": "code",
   "execution_count": 73,
   "id": "d3958857",
   "metadata": {},
   "outputs": [
    {
     "data": {
      "text/plain": [
       "{'colors': [{'color': 'red',\n",
       "   'category': 'hue',\n",
       "   'type': 'primary',\n",
       "   'code': {'rgba': [255, 255, 255, 1], 'hex': '#000'}},\n",
       "  {'color': 'red',\n",
       "   'category': 'gue',\n",
       "   'code': {'rgba': [0, 0, 0, 1], 'hex': '#FFF'}},\n",
       "  {'color': 'red',\n",
       "   'category': 'hue',\n",
       "   'type': 'primary',\n",
       "   'code': {'rgba': [255, 0, 0, 1], 'hex': '#FF0'}},\n",
       "  {'color': 'red',\n",
       "   'category': 'hue',\n",
       "   'type': 'primary',\n",
       "   'code': {'rgba': [0, 0, 255, 1], 'hex': '#00F'}},\n",
       "  {'color': 'red',\n",
       "   'category': 'hue',\n",
       "   'type': 'primary',\n",
       "   'code': {'rgba': [255, 255, 0, 1], 'hex': '#FF0'}},\n",
       "  {'color': 'red',\n",
       "   'category': 'hue',\n",
       "   'type': 'secondary',\n",
       "   'code': {'rgba': [0, 255, 0, 1], 'hex': '#0F0'}}]}"
      ]
     },
     "execution_count": 73,
     "metadata": {},
     "output_type": "execute_result"
    }
   ],
   "source": [
    "data"
   ]
  },
  {
   "cell_type": "code",
   "execution_count": 87,
   "id": "593928ec",
   "metadata": {},
   "outputs": [
    {
     "name": "stdout",
     "output_type": "stream",
     "text": [
      "[{'color': 'red', 'category': 'hue', 'type': 'primary', 'code': {'rgba': [255, 255, 255, 1], 'hex': '#000'}}, {'color': 'red', 'category': 'gue', 'code': {'rgba': [0, 3, 0, 1], 'hex': '#FFF'}}, {'color': 'red', 'category': 'hue', 'type': 'primary', 'code': {'rgba': [255, 0, 0, 1], 'hex': '#FF0'}}, {'color': 'red', 'category': 'hue', 'type': 'primary', 'code': {'rgba': [0, 0, 255, 1], 'hex': '#00F'}}, {'color': 'red', 'category': 'hue', 'type': 'primary', 'code': {'rgba': [255, 255, 0, 1], 'hex': '#FF0'}}, {'color': 'red', 'category': 'hue', 'type': 'secondary', 'code': {'rgba': [0, 255, 0, 1], 'hex': '#0F0'}}]\n",
      "{'rgba': [0, 3, 0, 1], 'hex': '#FFF'}\n",
      "{'rgba': [0, 3, 0, 1], 'hex': '#FFF'}\n",
      "[{'color': 'red', 'category': 'hue', 'type': 'primary', 'code': {'rgba': [255, 255, 255, 1], 'hex': '#000'}}, {'color': 'red', 'category': 'gue', 'code': {'rgba': [0, 3, 0, 1], 'hex': '#FFF'}}, {'color': 'red', 'category': 'hue', 'type': 'primary', 'code': {'rgba': [255, 0, 0, 1], 'hex': '#FF0'}}, {'color': 'red', 'category': 'hue', 'type': 'primary', 'code': {'rgba': [0, 0, 255, 1], 'hex': '#00F'}}, {'color': 'red', 'category': 'hue', 'type': 'primary', 'code': {'rgba': [255, 255, 0, 1], 'hex': '#FF0'}}, {'color': 'red', 'category': 'hue', 'type': 'secondary', 'code': {'rgba': [0, 255, 0, 1], 'hex': '#0F0'}}]\n"
     ]
    }
   ],
   "source": [
    "for i in data:\n",
    "    l = data[i]\n",
    "    print(l)\n",
    "    x = l[1][\"code\"]\n",
    "print(x)\n",
    "x['rgba'][1] = 3 \n",
    "print(x)\n",
    "print(l)\n",
    "        \n",
    "    \n",
    "    "
   ]
  },
  {
   "cell_type": "code",
   "execution_count": null,
   "id": "23649798",
   "metadata": {},
   "outputs": [],
   "source": [
    "for i in data:\n",
    "    l = data[i]\n",
    "    print(l)\n",
    "    x = l[1][\"code\"]['rgba'][1] = 4\n",
    "print(x)\n",
    "x['rgba'][1] = 3 \n",
    "print(x)\n",
    "print(l)\n",
    "        "
   ]
  },
  {
   "cell_type": "code",
   "execution_count": 63,
   "id": "82fed550",
   "metadata": {},
   "outputs": [
    {
     "name": "stdout",
     "output_type": "stream",
     "text": [
      "{'color': 'red', 'category': 'hue', 'type': 'primary', 'code': {'rgba': [255, 255, 255, 1], 'hex': '#000'}}\n",
      "{'color': 'red', 'category': 'hue', 'code': {'rgba': [0, 0, 0, 1], 'hex': '#FFF'}}\n",
      "{'color': 'red', 'category': 'hue', 'type': 'primary', 'code': {'rgba': [255, 0, 0, 1], 'hex': '#FF0'}}\n",
      "{'color': 'red', 'category': 'hue', 'type': 'primary', 'code': {'rgba': [0, 0, 255, 1], 'hex': '#00F'}}\n",
      "{'color': 'red', 'category': 'hue', 'type': 'primary', 'code': {'rgba': [255, 255, 0, 1], 'hex': '#FF0'}}\n",
      "{'color': 'red', 'category': 'hue', 'type': 'secondary', 'code': {'rgba': [0, 255, 0, 1], 'hex': '#0F0'}}\n"
     ]
    }
   ],
   "source": [
    "for i in data:\n",
    "    #print(data[i])\n",
    "    for k in data[i]:\n",
    "        #print(k)\n",
    "        for key in k.keys():\n",
    "            k['category'] = 'hue'\n",
    "        print(k)"
   ]
  },
  {
   "cell_type": "code",
   "execution_count": 20,
   "id": "c50717b5",
   "metadata": {},
   "outputs": [
    {
     "name": "stdout",
     "output_type": "stream",
     "text": [
      "{'color': 'black', 'category': 'bue', 'type': 'primary', 'code': {'rgba': [255, 255, 255, 1], 'hex': '#000'}}\n",
      "{'color': 'white', 'category': 'bue', 'code': {'rgba': [0, 0, 0, 1], 'hex': '#FFF'}}\n",
      "{'color': 'red', 'category': 'bue', 'type': 'primary', 'code': {'rgba': [255, 0, 0, 1], 'hex': '#FF0'}}\n",
      "{'color': 'blue', 'category': 'bue', 'type': 'primary', 'code': {'rgba': [0, 0, 255, 1], 'hex': '#00F'}}\n",
      "{'color': 'yellow', 'category': 'bue', 'type': 'primary', 'code': {'rgba': [255, 255, 0, 1], 'hex': '#FF0'}}\n",
      "{'color': 'green', 'category': 'bue', 'type': 'secondary', 'code': {'rgba': [0, 255, 0, 1], 'hex': '#0F0'}}\n",
      "bue\n"
     ]
    }
   ],
   "source": []
  },
  {
   "cell_type": "code",
   "execution_count": 49,
   "id": "d56b0d65",
   "metadata": {},
   "outputs": [
    {
     "name": "stdout",
     "output_type": "stream",
     "text": [
      "{'colors': [{'color': 'red', 'category': 'bue', 'type': 'primary', 'code': {'rgba': [255, 255, 255, 1], 'hex': '#000'}}, {'color': 'red', 'category': 'bue', 'code': {'rgba': [0, 0, 0, 1], 'hex': '#FFF'}}, {'color': 'red', 'category': 'bue', 'type': 'primary', 'code': {'rgba': [255, 0, 0, 1], 'hex': '#FF0'}}, {'color': 'red', 'category': 'bue', 'type': 'primary', 'code': {'rgba': [0, 0, 255, 1], 'hex': '#00F'}}, {'color': 'red', 'category': 'bue', 'type': 'primary', 'code': {'rgba': [255, 255, 0, 1], 'hex': '#FF0'}}, {'color': 'red', 'category': 'bue', 'type': 'secondary', 'code': {'rgba': [0, 255, 0, 1], 'hex': '#0F0'}}]}\n"
     ]
    },
    {
     "ename": "TypeError",
     "evalue": "'str' object does not support item assignment",
     "output_type": "error",
     "traceback": [
      "\u001b[1;31m---------------------------------------------------------------------------\u001b[0m",
      "\u001b[1;31mTypeError\u001b[0m                                 Traceback (most recent call last)",
      "\u001b[1;32m<ipython-input-49-32a4a438b733>\u001b[0m in \u001b[0;36m<module>\u001b[1;34m\u001b[0m\n\u001b[0;32m      6\u001b[0m     \u001b[1;32mfor\u001b[0m \u001b[0mi\u001b[0m \u001b[1;32min\u001b[0m \u001b[0mvallist\u001b[0m\u001b[1;33m:\u001b[0m\u001b[1;33m\u001b[0m\u001b[1;33m\u001b[0m\u001b[0m\n\u001b[0;32m      7\u001b[0m         \u001b[1;32mfor\u001b[0m \u001b[0mj\u001b[0m \u001b[1;32min\u001b[0m \u001b[0mi\u001b[0m\u001b[1;33m.\u001b[0m\u001b[0mkeys\u001b[0m\u001b[1;33m(\u001b[0m\u001b[1;33m)\u001b[0m\u001b[1;33m:\u001b[0m\u001b[1;33m\u001b[0m\u001b[1;33m\u001b[0m\u001b[0m\n\u001b[1;32m----> 8\u001b[1;33m             \u001b[0mj\u001b[0m\u001b[1;33m[\u001b[0m\u001b[1;34m\"color\"\u001b[0m\u001b[1;33m]\u001b[0m \u001b[1;33m=\u001b[0m \u001b[1;34m\"yellow\"\u001b[0m\u001b[1;33m\u001b[0m\u001b[1;33m\u001b[0m\u001b[0m\n\u001b[0m\u001b[0;32m      9\u001b[0m \u001b[1;33m\u001b[0m\u001b[0m\n",
      "\u001b[1;31mTypeError\u001b[0m: 'str' object does not support item assignment"
     ]
    }
   ],
   "source": [
    "print(data)\n",
    "d = {}\n",
    "for dics in data.keys():\n",
    "    vallist = data[dics]   #Value of key \"colors\" is printed, value(data[dics]) here is a list with multiple dictionaries\n",
    "    \n",
    "    for i in vallist:\n",
    "        for j in i.keys():\n",
    "            j[\"color\"] = \"yellow\"\n",
    "        "
   ]
  },
  {
   "cell_type": "code",
   "execution_count": null,
   "id": "cfd73242",
   "metadata": {},
   "outputs": [],
   "source": []
  }
 ],
 "metadata": {
  "kernelspec": {
   "display_name": "Python 3",
   "language": "python",
   "name": "python3"
  },
  "language_info": {
   "codemirror_mode": {
    "name": "ipython",
    "version": 3
   },
   "file_extension": ".py",
   "mimetype": "text/x-python",
   "name": "python",
   "nbconvert_exporter": "python",
   "pygments_lexer": "ipython3",
   "version": "3.8.8"
  }
 },
 "nbformat": 4,
 "nbformat_minor": 5
}
