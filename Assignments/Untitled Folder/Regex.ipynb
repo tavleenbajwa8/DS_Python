{
 "cells": [
  {
   "cell_type": "code",
   "execution_count": 1,
   "metadata": {},
   "outputs": [],
   "source": [
    "#Metacharacters: ^ , $ , . ,+  , {}, [], ?, (), \\, |\n",
    "\n",
    "\n",
    "\n",
    "\n",
    "\n",
    "#PYTHEX: rEGEX cHECHER\n"
   ]
  },
  {
   "cell_type": "code",
   "execution_count": 2,
   "metadata": {},
   "outputs": [],
   "source": [
    "import re"
   ]
  },
  {
   "cell_type": "code",
   "execution_count": 13,
   "metadata": {},
   "outputs": [
    {
     "name": "stdout",
     "output_type": "stream",
     "text": [
      "['a', 'b', 'c', 'c', 'a']\n"
     ]
    }
   ],
   "source": [
    "target_string = \"jupyter abc c a\"\n",
    "pattern = \"[abc]\"\n",
    "\n",
    "#from re import findall\n",
    "match = re.findall(pattern, target_string)\n",
    "print(match)"
   ]
  },
  {
   "cell_type": "code",
   "execution_count": 9,
   "metadata": {},
   "outputs": [
    {
     "data": {
      "text/plain": [
       "[<re.Match object; span=(2, 5), match='CDC'>]"
      ]
     },
     "execution_count": 9,
     "metadata": {},
     "output_type": "execute_result"
    }
   ],
   "source": [
    "list(re.finditer(b,a))"
   ]
  },
  {
   "cell_type": "code",
   "execution_count": 15,
   "metadata": {},
   "outputs": [
    {
     "name": "stdout",
     "output_type": "stream",
     "text": [
      "2\n"
     ]
    }
   ],
   "source": [
    "a = \"ABCDCDC\"\n",
    "B = \"CDC\"\n",
    "m = len(a)\n",
    "n = len(b)\n",
    "count = 0\n",
    "for i in range(m-n+1):\n",
    "    j = 0\n",
    "    while j < n:\n",
    "        if a[i + j] != b[j]:\n",
    "            break\n",
    "        j += 1\n",
    "    \n",
    "    if j == n:\n",
    "        count+=1\n",
    "        print\n",
    "print(count)\n",
    "        "
   ]
  },
  {
   "cell_type": "code",
   "execution_count": 19,
   "metadata": {},
   "outputs": [
    {
     "name": "stdout",
     "output_type": "stream",
     "text": [
      "['j', 'u', 'p', 'y', 't', 'e', 'r', 'C', 'A', 'P', 'I', 'T', 'A', 'L']\n"
     ]
    }
   ],
   "source": [
    "target_string = \"jupyter CAPITAL\"\n",
    "pattern = \"[a-zA-Z]\"  # '-' is used to give range\n",
    "\n",
    "#from re import findall\n",
    "match = re.findall(pattern, target_string)\n",
    "print(match)"
   ]
  },
  {
   "cell_type": "code",
   "execution_count": 20,
   "metadata": {},
   "outputs": [
    {
     "name": "stdout",
     "output_type": "stream",
     "text": [
      "['9', '0']\n"
     ]
    }
   ],
   "source": [
    "target_string = \"lower 90 __\"\n",
    "pattern = \"[^\\D]\"  # '-' is used to give range\n",
    "\n",
    "#from re import findall\n",
    "match = re.findall(pattern, target_string)\n",
    "print(match)"
   ]
  },
  {
   "cell_type": "code",
   "execution_count": 22,
   "metadata": {},
   "outputs": [
    {
     "name": "stdout",
     "output_type": "stream",
     "text": [
      "['l', 'o', 'w', 'e', 'r', ' ', ' ', '_', '_']\n"
     ]
    }
   ],
   "source": [
    "target_string = \"lower 90 __\"\n",
    "pattern = \"[\\D]\"  # '-' is used to give range   [^0-9] : ^ makes it non- therefore it says any non digit character\n",
    "\n",
    "#from re import findall\n",
    "match = re.findall(pattern, target_string)\n",
    "print(match)"
   ]
  },
  {
   "cell_type": "code",
   "execution_count": 26,
   "metadata": {},
   "outputs": [
    {
     "name": "stdout",
     "output_type": "stream",
     "text": [
      "['b']\n"
     ]
    }
   ],
   "source": [
    "target_string = \"bhii\"\n",
    "pattern = \"^[ab]\"  #starts with a or b\n",
    "\n",
    "#from re import findall\n",
    "match = re.findall(pattern, target_string)\n",
    "print(match)"
   ]
  },
  {
   "cell_type": "code",
   "execution_count": 28,
   "metadata": {},
   "outputs": [
    {
     "name": "stdout",
     "output_type": "stream",
     "text": [
      "['h', 'j', 's', ' ', 'h', 'h']\n"
     ]
    }
   ],
   "source": [
    "target_string = \"ahbajs bhh\"\n",
    "pattern = \"[^ab]\"  # '-' is used to give range   [^0-9] : ^ makes it non- therefore it says any non digit character\n",
    "\n",
    "#from re import findall\n",
    "match = re.findall(pattern, target_string)\n",
    "print(match)"
   ]
  },
  {
   "cell_type": "code",
   "execution_count": null,
   "metadata": {},
   "outputs": [],
   "source": [
    "'^[]' : match the first character\n",
    "'[^ ]' : Inverse of the given"
   ]
  },
  {
   "cell_type": "code",
   "execution_count": 29,
   "metadata": {},
   "outputs": [
    {
     "name": "stdout",
     "output_type": "stream",
     "text": [
      "[]\n"
     ]
    }
   ],
   "source": [
    "target_string = \"ab\"\n",
    "pattern = \"^ab.\" \n",
    "\n",
    "print(re.findall(pattern, target_string))\n"
   ]
  },
  {
   "cell_type": "code",
   "execution_count": 30,
   "metadata": {},
   "outputs": [
    {
     "name": "stdout",
     "output_type": "stream",
     "text": [
      "['abc']\n"
     ]
    }
   ],
   "source": [
    "target_string = \"abc\"\n",
    "pattern = \"^ab.\"  \n",
    "\n",
    "print(re.findall(pattern, target_string))\n"
   ]
  },
  {
   "cell_type": "code",
   "execution_count": 31,
   "metadata": {},
   "outputs": [],
   "source": [
    "#if we use \\ slash before any special character it will try to match the special character also"
   ]
  },
  {
   "cell_type": "code",
   "execution_count": 34,
   "metadata": {},
   "outputs": [
    {
     "name": "stdout",
     "output_type": "stream",
     "text": [
      "['$abc']\n"
     ]
    }
   ],
   "source": [
    "target_string = \"$abc\"\n",
    "pattern = \"^\\$ab.\"  \n",
    "\n",
    "print(re.findall(pattern, target_string))\n"
   ]
  },
  {
   "cell_type": "code",
   "execution_count": null,
   "metadata": {},
   "outputs": [],
   "source": [
    "+ : Matches one or more occurences of the pattern left to it"
   ]
  },
  {
   "cell_type": "code",
   "execution_count": 35,
   "metadata": {},
   "outputs": [
    {
     "name": "stdout",
     "output_type": "stream",
     "text": [
      "['maan']\n"
     ]
    }
   ],
   "source": [
    "target_string = \"maan\"\n",
    "pattern = \"^ma+n\"  \n",
    "\n",
    "print(re.findall(pattern, target_string))\n"
   ]
  },
  {
   "cell_type": "code",
   "execution_count": 36,
   "metadata": {},
   "outputs": [
    {
     "name": "stdout",
     "output_type": "stream",
     "text": [
      "['maan']\n"
     ]
    }
   ],
   "source": [
    "target_string = \"maan\"\n",
    "pattern = \"ma+n\"  \n",
    "\n",
    "print(re.findall(pattern, target_string))\n"
   ]
  },
  {
   "cell_type": "code",
   "execution_count": 40,
   "metadata": {},
   "outputs": [
    {
     "name": "stdout",
     "output_type": "stream",
     "text": [
      "['man', 'man', 'maaan']\n"
     ]
    }
   ],
   "source": [
    "target_string = \"assabkcbmanmannmaaan\"\n",
    "pattern = \"ma+n\"  \n",
    "\n",
    "print(re.findall(pattern, target_string))\n"
   ]
  },
  {
   "cell_type": "code",
   "execution_count": null,
   "metadata": {},
   "outputs": [],
   "source": [
    "* : append only 0 or multiple occurences of left character"
   ]
  },
  {
   "cell_type": "code",
   "execution_count": null,
   "metadata": {},
   "outputs": [],
   "source": [
    "? : append only 0 or 1 occurence of left character"
   ]
  },
  {
   "cell_type": "code",
   "execution_count": 41,
   "metadata": {},
   "outputs": [
    {
     "name": "stdout",
     "output_type": "stream",
     "text": [
      "[]\n"
     ]
    }
   ],
   "source": [
    "target_string = \"maaaan\"\n",
    "pattern = \"ma?n\"  \n",
    "\n",
    "print(re.findall(pattern, target_string))\n"
   ]
  },
  {
   "cell_type": "code",
   "execution_count": 42,
   "metadata": {},
   "outputs": [
    {
     "name": "stdout",
     "output_type": "stream",
     "text": [
      "['man']\n"
     ]
    }
   ],
   "source": [
    "target_string = \"man\"\n",
    "pattern = \"ma?n\"  \n",
    "\n",
    "print(re.findall(pattern, target_string))\n"
   ]
  },
  {
   "cell_type": "code",
   "execution_count": 43,
   "metadata": {},
   "outputs": [
    {
     "name": "stdout",
     "output_type": "stream",
     "text": [
      "['mn']\n"
     ]
    }
   ],
   "source": [
    "target_string = \"mn\"\n",
    "pattern = \"ma?n\"  \n",
    "\n",
    "print(re.findall(pattern, target_string))\n"
   ]
  },
  {
   "cell_type": "code",
   "execution_count": 45,
   "metadata": {},
   "outputs": [
    {
     "name": "stdout",
     "output_type": "stream",
     "text": [
      "['maaaaaan', 'man', 'maaaan', 'mn']\n"
     ]
    }
   ],
   "source": [
    "target_string = \"maaaaaan man maaaan mn\"\n",
    "pattern = \"ma*n\"  \n",
    "\n",
    "print(re.findall(pattern, target_string))\n"
   ]
  },
  {
   "cell_type": "code",
   "execution_count": 46,
   "metadata": {},
   "outputs": [
    {
     "name": "stdout",
     "output_type": "stream",
     "text": [
      "['', 'aa', 'aa', '', '']\n"
     ]
    }
   ],
   "source": [
    "target_string = \"maaaan\"\n",
    "pattern = \"a{0,2}\"  \n",
    "\n",
    "print(re.findall(pattern, target_string))\n"
   ]
  },
  {
   "cell_type": "code",
   "execution_count": 49,
   "metadata": {},
   "outputs": [
    {
     "name": "stdout",
     "output_type": "stream",
     "text": [
      "['aaa', 'a', 'aaa', 'a']\n"
     ]
    }
   ],
   "source": [
    "target_string = \"maaaanaaaa\"\n",
    "pattern = \"a{1,3}\"  \n",
    "\n",
    "print(re.findall(pattern, target_string))\n"
   ]
  },
  {
   "cell_type": "code",
   "execution_count": 50,
   "metadata": {},
   "outputs": [
    {
     "ename": "SyntaxError",
     "evalue": "invalid syntax (<ipython-input-50-543b4d8a02ca>, line 1)",
     "output_type": "error",
     "traceback": [
      "\u001b[0;36m  File \u001b[0;32m\"<ipython-input-50-543b4d8a02ca>\"\u001b[0;36m, line \u001b[0;32m1\u001b[0m\n\u001b[0;31m    | : Alteration \"or\" operator\u001b[0m\n\u001b[0m    ^\u001b[0m\n\u001b[0;31mSyntaxError\u001b[0m\u001b[0;31m:\u001b[0m invalid syntax\n"
     ]
    }
   ],
   "source": [
    "| : Alteration \"or\" operator "
   ]
  },
  {
   "cell_type": "code",
   "execution_count": 55,
   "metadata": {},
   "outputs": [
    {
     "name": "stdout",
     "output_type": "stream",
     "text": [
      "['a', 'a', 'n', 'n', 'n', 'n', 'n', 'n', 'n', 'c', 'c']\n"
     ]
    }
   ],
   "source": [
    "target_string = \"aannnnnnnbbcc\"\n",
    "pattern = \"[a | n | c]\"  \n",
    "\n",
    "print(re.findall(pattern, target_string))\n"
   ]
  },
  {
   "cell_type": "code",
   "execution_count": 60,
   "metadata": {},
   "outputs": [
    {
     "ename": "SyntaxError",
     "evalue": "EOL while scanning string literal (<ipython-input-60-e14f84a96b9f>, line 1)",
     "output_type": "error",
     "traceback": [
      "\u001b[0;36m  File \u001b[0;32m\"<ipython-input-60-e14f84a96b9f>\"\u001b[0;36m, line \u001b[0;32m1\u001b[0m\n\u001b[0;31m    target_string = \"'abhhhhab'\u001b[0m\n\u001b[0m                               ^\u001b[0m\n\u001b[0;31mSyntaxError\u001b[0m\u001b[0;31m:\u001b[0m EOL while scanning string literal\n"
     ]
    }
   ],
   "source": [
    "target_string = \"'abhhhhab'\n",
    "pattern = \"[\\'ab\\']\"  \n",
    "\n",
    "print(re.findall(pattern, target_string))\n"
   ]
  },
  {
   "cell_type": "code",
   "execution_count": 57,
   "metadata": {},
   "outputs": [
    {
     "name": "stdout",
     "output_type": "stream",
     "text": [
      "['a', 'b', 'a', 'b']\n"
     ]
    }
   ],
   "source": [
    "target_string = \"abhhhhab\"\n",
    "pattern = \"[ab]\"  \n",
    "\n",
    "print(re.findall(pattern, target_string))\n"
   ]
  },
  {
   "cell_type": "code",
   "execution_count": 61,
   "metadata": {},
   "outputs": [
    {
     "ename": "TypeError",
     "evalue": "unhashable type: 'list'",
     "output_type": "error",
     "traceback": [
      "\u001b[0;31m---------------------------------------------------------------------------\u001b[0m",
      "\u001b[0;31mTypeError\u001b[0m                                 Traceback (most recent call last)",
      "\u001b[0;32m<ipython-input-61-391dd0dac5cb>\u001b[0m in \u001b[0;36m<module>\u001b[0;34m\u001b[0m\n\u001b[1;32m      2\u001b[0m \u001b[0mpattern\u001b[0m \u001b[0;34m=\u001b[0m \u001b[0;34m[\u001b[0m\u001b[0;34m\"ab\"\u001b[0m\u001b[0;34m]\u001b[0m\u001b[0;34m\u001b[0m\u001b[0;34m\u001b[0m\u001b[0m\n\u001b[1;32m      3\u001b[0m \u001b[0;34m\u001b[0m\u001b[0m\n\u001b[0;32m----> 4\u001b[0;31m \u001b[0mprint\u001b[0m\u001b[0;34m(\u001b[0m\u001b[0mre\u001b[0m\u001b[0;34m.\u001b[0m\u001b[0mfindall\u001b[0m\u001b[0;34m(\u001b[0m\u001b[0mpattern\u001b[0m\u001b[0;34m,\u001b[0m \u001b[0mtarget_string\u001b[0m\u001b[0;34m)\u001b[0m\u001b[0;34m)\u001b[0m\u001b[0;34m\u001b[0m\u001b[0;34m\u001b[0m\u001b[0m\n\u001b[0m",
      "\u001b[0;32m/usr/lib/python3.8/re.py\u001b[0m in \u001b[0;36mfindall\u001b[0;34m(pattern, string, flags)\u001b[0m\n\u001b[1;32m    239\u001b[0m \u001b[0;34m\u001b[0m\u001b[0m\n\u001b[1;32m    240\u001b[0m     Empty matches are included in the result.\"\"\"\n\u001b[0;32m--> 241\u001b[0;31m     \u001b[0;32mreturn\u001b[0m \u001b[0m_compile\u001b[0m\u001b[0;34m(\u001b[0m\u001b[0mpattern\u001b[0m\u001b[0;34m,\u001b[0m \u001b[0mflags\u001b[0m\u001b[0;34m)\u001b[0m\u001b[0;34m.\u001b[0m\u001b[0mfindall\u001b[0m\u001b[0;34m(\u001b[0m\u001b[0mstring\u001b[0m\u001b[0;34m)\u001b[0m\u001b[0;34m\u001b[0m\u001b[0;34m\u001b[0m\u001b[0m\n\u001b[0m\u001b[1;32m    242\u001b[0m \u001b[0;34m\u001b[0m\u001b[0m\n\u001b[1;32m    243\u001b[0m \u001b[0;32mdef\u001b[0m \u001b[0mfinditer\u001b[0m\u001b[0;34m(\u001b[0m\u001b[0mpattern\u001b[0m\u001b[0;34m,\u001b[0m \u001b[0mstring\u001b[0m\u001b[0;34m,\u001b[0m \u001b[0mflags\u001b[0m\u001b[0;34m=\u001b[0m\u001b[0;36m0\u001b[0m\u001b[0;34m)\u001b[0m\u001b[0;34m:\u001b[0m\u001b[0;34m\u001b[0m\u001b[0;34m\u001b[0m\u001b[0m\n",
      "\u001b[0;32m/usr/lib/python3.8/re.py\u001b[0m in \u001b[0;36m_compile\u001b[0;34m(pattern, flags)\u001b[0m\n\u001b[1;32m    292\u001b[0m         \u001b[0mflags\u001b[0m \u001b[0;34m=\u001b[0m \u001b[0mflags\u001b[0m\u001b[0;34m.\u001b[0m\u001b[0mvalue\u001b[0m\u001b[0;34m\u001b[0m\u001b[0;34m\u001b[0m\u001b[0m\n\u001b[1;32m    293\u001b[0m     \u001b[0;32mtry\u001b[0m\u001b[0;34m:\u001b[0m\u001b[0;34m\u001b[0m\u001b[0;34m\u001b[0m\u001b[0m\n\u001b[0;32m--> 294\u001b[0;31m         \u001b[0;32mreturn\u001b[0m \u001b[0m_cache\u001b[0m\u001b[0;34m[\u001b[0m\u001b[0mtype\u001b[0m\u001b[0;34m(\u001b[0m\u001b[0mpattern\u001b[0m\u001b[0;34m)\u001b[0m\u001b[0;34m,\u001b[0m \u001b[0mpattern\u001b[0m\u001b[0;34m,\u001b[0m \u001b[0mflags\u001b[0m\u001b[0;34m]\u001b[0m\u001b[0;34m\u001b[0m\u001b[0;34m\u001b[0m\u001b[0m\n\u001b[0m\u001b[1;32m    295\u001b[0m     \u001b[0;32mexcept\u001b[0m \u001b[0mKeyError\u001b[0m\u001b[0;34m:\u001b[0m\u001b[0;34m\u001b[0m\u001b[0;34m\u001b[0m\u001b[0m\n\u001b[1;32m    296\u001b[0m         \u001b[0;32mpass\u001b[0m\u001b[0;34m\u001b[0m\u001b[0;34m\u001b[0m\u001b[0m\n",
      "\u001b[0;31mTypeError\u001b[0m: unhashable type: 'list'"
     ]
    }
   ],
   "source": [
    "target_string = \"abhhhhab\"\n",
    "pattern = [\"ab\"] \n",
    "\n",
    "print(re.findall(pattern, target_string))\n"
   ]
  },
  {
   "cell_type": "code",
   "execution_count": 63,
   "metadata": {},
   "outputs": [
    {
     "name": "stdout",
     "output_type": "stream",
     "text": [
      "['name', 'age']\n"
     ]
    }
   ],
   "source": [
    "target_string = '\"name\", \"age\"'\n",
    "pattern = '\"([^\"]*)\"'     #^\"  e()e: used to extract out anything inside, make subgroups\n",
    "#print(target.split(','))\n",
    "print(re.findall(pattern, target_string))\n"
   ]
  },
  {
   "cell_type": "code",
   "execution_count": 65,
   "metadata": {},
   "outputs": [
    {
     "name": "stdout",
     "output_type": "stream",
     "text": [
      "['name', 'age']\n"
     ]
    }
   ],
   "source": [
    "target_string = '\"name\", \"age\"'\n",
    "pattern = '\"([a-z]*)\"'     #^\"  e()e: used to extract out anything inside, make subgroups\n",
    "#print(target.split(','))\n",
    "print(re.findall(pattern, target_string))\n"
   ]
  },
  {
   "cell_type": "code",
   "execution_count": 73,
   "metadata": {},
   "outputs": [
    {
     "name": "stdout",
     "output_type": "stream",
     "text": [
      "801\n",
      "2\n",
      "8\n",
      "(2, 8)\n"
     ]
    }
   ],
   "source": [
    "#Match object\n",
    "\n",
    "target_string = '39801 356, 2102 111'\n",
    "pattern = '(\\d{3}) (\\d{2})'     #'(\\d{3}) (\\d{2})' : THe space inside the two groups {3}) (\\d : will also be matched on that basis matching will be done\n",
    "#print(target.split(','))\n",
    "match = re.search(pattern, target_string)\n",
    "print(match.group(1))\n",
    "#print(match.group(2))\n",
    "print(match.start())\n",
    "print(match.end())\n",
    "print(match.span())"
   ]
  },
  {
   "cell_type": "code",
   "execution_count": 79,
   "metadata": {},
   "outputs": [
    {
     "data": {
      "text/plain": [
       "'801 35'"
      ]
     },
     "execution_count": 79,
     "metadata": {},
     "output_type": "execute_result"
    }
   ],
   "source": [
    "a = \"39801 356\"\n",
    "a[2:8]"
   ]
  },
  {
   "cell_type": "code",
   "execution_count": 74,
   "metadata": {},
   "outputs": [
    {
     "name": "stdout",
     "output_type": "stream",
     "text": [
      "398\n",
      "0\n",
      "3\n",
      "(0, 3)\n"
     ]
    }
   ],
   "source": [
    "#Match object\n",
    "\n",
    "target_string = '39801 356, 2102 111'\n",
    "pattern = '(\\d{3})'     #'(\\d{3}) (\\d{2})' : THe space inside the two groups {3}) (\\d : will also be matched on that basis matching will be done\n",
    "#print(target.split(','))\n",
    "match = re.search(pattern, target_string)\n",
    "print(match.group(1))\n",
    "#print(match.group(2))\n",
    "print(match.start())\n",
    "print(match.end())\n",
    "print(match.span())"
   ]
  },
  {
   "cell_type": "code",
   "execution_count": 78,
   "metadata": {},
   "outputs": [
    {
     "name": "stdout",
     "output_type": "stream",
     "text": [
      "801\n",
      "2\n",
      "6\n",
      "(2, 6)\n"
     ]
    }
   ],
   "source": [
    "#Match object\n",
    "\n",
    "target_string = '39801 356, 2102 111'\n",
    "pattern = '(\\d{3}) '     #'(\\d{3}) (\\d{2})' : THe space inside the two groups {3}) (\\d : will also be matched on that basis matching will be done\n",
    "#print(target.split(','))\n",
    "match = re.search(pattern, target_string)\n",
    "print(match.group(1))\n",
    "#print(match.group(2))\n",
    "print(match.start())\n",
    "print(match.end())\n",
    "print(match.span())"
   ]
  },
  {
   "cell_type": "code",
   "execution_count": null,
   "metadata": {},
   "outputs": [],
   "source": [
    "##WD-40 domain UniProt\n",
    "\n",
    "^GH-WD$ LEN 35(MIN), MAX(45)\n",
    "\n",
    "INPUT; fasta format\n",
    "\n",
    "uniprotId: P61964\n",
    "    \n",
    "GHhsbvhjrejhbhbev  len, start, end like    40 , 43-82\n",
    "kfghiqruvnirevwd 30, 82-90\n",
    "\n",
    "\n",
    "total repeats: 2\n",
    "\n",
    "    \n",
    "uniprot id : P61962\n",
    "\n",
    "shdgahghbvwd 30 56-76\n",
    "ghdhgsnbcnmsdbc\n",
    "\n"
   ]
  }
 ],
 "metadata": {
  "kernelspec": {
   "display_name": "Python 3",
   "language": "python",
   "name": "python3"
  },
  "language_info": {
   "codemirror_mode": {
    "name": "ipython",
    "version": 3
   },
   "file_extension": ".py",
   "mimetype": "text/x-python",
   "name": "python",
   "nbconvert_exporter": "python",
   "pygments_lexer": "ipython3",
   "version": "3.8.8"
  }
 },
 "nbformat": 4,
 "nbformat_minor": 4
}
