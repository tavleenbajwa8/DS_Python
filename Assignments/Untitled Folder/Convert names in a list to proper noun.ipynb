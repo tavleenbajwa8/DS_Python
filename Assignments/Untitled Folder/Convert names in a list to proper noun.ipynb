{
 "cells": [
  {
   "cell_type": "markdown",
   "id": "b8056deb",
   "metadata": {},
   "source": [
    "Have list of names with all the items in small case and convert the items to proper noun"
   ]
  },
  {
   "cell_type": "code",
   "execution_count": 1,
   "id": "4170a98c",
   "metadata": {},
   "outputs": [
    {
     "data": {
      "text/plain": [
       "['Tavleen', 'Aaleen', 'Ravleen', 'Navleen']"
      ]
     },
     "execution_count": 1,
     "metadata": {},
     "output_type": "execute_result"
    }
   ],
   "source": [
    "l = [\"tavleen\", \"aaleen\", \"ravleen\", \"navleen\"]\n",
    "list(map(lambda a: a.title(), l))"
   ]
  },
  {
   "cell_type": "markdown",
   "id": "606d7723",
   "metadata": {},
   "source": [
    "l = [1, 2, 3, 4] to l = [1, 4, 9, 16]"
   ]
  },
  {
   "cell_type": "code",
   "execution_count": 2,
   "id": "9fcd26a3",
   "metadata": {},
   "outputs": [
    {
     "data": {
      "text/plain": [
       "[1, 4, 9, 16]"
      ]
     },
     "execution_count": 2,
     "metadata": {},
     "output_type": "execute_result"
    }
   ],
   "source": [
    "l = [1, 2, 3, 4]\n",
    "list(map(lambda i: i*i, l))"
   ]
  },
  {
   "cell_type": "code",
   "execution_count": null,
   "id": "06f97d3d",
   "metadata": {},
   "outputs": [],
   "source": []
  }
 ],
 "metadata": {
  "kernelspec": {
   "display_name": "Python 3",
   "language": "python",
   "name": "python3"
  },
  "language_info": {
   "codemirror_mode": {
    "name": "ipython",
    "version": 3
   },
   "file_extension": ".py",
   "mimetype": "text/x-python",
   "name": "python",
   "nbconvert_exporter": "python",
   "pygments_lexer": "ipython3",
   "version": "3.8.8"
  }
 },
 "nbformat": 4,
 "nbformat_minor": 5
}
