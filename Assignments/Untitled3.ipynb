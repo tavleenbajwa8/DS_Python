{
 "cells": [
  {
   "cell_type": "code",
   "execution_count": null,
   "id": "b1cdd27b",
   "metadata": {},
   "outputs": [],
   "source": [
    "x = int(input())\n",
    "if x <= 1600:\n",
    "    print(\"Yes\")\n",
    "else:\n",
    "    print(\"No\")"
   ]
  },
  {
   "cell_type": "code",
   "execution_count": null,
   "id": "9d8bb27e",
   "metadata": {},
   "outputs": [],
   "source": [
    "for i in range(int(input())):\n",
    "    x, y, z = map(int,input().split())\n",
    "    print((x - y)*z)"
   ]
  },
  {
   "cell_type": "code",
   "execution_count": null,
   "id": "2de63fdb",
   "metadata": {},
   "outputs": [],
   "source": [
    "def unread(x, y, z):\n",
    "    return ((x - y)*z)\n",
    "\n",
    "for i in range(int(input())):\n",
    "    x, y, z = map(int,input().split())\n",
    "\n",
    "unread() "
   ]
  },
  {
   "cell_type": "code",
   "execution_count": null,
   "id": "4ead08e8",
   "metadata": {},
   "outputs": [],
   "source": [
    "\n",
    "for i in range(int(input())):\n",
    "    n = int(input())\n",
    "    x = list(map(int,input().split()))\n",
    "    flag = False\n",
    "    for j in range(n - 1):\n",
    "        if x[j] <= x[j+1]:\n",
    "            pass\n",
    "        else:\n",
    "            flag = True\n",
    "    if flag == True:\n",
    "        print(\"No\")\n",
    "    else:\n",
    "        print(\"Yes\")\n",
    "        \n",
    "    "
   ]
  },
  {
   "cell_type": "code",
   "execution_count": 1,
   "id": "89c47807",
   "metadata": {},
   "outputs": [
    {
     "name": "stdout",
     "output_type": "stream",
     "text": [
      "5\n",
      "4 30 10\n",
      "15 8 22 6\n",
      "COUPON\n",
      "4 40 10\n",
      "15 8 22 6\n",
      "NO COUPON\n",
      "4 34 10\n",
      "15 8 22 6\n",
      "NO COUPON\n",
      "2 10 100\n",
      "60 80\n",
      "COUPON\n",
      "3 30 5\n",
      "50 60 50\n",
      "NO COUPON\n"
     ]
    }
   ],
   "source": [
    "for _ in range(int(input())):\n",
    "    n, x, y = map(int,input().split())\n",
    "    items_a = []\n",
    "    items_b = list(map(int,input().split()))\n",
    "    for i in items_b:\n",
    "        sum_b = sum(items_b)\n",
    "        new = i - y\n",
    "        if new <= 0:\n",
    "            items_a.append(0)\n",
    "        else:\n",
    "            items_a.append(new)\n",
    "        sum_a = sum(items_a)\n",
    "    if (x + sum_a) < sum_b:\n",
    "        print(\"COUPON\")\n",
    "    else:\n",
    "        print(\"NO COUPON\")\n",
    "        "
   ]
  },
  {
   "cell_type": "code",
   "execution_count": 2,
   "id": "7b1ea07e",
   "metadata": {},
   "outputs": [
    {
     "ename": "SyntaxError",
     "evalue": "invalid syntax (<ipython-input-2-ef39958bc66c>, line 2)",
     "output_type": "error",
     "traceback": [
      "\u001b[1;36m  File \u001b[1;32m\"<ipython-input-2-ef39958bc66c>\"\u001b[1;36m, line \u001b[1;32m2\u001b[0m\n\u001b[1;33m    4 30 10\u001b[0m\n\u001b[1;37m      ^\u001b[0m\n\u001b[1;31mSyntaxError\u001b[0m\u001b[1;31m:\u001b[0m invalid syntax\n"
     ]
    }
   ],
   "source": [
    "5\n",
    "4 30 10\n",
    "15 8 22 6\n",
    "4 40 10\n",
    "15 8 22 6\n",
    "4 34 10\n",
    "15 8 22 6\n",
    "2 10 100\n",
    "60 80\n",
    "3 30 5\n",
    "50 60 50"
   ]
  },
  {
   "cell_type": "code",
   "execution_count": null,
   "id": "94a15314",
   "metadata": {},
   "outputs": [],
   "source": [
    "for _ in range(int(input())):\n",
    "    x = int(input())\n",
    "    count = 0\n",
    "    while x > 0:\n",
    "        if x > 3:\n",
    "            thn = x - 3\n",
    "        count+=1\n",
    "        if n == 2:\n",
    "            twn = n - 2\n",
    "        count+=1\n",
    "        if n < 2:\n",
    "            on = twn - 1\n",
    "        count+=1\n",
    "print(count)\n",
    "            \n",
    "            "
   ]
  },
  {
   "cell_type": "code",
   "execution_count": 1,
   "id": "7a8b374d",
   "metadata": {},
   "outputs": [
    {
     "ename": "SyntaxError",
     "evalue": "invalid syntax (<ipython-input-1-ea15a37b8367>, line 7)",
     "output_type": "error",
     "traceback": [
      "\u001b[1;36m  File \u001b[1;32m\"<ipython-input-1-ea15a37b8367>\"\u001b[1;36m, line \u001b[1;32m7\u001b[0m\n\u001b[1;33m    Sample Output 1\u001b[0m\n\u001b[1;37m           ^\u001b[0m\n\u001b[1;31mSyntaxError\u001b[0m\u001b[1;31m:\u001b[0m invalid syntax\n"
     ]
    }
   ],
   "source": [
    "5\n",
    "2\n",
    "3\n",
    "5\n",
    "1\n",
    "7\n",
    "Sample Output 1 \n",
    "1\n",
    "1\n",
    "2\n",
    "0\n",
    "3"
   ]
  },
  {
   "cell_type": "code",
   "execution_count": null,
   "id": "e205e6e7",
   "metadata": {},
   "outputs": [],
   "source": [
    "for _ in range(int(input())):\n",
    "    x = int(input())\n",
    "    count = 0\n",
    "    while x > 0:\n",
    "        if x >= 3:\n",
    "            x = x - 3\n",
    "            count+=1\n",
    "        if x == 2:\n",
    "            x = (x - 2)-1\n",
    "            count+=1\n",
    "        if x < 2:\n",
    "            x = (x - 1)-1\n",
    "            count+=1\n",
    "    print(count)\n",
    "            \n",
    "            "
   ]
  },
  {
   "cell_type": "code",
   "execution_count": null,
   "id": "1b10ac3b",
   "metadata": {},
   "outputs": [
    {
     "name": "stdout",
     "output_type": "stream",
     "text": [
      "5\n",
      "2\n",
      "1\n",
      "7\n",
      "1\n"
     ]
    }
   ],
   "source": [
    "for _ in range(int(input())):\n",
    "    x = int(input()) - 1\n",
    "    count = 0\n",
    "    while x > 0:\n",
    "        if x >= 3:\n",
    "            x = x - 3 \n",
    "            count+=1\n",
    "            break\n",
    "        elif x <= 2:\n",
    "            x = x - 2 \n",
    "            count+=1\n",
    "        else:\n",
    "            x = x - 1\n",
    "            count+=1\n",
    "    print(count)\n",
    "            "
   ]
  },
  {
   "cell_type": "code",
   "execution_count": 1,
   "id": "cd50af69",
   "metadata": {},
   "outputs": [
    {
     "name": "stdout",
     "output_type": "stream",
     "text": [
      "5\n",
      "7\n",
      "3\n",
      "2\n",
      "1\n",
      "3\n",
      "1\n",
      "5\n",
      "2\n",
      "1\n",
      "0\n"
     ]
    }
   ],
   "source": [
    "for _ in range(int(input())):\n",
    "    x = int(input()) - 1\n",
    "    count = 0\n",
    "    while x > 0:\n",
    "        if x >= 3:\n",
    "            x = x - 3 \n",
    "            count+=1\n",
    "            x = x - 2\n",
    "            count+=1\n",
    "        elif x <= 2 or n <= 2:\n",
    "            x = x - 2 \n",
    "            count+=1\n",
    "        else:\n",
    "            x = x - 1\n",
    "            count+=1\n",
    "    print(count)\n",
    "            "
   ]
  },
  {
   "cell_type": "code",
   "execution_count": 8,
   "id": "88ec4a7a",
   "metadata": {},
   "outputs": [
    {
     "name": "stdout",
     "output_type": "stream",
     "text": [
      "['1', '10', '11', '100', '111']\n"
     ]
    }
   ],
   "source": [
    "x = []\n",
    "a = [1,2,3,4,7]\n",
    "for i in a:\n",
    "    x.append(bin(i).replace('0b',''))\n",
    "print(x)"
   ]
  },
  {
   "cell_type": "code",
   "execution_count": null,
   "id": "9d2ce13a",
   "metadata": {},
   "outputs": [],
   "source": [
    "5\n",
    "2\n",
    "3\n",
    "5\n",
    "1\n",
    "7\n"
   ]
  },
  {
   "cell_type": "code",
   "execution_count": 7,
   "id": "1c6a4739",
   "metadata": {},
   "outputs": [
    {
     "data": {
      "text/plain": [
       "['0b1', '0b10', '0b11', '0b100', '0b111']"
      ]
     },
     "execution_count": 7,
     "metadata": {},
     "output_type": "execute_result"
    }
   ],
   "source": [
    "bnr = bin(a). replace('0b','')"
   ]
  },
  {
   "cell_type": "code",
   "execution_count": 14,
   "id": "f5f833f6",
   "metadata": {},
   "outputs": [
    {
     "name": "stdout",
     "output_type": "stream",
     "text": [
      "2\n",
      "4\n",
      "1 2 3 4\n",
      "4 3 2 1\n",
      "['1', '10', '11', '100']\n",
      "['100', '11', '10', '1']\n"
     ]
    },
    {
     "ename": "TypeError",
     "evalue": "unsupported operand type(s) for |: 'str' and 'str'",
     "output_type": "error",
     "traceback": [
      "\u001b[1;31m---------------------------------------------------------------------------\u001b[0m",
      "\u001b[1;31mTypeError\u001b[0m                                 Traceback (most recent call last)",
      "\u001b[1;32m<ipython-input-14-2e2387eec89f>\u001b[0m in \u001b[0;36m<module>\u001b[1;34m\u001b[0m\n\u001b[0;32m     14\u001b[0m     \u001b[1;32mfor\u001b[0m \u001b[0mj\u001b[0m \u001b[1;32min\u001b[0m \u001b[0mxA\u001b[0m\u001b[1;33m:\u001b[0m\u001b[1;33m\u001b[0m\u001b[1;33m\u001b[0m\u001b[0m\n\u001b[0;32m     15\u001b[0m         \u001b[1;32mfor\u001b[0m \u001b[0mk\u001b[0m \u001b[1;32min\u001b[0m \u001b[0mxB\u001b[0m\u001b[1;33m:\u001b[0m\u001b[1;33m\u001b[0m\u001b[1;33m\u001b[0m\u001b[0m\n\u001b[1;32m---> 16\u001b[1;33m             \u001b[1;32mif\u001b[0m \u001b[0mj\u001b[0m \u001b[1;33m|\u001b[0m \u001b[0mk\u001b[0m\u001b[1;33m:\u001b[0m\u001b[1;33m\u001b[0m\u001b[1;33m\u001b[0m\u001b[0m\n\u001b[0m\u001b[0;32m     17\u001b[0m                 \u001b[0mcount\u001b[0m\u001b[1;33m+=\u001b[0m\u001b[1;36m1\u001b[0m\u001b[1;33m\u001b[0m\u001b[1;33m\u001b[0m\u001b[0m\n\u001b[0;32m     18\u001b[0m             \u001b[1;32melse\u001b[0m\u001b[1;33m:\u001b[0m\u001b[1;33m\u001b[0m\u001b[1;33m\u001b[0m\u001b[0m\n",
      "\u001b[1;31mTypeError\u001b[0m: unsupported operand type(s) for |: 'str' and 'str'"
     ]
    }
   ],
   "source": [
    "for _ in range(int(input())):\n",
    "    n1 = map(int,input().split())\n",
    "    a = list(map(int,input().split()))\n",
    "    b = list(map(int,input().split()))\n",
    "    xA = []\n",
    "    xB = []\n",
    "    for i in a:\n",
    "        xA.append(bin(i).replace('0b',''))\n",
    "    print(xA)\n",
    "    for i in b:\n",
    "        xB.append(bin(i).replace('0b',''))\n",
    "    print(xB)\n",
    "    count = 0\n",
    "    for j in xA:\n",
    "        for k in xB:\n",
    "            if j | k:\n",
    "                count+=1\n",
    "            else:\n",
    "                pass\n",
    "    print(count)\n",
    "                \n",
    "    "
   ]
  },
  {
   "cell_type": "code",
   "execution_count": 1,
   "id": "154daf8f",
   "metadata": {},
   "outputs": [
    {
     "ename": "SyntaxError",
     "evalue": "invalid syntax (<ipython-input-1-5e78786839b6>, line 3)",
     "output_type": "error",
     "traceback": [
      "\u001b[1;36m  File \u001b[1;32m\"<ipython-input-1-5e78786839b6>\"\u001b[1;36m, line \u001b[1;32m3\u001b[0m\n\u001b[1;33m    1 2 3 4\u001b[0m\n\u001b[1;37m      ^\u001b[0m\n\u001b[1;31mSyntaxError\u001b[0m\u001b[1;31m:\u001b[0m invalid syntax\n"
     ]
    }
   ],
   "source": [
    "2\n",
    "4\n",
    "1 2 3 4\n",
    "4 3 2 1\n",
    "5\n",
    "1 3 4 7 9\n",
    "5 1 0 5 13"
   ]
  },
  {
   "cell_type": "code",
   "execution_count": 32,
   "id": "263b6463",
   "metadata": {},
   "outputs": [
    {
     "name": "stdout",
     "output_type": "stream",
     "text": [
      "Old list:  [(45+6j), [1, 2, 4, 'sudh'], ['ineuron', 'fsds'], [True, 'test', 43], [34, 56], [45, 89, 'oops']]\n",
      "In Nested list 1 : [1, 2, 4, 'sudh'] String sudh is present at index: 3\n",
      "In Nested list 2 : ['ineuron', 'fsds'] String ineuron is present at index: 0\n",
      "In Nested list 2 : ['ineuron', 'fsds'] String fsds is present at index: 1\n",
      "In Nested list 3 : [True, 'test', 43] String test is present at index: 1\n",
      "In Nested list 5 : [45, 89, 'oops'] String oops is present at index: 2\n",
      "Removed:  [4] from nested list:  1\n",
      "Removed:  [43] from nested list:  3\n",
      "Removed:  ['oops'] from nested list:  5\n",
      "New list: [(45+6j), [1, 2, 'sudh'], ['ineuron', 'fsds'], [True, 'test'], [34, 56], [45, 89]]\n"
     ]
    }
   ],
   "source": [
    "l = [[1,2,4,\"sudh\"], [True, \"test\", 43], [45,89,\"oops\"]]\n",
    "l.insert(2, [34, 56])\n",
    "l.insert(0, 45+6j)\n",
    "l.insert(2, [\"ineuron\", \"fsds\"])\n",
    "\n",
    "print(\"Old list: \", l)\n",
    "\n",
    "for i in l:\n",
    "    if type(i) == list:\n",
    "        for j in i:\n",
    "            if type(j) == str:\n",
    "                print(\"In Nested list\",l.index(i),\":\", i,\"String\",j, \"is present at index:\", i.index(j))\n",
    "\n",
    "for i in l:\n",
    "    if type(i) == list:\n",
    "        if len(i) >= 3:\n",
    "            print(\"Removed: \",[i.pop(2)], \"from nested list: \", l.index(i))\n",
    "        else:\n",
    "            pass\n",
    "print(\"New list:\", l)\n",
    "            \n",
    "\n"
   ]
  },
  {
   "cell_type": "code",
   "execution_count": 14,
   "id": "fb6ba93e",
   "metadata": {},
   "outputs": [],
   "source": [
    "c"
   ]
  },
  {
   "cell_type": "code",
   "execution_count": 15,
   "id": "3ac46f0f",
   "metadata": {},
   "outputs": [
    {
     "data": {
      "text/plain": [
       "[[1, 2, 4, 'sudh'], [True, 'test', 43], ['ineuron', 'fsds'], [45, 89, 'oops']]"
      ]
     },
     "execution_count": 15,
     "metadata": {},
     "output_type": "execute_result"
    }
   ],
   "source": [
    "l"
   ]
  },
  {
   "cell_type": "code",
   "execution_count": 16,
   "id": "7833b872",
   "metadata": {},
   "outputs": [],
   "source": [
    "l.insert(2, [34, 56])"
   ]
  },
  {
   "cell_type": "code",
   "execution_count": 17,
   "id": "9332469a",
   "metadata": {},
   "outputs": [
    {
     "data": {
      "text/plain": [
       "[[1, 2, 4, 'sudh'],\n",
       " [True, 'test', 43],\n",
       " [34, 56],\n",
       " ['ineuron', 'fsds'],\n",
       " [45, 89, 'oops']]"
      ]
     },
     "execution_count": 17,
     "metadata": {},
     "output_type": "execute_result"
    }
   ],
   "source": [
    "l"
   ]
  },
  {
   "cell_type": "code",
   "execution_count": 18,
   "id": "2d3bd49c",
   "metadata": {},
   "outputs": [],
   "source": [
    "l.insert(0, 45+6j)"
   ]
  },
  {
   "cell_type": "code",
   "execution_count": 19,
   "id": "3bff1e8a",
   "metadata": {},
   "outputs": [
    {
     "data": {
      "text/plain": [
       "[(45+6j),\n",
       " [1, 2, 4, 'sudh'],\n",
       " [True, 'test', 43],\n",
       " [34, 56],\n",
       " ['ineuron', 'fsds'],\n",
       " [45, 89, 'oops']]"
      ]
     },
     "execution_count": 19,
     "metadata": {},
     "output_type": "execute_result"
    }
   ],
   "source": [
    "l"
   ]
  },
  {
   "cell_type": "code",
   "execution_count": 20,
   "id": "1071aabb",
   "metadata": {},
   "outputs": [
    {
     "name": "stdout",
     "output_type": "stream",
     "text": [
      "[1, 2, 4, 'sudh'] 3\n",
      "[True, 'test', 43] 1\n",
      "['ineuron', 'fsds'] 0\n",
      "['ineuron', 'fsds'] 1\n",
      "[45, 89, 'oops'] 2\n"
     ]
    }
   ],
   "source": [
    "for i in l:\n",
    "    if type(i) == list:\n",
    "        for j in i:\n",
    "            if type(j) == str:\n",
    "                print(i, i.index(j))"
   ]
  },
  {
   "cell_type": "code",
   "execution_count": 21,
   "id": "24c19f96",
   "metadata": {},
   "outputs": [
    {
     "data": {
      "text/plain": [
       "[(45+6j),\n",
       " [1, 2, 4, 'sudh'],\n",
       " [True, 'test', 43],\n",
       " [34, 56],\n",
       " ['ineuron', 'fsds'],\n",
       " [45, 89, 'oops']]"
      ]
     },
     "execution_count": 21,
     "metadata": {},
     "output_type": "execute_result"
    }
   ],
   "source": [
    "l"
   ]
  },
  {
   "cell_type": "code",
   "execution_count": 22,
   "id": "bdd97a4e",
   "metadata": {},
   "outputs": [
    {
     "name": "stdout",
     "output_type": "stream",
     "text": [
      "4\n",
      "43\n",
      "oops\n",
      "[(45+6j), [1, 2, 'sudh'], [True, 'test'], [34, 56], ['ineuron', 'fsds'], [45, 89]]\n"
     ]
    }
   ],
   "source": [
    "for i in l:\n",
    "    if type(i) == list:\n",
    "        if len(i) >= 3:\n",
    "            print(i.pop(2))\n",
    "        else:\n",
    "            pass\n",
    "print(l)\n",
    "            "
   ]
  },
  {
   "cell_type": "code",
   "execution_count": 2,
   "id": "6eced33f",
   "metadata": {},
   "outputs": [
    {
     "name": "stdout",
     "output_type": "stream",
     "text": [
      "ABCD\n",
      "EFGH\n",
      "IJKL\n",
      "IMNO\n",
      "QRST\n",
      "UVWX\n",
      "YZ\n"
     ]
    }
   ],
   "source": [
    "import textwrap\n",
    "  \n",
    "value = \"\"\"ABCDEFGHIJKLIMNOQRSTUVWXYZ\"\"\"\n",
    "  \n",
    "# Wrap this text.\n",
    "wrapper = textwrap.TextWrapper(width=4)\n",
    "  \n",
    "word_list = wrapper.wrap(text=value)\n",
    "  \n",
    "# Print each line.\n",
    "for element in word_list:\n",
    "    print(element)"
   ]
  },
  {
   "cell_type": "code",
   "execution_count": 9,
   "id": "f27cb51b",
   "metadata": {},
   "outputs": [],
   "source": [
    "import textwrap\n",
    "\n",
    "def wrap(string, max_width):\n",
    "    wrapper = textwrap.TextWrapper(width=4)\n",
    "    word_list = wrapper.wrap(text=value)\n",
    "    \n",
    "\n",
    "    #if __name__ == '__main__':\n",
    "    string, max_width = input(), int(input())\n",
    "    result = wrap(string, max_width)\n",
    "    print(element)"
   ]
  },
  {
   "cell_type": "code",
   "execution_count": 1,
   "id": "9dc9151e",
   "metadata": {},
   "outputs": [
    {
     "ename": "SyntaxError",
     "evalue": "Missing parentheses in call to 'print'. Did you mean print(result)? (<ipython-input-1-42754a9bc873>, line 10)",
     "output_type": "error",
     "traceback": [
      "\u001b[1;36m  File \u001b[1;32m\"<ipython-input-1-42754a9bc873>\"\u001b[1;36m, line \u001b[1;32m10\u001b[0m\n\u001b[1;33m    print result\u001b[0m\n\u001b[1;37m          ^\u001b[0m\n\u001b[1;31mSyntaxError\u001b[0m\u001b[1;31m:\u001b[0m Missing parentheses in call to 'print'. Did you mean print(result)?\n"
     ]
    }
   ],
   "source": [
    "import textwrap\n",
    "\n",
    "def wrap(string, max_width):\n",
    "    return \"\\n\".join(textwrap.wrap(string, max_width))\n",
    "        \n",
    "        \n",
    "if __name__ == '__main__':\n",
    "    string, max_width = raw_input(), int(raw_input())\n",
    "    result = wrap(string, max_width)\n",
    "    print result"
   ]
  },
  {
   "cell_type": "code",
   "execution_count": null,
   "id": "105cf472",
   "metadata": {},
   "outputs": [],
   "source": [
    "for i in range(int(input())):\n",
    "    try:\n",
    "        a,b=map(int,input().split())\n",
    "        print(a//b)\n",
    "    except Exception as e:\n",
    "        print(\"Error Code:\",e)"
   ]
  }
 ],
 "metadata": {
  "kernelspec": {
   "display_name": "Python 3",
   "language": "python",
   "name": "python3"
  },
  "language_info": {
   "codemirror_mode": {
    "name": "ipython",
    "version": 3
   },
   "file_extension": ".py",
   "mimetype": "text/x-python",
   "name": "python",
   "nbconvert_exporter": "python",
   "pygments_lexer": "ipython3",
   "version": "3.8.8"
  }
 },
 "nbformat": 4,
 "nbformat_minor": 5
}
