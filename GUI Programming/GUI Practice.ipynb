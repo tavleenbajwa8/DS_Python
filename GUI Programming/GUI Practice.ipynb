{
 "cells": [
  {
   "cell_type": "code",
   "execution_count": null,
   "id": "0a11e1b6",
   "metadata": {},
   "outputs": [],
   "source": [
    "import tkinter"
   ]
  },
  {
   "cell_type": "code",
   "execution_count": null,
   "id": "f6d72470",
   "metadata": {},
   "outputs": [],
   "source": [
    "from tkinter import *\n",
    "root = tkinter.Tk()\n",
    "root.geometry(\"400x300\")\n",
    "l1 = tkinter.Label(root,text = \"Height:\", height=2, font=('calibre',10, 'bold'))\n",
    "r1 = tkinter.Entry(root, font=('calibre',10,'normal'))\n",
    "l2 = tkinter.Label(root,text = \"Weight:\", font=('calibre',10, 'bold'))\n",
    "r2 = tkinter.Entry(root, font=('calibre',10,'normal'))\n",
    "b1 = tkinter.Button(root, text=\"Zoom in\")\n",
    "b2 = tkinter.Button(root, text=\"Zoom out\")\n",
    "l1.pack()\n",
    "r1.pack()\n",
    "l2.pack()\n",
    "r2.pack()\n",
    "b1.pack()\n",
    "b2.pack()\n",
    "root.mainloop()"
   ]
  },
  {
   "cell_type": "code",
   "execution_count": null,
   "id": "3c62d8e6",
   "metadata": {},
   "outputs": [],
   "source": [
    "from tkinter import *\n",
    "root = tkinter.Tk()\n",
    "root.geometry(\"400x300\")\n",
    "l1 = tkinter.Label(root,text = \"Height:\", height=2, font=('calibre',10, 'bold'))\n",
    "l1.place(x = 10, y = 50, width = 200, height = 50)\n",
    "r1 = tkinter.Entry(root, font=('calibre',10,'normal'))\n",
    "l2 = tkinter.Label(root,text = \"Weight:\", font=('calibre',10, 'bold'))\n",
    "r2 = tkinter.Entry(root, font=('calibre',10,'normal'))\n",
    "b1 = tkinter.Button(root, text=\"Zoom in\")\n",
    "b2 = tkinter.Button(root, text=\"Zoom out\")\n",
    "r1.pack()\n",
    "l2.pack()\n",
    "r2.pack()\n",
    "b1.pack()\n",
    "b2.pack()\n",
    "root.mainloop()"
   ]
  },
  {
   "cell_type": "code",
   "execution_count": null,
   "id": "e17eb57b",
   "metadata": {},
   "outputs": [],
   "source": [
    "import tkinter\n",
    "from tkinter import *\n",
    "root = tkinter.Tk()\n",
    "root.geometry(\"400x200+100+200\")\n",
    "l1 = tkinter.Label(root,text = \"Number Addition Program\", font = \"Arial 12 bold\")\n",
    "l2 = tkinter.Label(root, text = \"First no.:\")\n",
    "l3 = tkinter.Label(root, text = \"Second No:\")\n",
    "e1 = tkinter.Entry(root)\n",
    "e2 = tkinter.Entry(root)\n",
    "b1 = tkinter.Button(root,text=\"Add\")\n",
    "b2 = tkinter.Button(root,text=\"Clear\")\n",
    "b3 = tkinter.Button(root,text=\"Quit\")\n",
    "\n",
    "#Layouting\n",
    "l1.grid(row=0, column = 0, columnspan =3, sticky = tkinter.W)\n",
    "l2.grid(row=1, column = 0, sticky = tkinter.E)\n",
    "l3.grid(row=2, column = 0, sticky = tkinter.E)\n",
    "\n",
    "e1.grid(row=1, column = 1, sticky = tkinter.E)\n",
    "e2.grid(row=2, column = 1, sticky = tkinter.E)\n",
    "\n",
    "b1.grid(row = 4, column = 0, columnspan = 2)\n",
    "b2.grid(row = 4, column = 1, columnspan = 2)\n",
    "b3.grid(row = 4, column = 2)\n",
    "\n",
    "root.mainloop()"
   ]
  },
  {
   "cell_type": "code",
   "execution_count": 5,
   "id": "7dccafb1",
   "metadata": {},
   "outputs": [],
   "source": [
    "#Without bind\n",
    "\n",
    "import tkinter\n",
    "def action():\n",
    "    root.config(bg=\"red\")\n",
    "root = tkinter.Tk()\n",
    "root.geometry('200x200')\n",
    "b1 = tkinter.Button(root, text=\"Click me\", command=action)\n",
    "b1.pack()\n",
    "root.mainloop()"
   ]
  },
  {
   "cell_type": "code",
   "execution_count": 4,
   "id": "48ea0101",
   "metadata": {},
   "outputs": [],
   "source": [
    "#With bind\n",
    "\n",
    "\n",
    "import tkinter\n",
    "from tkinter import *\n",
    "\n",
    "def changecolor(e):\n",
    "    root.config(bg=\"red\")\n",
    "root = Tk()\n",
    "root.geometry('200x200')\n",
    "b1=Button(root,text=\"Click me\")\n",
    "b1.bind(\"<Button>\", changecolor)\n",
    "b1.pack()\n",
    "root.mainloop()"
   ]
  },
  {
   "cell_type": "code",
   "execution_count": 8,
   "id": "d99657d1",
   "metadata": {},
   "outputs": [],
   "source": [
    "import tkinter\n",
    "from tkinter import *\n",
    "\n",
    "def rchg(e):\n",
    "    root.config(bg=\"red\")\n",
    "def bchg(f):\n",
    "    root.config(bg=\"blue\")\n",
    "root = Tk()\n",
    "root.geometry('200x200')\n",
    "b1 = Button(root,text=\"Click me\")\n",
    "b1.bind(\"<Button-1>\", rchg)\n",
    "b1.bind(\"<Button-3>\", bchg)\n",
    "b1.pack()\n",
    "root.mainloop()"
   ]
  },
  {
   "cell_type": "code",
   "execution_count": 9,
   "id": "a6caf1c2",
   "metadata": {},
   "outputs": [],
   "source": [
    "import tkinter\n",
    "from tkinter import *\n",
    "\n",
    "oldcolor=''\n",
    "\n",
    "def enter(e):\n",
    "    root.config(bg=\"red\")\n",
    "def quit(e):\n",
    "    root.config(bg=oldcolor)\n",
    "\n",
    "root = Tk()\n",
    "root.geometry('200x200')\n",
    "b1 = Button(root,text=\"Click me\")\n",
    "b1.bind(\"<Return>\", enter)\n",
    "b1.bind(\"<Escape>\", quit)\n",
    "b1.pack()\n",
    "root.mainloop()\n"
   ]
  },
  {
   "cell_type": "code",
   "execution_count": 11,
   "id": "e7639e62",
   "metadata": {},
   "outputs": [],
   "source": [
    "#Or\n",
    "\n",
    "import tkinter\n",
    "from tkinter import *\n",
    "\n",
    "oldcolor=''\n",
    "\n",
    "def enter(e):\n",
    "    root.config(bg=\"red\")\n",
    "def quit(e):\n",
    "    root.config(bg=oldcolor)\n",
    "\n",
    "root = Tk()\n",
    "root.geometry('200x200')\n",
    "root.bind(\"<Return>\", enter)\n",
    "root.bind(\"<Escape>\", quit)\n",
    "oldcolor = root[\"bg\"]\n",
    "root.mainloop()\n"
   ]
  },
  {
   "cell_type": "code",
   "execution_count": null,
   "id": "a7dadffd",
   "metadata": {},
   "outputs": [],
   "source": []
  }
 ],
 "metadata": {
  "kernelspec": {
   "display_name": "Python 3",
   "language": "python",
   "name": "python3"
  },
  "language_info": {
   "codemirror_mode": {
    "name": "ipython",
    "version": 3
   },
   "file_extension": ".py",
   "mimetype": "text/x-python",
   "name": "python",
   "nbconvert_exporter": "python",
   "pygments_lexer": "ipython3",
   "version": "3.8.8"
  }
 },
 "nbformat": 4,
 "nbformat_minor": 5
}
