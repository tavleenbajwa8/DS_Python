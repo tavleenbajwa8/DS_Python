{
 "cells": [
  {
   "cell_type": "code",
   "execution_count": null,
   "metadata": {},
   "outputs": [],
   "source": [
    "GUI Programming-IV\n",
    "\n",
    "Buttons\n",
    "Event Handling\n"
   ]
  },
  {
   "cell_type": "code",
   "execution_count": null,
   "metadata": {},
   "outputs": [],
   "source": [
    "A Button is a widget which is designed for the user to interact with.\n",
    "\n",
    "\n",
    "This means that if the Button is pressed using mouse/keyboard then some action might be started. \n",
    "\n",
    "\n",
    "This action is coded inside a function or a method\n",
    "\n",
    "\n",
    "Buttons  can also contain text and images like labels.\n"
   ]
  },
  {
   "cell_type": "code",
   "execution_count": 2,
   "metadata": {},
   "outputs": [],
   "source": [
    "from tkinter import *\n",
    "root = Tk()\n",
    "root.geometry('200x200')\n",
    "b1=Button(root,text=\"Click Me\")\n",
    "b1.pack()\n",
    "root.mainloop()\n"
   ]
  },
  {
   "cell_type": "code",
   "execution_count": null,
   "metadata": {},
   "outputs": [],
   "source": [
    "In the previous code nothing happened when the user clicks on the Button.\n",
    "\n",
    "\n",
    "\n",
    "This is because we did not perform EVENT HANDLING for the Button widget\n"
   ]
  },
  {
   "cell_type": "code",
   "execution_count": null,
   "metadata": {},
   "outputs": [],
   "source": [
    "To understand what is Event Handling , we must first understand the word Event.\n",
    "\n",
    "The term Event means any action taken by the user on our GUI app while the app is running.\n",
    "\n",
    "Examples of events are :\n",
    "Clicking the button\n",
    "Scrolling the mouse\n",
    "Typing some text\n",
    "Dragging the mouse "
   ]
  },
  {
   "cell_type": "code",
   "execution_count": null,
   "metadata": {},
   "outputs": [],
   "source": [
    "Now , the way our app responds to these events is called Event Handling\n",
    "\n",
    "\n",
    "\n",
    "For example , if on clicking the Button our app displays the text Welcome User in a Label, then this behavior is called Event Handling\n"
   ]
  },
  {
   "cell_type": "code",
   "execution_count": null,
   "metadata": {},
   "outputs": [],
   "source": [
    "There are 2 ways to handle events in Python :\n",
    "\n",
    "\n",
    "Using command attribute\n",
    "\n",
    "OR\n",
    "\n",
    "Using bind() method\n"
   ]
  },
  {
   "cell_type": "code",
   "execution_count": null,
   "metadata": {},
   "outputs": [],
   "source": [
    "This is the  simplest way of Event Handling.\n",
    "\n",
    "In this we  associate the widget with an event while creating it.\n",
    "\n",
    "For example , while creating a Button we can tell Python what it should do when the Button is clicked\n",
    "\n",
    "This is done by setting a special attribute called command of the Button widget by passing it the name of a function to be called when the Button is clicked\n"
   ]
  },
  {
   "cell_type": "code",
   "execution_count": null,
   "metadata": {},
   "outputs": [],
   "source": [
    "To do this we have to take 2 steps:\n",
    "\n",
    "Define a function containing the code to be executed when the Button is clicked\n",
    "\n",
    "Set the command attribute of the Button widget while creating the Button assigning it the  name of the function which has to be called when the Button is clicked.\n",
    "\n",
    "Now as soon as the Button is clicked by the user , Python will execute the function whose name is passed to the command attribute\n"
   ]
  },
  {
   "cell_type": "code",
   "execution_count": null,
   "metadata": {},
   "outputs": [],
   "source": [
    "Write a GUI app that displays a Button titled Click Me and soon as the Button is clicked it should display the text Welcome To Python on console\n"
   ]
  },
  {
   "cell_type": "code",
   "execution_count": 3,
   "metadata": {},
   "outputs": [
    {
     "name": "stdout",
     "output_type": "stream",
     "text": [
      "Welcome To Python\n"
     ]
    }
   ],
   "source": [
    "from tkinter import *\n",
    "\n",
    "def showmsg():\n",
    "    print(\"Welcome To Python\")\n",
    "\n",
    "root = Tk()\n",
    "root.geometry('200x200')\n",
    "b1=Button(root,text=\"Click Me\",command=showmsg)\n",
    "b1.pack()\n",
    "root.mainloop()\n"
   ]
  },
  {
   "cell_type": "code",
   "execution_count": null,
   "metadata": {},
   "outputs": [],
   "source": [
    "Now modify the previous app so that as soon as the Button is clicked it should display the text Welcome To Python in Label\n",
    "\n",
    "Before Button Click\tAfter Button Click\n"
   ]
  },
  {
   "cell_type": "code",
   "execution_count": 4,
   "metadata": {},
   "outputs": [],
   "source": [
    "from tkinter import *\n",
    "\n",
    "def showmsg():\n",
    "    l1=Label(root,text=\"Welcome To Python\")\n",
    "    l1.pack()\n",
    "\n",
    "root = Tk()\n",
    "root.geometry('200x200')\n",
    "b1=Button(root,text=\"Click Me\",command=showmsg)\n",
    "b1.pack()\n",
    "root.mainloop()\n"
   ]
  },
  {
   "cell_type": "code",
   "execution_count": null,
   "metadata": {},
   "outputs": [],
   "source": [
    "Write an app containing a Button and as soon as the Button is clicked it should display the current date and time in a Label\n",
    "\n",
    "Before Button Click\tAfter Button Click\n"
   ]
  },
  {
   "cell_type": "code",
   "execution_count": null,
   "metadata": {},
   "outputs": [],
   "source": [
    "In Python we have a module called datetime.\n",
    "\n",
    "\n",
    "This module contains a class called datetime\n",
    "\n",
    "\n",
    "This class contains a class method called now( ) which returns an object of type datetime containing the current date and time \n"
   ]
  },
  {
   "cell_type": "code",
   "execution_count": null,
   "metadata": {},
   "outputs": [],
   "source": [
    "from datetime import *\n",
    "today=datetime.now()\n",
    "print(today)\n"
   ]
  },
  {
   "cell_type": "code",
   "execution_count": null,
   "metadata": {},
   "outputs": [],
   "source": [
    "The previous code displayed date and time details but sometimes we may want only a part of the entire date time.\n",
    "\n",
    "\n",
    "\n",
    "For example we just want to display the month name or we just want to get the year.\n"
   ]
  },
  {
   "cell_type": "code",
   "execution_count": null,
   "metadata": {},
   "outputs": [],
   "source": [
    "For such kinds of data , the class datetime provides us an instance  method called strftime( ) .\n",
    "\n",
    "This method accepts a pattern representing a particular date/time element and returns a string containing that element\n",
    "\n",
    "Syntax:\n",
    "\n",
    "<var_name>=<obj>.strftime(“pattern”)\n"
   ]
  },
  {
   "cell_type": "code",
   "execution_count": 5,
   "metadata": {},
   "outputs": [
    {
     "name": "stdout",
     "output_type": "stream",
     "text": [
      "09\n",
      "Mar\n",
      "2022\n"
     ]
    }
   ],
   "source": [
    "from datetime import *\n",
    "today=datetime.now()\n",
    "day=today.strftime(\"%d\") # this gives day number\n",
    "month=today.strftime(\"%b\") # this gives 3 letter month name\n",
    "year=today.strftime(\"%Y\") # this gives 4 digit year\n",
    "print(day)\n",
    "print(month)\n",
    "print(year)\n"
   ]
  },
  {
   "cell_type": "code",
   "execution_count": null,
   "metadata": {},
   "outputs": [],
   "source": [
    "Remember ! These patterns are case sensitive\n",
    "\n",
    "\n",
    "We can also club these patterns by passing them as a single string . For ex:\n",
    "currdate=today.strftime(“%d-%b-%Y”)\n",
    "will give \n",
    "16-Jan-2019\n",
    "\n",
    "\n"
   ]
  },
  {
   "cell_type": "code",
   "execution_count": null,
   "metadata": {},
   "outputs": [],
   "source": []
  },
  {
   "cell_type": "code",
   "execution_count": 8,
   "metadata": {},
   "outputs": [],
   "source": [
    "from datetime import *\n",
    "def showdatetime():\n",
    "    today = datetime.now()\n",
    "root = Tk()\n",
    "root.geometry('200x200')\n",
    "b1=Button(root,text=\"Click Me\",command=showdatetime)\n",
    "l1=Label(root,text=\"Click the button for date and time\")\n",
    "b1.pack()\n",
    "l1.pack()\n",
    "root.mainloop()"
   ]
  },
  {
   "cell_type": "code",
   "execution_count": null,
   "metadata": {},
   "outputs": [],
   "source": [
    "Write a GUI app that has a Button titled “Click Me” . Whenever the user clicks the button , the label should show the number of times the click has occurred\n"
   ]
  },
  {
   "cell_type": "code",
   "execution_count": 9,
   "metadata": {},
   "outputs": [],
   "source": [
    "from tkinter import *\n",
    "count=0\n",
    "def incrementcount():\n",
    "    global count\n",
    "    count+=1\n",
    "    l1.config(text=str(count))\n",
    "root = Tk()\n",
    "root.geometry('200x200')\n",
    "b1=Button(root,text=\"Click Me\",command=incrementcount)\n",
    "l1=Label(root,text=\"0\")\n",
    "b1.pack()\n",
    "l1.pack()\n",
    "root.mainloop()\n"
   ]
  },
  {
   "cell_type": "code",
   "execution_count": null,
   "metadata": {},
   "outputs": [],
   "source": [
    "Redesign the previous code using the property textvariable\n",
    "\n",
    "Before Button Click\tAfter Button Click\n"
   ]
  },
  {
   "cell_type": "code",
   "execution_count": null,
   "metadata": {},
   "outputs": [],
   "source": [
    "from tkinter import *\n",
    "def incrementcount():\n",
    "   count.set(count.get()+1)\n",
    "root = Tk()\n",
    "root.geometry('200x200')\n",
    "count=IntVar()\n",
    "b1=Button(root,text=\"Click Me\",command=incrementcount)\n",
    "l1=Label(root,textvariable=count)\n",
    "b1.pack()\n",
    "l1.pack()\n",
    "root.mainloop()\n"
   ]
  },
  {
   "cell_type": "code",
   "execution_count": null,
   "metadata": {},
   "outputs": [],
   "source": [
    "Write a GUI app that has 3 buttons and 1 label. The buttons should be titled Red, Green and Blue . Now whenever the user clicks on any of the Button change the background color of the Label accordingly. Initially the background color of the Label should be white without any text displayed on it.\n",
    "\n",
    "Before Button Click\tAfter Button Click\n"
   ]
  },
  {
   "cell_type": "code",
   "execution_count": null,
   "metadata": {},
   "outputs": [],
   "source": [
    "from tkinter import *\n",
    "root = Tk()\n",
    "l1=Label(root,height=3,width=20,bg=\"white\")\n",
    "b1=Button(root,text=\"Red\",width=6)\n",
    "b2=Button(root,text=\"Green\",width=6)\n",
    "b3=Button(root,text=\"Blue\",width=6)\n",
    "l1.grid(row=0,column=1)\n",
    "b1.grid(row=1,column=0)\n",
    "b2.grid(row=1,column=1)\n",
    "b3.grid(row=1,column=2)\n",
    "root.mainloop()\n"
   ]
  },
  {
   "cell_type": "code",
   "execution_count": 10,
   "metadata": {},
   "outputs": [
    {
     "ename": "KeyboardInterrupt",
     "evalue": "",
     "output_type": "error",
     "traceback": [
      "\u001b[1;31m---------------------------------------------------------------------------\u001b[0m",
      "\u001b[1;31mKeyboardInterrupt\u001b[0m                         Traceback (most recent call last)",
      "\u001b[1;32m<ipython-input-10-58a5ac53515f>\u001b[0m in \u001b[0;36m<module>\u001b[1;34m\u001b[0m\n\u001b[0;32m     19\u001b[0m \u001b[0mb2\u001b[0m\u001b[1;33m.\u001b[0m\u001b[0mgrid\u001b[0m\u001b[1;33m(\u001b[0m\u001b[0mrow\u001b[0m\u001b[1;33m=\u001b[0m\u001b[1;36m1\u001b[0m\u001b[1;33m,\u001b[0m\u001b[0mcolumn\u001b[0m\u001b[1;33m=\u001b[0m\u001b[1;36m1\u001b[0m\u001b[1;33m)\u001b[0m\u001b[1;33m\u001b[0m\u001b[1;33m\u001b[0m\u001b[0m\n\u001b[0;32m     20\u001b[0m \u001b[0mb3\u001b[0m\u001b[1;33m.\u001b[0m\u001b[0mgrid\u001b[0m\u001b[1;33m(\u001b[0m\u001b[0mrow\u001b[0m\u001b[1;33m=\u001b[0m\u001b[1;36m1\u001b[0m\u001b[1;33m,\u001b[0m\u001b[0mcolumn\u001b[0m\u001b[1;33m=\u001b[0m\u001b[1;36m2\u001b[0m\u001b[1;33m)\u001b[0m\u001b[1;33m\u001b[0m\u001b[1;33m\u001b[0m\u001b[0m\n\u001b[1;32m---> 21\u001b[1;33m \u001b[0mroot\u001b[0m\u001b[1;33m.\u001b[0m\u001b[0mmainloop\u001b[0m\u001b[1;33m(\u001b[0m\u001b[1;33m)\u001b[0m\u001b[1;33m\u001b[0m\u001b[1;33m\u001b[0m\u001b[0m\n\u001b[0m",
      "\u001b[1;32mC:\\ProgramData\\Anaconda3\\lib\\tkinter\\__init__.py\u001b[0m in \u001b[0;36mmainloop\u001b[1;34m(self, n)\u001b[0m\n\u001b[0;32m   1418\u001b[0m     \u001b[1;32mdef\u001b[0m \u001b[0mmainloop\u001b[0m\u001b[1;33m(\u001b[0m\u001b[0mself\u001b[0m\u001b[1;33m,\u001b[0m \u001b[0mn\u001b[0m\u001b[1;33m=\u001b[0m\u001b[1;36m0\u001b[0m\u001b[1;33m)\u001b[0m\u001b[1;33m:\u001b[0m\u001b[1;33m\u001b[0m\u001b[1;33m\u001b[0m\u001b[0m\n\u001b[0;32m   1419\u001b[0m         \u001b[1;34m\"\"\"Call the mainloop of Tk.\"\"\"\u001b[0m\u001b[1;33m\u001b[0m\u001b[1;33m\u001b[0m\u001b[0m\n\u001b[1;32m-> 1420\u001b[1;33m         \u001b[0mself\u001b[0m\u001b[1;33m.\u001b[0m\u001b[0mtk\u001b[0m\u001b[1;33m.\u001b[0m\u001b[0mmainloop\u001b[0m\u001b[1;33m(\u001b[0m\u001b[0mn\u001b[0m\u001b[1;33m)\u001b[0m\u001b[1;33m\u001b[0m\u001b[1;33m\u001b[0m\u001b[0m\n\u001b[0m\u001b[0;32m   1421\u001b[0m \u001b[1;33m\u001b[0m\u001b[0m\n\u001b[0;32m   1422\u001b[0m     \u001b[1;32mdef\u001b[0m \u001b[0mquit\u001b[0m\u001b[1;33m(\u001b[0m\u001b[0mself\u001b[0m\u001b[1;33m)\u001b[0m\u001b[1;33m:\u001b[0m\u001b[1;33m\u001b[0m\u001b[1;33m\u001b[0m\u001b[0m\n",
      "\u001b[1;31mKeyboardInterrupt\u001b[0m: "
     ]
    }
   ],
   "source": [
    "from tkinter import *\n",
    "\n",
    "def fnRed():\n",
    "    l1[\"bg\"]=\"red\"\n",
    "\n",
    "def fnGreen():\n",
    "    l1[\"bg\"]=\"green\"\n",
    "\n",
    "def fnBlue():\n",
    "    l1[\"bg\"] = \"blue\"\n",
    "\n",
    "root = Tk()\n",
    "l1=Label(root,height=3,width=20,bg=\"white\")\n",
    "b1=Button(root,text=\"Red\",width=6,command=fnRed)\n",
    "b2=Button(root,text=\"Green\",width=6,command=fnGreen)\n",
    "b3=Button(root,text=\"Blue\",width=6,command=fnBlue)\n",
    "l1.grid(row=0,column=1)\n",
    "b1.grid(row=1,column=0)\n",
    "b2.grid(row=1,column=1)\n",
    "b3.grid(row=1,column=2)\n",
    "root.mainloop()\n"
   ]
  },
  {
   "cell_type": "code",
   "execution_count": null,
   "metadata": {},
   "outputs": [],
   "source": [
    "Can you modify the previous code so that the task can be done without defining any function explicitly ?\n",
    "\n",
    "Answer:\n",
    "Yes, \n",
    "By using Lambda Function\n"
   ]
  },
  {
   "cell_type": "code",
   "execution_count": null,
   "metadata": {},
   "outputs": [],
   "source": [
    "from tkinter import *\n",
    "root = Tk()\n",
    "l1=Label(root,height=3,width=20,bg=\"white\")\n",
    "b1=Button(root,text=\"Red\",width=6,command=lambda:l1.config(bg=\"red\"))\n",
    "b2=Button(root,text=\"Green\",width=6,command=lambda:l1.config(bg=\"green\"))\n",
    "b3=Button(root,text=\"Blue\",width=6,command=lambda:l1.config(bg=\"blue\"))\n",
    "l1.grid(row=0,column=1)\n",
    "b1.grid(row=1,column=0)\n",
    "b2.grid(row=1,column=1)\n",
    "b3.grid(row=1,column=2)\n",
    "root.mainloop()\n"
   ]
  },
  {
   "cell_type": "code",
   "execution_count": null,
   "metadata": {},
   "outputs": [],
   "source": [
    "We cannot write the expression l1[“bg”]=“red” \n",
    "here because recall that lambdas don’t accept assignment expressions\n"
   ]
  },
  {
   "cell_type": "code",
   "execution_count": null,
   "metadata": {},
   "outputs": [],
   "source": []
  },
  {
   "cell_type": "code",
   "execution_count": null,
   "metadata": {},
   "outputs": [],
   "source": []
  },
  {
   "cell_type": "code",
   "execution_count": null,
   "metadata": {},
   "outputs": [],
   "source": []
  },
  {
   "cell_type": "code",
   "execution_count": null,
   "metadata": {},
   "outputs": [],
   "source": []
  },
  {
   "cell_type": "code",
   "execution_count": null,
   "metadata": {},
   "outputs": [],
   "source": []
  },
  {
   "cell_type": "code",
   "execution_count": null,
   "metadata": {},
   "outputs": [],
   "source": []
  },
  {
   "cell_type": "code",
   "execution_count": null,
   "metadata": {},
   "outputs": [],
   "source": []
  },
  {
   "cell_type": "code",
   "execution_count": null,
   "metadata": {},
   "outputs": [],
   "source": []
  },
  {
   "cell_type": "code",
   "execution_count": null,
   "metadata": {},
   "outputs": [],
   "source": []
  },
  {
   "cell_type": "code",
   "execution_count": null,
   "metadata": {},
   "outputs": [],
   "source": []
  }
 ],
 "metadata": {
  "kernelspec": {
   "display_name": "Python 3",
   "language": "python",
   "name": "python3"
  },
  "language_info": {
   "codemirror_mode": {
    "name": "ipython",
    "version": 3
   },
   "file_extension": ".py",
   "mimetype": "text/x-python",
   "name": "python",
   "nbconvert_exporter": "python",
   "pygments_lexer": "ipython3",
   "version": "3.8.8"
  }
 },
 "nbformat": 4,
 "nbformat_minor": 4
}
