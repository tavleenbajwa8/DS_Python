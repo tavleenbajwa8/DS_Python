{
 "cells": [
  {
   "cell_type": "code",
   "execution_count": 3,
   "id": "0c08a7bd",
   "metadata": {},
   "outputs": [
    {
     "name": "stdout",
     "output_type": "stream",
     "text": [
      "100\n",
      "Not Weird\n"
     ]
    }
   ],
   "source": [
    "import math\n",
    "import os\n",
    "import random\n",
    "import re\n",
    "import sys\n",
    "\n",
    "\n",
    "n = int(input())\n",
    "\n",
    "if n in range(2,5,2):\n",
    "    print(\"Not Weird\")\n",
    "elif n in range(6,20,2):\n",
    "    print(\"Weird\")\n",
    "elif n in range(20,101,2):\n",
    "    print(\"Not Weird\")\n",
    "else:\n",
    "    print(\"mg\")"
   ]
  },
  {
   "cell_type": "code",
   "execution_count": 5,
   "id": "e3bd7eae",
   "metadata": {},
   "outputs": [
    {
     "name": "stdout",
     "output_type": "stream",
     "text": [
      "3\n",
      "5\n",
      "0\n",
      "0.6\n"
     ]
    }
   ],
   "source": [
    "if __name__ == '__main__':\n",
    "    a = int(input())\n",
    "    b = int(input())\n",
    "print(a//b)\n",
    "print(a/b)"
   ]
  },
  {
   "cell_type": "code",
   "execution_count": 5,
   "id": "f4e4f25c",
   "metadata": {},
   "outputs": [
    {
     "name": "stdout",
     "output_type": "stream",
     "text": [
      "7\n",
      "0\n",
      "1\n",
      "4\n",
      "9\n",
      "16\n",
      "25\n",
      "36\n"
     ]
    }
   ],
   "source": [
    "n = int(input())\n",
    "i = 0\n",
    "while i<n:\n",
    "    print(i**2)\n",
    "    i += 1\n",
    "\n",
    "    \n",
    "    "
   ]
  },
  {
   "cell_type": "code",
   "execution_count": 10,
   "id": "7ac38d16",
   "metadata": {},
   "outputs": [
    {
     "name": "stdout",
     "output_type": "stream",
     "text": [
      "6\n"
     ]
    },
    {
     "ename": "TypeError",
     "evalue": "'int' object is not iterable",
     "output_type": "error",
     "traceback": [
      "\u001b[1;31m---------------------------------------------------------------------------\u001b[0m",
      "\u001b[1;31mTypeError\u001b[0m                                 Traceback (most recent call last)",
      "\u001b[1;32m<ipython-input-10-1e5189e9266f>\u001b[0m in \u001b[0;36m<module>\u001b[1;34m\u001b[0m\n\u001b[0;32m      1\u001b[0m \u001b[0mn\u001b[0m \u001b[1;33m=\u001b[0m \u001b[0mint\u001b[0m\u001b[1;33m(\u001b[0m\u001b[0minput\u001b[0m\u001b[1;33m(\u001b[0m\u001b[1;33m)\u001b[0m\u001b[1;33m)\u001b[0m\u001b[1;33m\u001b[0m\u001b[1;33m\u001b[0m\u001b[0m\n\u001b[0;32m      2\u001b[0m \u001b[0ml\u001b[0m \u001b[1;33m=\u001b[0m \u001b[1;33m[\u001b[0m\u001b[1;33m]\u001b[0m\u001b[1;33m\u001b[0m\u001b[1;33m\u001b[0m\u001b[0m\n\u001b[1;32m----> 3\u001b[1;33m \u001b[1;32mfor\u001b[0m \u001b[0mi\u001b[0m \u001b[1;32min\u001b[0m \u001b[0mn\u001b[0m\u001b[1;33m:\u001b[0m\u001b[1;33m\u001b[0m\u001b[1;33m\u001b[0m\u001b[0m\n\u001b[0m\u001b[0;32m      4\u001b[0m     \u001b[0ml\u001b[0m\u001b[1;33m.\u001b[0m\u001b[0mappend\u001b[0m\u001b[1;33m(\u001b[0m\u001b[0mi\u001b[0m\u001b[1;33m**\u001b[0m\u001b[1;36m2\u001b[0m\u001b[1;33m)\u001b[0m\u001b[1;33m\u001b[0m\u001b[1;33m\u001b[0m\u001b[0m\n\u001b[0;32m      5\u001b[0m     \u001b[0mprint\u001b[0m\u001b[1;33m(\u001b[0m\u001b[0ml\u001b[0m\u001b[1;33m)\u001b[0m\u001b[1;33m\u001b[0m\u001b[1;33m\u001b[0m\u001b[0m\n",
      "\u001b[1;31mTypeError\u001b[0m: 'int' object is not iterable"
     ]
    }
   ],
   "source": [
    "n = int(input())\n",
    "l = []\n",
    "for i in n:\n",
    "    l.append(i**2)\n",
    "    print(l)"
   ]
  },
  {
   "cell_type": "code",
   "execution_count": 5,
   "id": "a81c150d",
   "metadata": {},
   "outputs": [
    {
     "name": "stdout",
     "output_type": "stream",
     "text": [
      "5\n"
     ]
    }
   ],
   "source": [
    "n = int(input())\n",
    "s = n - 1"
   ]
  },
  {
   "cell_type": "code",
   "execution_count": 6,
   "id": "b180cb01",
   "metadata": {},
   "outputs": [
    {
     "data": {
      "text/plain": [
       "4"
      ]
     },
     "execution_count": 6,
     "metadata": {},
     "output_type": "execute_result"
    }
   ],
   "source": [
    "s\n"
   ]
  },
  {
   "cell_type": "code",
   "execution_count": 6,
   "id": "7c9d347c",
   "metadata": {},
   "outputs": [
    {
     "name": "stdout",
     "output_type": "stream",
     "text": [
      "1900\n"
     ]
    }
   ],
   "source": [
    "year = int(input())\n",
    "def is_leap(year):\n",
    "    leap = False\n",
    "    if year/4 and year/400 == int:\n",
    "        return True\n",
    "    elif year/100 == int:\n",
    "        return leap\n",
    "        \n",
    "    \n",
    "    # Write your logic here\n",
    "    \n",
    "    \n",
    "\n"
   ]
  },
  {
   "cell_type": "code",
   "execution_count": 2,
   "id": "434db8e0",
   "metadata": {},
   "outputs": [],
   "source": [
    "is_leap(1990)"
   ]
  },
  {
   "cell_type": "code",
   "execution_count": 4,
   "id": "03da46eb",
   "metadata": {},
   "outputs": [
    {
     "data": {
      "text/plain": [
       "19.0"
      ]
     },
     "execution_count": 4,
     "metadata": {},
     "output_type": "execute_result"
    }
   ],
   "source": [
    "1900/100"
   ]
  },
  {
   "cell_type": "code",
   "execution_count": null,
   "id": "aa245cbf",
   "metadata": {},
   "outputs": [],
   "source": [
    "a = 10\n",
    "for "
   ]
  },
  {
   "cell_type": "code",
   "execution_count": 5,
   "id": "45e3e486",
   "metadata": {},
   "outputs": [
    {
     "name": "stdout",
     "output_type": "stream",
     "text": [
      "\r\n",
      "1\r\n",
      "12\r\n",
      "123\r\n",
      "1234\r\n",
      "12345\r\n",
      "123456\r\n",
      "1234567\r\n",
      "12345678\r\n",
      "123456789\r\n",
      "12345678910\r\n"
     ]
    }
   ],
   "source": [
    "n = 10\n",
    "for i in range(0, n+1):\n",
    "    for j in range(1, i+1):\n",
    "        print(j, end = '')\n",
    "    print('\\r')\n",
    "    \n"
   ]
  },
  {
   "cell_type": "code",
   "execution_count": null,
   "id": "68376389",
   "metadata": {},
   "outputs": [],
   "source": [
    "n = 10\n"
   ]
  },
  {
   "cell_type": "code",
   "execution_count": 2,
   "id": "7e62710c",
   "metadata": {},
   "outputs": [
    {
     "name": "stdout",
     "output_type": "stream",
     "text": [
      "3\n",
      "Harry Benn Penn\n",
      "20 30 60\n"
     ]
    },
    {
     "ename": "ValueError",
     "evalue": "could not convert string to float: '20 30 60'",
     "output_type": "error",
     "traceback": [
      "\u001b[1;31m---------------------------------------------------------------------------\u001b[0m",
      "\u001b[1;31mValueError\u001b[0m                                Traceback (most recent call last)",
      "\u001b[1;32m<ipython-input-2-10503c27b1f7>\u001b[0m in \u001b[0;36m<module>\u001b[1;34m\u001b[0m\n\u001b[0;32m      3\u001b[0m \u001b[1;32mfor\u001b[0m \u001b[0m_\u001b[0m \u001b[1;32min\u001b[0m \u001b[0mrange\u001b[0m\u001b[1;33m(\u001b[0m\u001b[0mint\u001b[0m\u001b[1;33m(\u001b[0m\u001b[0minput\u001b[0m\u001b[1;33m(\u001b[0m\u001b[1;33m)\u001b[0m\u001b[1;33m)\u001b[0m\u001b[1;33m)\u001b[0m\u001b[1;33m:\u001b[0m\u001b[1;33m\u001b[0m\u001b[1;33m\u001b[0m\u001b[0m\n\u001b[0;32m      4\u001b[0m     \u001b[0mname\u001b[0m \u001b[1;33m=\u001b[0m \u001b[0minput\u001b[0m\u001b[1;33m(\u001b[0m\u001b[1;33m)\u001b[0m\u001b[1;33m\u001b[0m\u001b[1;33m\u001b[0m\u001b[0m\n\u001b[1;32m----> 5\u001b[1;33m     \u001b[0mscore\u001b[0m \u001b[1;33m=\u001b[0m \u001b[0mfloat\u001b[0m\u001b[1;33m(\u001b[0m\u001b[0minput\u001b[0m\u001b[1;33m(\u001b[0m\u001b[1;33m)\u001b[0m\u001b[1;33m)\u001b[0m\u001b[1;33m\u001b[0m\u001b[1;33m\u001b[0m\u001b[0m\n\u001b[0m\u001b[0;32m      6\u001b[0m     \u001b[0mResult\u001b[0m\u001b[1;33m+=\u001b[0m\u001b[1;33m[\u001b[0m\u001b[1;33m[\u001b[0m\u001b[0mname\u001b[0m\u001b[1;33m,\u001b[0m\u001b[0mscore\u001b[0m\u001b[1;33m]\u001b[0m\u001b[1;33m]\u001b[0m\u001b[1;33m\u001b[0m\u001b[1;33m\u001b[0m\u001b[0m\n\u001b[0;32m      7\u001b[0m     \u001b[0mscorelist\u001b[0m\u001b[1;33m+=\u001b[0m\u001b[1;33m[\u001b[0m\u001b[0mscore\u001b[0m\u001b[1;33m]\u001b[0m\u001b[1;33m\u001b[0m\u001b[1;33m\u001b[0m\u001b[0m\n",
      "\u001b[1;31mValueError\u001b[0m: could not convert string to float: '20 30 60'"
     ]
    }
   ],
   "source": [
    "Result =[]\n",
    "scorelist = []\n",
    "for _ in range(int(input())):\n",
    "    name = input()\n",
    "    score = float(input())\n",
    "    Result+=[[name,score]]\n",
    "    scorelist+=[score]\n",
    "    b=sorted(list(set(scorelist)))[1] \n",
    "    for a,c in sorted(Result):\n",
    "        if c==b:\n",
    "            print(a)\n"
   ]
  },
  {
   "cell_type": "code",
   "execution_count": 50,
   "id": "580b4579",
   "metadata": {},
   "outputs": [],
   "source": [
    "records = [[\"hen\", 30], [\"jenn\", 10], [\"garr\", 80], [\"tarr\", 10]]"
   ]
  },
  {
   "cell_type": "code",
   "execution_count": 73,
   "id": "3eda2236",
   "metadata": {},
   "outputs": [
    {
     "name": "stdout",
     "output_type": "stream",
     "text": [
      "hen\n",
      "tarr\n"
     ]
    }
   ],
   "source": [
    "records = [[\"hen\", 30], [\"jenn\", 10], [\"garr\", 80], [\"tarr\", 30]]\n",
    "l = []\n",
    "for i in records:\n",
    "    l.append((i[1]))\n",
    "l1 = sorted(l)\n",
    "l1.pop(len(l1)-1)\n",
    "l2 = []\n",
    "for j in l1:\n",
    "    if j == l1[-1]:\n",
    "        l2.append(j)\n",
    "l2 = set(l2)\n",
    "for num in l2:\n",
    "    for num1 in records:\n",
    "        if num == num1[1]:\n",
    "            print(num1[0])\n",
    "    "
   ]
  },
  {
   "cell_type": "code",
   "execution_count": 46,
   "id": "d7d0fe9e",
   "metadata": {},
   "outputs": [
    {
     "ename": "IndexError",
     "evalue": "pop index out of range",
     "output_type": "error",
     "traceback": [
      "\u001b[1;31m---------------------------------------------------------------------------\u001b[0m",
      "\u001b[1;31mIndexError\u001b[0m                                Traceback (most recent call last)",
      "\u001b[1;32m<ipython-input-46-3351e9c7c918>\u001b[0m in \u001b[0;36m<module>\u001b[1;34m\u001b[0m\n\u001b[1;32m----> 1\u001b[1;33m \u001b[0ml1\u001b[0m\u001b[1;33m.\u001b[0m\u001b[0mpop\u001b[0m\u001b[1;33m(\u001b[0m\u001b[0ml1\u001b[0m\u001b[1;33m[\u001b[0m\u001b[1;33m-\u001b[0m\u001b[1;36m1\u001b[0m\u001b[1;33m]\u001b[0m\u001b[1;33m)\u001b[0m\u001b[1;33m\u001b[0m\u001b[1;33m\u001b[0m\u001b[0m\n\u001b[0m",
      "\u001b[1;31mIndexError\u001b[0m: pop index out of range"
     ]
    }
   ],
   "source": [
    "l1.pop(l1[-1])\n"
   ]
  },
  {
   "cell_type": "code",
   "execution_count": 33,
   "id": "caf0dfb0",
   "metadata": {},
   "outputs": [
    {
     "data": {
      "text/plain": [
       "[40, 70, 90]"
      ]
     },
     "execution_count": 33,
     "metadata": {},
     "output_type": "execute_result"
    }
   ],
   "source": [
    "l1"
   ]
  },
  {
   "cell_type": "code",
   "execution_count": 35,
   "id": "a7400941",
   "metadata": {},
   "outputs": [
    {
     "data": {
      "text/plain": [
       "90"
      ]
     },
     "execution_count": 35,
     "metadata": {},
     "output_type": "execute_result"
    }
   ],
   "source": [
    "\n",
    "    "
   ]
  },
  {
   "cell_type": "code",
   "execution_count": 36,
   "id": "0eaf40a6",
   "metadata": {},
   "outputs": [
    {
     "data": {
      "text/plain": [
       "[40, 70]"
      ]
     },
     "execution_count": 36,
     "metadata": {},
     "output_type": "execute_result"
    }
   ],
   "source": [
    "l1"
   ]
  },
  {
   "cell_type": "code",
   "execution_count": 45,
   "id": "59088aa9",
   "metadata": {},
   "outputs": [
    {
     "name": "stdout",
     "output_type": "stream",
     "text": [
      "70\n"
     ]
    }
   ],
   "source": []
  },
  {
   "cell_type": "code",
   "execution_count": 44,
   "id": "0c35345c",
   "metadata": {},
   "outputs": [
    {
     "data": {
      "text/plain": [
       "70"
      ]
     },
     "execution_count": 44,
     "metadata": {},
     "output_type": "execute_result"
    }
   ],
   "source": []
  },
  {
   "cell_type": "code",
   "execution_count": 66,
   "id": "76dda33e",
   "metadata": {},
   "outputs": [
    {
     "ename": "TypeError",
     "evalue": "'int' object is not iterable",
     "output_type": "error",
     "traceback": [
      "\u001b[1;31m---------------------------------------------------------------------------\u001b[0m",
      "\u001b[1;31mTypeError\u001b[0m                                 Traceback (most recent call last)",
      "\u001b[1;32m<ipython-input-66-02317385d136>\u001b[0m in \u001b[0;36m<module>\u001b[1;34m\u001b[0m\n\u001b[0;32m      1\u001b[0m \u001b[0mrecords\u001b[0m \u001b[1;33m=\u001b[0m \u001b[1;33m[\u001b[0m\u001b[1;33m[\u001b[0m\u001b[1;34m\"hen\"\u001b[0m\u001b[1;33m,\u001b[0m \u001b[1;36m30\u001b[0m\u001b[1;33m]\u001b[0m\u001b[1;33m,\u001b[0m \u001b[1;33m[\u001b[0m\u001b[1;34m\"jenn\"\u001b[0m\u001b[1;33m,\u001b[0m \u001b[1;36m10\u001b[0m\u001b[1;33m]\u001b[0m\u001b[1;33m,\u001b[0m \u001b[1;33m[\u001b[0m\u001b[1;34m\"garr\"\u001b[0m\u001b[1;33m,\u001b[0m \u001b[1;36m80\u001b[0m\u001b[1;33m]\u001b[0m\u001b[1;33m,\u001b[0m \u001b[1;33m[\u001b[0m\u001b[1;34m\"tarr\"\u001b[0m\u001b[1;33m,\u001b[0m \u001b[1;36m30\u001b[0m\u001b[1;33m]\u001b[0m\u001b[1;33m]\u001b[0m\u001b[1;33m\u001b[0m\u001b[1;33m\u001b[0m\u001b[0m\n\u001b[0;32m      2\u001b[0m \u001b[1;32mfor\u001b[0m \u001b[0mi\u001b[0m \u001b[1;32min\u001b[0m \u001b[0mrecords\u001b[0m\u001b[1;33m:\u001b[0m\u001b[1;33m\u001b[0m\u001b[1;33m\u001b[0m\u001b[0m\n\u001b[1;32m----> 3\u001b[1;33m     \u001b[1;32mif\u001b[0m \u001b[0mrecords\u001b[0m\u001b[1;33m[\u001b[0m\u001b[1;36m0\u001b[0m\u001b[1;33m]\u001b[0m\u001b[1;33m[\u001b[0m\u001b[1;36m1\u001b[0m\u001b[1;33m]\u001b[0m \u001b[1;33m==\u001b[0m \u001b[0mmax\u001b[0m\u001b[1;33m(\u001b[0m\u001b[0mrecords\u001b[0m\u001b[1;33m[\u001b[0m\u001b[1;36m0\u001b[0m\u001b[1;33m]\u001b[0m\u001b[1;33m[\u001b[0m\u001b[1;36m1\u001b[0m\u001b[1;33m]\u001b[0m\u001b[1;33m)\u001b[0m\u001b[1;33m:\u001b[0m\u001b[1;33m\u001b[0m\u001b[1;33m\u001b[0m\u001b[0m\n\u001b[0m\u001b[0;32m      4\u001b[0m         \u001b[0mrecords\u001b[0m\u001b[1;33m.\u001b[0m\u001b[0mpop\u001b[0m\u001b[1;33m(\u001b[0m\u001b[0mi\u001b[0m\u001b[1;33m[\u001b[0m\u001b[1;36m1\u001b[0m\u001b[1;33m]\u001b[0m\u001b[1;33m)\u001b[0m\u001b[1;33m\u001b[0m\u001b[1;33m\u001b[0m\u001b[0m\n",
      "\u001b[1;31mTypeError\u001b[0m: 'int' object is not iterable"
     ]
    }
   ],
   "source": [
    "records = [[\"hen\", 30], [\"jenn\", 10], [\"garr\", 80], [\"tarr\", 30]]\n",
    "for i in records:\n",
    "    if records[0][1] == max(records[0][1]):\n",
    "        records.pop(i[1])"
   ]
  },
  {
   "cell_type": "code",
   "execution_count": 62,
   "id": "43000168",
   "metadata": {},
   "outputs": [
    {
     "data": {
      "text/plain": [
       "[['garr', 80], ['hen', 30], ['jenn', 10], ['tarr', 30]]"
      ]
     },
     "execution_count": 62,
     "metadata": {},
     "output_type": "execute_result"
    }
   ],
   "source": [
    "rec"
   ]
  },
  {
   "cell_type": "code",
   "execution_count": 86,
   "id": "4849c2ac",
   "metadata": {},
   "outputs": [
    {
     "name": "stdout",
     "output_type": "stream",
     "text": [
      "2\n",
      "ds\n",
      "3\n",
      "dsvsd\n",
      "1\n",
      "[['dsvsd', 1.0]]\n"
     ]
    }
   ],
   "source": [
    "x = int(input())\n",
    "for _ in range(0,x):\n",
    "    stu = []\n",
    "    records = []\n",
    "    name = stu.append(input())\n",
    "    score = stu.append(float(input()))\n",
    "    records.append(stu) \n",
    "print(records)      \n",
    "   "
   ]
  },
  {
   "cell_type": "code",
   "execution_count": 87,
   "id": "b4e4a1f4",
   "metadata": {},
   "outputs": [
    {
     "ename": "IndentationError",
     "evalue": "unexpected indent (<ipython-input-87-cb73cf439d7b>, line 2)",
     "output_type": "error",
     "traceback": [
      "\u001b[1;36m  File \u001b[1;32m\"<ipython-input-87-cb73cf439d7b>\"\u001b[1;36m, line \u001b[1;32m2\u001b[0m\n\u001b[1;33m    for i in records:\u001b[0m\n\u001b[1;37m    ^\u001b[0m\n\u001b[1;31mIndentationError\u001b[0m\u001b[1;31m:\u001b[0m unexpected indent\n"
     ]
    }
   ],
   "source": [
    " l = []\n",
    "    for i in records:\n",
    "        l.append((i[1]))\n",
    "    l1 = sorted(l)\n",
    "    l1.pop(len(l1)-1)\n",
    "    l2 = []\n",
    "    for j in l1:\n",
    "        if j == l1[-1]:\n",
    "            l2.append(j)\n",
    "    l2 = set(l2)\n",
    "    for num in l2:\n",
    "        for num1 in records:\n",
    "            if num == num1[1]:\n",
    "                print(num1[0])\n",
    "        "
   ]
  },
  {
   "cell_type": "code",
   "execution_count": 88,
   "id": "a81afaf3",
   "metadata": {},
   "outputs": [
    {
     "data": {
      "text/plain": [
       "'C:\\\\Users\\\\Lakshya\\\\DS_Python\\\\practice'"
      ]
     },
     "execution_count": 88,
     "metadata": {},
     "output_type": "execute_result"
    }
   ],
   "source": [
    "pwd()"
   ]
  },
  {
   "cell_type": "code",
   "execution_count": 129,
   "id": "cd5d5733",
   "metadata": {},
   "outputs": [
    {
     "data": {
      "text/plain": [
       "'2.  Fix Folder as Workspace not updating regression.\\n4.  Fixed a crash when trying to launch a secondary instance with command line arguments.\\n\\nIncluded plugins:\\n1.  NppExport v0.2.8 (32-bit x86 only)\\n3.  Mime Tool 2.1\\n\\nUpdater (Installer only):\\n* WinGup (for Notepad++) v5.0.2\\nadlcaksc\\ndjdac ad adjcac jcda cjdad jvd'"
      ]
     },
     "execution_count": 129,
     "metadata": {},
     "output_type": "execute_result"
    }
   ],
   "source": [
    "import os\n",
    "os.chdir('C:\\\\Users\\\\Lakshya\\\\DS_Python')\n",
    "files = []\n",
    "for i in os.listdir():\n",
    "    if i.endswith(\".txt\"):\n",
    "        files.append(i)\n",
    "l = []\n",
    "for i in files:\n",
    "    f = open(i, \"r+\")\n",
    "   \n",
    "    for line in f:\n",
    "        l.append(f.readline())\n",
    "       \n",
    "f.seek(1)\n",
    "f.read()\n",
    "f = open(\"finaltxt\", \"w+\")\n",
    "for j in l:\n",
    "    f.writelines(j)\n",
    "\n",
    "f = open(\"finaltxt\", \"w+\")\n",
    "f.seek(2)\n",
    "f.read() \n"
   ]
  },
  {
   "cell_type": "code",
   "execution_count": 90,
   "id": "d2f270cb",
   "metadata": {},
   "outputs": [],
   "source": []
  },
  {
   "cell_type": "code",
   "execution_count": 91,
   "id": "f4e9b463",
   "metadata": {},
   "outputs": [
    {
     "data": {
      "text/plain": [
       "'C:\\\\Users\\\\Lakshya\\\\DS_Python'"
      ]
     },
     "execution_count": 91,
     "metadata": {},
     "output_type": "execute_result"
    }
   ],
   "source": [
    "pwd()"
   ]
  },
  {
   "cell_type": "code",
   "execution_count": 124,
   "id": "f78a3a34",
   "metadata": {},
   "outputs": [
    {
     "data": {
      "text/plain": [
       "['module22jan.txt', 'test1.txt']"
      ]
     },
     "execution_count": 124,
     "metadata": {},
     "output_type": "execute_result"
    }
   ],
   "source": [
    "files = []\n",
    "for i in os.listdir():\n",
    "    if i.endswith(\".txt\"):\n",
    "        files.append(i)\n",
    "files"
   ]
  },
  {
   "cell_type": "code",
   "execution_count": 125,
   "id": "1dd6ba26",
   "metadata": {},
   "outputs": [],
   "source": [
    "l = []\n",
    "for i in files:\n",
    "    f = open(i, \"r+\")\n",
    "   \n",
    "    for line in f:\n",
    "        l.append(f.readlines())\n",
    "       \n",
    "f.seek(2)\n",
    "f.read()\n",
    "f = open(\"finaltxt\", \"w+\")\n",
    "for j in l:\n",
    "    f.writelines(j)\n",
    "    \n",
    "    "
   ]
  },
  {
   "cell_type": "code",
   "execution_count": 126,
   "id": "be99b9e3",
   "metadata": {},
   "outputs": [
    {
     "data": {
      "text/plain": [
       "'1.  Remove annoying \"no update\" notification.\\n2.  Fix Folder as Workspace not updating regression.\\n3.  Fixed crash issue by checking & unchecking \"Disable extension column\" option in preferences dialog.\\n4.  Fixed a crash when trying to launch a secondary instance with command line arguments.\\n5.  Fix \"Explorer Here\" from \"Folder as Workspace\" problem if folder name contains comma.\\n\\n\\nIncluded plugins:\\n\\n1.  NppExport v0.2.8 (32-bit x86 only)\\n2.  Converter 4.2.1\\n3.  Mime Tool 2.1\\n4.  DSpellCheck 1.3.5\\n\\n\\nUpdater (Installer only):\\n\\n* WinGup (for Notepad++) v5.0.2\\nadlcaksc\\naddkcjlkacasckdjc\\ndjdac ad adjcac jcda cjdad jvd'"
      ]
     },
     "execution_count": 126,
     "metadata": {},
     "output_type": "execute_result"
    }
   ],
   "source": [
    "f = open(\"finaltxt\", \"w+\")\n",
    "f.seek(2)\n",
    "f.read()"
   ]
  },
  {
   "cell_type": "code",
   "execution_count": 2,
   "id": "89ce4897",
   "metadata": {},
   "outputs": [
    {
     "name": "stdout",
     "output_type": "stream",
     "text": [
      "2\n",
      "dshkdc\n",
      "43\n",
      "kjasddh\n",
      "34\n"
     ]
    },
    {
     "ename": "NameError",
     "evalue": "name 'num1' is not defined",
     "output_type": "error",
     "traceback": [
      "\u001b[1;31m---------------------------------------------------------------------------\u001b[0m",
      "\u001b[1;31mNameError\u001b[0m                                 Traceback (most recent call last)",
      "\u001b[1;32m<ipython-input-2-2157076accc7>\u001b[0m in \u001b[0;36m<module>\u001b[1;34m\u001b[0m\n\u001b[0;32m     22\u001b[0m                 \u001b[1;32mif\u001b[0m \u001b[0mnum\u001b[0m \u001b[1;33m==\u001b[0m \u001b[0mnum1\u001b[0m\u001b[1;33m[\u001b[0m\u001b[1;36m1\u001b[0m\u001b[1;33m]\u001b[0m\u001b[1;33m:\u001b[0m\u001b[1;33m\u001b[0m\u001b[1;33m\u001b[0m\u001b[0m\n\u001b[0;32m     23\u001b[0m                     \u001b[0mprint\u001b[0m\u001b[1;33m(\u001b[0m\u001b[0mnum1\u001b[0m\u001b[1;33m[\u001b[0m\u001b[1;36m0\u001b[0m\u001b[1;33m]\u001b[0m\u001b[1;33m)\u001b[0m\u001b[1;33m\u001b[0m\u001b[1;33m\u001b[0m\u001b[0m\n\u001b[1;32m---> 24\u001b[1;33m \u001b[0mprint\u001b[0m\u001b[1;33m(\u001b[0m\u001b[0mnum1\u001b[0m\u001b[1;33m[\u001b[0m\u001b[1;36m0\u001b[0m\u001b[1;33m]\u001b[0m\u001b[1;33m)\u001b[0m\u001b[1;33m\u001b[0m\u001b[1;33m\u001b[0m\u001b[0m\n\u001b[0m",
      "\u001b[1;31mNameError\u001b[0m: name 'num1' is not defined"
     ]
    }
   ],
   "source": [
    "for _ in range(int(input())):\n",
    "        stu = []\n",
    "        records = []\n",
    "        \n",
    "        name = input()\n",
    "        score = float(input())\n",
    "        \n",
    "        stu.append(name)\n",
    "        stu.append(score)\n",
    "        records.append(stu)\n",
    "        \n",
    "        l = []\n",
    "        for i in records:\n",
    "            l.append((i[1]))\n",
    "        l1 = sorted(l)\n",
    "        l1.pop(len(l1)-1)\n",
    "        l2 = []\n",
    "        for j in l1:\n",
    "            if j == l1[-1]:\n",
    "                l2.append(j)\n",
    "        l2 = set(l2)\n",
    "        for num in l2:\n",
    "            for num1 in records:\n",
    "                if num == num1[1]:\n",
    "                    print(num1[0])       "
   ]
  },
  {
   "cell_type": "code",
   "execution_count": null,
   "id": "60a8524f",
   "metadata": {},
   "outputs": [],
   "source": [
    "for _ in range(int(input())):\n",
    "        stu = []\n",
    "        records = []\n",
    "        \n",
    "        name = input()\n",
    "        score = float(input())\n",
    "        \n",
    "        stu.append(name)\n",
    "        stu.append(score)\n",
    "        records.append(stu)\n",
    "print(records)"
   ]
  },
  {
   "cell_type": "code",
   "execution_count": null,
   "id": "a3c34b89",
   "metadata": {},
   "outputs": [],
   "source": []
  }
 ],
 "metadata": {
  "kernelspec": {
   "display_name": "Python 3",
   "language": "python",
   "name": "python3"
  },
  "language_info": {
   "codemirror_mode": {
    "name": "ipython",
    "version": 3
   },
   "file_extension": ".py",
   "mimetype": "text/x-python",
   "name": "python",
   "nbconvert_exporter": "python",
   "pygments_lexer": "ipython3",
   "version": "3.8.8"
  }
 },
 "nbformat": 4,
 "nbformat_minor": 5
}
