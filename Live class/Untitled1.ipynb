{
 "cells": [
  {
   "cell_type": "code",
   "execution_count": 1,
   "id": "4b7ce5f9",
   "metadata": {},
   "outputs": [],
   "source": [
    "def test():\n",
    "    pass"
   ]
  },
  {
   "cell_type": "code",
   "execution_count": 2,
   "id": "bb1e091b",
   "metadata": {},
   "outputs": [],
   "source": [
    "def test1():\n",
    "    print(\"this us my first function\")"
   ]
  },
  {
   "cell_type": "code",
   "execution_count": 3,
   "id": "0abfabfb",
   "metadata": {},
   "outputs": [
    {
     "name": "stdout",
     "output_type": "stream",
     "text": [
      "this us my first function\n"
     ]
    }
   ],
   "source": [
    "test1()"
   ]
  },
  {
   "cell_type": "code",
   "execution_count": 4,
   "id": "ae0484c0",
   "metadata": {},
   "outputs": [
    {
     "name": "stdout",
     "output_type": "stream",
     "text": [
      "this us my first function\n"
     ]
    }
   ],
   "source": [
    "a = test1()"
   ]
  },
  {
   "cell_type": "code",
   "execution_count": 8,
   "id": "c43b64de",
   "metadata": {},
   "outputs": [
    {
     "name": "stdout",
     "output_type": "stream",
     "text": [
      "this us my first function\n"
     ]
    },
    {
     "ename": "TypeError",
     "evalue": "unsupported operand type(s) for +: 'NoneType' and 'str'",
     "output_type": "error",
     "traceback": [
      "\u001b[1;31m---------------------------------------------------------------------------\u001b[0m",
      "\u001b[1;31mTypeError\u001b[0m                                 Traceback (most recent call last)",
      "\u001b[1;32m<ipython-input-8-c489b53accba>\u001b[0m in \u001b[0;36m<module>\u001b[1;34m\u001b[0m\n\u001b[1;32m----> 1\u001b[1;33m \u001b[0mtest1\u001b[0m\u001b[1;33m(\u001b[0m\u001b[1;33m)\u001b[0m \u001b[1;33m+\u001b[0m \u001b[1;34m\"sudh\"\u001b[0m\u001b[1;33m\u001b[0m\u001b[1;33m\u001b[0m\u001b[0m\n\u001b[0m",
      "\u001b[1;31mTypeError\u001b[0m: unsupported operand type(s) for +: 'NoneType' and 'str'"
     ]
    }
   ],
   "source": [
    "test1() + \"sudh\""
   ]
  },
  {
   "cell_type": "code",
   "execution_count": 9,
   "id": "c1cb490e",
   "metadata": {},
   "outputs": [
    {
     "name": "stdout",
     "output_type": "stream",
     "text": [
      "this us my first function\n"
     ]
    },
    {
     "data": {
      "text/plain": [
       "NoneType"
      ]
     },
     "execution_count": 9,
     "metadata": {},
     "output_type": "execute_result"
    }
   ],
   "source": [
    "type(test1())"
   ]
  },
  {
   "cell_type": "code",
   "execution_count": 10,
   "id": "db5c8b1a",
   "metadata": {},
   "outputs": [
    {
     "name": "stdout",
     "output_type": "stream",
     "text": [
      "this us my first function\n"
     ]
    }
   ],
   "source": [
    "a = test1()"
   ]
  },
  {
   "cell_type": "code",
   "execution_count": 11,
   "id": "d1e6cefc",
   "metadata": {},
   "outputs": [
    {
     "data": {
      "text/plain": [
       "'None'"
      ]
     },
     "execution_count": 11,
     "metadata": {},
     "output_type": "execute_result"
    }
   ],
   "source": [
    "str(a)"
   ]
  },
  {
   "cell_type": "code",
   "execution_count": 12,
   "id": "e2247f0b",
   "metadata": {},
   "outputs": [],
   "source": [
    "def test2():\n",
    "    return \"this is my first func\""
   ]
  },
  {
   "cell_type": "code",
   "execution_count": 13,
   "id": "86cdc560",
   "metadata": {},
   "outputs": [
    {
     "data": {
      "text/plain": [
       "str"
      ]
     },
     "execution_count": 13,
     "metadata": {},
     "output_type": "execute_result"
    }
   ],
   "source": [
    "type(test2())"
   ]
  },
  {
   "cell_type": "code",
   "execution_count": 14,
   "id": "fd8d6dde",
   "metadata": {},
   "outputs": [
    {
     "data": {
      "text/plain": [
       "'this is my first funcsudh'"
      ]
     },
     "execution_count": 14,
     "metadata": {},
     "output_type": "execute_result"
    }
   ],
   "source": [
    "test2() + \"sudh\""
   ]
  },
  {
   "cell_type": "code",
   "execution_count": 15,
   "id": "c7d20b03",
   "metadata": {},
   "outputs": [],
   "source": [
    "def test3():\n",
    "    return 8473894"
   ]
  },
  {
   "cell_type": "code",
   "execution_count": 16,
   "id": "fe6d8c9b",
   "metadata": {},
   "outputs": [
    {
     "data": {
      "text/plain": [
       "8473894"
      ]
     },
     "execution_count": 16,
     "metadata": {},
     "output_type": "execute_result"
    }
   ],
   "source": [
    "test3()"
   ]
  },
  {
   "cell_type": "code",
   "execution_count": 17,
   "id": "5dd464c3",
   "metadata": {},
   "outputs": [],
   "source": [
    "def test4():\n",
    "    return 4,3,\"sudh\", [1,2,3,4,5]"
   ]
  },
  {
   "cell_type": "code",
   "execution_count": 18,
   "id": "fcc9f2da",
   "metadata": {},
   "outputs": [
    {
     "data": {
      "text/plain": [
       "(4, 3, 'sudh', [1, 2, 3, 4, 5])"
      ]
     },
     "execution_count": 18,
     "metadata": {},
     "output_type": "execute_result"
    }
   ],
   "source": [
    "test4()"
   ]
  },
  {
   "cell_type": "code",
   "execution_count": 19,
   "id": "bb781832",
   "metadata": {},
   "outputs": [
    {
     "data": {
      "text/plain": [
       "tuple"
      ]
     },
     "execution_count": 19,
     "metadata": {},
     "output_type": "execute_result"
    }
   ],
   "source": [
    "type(test4())"
   ]
  },
  {
   "cell_type": "code",
   "execution_count": 20,
   "id": "9cc16e3b",
   "metadata": {},
   "outputs": [],
   "source": [
    "b = test4()"
   ]
  },
  {
   "cell_type": "code",
   "execution_count": 21,
   "id": "9e07e7c5",
   "metadata": {},
   "outputs": [
    {
     "data": {
      "text/plain": [
       "(4, 3, 'sudh', [1, 2, 3, 4, 5])"
      ]
     },
     "execution_count": 21,
     "metadata": {},
     "output_type": "execute_result"
    }
   ],
   "source": [
    "b"
   ]
  },
  {
   "cell_type": "code",
   "execution_count": 22,
   "id": "b7c00200",
   "metadata": {},
   "outputs": [
    {
     "data": {
      "text/plain": [
       "3"
      ]
     },
     "execution_count": 22,
     "metadata": {},
     "output_type": "execute_result"
    }
   ],
   "source": [
    "b[1]"
   ]
  },
  {
   "cell_type": "code",
   "execution_count": 23,
   "id": "2811e135",
   "metadata": {},
   "outputs": [
    {
     "data": {
      "text/plain": [
       "[1, 2, 3, 4, 5]"
      ]
     },
     "execution_count": 23,
     "metadata": {},
     "output_type": "execute_result"
    }
   ],
   "source": [
    "b[3]"
   ]
  },
  {
   "cell_type": "code",
   "execution_count": 24,
   "id": "e3422c9f",
   "metadata": {},
   "outputs": [],
   "source": [
    "def test4():\n",
    "    return 4,3,\"sudh\", [1,2,3,4,5]"
   ]
  },
  {
   "cell_type": "code",
   "execution_count": 25,
   "id": "4d79793d",
   "metadata": {},
   "outputs": [],
   "source": [
    "a = 2\n",
    "b = 5\n",
    "c = \"sudh\"\n",
    "d = [1,2,3,4]"
   ]
  },
  {
   "cell_type": "code",
   "execution_count": 32,
   "id": "376d7b7a",
   "metadata": {},
   "outputs": [],
   "source": [
    "x,y,u,v = test4()"
   ]
  },
  {
   "cell_type": "code",
   "execution_count": 33,
   "id": "4b4b713a",
   "metadata": {},
   "outputs": [
    {
     "data": {
      "text/plain": [
       "4"
      ]
     },
     "execution_count": 33,
     "metadata": {},
     "output_type": "execute_result"
    }
   ],
   "source": [
    "x"
   ]
  },
  {
   "cell_type": "code",
   "execution_count": 34,
   "id": "0adf9476",
   "metadata": {},
   "outputs": [
    {
     "data": {
      "text/plain": [
       "3"
      ]
     },
     "execution_count": 34,
     "metadata": {},
     "output_type": "execute_result"
    }
   ],
   "source": [
    "y"
   ]
  },
  {
   "cell_type": "code",
   "execution_count": 35,
   "id": "9146f9c0",
   "metadata": {},
   "outputs": [
    {
     "data": {
      "text/plain": [
       "'sudh'"
      ]
     },
     "execution_count": 35,
     "metadata": {},
     "output_type": "execute_result"
    }
   ],
   "source": [
    "u"
   ]
  },
  {
   "cell_type": "code",
   "execution_count": 36,
   "id": "44262b82",
   "metadata": {},
   "outputs": [
    {
     "data": {
      "text/plain": [
       "[1, 2, 3, 4, 5]"
      ]
     },
     "execution_count": 36,
     "metadata": {},
     "output_type": "execute_result"
    }
   ],
   "source": [
    "v"
   ]
  },
  {
   "cell_type": "code",
   "execution_count": 37,
   "id": "c3246aaf",
   "metadata": {},
   "outputs": [],
   "source": [
    "def test5():\n",
    "    a = 6*7/6\n",
    "    return a"
   ]
  },
  {
   "cell_type": "code",
   "execution_count": 38,
   "id": "997e7520",
   "metadata": {},
   "outputs": [
    {
     "data": {
      "text/plain": [
       "7.0"
      ]
     },
     "execution_count": 38,
     "metadata": {},
     "output_type": "execute_result"
    }
   ],
   "source": [
    "test5()"
   ]
  },
  {
   "cell_type": "code",
   "execution_count": 41,
   "id": "6324a49a",
   "metadata": {},
   "outputs": [],
   "source": [
    "l = [3,4,5,6,7,8,\"sudh\",[1,3,4,5]]"
   ]
  },
  {
   "cell_type": "code",
   "execution_count": 44,
   "id": "844028c5",
   "metadata": {},
   "outputs": [],
   "source": [
    "def test6(a):\n",
    "    l1 = []\n",
    "    if type(a) == list:\n",
    "        for i in a:\n",
    "            if type(i) == int:\n",
    "                l1.append(i)\n",
    "    return l1                       #we cant write print because it will return us a nonetype intead of list\n",
    "        \n",
    "        "
   ]
  },
  {
   "cell_type": "code",
   "execution_count": 48,
   "id": "48cee841",
   "metadata": {},
   "outputs": [
    {
     "data": {
      "text/plain": [
       "[3, 4, 5, 6, 7, 8]"
      ]
     },
     "execution_count": 48,
     "metadata": {},
     "output_type": "execute_result"
    }
   ],
   "source": [
    "test6(l)"
   ]
  },
  {
   "cell_type": "code",
   "execution_count": 49,
   "id": "d48c650a",
   "metadata": {},
   "outputs": [
    {
     "data": {
      "text/plain": [
       "list"
      ]
     },
     "execution_count": 49,
     "metadata": {},
     "output_type": "execute_result"
    }
   ],
   "source": [
    "type(test6(l))"
   ]
  },
  {
   "cell_type": "code",
   "execution_count": 50,
   "id": "7ca0d8a2",
   "metadata": {},
   "outputs": [
    {
     "data": {
      "text/plain": [
       "[432, 432, 3, 3225]"
      ]
     },
     "execution_count": 50,
     "metadata": {},
     "output_type": "execute_result"
    }
   ],
   "source": [
    " test6([432,432,3,3225,\",fjgld\",(42,44,\"jsf\")])"
   ]
  },
  {
   "cell_type": "code",
   "execution_count": 51,
   "id": "f2bb5250",
   "metadata": {},
   "outputs": [],
   "source": [
    "def test8(c):\n",
    "    if type(c) == dict:\n",
    "        return c.keys()\n",
    "    else:\n",
    "        return \"you have not passed a dic\""
   ]
  },
  {
   "cell_type": "code",
   "execution_count": 52,
   "id": "1358ce0b",
   "metadata": {},
   "outputs": [
    {
     "data": {
      "text/plain": [
       "'you have not passed a dic'"
      ]
     },
     "execution_count": 52,
     "metadata": {},
     "output_type": "execute_result"
    }
   ],
   "source": [
    "test8(\"fhghjdsshbds\")"
   ]
  },
  {
   "cell_type": "code",
   "execution_count": 54,
   "id": "5df9a026",
   "metadata": {},
   "outputs": [
    {
     "data": {
      "text/plain": [
       "dict_keys(['a', 'b'])"
      ]
     },
     "execution_count": 54,
     "metadata": {},
     "output_type": "execute_result"
    }
   ],
   "source": [
    "test8({\"a\": \"fkjvkjfvs\", \"b\": 4388})"
   ]
  },
  {
   "cell_type": "code",
   "execution_count": 55,
   "id": "38f44c05",
   "metadata": {},
   "outputs": [],
   "source": [
    "#Multiple input"
   ]
  },
  {
   "cell_type": "code",
   "execution_count": 65,
   "id": "ca998a8f",
   "metadata": {},
   "outputs": [],
   "source": [
    "def test9(a,b):\n",
    "    if type(a) == list and type(b) == list:\n",
    "        return a.extend(b)\n",
    "    else:\n",
    "        return \"Either of your data is not a list\""
   ]
  },
  {
   "cell_type": "code",
   "execution_count": 71,
   "id": "9de971af",
   "metadata": {},
   "outputs": [],
   "source": [
    "a = [1,2,3,4]  #Global variable:Its access will be out of this notebook\n",
    "               #Local variable: Access only inside the function\n",
    "b = [6,7,8,9]"
   ]
  },
  {
   "cell_type": "code",
   "execution_count": 72,
   "id": "db490cc9",
   "metadata": {},
   "outputs": [],
   "source": [
    "n = test9(a,b)"
   ]
  },
  {
   "cell_type": "code",
   "execution_count": 73,
   "id": "e61b8646",
   "metadata": {},
   "outputs": [],
   "source": [
    "n"
   ]
  },
  {
   "cell_type": "code",
   "execution_count": 74,
   "id": "34d355dc",
   "metadata": {},
   "outputs": [],
   "source": [
    "#No output "
   ]
  },
  {
   "cell_type": "code",
   "execution_count": 75,
   "id": "22fbdf52",
   "metadata": {},
   "outputs": [
    {
     "data": {
      "text/plain": [
       "[1, 2, 3, 4, 6, 7, 8, 9]"
      ]
     },
     "execution_count": 75,
     "metadata": {},
     "output_type": "execute_result"
    }
   ],
   "source": [
    "a   #But here the list has been extended"
   ]
  },
  {
   "cell_type": "code",
   "execution_count": 76,
   "id": "ad590b72",
   "metadata": {},
   "outputs": [
    {
     "name": "stdout",
     "output_type": "stream",
     "text": [
      "*\r\n",
      "**\r\n",
      "***\r\n",
      "****\r\n",
      "*****\r\n"
     ]
    }
   ],
   "source": [
    "n = 5\n",
    "for i in range(0,n):              #[0,1,2,3,4]  #Create rows\n",
    "    for j in range(0,i+1):        #[0],[0,1],[0,1,2], [0,1,2,3], [0,1,2,3,4]        #Build rows\n",
    "        print(\"*\", end= \"\")       #end: string appended after the last value, default a newline.\n",
    "    print(\"\\r\")"
   ]
  },
  {
   "cell_type": "code",
   "execution_count": 85,
   "id": "ce58f6a8",
   "metadata": {},
   "outputs": [],
   "source": [
    "def triangles(n):\n",
    "    \"\"\"sljfhkjlsfgjshfl       #Hint/help for others in the form of docstring\n",
    "    kjdfkjadhfadljfjladf\n",
    "    adkfbkadjhfas\"\"\"\n",
    "    for i in range(0,n):\n",
    "        for j in range(0,i+1):\n",
    "            print(\"*\", end = \" \")\n",
    "        print(\"\\r\")           "
   ]
  },
  {
   "cell_type": "code",
   "execution_count": 89,
   "id": "26edf102",
   "metadata": {},
   "outputs": [
    {
     "name": "stdout",
     "output_type": "stream",
     "text": [
      "* \r\n",
      "* * \r\n",
      "* * * \r\n",
      "* * * * \r\n",
      "* * * * * \r\n",
      "* * * * * * \r\n"
     ]
    }
   ],
   "source": [
    "triangles(6)"
   ]
  },
  {
   "cell_type": "code",
   "execution_count": 91,
   "id": "7fd6f11f",
   "metadata": {},
   "outputs": [
    {
     "name": "stdout",
     "output_type": "stream",
     "text": [
      "Help on function triangles in module __main__:\n",
      "\n",
      "triangles(n)\n",
      "    sljfhkjlsfgjshfl       #Hint/help for others in the form of docstring\n",
      "    kjdfkjadhfadljfjladf\n",
      "    adkfbkadjhfas\n",
      "\n"
     ]
    }
   ],
   "source": [
    "help(triangles)   #help is a in-built func which will give us a doc string "
   ]
  },
  {
   "cell_type": "code",
   "execution_count": 92,
   "id": "bf10145d",
   "metadata": {},
   "outputs": [],
   "source": [
    "#dkshfghkf sdskghfouwuhjLDVN   (One line comment)"
   ]
  },
  {
   "cell_type": "code",
   "execution_count": 94,
   "id": "1eabaea0",
   "metadata": {},
   "outputs": [
    {
     "data": {
      "text/plain": [
       "'KFHGFSH                  (Multi line comment)\\nSKJSVDSVBSN\\nVNKJVJFSV'"
      ]
     },
     "execution_count": 94,
     "metadata": {},
     "output_type": "execute_result"
    }
   ],
   "source": [
    "\"\"\"KFHGFSH                  (Multi line comment)\n",
    "SKJSVDSVBSN\n",
    "VNKJVJFSV\"\"\""
   ]
  },
  {
   "cell_type": "code",
   "execution_count": 95,
   "id": "ec51da8a",
   "metadata": {},
   "outputs": [
    {
     "ename": "SyntaxError",
     "evalue": "EOF while scanning triple-quoted string literal (<ipython-input-95-64ed8fdc3dfc>, line 9)",
     "output_type": "error",
     "traceback": [
      "\u001b[1;36m  File \u001b[1;32m\"<ipython-input-95-64ed8fdc3dfc>\"\u001b[1;36m, line \u001b[1;32m9\u001b[0m\n\u001b[1;33m    8\u001b[0m\n\u001b[1;37m      \n^\u001b[0m\n\u001b[1;31mSyntaxError\u001b[0m\u001b[1;31m:\u001b[0m EOF while scanning triple-quoted string literal\n"
     ]
    }
   ],
   "source": [
    "\"\"\"#1You have to write a fun which will take string and return\n",
    "a len of it without using an inbuilt fun len.\n",
    "2. Write a func which will be able to print an index of all primitive element which will pass \n",
    "3. Write a fun which will take input as a dict and give me out as a list of all values\n",
    "even in case of level nesting it should work.\n",
    "4. Write a function which will take list as a input and give me concatenation of all element as and output.\n",
    "5. Write a func which will take list as a input and give me concatenation of all the element \n",
    "\n",
    "8 "
   ]
  },
  {
   "cell_type": "code",
   "execution_count": null,
   "id": "ec92373c",
   "metadata": {},
   "outputs": [],
   "source": [
    "\"\"\"\n",
    "\n",
    "\"\"\""
   ]
  }
 ],
 "metadata": {
  "kernelspec": {
   "display_name": "Python 3",
   "language": "python",
   "name": "python3"
  },
  "language_info": {
   "codemirror_mode": {
    "name": "ipython",
    "version": 3
   },
   "file_extension": ".py",
   "mimetype": "text/x-python",
   "name": "python",
   "nbconvert_exporter": "python",
   "pygments_lexer": "ipython3",
   "version": "3.8.8"
  }
 },
 "nbformat": 4,
 "nbformat_minor": 5
}
