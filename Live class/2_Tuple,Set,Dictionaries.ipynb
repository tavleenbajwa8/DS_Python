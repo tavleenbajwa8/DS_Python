{
 "cells": [
  {
   "cell_type": "code",
   "execution_count": 1,
   "id": "472ebfce",
   "metadata": {},
   "outputs": [],
   "source": [
    "#Tuple: Like a list "
   ]
  },
  {
   "cell_type": "code",
   "execution_count": 2,
   "id": "39dd9832",
   "metadata": {},
   "outputs": [],
   "source": [
    "t = (1,2,3,4)"
   ]
  },
  {
   "cell_type": "code",
   "execution_count": 3,
   "id": "f90930ac",
   "metadata": {},
   "outputs": [
    {
     "data": {
      "text/plain": [
       "tuple"
      ]
     },
     "execution_count": 3,
     "metadata": {},
     "output_type": "execute_result"
    }
   ],
   "source": [
    "type(t)"
   ]
  },
  {
   "cell_type": "code",
   "execution_count": 4,
   "id": "e66a9fac",
   "metadata": {},
   "outputs": [],
   "source": [
    "t1 = (\"sudh\", 345, 45+6j, 546.56, True)"
   ]
  },
  {
   "cell_type": "code",
   "execution_count": 5,
   "id": "6aeb1318",
   "metadata": {},
   "outputs": [],
   "source": [
    "l1 = [\"sudh\", 345, 45+6j, 546.56, True]"
   ]
  },
  {
   "cell_type": "code",
   "execution_count": 6,
   "id": "4ebd0e5e",
   "metadata": {},
   "outputs": [
    {
     "data": {
      "text/plain": [
       "tuple"
      ]
     },
     "execution_count": 6,
     "metadata": {},
     "output_type": "execute_result"
    }
   ],
   "source": [
    "type(t1)"
   ]
  },
  {
   "cell_type": "code",
   "execution_count": 7,
   "id": "4bdf2b80",
   "metadata": {},
   "outputs": [
    {
     "data": {
      "text/plain": [
       "list"
      ]
     },
     "execution_count": 7,
     "metadata": {},
     "output_type": "execute_result"
    }
   ],
   "source": [
    "type(l1)"
   ]
  },
  {
   "cell_type": "code",
   "execution_count": 8,
   "id": "5ab53174",
   "metadata": {},
   "outputs": [],
   "source": [
    "#1st difference between Tuple and list is brackets"
   ]
  },
  {
   "cell_type": "code",
   "execution_count": 9,
   "id": "530ff3ee",
   "metadata": {},
   "outputs": [],
   "source": [
    "#Properties of Tuple"
   ]
  },
  {
   "cell_type": "code",
   "execution_count": 10,
   "id": "fd445ef3",
   "metadata": {},
   "outputs": [],
   "source": [
    "t2 = ()"
   ]
  },
  {
   "cell_type": "code",
   "execution_count": 11,
   "id": "197954f1",
   "metadata": {},
   "outputs": [
    {
     "data": {
      "text/plain": [
       "tuple"
      ]
     },
     "execution_count": 11,
     "metadata": {},
     "output_type": "execute_result"
    }
   ],
   "source": [
    "type(t2)"
   ]
  },
  {
   "cell_type": "code",
   "execution_count": 13,
   "id": "860e6fbf",
   "metadata": {},
   "outputs": [
    {
     "data": {
      "text/plain": [
       "('sudh', 345, (45+6j), 546.56)"
      ]
     },
     "execution_count": 13,
     "metadata": {},
     "output_type": "execute_result"
    }
   ],
   "source": [
    "t1"
   ]
  },
  {
   "cell_type": "code",
   "execution_count": 15,
   "id": "a058a785",
   "metadata": {},
   "outputs": [
    {
     "data": {
      "text/plain": [
       "['sudh', 345]"
      ]
     },
     "execution_count": 15,
     "metadata": {},
     "output_type": "execute_result"
    }
   ],
   "source": [
    "l1[0:2]"
   ]
  },
  {
   "cell_type": "code",
   "execution_count": 16,
   "id": "6925be26",
   "metadata": {},
   "outputs": [
    {
     "data": {
      "text/plain": [
       "('sudh', 345)"
      ]
     },
     "execution_count": 16,
     "metadata": {},
     "output_type": "execute_result"
    }
   ],
   "source": [
    "t1[0:2]"
   ]
  },
  {
   "cell_type": "code",
   "execution_count": 20,
   "id": "4fa027e3",
   "metadata": {},
   "outputs": [],
   "source": [
    "#Slicing will remain same using square brackets like list"
   ]
  },
  {
   "cell_type": "code",
   "execution_count": 21,
   "id": "20d7676c",
   "metadata": {},
   "outputs": [],
   "source": [
    "#Reverse order"
   ]
  },
  {
   "cell_type": "code",
   "execution_count": 22,
   "id": "0497430d",
   "metadata": {},
   "outputs": [
    {
     "data": {
      "text/plain": [
       "(546.56, (45+6j), 345, 'sudh')"
      ]
     },
     "execution_count": 22,
     "metadata": {},
     "output_type": "execute_result"
    }
   ],
   "source": [
    "t1[::-1]"
   ]
  },
  {
   "cell_type": "code",
   "execution_count": 23,
   "id": "bf7544d4",
   "metadata": {},
   "outputs": [],
   "source": [
    "#Last element"
   ]
  },
  {
   "cell_type": "code",
   "execution_count": 24,
   "id": "6a49c90d",
   "metadata": {},
   "outputs": [
    {
     "data": {
      "text/plain": [
       "546.56"
      ]
     },
     "execution_count": 24,
     "metadata": {},
     "output_type": "execute_result"
    }
   ],
   "source": [
    "t1[-1]"
   ]
  },
  {
   "cell_type": "code",
   "execution_count": 25,
   "id": "8976aacd",
   "metadata": {},
   "outputs": [
    {
     "data": {
      "text/plain": [
       "('sudh', (45+6j))"
      ]
     },
     "execution_count": 25,
     "metadata": {},
     "output_type": "execute_result"
    }
   ],
   "source": [
    "t1[0::2]"
   ]
  },
  {
   "cell_type": "code",
   "execution_count": 26,
   "id": "d6c64099",
   "metadata": {},
   "outputs": [
    {
     "data": {
      "text/plain": [
       "('sudh', 345, (45+6j), 546.56)"
      ]
     },
     "execution_count": 26,
     "metadata": {},
     "output_type": "execute_result"
    }
   ],
   "source": [
    "t1"
   ]
  },
  {
   "cell_type": "code",
   "execution_count": 27,
   "id": "d71487b6",
   "metadata": {},
   "outputs": [
    {
     "data": {
      "text/plain": [
       "['sudh', 345, (45+6j), 546.56, True]"
      ]
     },
     "execution_count": 27,
     "metadata": {},
     "output_type": "execute_result"
    }
   ],
   "source": [
    "l1"
   ]
  },
  {
   "cell_type": "code",
   "execution_count": 29,
   "id": "560de153",
   "metadata": {},
   "outputs": [],
   "source": [
    "l2 = [2,3,4,5]"
   ]
  },
  {
   "cell_type": "code",
   "execution_count": 33,
   "id": "dd6831ce",
   "metadata": {},
   "outputs": [],
   "source": [
    "#Item reassignment operation in a particular index in a list"
   ]
  },
  {
   "cell_type": "code",
   "execution_count": 34,
   "id": "937d4003",
   "metadata": {},
   "outputs": [],
   "source": [
    "l1[0] = \"kumar\""
   ]
  },
  {
   "cell_type": "code",
   "execution_count": 35,
   "id": "315bbc2f",
   "metadata": {},
   "outputs": [
    {
     "data": {
      "text/plain": [
       "['kumar', 345, (45+6j), 546.56, True]"
      ]
     },
     "execution_count": 35,
     "metadata": {},
     "output_type": "execute_result"
    }
   ],
   "source": [
    "l1"
   ]
  },
  {
   "cell_type": "code",
   "execution_count": 36,
   "id": "45ffc26b",
   "metadata": {},
   "outputs": [
    {
     "data": {
      "text/plain": [
       "('sudh', 345, (45+6j), 546.56)"
      ]
     },
     "execution_count": 36,
     "metadata": {},
     "output_type": "execute_result"
    }
   ],
   "source": [
    "t1"
   ]
  },
  {
   "cell_type": "code",
   "execution_count": 40,
   "id": "8f5e49d3",
   "metadata": {},
   "outputs": [
    {
     "ename": "TypeError",
     "evalue": "'tuple' object does not support item assignment",
     "output_type": "error",
     "traceback": [
      "\u001b[1;31m---------------------------------------------------------------------------\u001b[0m",
      "\u001b[1;31mTypeError\u001b[0m                                 Traceback (most recent call last)",
      "\u001b[1;32m<ipython-input-40-5bd21952e310>\u001b[0m in \u001b[0;36m<module>\u001b[1;34m\u001b[0m\n\u001b[1;32m----> 1\u001b[1;33m \u001b[0mt1\u001b[0m\u001b[1;33m[\u001b[0m\u001b[1;36m0\u001b[0m\u001b[1;33m]\u001b[0m \u001b[1;33m=\u001b[0m \u001b[1;34m\"xyz\"\u001b[0m\u001b[1;33m\u001b[0m\u001b[1;33m\u001b[0m\u001b[0m\n\u001b[0m",
      "\u001b[1;31mTypeError\u001b[0m: 'tuple' object does not support item assignment"
     ]
    }
   ],
   "source": [
    "t1[0] = \"xyz\""
   ]
  },
  {
   "cell_type": "code",
   "execution_count": 39,
   "id": "1d71f605",
   "metadata": {},
   "outputs": [
    {
     "data": {
      "text/plain": [
       "('sudh', 345, (45+6j), 546.56)"
      ]
     },
     "execution_count": 39,
     "metadata": {},
     "output_type": "execute_result"
    }
   ],
   "source": [
    "t1"
   ]
  },
  {
   "cell_type": "code",
   "execution_count": 44,
   "id": "387c2108",
   "metadata": {},
   "outputs": [],
   "source": [
    "#'tuple' object does not support item assignment. Tuples are immutable just like strings. "
   ]
  },
  {
   "cell_type": "code",
   "execution_count": 45,
   "id": "1526874e",
   "metadata": {},
   "outputs": [],
   "source": [
    "s = \"sudh\""
   ]
  },
  {
   "cell_type": "code",
   "execution_count": 46,
   "id": "aa541e38",
   "metadata": {},
   "outputs": [
    {
     "ename": "TypeError",
     "evalue": "'str' object does not support item assignment",
     "output_type": "error",
     "traceback": [
      "\u001b[1;31m---------------------------------------------------------------------------\u001b[0m",
      "\u001b[1;31mTypeError\u001b[0m                                 Traceback (most recent call last)",
      "\u001b[1;32m<ipython-input-46-4911d8b25eb9>\u001b[0m in \u001b[0;36m<module>\u001b[1;34m\u001b[0m\n\u001b[1;32m----> 1\u001b[1;33m \u001b[0ms\u001b[0m\u001b[1;33m[\u001b[0m\u001b[1;36m0\u001b[0m\u001b[1;33m]\u001b[0m \u001b[1;33m=\u001b[0m \u001b[1;36m45\u001b[0m\u001b[1;33m\u001b[0m\u001b[1;33m\u001b[0m\u001b[0m\n\u001b[0m",
      "\u001b[1;31mTypeError\u001b[0m: 'str' object does not support item assignment"
     ]
    }
   ],
   "source": [
    "s[0] = 45"
   ]
  },
  {
   "cell_type": "code",
   "execution_count": 47,
   "id": "ca6c9948",
   "metadata": {},
   "outputs": [
    {
     "data": {
      "text/plain": [
       "('sudh', 345, (45+6j), 546.56)"
      ]
     },
     "execution_count": 47,
     "metadata": {},
     "output_type": "execute_result"
    }
   ],
   "source": [
    "t1 "
   ]
  },
  {
   "cell_type": "code",
   "execution_count": 50,
   "id": "e033b1dd",
   "metadata": {},
   "outputs": [],
   "source": [
    "t2 = (23,4,5,5,6,90)"
   ]
  },
  {
   "cell_type": "code",
   "execution_count": 51,
   "id": "51442653",
   "metadata": {},
   "outputs": [
    {
     "data": {
      "text/plain": [
       "(23, 4, 5, 5, 6, 90)"
      ]
     },
     "execution_count": 51,
     "metadata": {},
     "output_type": "execute_result"
    }
   ],
   "source": [
    "t2"
   ]
  },
  {
   "cell_type": "code",
   "execution_count": 53,
   "id": "b324c4cf",
   "metadata": {},
   "outputs": [],
   "source": [
    "#Append operation in Tuples and list is possible."
   ]
  },
  {
   "cell_type": "code",
   "execution_count": 54,
   "id": "d7baf1ac",
   "metadata": {},
   "outputs": [
    {
     "data": {
      "text/plain": [
       "('sudh', 345, (45+6j), 546.56, 23, 4, 5, 5, 6, 90)"
      ]
     },
     "execution_count": 54,
     "metadata": {},
     "output_type": "execute_result"
    }
   ],
   "source": [
    "t1+t2"
   ]
  },
  {
   "cell_type": "code",
   "execution_count": 55,
   "id": "b472e386",
   "metadata": {},
   "outputs": [
    {
     "data": {
      "text/plain": [
       "['kumar', 345, (45+6j), 546.56, True]"
      ]
     },
     "execution_count": 55,
     "metadata": {},
     "output_type": "execute_result"
    }
   ],
   "source": [
    "l1"
   ]
  },
  {
   "cell_type": "code",
   "execution_count": 57,
   "id": "28bc5285",
   "metadata": {},
   "outputs": [
    {
     "data": {
      "text/plain": [
       "[2, 3, 4, 5, 'kumar', 345, (45+6j), 546.56, True]"
      ]
     },
     "execution_count": 57,
     "metadata": {},
     "output_type": "execute_result"
    }
   ],
   "source": [
    "l2+l1"
   ]
  },
  {
   "cell_type": "code",
   "execution_count": 61,
   "id": "79424320",
   "metadata": {},
   "outputs": [],
   "source": [
    "#Multiplication is possible in tuples"
   ]
  },
  {
   "cell_type": "code",
   "execution_count": 62,
   "id": "267065b9",
   "metadata": {},
   "outputs": [
    {
     "data": {
      "text/plain": [
       "('sudh', 345, (45+6j), 546.56)"
      ]
     },
     "execution_count": 62,
     "metadata": {},
     "output_type": "execute_result"
    }
   ],
   "source": [
    "t1"
   ]
  },
  {
   "cell_type": "code",
   "execution_count": 63,
   "id": "c75314ad",
   "metadata": {},
   "outputs": [
    {
     "data": {
      "text/plain": [
       "('sudh', 345, (45+6j), 546.56, 'sudh', 345, (45+6j), 546.56)"
      ]
     },
     "execution_count": 63,
     "metadata": {},
     "output_type": "execute_result"
    }
   ],
   "source": [
    "t1*2"
   ]
  },
  {
   "cell_type": "code",
   "execution_count": 64,
   "id": "5688035c",
   "metadata": {},
   "outputs": [],
   "source": [
    "#Functions related to tuple are less compared to list(t2.(then press tab): It will show only count and index)"
   ]
  },
  {
   "cell_type": "code",
   "execution_count": 65,
   "id": "62f7d0c6",
   "metadata": {},
   "outputs": [
    {
     "data": {
      "text/plain": [
       "1"
      ]
     },
     "execution_count": 65,
     "metadata": {},
     "output_type": "execute_result"
    }
   ],
   "source": [
    "t1.count(\"sudh\")"
   ]
  },
  {
   "cell_type": "code",
   "execution_count": 67,
   "id": "c17aacff",
   "metadata": {},
   "outputs": [
    {
     "data": {
      "text/plain": [
       "0"
      ]
     },
     "execution_count": 67,
     "metadata": {},
     "output_type": "execute_result"
    }
   ],
   "source": [
    "t1.index(\"sudh\") #Gives 1st occurence of an element"
   ]
  },
  {
   "cell_type": "code",
   "execution_count": 68,
   "id": "0ee096ca",
   "metadata": {},
   "outputs": [],
   "source": [
    "#Why do we need tuple? : Data security (eg: passwords: so no one can change it)\n",
    "#Here we have fixed size of a collection\n",
    "#Otherwise we can perform same operation with list "
   ]
  },
  {
   "cell_type": "code",
   "execution_count": 72,
   "id": "413a4063",
   "metadata": {},
   "outputs": [],
   "source": [
    "#Nested tuple"
   ]
  },
  {
   "cell_type": "code",
   "execution_count": 73,
   "id": "1f1f905a",
   "metadata": {},
   "outputs": [],
   "source": [
    "t = (45,4,5,7,(5,6,7), (\"sudh\"))"
   ]
  },
  {
   "cell_type": "code",
   "execution_count": 74,
   "id": "0da4e215",
   "metadata": {},
   "outputs": [
    {
     "data": {
      "text/plain": [
       "(45, 4, 5, 7, (5, 6, 7), 'sudh')"
      ]
     },
     "execution_count": 74,
     "metadata": {},
     "output_type": "execute_result"
    }
   ],
   "source": [
    "t"
   ]
  },
  {
   "cell_type": "code",
   "execution_count": 75,
   "id": "903f887c",
   "metadata": {},
   "outputs": [],
   "source": [
    "#List inside a tuple is possible"
   ]
  },
  {
   "cell_type": "code",
   "execution_count": 77,
   "id": "28dbe899",
   "metadata": {},
   "outputs": [],
   "source": [
    "t1 = ([3,4,546], (\"zkjesfh\", 435,56), \"fjh\")"
   ]
  },
  {
   "cell_type": "code",
   "execution_count": 78,
   "id": "be0b80ed",
   "metadata": {},
   "outputs": [],
   "source": [
    "#Can we change a list inside tuple?: Its is possible"
   ]
  },
  {
   "cell_type": "code",
   "execution_count": 79,
   "id": "824b0b51",
   "metadata": {},
   "outputs": [],
   "source": [
    "t1[0][2] = \"sudh\""
   ]
  },
  {
   "cell_type": "code",
   "execution_count": 80,
   "id": "75c37ee1",
   "metadata": {},
   "outputs": [
    {
     "data": {
      "text/plain": [
       "([3, 4, 'sudh'], ('zkjesfh', 435, 56), 'fjh')"
      ]
     },
     "execution_count": 80,
     "metadata": {},
     "output_type": "execute_result"
    }
   ],
   "source": [
    "t1"
   ]
  },
  {
   "cell_type": "code",
   "execution_count": 81,
   "id": "0d2d9450",
   "metadata": {},
   "outputs": [],
   "source": [
    "#We cant make changes at a particular index, like the list is present at tuple's 0th index\n",
    "#We cant change the whole list but we can make make changes in element that supports mutability."
   ]
  },
  {
   "cell_type": "code",
   "execution_count": 82,
   "id": "7b4e8cff",
   "metadata": {},
   "outputs": [
    {
     "ename": "TypeError",
     "evalue": "'tuple' object does not support item assignment",
     "output_type": "error",
     "traceback": [
      "\u001b[1;31m---------------------------------------------------------------------------\u001b[0m",
      "\u001b[1;31mTypeError\u001b[0m                                 Traceback (most recent call last)",
      "\u001b[1;32m<ipython-input-82-2c32ed8d1090>\u001b[0m in \u001b[0;36m<module>\u001b[1;34m\u001b[0m\n\u001b[1;32m----> 1\u001b[1;33m \u001b[0mt1\u001b[0m\u001b[1;33m[\u001b[0m\u001b[1;36m0\u001b[0m\u001b[1;33m]\u001b[0m\u001b[1;33m=\u001b[0m \u001b[1;34m\"aGFhjf\"\u001b[0m\u001b[1;33m\u001b[0m\u001b[1;33m\u001b[0m\u001b[0m\n\u001b[0m",
      "\u001b[1;31mTypeError\u001b[0m: 'tuple' object does not support item assignment"
     ]
    }
   ],
   "source": [
    "t1[0]= \"aGFhjf\""
   ]
  },
  {
   "cell_type": "code",
   "execution_count": 83,
   "id": "c7f16a1d",
   "metadata": {},
   "outputs": [],
   "source": [
    "#List can hold tuples also and tuples can hold list"
   ]
  },
  {
   "cell_type": "code",
   "execution_count": 84,
   "id": "e47af8b2",
   "metadata": {},
   "outputs": [],
   "source": [
    "t1 = (44,5,6,7,8)"
   ]
  },
  {
   "cell_type": "code",
   "execution_count": 86,
   "id": "c5f65359",
   "metadata": {},
   "outputs": [],
   "source": [
    "l = list(t1)"
   ]
  },
  {
   "cell_type": "code",
   "execution_count": 87,
   "id": "f7c2d1b5",
   "metadata": {},
   "outputs": [],
   "source": [
    "t1 = tuple(l)"
   ]
  },
  {
   "cell_type": "code",
   "execution_count": 88,
   "id": "21bd1fe3",
   "metadata": {},
   "outputs": [
    {
     "data": {
      "text/plain": [
       "(44, 5, 6, 7, 8)"
      ]
     },
     "execution_count": 88,
     "metadata": {},
     "output_type": "execute_result"
    }
   ],
   "source": [
    "t1"
   ]
  },
  {
   "cell_type": "code",
   "execution_count": 94,
   "id": "405a57fb",
   "metadata": {},
   "outputs": [],
   "source": [
    "#Sets: Collection that holds unique elements, Notation here is Curly braces"
   ]
  },
  {
   "cell_type": "code",
   "execution_count": 95,
   "id": "323f24da",
   "metadata": {},
   "outputs": [],
   "source": [
    "l = [1,3,4,5,6,7,8,8,8,8,8,6.4,5,5,5,8,8,8]"
   ]
  },
  {
   "cell_type": "code",
   "execution_count": 96,
   "id": "a0bac0d1",
   "metadata": {},
   "outputs": [],
   "source": [
    "#Remove duplicate element: Give unique element"
   ]
  },
  {
   "cell_type": "code",
   "execution_count": 97,
   "id": "9ee14223",
   "metadata": {},
   "outputs": [
    {
     "data": {
      "text/plain": [
       "{1, 3, 4, 5, 6, 6.4, 7, 8}"
      ]
     },
     "execution_count": 97,
     "metadata": {},
     "output_type": "execute_result"
    }
   ],
   "source": [
    "set(l)"
   ]
  },
  {
   "cell_type": "code",
   "execution_count": 98,
   "id": "2bad5763",
   "metadata": {},
   "outputs": [],
   "source": [
    "s = {} #Curly braces without any element is a dict"
   ]
  },
  {
   "cell_type": "code",
   "execution_count": 99,
   "id": "a73cce5e",
   "metadata": {},
   "outputs": [
    {
     "data": {
      "text/plain": [
       "dict"
      ]
     },
     "execution_count": 99,
     "metadata": {},
     "output_type": "execute_result"
    }
   ],
   "source": [
    "type(s)"
   ]
  },
  {
   "cell_type": "code",
   "execution_count": 100,
   "id": "db54d538",
   "metadata": {},
   "outputs": [],
   "source": [
    "s1 = {2,3,4} ##Curly braces with even 1 element is a set"
   ]
  },
  {
   "cell_type": "code",
   "execution_count": 101,
   "id": "b209a26c",
   "metadata": {},
   "outputs": [
    {
     "data": {
      "text/plain": [
       "set"
      ]
     },
     "execution_count": 101,
     "metadata": {},
     "output_type": "execute_result"
    }
   ],
   "source": [
    "type(s1)"
   ]
  },
  {
   "cell_type": "code",
   "execution_count": 102,
   "id": "89437bb1",
   "metadata": {},
   "outputs": [],
   "source": [
    "s2={1,1,1,1,1,2,3,3,4,4,5}"
   ]
  },
  {
   "cell_type": "code",
   "execution_count": 103,
   "id": "1d72e6e5",
   "metadata": {},
   "outputs": [
    {
     "data": {
      "text/plain": [
       "{1, 2, 3, 4, 5}"
      ]
     },
     "execution_count": 103,
     "metadata": {},
     "output_type": "execute_result"
    }
   ],
   "source": [
    "s2"
   ]
  },
  {
   "cell_type": "code",
   "execution_count": 106,
   "id": "eb31355c",
   "metadata": {},
   "outputs": [],
   "source": [
    "#Accesing elements from a set using slicing operation?: Not possible"
   ]
  },
  {
   "cell_type": "code",
   "execution_count": 107,
   "id": "d8ab6b07",
   "metadata": {},
   "outputs": [
    {
     "ename": "TypeError",
     "evalue": "'set' object is not subscriptable",
     "output_type": "error",
     "traceback": [
      "\u001b[1;31m---------------------------------------------------------------------------\u001b[0m",
      "\u001b[1;31mTypeError\u001b[0m                                 Traceback (most recent call last)",
      "\u001b[1;32m<ipython-input-107-ab7c8e26b0d3>\u001b[0m in \u001b[0;36m<module>\u001b[1;34m\u001b[0m\n\u001b[1;32m----> 1\u001b[1;33m \u001b[0ms2\u001b[0m\u001b[1;33m[\u001b[0m\u001b[1;36m0\u001b[0m\u001b[1;33m]\u001b[0m\u001b[1;33m\u001b[0m\u001b[1;33m\u001b[0m\u001b[0m\n\u001b[0m",
      "\u001b[1;31mTypeError\u001b[0m: 'set' object is not subscriptable"
     ]
    }
   ],
   "source": [
    "s2[0]"
   ]
  },
  {
   "cell_type": "code",
   "execution_count": 108,
   "id": "be8966c9",
   "metadata": {},
   "outputs": [],
   "source": [
    "#To access we first convert set into a list, will end up loosing property of a set"
   ]
  },
  {
   "cell_type": "code",
   "execution_count": 110,
   "id": "3542430e",
   "metadata": {},
   "outputs": [
    {
     "data": {
      "text/plain": [
       "[1, 2, 3, 4, 5]"
      ]
     },
     "execution_count": 110,
     "metadata": {},
     "output_type": "execute_result"
    }
   ],
   "source": [
    "list(s2)"
   ]
  },
  {
   "cell_type": "code",
   "execution_count": null,
   "id": "070d4464",
   "metadata": {},
   "outputs": [],
   "source": [
    "#Add operation"
   ]
  },
  {
   "cell_type": "code",
   "execution_count": 111,
   "id": "eae724a9",
   "metadata": {},
   "outputs": [],
   "source": [
    "s2.add(423545)"
   ]
  },
  {
   "cell_type": "code",
   "execution_count": 113,
   "id": "8479355d",
   "metadata": {},
   "outputs": [
    {
     "data": {
      "text/plain": [
       "{1, 2, 3, 4, 5, 423545}"
      ]
     },
     "execution_count": 113,
     "metadata": {},
     "output_type": "execute_result"
    }
   ],
   "source": [
    "s2"
   ]
  },
  {
   "cell_type": "code",
   "execution_count": 114,
   "id": "ce490277",
   "metadata": {},
   "outputs": [],
   "source": [
    "s2.add(\"sudh\")"
   ]
  },
  {
   "cell_type": "code",
   "execution_count": 115,
   "id": "8fea6f5d",
   "metadata": {},
   "outputs": [
    {
     "data": {
      "text/plain": [
       "{1, 2, 3, 4, 423545, 5, 'sudh'}"
      ]
     },
     "execution_count": 115,
     "metadata": {},
     "output_type": "execute_result"
    }
   ],
   "source": [
    "s2"
   ]
  },
  {
   "cell_type": "code",
   "execution_count": 117,
   "id": "b28020ae",
   "metadata": {},
   "outputs": [
    {
     "ename": "TypeError",
     "evalue": "unhashable type: 'list'",
     "output_type": "error",
     "traceback": [
      "\u001b[1;31m---------------------------------------------------------------------------\u001b[0m",
      "\u001b[1;31mTypeError\u001b[0m                                 Traceback (most recent call last)",
      "\u001b[1;32m<ipython-input-117-5c9dc8af12fb>\u001b[0m in \u001b[0;36m<module>\u001b[1;34m\u001b[0m\n\u001b[1;32m----> 1\u001b[1;33m \u001b[0ms2\u001b[0m\u001b[1;33m.\u001b[0m\u001b[0madd\u001b[0m\u001b[1;33m(\u001b[0m\u001b[1;33m[\u001b[0m\u001b[1;36m3\u001b[0m\u001b[1;33m,\u001b[0m\u001b[1;36m4\u001b[0m\u001b[1;33m,\u001b[0m\u001b[1;36m56\u001b[0m\u001b[1;33m,\u001b[0m\u001b[1;36m6\u001b[0m\u001b[1;33m]\u001b[0m\u001b[1;33m)\u001b[0m \u001b[1;31m#set can hold only primitive data types like int,float,str etc not collection datatypes that are mutable like list\u001b[0m\u001b[1;33m\u001b[0m\u001b[1;33m\u001b[0m\u001b[0m\n\u001b[0m",
      "\u001b[1;31mTypeError\u001b[0m: unhashable type: 'list'"
     ]
    }
   ],
   "source": [
    "s2.add([3,4,56,6]) #set can hold only primitive data types like int,float,str etc not collection datatypes that are mutable like list"
   ]
  },
  {
   "cell_type": "code",
   "execution_count": 1,
   "id": "89282763",
   "metadata": {},
   "outputs": [
    {
     "data": {
      "text/plain": [
       "{(3, 4, 5, 6, 6), 3, 4, 5, 6}"
      ]
     },
     "execution_count": 1,
     "metadata": {},
     "output_type": "execute_result"
    }
   ],
   "source": [
    "{(3,4,5,6,6),3,4,5,6} #Tuple is allowed"
   ]
  },
  {
   "cell_type": "code",
   "execution_count": 120,
   "id": "79101ce9",
   "metadata": {},
   "outputs": [],
   "source": [
    "s = {(3,4,5,6),(3,4,5,6),3,4,5,6} #will remove duplicate tuples"
   ]
  },
  {
   "cell_type": "code",
   "execution_count": 121,
   "id": "e47388bb",
   "metadata": {},
   "outputs": [
    {
     "data": {
      "text/plain": [
       "{(3, 4, 5, 6), 3, 4, 5, 6}"
      ]
     },
     "execution_count": 121,
     "metadata": {},
     "output_type": "execute_result"
    }
   ],
   "source": [
    "s"
   ]
  },
  {
   "cell_type": "code",
   "execution_count": 122,
   "id": "33ad4641",
   "metadata": {},
   "outputs": [],
   "source": [
    "#In-built operations"
   ]
  },
  {
   "cell_type": "code",
   "execution_count": 123,
   "id": "be0bcbc3",
   "metadata": {},
   "outputs": [],
   "source": [
    "s.remove(4)"
   ]
  },
  {
   "cell_type": "code",
   "execution_count": 124,
   "id": "e900c78d",
   "metadata": {},
   "outputs": [
    {
     "data": {
      "text/plain": [
       "{(3, 4, 5, 6), 3, 5, 6}"
      ]
     },
     "execution_count": 124,
     "metadata": {},
     "output_type": "execute_result"
    }
   ],
   "source": [
    "s"
   ]
  },
  {
   "cell_type": "code",
   "execution_count": 125,
   "id": "9e851e2b",
   "metadata": {},
   "outputs": [],
   "source": [
    "s.discard(5)"
   ]
  },
  {
   "cell_type": "code",
   "execution_count": 126,
   "id": "b6254b5a",
   "metadata": {},
   "outputs": [
    {
     "data": {
      "text/plain": [
       "{(3, 4, 5, 6), 3, 6}"
      ]
     },
     "execution_count": 126,
     "metadata": {},
     "output_type": "execute_result"
    }
   ],
   "source": [
    "s"
   ]
  },
  {
   "cell_type": "code",
   "execution_count": 127,
   "id": "c2273895",
   "metadata": {},
   "outputs": [
    {
     "ename": "KeyError",
     "evalue": "45",
     "output_type": "error",
     "traceback": [
      "\u001b[1;31m---------------------------------------------------------------------------\u001b[0m",
      "\u001b[1;31mKeyError\u001b[0m                                  Traceback (most recent call last)",
      "\u001b[1;32m<ipython-input-127-30b5ee21a9a0>\u001b[0m in \u001b[0;36m<module>\u001b[1;34m\u001b[0m\n\u001b[1;32m----> 1\u001b[1;33m \u001b[0ms\u001b[0m\u001b[1;33m.\u001b[0m\u001b[0mremove\u001b[0m\u001b[1;33m(\u001b[0m\u001b[1;36m45\u001b[0m\u001b[1;33m)\u001b[0m\u001b[1;33m\u001b[0m\u001b[1;33m\u001b[0m\u001b[0m\n\u001b[0m",
      "\u001b[1;31mKeyError\u001b[0m: 45"
     ]
    }
   ],
   "source": [
    "s.remove(45) #key error"
   ]
  },
  {
   "cell_type": "code",
   "execution_count": 128,
   "id": "0115f143",
   "metadata": {},
   "outputs": [],
   "source": [
    "s.discard(45) #no error"
   ]
  },
  {
   "cell_type": "code",
   "execution_count": 129,
   "id": "ebc8d557",
   "metadata": {},
   "outputs": [
    {
     "data": {
      "text/plain": [
       "{(3, 4, 5, 6), 3, 6}"
      ]
     },
     "execution_count": 129,
     "metadata": {},
     "output_type": "execute_result"
    }
   ],
   "source": [
    "s"
   ]
  },
  {
   "cell_type": "code",
   "execution_count": 133,
   "id": "4824a271",
   "metadata": {},
   "outputs": [],
   "source": [
    "#set{} #Build an unordered collection of unique elements.:Not mutable nor immutable as we dnt get indexes here so no manipulation"
   ]
  },
  {
   "cell_type": "code",
   "execution_count": 134,
   "id": "0a76ce48",
   "metadata": {},
   "outputs": [
    {
     "data": {
      "text/plain": [
       "{'Sudh', 'sudh'}"
      ]
     },
     "execution_count": 134,
     "metadata": {},
     "output_type": "execute_result"
    }
   ],
   "source": [
    "{\"sudh\", \"Sudh\"} #Sets are case sensative"
   ]
  },
  {
   "cell_type": "code",
   "execution_count": 135,
   "id": "f296dbec",
   "metadata": {},
   "outputs": [],
   "source": [
    "#Dictionaries : Storing things in a key value pair. "
   ]
  },
  {
   "cell_type": "code",
   "execution_count": 136,
   "id": "6128f4bb",
   "metadata": {},
   "outputs": [],
   "source": [
    "# SUDHANSHU5 : Coupon code"
   ]
  },
  {
   "cell_type": "code",
   "execution_count": 137,
   "id": "49b0c8ee",
   "metadata": {},
   "outputs": [],
   "source": [
    "d = {}"
   ]
  },
  {
   "cell_type": "code",
   "execution_count": 138,
   "id": "708f1df2",
   "metadata": {},
   "outputs": [
    {
     "data": {
      "text/plain": [
       "dict"
      ]
     },
     "execution_count": 138,
     "metadata": {},
     "output_type": "execute_result"
    }
   ],
   "source": [
    "type(d)"
   ]
  },
  {
   "cell_type": "code",
   "execution_count": 139,
   "id": "9ba88288",
   "metadata": {},
   "outputs": [],
   "source": [
    "d = {4,5,6}"
   ]
  },
  {
   "cell_type": "code",
   "execution_count": 140,
   "id": "8083bf81",
   "metadata": {},
   "outputs": [
    {
     "data": {
      "text/plain": [
       "set"
      ]
     },
     "execution_count": 140,
     "metadata": {},
     "output_type": "execute_result"
    }
   ],
   "source": [
    "type(d)"
   ]
  },
  {
   "cell_type": "code",
   "execution_count": 141,
   "id": "88cf95d9",
   "metadata": {},
   "outputs": [],
   "source": [
    "d = {4: \"sudh\"} #4 is key, \"sudh\" is value "
   ]
  },
  {
   "cell_type": "code",
   "execution_count": 143,
   "id": "1bee306e",
   "metadata": {},
   "outputs": [],
   "source": [
    "d1 = {\"key1\": 57738, \"key\": \"sudh\", 45 : [2,3,4]}"
   ]
  },
  {
   "cell_type": "code",
   "execution_count": 144,
   "id": "c96621ae",
   "metadata": {},
   "outputs": [],
   "source": [
    "l = [3,4,5,6,7] #Internally its trying to create indexes0,1,2,3,4\n",
    "#Here index value 0,1,2,3,4 is key and value will be 3,4,5,6,7 resp"
   ]
  },
  {
   "cell_type": "code",
   "execution_count": 145,
   "id": "42b06ad0",
   "metadata": {},
   "outputs": [
    {
     "data": {
      "text/plain": [
       "{'key1': 57738, 'key': 'sudh', 45: [2, 3, 4]}"
      ]
     },
     "execution_count": 145,
     "metadata": {},
     "output_type": "execute_result"
    }
   ],
   "source": [
    "d1"
   ]
  },
  {
   "cell_type": "code",
   "execution_count": 146,
   "id": "b065dc90",
   "metadata": {},
   "outputs": [
    {
     "data": {
      "text/plain": [
       "3"
      ]
     },
     "execution_count": 146,
     "metadata": {},
     "output_type": "execute_result"
    }
   ],
   "source": [
    "l[0]"
   ]
  },
  {
   "cell_type": "code",
   "execution_count": 148,
   "id": "2500ca8d",
   "metadata": {},
   "outputs": [
    {
     "data": {
      "text/plain": [
       "57738"
      ]
     },
     "execution_count": 148,
     "metadata": {},
     "output_type": "execute_result"
    }
   ],
   "source": [
    "d1[\"key1\"] #Calling a particular key will give respective values"
   ]
  },
  {
   "cell_type": "code",
   "execution_count": 149,
   "id": "2cb8e2d5",
   "metadata": {},
   "outputs": [
    {
     "data": {
      "text/plain": [
       "[2, 3, 4]"
      ]
     },
     "execution_count": 149,
     "metadata": {},
     "output_type": "execute_result"
    }
   ],
   "source": [
    "d1[45]"
   ]
  },
  {
   "cell_type": "code",
   "execution_count": 151,
   "id": "9afcb1be",
   "metadata": {},
   "outputs": [
    {
     "ename": "SyntaxError",
     "evalue": "unexpected EOF while parsing (<ipython-input-151-d387af3289f8>, line 1)",
     "output_type": "error",
     "traceback": [
      "\u001b[1;36m  File \u001b[1;32m\"<ipython-input-151-d387af3289f8>\"\u001b[1;36m, line \u001b[1;32m1\u001b[0m\n\u001b[1;33m    d = {# : [\"jdgfhj\", \"ejgfskhk\", 4,5,6,7,8]}\u001b[0m\n\u001b[1;37m                                               ^\u001b[0m\n\u001b[1;31mSyntaxError\u001b[0m\u001b[1;31m:\u001b[0m unexpected EOF while parsing\n"
     ]
    }
   ],
   "source": [
    "d = {# : [\"jdgfhj\", \"ejgfskhk\", 4,5,6,7,8]}"
   ]
  },
  {
   "cell_type": "code",
   "execution_count": 152,
   "id": "b6f6fa56",
   "metadata": {},
   "outputs": [],
   "source": [
    "#Key cant work with special case characters (#,$,& etc)"
   ]
  },
  {
   "cell_type": "code",
   "execution_count": 153,
   "id": "9e4c94e0",
   "metadata": {},
   "outputs": [],
   "source": [
    "d = {.4 : [\"jdgfhj\", \"ejgfskhk\", 4,5,6,7,8]} #.4 is 0.4 only, therefore it will work"
   ]
  },
  {
   "cell_type": "code",
   "execution_count": 154,
   "id": "5e44c908",
   "metadata": {},
   "outputs": [],
   "source": [
    "#Values can be stored as list,tuple,sets"
   ]
  },
  {
   "cell_type": "code",
   "execution_count": 155,
   "id": "b234dc68",
   "metadata": {},
   "outputs": [],
   "source": [
    "d = {\"Key\": {3,4,5,6}}"
   ]
  },
  {
   "cell_type": "code",
   "execution_count": 156,
   "id": "f09f0c68",
   "metadata": {},
   "outputs": [],
   "source": [
    "#Diff between set and dict is that in dict creation of key-value pair is imp"
   ]
  },
  {
   "cell_type": "code",
   "execution_count": 157,
   "id": "2c0ffba3",
   "metadata": {},
   "outputs": [],
   "source": [
    "d1 = {\"Key\": {3,4,5,6}, \"key2\": \"sudh\", \"Key\": 45}"
   ]
  },
  {
   "cell_type": "code",
   "execution_count": 160,
   "id": "91c0b707",
   "metadata": {},
   "outputs": [
    {
     "data": {
      "text/plain": [
       "45"
      ]
     },
     "execution_count": 160,
     "metadata": {},
     "output_type": "execute_result"
    }
   ],
   "source": [
    "d1[\"Key\"]"
   ]
  },
  {
   "cell_type": "code",
   "execution_count": 161,
   "id": "e90ef1a7",
   "metadata": {},
   "outputs": [],
   "source": [
    "#Last repeted value(latestrecent update one) will be holded and comes in output"
   ]
  },
  {
   "cell_type": "code",
   "execution_count": 162,
   "id": "0dd25d1e",
   "metadata": {},
   "outputs": [],
   "source": [
    "#Key should not be duplicated in general, it should be unique athough it wont give an error but it will update and values can be duplicated (can be anything/no estriction)"
   ]
  },
  {
   "cell_type": "code",
   "execution_count": 163,
   "id": "13fe9376",
   "metadata": {},
   "outputs": [],
   "source": [
    "d = {\"name\": \"sudhanshu\", \"mo_no\": 83498747457, \"mail_id\": \"sudh@gmail.com\", \"key1\": [44,5,6,], \"key2\": (2,3,4,5), \"key3\": {3,4,5,6,7,7,7,89}, \"key4\": {1:5, 6:7}}"
   ]
  },
  {
   "cell_type": "code",
   "execution_count": 164,
   "id": "3ac7ede4",
   "metadata": {},
   "outputs": [
    {
     "data": {
      "text/plain": [
       "{'name': 'sudhanshu',\n",
       " 'mo_no': 83498747457,\n",
       " 'mail_id': 'sudh@gmail.com',\n",
       " 'key1': [44, 5, 6],\n",
       " 'key2': (2, 3, 4, 5),\n",
       " 'key3': {3, 4, 5, 6, 7, 89},\n",
       " 'key4': {1: 5, 6: 7}}"
      ]
     },
     "execution_count": 164,
     "metadata": {},
     "output_type": "execute_result"
    }
   ],
   "source": [
    "d                   \n",
    "\n",
    "#key1= list, key2: tuple, key3=set, key4=dict"
   ]
  },
  {
   "cell_type": "code",
   "execution_count": 165,
   "id": "f403be29",
   "metadata": {},
   "outputs": [
    {
     "data": {
      "text/plain": [
       "{3, 4, 5, 6, 7, 89}"
      ]
     },
     "execution_count": 165,
     "metadata": {},
     "output_type": "execute_result"
    }
   ],
   "source": [
    "d[\"key3\"]"
   ]
  },
  {
   "cell_type": "code",
   "execution_count": 166,
   "id": "116e9c75",
   "metadata": {},
   "outputs": [
    {
     "data": {
      "text/plain": [
       "set"
      ]
     },
     "execution_count": 166,
     "metadata": {},
     "output_type": "execute_result"
    }
   ],
   "source": [
    "type(d[\"key3\"])"
   ]
  },
  {
   "cell_type": "code",
   "execution_count": 169,
   "id": "e69ef7c6",
   "metadata": {},
   "outputs": [
    {
     "data": {
      "text/plain": [
       "{1: 5, 6: 7}"
      ]
     },
     "execution_count": 169,
     "metadata": {},
     "output_type": "execute_result"
    }
   ],
   "source": [
    "d[\"key4\"]"
   ]
  },
  {
   "cell_type": "code",
   "execution_count": 170,
   "id": "4305537b",
   "metadata": {},
   "outputs": [
    {
     "ename": "KeyError",
     "evalue": "0",
     "output_type": "error",
     "traceback": [
      "\u001b[1;31m---------------------------------------------------------------------------\u001b[0m",
      "\u001b[1;31mKeyError\u001b[0m                                  Traceback (most recent call last)",
      "\u001b[1;32m<ipython-input-170-eeca9ab3e59c>\u001b[0m in \u001b[0;36m<module>\u001b[1;34m\u001b[0m\n\u001b[1;32m----> 1\u001b[1;33m \u001b[0md\u001b[0m\u001b[1;33m[\u001b[0m\u001b[1;34m\"key4\"\u001b[0m\u001b[1;33m]\u001b[0m\u001b[1;33m[\u001b[0m\u001b[1;36m0\u001b[0m\u001b[1;33m]\u001b[0m\u001b[1;33m\u001b[0m\u001b[1;33m\u001b[0m\u001b[0m\n\u001b[0m",
      "\u001b[1;31mKeyError\u001b[0m: 0"
     ]
    }
   ],
   "source": [
    "d[\"key4\"][0]"
   ]
  },
  {
   "cell_type": "code",
   "execution_count": 171,
   "id": "f7fc84e4",
   "metadata": {},
   "outputs": [
    {
     "data": {
      "text/plain": [
       "dict_keys(['name', 'mo_no', 'mail_id', 'key1', 'key2', 'key3', 'key4'])"
      ]
     },
     "execution_count": 171,
     "metadata": {},
     "output_type": "execute_result"
    }
   ],
   "source": [
    "d.keys()"
   ]
  },
  {
   "cell_type": "code",
   "execution_count": 172,
   "id": "1c0a5e85",
   "metadata": {},
   "outputs": [
    {
     "data": {
      "text/plain": [
       "dict_values(['sudhanshu', 83498747457, 'sudh@gmail.com', [44, 5, 6], (2, 3, 4, 5), {3, 4, 5, 6, 7, 89}, {1: 5, 6: 7}])"
      ]
     },
     "execution_count": 172,
     "metadata": {},
     "output_type": "execute_result"
    }
   ],
   "source": [
    "d.values()"
   ]
  },
  {
   "cell_type": "code",
   "execution_count": 174,
   "id": "b8adb231",
   "metadata": {},
   "outputs": [],
   "source": [
    "s = d.items()"
   ]
  },
  {
   "cell_type": "code",
   "execution_count": 175,
   "id": "e38ceb5c",
   "metadata": {},
   "outputs": [],
   "source": [
    "#dict_items returning Key:value pairs in form of list of tuples"
   ]
  },
  {
   "cell_type": "code",
   "execution_count": 176,
   "id": "ad2590af",
   "metadata": {},
   "outputs": [
    {
     "data": {
      "text/plain": [
       "dict_items([('name', 'sudhanshu'), ('mo_no', 83498747457), ('mail_id', 'sudh@gmail.com'), ('key1', [44, 5, 6]), ('key2', (2, 3, 4, 5)), ('key3', {3, 4, 5, 6, 7, 89}), ('key4', {1: 5, 6: 7})])"
      ]
     },
     "execution_count": 176,
     "metadata": {},
     "output_type": "execute_result"
    }
   ],
   "source": [
    "s"
   ]
  },
  {
   "cell_type": "code",
   "execution_count": 177,
   "id": "4ab7c5c1",
   "metadata": {},
   "outputs": [
    {
     "data": {
      "text/plain": [
       "dict_items"
      ]
     },
     "execution_count": 177,
     "metadata": {},
     "output_type": "execute_result"
    }
   ],
   "source": [
    "type(s)"
   ]
  },
  {
   "cell_type": "code",
   "execution_count": 178,
   "id": "89aa2e09",
   "metadata": {},
   "outputs": [],
   "source": [
    "d = {\"key1\": \"sudh\", \"key2\": [1,2,3,4]}"
   ]
  },
  {
   "cell_type": "code",
   "execution_count": 179,
   "id": "eb8c02f0",
   "metadata": {},
   "outputs": [
    {
     "data": {
      "text/plain": [
       "{'key1': 'sudh', 'key2': [1, 2, 3, 4]}"
      ]
     },
     "execution_count": 179,
     "metadata": {},
     "output_type": "execute_result"
    }
   ],
   "source": [
    "d"
   ]
  },
  {
   "cell_type": "code",
   "execution_count": 182,
   "id": "31f18877",
   "metadata": {},
   "outputs": [],
   "source": [
    "d[\"key3\"] = \"kumar\" #If key is not available and you are trying to create a new one"
   ]
  },
  {
   "cell_type": "code",
   "execution_count": 183,
   "id": "32a7d0af",
   "metadata": {},
   "outputs": [
    {
     "data": {
      "text/plain": [
       "{'key1': 'sudh', 'key2': [1, 2, 3, 4], 'key3': 'kumar'}"
      ]
     },
     "execution_count": 183,
     "metadata": {},
     "output_type": "execute_result"
    }
   ],
   "source": [
    "d"
   ]
  },
  {
   "cell_type": "code",
   "execution_count": 186,
   "id": "1335b147",
   "metadata": {},
   "outputs": [],
   "source": [
    "d[\"key1\"] = \"kehfkhs\" #If key is already available, it will update"
   ]
  },
  {
   "cell_type": "code",
   "execution_count": 187,
   "id": "f8af3391",
   "metadata": {},
   "outputs": [
    {
     "data": {
      "text/plain": [
       "{'key1': 'kehfkhs', 'key2': [1, 2, 3, 4], 'key3': 'kumar'}"
      ]
     },
     "execution_count": 187,
     "metadata": {},
     "output_type": "execute_result"
    }
   ],
   "source": [
    "d"
   ]
  },
  {
   "cell_type": "code",
   "execution_count": 188,
   "id": "fb6f37d2",
   "metadata": {},
   "outputs": [],
   "source": [
    "#We cant change name of key, we have to delete it and then create a new one"
   ]
  },
  {
   "cell_type": "code",
   "execution_count": 189,
   "id": "520fbe00",
   "metadata": {},
   "outputs": [],
   "source": [
    "del d[\"key1\"]"
   ]
  },
  {
   "cell_type": "code",
   "execution_count": 190,
   "id": "3a18909f",
   "metadata": {},
   "outputs": [
    {
     "data": {
      "text/plain": [
       "{'key2': [1, 2, 3, 4], 'key3': 'kumar'}"
      ]
     },
     "execution_count": 190,
     "metadata": {},
     "output_type": "execute_result"
    }
   ],
   "source": [
    "d"
   ]
  },
  {
   "cell_type": "code",
   "execution_count": 191,
   "id": "bbfcbe84",
   "metadata": {},
   "outputs": [],
   "source": [
    "del d #Deleting entire dict"
   ]
  },
  {
   "cell_type": "code",
   "execution_count": 192,
   "id": "defd46d4",
   "metadata": {},
   "outputs": [
    {
     "ename": "NameError",
     "evalue": "name 'd' is not defined",
     "output_type": "error",
     "traceback": [
      "\u001b[1;31m---------------------------------------------------------------------------\u001b[0m",
      "\u001b[1;31mNameError\u001b[0m                                 Traceback (most recent call last)",
      "\u001b[1;32m<ipython-input-192-e983f374794d>\u001b[0m in \u001b[0;36m<module>\u001b[1;34m\u001b[0m\n\u001b[1;32m----> 1\u001b[1;33m \u001b[0md\u001b[0m\u001b[1;33m\u001b[0m\u001b[1;33m\u001b[0m\u001b[0m\n\u001b[0m",
      "\u001b[1;31mNameError\u001b[0m: name 'd' is not defined"
     ]
    }
   ],
   "source": [
    "d"
   ]
  },
  {
   "cell_type": "code",
   "execution_count": 193,
   "id": "a63dbde7",
   "metadata": {},
   "outputs": [],
   "source": [
    "d1 = {\"key1\": \"sudh\", \"key2\": [4,5,6,7]}"
   ]
  },
  {
   "cell_type": "code",
   "execution_count": 194,
   "id": "17d45dce",
   "metadata": {},
   "outputs": [
    {
     "ename": "SyntaxError",
     "evalue": "invalid syntax (<ipython-input-194-740b837efcc5>, line 1)",
     "output_type": "error",
     "traceback": [
      "\u001b[1;36m  File \u001b[1;32m\"<ipython-input-194-740b837efcc5>\"\u001b[1;36m, line \u001b[1;32m1\u001b[0m\n\u001b[1;33m    d1[[1,2,3]] = \"iner\" Key wont work as a list but will work as tuple\u001b[0m\n\u001b[1;37m                         ^\u001b[0m\n\u001b[1;31mSyntaxError\u001b[0m\u001b[1;31m:\u001b[0m invalid syntax\n"
     ]
    }
   ],
   "source": [
    "d1[[1,2,3]] = \"iner\" Key wont work as a list but will work as tuple"
   ]
  },
  {
   "cell_type": "code",
   "execution_count": 196,
   "id": "b09f6b96",
   "metadata": {},
   "outputs": [],
   "source": [
    "d1[(1,2,3)] = \"iner\" #Key as tuple works"
   ]
  },
  {
   "cell_type": "code",
   "execution_count": 197,
   "id": "2f54eb45",
   "metadata": {},
   "outputs": [
    {
     "data": {
      "text/plain": [
       "{'key1': 'sudh', 'key2': [4, 5, 6, 7], (1, 2, 3): 'iner'}"
      ]
     },
     "execution_count": 197,
     "metadata": {},
     "output_type": "execute_result"
    }
   ],
   "source": [
    "d1"
   ]
  },
  {
   "cell_type": "code",
   "execution_count": 199,
   "id": "1c83e08d",
   "metadata": {},
   "outputs": [
    {
     "data": {
      "text/plain": [
       "'sudh'"
      ]
     },
     "execution_count": 199,
     "metadata": {},
     "output_type": "execute_result"
    }
   ],
   "source": [
    "d1.get(\"key1\")"
   ]
  },
  {
   "cell_type": "code",
   "execution_count": 6,
   "id": "80020e2c",
   "metadata": {},
   "outputs": [],
   "source": [
    "d1 = {\"key1\": \"ineuron\", \"key\": \"FSOS\"}"
   ]
  },
  {
   "cell_type": "code",
   "execution_count": 7,
   "id": "95df3ea6",
   "metadata": {},
   "outputs": [],
   "source": [
    "d2 = {\"key2\": 89347, \"key3\": [4,5,6,7]}"
   ]
  },
  {
   "cell_type": "code",
   "execution_count": 8,
   "id": "8ddf8f73",
   "metadata": {},
   "outputs": [],
   "source": [
    "d1.update(d2) #Kind of append operation"
   ]
  },
  {
   "cell_type": "code",
   "execution_count": 9,
   "id": "76deba8e",
   "metadata": {},
   "outputs": [
    {
     "data": {
      "text/plain": [
       "{'key1': 'ineuron', 'key': 'FSOS', 'key2': 89347, 'key3': [4, 5, 6, 7]}"
      ]
     },
     "execution_count": 9,
     "metadata": {},
     "output_type": "execute_result"
    }
   ],
   "source": [
    "d1"
   ]
  },
  {
   "cell_type": "code",
   "execution_count": 205,
   "id": "9c574d69",
   "metadata": {},
   "outputs": [
    {
     "data": {
      "text/plain": [
       "{'key2': 89347, 'key3': [4, 5, 6, 7]}"
      ]
     },
     "execution_count": 205,
     "metadata": {},
     "output_type": "execute_result"
    }
   ],
   "source": [
    "d2"
   ]
  },
  {
   "cell_type": "code",
   "execution_count": 206,
   "id": "74c18713",
   "metadata": {},
   "outputs": [
    {
     "ename": "TypeError",
     "evalue": "unsupported operand type(s) for +: 'dict' and 'dict'",
     "output_type": "error",
     "traceback": [
      "\u001b[1;31m---------------------------------------------------------------------------\u001b[0m",
      "\u001b[1;31mTypeError\u001b[0m                                 Traceback (most recent call last)",
      "\u001b[1;32m<ipython-input-206-686adf62153a>\u001b[0m in \u001b[0;36m<module>\u001b[1;34m\u001b[0m\n\u001b[1;32m----> 1\u001b[1;33m \u001b[0md1\u001b[0m\u001b[1;33m+\u001b[0m\u001b[0md2\u001b[0m\u001b[1;33m\u001b[0m\u001b[1;33m\u001b[0m\u001b[0m\n\u001b[0m",
      "\u001b[1;31mTypeError\u001b[0m: unsupported operand type(s) for +: 'dict' and 'dict'"
     ]
    }
   ],
   "source": [
    "d1+d2"
   ]
  },
  {
   "cell_type": "code",
   "execution_count": 207,
   "id": "8856c8f3",
   "metadata": {},
   "outputs": [
    {
     "data": {
      "text/plain": [
       "{'key1': 'ineuron', 'key2': 89347, 'key3': [4, 5, 6, 7]}"
      ]
     },
     "execution_count": 207,
     "metadata": {},
     "output_type": "execute_result"
    }
   ],
   "source": [
    "d1"
   ]
  },
  {
   "cell_type": "code",
   "execution_count": 208,
   "id": "978fd81d",
   "metadata": {},
   "outputs": [
    {
     "data": {
      "text/plain": [
       "{'key2': 89347, 'key3': [4, 5, 6, 7]}"
      ]
     },
     "execution_count": 208,
     "metadata": {},
     "output_type": "execute_result"
    }
   ],
   "source": [
    "d2"
   ]
  },
  {
   "cell_type": "code",
   "execution_count": 209,
   "id": "10508fb2",
   "metadata": {},
   "outputs": [],
   "source": [
    "key = (\"name\", \"mo\", \"mail\")\n",
    "value = \"penn\""
   ]
  },
  {
   "cell_type": "code",
   "execution_count": 210,
   "id": "31a2183f",
   "metadata": {},
   "outputs": [],
   "source": [
    "d = d1.fromkeys(key,value)"
   ]
  },
  {
   "cell_type": "code",
   "execution_count": 211,
   "id": "621e4b84",
   "metadata": {},
   "outputs": [
    {
     "data": {
      "text/plain": [
       "{'name': 'penn', 'mo': 'penn', 'mail': 'penn'}"
      ]
     },
     "execution_count": 211,
     "metadata": {},
     "output_type": "execute_result"
    }
   ],
   "source": [
    "d"
   ]
  },
  {
   "cell_type": "code",
   "execution_count": null,
   "id": "73aaf655",
   "metadata": {},
   "outputs": [],
   "source": []
  }
 ],
 "metadata": {
  "kernelspec": {
   "display_name": "Python 3",
   "language": "python",
   "name": "python3"
  },
  "language_info": {
   "codemirror_mode": {
    "name": "ipython",
    "version": 3
   },
   "file_extension": ".py",
   "mimetype": "text/x-python",
   "name": "python",
   "nbconvert_exporter": "python",
   "pygments_lexer": "ipython3",
   "version": "3.8.8"
  }
 },
 "nbformat": 4,
 "nbformat_minor": 5
}
