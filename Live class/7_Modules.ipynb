{
 "cells": [
  {
   "cell_type": "code",
   "execution_count": 1,
   "id": "af571e87",
   "metadata": {},
   "outputs": [],
   "source": [
    "#Modules: increase reusability of code"
   ]
  },
  {
   "cell_type": "code",
   "execution_count": 2,
   "id": "c623ae4d",
   "metadata": {},
   "outputs": [],
   "source": [
    "import os"
   ]
  },
  {
   "cell_type": "code",
   "execution_count": 3,
   "id": "5b776761",
   "metadata": {},
   "outputs": [],
   "source": [
    "#Create a function that will be able to run other Jupytr notebook also\n",
    "#Ans: Create module and import it whenever you want"
   ]
  },
  {
   "cell_type": "code",
   "execution_count": 4,
   "id": "c2c6d659",
   "metadata": {},
   "outputs": [
    {
     "ename": "TypeError",
     "evalue": "type() takes 1 or 3 arguments",
     "output_type": "error",
     "traceback": [
      "\u001b[1;31m---------------------------------------------------------------------------\u001b[0m",
      "\u001b[1;31mTypeError\u001b[0m                                 Traceback (most recent call last)",
      "\u001b[1;32m<ipython-input-4-830a03ef578a>\u001b[0m in \u001b[0;36m<module>\u001b[1;34m\u001b[0m\n\u001b[1;32m----> 1\u001b[1;33m \u001b[0mtype\u001b[0m\u001b[1;33m(\u001b[0m\u001b[1;33m)\u001b[0m\u001b[1;33m\u001b[0m\u001b[1;33m\u001b[0m\u001b[0m\n\u001b[0m\u001b[0;32m      2\u001b[0m \u001b[0mprint\u001b[0m\u001b[1;33m(\u001b[0m\u001b[1;33m)\u001b[0m\u001b[1;33m\u001b[0m\u001b[1;33m\u001b[0m\u001b[0m\n\u001b[0;32m      3\u001b[0m \u001b[0mlen\u001b[0m\u001b[1;33m(\u001b[0m\u001b[1;33m)\u001b[0m\u001b[1;33m\u001b[0m\u001b[1;33m\u001b[0m\u001b[0m\n",
      "\u001b[1;31mTypeError\u001b[0m: type() takes 1 or 3 arguments"
     ]
    }
   ],
   "source": [
    "\"\"\"type()\n",
    "print()\n",
    "len()\"\"\""
   ]
  },
  {
   "cell_type": "code",
   "execution_count": 5,
   "id": "5a7516c1",
   "metadata": {},
   "outputs": [
    {
     "data": {
      "text/plain": [
       "'C:\\\\Users\\\\Lakshya\\\\DS_Python\\\\Live class'"
      ]
     },
     "execution_count": 5,
     "metadata": {},
     "output_type": "execute_result"
    }
   ],
   "source": [
    "pwd()"
   ]
  },
  {
   "cell_type": "code",
   "execution_count": 6,
   "id": "a04062a7",
   "metadata": {},
   "outputs": [
    {
     "data": {
      "text/plain": [
       "['In',\n",
       " 'Out',\n",
       " '_',\n",
       " '_5',\n",
       " '__',\n",
       " '___',\n",
       " '__builtin__',\n",
       " '__builtins__',\n",
       " '__doc__',\n",
       " '__loader__',\n",
       " '__name__',\n",
       " '__package__',\n",
       " '__spec__',\n",
       " '_dh',\n",
       " '_i',\n",
       " '_i1',\n",
       " '_i2',\n",
       " '_i3',\n",
       " '_i4',\n",
       " '_i5',\n",
       " '_i6',\n",
       " '_ih',\n",
       " '_ii',\n",
       " '_iii',\n",
       " '_oh',\n",
       " 'exit',\n",
       " 'get_ipython',\n",
       " 'os',\n",
       " 'quit']"
      ]
     },
     "execution_count": 6,
     "metadata": {},
     "output_type": "execute_result"
    }
   ],
   "source": [
    "dir()"
   ]
  },
  {
   "cell_type": "code",
   "execution_count": 8,
   "id": "f88d7a69",
   "metadata": {},
   "outputs": [
    {
     "name": "stdout",
     "output_type": "stream",
     "text": [
      " Volume in drive C is WINDOWS\n",
      " Volume Serial Number is 4816-94F1\n",
      "\n",
      " Directory of C:\\Users\\Lakshya\\DS_Python\\Live class\n",
      "\n",
      "01/22/2022  10:26 AM    <DIR>          .\n",
      "01/22/2022  10:26 AM    <DIR>          ..\n",
      "01/22/2022  10:03 AM    <DIR>          .ipynb_checkpoints\n",
      "01/14/2022  03:47 PM               487 google.txt\n",
      "01/21/2022  09:54 PM            15,981 Jan 15 & 16.ipynb\n",
      "01/22/2022  10:26 AM             2,369 Jan22.ipynb\n",
      "12/21/2021  10:10 PM            18,542 Live class day 5.ipynb\n",
      "12/22/2021  12:57 PM            12,767 Live class day1.ipynb\n",
      "12/22/2021  02:52 PM            49,095 live class day2.ipynb\n",
      "01/08/2022  02:25 AM            15,664 live class day3.ipynb\n",
      "01/14/2022  03:50 PM            41,236 Live class jan 9.ipynb\n",
      "01/08/2022  12:45 PM            44,629 Live Class Jan8.ipynb\n",
      "12/20/2021  10:58 PM           386,935 Live day 4.ipynb\n",
      "01/22/2022  10:26 AM                 2 module22jan.py\n",
      "01/14/2022  03:46 PM                 0 try.txt\n",
      "01/14/2022  03:46 PM                21 try2.txt\n",
      "12/16/2021  03:35 PM             3,077 Untitled.ipynb\n",
      "12/23/2021  10:06 PM            17,783 Untitled1.ipynb\n",
      "              15 File(s)        608,588 bytes\n",
      "               3 Dir(s)   4,775,358,464 bytes free\n"
     ]
    }
   ],
   "source": [
    "%ls"
   ]
  },
  {
   "cell_type": "code",
   "execution_count": 9,
   "id": "b19019c1",
   "metadata": {},
   "outputs": [
    {
     "name": "stdout",
     "output_type": "stream",
     "text": [
      " Volume in drive C is WINDOWS\n",
      " Volume Serial Number is 4816-94F1\n",
      "\n",
      " Directory of C:\\Users\\Lakshya\\DS_Python\\Live class\n",
      "\n",
      "01/22/2022  10:28 AM    <DIR>          .\n",
      "01/22/2022  10:28 AM    <DIR>          ..\n",
      "01/22/2022  10:03 AM    <DIR>          .ipynb_checkpoints\n",
      "01/14/2022  03:47 PM               487 google.txt\n",
      "01/21/2022  09:54 PM            15,981 Jan 15 & 16.ipynb\n",
      "01/22/2022  10:28 AM             5,373 Jan22.ipynb\n",
      "12/21/2021  10:10 PM            18,542 Live class day 5.ipynb\n",
      "12/22/2021  12:57 PM            12,767 Live class day1.ipynb\n",
      "12/22/2021  02:52 PM            49,095 live class day2.ipynb\n",
      "01/08/2022  02:25 AM            15,664 live class day3.ipynb\n",
      "01/14/2022  03:50 PM            41,236 Live class jan 9.ipynb\n",
      "01/08/2022  12:45 PM            44,629 Live Class Jan8.ipynb\n",
      "12/20/2021  10:58 PM           386,935 Live day 4.ipynb\n",
      "01/22/2022  10:26 AM                 2 module22jan.py\n",
      "01/14/2022  03:46 PM                 0 try.txt\n",
      "01/14/2022  03:46 PM                21 try2.txt\n",
      "12/16/2021  03:35 PM             3,077 Untitled.ipynb\n",
      "12/23/2021  10:06 PM            17,783 Untitled1.ipynb\n",
      "              15 File(s)        611,592 bytes\n",
      "               3 Dir(s)   4,775,690,240 bytes free\n"
     ]
    }
   ],
   "source": [
    "ls"
   ]
  },
  {
   "cell_type": "code",
   "execution_count": 10,
   "id": "5c91b075",
   "metadata": {},
   "outputs": [
    {
     "data": {
      "text/plain": [
       "<_io.TextIOWrapper name='md22.py' mode='w' encoding='cp1252'>"
      ]
     },
     "execution_count": 10,
     "metadata": {},
     "output_type": "execute_result"
    }
   ],
   "source": [
    "open(\"md22.py\", \"w\")"
   ]
  },
  {
   "cell_type": "code",
   "execution_count": 1,
   "id": "e7cdb1f6",
   "metadata": {
    "scrolled": true
   },
   "outputs": [
    {
     "name": "stdout",
     "output_type": "stream",
     "text": [
      " Volume in drive C is WINDOWS\n",
      " Volume Serial Number is 4816-94F1\n",
      "\n",
      " Directory of C:\\Users\\Lakshya\\DS_Python\\Live class\n",
      "\n",
      "01/22/2022  10:40 AM    <DIR>          .\n",
      "01/22/2022  10:40 AM    <DIR>          ..\n",
      "01/22/2022  10:03 AM    <DIR>          .ipynb_checkpoints\n",
      "01/22/2022  10:40 AM    <DIR>          __pycache__\n",
      "01/14/2022  03:47 PM               487 google.txt\n",
      "01/21/2022  09:54 PM            15,981 Jan 15 & 16.ipynb\n",
      "01/22/2022  10:40 AM             9,862 Jan22.ipynb\n",
      "12/21/2021  10:10 PM            18,542 Live class day 5.ipynb\n",
      "12/22/2021  12:57 PM            12,767 Live class day1.ipynb\n",
      "12/22/2021  02:52 PM            49,095 live class day2.ipynb\n",
      "01/08/2022  02:25 AM            15,664 live class day3.ipynb\n",
      "01/14/2022  03:50 PM            41,236 Live class jan 9.ipynb\n",
      "01/08/2022  12:45 PM            44,629 Live Class Jan8.ipynb\n",
      "12/20/2021  10:58 PM           386,935 Live day 4.ipynb\n",
      "01/22/2022  10:31 AM                 0 md22.py\n",
      "01/22/2022  10:40 AM               160 module22jan.py\n",
      "01/14/2022  03:46 PM                 0 try.txt\n",
      "01/14/2022  03:46 PM                21 try2.txt\n",
      "12/16/2021  03:35 PM             3,077 Untitled.ipynb\n",
      "12/23/2021  10:06 PM            17,783 Untitled1.ipynb\n",
      "              16 File(s)        616,239 bytes\n",
      "               4 Dir(s)   4,775,948,288 bytes free\n"
     ]
    }
   ],
   "source": [
    "ls"
   ]
  },
  {
   "cell_type": "code",
   "execution_count": 2,
   "id": "5549a71b",
   "metadata": {},
   "outputs": [],
   "source": [
    "import module22jan        #file(module) name  #you can import it in other Jupyter notebook also"
   ]
  },
  {
   "cell_type": "code",
   "execution_count": 3,
   "id": "4f7c1091",
   "metadata": {},
   "outputs": [
    {
     "data": {
      "text/plain": [
       "11"
      ]
     },
     "execution_count": 3,
     "metadata": {},
     "output_type": "execute_result"
    }
   ],
   "source": [
    "module22jan.test(5,6)"
   ]
  },
  {
   "cell_type": "code",
   "execution_count": 4,
   "id": "c61f10d6",
   "metadata": {},
   "outputs": [
    {
     "data": {
      "text/plain": [
       "2.0"
      ]
     },
     "execution_count": 4,
     "metadata": {},
     "output_type": "execute_result"
    }
   ],
   "source": [
    "module22jan.test2(6,3)"
   ]
  },
  {
   "cell_type": "code",
   "execution_count": 5,
   "id": "c79e2853",
   "metadata": {},
   "outputs": [
    {
     "name": "stdout",
     "output_type": "stream",
     "text": [
      "We are practicing modules\n"
     ]
    }
   ],
   "source": [
    "module22jan.test3(6,7)"
   ]
  },
  {
   "cell_type": "code",
   "execution_count": 1,
   "id": "977a0dd3",
   "metadata": {},
   "outputs": [],
   "source": [
    "from module22jan import *   #(To import everythong from file/module)"
   ]
  },
  {
   "cell_type": "code",
   "execution_count": 2,
   "id": "0e9f6325",
   "metadata": {},
   "outputs": [
    {
     "data": {
      "text/plain": [
       "5"
      ]
     },
     "execution_count": 2,
     "metadata": {},
     "output_type": "execute_result"
    }
   ],
   "source": [
    "test(2,3)"
   ]
  },
  {
   "cell_type": "code",
   "execution_count": 3,
   "id": "45163e5e",
   "metadata": {},
   "outputs": [
    {
     "data": {
      "text/plain": [
       "0.7777777777777778"
      ]
     },
     "execution_count": 3,
     "metadata": {},
     "output_type": "execute_result"
    }
   ],
   "source": [
    "test2(7,9)"
   ]
  },
  {
   "cell_type": "code",
   "execution_count": 4,
   "id": "1c7774f0",
   "metadata": {},
   "outputs": [
    {
     "data": {
      "text/plain": [
       "10"
      ]
     },
     "execution_count": 4,
     "metadata": {},
     "output_type": "execute_result"
    }
   ],
   "source": [
    "test1(2,5)"
   ]
  },
  {
   "cell_type": "code",
   "execution_count": 5,
   "id": "6719748d",
   "metadata": {},
   "outputs": [
    {
     "data": {
      "text/plain": [
       "<_io.TextIOWrapper name='my_module' mode='w' encoding='cp1252'>"
      ]
     },
     "execution_count": 5,
     "metadata": {},
     "output_type": "execute_result"
    }
   ],
   "source": [
    "open(\"my_module\", \"w\")"
   ]
  },
  {
   "cell_type": "code",
   "execution_count": 8,
   "id": "783c11a4",
   "metadata": {},
   "outputs": [],
   "source": [
    "import my_module"
   ]
  },
  {
   "cell_type": "code",
   "execution_count": 9,
   "id": "36f53f4a",
   "metadata": {},
   "outputs": [
    {
     "data": {
      "text/plain": [
       "'greeting from ineuron'"
      ]
     },
     "execution_count": 9,
     "metadata": {},
     "output_type": "execute_result"
    }
   ],
   "source": [
    "my_module.greeting()"
   ]
  },
  {
   "cell_type": "code",
   "execution_count": 10,
   "id": "0204be39",
   "metadata": {},
   "outputs": [
    {
     "data": {
      "text/plain": [
       "['datascience', 'blockchain', 'robotics']"
      ]
     },
     "execution_count": 10,
     "metadata": {},
     "output_type": "execute_result"
    }
   ],
   "source": [
    "my_module.get_course()"
   ]
  },
  {
   "cell_type": "code",
   "execution_count": 11,
   "id": "20c8c99c",
   "metadata": {},
   "outputs": [],
   "source": [
    "#Package: Collection of modules : Pycharm python practice"
   ]
  },
  {
   "cell_type": "code",
   "execution_count": 12,
   "id": "8ebb01cf",
   "metadata": {},
   "outputs": [
    {
     "ename": "NameError",
     "evalue": "name 'Task' is not defined",
     "output_type": "error",
     "traceback": [
      "\u001b[1;31m---------------------------------------------------------------------------\u001b[0m",
      "\u001b[1;31mNameError\u001b[0m                                 Traceback (most recent call last)",
      "\u001b[1;32m<ipython-input-12-b5a2b14b9bcf>\u001b[0m in \u001b[0;36m<module>\u001b[1;34m\u001b[0m\n\u001b[1;32m----> 1\u001b[1;33m \u001b[0mTask\u001b[0m\u001b[1;33m\u001b[0m\u001b[1;33m\u001b[0m\u001b[0m\n\u001b[0m",
      "\u001b[1;31mNameError\u001b[0m: name 'Task' is not defined"
     ]
    }
   ],
   "source": [
    "Task"
   ]
  },
  {
   "cell_type": "markdown",
   "id": "c60d91a9",
   "metadata": {},
   "source": [
    "#Create a tool \n",
    "paste any location C/D , button , output: List of all files \n",
    "    \n",
    "#Anaother or same window \n",
    "Find in the current dir whether we have a pdf file or not \n",
    "if we have a pdf \n",
    "0 pdf: do nothing\n",
    "More than 0: Merge all the pdf and make a new file\n",
    "    \n",
    "GUI: Tinker, Kivy\n",
    "\n",
    "#Exception handling, logging, use of packages is must"
   ]
  },
  {
   "cell_type": "code",
   "execution_count": 13,
   "id": "0d6c29c5",
   "metadata": {},
   "outputs": [],
   "source": [
    "#Oops"
   ]
  },
  {
   "cell_type": "code",
   "execution_count": 14,
   "id": "2b6826c4",
   "metadata": {},
   "outputs": [
    {
     "name": "stdout",
     "output_type": "stream",
     "text": [
      "1\n",
      "2\n",
      "3\n",
      "4\n",
      "5\n"
     ]
    }
   ],
   "source": [
    "l = [1,2,3,4,5]\n",
    "for i in l:\n",
    "    print(i)"
   ]
  },
  {
   "cell_type": "code",
   "execution_count": 15,
   "id": "d09da55b",
   "metadata": {},
   "outputs": [],
   "source": [
    "s= \"Penny\""
   ]
  },
  {
   "cell_type": "code",
   "execution_count": 16,
   "id": "3e0a2e85",
   "metadata": {},
   "outputs": [],
   "source": [
    "s = list(s)"
   ]
  },
  {
   "cell_type": "code",
   "execution_count": 17,
   "id": "7f38d830",
   "metadata": {},
   "outputs": [
    {
     "data": {
      "text/plain": [
       "['P', 'e', 'n', 'n', 'y']"
      ]
     },
     "execution_count": 17,
     "metadata": {},
     "output_type": "execute_result"
    }
   ],
   "source": [
    "s"
   ]
  },
  {
   "cell_type": "code",
   "execution_count": 22,
   "id": "285cb748",
   "metadata": {},
   "outputs": [],
   "source": [
    "c = s[::-1]"
   ]
  },
  {
   "cell_type": "code",
   "execution_count": 23,
   "id": "f5091d13",
   "metadata": {},
   "outputs": [
    {
     "data": {
      "text/plain": [
       "['y', 'n', 'n', 'e', 'P']"
      ]
     },
     "execution_count": 23,
     "metadata": {},
     "output_type": "execute_result"
    }
   ],
   "source": [
    "c"
   ]
  },
  {
   "cell_type": "code",
   "execution_count": 24,
   "id": "7fa97bd3",
   "metadata": {},
   "outputs": [
    {
     "ename": "ValueError",
     "evalue": "too many values to unpack (expected 2)",
     "output_type": "error",
     "traceback": [
      "\u001b[1;31m---------------------------------------------------------------------------\u001b[0m",
      "\u001b[1;31mValueError\u001b[0m                                Traceback (most recent call last)",
      "\u001b[1;32m<ipython-input-24-589c6936e4ce>\u001b[0m in \u001b[0;36m<module>\u001b[1;34m\u001b[0m\n\u001b[1;32m----> 1\u001b[1;33m \u001b[1;32mfor\u001b[0m \u001b[0mi\u001b[0m\u001b[1;33m,\u001b[0m\u001b[0mx\u001b[0m \u001b[1;32min\u001b[0m \u001b[0ms\u001b[0m\u001b[1;33m,\u001b[0m\u001b[0mc\u001b[0m\u001b[1;33m:\u001b[0m\u001b[1;33m\u001b[0m\u001b[1;33m\u001b[0m\u001b[0m\n\u001b[0m\u001b[0;32m      2\u001b[0m     \u001b[1;32mif\u001b[0m \u001b[0mi\u001b[0m\u001b[1;33m[\u001b[0m\u001b[1;36m0\u001b[0m\u001b[1;33m]\u001b[0m \u001b[1;33m==\u001b[0m \u001b[0mx\u001b[0m\u001b[1;33m[\u001b[0m\u001b[1;36m0\u001b[0m\u001b[1;33m]\u001b[0m\u001b[1;33m:\u001b[0m\u001b[1;33m\u001b[0m\u001b[1;33m\u001b[0m\u001b[0m\n\u001b[0;32m      3\u001b[0m         \u001b[0mprint\u001b[0m\u001b[1;33m(\u001b[0m\u001b[1;34m\"Yes\"\u001b[0m\u001b[1;33m)\u001b[0m\u001b[1;33m\u001b[0m\u001b[1;33m\u001b[0m\u001b[0m\n\u001b[0;32m      4\u001b[0m     \u001b[1;32melse\u001b[0m\u001b[1;33m:\u001b[0m\u001b[1;33m\u001b[0m\u001b[1;33m\u001b[0m\u001b[0m\n\u001b[0;32m      5\u001b[0m         \u001b[0mprint\u001b[0m\u001b[1;33m(\u001b[0m\u001b[1;34m\"No\"\u001b[0m\u001b[1;33m)\u001b[0m\u001b[1;33m\u001b[0m\u001b[1;33m\u001b[0m\u001b[0m\n",
      "\u001b[1;31mValueError\u001b[0m: too many values to unpack (expected 2)"
     ]
    }
   ],
   "source": []
  },
  {
   "cell_type": "code",
   "execution_count": null,
   "id": "dd56c1fb",
   "metadata": {},
   "outputs": [],
   "source": []
  },
  {
   "cell_type": "code",
   "execution_count": null,
   "id": "147fa7ef",
   "metadata": {},
   "outputs": [],
   "source": []
  },
  {
   "cell_type": "code",
   "execution_count": null,
   "id": "50d29c4b",
   "metadata": {},
   "outputs": [],
   "source": []
  },
  {
   "cell_type": "code",
   "execution_count": 25,
   "id": "08dd47ec",
   "metadata": {},
   "outputs": [
    {
     "ename": "SyntaxError",
     "evalue": "invalid syntax (<ipython-input-25-845d011b6c24>, line 1)",
     "output_type": "error",
     "traceback": [
      "\u001b[1;36m  File \u001b[1;32m\"<ipython-input-25-845d011b6c24>\"\u001b[1;36m, line \u001b[1;32m1\u001b[0m\n\u001b[1;33m    Class: Cups, Cars #Classify real world entity\u001b[0m\n\u001b[1;37m               ^\u001b[0m\n\u001b[1;31mSyntaxError\u001b[0m\u001b[1;31m:\u001b[0m invalid syntax\n"
     ]
    }
   ],
   "source": [
    "Class: Cups, Cars #Classify real world entity\n",
    "Object: That exists: Miltopn cup, Fortuner"
   ]
  },
  {
   "cell_type": "code",
   "execution_count": 26,
   "id": "e95b4ecd",
   "metadata": {},
   "outputs": [],
   "source": [
    "class car :\n",
    "    pass"
   ]
  },
  {
   "cell_type": "code",
   "execution_count": 8,
   "id": "fb887e7e",
   "metadata": {},
   "outputs": [],
   "source": [
    "class car : \n",
    "    def __init__(self, brand_name, fueltype, body_type):\n",
    "        self.brand_name = brand_name\n",
    "        self.fueltype = fueltype\n",
    "        self.body_type = body_type\n",
    "        \n",
    "    def desc_car(self):\n",
    "        print(self.brand_name,self.fueltype, self.body_type )"
   ]
  },
  {
   "cell_type": "code",
   "execution_count": 9,
   "id": "7d721945",
   "metadata": {},
   "outputs": [],
   "source": [
    "innova = car(\"toyota\", \"petrol\", \"suv\")\n",
    "fortuner = car(\"sjsfh\", \"petrol\", \"suv\")"
   ]
  },
  {
   "cell_type": "code",
   "execution_count": 10,
   "id": "c248c321",
   "metadata": {},
   "outputs": [
    {
     "name": "stdout",
     "output_type": "stream",
     "text": [
      "sjsfh petrol suv\n"
     ]
    }
   ],
   "source": [
    "fortuner.desc_car()"
   ]
  },
  {
   "cell_type": "code",
   "execution_count": 4,
   "id": "441bb3ac",
   "metadata": {},
   "outputs": [
    {
     "data": {
      "text/plain": [
       "'toyota'"
      ]
     },
     "execution_count": 4,
     "metadata": {},
     "output_type": "execute_result"
    }
   ],
   "source": [
    "innova.brand_name"
   ]
  },
  {
   "cell_type": "code",
   "execution_count": null,
   "id": "d09f7b92",
   "metadata": {},
   "outputs": [],
   "source": []
  }
 ],
 "metadata": {
  "kernelspec": {
   "display_name": "Python 3",
   "language": "python",
   "name": "python3"
  },
  "language_info": {
   "codemirror_mode": {
    "name": "ipython",
    "version": 3
   },
   "file_extension": ".py",
   "mimetype": "text/x-python",
   "name": "python",
   "nbconvert_exporter": "python",
   "pygments_lexer": "ipython3",
   "version": "3.8.8"
  }
 },
 "nbformat": 4,
 "nbformat_minor": 5
}
