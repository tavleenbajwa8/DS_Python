{
 "cells": [
  {
   "cell_type": "markdown",
   "id": "8d3a55f4",
   "metadata": {},
   "source": [
    "# Exception handling "
   ]
  },
  {
   "cell_type": "code",
   "execution_count": 1,
   "id": "a753cf52",
   "metadata": {},
   "outputs": [
    {
     "data": {
      "text/plain": [
       "0.5"
      ]
     },
     "execution_count": 1,
     "metadata": {},
     "output_type": "execute_result"
    }
   ],
   "source": [
    "a = 5\n",
    "a/10"
   ]
  },
  {
   "cell_type": "code",
   "execution_count": 3,
   "id": "c55ce3e5",
   "metadata": {},
   "outputs": [
    {
     "ename": "ZeroDivisionError",
     "evalue": "division by zero",
     "output_type": "error",
     "traceback": [
      "\u001b[1;31m---------------------------------------------------------------------------\u001b[0m",
      "\u001b[1;31mZeroDivisionError\u001b[0m                         Traceback (most recent call last)",
      "\u001b[1;32m<ipython-input-3-106434c49d54>\u001b[0m in \u001b[0;36m<module>\u001b[1;34m\u001b[0m\n\u001b[1;32m----> 1\u001b[1;33m \u001b[0ma\u001b[0m\u001b[1;33m/\u001b[0m\u001b[1;36m0\u001b[0m   \u001b[1;31m#zero division error exception\u001b[0m\u001b[1;33m\u001b[0m\u001b[1;33m\u001b[0m\u001b[0m\n\u001b[0m",
      "\u001b[1;31mZeroDivisionError\u001b[0m: division by zero"
     ]
    }
   ],
   "source": [
    "a/0   #zero division error exception"
   ]
  },
  {
   "cell_type": "code",
   "execution_count": 4,
   "id": "4d83e842",
   "metadata": {},
   "outputs": [],
   "source": [
    "#If at one place program gives us error, the code after that particular line wont get executed "
   ]
  },
  {
   "cell_type": "code",
   "execution_count": 5,
   "id": "56cc13ed",
   "metadata": {},
   "outputs": [],
   "source": [
    "#By default we have to use exception handling in every line of code"
   ]
  },
  {
   "cell_type": "code",
   "execution_count": 6,
   "id": "adc2f480",
   "metadata": {},
   "outputs": [],
   "source": [
    "#exception handling is basically future error(which can come) handling, so that our production grade code doesnt fail"
   ]
  },
  {
   "cell_type": "code",
   "execution_count": 7,
   "id": "9b640d96",
   "metadata": {},
   "outputs": [
    {
     "name": "stdout",
     "output_type": "stream",
     "text": [
      "0\n"
     ]
    },
    {
     "ename": "ZeroDivisionError",
     "evalue": "division by zero",
     "output_type": "error",
     "traceback": [
      "\u001b[1;31m---------------------------------------------------------------------------\u001b[0m",
      "\u001b[1;31mZeroDivisionError\u001b[0m                         Traceback (most recent call last)",
      "\u001b[1;32m<ipython-input-7-a1585f436dde>\u001b[0m in \u001b[0;36m<module>\u001b[1;34m\u001b[0m\n\u001b[0;32m      1\u001b[0m \u001b[0ma\u001b[0m \u001b[1;33m=\u001b[0m \u001b[1;36m5\u001b[0m\u001b[1;33m\u001b[0m\u001b[1;33m\u001b[0m\u001b[0m\n\u001b[0;32m      2\u001b[0m \u001b[0mb\u001b[0m \u001b[1;33m=\u001b[0m \u001b[0mint\u001b[0m\u001b[1;33m(\u001b[0m\u001b[0minput\u001b[0m\u001b[1;33m(\u001b[0m\u001b[1;33m)\u001b[0m\u001b[1;33m)\u001b[0m\u001b[1;33m\u001b[0m\u001b[1;33m\u001b[0m\u001b[0m\n\u001b[1;32m----> 3\u001b[1;33m \u001b[0ma\u001b[0m\u001b[1;33m/\u001b[0m\u001b[0mb\u001b[0m\u001b[1;33m\u001b[0m\u001b[1;33m\u001b[0m\u001b[0m\n\u001b[0m",
      "\u001b[1;31mZeroDivisionError\u001b[0m: division by zero"
     ]
    }
   ],
   "source": [
    "a = 5\n",
    "b = int(input())\n",
    "a/b\n",
    "\n",
    "#as we dont know what the user will input and what circumstances will be"
   ]
  },
  {
   "cell_type": "code",
   "execution_count": 8,
   "id": "7b339253",
   "metadata": {},
   "outputs": [],
   "source": [
    "#So if there are chances of my code to fail, then write your block of code in a try block"
   ]
  },
  {
   "cell_type": "code",
   "execution_count": 10,
   "id": "833fae41",
   "metadata": {},
   "outputs": [
    {
     "ename": "FileNotFoundError",
     "evalue": "[Errno 2] No such file or directory: 'test.txt'",
     "output_type": "error",
     "traceback": [
      "\u001b[1;31m---------------------------------------------------------------------------\u001b[0m",
      "\u001b[1;31mFileNotFoundError\u001b[0m                         Traceback (most recent call last)",
      "\u001b[1;32m<ipython-input-10-084aa0864425>\u001b[0m in \u001b[0;36m<module>\u001b[1;34m\u001b[0m\n\u001b[1;32m----> 1\u001b[1;33m \u001b[0mf\u001b[0m \u001b[1;33m=\u001b[0m \u001b[0mopen\u001b[0m\u001b[1;33m(\u001b[0m\u001b[1;34m\"test.txt\"\u001b[0m\u001b[1;33m,\u001b[0m \u001b[1;34m\"r\"\u001b[0m\u001b[1;33m)\u001b[0m  \u001b[1;31m#we are assuming that some file is present and we can read it\u001b[0m\u001b[1;33m\u001b[0m\u001b[1;33m\u001b[0m\u001b[0m\n\u001b[0m\u001b[0;32m      2\u001b[0m \u001b[0mf\u001b[0m\u001b[1;33m.\u001b[0m\u001b[0mwrite\u001b[0m\u001b[1;33m(\u001b[0m\u001b[1;34m\"kjhvkjdah\"\u001b[0m\u001b[1;33m)\u001b[0m   \u001b[1;31m#when we try to write inside, no such file directory\u001b[0m\u001b[1;33m\u001b[0m\u001b[1;33m\u001b[0m\u001b[0m\n",
      "\u001b[1;31mFileNotFoundError\u001b[0m: [Errno 2] No such file or directory: 'test.txt'"
     ]
    }
   ],
   "source": [
    "f = open(\"test.txt\", \"r\")  #we are assuming that some file is present and we can read it\n",
    "f.write(\"kjhvkjdah\")   #when we try to write inside, no such file directory"
   ]
  },
  {
   "cell_type": "code",
   "execution_count": 12,
   "id": "dc9d6654",
   "metadata": {},
   "outputs": [],
   "source": [
    "#Suspicious code : then write inside try block: try will protect me to execute and write other line of code"
   ]
  },
  {
   "cell_type": "code",
   "execution_count": 16,
   "id": "abb88844",
   "metadata": {},
   "outputs": [
    {
     "ename": "SyntaxError",
     "evalue": "unexpected EOF while parsing (<ipython-input-16-6f05dbe403d0>, line 4)",
     "output_type": "error",
     "traceback": [
      "\u001b[1;36m  File \u001b[1;32m\"<ipython-input-16-6f05dbe403d0>\"\u001b[1;36m, line \u001b[1;32m4\u001b[0m\n\u001b[1;33m    \u001b[0m\n\u001b[1;37m    ^\u001b[0m\n\u001b[1;31mSyntaxError\u001b[0m\u001b[1;31m:\u001b[0m unexpected EOF while parsing\n"
     ]
    }
   ],
   "source": [
    "try:\n",
    "    f = open(\"test.txt\", \"r\")\n",
    "    f.write(\"kdhfaj\")\n",
    "\n",
    "\n",
    "\n"
   ]
  },
  {
   "cell_type": "code",
   "execution_count": 15,
   "id": "9d25c486",
   "metadata": {},
   "outputs": [],
   "source": [
    "#2 types of error: 1.Compile time:Syntax error-handled by ourself and 2. Run time error\n",
    "#Exception handling works only in case of run time error"
   ]
  },
  {
   "cell_type": "code",
   "execution_count": 19,
   "id": "4676d954",
   "metadata": {},
   "outputs": [
    {
     "name": "stdout",
     "output_type": "stream",
     "text": [
      "there was a mistake\n",
      "this is my code\n"
     ]
    }
   ],
   "source": [
    "try:\n",
    "    f = open(\"test.txt\", \"r\")\n",
    "    f.write(\"kdhfaj\")\n",
    "except:\n",
    "    print(\"there was a mistake\")\n",
    "print(\"this is my code\")"
   ]
  },
  {
   "cell_type": "code",
   "execution_count": 20,
   "id": "3669688a",
   "metadata": {},
   "outputs": [],
   "source": [
    "#when there will be an issue with try block it will directly come to except block \n",
    "#when except block will be executed, indicating there is some issue with try block code"
   ]
  },
  {
   "cell_type": "code",
   "execution_count": 23,
   "id": "9d57e6f2",
   "metadata": {},
   "outputs": [
    {
     "ename": "SyntaxError",
     "evalue": "unexpected EOF while parsing (<ipython-input-23-e0800db7df48>, line 7)",
     "output_type": "error",
     "traceback": [
      "\u001b[1;36m  File \u001b[1;32m\"<ipython-input-23-e0800db7df48>\"\u001b[1;36m, line \u001b[1;32m7\u001b[0m\n\u001b[1;33m    \u001b[0m\n\u001b[1;37m    ^\u001b[0m\n\u001b[1;31mSyntaxError\u001b[0m\u001b[1;31m:\u001b[0m unexpected EOF while parsing\n"
     ]
    }
   ],
   "source": [
    "#\n",
    "#No place to handle the error which is done by using except block\n",
    "\n",
    "try:\n",
    "    f = open(\"test.txt\", \"r\")\n",
    "    f.write(\"kdhfaj\")\n",
    "    "
   ]
  },
  {
   "cell_type": "code",
   "execution_count": 26,
   "id": "db4d56d4",
   "metadata": {},
   "outputs": [
    {
     "ename": "SyntaxError",
     "evalue": "invalid syntax (<ipython-input-26-0af2fc39bcc4>, line 4)",
     "output_type": "error",
     "traceback": [
      "\u001b[1;36m  File \u001b[1;32m\"<ipython-input-26-0af2fc39bcc4>\"\u001b[1;36m, line \u001b[1;32m4\u001b[0m\n\u001b[1;33m    for i range(len(l)):\u001b[0m\n\u001b[1;37m          ^\u001b[0m\n\u001b[1;31mSyntaxError\u001b[0m\u001b[1;31m:\u001b[0m invalid syntax\n"
     ]
    }
   ],
   "source": [
    "l = [3,4,5,6,7,8,9,0]\n",
    "\n",
    "try:\n",
    "    for i range(len(l)):\n",
    "        print(l)\n",
    "        \n",
    "except:\n",
    "    print(\"This is my code\")\n",
    "    \n",
    "#try and except will not handle syntactical error"
   ]
  },
  {
   "cell_type": "code",
   "execution_count": 27,
   "id": "ba5a7c5d",
   "metadata": {},
   "outputs": [
    {
     "name": "stdout",
     "output_type": "stream",
     "text": [
      "[3, 4, 5, 6, 7, 8, 9, 0]\n",
      "[3, 4, 5, 6, 7, 8, 9, 0]\n",
      "[3, 4, 5, 6, 7, 8, 9, 0]\n",
      "[3, 4, 5, 6, 7, 8, 9, 0]\n",
      "[3, 4, 5, 6, 7, 8, 9, 0]\n",
      "[3, 4, 5, 6, 7, 8, 9, 0]\n",
      "[3, 4, 5, 6, 7, 8, 9, 0]\n",
      "[3, 4, 5, 6, 7, 8, 9, 0]\n"
     ]
    }
   ],
   "source": [
    "l = [3,4,5,6,7,8,9,0]\n",
    "\n",
    "try:\n",
    "    for i in range(len(l)):\n",
    "        print(l)\n",
    "        \n",
    "except:\n",
    "    print(\"This is my code\")"
   ]
  },
  {
   "cell_type": "code",
   "execution_count": 28,
   "id": "4a0adf24",
   "metadata": {},
   "outputs": [
    {
     "name": "stdout",
     "output_type": "stream",
     "text": [
      "[3, 4, 5, 6, 7, 8, 9, 0]\n",
      "[3, 4, 5, 6, 7, 8, 9, 0]\n",
      "[3, 4, 5, 6, 7, 8, 9, 0]\n",
      "[3, 4, 5, 6, 7, 8, 9, 0]\n",
      "[3, 4, 5, 6, 7, 8, 9, 0]\n",
      "[3, 4, 5, 6, 7, 8, 9, 0]\n",
      "[3, 4, 5, 6, 7, 8, 9, 0]\n",
      "[3, 4, 5, 6, 7, 8, 9, 0]\n",
      "[3, 4, 5, 6, 7, 8, 9, 0]\n"
     ]
    }
   ],
   "source": [
    "l = [3,4,5,6,7,8,9,0]\n",
    "\n",
    "try:\n",
    "    for i in range(len(l)+1):\n",
    "        print(l)\n",
    "except:\n",
    "    print(\"This is my code\")"
   ]
  },
  {
   "cell_type": "code",
   "execution_count": 29,
   "id": "4aee73df",
   "metadata": {},
   "outputs": [
    {
     "name": "stdout",
     "output_type": "stream",
     "text": [
      "3\n",
      "4\n",
      "5\n",
      "6\n",
      "7\n",
      "8\n",
      "9\n",
      "0\n"
     ]
    },
    {
     "ename": "IndexError",
     "evalue": "list index out of range",
     "output_type": "error",
     "traceback": [
      "\u001b[1;31m---------------------------------------------------------------------------\u001b[0m",
      "\u001b[1;31mIndexError\u001b[0m                                Traceback (most recent call last)",
      "\u001b[1;32m<ipython-input-29-da32aecf8d07>\u001b[0m in \u001b[0;36m<module>\u001b[1;34m\u001b[0m\n\u001b[0;32m      1\u001b[0m \u001b[0ml\u001b[0m \u001b[1;33m=\u001b[0m \u001b[1;33m[\u001b[0m\u001b[1;36m3\u001b[0m\u001b[1;33m,\u001b[0m\u001b[1;36m4\u001b[0m\u001b[1;33m,\u001b[0m\u001b[1;36m5\u001b[0m\u001b[1;33m,\u001b[0m\u001b[1;36m6\u001b[0m\u001b[1;33m,\u001b[0m\u001b[1;36m7\u001b[0m\u001b[1;33m,\u001b[0m\u001b[1;36m8\u001b[0m\u001b[1;33m,\u001b[0m\u001b[1;36m9\u001b[0m\u001b[1;33m,\u001b[0m\u001b[1;36m0\u001b[0m\u001b[1;33m]\u001b[0m\u001b[1;33m\u001b[0m\u001b[1;33m\u001b[0m\u001b[0m\n\u001b[0;32m      2\u001b[0m \u001b[1;32mfor\u001b[0m \u001b[0mi\u001b[0m \u001b[1;32min\u001b[0m \u001b[0mrange\u001b[0m\u001b[1;33m(\u001b[0m\u001b[0mlen\u001b[0m\u001b[1;33m(\u001b[0m\u001b[0ml\u001b[0m\u001b[1;33m)\u001b[0m\u001b[1;33m+\u001b[0m\u001b[1;36m1\u001b[0m\u001b[1;33m)\u001b[0m\u001b[1;33m:\u001b[0m\u001b[1;33m\u001b[0m\u001b[1;33m\u001b[0m\u001b[0m\n\u001b[1;32m----> 3\u001b[1;33m         \u001b[0mprint\u001b[0m\u001b[1;33m(\u001b[0m\u001b[0ml\u001b[0m\u001b[1;33m[\u001b[0m\u001b[0mi\u001b[0m\u001b[1;33m]\u001b[0m\u001b[1;33m)\u001b[0m\u001b[1;33m\u001b[0m\u001b[1;33m\u001b[0m\u001b[0m\n\u001b[0m",
      "\u001b[1;31mIndexError\u001b[0m: list index out of range"
     ]
    }
   ],
   "source": [
    "l = [3,4,5,6,7,8,9,0]\n",
    "for i in range(len(l)+1):\n",
    "        print(l[i])"
   ]
  },
  {
   "cell_type": "code",
   "execution_count": 31,
   "id": "49349811",
   "metadata": {},
   "outputs": [
    {
     "name": "stdout",
     "output_type": "stream",
     "text": [
      "3\n",
      "4\n",
      "5\n",
      "6\n",
      "7\n",
      "8\n",
      "9\n",
      "0\n",
      "this is my code\n",
      "jhcsvhckhscks\n"
     ]
    }
   ],
   "source": [
    "l = [3,4,5,6,7,8,9,0]\n",
    "\n",
    "try:\n",
    "    for i in range(len(l)+1):\n",
    "        print(l[i])\n",
    "except:\n",
    "    print(\"this is my code\")\n",
    "print(\"jhcsvhckhscks\")"
   ]
  },
  {
   "cell_type": "code",
   "execution_count": 32,
   "id": "1f9e2093",
   "metadata": {},
   "outputs": [
    {
     "ename": "ZeroDivisionError",
     "evalue": "division by zero",
     "output_type": "error",
     "traceback": [
      "\u001b[1;31m---------------------------------------------------------------------------\u001b[0m",
      "\u001b[1;31mZeroDivisionError\u001b[0m                         Traceback (most recent call last)",
      "\u001b[1;32m<ipython-input-32-0106664d39e8>\u001b[0m in \u001b[0;36m<module>\u001b[1;34m\u001b[0m\n\u001b[1;32m----> 1\u001b[1;33m \u001b[1;36m5\u001b[0m\u001b[1;33m/\u001b[0m\u001b[1;36m0\u001b[0m\u001b[1;33m\u001b[0m\u001b[1;33m\u001b[0m\u001b[0m\n\u001b[0m",
      "\u001b[1;31mZeroDivisionError\u001b[0m: division by zero"
     ]
    }
   ],
   "source": [
    "5/0"
   ]
  },
  {
   "cell_type": "code",
   "execution_count": 37,
   "id": "a03680bc",
   "metadata": {},
   "outputs": [
    {
     "name": "stdout",
     "output_type": "stream",
     "text": [
      "3\n",
      "4\n",
      "5\n",
      "6\n",
      "7\n",
      "8\n",
      "9\n",
      "0\n",
      "this is my code Error is:  list index out of range\n",
      "jhcsvhckhscks\n"
     ]
    }
   ],
   "source": [
    "#To write which error has occured or we have introduced: \n",
    "#we write Exception as e and further call e in the code\n",
    "\n",
    "l = [3,4,5,6,7,8,9,0]\n",
    "\n",
    "try:\n",
    "    for i in range(len(l)+1):\n",
    "        print(l[i])\n",
    "except Exception as e:\n",
    "    print(\"this is my code\",\"Error is: \",e)\n",
    "print(\"jhcsvhckhscks\")"
   ]
  },
  {
   "cell_type": "code",
   "execution_count": 40,
   "id": "125afa81",
   "metadata": {},
   "outputs": [
    {
     "name": "stdout",
     "output_type": "stream",
     "text": [
      "KJDADHFADF\n",
      "invalid literal for int() with base 10: 'KJDADHFADF'\n",
      "hdsghkSBC\n"
     ]
    }
   ],
   "source": [
    "try: \n",
    "    a = int(input())\n",
    "    b = int(input())\n",
    "except Exception as e:\n",
    "    print(e)\n",
    "print(\"hdsghkSBC\")\n",
    "    "
   ]
  },
  {
   "cell_type": "code",
   "execution_count": 2,
   "id": "04c471ab",
   "metadata": {},
   "outputs": [
    {
     "name": "stdout",
     "output_type": "stream",
     "text": [
      "This is my handler\n",
      "1\n",
      "2\n",
      "3\n",
      "4\n"
     ]
    }
   ],
   "source": [
    " try:\n",
    "    f = open(\"test1\", \"r\")\n",
    "    f.write(\"this is my code with exceptional handling\")\n",
    "    print(\"This is my code after write ops\")\n",
    "except:\n",
    "    print(\"This is my handler\")\n",
    "l = [1,2,3,4]\n",
    "for i in l:\n",
    "    print(i)"
   ]
  },
  {
   "cell_type": "code",
   "execution_count": 4,
   "id": "c81746a7",
   "metadata": {},
   "outputs": [
    {
     "name": "stdout",
     "output_type": "stream",
     "text": [
      "hgfhjk\n",
      "invalid literal for int() with base 10: 'hgfhjk'\n"
     ]
    }
   ],
   "source": [
    "try :\n",
    "    d = {\"key1\":\"sudh\", \"key2\": [1,2,3,4,5], \"key3\": (4,5,6,7)}\n",
    "    d[\"key4\"] = int(input())\n",
    "except Exception as e:\n",
    "    print(e)"
   ]
  },
  {
   "cell_type": "code",
   "execution_count": null,
   "id": "a3f76044",
   "metadata": {},
   "outputs": [],
   "source": []
  },
  {
   "cell_type": "code",
   "execution_count": 5,
   "id": "f31a4751",
   "metadata": {},
   "outputs": [],
   "source": [
    "#Exception is a superclass \n",
    "#Value error is subclass"
   ]
  },
  {
   "cell_type": "code",
   "execution_count": 6,
   "id": "41eee1b7",
   "metadata": {},
   "outputs": [
    {
     "name": "stdout",
     "output_type": "stream",
     "text": [
      "hdgfka\n",
      "invalid literal for int() with base 10: 'hdgfka'\n"
     ]
    }
   ],
   "source": [
    "try :\n",
    "    d = {\"key1\":\"sudh\", \"key2\": [1,2,3,4,5], \"key3\": (4,5,6,7)}\n",
    "    d[\"key4\"] = int(input())\n",
    "except ValueError as e:\n",
    "    print(e)"
   ]
  },
  {
   "cell_type": "code",
   "execution_count": 7,
   "id": "81a2059a",
   "metadata": {},
   "outputs": [
    {
     "name": "stdout",
     "output_type": "stream",
     "text": [
      "832547\n",
      "This is my exception class  [Errno 2] No such file or directory: 'test2'\n"
     ]
    }
   ],
   "source": [
    "try :\n",
    "    d = {\"key1\":\"sudh\", \"key2\": [1,2,3,4,5], \"key3\": (4,5,6,7)}\n",
    "    d[\"key4\"] = int(input())\n",
    "    f = open(\"test2\", \"r\")\n",
    "except Exception as e:\n",
    "    print(\"This is my exception class \", e)\n",
    "except ValueError as sudh:\n",
    "    print(sudh)\n",
    "except FileNotFoundError as e:\n",
    "    print(e)"
   ]
  },
  {
   "cell_type": "code",
   "execution_count": 8,
   "id": "d153d396",
   "metadata": {},
   "outputs": [
    {
     "name": "stdout",
     "output_type": "stream",
     "text": [
      "jschkjghkj\n",
      "invalid literal for int() with base 10: 'jschkjghkj'\n"
     ]
    }
   ],
   "source": [
    "try :\n",
    "    d = {\"key1\":\"sudh\", \"key2\": [1,2,3,4,5], \"key3\": (4,5,6,7)}\n",
    "    d[\"key4\"] = int(input())\n",
    "    f = open(\"test2\", \"r\")\n",
    "except ValueError as sudh:\n",
    "    print(sudh)\n",
    "except FileNotFoundError as e:\n",
    "    print(e)\n",
    "except Exception as e:\n",
    "    print(\"This is my exception class \", e)"
   ]
  },
  {
   "cell_type": "code",
   "execution_count": 10,
   "id": "364cf34b",
   "metadata": {},
   "outputs": [],
   "source": [
    "#Try, Except and else block: only in python"
   ]
  },
  {
   "cell_type": "code",
   "execution_count": 11,
   "id": "5820f920",
   "metadata": {},
   "outputs": [
    {
     "name": "stdout",
     "output_type": "stream",
     "text": [
      "This will be executed once my try block will be executed succesfully\n"
     ]
    }
   ],
   "source": [
    "try:\n",
    "    f = open(\"test1.txt\", \"w\")\n",
    "    f.write(\"This is my code in try \")\n",
    "except Exception as e:\n",
    "    print(\"This will handle an error\")\n",
    "else:\n",
    "    print(\"This will be executed once my try block will be executed succesfully\")\n",
    "    f.close()"
   ]
  },
  {
   "cell_type": "code",
   "execution_count": 1,
   "id": "2b6bc2a9",
   "metadata": {},
   "outputs": [],
   "source": [
    "#Finally Block: ec=xecute all the time, doesnt matter if your try has failed "
   ]
  },
  {
   "cell_type": "code",
   "execution_count": 3,
   "id": "26c752ad",
   "metadata": {},
   "outputs": [
    {
     "name": "stdout",
     "output_type": "stream",
     "text": [
      "mdahfhdafkehf [Errno 2] No such file or directory: 'test43'\n",
      "Pointless arguments\n"
     ]
    }
   ],
   "source": [
    "try:\n",
    "    f = open(\"test43\", 'r')\n",
    "except Exception as e:\n",
    "    print(\"mdahfhdafkehf\", e)\n",
    "else:           \n",
    "    print(\"Do this on successful execution of try block\")\n",
    "finally:\n",
    "    print(\"Pointless arguments/ do this for sure\")\n",
    "    "
   ]
  },
  {
   "cell_type": "code",
   "execution_count": 2,
   "id": "e52a6388",
   "metadata": {},
   "outputs": [
    {
     "name": "stdout",
     "output_type": "stream",
     "text": [
      "He said Pointless arguments in the fight story   \n",
      "We reconciled\n",
      "Let go\n",
      "Never stop loving\n"
     ]
    }
   ],
   "source": [
    "try:\n",
    "    f = open(\"fightstory.txt\", \"w\")\n",
    "except Exception as e:\n",
    "    print(\"No fight\", e)\n",
    "else:           \n",
    "    print(\"He said Pointless arguments in the fight story   \")\n",
    "finally:\n",
    "    print(\"We reconciled\")\n",
    "    try:\n",
    "        f = open(\"Solve it\", \"r\")\n",
    "        \n",
    "    except:\n",
    "        print(\"Let go\")\n",
    "        \n",
    "    finally:\n",
    "        print(\"Never stop loving\")"
   ]
  },
  {
   "cell_type": "code",
   "execution_count": 4,
   "id": "7fe337e5",
   "metadata": {},
   "outputs": [],
   "source": [
    "def askint():\n",
    "    try:\n",
    "        a = int(input())\n",
    "        return a \n",
    "    except Exception as e:\n",
    "        print(\"This is my input error \", e)"
   ]
  },
  {
   "cell_type": "code",
   "execution_count": 5,
   "id": "da1cf9de",
   "metadata": {},
   "outputs": [
    {
     "name": "stdout",
     "output_type": "stream",
     "text": [
      "345\n"
     ]
    },
    {
     "data": {
      "text/plain": [
       "345"
      ]
     },
     "execution_count": 5,
     "metadata": {},
     "output_type": "execute_result"
    }
   ],
   "source": [
    "askint()"
   ]
  },
  {
   "cell_type": "code",
   "execution_count": 6,
   "id": "fae8d7b4",
   "metadata": {},
   "outputs": [
    {
     "name": "stdout",
     "output_type": "stream",
     "text": [
      "djvakfhefh\n",
      "This is my input error  invalid literal for int() with base 10: 'djvakfhefh'\n"
     ]
    }
   ],
   "source": [
    "askint()"
   ]
  },
  {
   "cell_type": "code",
   "execution_count": 7,
   "id": "d0475067",
   "metadata": {},
   "outputs": [],
   "source": [
    "#Task Write a functijon that will keep asking u to give an integer until we do not enter integer"
   ]
  },
  {
   "cell_type": "code",
   "execution_count": 8,
   "id": "39f6e35c",
   "metadata": {},
   "outputs": [],
   "source": [
    "def askint():\n",
    "    while True:\n",
    "        try:\n",
    "            a = int(input())\n",
    "            return a \n",
    "        except Exception as e:\n",
    "            print(\"Please enter again\")\n",
    "            continue\n",
    "        else:\n",
    "            break \n",
    "             "
   ]
  },
  {
   "cell_type": "code",
   "execution_count": 9,
   "id": "0e4e5217",
   "metadata": {},
   "outputs": [
    {
     "name": "stdout",
     "output_type": "stream",
     "text": [
      "kjdsfh\n",
      "Please enter again\n",
      "dfhk\n",
      "Please enter again\n",
      "sjfhks\n",
      "Please enter again\n",
      "3\n"
     ]
    },
    {
     "data": {
      "text/plain": [
       "3"
      ]
     },
     "execution_count": 9,
     "metadata": {},
     "output_type": "execute_result"
    }
   ],
   "source": [
    "askint()"
   ]
  },
  {
   "cell_type": "code",
   "execution_count": 1,
   "id": "51a2481d",
   "metadata": {},
   "outputs": [
    {
     "name": "stdout",
     "output_type": "stream",
     "text": [
      "Enter the integer: dmew\n",
      "Nah, you did not an integer, please enter an integer, ERROR:  invalid literal for int() with base 10: 'dmew'\n",
      "Enter the integer: gsjhvj\n",
      "Nah, you did not an integer, please enter an integer, ERROR:  invalid literal for int() with base 10: 'gsjhvj'\n",
      "Enter the integer: fvhrjbds\n",
      "Nah, you did not an integer, please enter an integer, ERROR:  invalid literal for int() with base 10: 'fvhrjbds'\n",
      "Enter the integer: 3\n"
     ]
    },
    {
     "data": {
      "text/plain": [
       "'Yes You have entered an integer'"
      ]
     },
     "execution_count": 1,
     "metadata": {},
     "output_type": "execute_result"
    }
   ],
   "source": [
    "def fun1():\n",
    "    flag=True\n",
    "    while flag:\n",
    "        try:\n",
    "            a=int(input(\"Enter the integer: \"))\n",
    "            if type(a)==int:\n",
    "                return \"Yes You have entered an integer\"\n",
    "                flag=False\n",
    "                \n",
    "                \n",
    "        except Exception as e:\n",
    "            print(\"Nah, you did not an integer, please enter an integer, ERROR: \", e)\n",
    "            \n",
    "fun1()"
   ]
  },
  {
   "cell_type": "code",
   "execution_count": 1,
   "id": "796d83cc",
   "metadata": {},
   "outputs": [
    {
     "name": "stdout",
     "output_type": "stream",
     "text": [
      "fjesfhg\n",
      "Enter the input again invalid literal for int() with base 10: 'fjesfhg'\n",
      "dbxvb\n",
      "Enter the input again invalid literal for int() with base 10: 'dbxvb'\n",
      "423\n"
     ]
    }
   ],
   "source": [
    "def integer():\n",
    "    while True:\n",
    "        \"\"\"Function asks for an integer unless provided otherwise\"\"\"\n",
    "        try:\n",
    "            x = int(input())\n",
    "            break\n",
    "        except ValueError as e:\n",
    "            print(\"Enter the input again\", e)\n",
    "            \n",
    "integer()"
   ]
  },
  {
   "cell_type": "code",
   "execution_count": 2,
   "id": "9672291d",
   "metadata": {},
   "outputs": [],
   "source": [
    "def test(a):\n",
    "    if a < 0:\n",
    "        raise Exception(a)\n",
    "    return a "
   ]
  },
  {
   "cell_type": "code",
   "execution_count": 3,
   "id": "5b72c68f",
   "metadata": {},
   "outputs": [
    {
     "data": {
      "text/plain": [
       "4"
      ]
     },
     "execution_count": 3,
     "metadata": {},
     "output_type": "execute_result"
    }
   ],
   "source": [
    "test(4)"
   ]
  },
  {
   "cell_type": "code",
   "execution_count": 4,
   "id": "f031e668",
   "metadata": {},
   "outputs": [
    {
     "ename": "Exception",
     "evalue": "-4",
     "output_type": "error",
     "traceback": [
      "\u001b[1;31m---------------------------------------------------------------------------\u001b[0m",
      "\u001b[1;31mException\u001b[0m                                 Traceback (most recent call last)",
      "\u001b[1;32m<ipython-input-4-d2bb95962d49>\u001b[0m in \u001b[0;36m<module>\u001b[1;34m\u001b[0m\n\u001b[1;32m----> 1\u001b[1;33m \u001b[0mtest\u001b[0m\u001b[1;33m(\u001b[0m\u001b[1;33m-\u001b[0m\u001b[1;36m4\u001b[0m\u001b[1;33m)\u001b[0m\u001b[1;33m\u001b[0m\u001b[1;33m\u001b[0m\u001b[0m\n\u001b[0m",
      "\u001b[1;32m<ipython-input-2-21eabc31a43d>\u001b[0m in \u001b[0;36mtest\u001b[1;34m(a)\u001b[0m\n\u001b[0;32m      1\u001b[0m \u001b[1;32mdef\u001b[0m \u001b[0mtest\u001b[0m\u001b[1;33m(\u001b[0m\u001b[0ma\u001b[0m\u001b[1;33m)\u001b[0m\u001b[1;33m:\u001b[0m\u001b[1;33m\u001b[0m\u001b[1;33m\u001b[0m\u001b[0m\n\u001b[0;32m      2\u001b[0m     \u001b[1;32mif\u001b[0m \u001b[0ma\u001b[0m \u001b[1;33m<\u001b[0m \u001b[1;36m0\u001b[0m\u001b[1;33m:\u001b[0m\u001b[1;33m\u001b[0m\u001b[1;33m\u001b[0m\u001b[0m\n\u001b[1;32m----> 3\u001b[1;33m         \u001b[1;32mraise\u001b[0m \u001b[0mException\u001b[0m\u001b[1;33m(\u001b[0m\u001b[0ma\u001b[0m\u001b[1;33m)\u001b[0m\u001b[1;33m\u001b[0m\u001b[1;33m\u001b[0m\u001b[0m\n\u001b[0m\u001b[0;32m      4\u001b[0m     \u001b[1;32mreturn\u001b[0m \u001b[0ma\u001b[0m\u001b[1;33m\u001b[0m\u001b[1;33m\u001b[0m\u001b[0m\n",
      "\u001b[1;31mException\u001b[0m: -4"
     ]
    }
   ],
   "source": [
    "test(-4)"
   ]
  },
  {
   "cell_type": "code",
   "execution_count": 5,
   "id": "eaf3ed85",
   "metadata": {},
   "outputs": [],
   "source": [
    "#Raising your own exception(overriding )\n",
    "\n",
    "def test(a):\n",
    "    if a < 0:\n",
    "        raise ZeroDivisionError(\"you have entered a negative value\", a)\n",
    "    return a"
   ]
  },
  {
   "cell_type": "code",
   "execution_count": 6,
   "id": "0b3cf5fd",
   "metadata": {},
   "outputs": [
    {
     "ename": "ZeroDivisionError",
     "evalue": "('you have entered a negative value', -4)",
     "output_type": "error",
     "traceback": [
      "\u001b[1;31m---------------------------------------------------------------------------\u001b[0m",
      "\u001b[1;31mZeroDivisionError\u001b[0m                         Traceback (most recent call last)",
      "\u001b[1;32m<ipython-input-6-d2bb95962d49>\u001b[0m in \u001b[0;36m<module>\u001b[1;34m\u001b[0m\n\u001b[1;32m----> 1\u001b[1;33m \u001b[0mtest\u001b[0m\u001b[1;33m(\u001b[0m\u001b[1;33m-\u001b[0m\u001b[1;36m4\u001b[0m\u001b[1;33m)\u001b[0m\u001b[1;33m\u001b[0m\u001b[1;33m\u001b[0m\u001b[0m\n\u001b[0m",
      "\u001b[1;32m<ipython-input-5-a7298b55f3ed>\u001b[0m in \u001b[0;36mtest\u001b[1;34m(a)\u001b[0m\n\u001b[0;32m      1\u001b[0m \u001b[1;32mdef\u001b[0m \u001b[0mtest\u001b[0m\u001b[1;33m(\u001b[0m\u001b[0ma\u001b[0m\u001b[1;33m)\u001b[0m\u001b[1;33m:\u001b[0m\u001b[1;33m\u001b[0m\u001b[1;33m\u001b[0m\u001b[0m\n\u001b[0;32m      2\u001b[0m     \u001b[1;32mif\u001b[0m \u001b[0ma\u001b[0m \u001b[1;33m<\u001b[0m \u001b[1;36m0\u001b[0m\u001b[1;33m:\u001b[0m\u001b[1;33m\u001b[0m\u001b[1;33m\u001b[0m\u001b[0m\n\u001b[1;32m----> 3\u001b[1;33m         \u001b[1;32mraise\u001b[0m \u001b[0mZeroDivisionError\u001b[0m\u001b[1;33m(\u001b[0m\u001b[1;34m\"you have entered a negative value\"\u001b[0m\u001b[1;33m,\u001b[0m \u001b[0ma\u001b[0m\u001b[1;33m)\u001b[0m\u001b[1;33m\u001b[0m\u001b[1;33m\u001b[0m\u001b[0m\n\u001b[0m\u001b[0;32m      4\u001b[0m     \u001b[1;32mreturn\u001b[0m \u001b[0ma\u001b[0m\u001b[1;33m\u001b[0m\u001b[1;33m\u001b[0m\u001b[0m\n",
      "\u001b[1;31mZeroDivisionError\u001b[0m: ('you have entered a negative value', -4)"
     ]
    }
   ],
   "source": [
    "test(-4)"
   ]
  },
  {
   "cell_type": "code",
   "execution_count": null,
   "id": "e2c77487",
   "metadata": {},
   "outputs": [],
   "source": []
  }
 ],
 "metadata": {
  "kernelspec": {
   "display_name": "Python 3",
   "language": "python",
   "name": "python3"
  },
  "language_info": {
   "codemirror_mode": {
    "name": "ipython",
    "version": 3
   },
   "file_extension": ".py",
   "mimetype": "text/x-python",
   "name": "python",
   "nbconvert_exporter": "python",
   "pygments_lexer": "ipython3",
   "version": "3.8.8"
  }
 },
 "nbformat": 4,
 "nbformat_minor": 5
}
