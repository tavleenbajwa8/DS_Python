{
 "cells": [
  {
   "cell_type": "code",
   "execution_count": 1,
   "id": "ccacb629",
   "metadata": {},
   "outputs": [],
   "source": [
    "#Oops continue"
   ]
  },
  {
   "cell_type": "code",
   "execution_count": 17,
   "id": "d42991c2",
   "metadata": {},
   "outputs": [],
   "source": [
    "class car: \n",
    "    def __init__(self, body_type, engine, fuel_type):\n",
    "            self.body_type1 = body_type\n",
    "            self.engine = engine\n",
    "            self.fuel_type = fuel_type\n",
    "            \n",
    "    def test(self):\n",
    "        print(\"First method in car class\")"
   ]
  },
  {
   "cell_type": "code",
   "execution_count": 18,
   "id": "1490967c",
   "metadata": {},
   "outputs": [
    {
     "name": "stdout",
     "output_type": "stream",
     "text": [
      "\n"
     ]
    }
   ],
   "source": [
    "a = input()"
   ]
  },
  {
   "cell_type": "code",
   "execution_count": 19,
   "id": "78ae957d",
   "metadata": {},
   "outputs": [
    {
     "name": "stdout",
     "output_type": "stream",
     "text": [
      "<class 'str'>\n"
     ]
    }
   ],
   "source": [
    "print(type(a))"
   ]
  },
  {
   "cell_type": "code",
   "execution_count": 20,
   "id": "b152f006",
   "metadata": {},
   "outputs": [],
   "source": [
    "fortuner = car(\"toyota\", \"petrol\", \"suv\")\n",
    "\n",
    "#Constructor(__init__) is responsible for providing data to the car class"
   ]
  },
  {
   "cell_type": "code",
   "execution_count": 21,
   "id": "10dea518",
   "metadata": {},
   "outputs": [],
   "source": [
    "#\"toyota\", \"petrol\", \"suv\" will be passed to def __init__(self, body_type, engine, fuel_type): respectively\n",
    "#Further they will come to pointer statements resp: self.body_type = body_type, self.engine = engine, self.fuel_type = fuel_type\n",
    "# Eg:  self.engine(Variable) = engine(Its value) all the data will be passed to the class car"
   ]
  },
  {
   "cell_type": "code",
   "execution_count": 22,
   "id": "8463d59d",
   "metadata": {},
   "outputs": [],
   "source": [
    "nexon = car(\"suv\", \"diesel\", \"jsh\")"
   ]
  },
  {
   "cell_type": "code",
   "execution_count": 23,
   "id": "dba141b7",
   "metadata": {},
   "outputs": [],
   "source": [
    "#To access anything from the class: We use class variable/object"
   ]
  },
  {
   "cell_type": "code",
   "execution_count": 24,
   "id": "7bb04120",
   "metadata": {},
   "outputs": [
    {
     "data": {
      "text/plain": [
       "'toyota'"
      ]
     },
     "execution_count": 24,
     "metadata": {},
     "output_type": "execute_result"
    }
   ],
   "source": [
    "fortuner.body_type1  #its calling (self.body_type = body_type)"
   ]
  },
  {
   "cell_type": "code",
   "execution_count": 25,
   "id": "7388d43c",
   "metadata": {},
   "outputs": [
    {
     "data": {
      "text/plain": [
       "'diesel'"
      ]
     },
     "execution_count": 25,
     "metadata": {},
     "output_type": "execute_result"
    }
   ],
   "source": [
    "nexon.engine"
   ]
  },
  {
   "cell_type": "code",
   "execution_count": 26,
   "id": "4a2f4318",
   "metadata": {},
   "outputs": [],
   "source": [
    "#execute test method outside the class"
   ]
  },
  {
   "cell_type": "code",
   "execution_count": 27,
   "id": "10942abb",
   "metadata": {},
   "outputs": [
    {
     "name": "stdout",
     "output_type": "stream",
     "text": [
      "First method in car class\n"
     ]
    }
   ],
   "source": [
    "fortuner.test()"
   ]
  },
  {
   "cell_type": "code",
   "execution_count": 33,
   "id": "8910c173",
   "metadata": {},
   "outputs": [],
   "source": [
    "class car: \n",
    "    def __init__(s, body_type, engine, fuel_type, owner):\n",
    "            s.body_type1 = body_type\n",
    "            s.engine = engine\n",
    "            s.fuel_type = fuel_type\n",
    "            s.a = owner\n",
    "            \n",
    "    def test(self):\n",
    "        print(\"First method in car class\")"
   ]
  },
  {
   "cell_type": "code",
   "execution_count": 34,
   "id": "cf19f533",
   "metadata": {},
   "outputs": [
    {
     "data": {
      "text/plain": [
       "'toyota'"
      ]
     },
     "execution_count": 34,
     "metadata": {},
     "output_type": "execute_result"
    }
   ],
   "source": [
    "fortuner.body_type1"
   ]
  },
  {
   "cell_type": "code",
   "execution_count": 35,
   "id": "d8acf66b",
   "metadata": {},
   "outputs": [
    {
     "ename": "AttributeError",
     "evalue": "'car' object has no attribute 'a'",
     "output_type": "error",
     "traceback": [
      "\u001b[1;31m---------------------------------------------------------------------------\u001b[0m",
      "\u001b[1;31mAttributeError\u001b[0m                            Traceback (most recent call last)",
      "\u001b[1;32m<ipython-input-35-fcc11d17b6d2>\u001b[0m in \u001b[0;36m<module>\u001b[1;34m\u001b[0m\n\u001b[1;32m----> 1\u001b[1;33m \u001b[0mfortuner\u001b[0m\u001b[1;33m.\u001b[0m\u001b[0ma\u001b[0m\u001b[1;33m\u001b[0m\u001b[1;33m\u001b[0m\u001b[0m\n\u001b[0m",
      "\u001b[1;31mAttributeError\u001b[0m: 'car' object has no attribute 'a'"
     ]
    }
   ],
   "source": [
    "fortuner.a"
   ]
  },
  {
   "cell_type": "code",
   "execution_count": 40,
   "id": "01743581",
   "metadata": {},
   "outputs": [],
   "source": [
    "class Penn:\n",
    "                \n",
    "    def test1(self, b, c):\n",
    "        print(\"Init is only required to pass data, otherwise it is not required, we can call class car without it also\")"
   ]
  },
  {
   "cell_type": "code",
   "execution_count": 41,
   "id": "34538de7",
   "metadata": {},
   "outputs": [],
   "source": [
    "x = Penn()   #x is an object of class Penn"
   ]
  },
  {
   "cell_type": "code",
   "execution_count": 44,
   "id": "3ac848ee",
   "metadata": {},
   "outputs": [
    {
     "name": "stdout",
     "output_type": "stream",
     "text": [
      "<class '__main__.Penn'>\n"
     ]
    }
   ],
   "source": [
    "print(type(x))"
   ]
  },
  {
   "cell_type": "code",
   "execution_count": 43,
   "id": "dd91baf0",
   "metadata": {},
   "outputs": [
    {
     "name": "stdout",
     "output_type": "stream",
     "text": [
      "Init is only required to pass data, otherwise it is not required, we can call class car without it also\n"
     ]
    }
   ],
   "source": [
    "x.test1(3,4)"
   ]
  },
  {
   "cell_type": "code",
   "execution_count": 54,
   "id": "aa54de67",
   "metadata": {},
   "outputs": [],
   "source": [
    "class list_parser:\n",
    "    \n",
    "    def __init__(self, l):\n",
    "        self.l = l\n",
    "    \n",
    "    def parcer(self):\n",
    "        if type(self.l) == list:\n",
    "            for i in self.l:\n",
    "                print(i)\n",
    "                \n",
    "    def reverser_list(self):\n",
    "        if type(self.l) == list:\n",
    "            return self.l[::-1]"
   ]
  },
  {
   "cell_type": "code",
   "execution_count": 52,
   "id": "01899831",
   "metadata": {},
   "outputs": [
    {
     "name": "stdout",
     "output_type": "stream",
     "text": [
      "1\n",
      "2\n",
      "3\n",
      "4\n",
      "5\n",
      "67\n"
     ]
    }
   ],
   "source": [
    "c = list_parser()\n",
    "c.parcer()"
   ]
  },
  {
   "cell_type": "code",
   "execution_count": 53,
   "id": "c84ab9ee",
   "metadata": {},
   "outputs": [
    {
     "data": {
      "text/plain": [
       "[67, 5, 4, 3, 2, 1]"
      ]
     },
     "execution_count": 53,
     "metadata": {},
     "output_type": "execute_result"
    }
   ],
   "source": [
    "c.reverser_list()"
   ]
  },
  {
   "cell_type": "code",
   "execution_count": 55,
   "id": "dbf9ca6c",
   "metadata": {},
   "outputs": [
    {
     "data": {
      "text/plain": [
       "'#Task: Create a class for dictionary parsing \\n\\n1.Write a function to give all the keys\\n2.Waf to give all the values \\n3.Waf to throw an exeption in case of input is not dictionary\\n4. Waf to take user input input and then parse a key and value out of dictionary\\n5. Waf to insert new key value pair into dictionary'"
      ]
     },
     "execution_count": 55,
     "metadata": {},
     "output_type": "execute_result"
    }
   ],
   "source": [
    "\"\"\"#Task: Create a class for dictionary parsing \n",
    "\n",
    "1.Write a function to give all the keys\n",
    "2.Waf to give all the values \n",
    "3.Waf to throw an exeption in case of input is not dictionary\n",
    "4. Waf to take user input input and then parse a key and value out of dictionary\n",
    "5. Waf to insert new key value pair into dictionary\"\"\""
   ]
  },
  {
   "cell_type": "code",
   "execution_count": null,
   "id": "4c94e599",
   "metadata": {},
   "outputs": [],
   "source": [
    "class dict_parser:\n",
    "    \n",
    "    d = {'red':11, 'yellow':22, 'green': 33, 66 :[66, \"khdqwkh\", True]}\n",
    "\n",
    "    def __init__(self, d):\n",
    "        self.d = d\n",
    "        \n",
    "    def give_keys(self):\n",
    "         if type(self.d) == dict:\n",
    "            for key in self.d.keys():\n",
    "                return self.d(key)\n",
    "    \n",
    "    def give_values(self):\n",
    "         if type(self.d) == dict:\n",
    "            for value in self.d:\n",
    "                return self.d(value)\n",
    "            \n",
    "    def throw_exception(self):\n",
    "        if type(self.d) != dict:\n",
    "            raise Exception()"
   ]
  },
  {
   "cell_type": "code",
   "execution_count": null,
   "id": "dd8dc76f",
   "metadata": {},
   "outputs": [],
   "source": []
  },
  {
   "cell_type": "code",
   "execution_count": null,
   "id": "08306523",
   "metadata": {},
   "outputs": [],
   "source": []
  },
  {
   "cell_type": "code",
   "execution_count": 56,
   "id": "bfd79b42",
   "metadata": {},
   "outputs": [],
   "source": [
    "#modules and packages in classes(calling it somewhere else)"
   ]
  },
  {
   "cell_type": "code",
   "execution_count": 57,
   "id": "f40ebcfc",
   "metadata": {},
   "outputs": [
    {
     "data": {
      "text/plain": [
       "<_io.TextIOWrapper name='my_dict' mode='w' encoding='cp1252'>"
      ]
     },
     "execution_count": 57,
     "metadata": {},
     "output_type": "execute_result"
    }
   ],
   "source": [
    "open(\"my_dict\", \"w\")"
   ]
  },
  {
   "cell_type": "code",
   "execution_count": 58,
   "id": "4c3ecf31",
   "metadata": {},
   "outputs": [
    {
     "name": "stdout",
     "output_type": "stream",
     "text": [
      " Volume in drive C is WINDOWS\n",
      " Volume Serial Number is 4816-94F1\n",
      "\n",
      " Directory of C:\\Users\\Lakshya\\DS_Python\\Live class\n",
      "\n",
      "01/23/2022  12:20 PM    <DIR>          .\n",
      "01/23/2022  12:20 PM    <DIR>          ..\n",
      "01/23/2022  10:13 AM    <DIR>          .ipynb_checkpoints\n",
      "01/22/2022  11:06 AM    <DIR>          __pycache__\n",
      "01/14/2022  03:47 PM               487 google.txt\n",
      "01/21/2022  09:54 PM            15,981 Jan 15 & 16.ipynb\n",
      "01/23/2022  12:19 PM            10,522 Jan 23.ipynb\n",
      "01/22/2022  01:00 PM            20,591 Jan22.ipynb\n",
      "12/21/2021  10:10 PM            18,542 Live class day 5.ipynb\n",
      "12/22/2021  12:57 PM            12,767 Live class day1.ipynb\n",
      "12/22/2021  02:52 PM            49,095 live class day2.ipynb\n",
      "01/08/2022  02:25 AM            15,664 live class day3.ipynb\n",
      "01/14/2022  03:50 PM            41,236 Live class jan 9.ipynb\n",
      "01/08/2022  12:45 PM            44,629 Live Class Jan8.ipynb\n",
      "12/20/2021  10:58 PM           386,935 Live day 4.ipynb\n",
      "01/22/2022  10:31 AM                 0 md22.py\n",
      "01/22/2022  10:48 AM               219 module22jan.py\n",
      "01/23/2022  12:20 PM                 0 my_dict\n",
      "01/22/2022  11:01 AM                 0 my_module\n",
      "01/22/2022  11:05 AM               216 my_module.py\n",
      "01/14/2022  03:46 PM                 0 try.txt\n",
      "01/14/2022  03:46 PM                21 try2.txt\n",
      "12/16/2021  03:35 PM             3,077 Untitled.ipynb\n",
      "12/23/2021  10:06 PM            17,783 Untitled1.ipynb\n",
      "              20 File(s)        637,765 bytes\n",
      "               4 Dir(s)   2,377,232,384 bytes free\n"
     ]
    }
   ],
   "source": [
    "ls"
   ]
  },
  {
   "cell_type": "code",
   "execution_count": 60,
   "id": "2505389e",
   "metadata": {},
   "outputs": [
    {
     "ename": "SyntaxError",
     "evalue": "invalid syntax (my_dict.py, line 3)",
     "output_type": "error",
     "traceback": [
      "Traceback \u001b[1;36m(most recent call last)\u001b[0m:\n",
      "  File \u001b[0;32m\"C:\\Users\\Lakshya\\Desktop\\Anaconda\\lib\\site-packages\\IPython\\core\\interactiveshell.py\"\u001b[0m, line \u001b[0;32m3437\u001b[0m, in \u001b[0;35mrun_code\u001b[0m\n    exec(code_obj, self.user_global_ns, self.user_ns)\n",
      "\u001b[1;36m  File \u001b[1;32m\"<ipython-input-60-01014a402a15>\"\u001b[1;36m, line \u001b[1;32m1\u001b[1;36m, in \u001b[1;35m<module>\u001b[1;36m\u001b[0m\n\u001b[1;33m    import my_dict\u001b[0m\n",
      "\u001b[1;36m  File \u001b[1;32m\"C:\\Users\\Lakshya\\DS_Python\\Live class\\my_dict.py\"\u001b[1;36m, line \u001b[1;32m3\u001b[0m\n\u001b[1;33m    def\u001b[0m\n\u001b[1;37m         ^\u001b[0m\n\u001b[1;31mSyntaxError\u001b[0m\u001b[1;31m:\u001b[0m invalid syntax\n"
     ]
    }
   ],
   "source": [
    "import my_dict"
   ]
  },
  {
   "cell_type": "code",
   "execution_count": 66,
   "id": "42c39c34",
   "metadata": {},
   "outputs": [
    {
     "ename": "SyntaxError",
     "evalue": "invalid syntax (<ipython-input-66-7fe8f5d438d8>, line 1)",
     "output_type": "error",
     "traceback": [
      "\u001b[1;36m  File \u001b[1;32m\"<ipython-input-66-7fe8f5d438d8>\"\u001b[1;36m, line \u001b[1;32m1\u001b[0m\n\u001b[1;33m    d = my_dict.dict_parsing([\"k1\": \"penn\", \"k2\": [1,2,3,4,5]))\u001b[0m\n\u001b[1;37m                                  ^\u001b[0m\n\u001b[1;31mSyntaxError\u001b[0m\u001b[1;31m:\u001b[0m invalid syntax\n"
     ]
    }
   ],
   "source": [
    "d = my_dict.dict_parsing({\"k1\": \"penn\", \"k2\": [1,2,3,4,5]})"
   ]
  },
  {
   "cell_type": "code",
   "execution_count": 67,
   "id": "efd75992",
   "metadata": {},
   "outputs": [
    {
     "ename": "NameError",
     "evalue": "name 'd' is not defined",
     "output_type": "error",
     "traceback": [
      "\u001b[1;31m---------------------------------------------------------------------------\u001b[0m",
      "\u001b[1;31mNameError\u001b[0m                                 Traceback (most recent call last)",
      "\u001b[1;32m<ipython-input-67-c26cd169473f>\u001b[0m in \u001b[0;36m<module>\u001b[1;34m\u001b[0m\n\u001b[1;32m----> 1\u001b[1;33m \u001b[0md\u001b[0m\u001b[1;33m.\u001b[0m\u001b[0mgetkeys\u001b[0m\u001b[1;33m(\u001b[0m\u001b[1;33m)\u001b[0m\u001b[1;33m\u001b[0m\u001b[1;33m\u001b[0m\u001b[0m\n\u001b[0m",
      "\u001b[1;31mNameError\u001b[0m: name 'd' is not defined"
     ]
    }
   ],
   "source": [
    "d.getkeys()"
   ]
  },
  {
   "cell_type": "code",
   "execution_count": 68,
   "id": "beef9606",
   "metadata": {},
   "outputs": [
    {
     "ename": "SyntaxError",
     "evalue": "invalid syntax (my_dict.py, line 3)",
     "output_type": "error",
     "traceback": [
      "Traceback \u001b[1;36m(most recent call last)\u001b[0m:\n",
      "  File \u001b[0;32m\"C:\\Users\\Lakshya\\Desktop\\Anaconda\\lib\\site-packages\\IPython\\core\\interactiveshell.py\"\u001b[0m, line \u001b[0;32m3437\u001b[0m, in \u001b[0;35mrun_code\u001b[0m\n    exec(code_obj, self.user_global_ns, self.user_ns)\n",
      "\u001b[1;36m  File \u001b[1;32m\"<ipython-input-68-d7a136b48616>\"\u001b[1;36m, line \u001b[1;32m1\u001b[1;36m, in \u001b[1;35m<module>\u001b[1;36m\u001b[0m\n\u001b[1;33m    from my_dict import dict_parsing\u001b[0m\n",
      "\u001b[1;36m  File \u001b[1;32m\"C:\\Users\\Lakshya\\DS_Python\\Live class\\my_dict.py\"\u001b[1;36m, line \u001b[1;32m3\u001b[0m\n\u001b[1;33m    def\u001b[0m\n\u001b[1;37m         ^\u001b[0m\n\u001b[1;31mSyntaxError\u001b[0m\u001b[1;31m:\u001b[0m invalid syntax\n"
     ]
    }
   ],
   "source": [
    "from my_dict import dict_parsing"
   ]
  },
  {
   "cell_type": "code",
   "execution_count": 69,
   "id": "3b2042f8",
   "metadata": {},
   "outputs": [
    {
     "ename": "NameError",
     "evalue": "name 'dict_parsing' is not defined",
     "output_type": "error",
     "traceback": [
      "\u001b[1;31m---------------------------------------------------------------------------\u001b[0m",
      "\u001b[1;31mNameError\u001b[0m                                 Traceback (most recent call last)",
      "\u001b[1;32m<ipython-input-69-8bdf24337ea4>\u001b[0m in \u001b[0;36m<module>\u001b[1;34m\u001b[0m\n\u001b[1;32m----> 1\u001b[1;33m \u001b[0md1\u001b[0m \u001b[1;33m=\u001b[0m \u001b[0mdict_parsing\u001b[0m\u001b[1;33m(\u001b[0m\u001b[1;33m{\u001b[0m\u001b[1;34m\"k1\"\u001b[0m\u001b[1;33m:\u001b[0m \u001b[1;34m\"dalshf\"\u001b[0m\u001b[1;33m,\u001b[0m \u001b[1;34m\"k2\"\u001b[0m\u001b[1;33m:\u001b[0m \u001b[1;36m2343\u001b[0m\u001b[1;33m}\u001b[0m\u001b[1;33m)\u001b[0m\u001b[1;33m\u001b[0m\u001b[1;33m\u001b[0m\u001b[0m\n\u001b[0m",
      "\u001b[1;31mNameError\u001b[0m: name 'dict_parsing' is not defined"
     ]
    }
   ],
   "source": [
    "d1 = dict_parsing({\"k1\": \"dalshf\", \"k2\": 2343})"
   ]
  },
  {
   "cell_type": "code",
   "execution_count": 70,
   "id": "559274d2",
   "metadata": {},
   "outputs": [
    {
     "ename": "NameError",
     "evalue": "name 'd1' is not defined",
     "output_type": "error",
     "traceback": [
      "\u001b[1;31m---------------------------------------------------------------------------\u001b[0m",
      "\u001b[1;31mNameError\u001b[0m                                 Traceback (most recent call last)",
      "\u001b[1;32m<ipython-input-70-5d24044218d9>\u001b[0m in \u001b[0;36m<module>\u001b[1;34m\u001b[0m\n\u001b[1;32m----> 1\u001b[1;33m \u001b[0md1\u001b[0m\u001b[1;33m.\u001b[0m\u001b[0mgetkeys\u001b[0m\u001b[1;33m(\u001b[0m\u001b[1;33m)\u001b[0m\u001b[1;33m\u001b[0m\u001b[1;33m\u001b[0m\u001b[0m\n\u001b[0m",
      "\u001b[1;31mNameError\u001b[0m: name 'd1' is not defined"
     ]
    }
   ],
   "source": [
    "d1.getkeys()"
   ]
  },
  {
   "cell_type": "code",
   "execution_count": 71,
   "id": "1ebd8b2a",
   "metadata": {},
   "outputs": [
    {
     "ename": "ModuleNotFoundError",
     "evalue": "No module named 'mydict'",
     "output_type": "error",
     "traceback": [
      "\u001b[1;31m---------------------------------------------------------------------------\u001b[0m",
      "\u001b[1;31mModuleNotFoundError\u001b[0m                       Traceback (most recent call last)",
      "\u001b[1;32m<ipython-input-71-1e2107c4a322>\u001b[0m in \u001b[0;36m<module>\u001b[1;34m\u001b[0m\n\u001b[1;32m----> 1\u001b[1;33m \u001b[1;32mfrom\u001b[0m \u001b[0mmydict\u001b[0m \u001b[1;32mimport\u001b[0m \u001b[0mdict_parsing1\u001b[0m\u001b[1;33m\u001b[0m\u001b[1;33m\u001b[0m\u001b[0m\n\u001b[0m",
      "\u001b[1;31mModuleNotFoundError\u001b[0m: No module named 'mydict'"
     ]
    }
   ],
   "source": [
    "from mydict import dict_parsing1"
   ]
  },
  {
   "cell_type": "code",
   "execution_count": 72,
   "id": "bd5924a4",
   "metadata": {},
   "outputs": [
    {
     "ename": "NameError",
     "evalue": "name 'dict_parsing' is not defined",
     "output_type": "error",
     "traceback": [
      "\u001b[1;31m---------------------------------------------------------------------------\u001b[0m",
      "\u001b[1;31mNameError\u001b[0m                                 Traceback (most recent call last)",
      "\u001b[1;32m<ipython-input-72-f5f45b002b07>\u001b[0m in \u001b[0;36m<module>\u001b[1;34m\u001b[0m\n\u001b[1;32m----> 1\u001b[1;33m \u001b[0md2\u001b[0m \u001b[1;33m=\u001b[0m \u001b[0mdict_parsing\u001b[0m\u001b[1;33m(\u001b[0m\u001b[1;33m{\u001b[0m\u001b[1;34m\"k1\"\u001b[0m\u001b[1;33m:\u001b[0m \u001b[1;34m\"dalshf\"\u001b[0m\u001b[1;33m,\u001b[0m \u001b[1;34m\"k2\"\u001b[0m\u001b[1;33m:\u001b[0m \u001b[1;36m2343\u001b[0m\u001b[1;33m}\u001b[0m\u001b[1;33m)\u001b[0m\u001b[1;33m\u001b[0m\u001b[1;33m\u001b[0m\u001b[0m\n\u001b[0m",
      "\u001b[1;31mNameError\u001b[0m: name 'dict_parsing' is not defined"
     ]
    }
   ],
   "source": [
    "d2 = dict_parsing({\"k1\": \"dalshf\", \"k2\": 2343})"
   ]
  },
  {
   "cell_type": "code",
   "execution_count": 73,
   "id": "9e616a7f",
   "metadata": {},
   "outputs": [
    {
     "ename": "NameError",
     "evalue": "name 'd2' is not defined",
     "output_type": "error",
     "traceback": [
      "\u001b[1;31m---------------------------------------------------------------------------\u001b[0m",
      "\u001b[1;31mNameError\u001b[0m                                 Traceback (most recent call last)",
      "\u001b[1;32m<ipython-input-73-76b52fe88abe>\u001b[0m in \u001b[0;36m<module>\u001b[1;34m\u001b[0m\n\u001b[1;32m----> 1\u001b[1;33m \u001b[0md2\u001b[0m\u001b[1;33m.\u001b[0m\u001b[0mgetvalues\u001b[0m\u001b[1;33m(\u001b[0m\u001b[1;33m)\u001b[0m\u001b[1;33m\u001b[0m\u001b[1;33m\u001b[0m\u001b[0m\n\u001b[0m",
      "\u001b[1;31mNameError\u001b[0m: name 'd2' is not defined"
     ]
    }
   ],
   "source": [
    "d2.getvalues()"
   ]
  },
  {
   "cell_type": "code",
   "execution_count": 74,
   "id": "99e4f78a",
   "metadata": {},
   "outputs": [
    {
     "ename": "SyntaxError",
     "evalue": "invalid syntax (my_dict.py, line 3)",
     "output_type": "error",
     "traceback": [
      "Traceback \u001b[1;36m(most recent call last)\u001b[0m:\n",
      "  File \u001b[0;32m\"C:\\Users\\Lakshya\\Desktop\\Anaconda\\lib\\site-packages\\IPython\\core\\interactiveshell.py\"\u001b[0m, line \u001b[0;32m3437\u001b[0m, in \u001b[0;35mrun_code\u001b[0m\n    exec(code_obj, self.user_global_ns, self.user_ns)\n",
      "\u001b[1;36m  File \u001b[1;32m\"<ipython-input-74-d903eb93b224>\"\u001b[1;36m, line \u001b[1;32m1\u001b[1;36m, in \u001b[1;35m<module>\u001b[1;36m\u001b[0m\n\u001b[1;33m    import my_dict\u001b[0m\n",
      "\u001b[1;36m  File \u001b[1;32m\"C:\\Users\\Lakshya\\DS_Python\\Live class\\my_dict.py\"\u001b[1;36m, line \u001b[1;32m3\u001b[0m\n\u001b[1;33m    def\u001b[0m\n\u001b[1;37m         ^\u001b[0m\n\u001b[1;31mSyntaxError\u001b[0m\u001b[1;31m:\u001b[0m invalid syntax\n"
     ]
    }
   ],
   "source": [
    "import my_dict\n",
    "from my_dict import dict_parsing "
   ]
  },
  {
   "cell_type": "code",
   "execution_count": null,
   "id": "af2fe87c",
   "metadata": {},
   "outputs": [],
   "source": [
    "Taskkkk\n",
    "\n",
    "Create your own package for all the list function\n",
    "Create your own package for all the Tuple function'\n",
    "Create your own package for all the dictionary function\n",
    "Create your own package for all the set values\n",
    "\n",
    "Restrictions:\n",
    "    Always use exception handling \n",
    "    never use print statement'\n",
    "    Always use logging while writing a code and log every activity performed by the code in respective logging file\n",
    "    \n",
    "Submit at:\n",
    "    \n",
    "sudhanshu@ineuron.ai\n"
   ]
  }
 ],
 "metadata": {
  "kernelspec": {
   "display_name": "Python 3",
   "language": "python",
   "name": "python3"
  },
  "language_info": {
   "codemirror_mode": {
    "name": "ipython",
    "version": 3
   },
   "file_extension": ".py",
   "mimetype": "text/x-python",
   "name": "python",
   "nbconvert_exporter": "python",
   "pygments_lexer": "ipython3",
   "version": "3.8.8"
  }
 },
 "nbformat": 4,
 "nbformat_minor": 5
}
