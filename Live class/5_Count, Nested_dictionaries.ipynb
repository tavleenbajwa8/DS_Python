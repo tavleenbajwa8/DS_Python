{
 "cells": [
  {
   "cell_type": "code",
   "execution_count": 1,
   "id": "bdbb1eed",
   "metadata": {},
   "outputs": [
    {
     "data": {
      "text/plain": [
       "28"
      ]
     },
     "execution_count": 1,
     "metadata": {},
     "output_type": "execute_result"
    }
   ],
   "source": [
    "s = \"This is a basic Python class\"\n",
    "len(s) #Inbuilt function to count the length"
   ]
  },
  {
   "cell_type": "code",
   "execution_count": 2,
   "id": "991d972b",
   "metadata": {},
   "outputs": [
    {
     "name": "stdout",
     "output_type": "stream",
     "text": [
      "28\n"
     ]
    }
   ],
   "source": [
    "#W/o using inbuilt function, using counter \n",
    "\n",
    "count = 0\n",
    "for i in s:\n",
    "    count = count + 1    #same\n",
    "print(count)"
   ]
  },
  {
   "cell_type": "code",
   "execution_count": 3,
   "id": "e7d7067c",
   "metadata": {},
   "outputs": [
    {
     "name": "stdout",
     "output_type": "stream",
     "text": [
      "28\n"
     ]
    }
   ],
   "source": [
    "count = 0\n",
    "for i in s:\n",
    "    count+=1     #same\n",
    "print(count)"
   ]
  },
  {
   "cell_type": "code",
   "execution_count": 4,
   "id": "1a3d0638",
   "metadata": {},
   "outputs": [
    {
     "data": {
      "text/plain": [
       "'ssalc nohtyP cisab a si sihT'"
      ]
     },
     "execution_count": 4,
     "metadata": {},
     "output_type": "execute_result"
    }
   ],
   "source": [
    "s[::-1]"
   ]
  },
  {
   "cell_type": "code",
   "execution_count": 5,
   "id": "a5fd8c28",
   "metadata": {},
   "outputs": [],
   "source": [
    "#Reversing using while loop"
   ]
  },
  {
   "cell_type": "code",
   "execution_count": 6,
   "id": "1f9990c2",
   "metadata": {},
   "outputs": [
    {
     "data": {
      "text/plain": [
       "'This is a basic Python class'"
      ]
     },
     "execution_count": 6,
     "metadata": {},
     "output_type": "execute_result"
    }
   ],
   "source": [
    "s"
   ]
  },
  {
   "cell_type": "code",
   "execution_count": 8,
   "id": "29197aba",
   "metadata": {},
   "outputs": [
    {
     "name": "stdout",
     "output_type": "stream",
     "text": [
      "ssalc nohtyP cisab a si sihT"
     ]
    }
   ],
   "source": [
    "for i in range(len(s)-1, -1,-1):\n",
    "    print(s[i], end=\"\")"
   ]
  },
  {
   "cell_type": "code",
   "execution_count": 9,
   "id": "42d9dc3c",
   "metadata": {},
   "outputs": [
    {
     "name": "stdout",
     "output_type": "stream",
     "text": [
      "ssalc nohtyP cisab a si sihT"
     ]
    }
   ],
   "source": [
    "i = len(s)-1   #25  #24 ------so on\n",
    "while(i>=0):    #T  #T\n",
    "    print(s[i], end=\"\")\n",
    "    i=i-1 #25-1=24 #23"
   ]
  },
  {
   "cell_type": "code",
   "execution_count": 10,
   "id": "257a136a",
   "metadata": {},
   "outputs": [
    {
     "name": "stdout",
     "output_type": "stream",
     "text": [
      "vowel i\n",
      "not vowel n\n",
      "vowel e\n",
      "vowel u\n",
      "not vowel r\n",
      "vowel o\n",
      "not vowel n\n"
     ]
    }
   ],
   "source": [
    "s = \"ineuron\"\n",
    "v = \"AaEeIiOoUu\"\n",
    "#Q-Find out which character is vowel and which is not a vowel\n",
    "\n",
    "for i in s:\n",
    "    if i in v:\n",
    "        print(\"vowel\", i)\n",
    "    else:\n",
    "        print(\"not vowel\", i)"
   ]
  },
  {
   "cell_type": "code",
   "execution_count": 13,
   "id": "f464f5d7",
   "metadata": {},
   "outputs": [
    {
     "data": {
      "text/plain": [
       "False"
      ]
     },
     "execution_count": 13,
     "metadata": {},
     "output_type": "execute_result"
    }
   ],
   "source": [
    "s in \"sudh\"   #bec s is a var"
   ]
  },
  {
   "cell_type": "code",
   "execution_count": 15,
   "id": "0df23fc6",
   "metadata": {},
   "outputs": [
    {
     "data": {
      "text/plain": [
       "True"
      ]
     },
     "execution_count": 15,
     "metadata": {},
     "output_type": "execute_result"
    }
   ],
   "source": [
    "\"u\" in \"sudg\""
   ]
  },
  {
   "cell_type": "code",
   "execution_count": null,
   "id": "9704f4b9",
   "metadata": {},
   "outputs": [],
   "source": []
  },
  {
   "cell_type": "code",
   "execution_count": null,
   "id": "086a5176",
   "metadata": {},
   "outputs": [],
   "source": []
  },
  {
   "cell_type": "code",
   "execution_count": 11,
   "id": "7960cd53",
   "metadata": {},
   "outputs": [],
   "source": [
    "#Using while loop"
   ]
  },
  {
   "cell_type": "code",
   "execution_count": null,
   "id": "4f5828cf",
   "metadata": {},
   "outputs": [],
   "source": []
  },
  {
   "cell_type": "code",
   "execution_count": 16,
   "id": "fafa883c",
   "metadata": {},
   "outputs": [],
   "source": [
    "#Pallindrome strings"
   ]
  },
  {
   "cell_type": "code",
   "execution_count": 17,
   "id": "98bddafb",
   "metadata": {},
   "outputs": [
    {
     "data": {
      "text/plain": [
       "'eye'"
      ]
     },
     "execution_count": 17,
     "metadata": {},
     "output_type": "execute_result"
    }
   ],
   "source": [
    "\"tnet\"\n",
    "\"malyalam\"\n",
    "\"eye\""
   ]
  },
  {
   "cell_type": "code",
   "execution_count": null,
   "id": "41bdb4db",
   "metadata": {},
   "outputs": [],
   "source": [
    "#Write a code to check palindromes"
   ]
  },
  {
   "cell_type": "code",
   "execution_count": 24,
   "id": "a03815d5",
   "metadata": {},
   "outputs": [
    {
     "name": "stdout",
     "output_type": "stream",
     "text": [
      "eye\n",
      "Pallindrome\n"
     ]
    }
   ],
   "source": [
    "s = input()\n",
    "v = s[::-1]\n",
    "if s == v:\n",
    "    print(\"Pallindrome\")\n",
    "else:\n",
    "    print(\"Not\")     #incorrect code"
   ]
  },
  {
   "cell_type": "code",
   "execution_count": 26,
   "id": "f86af3b9",
   "metadata": {},
   "outputs": [
    {
     "name": "stdout",
     "output_type": "stream",
     "text": [
      "Palindrome\n"
     ]
    }
   ],
   "source": [
    "word = \"tenet\"\n",
    "for i in range(len(word)):\n",
    "    if word[i] == word[len(word)-1-i]:\n",
    "        print(\"Palindrome\")\n",
    "    else:\n",
    "        print(\"Not Palindrome\")   #incorrect code"
   ]
  },
  {
   "cell_type": "code",
   "execution_count": 27,
   "id": "e5151656",
   "metadata": {},
   "outputs": [
    {
     "name": "stdout",
     "output_type": "stream",
     "text": [
      "Palindrome\n"
     ]
    }
   ],
   "source": [
    "word = \"tenet\"\n",
    "for i in range(len(word)):\n",
    "    if word[i] == word[len(word)-1-i]:\n",
    "        print(\"Palindrome\")\n",
    "        break\n",
    "    else:\n",
    "        print(\"Not Palindrome\")    #Incorrect code"
   ]
  },
  {
   "cell_type": "code",
   "execution_count": 33,
   "id": "f8cb7a2a",
   "metadata": {},
   "outputs": [
    {
     "name": "stdout",
     "output_type": "stream",
     "text": [
      "eyeeeee\n",
      "Not Palindrome\n"
     ]
    }
   ],
   "source": [
    "word = input()\n",
    "for i in range(len(word)):\n",
    "    if word[i] != word[len(word)-i-1]:\n",
    "        print(\"Not Palindrome\")\n",
    "        break\n",
    "else:\n",
    "    print(\"Palindrome\")        #Correct code, here we ARE checking non-palindromes. "
   ]
  },
  {
   "cell_type": "code",
   "execution_count": 35,
   "id": "3571602a",
   "metadata": {},
   "outputs": [
    {
     "name": "stdout",
     "output_type": "stream",
     "text": [
      "eyww\n",
      "Not\n"
     ]
    }
   ],
   "source": [
    "s= input()\n",
    "f=\"\"\n",
    "i = len(s)-1\n",
    "\n",
    "while (i>=0):\n",
    "    f=f+s[i]                #Reversing the whole string followed by comparison\n",
    "    i=i-1\n",
    "if(s==f):\n",
    "    print(\"Palindrome\")\n",
    "else:\n",
    "    print(\"Not\")"
   ]
  },
  {
   "cell_type": "code",
   "execution_count": 37,
   "id": "10d83bb5",
   "metadata": {},
   "outputs": [
    {
     "name": "stdout",
     "output_type": "stream",
     "text": [
      "eue\n",
      "Pallindrome\n"
     ]
    }
   ],
   "source": [
    "s = input()\n",
    "l = len(s)\n",
    "k=0\n",
    "for i in range(l):\n",
    "    if s[i]==s[l-i-1]:\n",
    "        continue\n",
    "    else:\n",
    "        print(\"Non\")\n",
    "        k=1\n",
    "        break\n",
    "if k==0:\n",
    "    print(\"Pallindrome\")"
   ]
  },
  {
   "cell_type": "code",
   "execution_count": 39,
   "id": "76b94e74",
   "metadata": {},
   "outputs": [],
   "source": [
    "d = {\"India\":\"IN\",\n",
    "    \"Canada\":\"CA\",\n",
    "    \"China\":\"CH\",\n",
    "    \"United States\": \"US\"\n",
    "    }"
   ]
  },
  {
   "cell_type": "code",
   "execution_count": 40,
   "id": "bc6faca7",
   "metadata": {},
   "outputs": [
    {
     "data": {
      "text/plain": [
       "True"
      ]
     },
     "execution_count": 40,
     "metadata": {},
     "output_type": "execute_result"
    }
   ],
   "source": [
    " \"India\" in d           #To get key"
   ]
  },
  {
   "cell_type": "code",
   "execution_count": 42,
   "id": "814a96df",
   "metadata": {},
   "outputs": [
    {
     "data": {
      "text/plain": [
       "True"
      ]
     },
     "execution_count": 42,
     "metadata": {},
     "output_type": "execute_result"
    }
   ],
   "source": [
    "\"IN\" in d.values()        #To get values"
   ]
  },
  {
   "cell_type": "code",
   "execution_count": 43,
   "id": "74747a8a",
   "metadata": {},
   "outputs": [],
   "source": [
    "#Create 2 seperate list from d list1: get keys with len greater than 5 and other less than 5"
   ]
  },
  {
   "cell_type": "code",
   "execution_count": 46,
   "id": "9a629468",
   "metadata": {},
   "outputs": [],
   "source": [
    "l1=[]   #Greater than 5\n",
    "l2=[]   #Lesser than or = to 5\n",
    "for i in d:\n",
    "    if len(i) > 5:\n",
    "        l1.append(i)\n",
    "    else:\n",
    "        l2.append(i)\n",
    "        "
   ]
  },
  {
   "cell_type": "code",
   "execution_count": 47,
   "id": "04a4bcda",
   "metadata": {},
   "outputs": [
    {
     "data": {
      "text/plain": [
       "['Canada', 'United States']"
      ]
     },
     "execution_count": 47,
     "metadata": {},
     "output_type": "execute_result"
    }
   ],
   "source": [
    "l1"
   ]
  },
  {
   "cell_type": "code",
   "execution_count": 48,
   "id": "f238504e",
   "metadata": {},
   "outputs": [
    {
     "data": {
      "text/plain": [
       "['India', 'China']"
      ]
     },
     "execution_count": 48,
     "metadata": {},
     "output_type": "execute_result"
    }
   ],
   "source": [
    "l2"
   ]
  },
  {
   "cell_type": "code",
   "execution_count": null,
   "id": "a1e8c246",
   "metadata": {},
   "outputs": [],
   "source": [
    "#Nested dictionaries"
   ]
  },
  {
   "cell_type": "code",
   "execution_count": 49,
   "id": "fc0b4648",
   "metadata": {},
   "outputs": [],
   "source": [
    "#Inside both dict find the max value in both"
   ]
  },
  {
   "cell_type": "code",
   "execution_count": 51,
   "id": "88dacf70",
   "metadata": {},
   "outputs": [],
   "source": [
    "d_1 = {\"ineuron\": {\n",
    "                        \"a\":14,\n",
    "                        \"b\":10,\n",
    "                        \"c\":4 \n",
    "                    }, \n",
    "        \"course\": {\n",
    "                       \"d\":45,\n",
    "                       \"t\":56,\n",
    "                       \"c\":1\n",
    "                   }\n",
    "    }"
   ]
  },
  {
   "cell_type": "code",
   "execution_count": 58,
   "id": "c0c784ca",
   "metadata": {},
   "outputs": [
    {
     "ename": "TypeError",
     "evalue": "'>' not supported between instances of 'dict' and 'dict'",
     "output_type": "error",
     "traceback": [
      "\u001b[1;31m---------------------------------------------------------------------------\u001b[0m",
      "\u001b[1;31mTypeError\u001b[0m                                 Traceback (most recent call last)",
      "\u001b[1;32m<ipython-input-58-2c3821a18b84>\u001b[0m in \u001b[0;36m<module>\u001b[1;34m\u001b[0m\n\u001b[0;32m      1\u001b[0m \u001b[0mvalues\u001b[0m \u001b[1;33m=\u001b[0m \u001b[0md_1\u001b[0m\u001b[1;33m.\u001b[0m\u001b[0mvalues\u001b[0m\u001b[1;33m(\u001b[0m\u001b[1;33m)\u001b[0m\u001b[1;33m\u001b[0m\u001b[1;33m\u001b[0m\u001b[0m\n\u001b[0;32m      2\u001b[0m \u001b[1;32mfor\u001b[0m \u001b[0mi\u001b[0m \u001b[1;32min\u001b[0m \u001b[0mvalues\u001b[0m\u001b[1;33m:\u001b[0m\u001b[1;33m\u001b[0m\u001b[1;33m\u001b[0m\u001b[0m\n\u001b[1;32m----> 3\u001b[1;33m     \u001b[0mprint\u001b[0m\u001b[1;33m(\u001b[0m\u001b[0mmax\u001b[0m\u001b[1;33m(\u001b[0m\u001b[0mvalues\u001b[0m\u001b[1;33m)\u001b[0m\u001b[1;33m)\u001b[0m\u001b[1;33m\u001b[0m\u001b[1;33m\u001b[0m\u001b[0m\n\u001b[0m",
      "\u001b[1;31mTypeError\u001b[0m: '>' not supported between instances of 'dict' and 'dict'"
     ]
    }
   ],
   "source": [
    "values = d_1.values()\n",
    "for i in values:\n",
    "    print(max(values))"
   ]
  },
  {
   "cell_type": "code",
   "execution_count": 62,
   "id": "d3643f14",
   "metadata": {},
   "outputs": [
    {
     "name": "stdout",
     "output_type": "stream",
     "text": [
      "14\n",
      "56\n"
     ]
    }
   ],
   "source": [
    "lst=[]\n",
    "for i in d_1.values():\n",
    "    for j in i.values():\n",
    "        lst.append(j)\n",
    "    print(max(lst))"
   ]
  },
  {
   "cell_type": "code",
   "execution_count": 64,
   "id": "38a722ad",
   "metadata": {},
   "outputs": [
    {
     "name": "stdout",
     "output_type": "stream",
     "text": [
      "14\n",
      "56\n"
     ]
    }
   ],
   "source": [
    "for i in d_1.values():\n",
    "    mx=0            #Flag created\n",
    "    for j in i.values():\n",
    "        if mx<j:\n",
    "            mx = j\n",
    "    print(mx)"
   ]
  },
  {
   "cell_type": "code",
   "execution_count": 68,
   "id": "e96c7e3d",
   "metadata": {},
   "outputs": [
    {
     "name": "stdout",
     "output_type": "stream",
     "text": [
      "14\n",
      "56\n"
     ]
    }
   ],
   "source": [
    "for i in d_1.keys():\n",
    "    print(max(d_1[i].values()))"
   ]
  },
  {
   "cell_type": "code",
   "execution_count": 75,
   "id": "f24a188b",
   "metadata": {},
   "outputs": [],
   "source": [
    "d2 = {\"ineuron\": {\"a\":14,\"b\":10,\"c\":4 }, \"course\": {\"d\":45,\"t\":56,\"c\":1}, \"g\":34, \"h\":[45,6,7,88,90], \"i\":(23,5,66), \"k\":\"sudh\"}"
   ]
  },
  {
   "cell_type": "code",
   "execution_count": 76,
   "id": "3976375b",
   "metadata": {},
   "outputs": [],
   "source": [
    "#Find max integer in this d2"
   ]
  },
  {
   "cell_type": "code",
   "execution_count": 77,
   "id": "a63df6b0",
   "metadata": {},
   "outputs": [
    {
     "data": {
      "text/plain": [
       "dict_values([{'a': 14, 'b': 10, 'c': 4}, {'d': 45, 't': 56, 'c': 1}, 34, [45, 6, 7, 88, 90], (23, 5, 66), 'sudh'])"
      ]
     },
     "execution_count": 77,
     "metadata": {},
     "output_type": "execute_result"
    }
   ],
   "source": [
    "d2.values()"
   ]
  },
  {
   "cell_type": "code",
   "execution_count": 78,
   "id": "48f27103",
   "metadata": {},
   "outputs": [],
   "source": [
    "l4 = []\n",
    "for i in d2.values():\n",
    "    \n",
    "    l4.append(i)"
   ]
  },
  {
   "cell_type": "code",
   "execution_count": 79,
   "id": "dbe3b687",
   "metadata": {},
   "outputs": [
    {
     "data": {
      "text/plain": [
       "[{'a': 14, 'b': 10, 'c': 4},\n",
       " {'d': 45, 't': 56, 'c': 1},\n",
       " 34,\n",
       " [45, 6, 7, 88, 90],\n",
       " (23, 5, 66),\n",
       " 'sudh']"
      ]
     },
     "execution_count": 79,
     "metadata": {},
     "output_type": "execute_result"
    }
   ],
   "source": [
    "l4"
   ]
  },
  {
   "cell_type": "code",
   "execution_count": 84,
   "id": "a56bea46",
   "metadata": {},
   "outputs": [],
   "source": [
    "list = [(v) for v in d2.values()]"
   ]
  },
  {
   "cell_type": "code",
   "execution_count": 85,
   "id": "d024404b",
   "metadata": {},
   "outputs": [
    {
     "name": "stdout",
     "output_type": "stream",
     "text": [
      "[{'a': 14, 'b': 10, 'c': 4}, {'d': 45, 't': 56, 'c': 1}, 34, [45, 6, 7, 88, 90], (23, 5, 66), 'sudh']\n"
     ]
    }
   ],
   "source": [
    "y = print(list)"
   ]
  },
  {
   "cell_type": "code",
   "execution_count": 87,
   "id": "37f31d6e",
   "metadata": {},
   "outputs": [],
   "source": [
    "l4 = []\n",
    "for i in list:\n",
    "    l4.append(i)"
   ]
  },
  {
   "cell_type": "code",
   "execution_count": 88,
   "id": "f2a9435d",
   "metadata": {},
   "outputs": [
    {
     "data": {
      "text/plain": [
       "[{'a': 14, 'b': 10, 'c': 4},\n",
       " {'d': 45, 't': 56, 'c': 1},\n",
       " 34,\n",
       " [45, 6, 7, 88, 90],\n",
       " (23, 5, 66),\n",
       " 'sudh']"
      ]
     },
     "execution_count": 88,
     "metadata": {},
     "output_type": "execute_result"
    }
   ],
   "source": [
    "l4"
   ]
  },
  {
   "cell_type": "code",
   "execution_count": 89,
   "id": "60aeadf5",
   "metadata": {},
   "outputs": [
    {
     "ename": "TypeError",
     "evalue": "'<' not supported between instances of 'dict' and 'dict'",
     "output_type": "error",
     "traceback": [
      "\u001b[1;31m---------------------------------------------------------------------------\u001b[0m",
      "\u001b[1;31mTypeError\u001b[0m                                 Traceback (most recent call last)",
      "\u001b[1;32m<ipython-input-89-3c2f2ea7cf41>\u001b[0m in \u001b[0;36m<module>\u001b[1;34m\u001b[0m\n\u001b[1;32m----> 1\u001b[1;33m \u001b[0mlist\u001b[0m\u001b[1;33m.\u001b[0m\u001b[0msort\u001b[0m\u001b[1;33m(\u001b[0m\u001b[1;33m)\u001b[0m\u001b[1;33m\u001b[0m\u001b[1;33m\u001b[0m\u001b[0m\n\u001b[0m",
      "\u001b[1;31mTypeError\u001b[0m: '<' not supported between instances of 'dict' and 'dict'"
     ]
    }
   ],
   "source": [
    "list.sort()"
   ]
  },
  {
   "cell_type": "code",
   "execution_count": null,
   "id": "c3db1a7e",
   "metadata": {},
   "outputs": [],
   "source": [
    "l5 = []\n",
    "for in for "
   ]
  }
 ],
 "metadata": {
  "kernelspec": {
   "display_name": "Python 3",
   "language": "python",
   "name": "python3"
  },
  "language_info": {
   "codemirror_mode": {
    "name": "ipython",
    "version": 3
   },
   "file_extension": ".py",
   "mimetype": "text/x-python",
   "name": "python",
   "nbconvert_exporter": "python",
   "pygments_lexer": "ipython3",
   "version": "3.8.8"
  }
 },
 "nbformat": 4,
 "nbformat_minor": 5
}
