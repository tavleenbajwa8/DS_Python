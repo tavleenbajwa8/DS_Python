{
 "cells": [
  {
   "cell_type": "code",
   "execution_count": 1,
   "id": "d0d90ffe",
   "metadata": {},
   "outputs": [],
   "source": [
    "#If else statement (<,>,== are the comparison operators)"
   ]
  },
  {
   "cell_type": "code",
   "execution_count": 2,
   "id": "09231ed1",
   "metadata": {},
   "outputs": [],
   "source": [
    "a = 10 "
   ]
  },
  {
   "cell_type": "code",
   "execution_count": 5,
   "id": "bf20b2da",
   "metadata": {},
   "outputs": [
    {
     "name": "stdout",
     "output_type": "stream",
     "text": [
      "My name is Sudhanshu\n"
     ]
    }
   ],
   "source": [
    "if a < 15:   #At the time we are giving a condition, we have to mention the semi colon everywhere in Python\n",
    "    print(\"My name is Sudhanshu\")\n",
    "    \n",
    "    "
   ]
  },
  {
   "cell_type": "code",
   "execution_count": 4,
   "id": "8cb53faf",
   "metadata": {},
   "outputs": [
    {
     "data": {
      "text/plain": [
       "True"
      ]
     },
     "execution_count": 4,
     "metadata": {},
     "output_type": "execute_result"
    }
   ],
   "source": [
    "a < 15 #If the if statement comes out to be true, then the operation mentioned inside the block will be executed"
   ]
  },
  {
   "cell_type": "code",
   "execution_count": 6,
   "id": "6eeb2fe7",
   "metadata": {},
   "outputs": [],
   "source": [
    "if a < 15: \n",
    "    pass   #Dead code when we dont have to give any operation but also want to avoid error(Not req. most of the times)"
   ]
  },
  {
   "cell_type": "code",
   "execution_count": 7,
   "id": "d0d8f072",
   "metadata": {},
   "outputs": [
    {
     "name": "stdout",
     "output_type": "stream",
     "text": [
      "My name is Sudh\n"
     ]
    }
   ],
   "source": [
    "if a < 15:\n",
    "    print(\"My name is Sudh\")"
   ]
  },
  {
   "cell_type": "code",
   "execution_count": 8,
   "id": "3bcb824c",
   "metadata": {},
   "outputs": [],
   "source": [
    "if 24 < 15: #when the if statement will be false, no outcome will be there, thus no operation will be followed \n",
    "    print(\"my name is sudh\")"
   ]
  },
  {
   "cell_type": "code",
   "execution_count": 9,
   "id": "1e39c2f7",
   "metadata": {},
   "outputs": [
    {
     "data": {
      "text/plain": [
       "False"
      ]
     },
     "execution_count": 9,
     "metadata": {},
     "output_type": "execute_result"
    }
   ],
   "source": [
    "24 < 15"
   ]
  },
  {
   "cell_type": "code",
   "execution_count": 10,
   "id": "b2726d8b",
   "metadata": {},
   "outputs": [
    {
     "name": "stdout",
     "output_type": "stream",
     "text": [
      "if statement is wrong\n"
     ]
    }
   ],
   "source": [
    "if 10 < 3:\n",
    "    print(\" 10 is lesser than 3\")\n",
    "else:\n",
    "    print(\"if statement is wrong\")"
   ]
  },
  {
   "cell_type": "code",
   "execution_count": 12,
   "id": "05e14abb",
   "metadata": {},
   "outputs": [
    {
     "name": "stdout",
     "output_type": "stream",
     "text": [
      " 10 is lesser than 3\n"
     ]
    }
   ],
   "source": [
    "if 5 < 10:\n",
    "    print(\" 10 is lesser than 3\")  #we are supposed to maintain indentation like this\n",
    "else:\n",
    "    print(\"if statement is wrong\")"
   ]
  },
  {
   "cell_type": "code",
   "execution_count": 15,
   "id": "3056d060",
   "metadata": {},
   "outputs": [
    {
     "name": "stdout",
     "output_type": "stream",
     "text": [
      "10\n",
      "I will be able to buy phone\n"
     ]
    }
   ],
   "source": [
    "income = int(input())\n",
    "if income < 50:   #false, so wont execute\n",
    "    print(\"I will be able to buy phone\")\n",
    "elif income < 70:  #false, so wont execute\n",
    "    print(\"I will be able to buy car\")\n",
    "elif income <90:   #false, so wont execute\n",
    "    print(\"I will be able to buy a house\")\n",
    "else:    #Finally it will execute this\n",
    "    print(\"I wont\")"
   ]
  },
  {
   "cell_type": "code",
   "execution_count": 1,
   "id": "c06c8e1d",
   "metadata": {},
   "outputs": [
    {
     "name": "stdout",
     "output_type": "stream",
     "text": [
      "4565\n",
      "Discount will be  228.25\n"
     ]
    }
   ],
   "source": [
    "total_price = int(input())   #4565\n",
    "if total_price > 20000:  #False \n",
    "    discount = total_price * .20    #So implement this\n",
    "    print(\"Discount will be \", discount)\n",
    "elif total_price <= 7000: #True\n",
    "    discount = total_price * .05    #So implement this\n",
    "    print(\"Discount will be \", discount)\n",
    "else:\n",
    "    price(\"wont be able to give any discount\")"
   ]
  },
  {
   "cell_type": "code",
   "execution_count": 6,
   "id": "0d23d33a",
   "metadata": {},
   "outputs": [
    {
     "name": "stdout",
     "output_type": "stream",
     "text": [
      "SUDHANSHU5\n",
      "You will be able to get a discount of 5%\n",
      "You will be able to get one neuron with this amount 6726.0\n"
     ]
    }
   ],
   "source": [
    "coup = input()\n",
    "if coup == \"SUDHANSHU5\":\n",
    "    print(\"You will be able to get a discount of 5%\")\n",
    "    paid_amount = 7080 - 7080*.05\n",
    "    print(\"You will be able to get one neuron with this amount\", paid_amount)\n",
    "else:\n",
    "    print(\"Kindly use a valid coupon code\")\n"
   ]
  },
  {
   "cell_type": "code",
   "execution_count": 1,
   "id": "7efaef4c",
   "metadata": {},
   "outputs": [
    {
     "name": "stdout",
     "output_type": "stream",
     "text": [
      "2\n",
      "It may take 6 months of time to make a transition\n"
     ]
    }
   ],
   "source": [
    "study_hour = int(input())\n",
    "if study_hour < 1:\n",
    "    print(\"It may take 8-9 months of time to make a transition\")\n",
    "elif study_hour < 4 and study_hour > 1:       #&(and) both conditions should be valid\n",
    "    print(\"It may take 6 months of time to make a transition\")\n",
    "elif study_hour > 10:\n",
    "     print(\"It may take 3 months of time to make a transition\")\n",
    "else:\n",
    "    print(\"It will be difficult\")\n",
    "    "
   ]
  },
  {
   "cell_type": "code",
   "execution_count": 2,
   "id": "48c6c63f",
   "metadata": {},
   "outputs": [
    {
     "name": "stdout",
     "output_type": "stream",
     "text": [
      "valid\n"
     ]
    }
   ],
   "source": [
    "a = 9\n",
    "if a == 9 : print(\"valid\")"
   ]
  },
  {
   "cell_type": "code",
   "execution_count": 2,
   "id": "47614434",
   "metadata": {},
   "outputs": [
    {
     "name": "stdout",
     "output_type": "stream",
     "text": [
      "Entr a string to startoneneuronservice\n",
      "Entr a course to startDSA\n",
      "Entr a service to startmodule\n",
      "Note2\n"
     ]
    }
   ],
   "source": [
    "s = input(\"Entr a string to start\")\n",
    "course= input(\"Entr a course to start\")\n",
    "service = input(\"Entr a service to start\")\n",
    "if s == \"oneneuron\":\n",
    "    if course == \"DSA\":\n",
    "        print(\"yes its available under one neuron and in multiple mode for job prep\")\n",
    "    elif course == \"Blockchain\":\n",
    "        print(\"This is not availble, will be fulfilled in a month\")\n",
    "    elif course == \"FSDS\":\n",
    "        print(\"Yes, its abvailable, can start learning\")\n",
    "    else:\n",
    "        print(\"This course is not available kindly raise your demand\")\n",
    "elif s ==\"oneneuronservice\":\n",
    "    if service == \"courserequest\":\n",
    "        print(\"Note: Dear learner, it will be fulfilled in 60 days\")\n",
    "    elif service == \"module\":\n",
    "        print(\"Note2\")\n",
    "    elif service == \"doubt\":\n",
    "        print(\"NOTE3\")\n",
    "    elif service == \"doubt\":\n",
    "        print(\"NOTE4\")\n",
    "    else:\n",
    "        print(\"Feedback\")\n",
    "else:\n",
    "    print(\"Kindly connect with team\")\n",
    "    "
   ]
  },
  {
   "cell_type": "code",
   "execution_count": 3,
   "id": "864a073a",
   "metadata": {},
   "outputs": [],
   "source": [
    "#For loop"
   ]
  },
  {
   "cell_type": "code",
   "execution_count": 4,
   "id": "af24accc",
   "metadata": {},
   "outputs": [
    {
     "name": "stdout",
     "output_type": "stream",
     "text": [
      "1\n",
      "2\n",
      "3\n",
      "4\n",
      "5\n",
      "6\n",
      "7\n"
     ]
    }
   ],
   "source": [
    "l = [1,2,3,4,5,6,7]   #Internally iter and next func is implemented.\n",
    "for i in l:\n",
    "    print(i)"
   ]
  },
  {
   "cell_type": "code",
   "execution_count": 6,
   "id": "59218f66",
   "metadata": {},
   "outputs": [
    {
     "name": "stdout",
     "output_type": "stream",
     "text": [
      "sgood\n",
      "ugood\n",
      "dgood\n",
      "hgood\n"
     ]
    }
   ],
   "source": [
    "s = \"sudh\"\n",
    "for i in s:\n",
    "    print(i + \"good\")"
   ]
  },
  {
   "cell_type": "code",
   "execution_count": 7,
   "id": "32f2218c",
   "metadata": {},
   "outputs": [
    {
     "name": "stdout",
     "output_type": "stream",
     "text": [
      "1\n",
      "2\n",
      "4\n",
      "5\n",
      "6\n",
      "7\n",
      "8\n"
     ]
    }
   ],
   "source": [
    "t = (1,2,4,5,6,7,8)\n",
    "for i in t:\n",
    "    print(i)"
   ]
  },
  {
   "cell_type": "code",
   "execution_count": 8,
   "id": "4af2d59b",
   "metadata": {},
   "outputs": [],
   "source": [
    "#From list and tuple, we are able "
   ]
  },
  {
   "cell_type": "code",
   "execution_count": 11,
   "id": "ce55f712",
   "metadata": {},
   "outputs": [
    {
     "name": "stdout",
     "output_type": "stream",
     "text": [
      "<class 'int'> type of  1\n",
      "<class 'int'> type of  4\n",
      "<class 'float'> type of  5.6\n",
      "<class 'complex'> type of  (4+7j)\n",
      "<class 'str'> type of  sudh\n"
     ]
    }
   ],
   "source": [
    "l = [1,4,5.6,4+7j, \"sudh\"]\n",
    "for i in l:\n",
    "    print(type(i), \"type of \", i)"
   ]
  },
  {
   "cell_type": "code",
   "execution_count": 12,
   "id": "65f47274",
   "metadata": {},
   "outputs": [
    {
     "name": "stdout",
     "output_type": "stream",
     "text": [
      "3\n",
      "6\n",
      "7.6\n"
     ]
    }
   ],
   "source": [
    "l = [1,4,5.6]\n",
    "for i in l:\n",
    "    print(i+2)"
   ]
  },
  {
   "cell_type": "code",
   "execution_count": 17,
   "id": "021ddcff",
   "metadata": {},
   "outputs": [
    {
     "name": "stdout",
     "output_type": "stream",
     "text": [
      "3\n",
      "6\n",
      "7.6\n"
     ]
    }
   ],
   "source": [
    "l = [1,4,5.6]\n",
    "l1 = []            #For putting answers  print(i+2) in a list we add a blank list above\n",
    "for i in l:\n",
    "    print(i+2)\n",
    "    l1.append(i+2)  #Follwed by appending answers to that blank list"
   ]
  },
  {
   "cell_type": "code",
   "execution_count": 18,
   "id": "161937ee",
   "metadata": {},
   "outputs": [
    {
     "data": {
      "text/plain": [
       "[3, 6, 7.6]"
      ]
     },
     "execution_count": 18,
     "metadata": {},
     "output_type": "execute_result"
    }
   ],
   "source": [
    "l1"
   ]
  },
  {
   "cell_type": "code",
   "execution_count": 15,
   "id": "8a3805e0",
   "metadata": {},
   "outputs": [],
   "source": [
    "l = [2,3,4,5, \"sudh\", 6+7j, [1,2,3, \"kshb\"]]"
   ]
  },
  {
   "cell_type": "code",
   "execution_count": 16,
   "id": "5b7272e4",
   "metadata": {},
   "outputs": [
    {
     "name": "stdout",
     "output_type": "stream",
     "text": [
      "2\n",
      "3\n",
      "4\n",
      "5\n",
      "1\n",
      "2\n",
      "3\n"
     ]
    }
   ],
   "source": [
    "for i in l:\n",
    "    if type(i) == int:\n",
    "        print(i)\n",
    "    elif type(i) == list:\n",
    "        for j in i:\n",
    "            if type(j) == int:\n",
    "                print(j)"
   ]
  },
  {
   "cell_type": "code",
   "execution_count": 17,
   "id": "bbc70b18",
   "metadata": {},
   "outputs": [],
   "source": [
    "l = [2,3,4,5, \"sudh\", 6+7j, [1,2,3, \"kshb\"]]\n",
    "#q1: Print index of all elements\n",
    "#q2: extract all the list of characters if element is string\n",
    "#q3: print all the elements of afer a square of all elements in a list \n",
    "    "
   ]
  },
  {
   "cell_type": "code",
   "execution_count": 11,
   "id": "51bf151f",
   "metadata": {},
   "outputs": [
    {
     "name": "stdout",
     "output_type": "stream",
     "text": [
      "['s', 'u', 'd', 'h']\n"
     ]
    }
   ],
   "source": [
    "#2 \n",
    "l = [2,3,4,5,45, \"sudh\", 6+7j, [1,2,3, \"kshb\"]]\n",
    "for i in l:\n",
    "    if type(i) == str:\n",
    "        l1 = []\n",
    "        for j in i:\n",
    "            l1.append(j)\n",
    "        print(l1)"
   ]
  },
  {
   "cell_type": "code",
   "execution_count": 4,
   "id": "9322a890",
   "metadata": {},
   "outputs": [
    {
     "name": "stdout",
     "output_type": "stream",
     "text": [
      "0 is the index of  2\n",
      "1 is the index of  3\n",
      "2 is the index of  4\n",
      "3 is the index of  5\n",
      "4 is the index of  sudh\n",
      "5 is the index of  (6+7j)\n",
      "6 is the index of  [1, 2, 3, 'kshb']\n"
     ]
    }
   ],
   "source": [
    "#1\n",
    "l = [2,3,4,5, \"sudh\", 6+7j, [1,2,3, \"kshb\"]]\n",
    "for i in l:\n",
    "    print(l.index(i), \"is the index of \", i)"
   ]
  },
  {
   "cell_type": "code",
   "execution_count": 9,
   "id": "5e6000c9",
   "metadata": {},
   "outputs": [
    {
     "name": "stdout",
     "output_type": "stream",
     "text": [
      "0 2\n",
      "1 3\n",
      "2 4\n",
      "3 5\n",
      "4 12\n",
      "5 12\n",
      "6 12\n",
      "7 sudh\n",
      "8 (6+7j)\n",
      "9 [1, 2, 3, 'kshb']\n"
     ]
    }
   ],
   "source": [
    "#1 enumerate function\n",
    "l1 = [2,3,4,5,12,12,12 ,\"sudh\", 6+7j, [1,2,3, \"kshb\"]]\n",
    "for i,j in enumerate(l1):\n",
    "    print(i,j)"
   ]
  },
  {
   "cell_type": "code",
   "execution_count": 3,
   "id": "f8d73667",
   "metadata": {},
   "outputs": [],
   "source": [
    "#3\n",
    "l = [2,3,4,5,12,3, \"sudh\", 6+7j, [1,2,3, \"kshb\"]]\n",
    "l2 = []\n",
    "for i in l:\n",
    "    if type(i) == int:\n",
    "        l2.append(i**2)"
   ]
  },
  {
   "cell_type": "code",
   "execution_count": 4,
   "id": "942cdda4",
   "metadata": {},
   "outputs": [
    {
     "data": {
      "text/plain": [
       "[4, 9, 16, 25, 144, 9]"
      ]
     },
     "execution_count": 4,
     "metadata": {},
     "output_type": "execute_result"
    }
   ],
   "source": [
    "l2"
   ]
  },
  {
   "cell_type": "code",
   "execution_count": 5,
   "id": "14c80dca",
   "metadata": {},
   "outputs": [
    {
     "name": "stdout",
     "output_type": "stream",
     "text": [
      "Index 0 for an element 2\n",
      "Index 1 for an element 3\n",
      "Index 2 for an element 4\n",
      "Index 3 for an element 5\n",
      "Index 4 for an element sudh\n",
      "Index 5 for an element (6+7j)\n",
      "Index 6 for an element [1, 2, 3, 'kshb']\n"
     ]
    }
   ],
   "source": [
    "#1 Right way \n",
    "\n",
    "for i in range(len(l)):\n",
    "    print(\"Index\", i , \"for an element\", l[i])"
   ]
  }
 ],
 "metadata": {
  "kernelspec": {
   "display_name": "Python 3",
   "language": "python",
   "name": "python3"
  },
  "language_info": {
   "codemirror_mode": {
    "name": "ipython",
    "version": 3
   },
   "file_extension": ".py",
   "mimetype": "text/x-python",
   "name": "python",
   "nbconvert_exporter": "python",
   "pygments_lexer": "ipython3",
   "version": "3.8.8"
  }
 },
 "nbformat": 4,
 "nbformat_minor": 5
}
