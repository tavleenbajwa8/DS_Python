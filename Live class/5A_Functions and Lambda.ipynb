{
 "cells": [
  {
   "cell_type": "code",
   "execution_count": 1,
   "id": "440a0897",
   "metadata": {},
   "outputs": [],
   "source": [
    "#In a function we pass data "
   ]
  },
  {
   "cell_type": "code",
   "execution_count": 2,
   "id": "fdc2fd78",
   "metadata": {},
   "outputs": [],
   "source": [
    "#For passing multiple arguments\n",
    "\n",
    "def test(*args):\n",
    "    return args\n",
    "    "
   ]
  },
  {
   "cell_type": "code",
   "execution_count": 3,
   "id": "5ff254e8",
   "metadata": {},
   "outputs": [
    {
     "data": {
      "text/plain": [
       "(2, 67, 89, 90)"
      ]
     },
     "execution_count": 3,
     "metadata": {},
     "output_type": "execute_result"
    }
   ],
   "source": [
    "test(2,67,89,90)"
   ]
  },
  {
   "cell_type": "code",
   "execution_count": 4,
   "id": "e141ff0a",
   "metadata": {},
   "outputs": [
    {
     "data": {
      "text/plain": [
       "('sudh', 7)"
      ]
     },
     "execution_count": 4,
     "metadata": {},
     "output_type": "execute_result"
    }
   ],
   "source": [
    "test(\"sudh\",7)"
   ]
  },
  {
   "cell_type": "code",
   "execution_count": 5,
   "id": "708c04d7",
   "metadata": {},
   "outputs": [
    {
     "data": {
      "text/plain": [
       "([3, 4, 5], (22, 3, 4, 5), 'ksdfhds', (34+7j))"
      ]
     },
     "execution_count": 5,
     "metadata": {},
     "output_type": "execute_result"
    }
   ],
   "source": [
    "test([3,4,5], (22,3,4,5), \"ksdfhds\", (34+7j))"
   ]
  },
  {
   "cell_type": "code",
   "execution_count": 6,
   "id": "227ba119",
   "metadata": {},
   "outputs": [],
   "source": [
    "#args is not a standardreserved keyword/variable, in order for passing multiple arguments, * is important"
   ]
  },
  {
   "cell_type": "code",
   "execution_count": 7,
   "id": "543dd4cc",
   "metadata": {},
   "outputs": [],
   "source": [
    "def test2(*sudh):\n",
    "    return sudh"
   ]
  },
  {
   "cell_type": "code",
   "execution_count": 8,
   "id": "70741c17",
   "metadata": {},
   "outputs": [
    {
     "data": {
      "text/plain": [
       "('efjgagkf', 234, '@41325')"
      ]
     },
     "execution_count": 8,
     "metadata": {},
     "output_type": "execute_result"
    }
   ],
   "source": [
    "test2(\"efjgagkf\",234,\"@41325\")"
   ]
  },
  {
   "cell_type": "code",
   "execution_count": 9,
   "id": "11adbdb5",
   "metadata": {},
   "outputs": [],
   "source": [
    "#If we have to pass multiple argument and some specific/fixed data along with it  \n",
    "\n",
    "#Eg: a \n",
    "\n",
    "def test3(*sudh, a):\n",
    "    return sudh, a"
   ]
  },
  {
   "cell_type": "code",
   "execution_count": 10,
   "id": "8929c745",
   "metadata": {},
   "outputs": [
    {
     "ename": "TypeError",
     "evalue": "test3() missing 1 required keyword-only argument: 'a'",
     "output_type": "error",
     "traceback": [
      "\u001b[1;31m---------------------------------------------------------------------------\u001b[0m",
      "\u001b[1;31mTypeError\u001b[0m                                 Traceback (most recent call last)",
      "\u001b[1;32m<ipython-input-10-642b8fb3c8ce>\u001b[0m in \u001b[0;36m<module>\u001b[1;34m\u001b[0m\n\u001b[1;32m----> 1\u001b[1;33m \u001b[0mtest3\u001b[0m\u001b[1;33m(\u001b[0m\u001b[1;36m23\u001b[0m\u001b[1;33m,\u001b[0m\u001b[1;36m342\u001b[0m\u001b[1;33m,\u001b[0m\u001b[1;36m54\u001b[0m\u001b[1;33m)\u001b[0m\u001b[1;33m\u001b[0m\u001b[1;33m\u001b[0m\u001b[0m\n\u001b[0m",
      "\u001b[1;31mTypeError\u001b[0m: test3() missing 1 required keyword-only argument: 'a'"
     ]
    }
   ],
   "source": [
    "test3(23,342,54)"
   ]
  },
  {
   "cell_type": "code",
   "execution_count": null,
   "id": "ad1628f3",
   "metadata": {},
   "outputs": [],
   "source": []
  },
  {
   "cell_type": "code",
   "execution_count": 11,
   "id": "f8d2707f",
   "metadata": {},
   "outputs": [
    {
     "data": {
      "text/plain": [
       "((23, 343), 54)"
      ]
     },
     "execution_count": 11,
     "metadata": {},
     "output_type": "execute_result"
    }
   ],
   "source": [
    "test3(23,343, a=54)"
   ]
  },
  {
   "cell_type": "code",
   "execution_count": 16,
   "id": "b25bacd6",
   "metadata": {},
   "outputs": [
    {
     "ename": "SyntaxError",
     "evalue": "positional argument follows keyword argument (<ipython-input-16-0c79e4861f18>, line 1)",
     "output_type": "error",
     "traceback": [
      "\u001b[1;36m  File \u001b[1;32m\"<ipython-input-16-0c79e4861f18>\"\u001b[1;36m, line \u001b[1;32m1\u001b[0m\n\u001b[1;33m    test3(a=\"dkjshj\",2,3,45)\u001b[0m\n\u001b[1;37m                     ^\u001b[0m\n\u001b[1;31mSyntaxError\u001b[0m\u001b[1;31m:\u001b[0m positional argument follows keyword argument\n"
     ]
    }
   ],
   "source": [
    "test3(a=\"dkjshj\",2,3,45)"
   ]
  },
  {
   "cell_type": "code",
   "execution_count": 14,
   "id": "21b1ea36",
   "metadata": {},
   "outputs": [],
   "source": [
    "def test4(*args, a,b,c,d):\n",
    "    return args, a,b,c,d"
   ]
  },
  {
   "cell_type": "code",
   "execution_count": 15,
   "id": "7a4ccc67",
   "metadata": {},
   "outputs": [
    {
     "data": {
      "text/plain": [
       "((324, 343, 342, 342), 'ahgdhf', 4329, 'sdljs', 32324)"
      ]
     },
     "execution_count": 15,
     "metadata": {},
     "output_type": "execute_result"
    }
   ],
   "source": [
    "test4(324,343,342,342, a=\"ahgdhf\", b=4329, c=\"sdljs\", d=32324)"
   ]
  },
  {
   "cell_type": "code",
   "execution_count": 17,
   "id": "33af9a9e",
   "metadata": {},
   "outputs": [],
   "source": [
    "def test5(a, *sudh, b, c):\n",
    "    return a, sudh,b,c"
   ]
  },
  {
   "cell_type": "code",
   "execution_count": 19,
   "id": "b13b0c0c",
   "metadata": {},
   "outputs": [
    {
     "data": {
      "text/plain": [
       "('jdhka', ([3, 4, 5, 6, 87], 9443), 342, 342)"
      ]
     },
     "execution_count": 19,
     "metadata": {},
     "output_type": "execute_result"
    }
   ],
   "source": [
    "test5(\"jdhka\", [3,4,5,6,87], 9443,b=342, c=342)"
   ]
  },
  {
   "cell_type": "code",
   "execution_count": 20,
   "id": "08095ded",
   "metadata": {},
   "outputs": [],
   "source": [
    "#Create a function, user can pass anything they want. If user pass list, it should return list part"
   ]
  },
  {
   "cell_type": "code",
   "execution_count": 27,
   "id": "9fd11050",
   "metadata": {},
   "outputs": [],
   "source": [
    "def test6(*args):\n",
    "    for i in args:\n",
    "        if type(i) == list:\n",
    "            return i"
   ]
  },
  {
   "cell_type": "code",
   "execution_count": 28,
   "id": "6fd17909",
   "metadata": {},
   "outputs": [
    {
     "data": {
      "text/plain": [
       "[32, 4, 43, 35]"
      ]
     },
     "execution_count": 28,
     "metadata": {},
     "output_type": "execute_result"
    }
   ],
   "source": [
    "test6(\"2123\", 6327, [32,4,43,35])"
   ]
  },
  {
   "cell_type": "code",
   "execution_count": 29,
   "id": "18b9fa0f",
   "metadata": {},
   "outputs": [
    {
     "data": {
      "text/plain": [
       "[13243, 32, 342, 42]"
      ]
     },
     "execution_count": 29,
     "metadata": {},
     "output_type": "execute_result"
    }
   ],
   "source": [
    "test6([13243,32,342,42], \"343342dfds\", [343,32,32])"
   ]
  },
  {
   "cell_type": "code",
   "execution_count": 30,
   "id": "044f1e89",
   "metadata": {},
   "outputs": [],
   "source": [
    "#We are getting only 1 list, both lists are not getting published"
   ]
  },
  {
   "cell_type": "code",
   "execution_count": 31,
   "id": "9cadb710",
   "metadata": {},
   "outputs": [],
   "source": [
    "#print will work but it returns a nonetype #not going to work"
   ]
  },
  {
   "cell_type": "code",
   "execution_count": 32,
   "id": "75f32308",
   "metadata": {},
   "outputs": [],
   "source": [
    "def test6(*args):\n",
    "    l = []\n",
    "    for i in args:\n",
    "        if type(i) == list:\n",
    "            l.append(i)\n",
    "    return l"
   ]
  },
  {
   "cell_type": "code",
   "execution_count": 33,
   "id": "2632d4fe",
   "metadata": {},
   "outputs": [
    {
     "data": {
      "text/plain": [
       "[[13243, 32, 342, 42], [343, 32, 32]]"
      ]
     },
     "execution_count": 33,
     "metadata": {},
     "output_type": "execute_result"
    }
   ],
   "source": [
    "test6([13243,32,342,42], \"343342dfds\", [343,32,32])"
   ]
  },
  {
   "cell_type": "code",
   "execution_count": 34,
   "id": "0d0b745f",
   "metadata": {},
   "outputs": [],
   "source": [
    "#pass a function which will take multiple arguments but only in form of Key:value pair"
   ]
  },
  {
   "cell_type": "code",
   "execution_count": 35,
   "id": "36f0dd3e",
   "metadata": {},
   "outputs": [],
   "source": [
    "d = {\"a\": [2,3,4,5], 6: [3324,342,453]}"
   ]
  },
  {
   "cell_type": "code",
   "execution_count": 36,
   "id": "6e5ea858",
   "metadata": {},
   "outputs": [
    {
     "data": {
      "text/plain": [
       "[2, 3, 4, 5]"
      ]
     },
     "execution_count": 36,
     "metadata": {},
     "output_type": "execute_result"
    }
   ],
   "source": [
    "d[\"a\"]"
   ]
  },
  {
   "cell_type": "code",
   "execution_count": 37,
   "id": "599ba8e6",
   "metadata": {},
   "outputs": [],
   "source": [
    "def test7(**kwargs):   #kw is kwyword arguments\n",
    "        return kwargs  "
   ]
  },
  {
   "cell_type": "code",
   "execution_count": 38,
   "id": "80f3e86a",
   "metadata": {},
   "outputs": [
    {
     "ename": "TypeError",
     "evalue": "test7() takes 0 positional arguments but 4 were given",
     "output_type": "error",
     "traceback": [
      "\u001b[1;31m---------------------------------------------------------------------------\u001b[0m",
      "\u001b[1;31mTypeError\u001b[0m                                 Traceback (most recent call last)",
      "\u001b[1;32m<ipython-input-38-33f093a1bd61>\u001b[0m in \u001b[0;36m<module>\u001b[1;34m\u001b[0m\n\u001b[1;32m----> 1\u001b[1;33m \u001b[0mtest7\u001b[0m\u001b[1;33m(\u001b[0m\u001b[1;36m3\u001b[0m\u001b[1;33m,\u001b[0m\u001b[1;36m32\u001b[0m\u001b[1;33m,\u001b[0m\u001b[1;36m4\u001b[0m\u001b[1;33m,\u001b[0m\u001b[1;36m34\u001b[0m\u001b[1;33m)\u001b[0m\u001b[1;33m\u001b[0m\u001b[1;33m\u001b[0m\u001b[0m\n\u001b[0m",
      "\u001b[1;31mTypeError\u001b[0m: test7() takes 0 positional arguments but 4 were given"
     ]
    }
   ],
   "source": [
    "test7(3,32,4,34)"
   ]
  },
  {
   "cell_type": "code",
   "execution_count": 39,
   "id": "4e50e4bb",
   "metadata": {},
   "outputs": [
    {
     "data": {
      "text/plain": [
       "{'a': 3434, 'b': [32, 324, 4, 34]}"
      ]
     },
     "execution_count": 39,
     "metadata": {},
     "output_type": "execute_result"
    }
   ],
   "source": [
    "test7(a=3434, b= [32,324,4,34])"
   ]
  },
  {
   "cell_type": "code",
   "execution_count": 40,
   "id": "b13a814f",
   "metadata": {},
   "outputs": [],
   "source": [
    "def test8(**sudh):\n",
    "    return sudh"
   ]
  },
  {
   "cell_type": "code",
   "execution_count": 41,
   "id": "0a404d1f",
   "metadata": {},
   "outputs": [
    {
     "data": {
      "text/plain": [
       "{'b': 34, 'g': 33234}"
      ]
     },
     "execution_count": 41,
     "metadata": {},
     "output_type": "execute_result"
    }
   ],
   "source": [
    "test8(b = 34, g=33234)"
   ]
  },
  {
   "cell_type": "code",
   "execution_count": 42,
   "id": "72bcf99a",
   "metadata": {},
   "outputs": [
    {
     "ename": "SyntaxError",
     "evalue": "expression cannot contain assignment, perhaps you meant \"==\"? (<ipython-input-42-6647c50e3ed4>, line 1)",
     "output_type": "error",
     "traceback": [
      "\u001b[1;36m  File \u001b[1;32m\"<ipython-input-42-6647c50e3ed4>\"\u001b[1;36m, line \u001b[1;32m1\u001b[0m\n\u001b[1;33m    test8(\"b\" = 34, \"d\"= \"kjdh\")\u001b[0m\n\u001b[1;37m          ^\u001b[0m\n\u001b[1;31mSyntaxError\u001b[0m\u001b[1;31m:\u001b[0m expression cannot contain assignment, perhaps you meant \"==\"?\n"
     ]
    }
   ],
   "source": [
    "test8(\"b\" = 34, \"d\"= \"kjdh\")  #No need to write double/single quotes"
   ]
  },
  {
   "cell_type": "code",
   "execution_count": 43,
   "id": "a95d5394",
   "metadata": {},
   "outputs": [],
   "source": [
    "def test9(**sudh):\n",
    "    return sudh"
   ]
  },
  {
   "cell_type": "code",
   "execution_count": 44,
   "id": "26052760",
   "metadata": {},
   "outputs": [
    {
     "data": {
      "text/plain": [
       "{'name': 'sudh',\n",
       " 'age': '31',\n",
       " 'phone_number': '382743',\n",
       " 'mail_id': 'jdsfhj@gmail.com',\n",
       " 'adr': 'sdjfhld'}"
      ]
     },
     "execution_count": 44,
     "metadata": {},
     "output_type": "execute_result"
    }
   ],
   "source": [
    "test9(name = \"sudh\", age = \"31\", phone_number = \"382743\", mail_id = \"jdsfhj@gmail.com\", adr= \"sdjfhld\")"
   ]
  },
  {
   "cell_type": "code",
   "execution_count": 45,
   "id": "6c3953be",
   "metadata": {},
   "outputs": [],
   "source": [
    "def test10(a, **sudh):\n",
    "    return sudh, a"
   ]
  },
  {
   "cell_type": "code",
   "execution_count": 46,
   "id": "37305b64",
   "metadata": {},
   "outputs": [
    {
     "ename": "TypeError",
     "evalue": "test10() takes 1 positional argument but 5 were given",
     "output_type": "error",
     "traceback": [
      "\u001b[1;31m---------------------------------------------------------------------------\u001b[0m",
      "\u001b[1;31mTypeError\u001b[0m                                 Traceback (most recent call last)",
      "\u001b[1;32m<ipython-input-46-7994bf3648f9>\u001b[0m in \u001b[0;36m<module>\u001b[1;34m\u001b[0m\n\u001b[1;32m----> 1\u001b[1;33m \u001b[0mtest10\u001b[0m\u001b[1;33m(\u001b[0m\u001b[1;36m45\u001b[0m\u001b[1;33m,\u001b[0m\u001b[1;36m5\u001b[0m\u001b[1;33m,\u001b[0m\u001b[1;36m3\u001b[0m\u001b[1;33m,\u001b[0m\u001b[1;36m3\u001b[0m\u001b[1;33m,\u001b[0m\u001b[1;36m2\u001b[0m\u001b[1;33m)\u001b[0m\u001b[1;33m\u001b[0m\u001b[1;33m\u001b[0m\u001b[0m\n\u001b[0m",
      "\u001b[1;31mTypeError\u001b[0m: test10() takes 1 positional argument but 5 were given"
     ]
    }
   ],
   "source": [
    "test10(45,5,3,3,2)"
   ]
  },
  {
   "cell_type": "code",
   "execution_count": 50,
   "id": "b284a7de",
   "metadata": {},
   "outputs": [
    {
     "data": {
      "text/plain": [
       "({'z': 45, 'b': 5, 'c': 3, 'd': 3, 'e': 2}, 56)"
      ]
     },
     "execution_count": 50,
     "metadata": {},
     "output_type": "execute_result"
    }
   ],
   "source": [
    "test10(56, z = 45, b=5, c=3, d=3, e=2)"
   ]
  },
  {
   "cell_type": "code",
   "execution_count": 51,
   "id": "07b494d5",
   "metadata": {},
   "outputs": [
    {
     "ename": "SyntaxError",
     "evalue": "invalid syntax (<ipython-input-51-f6139e5d7af3>, line 1)",
     "output_type": "error",
     "traceback": [
      "\u001b[1;36m  File \u001b[1;32m\"<ipython-input-51-f6139e5d7af3>\"\u001b[1;36m, line \u001b[1;32m1\u001b[0m\n\u001b[1;33m    def test11(a, **sudh, *args):\u001b[0m\n\u001b[1;37m                          ^\u001b[0m\n\u001b[1;31mSyntaxError\u001b[0m\u001b[1;31m:\u001b[0m invalid syntax\n"
     ]
    }
   ],
   "source": [
    "def test11(a, **sudh, *args):  #*args in the second place doesnt work\n",
    "    return sudh, a, args"
   ]
  },
  {
   "cell_type": "code",
   "execution_count": 53,
   "id": "d1f46b40",
   "metadata": {},
   "outputs": [],
   "source": [
    "def test12(a, *args, **kwargs):   #Position of *args, **kwargs matters\n",
    "    return a, args, kwargs"
   ]
  },
  {
   "cell_type": "code",
   "execution_count": 54,
   "id": "b5062311",
   "metadata": {},
   "outputs": [
    {
     "data": {
      "text/plain": [
       "(45, (3, 2, 3, 32), {'g': 38, 'l': 2324})"
      ]
     },
     "execution_count": 54,
     "metadata": {},
     "output_type": "execute_result"
    }
   ],
   "source": [
    "test12(45,3,2,3,32, g=38,l=2324)"
   ]
  },
  {
   "cell_type": "code",
   "execution_count": 55,
   "id": "026b4932",
   "metadata": {},
   "outputs": [],
   "source": [
    "#one liner and anonymous functions"
   ]
  },
  {
   "cell_type": "code",
   "execution_count": 56,
   "id": "2bdb7799",
   "metadata": {},
   "outputs": [],
   "source": [
    "def test13(a,b):\n",
    "    return a*b"
   ]
  },
  {
   "cell_type": "code",
   "execution_count": 58,
   "id": "8833b12c",
   "metadata": {},
   "outputs": [
    {
     "data": {
      "text/plain": [
       "6"
      ]
     },
     "execution_count": 58,
     "metadata": {},
     "output_type": "execute_result"
    }
   ],
   "source": [
    "test13(2,3)"
   ]
  },
  {
   "cell_type": "code",
   "execution_count": 59,
   "id": "abe15e43",
   "metadata": {},
   "outputs": [],
   "source": [
    "#Anonymous function "
   ]
  },
  {
   "cell_type": "code",
   "execution_count": 61,
   "id": "c854e9bb",
   "metadata": {},
   "outputs": [],
   "source": [
    "a = lambda a, b : a*b"
   ]
  },
  {
   "cell_type": "code",
   "execution_count": 62,
   "id": "2d28d586",
   "metadata": {},
   "outputs": [
    {
     "data": {
      "text/plain": [
       "6"
      ]
     },
     "execution_count": 62,
     "metadata": {},
     "output_type": "execute_result"
    }
   ],
   "source": [
    "a(2,3)"
   ]
  },
  {
   "cell_type": "code",
   "execution_count": 64,
   "id": "50253525",
   "metadata": {},
   "outputs": [
    {
     "ename": "NameError",
     "evalue": "name 'b' is not defined",
     "output_type": "error",
     "traceback": [
      "\u001b[1;31m---------------------------------------------------------------------------\u001b[0m",
      "\u001b[1;31mNameError\u001b[0m                                 Traceback (most recent call last)",
      "\u001b[1;32m<ipython-input-64-cad358426dbb>\u001b[0m in \u001b[0;36m<module>\u001b[1;34m\u001b[0m\n\u001b[1;32m----> 1\u001b[1;33m \u001b[0mx\u001b[0m \u001b[1;33m=\u001b[0m \u001b[1;32mlambda\u001b[0m \u001b[0ma\u001b[0m\u001b[1;33m,\u001b[0m \u001b[0mb\u001b[0m \u001b[1;33m:\u001b[0m \u001b[0ma\u001b[0m\u001b[1;33m*\u001b[0m\u001b[0mb\u001b[0m\u001b[1;33m,\u001b[0m \u001b[0ma\u001b[0m\u001b[1;33m+\u001b[0m\u001b[0mb\u001b[0m\u001b[1;33m\u001b[0m\u001b[1;33m\u001b[0m\u001b[0m\n\u001b[0m",
      "\u001b[1;31mNameError\u001b[0m: name 'b' is not defined"
     ]
    }
   ],
   "source": [
    "x = lambda a, b : a*b, a+b"
   ]
  },
  {
   "cell_type": "code",
   "execution_count": 65,
   "id": "c929a246",
   "metadata": {},
   "outputs": [],
   "source": [
    "x = lambda a, b : (a*b, a+b)"
   ]
  },
  {
   "cell_type": "code",
   "execution_count": 66,
   "id": "6ffc067d",
   "metadata": {},
   "outputs": [
    {
     "data": {
      "text/plain": [
       "(6, 5)"
      ]
     },
     "execution_count": 66,
     "metadata": {},
     "output_type": "execute_result"
    }
   ],
   "source": [
    "x(2,3)"
   ]
  },
  {
   "cell_type": "code",
   "execution_count": 67,
   "id": "76c7e925",
   "metadata": {},
   "outputs": [],
   "source": [
    "x = lambda *a: a"
   ]
  },
  {
   "cell_type": "code",
   "execution_count": 68,
   "id": "8dd43010",
   "metadata": {},
   "outputs": [
    {
     "data": {
      "text/plain": [
       "(32, 32, 32, 9)"
      ]
     },
     "execution_count": 68,
     "metadata": {},
     "output_type": "execute_result"
    }
   ],
   "source": [
    "x(32,32,32,9)"
   ]
  },
  {
   "cell_type": "code",
   "execution_count": 73,
   "id": "6407a396",
   "metadata": {},
   "outputs": [],
   "source": [
    "x = lambda x : [i for i in x]"
   ]
  },
  {
   "cell_type": "code",
   "execution_count": 74,
   "id": "52e1361e",
   "metadata": {},
   "outputs": [
    {
     "data": {
      "text/plain": [
       "[5, 5, 7, 8]"
      ]
     },
     "execution_count": 74,
     "metadata": {},
     "output_type": "execute_result"
    }
   ],
   "source": [
    "x([5,5,7,8])"
   ]
  },
  {
   "cell_type": "code",
   "execution_count": 75,
   "id": "1cfe4418",
   "metadata": {},
   "outputs": [
    {
     "ename": "TypeError",
     "evalue": "'int' object is not iterable",
     "output_type": "error",
     "traceback": [
      "\u001b[1;31m---------------------------------------------------------------------------\u001b[0m",
      "\u001b[1;31mTypeError\u001b[0m                                 Traceback (most recent call last)",
      "\u001b[1;32m<ipython-input-75-756e17d1d628>\u001b[0m in \u001b[0;36m<module>\u001b[1;34m\u001b[0m\n\u001b[1;32m----> 1\u001b[1;33m \u001b[0mx\u001b[0m\u001b[1;33m(\u001b[0m\u001b[1;36m45\u001b[0m\u001b[1;33m)\u001b[0m\u001b[1;33m\u001b[0m\u001b[1;33m\u001b[0m\u001b[0m\n\u001b[0m",
      "\u001b[1;32m<ipython-input-73-94e1fbb972eb>\u001b[0m in \u001b[0;36m<lambda>\u001b[1;34m(x)\u001b[0m\n\u001b[1;32m----> 1\u001b[1;33m \u001b[0mx\u001b[0m \u001b[1;33m=\u001b[0m \u001b[1;32mlambda\u001b[0m \u001b[0mx\u001b[0m \u001b[1;33m:\u001b[0m \u001b[1;33m[\u001b[0m\u001b[0mi\u001b[0m \u001b[1;32mfor\u001b[0m \u001b[0mi\u001b[0m \u001b[1;32min\u001b[0m \u001b[0mx\u001b[0m\u001b[1;33m]\u001b[0m\u001b[1;33m\u001b[0m\u001b[1;33m\u001b[0m\u001b[0m\n\u001b[0m",
      "\u001b[1;31mTypeError\u001b[0m: 'int' object is not iterable"
     ]
    }
   ],
   "source": [
    "x(45)"
   ]
  },
  {
   "cell_type": "code",
   "execution_count": 76,
   "id": "d96cde10",
   "metadata": {},
   "outputs": [],
   "source": [
    "a = lambda **kwargs : kwargs"
   ]
  },
  {
   "cell_type": "code",
   "execution_count": 77,
   "id": "a436eaf6",
   "metadata": {},
   "outputs": [
    {
     "data": {
      "text/plain": [
       "{'a': 45, 'b': 'efhu'}"
      ]
     },
     "execution_count": 77,
     "metadata": {},
     "output_type": "execute_result"
    }
   ],
   "source": [
    "a(a = 45, b = \"efhu\")"
   ]
  },
  {
   "cell_type": "code",
   "execution_count": 78,
   "id": "4dc1a471",
   "metadata": {},
   "outputs": [],
   "source": [
    "#Passing external values \n",
    "\n",
    "a = 10\n",
    "def test16(c, d):\n",
    "    return c*d"
   ]
  },
  {
   "cell_type": "code",
   "execution_count": 79,
   "id": "e7429411",
   "metadata": {},
   "outputs": [
    {
     "data": {
      "text/plain": [
       "500"
      ]
     },
     "execution_count": 79,
     "metadata": {},
     "output_type": "execute_result"
    }
   ],
   "source": [
    "test16(a,50)"
   ]
  },
  {
   "cell_type": "code",
   "execution_count": 80,
   "id": "91e07de5",
   "metadata": {},
   "outputs": [],
   "source": [
    "#a=10 is present outside the function and is a global variable, a=5 is a local variable\n",
    "a = 10\n",
    "def test17(c, d):\n",
    "    a = 5\n",
    "    return c*d"
   ]
  },
  {
   "cell_type": "code",
   "execution_count": 81,
   "id": "011c61ef",
   "metadata": {},
   "outputs": [
    {
     "data": {
      "text/plain": [
       "500"
      ]
     },
     "execution_count": 81,
     "metadata": {},
     "output_type": "execute_result"
    }
   ],
   "source": [
    "test17(a,50)"
   ]
  },
  {
   "cell_type": "code",
   "execution_count": 4,
   "id": "7deee03a",
   "metadata": {},
   "outputs": [],
   "source": [
    "c = 10\n",
    "def test18(c, d):\n",
    "    c = 5\n",
    "    return c*d"
   ]
  },
  {
   "cell_type": "code",
   "execution_count": 5,
   "id": "fcea7804",
   "metadata": {},
   "outputs": [
    {
     "data": {
      "text/plain": [
       "250"
      ]
     },
     "execution_count": 5,
     "metadata": {},
     "output_type": "execute_result"
    }
   ],
   "source": [
    "test18(10,50)  #overwriting value of c and writing "
   ]
  },
  {
   "cell_type": "code",
   "execution_count": 6,
   "id": "702875a1",
   "metadata": {},
   "outputs": [
    {
     "data": {
      "text/plain": [
       "10"
      ]
     },
     "execution_count": 6,
     "metadata": {},
     "output_type": "execute_result"
    }
   ],
   "source": [
    "c #will give a global value but inside the function it will consider local value"
   ]
  },
  {
   "cell_type": "code",
   "execution_count": 7,
   "id": "b3468862",
   "metadata": {},
   "outputs": [],
   "source": [
    "#list comprehension"
   ]
  },
  {
   "cell_type": "code",
   "execution_count": 8,
   "id": "7369c758",
   "metadata": {},
   "outputs": [],
   "source": [
    "l = [1,2,3,4,5,6,7,8]\n",
    "#Go through entire list and add 2 in each and every element and return a list"
   ]
  },
  {
   "cell_type": "code",
   "execution_count": 9,
   "id": "b861655c",
   "metadata": {},
   "outputs": [],
   "source": [
    "l = [1,1,2,3,4,5,67,8]\n",
    "l1 = []\n",
    "for i in l:\n",
    "    l1.append(i+2)"
   ]
  },
  {
   "cell_type": "code",
   "execution_count": 10,
   "id": "88f4df0b",
   "metadata": {},
   "outputs": [
    {
     "data": {
      "text/plain": [
       "[3, 3, 4, 5, 6, 7, 69, 10]"
      ]
     },
     "execution_count": 10,
     "metadata": {},
     "output_type": "execute_result"
    }
   ],
   "source": [
    "l1"
   ]
  },
  {
   "cell_type": "code",
   "execution_count": 11,
   "id": "8f6f217a",
   "metadata": {},
   "outputs": [],
   "source": [
    "def test20(a):\n",
    "    l1 = []\n",
    "    for i in a:\n",
    "        l1.append(i+2)\n",
    "    return l1"
   ]
  },
  {
   "cell_type": "code",
   "execution_count": 17,
   "id": "6555f010",
   "metadata": {},
   "outputs": [
    {
     "data": {
      "text/plain": [
       "[5, 5, 6, 7, 8, 9, 71, 12]"
      ]
     },
     "execution_count": 17,
     "metadata": {},
     "output_type": "execute_result"
    }
   ],
   "source": [
    "test20(l1)"
   ]
  },
  {
   "cell_type": "code",
   "execution_count": 18,
   "id": "e54a25e6",
   "metadata": {},
   "outputs": [],
   "source": [
    "a = lambda a : [i+2 for i in a]"
   ]
  },
  {
   "cell_type": "code",
   "execution_count": 19,
   "id": "5ae6da32",
   "metadata": {},
   "outputs": [
    {
     "data": {
      "text/plain": [
       "[5, 5, 6, 7, 8, 9, 71, 12]"
      ]
     },
     "execution_count": 19,
     "metadata": {},
     "output_type": "execute_result"
    }
   ],
   "source": [
    "a(l1)"
   ]
  },
  {
   "cell_type": "code",
   "execution_count": 20,
   "id": "b4433efa",
   "metadata": {},
   "outputs": [
    {
     "data": {
      "text/plain": [
       "[5, 5, 6, 7, 8, 9, 71, 12]"
      ]
     },
     "execution_count": 20,
     "metadata": {},
     "output_type": "execute_result"
    }
   ],
   "source": [
    "a(l1)"
   ]
  },
  {
   "cell_type": "code",
   "execution_count": 21,
   "id": "48c6d48a",
   "metadata": {},
   "outputs": [
    {
     "data": {
      "text/plain": [
       "[3, 3, 4, 5, 6, 7, 69, 10]"
      ]
     },
     "execution_count": 21,
     "metadata": {},
     "output_type": "execute_result"
    }
   ],
   "source": [
    "l1"
   ]
  },
  {
   "cell_type": "code",
   "execution_count": 23,
   "id": "9a7968e6",
   "metadata": {},
   "outputs": [
    {
     "data": {
      "text/plain": [
       "[5, 5, 6, 7, 8, 9, 71, 12]"
      ]
     },
     "execution_count": 23,
     "metadata": {},
     "output_type": "execute_result"
    }
   ],
   "source": [
    "[i+2 for i in l1]"
   ]
  },
  {
   "cell_type": "code",
   "execution_count": 25,
   "id": "8f1f1127",
   "metadata": {},
   "outputs": [
    {
     "data": {
      "text/plain": [
       "[(1, 2), (1, 2), (4, 3), (9, 4), (16, 5), (25, 6), (4489, 68), (64, 9)]"
      ]
     },
     "execution_count": 25,
     "metadata": {},
     "output_type": "execute_result"
    }
   ],
   "source": [
    "[(i**2, i+1) for i in l]  #Inside list  we are returning tuples"
   ]
  },
  {
   "cell_type": "code",
   "execution_count": 26,
   "id": "1add21bc",
   "metadata": {},
   "outputs": [],
   "source": [
    "#conditions in right hand side and output in left"
   ]
  },
  {
   "cell_type": "code",
   "execution_count": 27,
   "id": "f1ab545a",
   "metadata": {},
   "outputs": [
    {
     "data": {
      "text/plain": [
       "[(1, 2), (1, 2), (4, 3), (9, 4)]"
      ]
     },
     "execution_count": 27,
     "metadata": {},
     "output_type": "execute_result"
    }
   ],
   "source": [
    "[(i**2, i+1) for i in l if i<4]"
   ]
  },
  {
   "cell_type": "code",
   "execution_count": 28,
   "id": "fe1927db",
   "metadata": {},
   "outputs": [
    {
     "ename": "SyntaxError",
     "evalue": "'return' outside function (<ipython-input-28-bd3e55093d7a>, line 4)",
     "output_type": "error",
     "traceback": [
      "\u001b[1;36m  File \u001b[1;32m\"<ipython-input-28-bd3e55093d7a>\"\u001b[1;36m, line \u001b[1;32m4\u001b[0m\n\u001b[1;33m    return l1.append(i**2, i+i)\u001b[0m\n\u001b[1;37m    ^\u001b[0m\n\u001b[1;31mSyntaxError\u001b[0m\u001b[1;31m:\u001b[0m 'return' outside function\n"
     ]
    }
   ],
   "source": [
    "l1= []\n",
    "for i in l:\n",
    "    if i<4:\n",
    "        return l1.append(i**2, i+i)"
   ]
  },
  {
   "cell_type": "code",
   "execution_count": 29,
   "id": "fe068af8",
   "metadata": {},
   "outputs": [],
   "source": [
    "#Write function for above script"
   ]
  },
  {
   "cell_type": "code",
   "execution_count": 30,
   "id": "8567c5bb",
   "metadata": {},
   "outputs": [],
   "source": [
    "#create a dict d, where key will be a number and its value will be square of it\n",
    "\n",
    "#d = {1:1, 2:4, 3:9}"
   ]
  },
  {
   "cell_type": "code",
   "execution_count": 31,
   "id": "a36b6674",
   "metadata": {},
   "outputs": [
    {
     "data": {
      "text/plain": [
       "{0: 0, 1: 1, 2: 4, 3: 9, 4: 16, 5: 25, 6: 36, 7: 49, 8: 64, 9: 81}"
      ]
     },
     "execution_count": 31,
     "metadata": {},
     "output_type": "execute_result"
    }
   ],
   "source": [
    "{i:i**2 for i in range(10)}"
   ]
  },
  {
   "cell_type": "code",
   "execution_count": 33,
   "id": "3d19f1b0",
   "metadata": {},
   "outputs": [],
   "source": [
    "d1 = {}\n",
    "for i in range(10):\n",
    "    d1[i] = i**2\n"
   ]
  },
  {
   "cell_type": "code",
   "execution_count": 34,
   "id": "2dc81e97",
   "metadata": {},
   "outputs": [
    {
     "data": {
      "text/plain": [
       "{0: 0, 1: 1, 2: 4, 3: 9, 4: 16, 5: 25, 6: 36, 7: 49, 8: 64, 9: 81}"
      ]
     },
     "execution_count": 34,
     "metadata": {},
     "output_type": "execute_result"
    }
   ],
   "source": [
    "d1"
   ]
  },
  {
   "cell_type": "code",
   "execution_count": 35,
   "id": "acd793c8",
   "metadata": {},
   "outputs": [
    {
     "data": {
      "text/plain": [
       "<generator object <genexpr> at 0x0000016A14DA9F90>"
      ]
     },
     "execution_count": 35,
     "metadata": {},
     "output_type": "execute_result"
    }
   ],
   "source": [
    "(i for i in range(10))"
   ]
  },
  {
   "cell_type": "code",
   "execution_count": 36,
   "id": "e5cea48d",
   "metadata": {},
   "outputs": [
    {
     "data": {
      "text/plain": [
       "(0, 1, 2, 3, 4, 5, 6, 7, 8, 9)"
      ]
     },
     "execution_count": 36,
     "metadata": {},
     "output_type": "execute_result"
    }
   ],
   "source": [
    "tuple(i for i in range(10))"
   ]
  },
  {
   "cell_type": "code",
   "execution_count": 37,
   "id": "5a62972f",
   "metadata": {},
   "outputs": [],
   "source": [
    "#Generator, Iterator, Iterable"
   ]
  },
  {
   "cell_type": "code",
   "execution_count": 38,
   "id": "423cee62",
   "metadata": {},
   "outputs": [
    {
     "ename": "TypeError",
     "evalue": "'int' object is not iterable",
     "output_type": "error",
     "traceback": [
      "\u001b[1;31m---------------------------------------------------------------------------\u001b[0m",
      "\u001b[1;31mTypeError\u001b[0m                                 Traceback (most recent call last)",
      "\u001b[1;32m<ipython-input-38-a1cfb78b55f5>\u001b[0m in \u001b[0;36m<module>\u001b[1;34m\u001b[0m\n\u001b[0;32m      1\u001b[0m \u001b[0ma\u001b[0m \u001b[1;33m=\u001b[0m \u001b[1;36m56\u001b[0m\u001b[1;33m\u001b[0m\u001b[1;33m\u001b[0m\u001b[0m\n\u001b[1;32m----> 2\u001b[1;33m \u001b[1;32mfor\u001b[0m \u001b[0mi\u001b[0m \u001b[1;32min\u001b[0m \u001b[0ma\u001b[0m\u001b[1;33m:\u001b[0m\u001b[1;33m\u001b[0m\u001b[1;33m\u001b[0m\u001b[0m\n\u001b[0m\u001b[0;32m      3\u001b[0m     \u001b[0mprint\u001b[0m\u001b[1;33m(\u001b[0m\u001b[0mi\u001b[0m\u001b[1;33m)\u001b[0m\u001b[1;33m\u001b[0m\u001b[1;33m\u001b[0m\u001b[0m\n",
      "\u001b[1;31mTypeError\u001b[0m: 'int' object is not iterable"
     ]
    }
   ],
   "source": [
    "a = 56\n",
    "for i in a:\n",
    "    print(i)"
   ]
  },
  {
   "cell_type": "code",
   "execution_count": 39,
   "id": "55352105",
   "metadata": {},
   "outputs": [],
   "source": [
    "#'int' object is not iterable"
   ]
  },
  {
   "cell_type": "code",
   "execution_count": 41,
   "id": "2613abba",
   "metadata": {},
   "outputs": [
    {
     "name": "stdout",
     "output_type": "stream",
     "text": [
      "s\n",
      "u\n",
      "d\n",
      "h\n"
     ]
    }
   ],
   "source": [
    "s = \"sudh\"\n",
    "for i in s:\n",
    "    print(i)"
   ]
  },
  {
   "cell_type": "code",
   "execution_count": null,
   "id": "bc03ba26",
   "metadata": {},
   "outputs": [],
   "source": [
    "#'str' object is iterable"
   ]
  },
  {
   "cell_type": "code",
   "execution_count": 42,
   "id": "de5808f8",
   "metadata": {},
   "outputs": [
    {
     "ename": "TypeError",
     "evalue": "'str' object is not an iterator",
     "output_type": "error",
     "traceback": [
      "\u001b[1;31m---------------------------------------------------------------------------\u001b[0m",
      "\u001b[1;31mTypeError\u001b[0m                                 Traceback (most recent call last)",
      "\u001b[1;32m<ipython-input-42-61c30b5fe1d5>\u001b[0m in \u001b[0;36m<module>\u001b[1;34m\u001b[0m\n\u001b[1;32m----> 1\u001b[1;33m \u001b[0mnext\u001b[0m\u001b[1;33m(\u001b[0m\u001b[0ms\u001b[0m\u001b[1;33m)\u001b[0m\u001b[1;33m\u001b[0m\u001b[1;33m\u001b[0m\u001b[0m\n\u001b[0m",
      "\u001b[1;31mTypeError\u001b[0m: 'str' object is not an iterator"
     ]
    }
   ],
   "source": [
    "next(s)"
   ]
  },
  {
   "cell_type": "code",
   "execution_count": 43,
   "id": "df6946f2",
   "metadata": {},
   "outputs": [],
   "source": [
    "#'str' object is not an iterator"
   ]
  },
  {
   "cell_type": "code",
   "execution_count": 44,
   "id": "b054b99b",
   "metadata": {},
   "outputs": [],
   "source": [
    "#iterator vs iterable: If an object is holding values with help of index and if your able to access it with the help of indexes then we call it a iterable object.\n",
    "#for loop is trying to create str as a iterator"
   ]
  },
  {
   "cell_type": "code",
   "execution_count": 46,
   "id": "62ba2b4c",
   "metadata": {},
   "outputs": [],
   "source": [
    "b = iter(s)"
   ]
  },
  {
   "cell_type": "code",
   "execution_count": 47,
   "id": "6422ea41",
   "metadata": {},
   "outputs": [
    {
     "data": {
      "text/plain": [
       "<str_iterator at 0x16a14da4430>"
      ]
     },
     "execution_count": 47,
     "metadata": {},
     "output_type": "execute_result"
    }
   ],
   "source": [
    "b"
   ]
  },
  {
   "cell_type": "code",
   "execution_count": 48,
   "id": "a274252c",
   "metadata": {},
   "outputs": [
    {
     "data": {
      "text/plain": [
       "'s'"
      ]
     },
     "execution_count": 48,
     "metadata": {},
     "output_type": "execute_result"
    }
   ],
   "source": [
    "next(b)"
   ]
  },
  {
   "cell_type": "code",
   "execution_count": 49,
   "id": "7ee4fdfd",
   "metadata": {},
   "outputs": [
    {
     "data": {
      "text/plain": [
       "'u'"
      ]
     },
     "execution_count": 49,
     "metadata": {},
     "output_type": "execute_result"
    }
   ],
   "source": [
    "next(b)"
   ]
  },
  {
   "cell_type": "code",
   "execution_count": 50,
   "id": "d5449023",
   "metadata": {},
   "outputs": [],
   "source": [
    "#after converting str into iterator object, next func starts working"
   ]
  },
  {
   "cell_type": "code",
   "execution_count": 51,
   "id": "ff50f03a",
   "metadata": {},
   "outputs": [
    {
     "name": "stdout",
     "output_type": "stream",
     "text": [
      "s\n",
      "d\n",
      "k\n",
      "h\n",
      "f\n"
     ]
    }
   ],
   "source": [
    "s = \"sdkhf\"\n",
    "for i in s:      #for converts str into iterator by using iter function and then by using next function it gives all the objects individually\n",
    "    print(i)"
   ]
  },
  {
   "cell_type": "code",
   "execution_count": 52,
   "id": "1a33fdb5",
   "metadata": {},
   "outputs": [],
   "source": [
    "s = iter(s)"
   ]
  },
  {
   "cell_type": "code",
   "execution_count": 53,
   "id": "d2c14646",
   "metadata": {},
   "outputs": [
    {
     "data": {
      "text/plain": [
       "'s'"
      ]
     },
     "execution_count": 53,
     "metadata": {},
     "output_type": "execute_result"
    }
   ],
   "source": [
    "next(s)"
   ]
  },
  {
   "cell_type": "code",
   "execution_count": 54,
   "id": "14e433e5",
   "metadata": {},
   "outputs": [
    {
     "data": {
      "text/plain": [
       "'d'"
      ]
     },
     "execution_count": 54,
     "metadata": {},
     "output_type": "execute_result"
    }
   ],
   "source": [
    "next(s)"
   ]
  },
  {
   "cell_type": "code",
   "execution_count": 55,
   "id": "8f8ef10d",
   "metadata": {},
   "outputs": [
    {
     "data": {
      "text/plain": [
       "'k'"
      ]
     },
     "execution_count": 55,
     "metadata": {},
     "output_type": "execute_result"
    }
   ],
   "source": [
    "next(s)"
   ]
  },
  {
   "cell_type": "code",
   "execution_count": 56,
   "id": "75bf3e1d",
   "metadata": {},
   "outputs": [
    {
     "data": {
      "text/plain": [
       "'h'"
      ]
     },
     "execution_count": 56,
     "metadata": {},
     "output_type": "execute_result"
    }
   ],
   "source": [
    "next(s)"
   ]
  },
  {
   "cell_type": "code",
   "execution_count": 57,
   "id": "d3b9cdb5",
   "metadata": {},
   "outputs": [
    {
     "data": {
      "text/plain": [
       "'f'"
      ]
     },
     "execution_count": 57,
     "metadata": {},
     "output_type": "execute_result"
    }
   ],
   "source": [
    "next(s)"
   ]
  },
  {
   "cell_type": "code",
   "execution_count": 58,
   "id": "71658370",
   "metadata": {},
   "outputs": [
    {
     "ename": "StopIteration",
     "evalue": "",
     "output_type": "error",
     "traceback": [
      "\u001b[1;31m---------------------------------------------------------------------------\u001b[0m",
      "\u001b[1;31mStopIteration\u001b[0m                             Traceback (most recent call last)",
      "\u001b[1;32m<ipython-input-58-61c30b5fe1d5>\u001b[0m in \u001b[0;36m<module>\u001b[1;34m\u001b[0m\n\u001b[1;32m----> 1\u001b[1;33m \u001b[0mnext\u001b[0m\u001b[1;33m(\u001b[0m\u001b[0ms\u001b[0m\u001b[1;33m)\u001b[0m\u001b[1;33m\u001b[0m\u001b[1;33m\u001b[0m\u001b[0m\n\u001b[0m",
      "\u001b[1;31mStopIteration\u001b[0m: "
     ]
    }
   ],
   "source": [
    "next(s)"
   ]
  },
  {
   "cell_type": "code",
   "execution_count": 59,
   "id": "2adfbb31",
   "metadata": {},
   "outputs": [],
   "source": [
    "l = [3,4,5,6,7]"
   ]
  },
  {
   "cell_type": "code",
   "execution_count": 60,
   "id": "180df8d5",
   "metadata": {},
   "outputs": [
    {
     "ename": "TypeError",
     "evalue": "'list' object is not an iterator",
     "output_type": "error",
     "traceback": [
      "\u001b[1;31m---------------------------------------------------------------------------\u001b[0m",
      "\u001b[1;31mTypeError\u001b[0m                                 Traceback (most recent call last)",
      "\u001b[1;32m<ipython-input-60-cdc8a39da60d>\u001b[0m in \u001b[0;36m<module>\u001b[1;34m\u001b[0m\n\u001b[1;32m----> 1\u001b[1;33m \u001b[0mnext\u001b[0m\u001b[1;33m(\u001b[0m\u001b[0ml\u001b[0m\u001b[1;33m)\u001b[0m\u001b[1;33m\u001b[0m\u001b[1;33m\u001b[0m\u001b[0m\n\u001b[0m",
      "\u001b[1;31mTypeError\u001b[0m: 'list' object is not an iterator"
     ]
    }
   ],
   "source": [
    "next(l)"
   ]
  },
  {
   "cell_type": "code",
   "execution_count": 61,
   "id": "f0268b09",
   "metadata": {},
   "outputs": [
    {
     "ename": "TypeError",
     "evalue": "'int' object is not iterable",
     "output_type": "error",
     "traceback": [
      "\u001b[1;31m---------------------------------------------------------------------------\u001b[0m",
      "\u001b[1;31mTypeError\u001b[0m                                 Traceback (most recent call last)",
      "\u001b[1;32m<ipython-input-61-e50867f8c07e>\u001b[0m in \u001b[0;36m<module>\u001b[1;34m\u001b[0m\n\u001b[1;32m----> 1\u001b[1;33m \u001b[0miter\u001b[0m\u001b[1;33m(\u001b[0m\u001b[1;36m45\u001b[0m\u001b[1;33m)\u001b[0m\u001b[1;33m\u001b[0m\u001b[1;33m\u001b[0m\u001b[0m\n\u001b[0m",
      "\u001b[1;31mTypeError\u001b[0m: 'int' object is not iterable"
     ]
    }
   ],
   "source": [
    "iter(45)  #if something s not iterable, we cant convert it into iterator"
   ]
  },
  {
   "cell_type": "code",
   "execution_count": 62,
   "id": "582ffec8",
   "metadata": {},
   "outputs": [
    {
     "data": {
      "text/plain": [
       "[3, 4, 5, 6, 7]"
      ]
     },
     "execution_count": 62,
     "metadata": {},
     "output_type": "execute_result"
    }
   ],
   "source": [
    "l"
   ]
  },
  {
   "cell_type": "code",
   "execution_count": 64,
   "id": "7f031a82",
   "metadata": {},
   "outputs": [],
   "source": [
    "l = iter(l)"
   ]
  },
  {
   "cell_type": "code",
   "execution_count": 65,
   "id": "6bbdd5d6",
   "metadata": {},
   "outputs": [
    {
     "data": {
      "text/plain": [
       "<list_iterator at 0x16a14da4760>"
      ]
     },
     "execution_count": 65,
     "metadata": {},
     "output_type": "execute_result"
    }
   ],
   "source": [
    "l"
   ]
  },
  {
   "cell_type": "code",
   "execution_count": 66,
   "id": "b6956eac",
   "metadata": {},
   "outputs": [
    {
     "data": {
      "text/plain": [
       "3"
      ]
     },
     "execution_count": 66,
     "metadata": {},
     "output_type": "execute_result"
    }
   ],
   "source": [
    "next(l)"
   ]
  },
  {
   "cell_type": "code",
   "execution_count": 67,
   "id": "1f8c5c0f",
   "metadata": {},
   "outputs": [
    {
     "data": {
      "text/plain": [
       "4"
      ]
     },
     "execution_count": 67,
     "metadata": {},
     "output_type": "execute_result"
    }
   ],
   "source": [
    "next(l)"
   ]
  },
  {
   "cell_type": "code",
   "execution_count": 68,
   "id": "9308925f",
   "metadata": {},
   "outputs": [
    {
     "data": {
      "text/plain": [
       "5"
      ]
     },
     "execution_count": 68,
     "metadata": {},
     "output_type": "execute_result"
    }
   ],
   "source": [
    "next(l)"
   ]
  },
  {
   "cell_type": "code",
   "execution_count": 69,
   "id": "2f06ad28",
   "metadata": {},
   "outputs": [
    {
     "data": {
      "text/plain": [
       "6"
      ]
     },
     "execution_count": 69,
     "metadata": {},
     "output_type": "execute_result"
    }
   ],
   "source": [
    "next(l)"
   ]
  },
  {
   "cell_type": "code",
   "execution_count": 70,
   "id": "119ed624",
   "metadata": {},
   "outputs": [
    {
     "data": {
      "text/plain": [
       "7"
      ]
     },
     "execution_count": 70,
     "metadata": {},
     "output_type": "execute_result"
    }
   ],
   "source": [
    "next(l)"
   ]
  },
  {
   "cell_type": "code",
   "execution_count": 71,
   "id": "34881f37",
   "metadata": {},
   "outputs": [
    {
     "ename": "StopIteration",
     "evalue": "",
     "output_type": "error",
     "traceback": [
      "\u001b[1;31m---------------------------------------------------------------------------\u001b[0m",
      "\u001b[1;31mStopIteration\u001b[0m                             Traceback (most recent call last)",
      "\u001b[1;32m<ipython-input-71-cdc8a39da60d>\u001b[0m in \u001b[0;36m<module>\u001b[1;34m\u001b[0m\n\u001b[1;32m----> 1\u001b[1;33m \u001b[0mnext\u001b[0m\u001b[1;33m(\u001b[0m\u001b[0ml\u001b[0m\u001b[1;33m)\u001b[0m\u001b[1;33m\u001b[0m\u001b[1;33m\u001b[0m\u001b[0m\n\u001b[0m",
      "\u001b[1;31mStopIteration\u001b[0m: "
     ]
    }
   ],
   "source": [
    "next(l)"
   ]
  },
  {
   "cell_type": "code",
   "execution_count": null,
   "id": "b4995e94",
   "metadata": {},
   "outputs": [],
   "source": [
    "all iterables are iterator"
   ]
  }
 ],
 "metadata": {
  "kernelspec": {
   "display_name": "Python 3",
   "language": "python",
   "name": "python3"
  },
  "language_info": {
   "codemirror_mode": {
    "name": "ipython",
    "version": 3
   },
   "file_extension": ".py",
   "mimetype": "text/x-python",
   "name": "python",
   "nbconvert_exporter": "python",
   "pygments_lexer": "ipython3",
   "version": "3.8.8"
  }
 },
 "nbformat": 4,
 "nbformat_minor": 5
}
