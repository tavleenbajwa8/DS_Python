{
 "cells": [
  {
   "cell_type": "code",
   "execution_count": null,
   "id": "09d539e3",
   "metadata": {},
   "outputs": [],
   "source": [
    "def math_operation_via_postman(operation, num1, num2):\n",
    "    if (request.method=='POST'):\n",
    "        operation= request.json['operation']\n",
    "        num1=int(request.json['num1'])\n",
    "        num2 = int(request.json['num2'])\n",
    "        if(operation=='add'):\n",
    "            r=num1+num2\n",
    "            result= 'the sum of '+str(num1)+' and '+str(num2) +' is '+str(r)\n",
    "        if (operation == 'subtract'):\n",
    "            r = num1 - num2\n",
    "            result = 'the difference of ' + str(num1) + ' and ' + str(num2) + ' is ' + str(r)\n",
    "        if (operation == 'multiply'):\n",
    "            r = num1 * num2\n",
    "            result = 'the product of ' + str(num1) + ' and ' + str(num2) + ' is ' + str(r)\n",
    "        if (operation == 'divide'):\n",
    "            r = num1 / num2\n",
    "            result = 'the quotient when ' + str(num1) + ' is divided by ' + str(num2) + ' is ' + str(r)\n",
    "        return jsonify(result)"
   ]
  },
  {
   "cell_type": "code",
   "execution_count": 1,
   "id": "5109a8ad",
   "metadata": {},
   "outputs": [],
   "source": [
    "def math_operation_via_postman(operation, num1, num2):\n",
    "   \n",
    "        if(operation=='add'):\n",
    "            r=num1+num2\n",
    "            result= 'the sum of '+str(num1)+' and '+str(num2) +' is '+str(r)\n",
    "        if (operation == 'subtract'):\n",
    "            r = num1 - num2\n",
    "            result = 'the difference of ' + str(num1) + ' and ' + str(num2) + ' is ' + str(r)\n",
    "        if (operation == 'multiply'):\n",
    "            r = num1 * num2\n",
    "            result = 'the product of ' + str(num1) + ' and ' + str(num2) + ' is ' + str(r)\n",
    "        if (operation == 'divide'):\n",
    "            r = num1 / num2\n",
    "            result = 'the quotient when ' + str(num1) + ' is divided by ' + str(num2) + ' is ' + str(r)\n",
    "        return result"
   ]
  },
  {
   "cell_type": "code",
   "execution_count": 2,
   "id": "81f3de1e",
   "metadata": {},
   "outputs": [
    {
     "data": {
      "text/plain": [
       "'the sum of 34 and 36 is 70'"
      ]
     },
     "execution_count": 2,
     "metadata": {},
     "output_type": "execute_result"
    }
   ],
   "source": [
    "math_operation_via_postman(\"add\", 34, 36)"
   ]
  },
  {
   "cell_type": "code",
   "execution_count": null,
   "id": "7f569287",
   "metadata": {},
   "outputs": [],
   "source": []
  }
 ],
 "metadata": {
  "kernelspec": {
   "display_name": "Python 3",
   "language": "python",
   "name": "python3"
  },
  "language_info": {
   "codemirror_mode": {
    "name": "ipython",
    "version": 3
   },
   "file_extension": ".py",
   "mimetype": "text/x-python",
   "name": "python",
   "nbconvert_exporter": "python",
   "pygments_lexer": "ipython3",
   "version": "3.8.8"
  }
 },
 "nbformat": 4,
 "nbformat_minor": 5
}
