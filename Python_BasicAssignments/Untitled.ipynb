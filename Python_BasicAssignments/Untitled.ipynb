{
 "cells": [
  {
   "cell_type": "raw",
   "id": "3d9e8a43",
   "metadata": {},
   "source": [
    "string in detail"
   ]
  },
  {
   "cell_type": "code",
   "execution_count": 2,
   "id": "d6137696",
   "metadata": {},
   "outputs": [],
   "source": [
    "a = 'Penny'"
   ]
  },
  {
   "cell_type": "code",
   "execution_count": 3,
   "id": "55241f98",
   "metadata": {},
   "outputs": [
    {
     "data": {
      "text/plain": [
       "str"
      ]
     },
     "execution_count": 3,
     "metadata": {},
     "output_type": "execute_result"
    }
   ],
   "source": [
    "type(a)"
   ]
  },
  {
   "cell_type": "raw",
   "id": "889251db",
   "metadata": {},
   "source": [
    "To extract a particular character from a string"
   ]
  },
  {
   "cell_type": "code",
   "execution_count": 5,
   "id": "c4af5a49",
   "metadata": {},
   "outputs": [
    {
     "data": {
      "text/plain": [
       "'P'"
      ]
     },
     "execution_count": 5,
     "metadata": {},
     "output_type": "execute_result"
    }
   ],
   "source": [
    "a[0]"
   ]
  },
  {
   "cell_type": "code",
   "execution_count": 6,
   "id": "944b06a4",
   "metadata": {},
   "outputs": [
    {
     "data": {
      "text/plain": [
       "'n'"
      ]
     },
     "execution_count": 6,
     "metadata": {},
     "output_type": "execute_result"
    }
   ],
   "source": [
    "a[3]"
   ]
  },
  {
   "cell_type": "code",
   "execution_count": 7,
   "id": "0f503710",
   "metadata": {},
   "outputs": [
    {
     "data": {
      "text/plain": [
       "'y'"
      ]
     },
     "execution_count": 7,
     "metadata": {},
     "output_type": "execute_result"
    }
   ],
   "source": [
    "a[4]"
   ]
  },
  {
   "cell_type": "raw",
   "id": "baa03bfe",
   "metadata": {},
   "source": [
    "Indexes in backward direction"
   ]
  },
  {
   "cell_type": "code",
   "execution_count": 10,
   "id": "41dd2d5b",
   "metadata": {},
   "outputs": [
    {
     "data": {
      "text/plain": [
       "'y'"
      ]
     },
     "execution_count": 10,
     "metadata": {},
     "output_type": "execute_result"
    }
   ],
   "source": [
    "a[-1]"
   ]
  },
  {
   "cell_type": "code",
   "execution_count": 11,
   "id": "8d6e800f",
   "metadata": {},
   "outputs": [
    {
     "data": {
      "text/plain": [
       "'n'"
      ]
     },
     "execution_count": 11,
     "metadata": {},
     "output_type": "execute_result"
    }
   ],
   "source": [
    "a[-2]"
   ]
  },
  {
   "cell_type": "code",
   "execution_count": 12,
   "id": "80d8e308",
   "metadata": {},
   "outputs": [
    {
     "data": {
      "text/plain": [
       "'n'"
      ]
     },
     "execution_count": 12,
     "metadata": {},
     "output_type": "execute_result"
    }
   ],
   "source": [
    "a[-3]"
   ]
  },
  {
   "cell_type": "code",
   "execution_count": 13,
   "id": "68bd950a",
   "metadata": {},
   "outputs": [],
   "source": [
    "a = 'my name is penny'"
   ]
  },
  {
   "cell_type": "code",
   "execution_count": 14,
   "id": "311d3108",
   "metadata": {},
   "outputs": [
    {
     "data": {
      "text/plain": [
       "'m'"
      ]
     },
     "execution_count": 14,
     "metadata": {},
     "output_type": "execute_result"
    }
   ],
   "source": [
    "a[0]"
   ]
  },
  {
   "cell_type": "code",
   "execution_count": 15,
   "id": "1688ffd7",
   "metadata": {},
   "outputs": [
    {
     "data": {
      "text/plain": [
       "'y'"
      ]
     },
     "execution_count": 15,
     "metadata": {},
     "output_type": "execute_result"
    }
   ],
   "source": [
    "a[-1]"
   ]
  },
  {
   "cell_type": "code",
   "execution_count": 16,
   "id": "a8bb0835",
   "metadata": {},
   "outputs": [],
   "source": [
    "#To extract dataset as a range of characters "
   ]
  },
  {
   "cell_type": "code",
   "execution_count": 17,
   "id": "631e445e",
   "metadata": {},
   "outputs": [
    {
     "ename": "IndexError",
     "evalue": "string index out of range",
     "output_type": "error",
     "traceback": [
      "\u001b[1;31m---------------------------------------------------------------------------\u001b[0m",
      "\u001b[1;31mIndexError\u001b[0m                                Traceback (most recent call last)",
      "\u001b[1;32m<ipython-input-17-cd7724b6c85f>\u001b[0m in \u001b[0;36m<module>\u001b[1;34m\u001b[0m\n\u001b[1;32m----> 1\u001b[1;33m \u001b[0ma\u001b[0m\u001b[1;33m[\u001b[0m\u001b[1;36m100\u001b[0m\u001b[1;33m]\u001b[0m\u001b[1;33m\u001b[0m\u001b[1;33m\u001b[0m\u001b[0m\n\u001b[0m",
      "\u001b[1;31mIndexError\u001b[0m: string index out of range"
     ]
    }
   ],
   "source": [
    "a[100]"
   ]
  },
  {
   "cell_type": "code",
   "execution_count": 18,
   "id": "211a4dbc",
   "metadata": {},
   "outputs": [
    {
     "data": {
      "text/plain": [
       "'my name is penny'"
      ]
     },
     "execution_count": 18,
     "metadata": {},
     "output_type": "execute_result"
    }
   ],
   "source": [
    "a"
   ]
  },
  {
   "cell_type": "code",
   "execution_count": 19,
   "id": "9a71288e",
   "metadata": {},
   "outputs": [
    {
     "data": {
      "text/plain": [
       "'my name is'"
      ]
     },
     "execution_count": 19,
     "metadata": {},
     "output_type": "execute_result"
    }
   ],
   "source": [
    "a[0:10] #data set from 0 and go till 10 but do not include 10(upperbound), only till 9th location"
   ]
  },
  {
   "cell_type": "code",
   "execution_count": 20,
   "id": "efbe42b3",
   "metadata": {},
   "outputs": [],
   "source": [
    "b = 'ineuron'"
   ]
  },
  {
   "cell_type": "code",
   "execution_count": 21,
   "id": "070b0587",
   "metadata": {},
   "outputs": [
    {
     "data": {
      "text/plain": [
       "'ine'"
      ]
     },
     "execution_count": 21,
     "metadata": {},
     "output_type": "execute_result"
    }
   ],
   "source": [
    "b[0:3]"
   ]
  },
  {
   "cell_type": "code",
   "execution_count": 22,
   "id": "a1b6f795",
   "metadata": {},
   "outputs": [
    {
     "data": {
      "text/plain": [
       "'ineuron'"
      ]
     },
     "execution_count": 22,
     "metadata": {},
     "output_type": "execute_result"
    }
   ],
   "source": [
    "b[0:300] #In case of ranges no error "
   ]
  },
  {
   "cell_type": "code",
   "execution_count": 23,
   "id": "bfce6ea9",
   "metadata": {},
   "outputs": [
    {
     "data": {
      "text/plain": [
       "'n'"
      ]
     },
     "execution_count": 23,
     "metadata": {},
     "output_type": "execute_result"
    }
   ],
   "source": [
    "b[-1]"
   ]
  },
  {
   "cell_type": "code",
   "execution_count": 24,
   "id": "27d4a772",
   "metadata": {},
   "outputs": [
    {
     "ename": "IndexError",
     "evalue": "string index out of range",
     "output_type": "error",
     "traceback": [
      "\u001b[1;31m---------------------------------------------------------------------------\u001b[0m",
      "\u001b[1;31mIndexError\u001b[0m                                Traceback (most recent call last)",
      "\u001b[1;32m<ipython-input-24-b20bba380709>\u001b[0m in \u001b[0;36m<module>\u001b[1;34m\u001b[0m\n\u001b[1;32m----> 1\u001b[1;33m \u001b[0mb\u001b[0m\u001b[1;33m[\u001b[0m\u001b[1;33m-\u001b[0m\u001b[1;36m100\u001b[0m\u001b[1;33m]\u001b[0m\u001b[1;33m\u001b[0m\u001b[1;33m\u001b[0m\u001b[0m\n\u001b[0m",
      "\u001b[1;31mIndexError\u001b[0m: string index out of range"
     ]
    }
   ],
   "source": [
    "b[-100] #Individual indexes error will come"
   ]
  },
  {
   "cell_type": "code",
   "execution_count": 31,
   "id": "e6abd1f4",
   "metadata": {},
   "outputs": [
    {
     "data": {
      "text/plain": [
       "''"
      ]
     },
     "execution_count": 31,
     "metadata": {},
     "output_type": "execute_result"
    }
   ],
   "source": [
    "b[-1:-4] #Positive jump: By default jump size will be 1 in positive direction and traversing from -1 to -4 will be negative direction, thus creating a conflict and n output."
   ]
  },
  {
   "cell_type": "code",
   "execution_count": 32,
   "id": "c8b32341",
   "metadata": {},
   "outputs": [
    {
     "data": {
      "text/plain": [
       "'nor'"
      ]
     },
     "execution_count": 32,
     "metadata": {},
     "output_type": "execute_result"
    }
   ],
   "source": [
    "b[-1:-4:-1]"
   ]
  },
  {
   "cell_type": "code",
   "execution_count": 26,
   "id": "78f03a7e",
   "metadata": {},
   "outputs": [],
   "source": [
    "a = 'bajwa'"
   ]
  },
  {
   "cell_type": "code",
   "execution_count": 29,
   "id": "995aa264",
   "metadata": {},
   "outputs": [
    {
     "data": {
      "text/plain": [
       "'bja'"
      ]
     },
     "execution_count": 29,
     "metadata": {},
     "output_type": "execute_result"
    }
   ],
   "source": [
    "a[0:300:2] #2 here is jump size/step size"
   ]
  },
  {
   "cell_type": "code",
   "execution_count": 30,
   "id": "0aadd792",
   "metadata": {},
   "outputs": [
    {
     "data": {
      "text/plain": [
       "''"
      ]
     },
     "execution_count": 30,
     "metadata": {},
     "output_type": "execute_result"
    }
   ],
   "source": [
    "a[0:100:-1] #scale concept(0 to 100 is a positive direction and the jump -1 direction is a negative direction causing a cnflict, thus no output)"
   ]
  },
  {
   "cell_type": "code",
   "execution_count": 33,
   "id": "5fb189a6",
   "metadata": {},
   "outputs": [
    {
     "data": {
      "text/plain": [
       "'b'"
      ]
     },
     "execution_count": 33,
     "metadata": {},
     "output_type": "execute_result"
    }
   ],
   "source": [
    "a[0:-10:-1] #Only 'b'"
   ]
  },
  {
   "cell_type": "code",
   "execution_count": 35,
   "id": "3367da01",
   "metadata": {},
   "outputs": [
    {
     "data": {
      "text/plain": [
       "'bajwa'"
      ]
     },
     "execution_count": 35,
     "metadata": {},
     "output_type": "execute_result"
    }
   ],
   "source": [
    "a[::] #Blanks will be cnsidered as 0 and last character and +1 as jump size"
   ]
  },
  {
   "cell_type": "code",
   "execution_count": 36,
   "id": "20dd8147",
   "metadata": {},
   "outputs": [
    {
     "data": {
      "text/plain": [
       "'bajwa'"
      ]
     },
     "execution_count": 36,
     "metadata": {},
     "output_type": "execute_result"
    }
   ],
   "source": [
    "a[:8]"
   ]
  },
  {
   "cell_type": "code",
   "execution_count": 37,
   "id": "af148b50",
   "metadata": {},
   "outputs": [
    {
     "data": {
      "text/plain": [
       "'wa'"
      ]
     },
     "execution_count": 37,
     "metadata": {},
     "output_type": "execute_result"
    }
   ],
   "source": [
    "a[-2:]"
   ]
  },
  {
   "cell_type": "code",
   "execution_count": 38,
   "id": "3fad91b3",
   "metadata": {},
   "outputs": [
    {
     "data": {
      "text/plain": [
       "'w'"
      ]
     },
     "execution_count": 38,
     "metadata": {},
     "output_type": "execute_result"
    }
   ],
   "source": [
    "a[-2:-1]"
   ]
  },
  {
   "cell_type": "code",
   "execution_count": 40,
   "id": "446a1756",
   "metadata": {},
   "outputs": [
    {
     "data": {
      "text/plain": [
       "'awjab'"
      ]
     },
     "execution_count": 40,
     "metadata": {},
     "output_type": "execute_result"
    }
   ],
   "source": [
    "a[::-1] #Reverse of any string, here we have only defined a direction, nt a starting point or end point is defined"
   ]
  },
  {
   "cell_type": "code",
   "execution_count": 41,
   "id": "8dee5d72",
   "metadata": {},
   "outputs": [
    {
     "data": {
      "text/plain": [
       "'awjab'"
      ]
     },
     "execution_count": 41,
     "metadata": {},
     "output_type": "execute_result"
    }
   ],
   "source": [
    "a[-1::-1] #Move in negative direction"
   ]
  },
  {
   "cell_type": "code",
   "execution_count": 42,
   "id": "c5ae98b9",
   "metadata": {},
   "outputs": [
    {
     "data": {
      "text/plain": [
       "'pennpennpenn'"
      ]
     },
     "execution_count": 42,
     "metadata": {},
     "output_type": "execute_result"
    }
   ],
   "source": [
    "'penn'*3"
   ]
  },
  {
   "cell_type": "code",
   "execution_count": 43,
   "id": "bb08ea77",
   "metadata": {},
   "outputs": [
    {
     "data": {
      "text/plain": [
       "'pennbajwa'"
      ]
     },
     "execution_count": 43,
     "metadata": {},
     "output_type": "execute_result"
    }
   ],
   "source": [
    "'penn' + 'bajwa'"
   ]
  },
  {
   "cell_type": "code",
   "execution_count": 44,
   "id": "bd38e184",
   "metadata": {},
   "outputs": [],
   "source": [
    "a = 'I am a student of ineuron'"
   ]
  },
  {
   "cell_type": "code",
   "execution_count": 45,
   "id": "ae89429d",
   "metadata": {},
   "outputs": [
    {
     "data": {
      "text/plain": [
       "25"
      ]
     },
     "execution_count": 45,
     "metadata": {},
     "output_type": "execute_result"
    }
   ],
   "source": [
    "len(a)"
   ]
  },
  {
   "cell_type": "code",
   "execution_count": 46,
   "id": "7f10347d",
   "metadata": {},
   "outputs": [
    {
     "ename": "TypeError",
     "evalue": "can't multiply sequence by non-int of type 'str'",
     "output_type": "error",
     "traceback": [
      "\u001b[1;31m---------------------------------------------------------------------------\u001b[0m",
      "\u001b[1;31mTypeError\u001b[0m                                 Traceback (most recent call last)",
      "\u001b[1;32m<ipython-input-46-fd419315bf4f>\u001b[0m in \u001b[0;36m<module>\u001b[1;34m\u001b[0m\n\u001b[1;32m----> 1\u001b[1;33m \u001b[1;34m'penn'\u001b[0m\u001b[1;33m*\u001b[0m\u001b[1;34m'penn'\u001b[0m\u001b[1;33m\u001b[0m\u001b[1;33m\u001b[0m\u001b[0m\n\u001b[0m",
      "\u001b[1;31mTypeError\u001b[0m: can't multiply sequence by non-int of type 'str'"
     ]
    }
   ],
   "source": [
    "'penn'*'penn'"
   ]
  },
  {
   "cell_type": "code",
   "execution_count": 47,
   "id": "d7e14c48",
   "metadata": {},
   "outputs": [
    {
     "ename": "TypeError",
     "evalue": "unsupported operand type(s) for -: 'str' and 'str'",
     "output_type": "error",
     "traceback": [
      "\u001b[1;31m---------------------------------------------------------------------------\u001b[0m",
      "\u001b[1;31mTypeError\u001b[0m                                 Traceback (most recent call last)",
      "\u001b[1;32m<ipython-input-47-7bde7d2babc8>\u001b[0m in \u001b[0;36m<module>\u001b[1;34m\u001b[0m\n\u001b[1;32m----> 1\u001b[1;33m \u001b[1;34m'penn'\u001b[0m\u001b[1;33m-\u001b[0m\u001b[1;34m'penn'\u001b[0m\u001b[1;33m\u001b[0m\u001b[1;33m\u001b[0m\u001b[0m\n\u001b[0m",
      "\u001b[1;31mTypeError\u001b[0m: unsupported operand type(s) for -: 'str' and 'str'"
     ]
    }
   ],
   "source": [
    "'penn'-'penn'"
   ]
  },
  {
   "cell_type": "code",
   "execution_count": 48,
   "id": "fe262986",
   "metadata": {},
   "outputs": [
    {
     "ename": "TypeError",
     "evalue": "unsupported operand type(s) for /: 'str' and 'str'",
     "output_type": "error",
     "traceback": [
      "\u001b[1;31m---------------------------------------------------------------------------\u001b[0m",
      "\u001b[1;31mTypeError\u001b[0m                                 Traceback (most recent call last)",
      "\u001b[1;32m<ipython-input-48-6ac49bd14c42>\u001b[0m in \u001b[0;36m<module>\u001b[1;34m\u001b[0m\n\u001b[1;32m----> 1\u001b[1;33m \u001b[1;34m'penn'\u001b[0m\u001b[1;33m/\u001b[0m\u001b[1;34m'penn'\u001b[0m\u001b[1;33m\u001b[0m\u001b[1;33m\u001b[0m\u001b[0m\n\u001b[0m",
      "\u001b[1;31mTypeError\u001b[0m: unsupported operand type(s) for /: 'str' and 'str'"
     ]
    }
   ],
   "source": [
    "'penn'/'penn'"
   ]
  },
  {
   "cell_type": "code",
   "execution_count": 54,
   "id": "c5d23f7d",
   "metadata": {},
   "outputs": [
    {
     "data": {
      "text/plain": [
       "'I am a student of ineuron'"
      ]
     },
     "execution_count": 54,
     "metadata": {},
     "output_type": "execute_result"
    }
   ],
   "source": [
    "a"
   ]
  },
  {
   "cell_type": "code",
   "execution_count": 55,
   "id": "b2e38a8c",
   "metadata": {},
   "outputs": [],
   "source": [
    "#To find a particular index of a character"
   ]
  },
  {
   "cell_type": "code",
   "execution_count": 56,
   "id": "f3479fc4",
   "metadata": {},
   "outputs": [
    {
     "data": {
      "text/plain": [
       "2"
      ]
     },
     "execution_count": 56,
     "metadata": {},
     "output_type": "execute_result"
    }
   ],
   "source": [
    "a.find('a')"
   ]
  },
  {
   "cell_type": "code",
   "execution_count": 58,
   "id": "b2c6c137",
   "metadata": {},
   "outputs": [
    {
     "data": {
      "text/plain": [
       "'I am a student of ineuron'"
      ]
     },
     "execution_count": 58,
     "metadata": {},
     "output_type": "execute_result"
    }
   ],
   "source": [
    "a"
   ]
  },
  {
   "cell_type": "code",
   "execution_count": 60,
   "id": "6eb149da",
   "metadata": {},
   "outputs": [
    {
     "data": {
      "text/plain": [
       "0"
      ]
     },
     "execution_count": 60,
     "metadata": {},
     "output_type": "execute_result"
    }
   ],
   "source": [
    "a.find('I') #i is available at 4 differnt locations, but it will give me only first occurences"
   ]
  },
  {
   "cell_type": "code",
   "execution_count": 61,
   "id": "5bd8b3e2",
   "metadata": {},
   "outputs": [
    {
     "data": {
      "text/plain": [
       "-1"
      ]
     },
     "execution_count": 61,
     "metadata": {},
     "output_type": "execute_result"
    }
   ],
   "source": [
    "a.find('ia') #-1 signifies when no combinatons are present in a string"
   ]
  },
  {
   "cell_type": "code",
   "execution_count": 62,
   "id": "72ded62c",
   "metadata": {},
   "outputs": [
    {
     "data": {
      "text/plain": [
       "18"
      ]
     },
     "execution_count": 62,
     "metadata": {},
     "output_type": "execute_result"
    }
   ],
   "source": [
    "a.find('in')"
   ]
  },
  {
   "cell_type": "code",
   "execution_count": 65,
   "id": "eeb251f7",
   "metadata": {},
   "outputs": [
    {
     "data": {
      "text/plain": [
       "2"
      ]
     },
     "execution_count": 65,
     "metadata": {},
     "output_type": "execute_result"
    }
   ],
   "source": [
    "a.count('e') #Count gives occurences of a particular string"
   ]
  },
  {
   "cell_type": "code",
   "execution_count": 64,
   "id": "bde6ddff",
   "metadata": {},
   "outputs": [
    {
     "data": {
      "text/plain": [
       "0"
      ]
     },
     "execution_count": 64,
     "metadata": {},
     "output_type": "execute_result"
    }
   ],
   "source": [
    "a.count('x')"
   ]
  },
  {
   "cell_type": "code",
   "execution_count": 66,
   "id": "b4952c39",
   "metadata": {},
   "outputs": [],
   "source": [
    "#To seperate entire string into characters "
   ]
  },
  {
   "cell_type": "code",
   "execution_count": 67,
   "id": "701aabdf",
   "metadata": {},
   "outputs": [
    {
     "data": {
      "text/plain": [
       "'I am a student of ineuron'"
      ]
     },
     "execution_count": 67,
     "metadata": {},
     "output_type": "execute_result"
    }
   ],
   "source": [
    "a"
   ]
  },
  {
   "cell_type": "code",
   "execution_count": 68,
   "id": "d2860bce",
   "metadata": {},
   "outputs": [
    {
     "data": {
      "text/plain": [
       "['I', 'am', 'a', 'student', 'of', 'ineuron']"
      ]
     },
     "execution_count": 68,
     "metadata": {},
     "output_type": "execute_result"
    }
   ],
   "source": [
    "a.split()"
   ]
  },
  {
   "cell_type": "code",
   "execution_count": 69,
   "id": "a9d37b20",
   "metadata": {},
   "outputs": [],
   "source": [
    "l = a.split()"
   ]
  },
  {
   "cell_type": "code",
   "execution_count": 70,
   "id": "62a178ff",
   "metadata": {},
   "outputs": [
    {
     "data": {
      "text/plain": [
       "['I', 'am', 'a', 'student', 'of', 'ineuron']"
      ]
     },
     "execution_count": 70,
     "metadata": {},
     "output_type": "execute_result"
    }
   ],
   "source": [
    "l        #Scaling conceot will also come here, just like string operation"
   ]
  },
  {
   "cell_type": "code",
   "execution_count": 71,
   "id": "ac683665",
   "metadata": {},
   "outputs": [
    {
     "data": {
      "text/plain": [
       "'I'"
      ]
     },
     "execution_count": 71,
     "metadata": {},
     "output_type": "execute_result"
    }
   ],
   "source": [
    "l[0]"
   ]
  },
  {
   "cell_type": "code",
   "execution_count": 72,
   "id": "a3e05e16",
   "metadata": {},
   "outputs": [
    {
     "data": {
      "text/plain": [
       "'am'"
      ]
     },
     "execution_count": 72,
     "metadata": {},
     "output_type": "execute_result"
    }
   ],
   "source": [
    "l[1]"
   ]
  },
  {
   "cell_type": "code",
   "execution_count": 73,
   "id": "f5cf6c2c",
   "metadata": {},
   "outputs": [
    {
     "data": {
      "text/plain": [
       "'a'"
      ]
     },
     "execution_count": 73,
     "metadata": {},
     "output_type": "execute_result"
    }
   ],
   "source": [
    "l[2]"
   ]
  },
  {
   "cell_type": "code",
   "execution_count": 74,
   "id": "f05fb419",
   "metadata": {},
   "outputs": [
    {
     "data": {
      "text/plain": [
       "'student'"
      ]
     },
     "execution_count": 74,
     "metadata": {},
     "output_type": "execute_result"
    }
   ],
   "source": [
    "l[3]"
   ]
  },
  {
   "cell_type": "code",
   "execution_count": 75,
   "id": "9fdc1e8e",
   "metadata": {},
   "outputs": [
    {
     "data": {
      "text/plain": [
       "'ineuron'"
      ]
     },
     "execution_count": 75,
     "metadata": {},
     "output_type": "execute_result"
    }
   ],
   "source": [
    "l[-1]"
   ]
  },
  {
   "cell_type": "code",
   "execution_count": 76,
   "id": "cceb0411",
   "metadata": {},
   "outputs": [
    {
     "data": {
      "text/plain": [
       "'of'"
      ]
     },
     "execution_count": 76,
     "metadata": {},
     "output_type": "execute_result"
    }
   ],
   "source": [
    "l[-2]"
   ]
  },
  {
   "cell_type": "code",
   "execution_count": 77,
   "id": "eac05fc9",
   "metadata": {},
   "outputs": [
    {
     "data": {
      "text/plain": [
       "'student'"
      ]
     },
     "execution_count": 77,
     "metadata": {},
     "output_type": "execute_result"
    }
   ],
   "source": [
    "l[-3]"
   ]
  },
  {
   "cell_type": "code",
   "execution_count": 79,
   "id": "321a038c",
   "metadata": {},
   "outputs": [
    {
     "data": {
      "text/plain": [
       "['I am a stud', 'nt of in', 'uron']"
      ]
     },
     "execution_count": 79,
     "metadata": {},
     "output_type": "execute_result"
    }
   ],
   "source": [
    "a.split('e') #Default split is on the basis of white space but there we have given a delimiter called 'e', on those basis it will split the dataset"
   ]
  },
  {
   "cell_type": "code",
   "execution_count": 80,
   "id": "37480614",
   "metadata": {},
   "outputs": [
    {
     "data": {
      "text/plain": [
       "['I am a stud', 't of ineuron']"
      ]
     },
     "execution_count": 80,
     "metadata": {},
     "output_type": "execute_result"
    }
   ],
   "source": [
    "a.split('en') #before and after 'en' , it will split"
   ]
  },
  {
   "cell_type": "code",
   "execution_count": 81,
   "id": "75fbdd15",
   "metadata": {},
   "outputs": [
    {
     "data": {
      "text/plain": [
       "'I am a student of ineuron'"
      ]
     },
     "execution_count": 81,
     "metadata": {},
     "output_type": "execute_result"
    }
   ],
   "source": [
    "a"
   ]
  },
  {
   "cell_type": "code",
   "execution_count": 82,
   "id": "0daca74d",
   "metadata": {},
   "outputs": [
    {
     "data": {
      "text/plain": [
       "'I AM A STUDENT OF INEURON'"
      ]
     },
     "execution_count": 82,
     "metadata": {},
     "output_type": "execute_result"
    }
   ],
   "source": [
    "a.upper()"
   ]
  },
  {
   "cell_type": "code",
   "execution_count": 83,
   "id": "323f5275",
   "metadata": {},
   "outputs": [],
   "source": [
    "s = 'PeNn'"
   ]
  },
  {
   "cell_type": "code",
   "execution_count": 84,
   "id": "f158db5f",
   "metadata": {},
   "outputs": [
    {
     "data": {
      "text/plain": [
       "'pEnN'"
      ]
     },
     "execution_count": 84,
     "metadata": {},
     "output_type": "execute_result"
    }
   ],
   "source": [
    "s.swapcase()"
   ]
  },
  {
   "cell_type": "code",
   "execution_count": 85,
   "id": "1447e612",
   "metadata": {},
   "outputs": [
    {
     "data": {
      "text/plain": [
       "'Penn'"
      ]
     },
     "execution_count": 85,
     "metadata": {},
     "output_type": "execute_result"
    }
   ],
   "source": [
    "s.title()"
   ]
  },
  {
   "cell_type": "code",
   "execution_count": 86,
   "id": "e6ba38f1",
   "metadata": {},
   "outputs": [
    {
     "data": {
      "text/plain": [
       "'Penn'"
      ]
     },
     "execution_count": 86,
     "metadata": {},
     "output_type": "execute_result"
    }
   ],
   "source": [
    "s.capitalize()"
   ]
  },
  {
   "cell_type": "code",
   "execution_count": 87,
   "id": "bbebf985",
   "metadata": {},
   "outputs": [],
   "source": [
    "b = 'Penn'\n",
    "c = 'ineuron'"
   ]
  },
  {
   "cell_type": "code",
   "execution_count": 88,
   "id": "eeb10365",
   "metadata": {},
   "outputs": [
    {
     "data": {
      "text/plain": [
       "'iPennnPennePennuPennrPennoPennn'"
      ]
     },
     "execution_count": 88,
     "metadata": {},
     "output_type": "execute_result"
    }
   ],
   "source": [
    "b.join(c)"
   ]
  },
  {
   "cell_type": "code",
   "execution_count": 89,
   "id": "93039d0d",
   "metadata": {},
   "outputs": [
    {
     "data": {
      "text/plain": [
       "'P e n n'"
      ]
     },
     "execution_count": 89,
     "metadata": {},
     "output_type": "execute_result"
    }
   ],
   "source": [
    "\" \".join('Penn') "
   ]
  },
  {
   "cell_type": "code",
   "execution_count": 91,
   "id": "e641bfaa",
   "metadata": {},
   "outputs": [
    {
     "name": "stdout",
     "output_type": "stream",
     "text": [
      "n\n",
      "n\n",
      "e\n",
      "P\n"
     ]
    }
   ],
   "source": [
    "for i in reversed('Penn'):\n",
    "    print(i)"
   ]
  },
  {
   "cell_type": "code",
   "execution_count": 92,
   "id": "94650bb7",
   "metadata": {},
   "outputs": [
    {
     "data": {
      "text/plain": [
       "'hdus'"
      ]
     },
     "execution_count": 92,
     "metadata": {},
     "output_type": "execute_result"
    }
   ],
   "source": [
    "s = 'sudh'\n",
    "s[::-1]"
   ]
  },
  {
   "cell_type": "code",
   "execution_count": 95,
   "id": "88485a6d",
   "metadata": {},
   "outputs": [],
   "source": [
    "s = ' sudh '"
   ]
  },
  {
   "cell_type": "code",
   "execution_count": 96,
   "id": "dd05e8a6",
   "metadata": {},
   "outputs": [
    {
     "data": {
      "text/plain": [
       "' sudh'"
      ]
     },
     "execution_count": 96,
     "metadata": {},
     "output_type": "execute_result"
    }
   ],
   "source": [
    "s.rstrip() #Strip space from right hand size"
   ]
  },
  {
   "cell_type": "code",
   "execution_count": 97,
   "id": "c1834e74",
   "metadata": {},
   "outputs": [
    {
     "data": {
      "text/plain": [
       "'sudh '"
      ]
     },
     "execution_count": 97,
     "metadata": {},
     "output_type": "execute_result"
    }
   ],
   "source": [
    "s.lstrip() "
   ]
  },
  {
   "cell_type": "code",
   "execution_count": 98,
   "id": "194f107f",
   "metadata": {},
   "outputs": [
    {
     "data": {
      "text/plain": [
       "'sudh'"
      ]
     },
     "execution_count": 98,
     "metadata": {},
     "output_type": "execute_result"
    }
   ],
   "source": [
    "s.strip() #Return a copy of the string with leading and trailing whitespace removed.\n"
   ]
  },
  {
   "cell_type": "code",
   "execution_count": 99,
   "id": "da586d1b",
   "metadata": {},
   "outputs": [],
   "source": [
    "s = 'sudh'"
   ]
  },
  {
   "cell_type": "code",
   "execution_count": 101,
   "id": "93b35933",
   "metadata": {},
   "outputs": [
    {
     "data": {
      "text/plain": [
       "'sxyzdh'"
      ]
     },
     "execution_count": 101,
     "metadata": {},
     "output_type": "execute_result"
    }
   ],
   "source": [
    "s.replace('u', 'xyz')"
   ]
  },
  {
   "cell_type": "code",
   "execution_count": 102,
   "id": "5ae1813a",
   "metadata": {},
   "outputs": [
    {
     "data": {
      "text/plain": [
       "'sudh    kumar'"
      ]
     },
     "execution_count": 102,
     "metadata": {},
     "output_type": "execute_result"
    }
   ],
   "source": [
    "'sudh\\tkumar'.expandtabs() #\\t is three spaces"
   ]
  },
  {
   "cell_type": "code",
   "execution_count": 103,
   "id": "1a3271ca",
   "metadata": {},
   "outputs": [
    {
     "data": {
      "text/plain": [
       "'ttttttttttttttttttsudhtttttttttttttttttt'"
      ]
     },
     "execution_count": 103,
     "metadata": {},
     "output_type": "execute_result"
    }
   ],
   "source": [
    "s.center(40 , 't') #'t' here is a filler"
   ]
  },
  {
   "cell_type": "code",
   "execution_count": 104,
   "id": "66ab2251",
   "metadata": {},
   "outputs": [
    {
     "ename": "TypeError",
     "evalue": "The fill character must be exactly one character long",
     "output_type": "error",
     "traceback": [
      "\u001b[1;31m---------------------------------------------------------------------------\u001b[0m",
      "\u001b[1;31mTypeError\u001b[0m                                 Traceback (most recent call last)",
      "\u001b[1;32m<ipython-input-104-5fa19c117906>\u001b[0m in \u001b[0;36m<module>\u001b[1;34m\u001b[0m\n\u001b[1;32m----> 1\u001b[1;33m \u001b[0ms\u001b[0m\u001b[1;33m.\u001b[0m\u001b[0mcenter\u001b[0m\u001b[1;33m(\u001b[0m\u001b[1;36m40\u001b[0m \u001b[1;33m,\u001b[0m \u001b[1;34m'tjhds'\u001b[0m\u001b[1;33m)\u001b[0m\u001b[1;33m\u001b[0m\u001b[1;33m\u001b[0m\u001b[0m\n\u001b[0m",
      "\u001b[1;31mTypeError\u001b[0m: The fill character must be exactly one character long"
     ]
    }
   ],
   "source": [
    "s.center(40 , 'tjhds')"
   ]
  },
  {
   "cell_type": "code",
   "execution_count": 105,
   "id": "cdda8573",
   "metadata": {},
   "outputs": [
    {
     "data": {
      "text/plain": [
       "'##################sudh##################'"
      ]
     },
     "execution_count": 105,
     "metadata": {},
     "output_type": "execute_result"
    }
   ],
   "source": [
    "s.center(40 , '#')"
   ]
  },
  {
   "cell_type": "code",
   "execution_count": 1,
   "id": "02743ad5",
   "metadata": {},
   "outputs": [],
   "source": [
    "s = '     '"
   ]
  },
  {
   "cell_type": "code",
   "execution_count": 2,
   "id": "ec5722c6",
   "metadata": {},
   "outputs": [
    {
     "data": {
      "text/plain": [
       "True"
      ]
     },
     "execution_count": 2,
     "metadata": {},
     "output_type": "execute_result"
    }
   ],
   "source": [
    "s.isspace()"
   ]
  },
  {
   "cell_type": "code",
   "execution_count": 6,
   "id": "215cb28a",
   "metadata": {},
   "outputs": [],
   "source": [
    "s = '73246834'"
   ]
  },
  {
   "cell_type": "code",
   "execution_count": 7,
   "id": "89456bdc",
   "metadata": {},
   "outputs": [
    {
     "data": {
      "text/plain": [
       "True"
      ]
     },
     "execution_count": 7,
     "metadata": {},
     "output_type": "execute_result"
    }
   ],
   "source": [
    "s.isdigit()"
   ]
  },
  {
   "cell_type": "code",
   "execution_count": 8,
   "id": "eeba7497",
   "metadata": {},
   "outputs": [],
   "source": [
    "s = \"sudh\""
   ]
  },
  {
   "cell_type": "code",
   "execution_count": 10,
   "id": "9d26598d",
   "metadata": {},
   "outputs": [
    {
     "data": {
      "text/plain": [
       "False"
      ]
     },
     "execution_count": 10,
     "metadata": {},
     "output_type": "execute_result"
    }
   ],
   "source": [
    "s.endswith('s')"
   ]
  },
  {
   "cell_type": "code",
   "execution_count": 11,
   "id": "97e9e700",
   "metadata": {},
   "outputs": [
    {
     "data": {
      "text/plain": [
       "True"
      ]
     },
     "execution_count": 11,
     "metadata": {},
     "output_type": "execute_result"
    }
   ],
   "source": [
    "s.startswith('s')"
   ]
  },
  {
   "cell_type": "code",
   "execution_count": 12,
   "id": "5e5b537e",
   "metadata": {},
   "outputs": [
    {
     "data": {
      "text/plain": [
       "False"
      ]
     },
     "execution_count": 12,
     "metadata": {},
     "output_type": "execute_result"
    }
   ],
   "source": [
    "s.istitle()"
   ]
  },
  {
   "cell_type": "code",
   "execution_count": 13,
   "id": "8ffb60ff",
   "metadata": {},
   "outputs": [
    {
     "data": {
      "text/plain": [
       "b'sudh'"
      ]
     },
     "execution_count": 13,
     "metadata": {},
     "output_type": "execute_result"
    }
   ],
   "source": [
    "s.encode() #b Encode the string using the codec registered for encoding.\n",
    "#similarly, shiff jis"
   ]
  },
  {
   "cell_type": "markdown",
   "id": "24149406",
   "metadata": {},
   "source": [
    "# LISTS "
   ]
  },
  {
   "cell_type": "code",
   "execution_count": 5,
   "id": "f97248f2",
   "metadata": {},
   "outputs": [],
   "source": [
    "#Collection of multiple hetero/hmogenous datasets or objects. "
   ]
  },
  {
   "cell_type": "code",
   "execution_count": 6,
   "id": "d569f206",
   "metadata": {},
   "outputs": [],
   "source": [
    "l = ['sudh', 'kumar', 82745, 74+60j, True]"
   ]
  },
  {
   "cell_type": "code",
   "execution_count": 7,
   "id": "bee92470",
   "metadata": {},
   "outputs": [
    {
     "data": {
      "text/plain": [
       "list"
      ]
     },
     "execution_count": 7,
     "metadata": {},
     "output_type": "execute_result"
    }
   ],
   "source": [
    "type(l)"
   ]
  },
  {
   "cell_type": "code",
   "execution_count": 8,
   "id": "c9593bbc",
   "metadata": {},
   "outputs": [],
   "source": [
    "#To access data out of a list: same as string(forward and backward indexing)"
   ]
  },
  {
   "cell_type": "code",
   "execution_count": 9,
   "id": "8df1dca2",
   "metadata": {},
   "outputs": [
    {
     "data": {
      "text/plain": [
       "'sudh'"
      ]
     },
     "execution_count": 9,
     "metadata": {},
     "output_type": "execute_result"
    }
   ],
   "source": [
    "l[0]"
   ]
  },
  {
   "cell_type": "code",
   "execution_count": 10,
   "id": "0df89a21",
   "metadata": {},
   "outputs": [
    {
     "data": {
      "text/plain": [
       "True"
      ]
     },
     "execution_count": 10,
     "metadata": {},
     "output_type": "execute_result"
    }
   ],
   "source": [
    "l[-1]"
   ]
  },
  {
   "cell_type": "code",
   "execution_count": 11,
   "id": "8b5e75a7",
   "metadata": {},
   "outputs": [
    {
     "data": {
      "text/plain": [
       "'sudh'"
      ]
     },
     "execution_count": 11,
     "metadata": {},
     "output_type": "execute_result"
    }
   ],
   "source": [
    "l[-5]"
   ]
  },
  {
   "cell_type": "code",
   "execution_count": 12,
   "id": "f5290a50",
   "metadata": {},
   "outputs": [
    {
     "data": {
      "text/plain": [
       "['sudh', 'kumar', 82745, (74+60j)]"
      ]
     },
     "execution_count": 12,
     "metadata": {},
     "output_type": "execute_result"
    }
   ],
   "source": [
    "l[0:4]"
   ]
  },
  {
   "cell_type": "code",
   "execution_count": 13,
   "id": "ecd29427",
   "metadata": {},
   "outputs": [
    {
     "data": {
      "text/plain": [
       "[True, (74+60j), 82745, 'kumar', 'sudh']"
      ]
     },
     "execution_count": 13,
     "metadata": {},
     "output_type": "execute_result"
    }
   ],
   "source": [
    "l[::-1]"
   ]
  },
  {
   "cell_type": "code",
   "execution_count": 14,
   "id": "996854f9",
   "metadata": {},
   "outputs": [
    {
     "data": {
      "text/plain": [
       "[True]"
      ]
     },
     "execution_count": 14,
     "metadata": {},
     "output_type": "execute_result"
    }
   ],
   "source": [
    "l[-1:6]"
   ]
  },
  {
   "cell_type": "code",
   "execution_count": 15,
   "id": "aa2ec2a4",
   "metadata": {},
   "outputs": [
    {
     "data": {
      "text/plain": [
       "'sudh'"
      ]
     },
     "execution_count": 15,
     "metadata": {},
     "output_type": "execute_result"
    }
   ],
   "source": [
    " l[0]"
   ]
  },
  {
   "cell_type": "code",
   "execution_count": 16,
   "id": "91fa64a6",
   "metadata": {},
   "outputs": [
    {
     "data": {
      "text/plain": [
       "str"
      ]
     },
     "execution_count": 16,
     "metadata": {},
     "output_type": "execute_result"
    }
   ],
   "source": [
    "type(l[0])"
   ]
  },
  {
   "cell_type": "code",
   "execution_count": 17,
   "id": "b0db11f0",
   "metadata": {},
   "outputs": [
    {
     "data": {
      "text/plain": [
       "bool"
      ]
     },
     "execution_count": 17,
     "metadata": {},
     "output_type": "execute_result"
    }
   ],
   "source": [
    "type(l[4])"
   ]
  },
  {
   "cell_type": "code",
   "execution_count": 18,
   "id": "3142c122",
   "metadata": {},
   "outputs": [
    {
     "data": {
      "text/plain": [
       "'u'"
      ]
     },
     "execution_count": 18,
     "metadata": {},
     "output_type": "execute_result"
    }
   ],
   "source": [
    " l[0][1]"
   ]
  },
  {
   "cell_type": "code",
   "execution_count": 19,
   "id": "43a869e8",
   "metadata": {},
   "outputs": [
    {
     "data": {
      "text/plain": [
       "74.0"
      ]
     },
     "execution_count": 19,
     "metadata": {},
     "output_type": "execute_result"
    }
   ],
   "source": [
    "l[3].real"
   ]
  },
  {
   "cell_type": "code",
   "execution_count": 20,
   "id": "4529414d",
   "metadata": {},
   "outputs": [],
   "source": [
    "l1= ['sudh', 'kumar', 32746]\n",
    "l2 = [\"agf\", 'udfsh', 8327.835]"
   ]
  },
  {
   "cell_type": "code",
   "execution_count": 21,
   "id": "1148a03b",
   "metadata": {},
   "outputs": [
    {
     "data": {
      "text/plain": [
       "['sudh', 'kumar', 32746, 'agf', 'udfsh', 8327.835]"
      ]
     },
     "execution_count": 21,
     "metadata": {},
     "output_type": "execute_result"
    }
   ],
   "source": [
    "l1+l2 #Concatenation is possible because the datatypes are similar. "
   ]
  },
  {
   "cell_type": "code",
   "execution_count": 22,
   "id": "21cb6812",
   "metadata": {},
   "outputs": [
    {
     "ename": "TypeError",
     "evalue": "can only concatenate list (not \"str\") to list",
     "output_type": "error",
     "traceback": [
      "\u001b[1;31m---------------------------------------------------------------------------\u001b[0m",
      "\u001b[1;31mTypeError\u001b[0m                                 Traceback (most recent call last)",
      "\u001b[1;32m<ipython-input-22-dc980a74b860>\u001b[0m in \u001b[0;36m<module>\u001b[1;34m\u001b[0m\n\u001b[1;32m----> 1\u001b[1;33m \u001b[0ml1\u001b[0m \u001b[1;33m+\u001b[0m \u001b[1;34m'jadg'\u001b[0m\u001b[1;33m\u001b[0m\u001b[1;33m\u001b[0m\u001b[0m\n\u001b[0m",
      "\u001b[1;31mTypeError\u001b[0m: can only concatenate list (not \"str\") to list"
     ]
    }
   ],
   "source": [
    "l1 + 'jadg'"
   ]
  },
  {
   "cell_type": "code",
   "execution_count": 23,
   "id": "cecdd868",
   "metadata": {},
   "outputs": [
    {
     "data": {
      "text/plain": [
       "['sudh', 'kumar', 32746, 'jadg']"
      ]
     },
     "execution_count": 23,
     "metadata": {},
     "output_type": "execute_result"
    }
   ],
   "source": [
    "l1 + ['jadg']"
   ]
  },
  {
   "cell_type": "code",
   "execution_count": 24,
   "id": "651cb47c",
   "metadata": {},
   "outputs": [
    {
     "data": {
      "text/plain": [
       "['sudh',\n",
       " 'kumar',\n",
       " 32746,\n",
       " 'sudh',\n",
       " 'kumar',\n",
       " 32746,\n",
       " 'sudh',\n",
       " 'kumar',\n",
       " 32746,\n",
       " 'sudh',\n",
       " 'kumar',\n",
       " 32746]"
      ]
     },
     "execution_count": 24,
     "metadata": {},
     "output_type": "execute_result"
    }
   ],
   "source": [
    "l1*4"
   ]
  },
  {
   "cell_type": "code",
   "execution_count": 25,
   "id": "8cdcea1e",
   "metadata": {},
   "outputs": [
    {
     "data": {
      "text/plain": [
       "['sudh', 'kumar', 32746]"
      ]
     },
     "execution_count": 25,
     "metadata": {},
     "output_type": "execute_result"
    }
   ],
   "source": [
    "l1"
   ]
  },
  {
   "cell_type": "code",
   "execution_count": 26,
   "id": "0328e34a",
   "metadata": {},
   "outputs": [],
   "source": [
    "#To replace sudh by your name"
   ]
  },
  {
   "cell_type": "code",
   "execution_count": 27,
   "id": "9f4dc410",
   "metadata": {},
   "outputs": [],
   "source": [
    "l1[0] = 'Penn'  #Reassignment operation using assignment operator."
   ]
  },
  {
   "cell_type": "code",
   "execution_count": 28,
   "id": "f1a2a627",
   "metadata": {},
   "outputs": [
    {
     "data": {
      "text/plain": [
       "'Penn'"
      ]
     },
     "execution_count": 28,
     "metadata": {},
     "output_type": "execute_result"
    }
   ],
   "source": [
    "l1[0]"
   ]
  },
  {
   "cell_type": "code",
   "execution_count": 29,
   "id": "e7780d6a",
   "metadata": {},
   "outputs": [
    {
     "data": {
      "text/plain": [
       "['Penn', 'kumar', 32746]"
      ]
     },
     "execution_count": 29,
     "metadata": {},
     "output_type": "execute_result"
    }
   ],
   "source": [
    "l1"
   ]
  },
  {
   "cell_type": "code",
   "execution_count": 30,
   "id": "117415ad",
   "metadata": {},
   "outputs": [],
   "source": [
    "#access kumar and replace k with s"
   ]
  },
  {
   "cell_type": "code",
   "execution_count": 31,
   "id": "2b317e35",
   "metadata": {},
   "outputs": [
    {
     "data": {
      "text/plain": [
       "'kumar'"
      ]
     },
     "execution_count": 31,
     "metadata": {},
     "output_type": "execute_result"
    }
   ],
   "source": [
    "l1[1]"
   ]
  },
  {
   "cell_type": "code",
   "execution_count": 32,
   "id": "bcdc1b83",
   "metadata": {},
   "outputs": [
    {
     "ename": "TypeError",
     "evalue": "'str' object does not support item assignment",
     "output_type": "error",
     "traceback": [
      "\u001b[1;31m---------------------------------------------------------------------------\u001b[0m",
      "\u001b[1;31mTypeError\u001b[0m                                 Traceback (most recent call last)",
      "\u001b[1;32m<ipython-input-32-5bec5324ae7a>\u001b[0m in \u001b[0;36m<module>\u001b[1;34m\u001b[0m\n\u001b[1;32m----> 1\u001b[1;33m \u001b[0ml1\u001b[0m\u001b[1;33m[\u001b[0m\u001b[1;36m1\u001b[0m\u001b[1;33m]\u001b[0m\u001b[1;33m[\u001b[0m\u001b[1;36m0\u001b[0m\u001b[1;33m]\u001b[0m \u001b[1;33m=\u001b[0m \u001b[1;34m's'\u001b[0m\u001b[1;33m\u001b[0m\u001b[1;33m\u001b[0m\u001b[0m\n\u001b[0m",
      "\u001b[1;31mTypeError\u001b[0m: 'str' object does not support item assignment"
     ]
    }
   ],
   "source": [
    "l1[1][0] = 's'"
   ]
  },
  {
   "cell_type": "raw",
   "id": "7c4e3e37",
   "metadata": {},
   "source": [
    "'str' object does not support item assignment\n",
    "#String is a immutable entity whereas list was a mutable entity"
   ]
  },
  {
   "cell_type": "code",
   "execution_count": 33,
   "id": "13e39ae2",
   "metadata": {},
   "outputs": [
    {
     "data": {
      "text/plain": [
       "['Penn', 'kumar', 32746]"
      ]
     },
     "execution_count": 33,
     "metadata": {},
     "output_type": "execute_result"
    }
   ],
   "source": [
    "l1"
   ]
  },
  {
   "cell_type": "code",
   "execution_count": 34,
   "id": "6617b995",
   "metadata": {},
   "outputs": [],
   "source": [
    "l1[1] = 'sudh' #List is mutable"
   ]
  },
  {
   "cell_type": "code",
   "execution_count": 35,
   "id": "115fedd7",
   "metadata": {},
   "outputs": [
    {
     "data": {
      "text/plain": [
       "['Penn', 'sudh', 32746]"
      ]
     },
     "execution_count": 35,
     "metadata": {},
     "output_type": "execute_result"
    }
   ],
   "source": [
    "l1"
   ]
  },
  {
   "cell_type": "code",
   "execution_count": 36,
   "id": "94601eca",
   "metadata": {},
   "outputs": [
    {
     "ename": "NameError",
     "evalue": "name 's' is not defined",
     "output_type": "error",
     "traceback": [
      "\u001b[1;31m---------------------------------------------------------------------------\u001b[0m",
      "\u001b[1;31mNameError\u001b[0m                                 Traceback (most recent call last)",
      "\u001b[1;32m<ipython-input-36-3d34b1a91e8f>\u001b[0m in \u001b[0;36m<module>\u001b[1;34m\u001b[0m\n\u001b[1;32m----> 1\u001b[1;33m \u001b[0ms\u001b[0m\u001b[1;33m.\u001b[0m\u001b[0mreplace\u001b[0m\u001b[1;33m(\u001b[0m\u001b[1;34m's'\u001b[0m\u001b[1;33m,\u001b[0m \u001b[1;34m'v'\u001b[0m\u001b[1;33m)\u001b[0m \u001b[1;31m#It changes the addresss, therefore this one is working.\u001b[0m\u001b[1;33m\u001b[0m\u001b[1;33m\u001b[0m\u001b[0m\n\u001b[0m",
      "\u001b[1;31mNameError\u001b[0m: name 's' is not defined"
     ]
    }
   ],
   "source": [
    "s.replace('s', 'v') #It changes the addresss, therefore this one is working. "
   ]
  },
  {
   "cell_type": "code",
   "execution_count": 37,
   "id": "01c5c574",
   "metadata": {},
   "outputs": [
    {
     "data": {
      "text/plain": [
       "['Penn', 'sudh', 32746]"
      ]
     },
     "execution_count": 37,
     "metadata": {},
     "output_type": "execute_result"
    }
   ],
   "source": [
    "l1"
   ]
  },
  {
   "cell_type": "code",
   "execution_count": 38,
   "id": "311f0cd1",
   "metadata": {},
   "outputs": [
    {
     "data": {
      "text/plain": [
       "3"
      ]
     },
     "execution_count": 38,
     "metadata": {},
     "output_type": "execute_result"
    }
   ],
   "source": [
    "len(l1)"
   ]
  },
  {
   "cell_type": "code",
   "execution_count": 39,
   "id": "31149019",
   "metadata": {},
   "outputs": [
    {
     "data": {
      "text/plain": [
       "True"
      ]
     },
     "execution_count": 39,
     "metadata": {},
     "output_type": "execute_result"
    }
   ],
   "source": [
    "\"Penn\" in l1"
   ]
  },
  {
   "cell_type": "code",
   "execution_count": 40,
   "id": "f8c69475",
   "metadata": {},
   "outputs": [
    {
     "data": {
      "text/plain": [
       "True"
      ]
     },
     "execution_count": 40,
     "metadata": {},
     "output_type": "execute_result"
    }
   ],
   "source": [
    "32746 in l1"
   ]
  },
  {
   "cell_type": "code",
   "execution_count": 41,
   "id": "6003428f",
   "metadata": {},
   "outputs": [
    {
     "data": {
      "text/plain": [
       "False"
      ]
     },
     "execution_count": 41,
     "metadata": {},
     "output_type": "execute_result"
    }
   ],
   "source": [
    "6463 in l1"
   ]
  },
  {
   "cell_type": "code",
   "execution_count": 42,
   "id": "e82a923c",
   "metadata": {},
   "outputs": [
    {
     "data": {
      "text/plain": [
       "['agf', 'udfsh', 8327.835]"
      ]
     },
     "execution_count": 42,
     "metadata": {},
     "output_type": "execute_result"
    }
   ],
   "source": [
    "l2"
   ]
  },
  {
   "cell_type": "code",
   "execution_count": 43,
   "id": "55d07c9d",
   "metadata": {},
   "outputs": [],
   "source": [
    "#To insert individual data inside a list at the last index\n",
    "\n",
    "l2.append('sudh')"
   ]
  },
  {
   "cell_type": "code",
   "execution_count": 44,
   "id": "d975a4c5",
   "metadata": {},
   "outputs": [
    {
     "data": {
      "text/plain": [
       "['agf', 'udfsh', 8327.835, 'sudh']"
      ]
     },
     "execution_count": 44,
     "metadata": {},
     "output_type": "execute_result"
    }
   ],
   "source": [
    "l2"
   ]
  },
  {
   "cell_type": "code",
   "execution_count": 45,
   "id": "9e31fc44",
   "metadata": {},
   "outputs": [
    {
     "data": {
      "text/plain": [
       "'sudh'"
      ]
     },
     "execution_count": 45,
     "metadata": {},
     "output_type": "execute_result"
    }
   ],
   "source": [
    "l2.pop() #remove the last element of the list, b"
   ]
  },
  {
   "cell_type": "code",
   "execution_count": 47,
   "id": "5b1594c6",
   "metadata": {},
   "outputs": [],
   "source": [
    "l2.insert(3,[48939])"
   ]
  },
  {
   "cell_type": "markdown",
   "id": "f360e382",
   "metadata": {},
   "source": []
  },
  {
   "cell_type": "code",
   "execution_count": 48,
   "id": "6d2cf7aa",
   "metadata": {},
   "outputs": [
    {
     "data": {
      "text/plain": [
       "['agf', 'udfsh', 8327.835, [48939]]"
      ]
     },
     "execution_count": 48,
     "metadata": {},
     "output_type": "execute_result"
    }
   ],
   "source": [
    "l2\n"
   ]
  },
  {
   "cell_type": "code",
   "execution_count": 49,
   "id": "335d7fc8",
   "metadata": {},
   "outputs": [],
   "source": [
    "l2.reverse()"
   ]
  },
  {
   "cell_type": "code",
   "execution_count": 50,
   "id": "ac6afe62",
   "metadata": {},
   "outputs": [
    {
     "data": {
      "text/plain": [
       "[[48939], 8327.835, 'udfsh', 'agf']"
      ]
     },
     "execution_count": 50,
     "metadata": {},
     "output_type": "execute_result"
    }
   ],
   "source": [
    "l2"
   ]
  },
  {
   "cell_type": "code",
   "execution_count": 51,
   "id": "a57613e9",
   "metadata": {},
   "outputs": [
    {
     "data": {
      "text/plain": [
       "['agf', 'udfsh', 8327.835, [48939]]"
      ]
     },
     "execution_count": 51,
     "metadata": {},
     "output_type": "execute_result"
    }
   ],
   "source": [
    "l2[::-1]"
   ]
  },
  {
   "cell_type": "code",
   "execution_count": 54,
   "id": "9bed7e25",
   "metadata": {},
   "outputs": [],
   "source": [
    "l2.insert(2,48)"
   ]
  },
  {
   "cell_type": "code",
   "execution_count": 55,
   "id": "37115301",
   "metadata": {},
   "outputs": [
    {
     "data": {
      "text/plain": [
       "[[48939], 8327.835, 48, 48939, 'udfsh', 'agf']"
      ]
     },
     "execution_count": 55,
     "metadata": {},
     "output_type": "execute_result"
    }
   ],
   "source": [
    "l2"
   ]
  },
  {
   "cell_type": "code",
   "execution_count": 57,
   "id": "a58553ce",
   "metadata": {},
   "outputs": [
    {
     "data": {
      "text/plain": [
       "48939"
      ]
     },
     "execution_count": 57,
     "metadata": {},
     "output_type": "execute_result"
    }
   ],
   "source": [
    "l2[0][0]"
   ]
  },
  {
   "cell_type": "code",
   "execution_count": 58,
   "id": "3169a671",
   "metadata": {},
   "outputs": [
    {
     "ename": "TypeError",
     "evalue": "'float' object is not subscriptable",
     "output_type": "error",
     "traceback": [
      "\u001b[1;31m---------------------------------------------------------------------------\u001b[0m",
      "\u001b[1;31mTypeError\u001b[0m                                 Traceback (most recent call last)",
      "\u001b[1;32m<ipython-input-58-b630a364db0b>\u001b[0m in \u001b[0;36m<module>\u001b[1;34m\u001b[0m\n\u001b[1;32m----> 1\u001b[1;33m \u001b[0ml2\u001b[0m\u001b[1;33m[\u001b[0m\u001b[1;36m1\u001b[0m\u001b[1;33m]\u001b[0m\u001b[1;33m[\u001b[0m\u001b[1;36m1\u001b[0m\u001b[1;33m]\u001b[0m\u001b[1;33m\u001b[0m\u001b[1;33m\u001b[0m\u001b[0m\n\u001b[0m",
      "\u001b[1;31mTypeError\u001b[0m: 'float' object is not subscriptable"
     ]
    }
   ],
   "source": [
    "l2[1][1]"
   ]
  },
  {
   "cell_type": "code",
   "execution_count": 59,
   "id": "6213a434",
   "metadata": {},
   "outputs": [
    {
     "data": {
      "text/plain": [
       "1"
      ]
     },
     "execution_count": 59,
     "metadata": {},
     "output_type": "execute_result"
    }
   ],
   "source": [
    "l2.count(48)"
   ]
  },
  {
   "cell_type": "code",
   "execution_count": 60,
   "id": "07a4a679",
   "metadata": {},
   "outputs": [
    {
     "data": {
      "text/plain": [
       "0"
      ]
     },
     "execution_count": 60,
     "metadata": {},
     "output_type": "execute_result"
    }
   ],
   "source": [
    "l2.count('kdhf')"
   ]
  },
  {
   "cell_type": "code",
   "execution_count": 66,
   "id": "d4cde9c5",
   "metadata": {},
   "outputs": [],
   "source": [
    "l2.append([2,3,5,6]) #Do not unwrap the list. it directly add the list as it is."
   ]
  },
  {
   "cell_type": "code",
   "execution_count": 67,
   "id": "e59a7801",
   "metadata": {},
   "outputs": [
    {
     "data": {
      "text/plain": [
       "[[48939], 8327.835, 48, 48939, 'udfsh', 'agf', [2, 3, 5, 6], [2, 3, 5, 6]]"
      ]
     },
     "execution_count": 67,
     "metadata": {},
     "output_type": "execute_result"
    }
   ],
   "source": [
    "l2"
   ]
  },
  {
   "cell_type": "code",
   "execution_count": 68,
   "id": "07c663e8",
   "metadata": {},
   "outputs": [
    {
     "data": {
      "text/plain": [
       "['Penn', 'sudh', 32746, 2, 3, 4, 6, 'dshgf']"
      ]
     },
     "execution_count": 68,
     "metadata": {},
     "output_type": "execute_result"
    }
   ],
   "source": [
    "l1"
   ]
  },
  {
   "cell_type": "code",
   "execution_count": 69,
   "id": "dd946d74",
   "metadata": {},
   "outputs": [],
   "source": [
    "l1.extend([2,3,4,6,'dshgf']) #Unravels the whole list and performs concatenation"
   ]
  },
  {
   "cell_type": "code",
   "execution_count": 65,
   "id": "e9d5d844",
   "metadata": {},
   "outputs": [
    {
     "data": {
      "text/plain": [
       "['Penn', 'sudh', 32746, 2, 3, 4, 6, 'dshgf']"
      ]
     },
     "execution_count": 65,
     "metadata": {},
     "output_type": "execute_result"
    }
   ],
   "source": [
    "l1"
   ]
  },
  {
   "cell_type": "code",
   "execution_count": null,
   "id": "e9fec46c",
   "metadata": {},
   "outputs": [],
   "source": []
  }
 ],
 "metadata": {
  "kernelspec": {
   "display_name": "Python 3",
   "language": "python",
   "name": "python3"
  },
  "language_info": {
   "codemirror_mode": {
    "name": "ipython",
    "version": 3
   },
   "file_extension": ".py",
   "mimetype": "text/x-python",
   "name": "python",
   "nbconvert_exporter": "python",
   "pygments_lexer": "ipython3",
   "version": "3.8.8"
  }
 },
 "nbformat": 4,
 "nbformat_minor": 5
}
